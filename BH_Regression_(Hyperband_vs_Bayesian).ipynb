{
  "nbformat": 4,
  "nbformat_minor": 0,
  "metadata": {
    "colab": {
      "name": "BH Regression (Hyperband vs Bayesian).ipynb",
      "provenance": [],
      "collapsed_sections": [],
      "mount_file_id": "1SQv7chzyN4LevqIUJibBIWV7HCPRnfpI",
      "authorship_tag": "ABX9TyNPNvZPYYmjrQPDr8Ao5AO6",
      "include_colab_link": true
    },
    "kernelspec": {
      "name": "python3",
      "display_name": "Python 3"
    },
    "accelerator": "GPU"
  },
  "cells": [
    {
      "cell_type": "markdown",
      "metadata": {
        "id": "view-in-github",
        "colab_type": "text"
      },
      "source": [
        "<a href=\"https://colab.research.google.com/github/rahulroynit/Bayesian-vs-Hyperband-Optimization/blob/master/BH_Regression_(Hyperband_vs_Bayesian).ipynb\" target=\"_parent\"><img src=\"https://colab.research.google.com/assets/colab-badge.svg\" alt=\"Open In Colab\"/></a>"
      ]
    },
    {
      "cell_type": "code",
      "metadata": {
        "id": "kkKRH0HCrMu9",
        "colab_type": "code",
        "colab": {}
      },
      "source": [
        "# create set up for installing kerastuner\n",
        "# installation needed only once\n",
        "import os, sys\n",
        "lib_path = '/content/libraries'\n",
        "os.symlink('/content/drive/My Drive/Colab Notebooks', lib_path)\n",
        "sys.path.insert(0, lib_path)"
      ],
      "execution_count": null,
      "outputs": []
    },
    {
      "cell_type": "code",
      "metadata": {
        "id": "hAPKMKsYs-hE",
        "colab_type": "code",
        "colab": {}
      },
      "source": [
        "# install keras-tuner\n",
        "# needs to be run once for permanent installation in colab\n",
        "!pip install --target=$lib_path keras-tuner"
      ],
      "execution_count": null,
      "outputs": []
    },
    {
      "cell_type": "code",
      "metadata": {
        "id": "eH25TdmopkY-",
        "colab_type": "code",
        "colab": {
          "base_uri": "https://localhost:8080/",
          "height": 52
        },
        "outputId": "5d35d6e3-2dc7-456b-a3e8-7827a5e85a72"
      },
      "source": [
        "# import dependencies\n",
        "from tensorflow import keras\n",
        "from tensorflow.keras.models import Sequential\n",
        "from tensorflow.keras.layers import Dense, Dropout, Activation, BatchNormalization\n",
        "from tensorflow.keras.callbacks import TensorBoard, EarlyStopping\n",
        "from tensorflow.keras.optimizers import Adam\n",
        "from kerastuner.tuners import Hyperband, BayesianOptimization\n",
        "from kerastuner import HyperModel\n",
        "from keras.datasets import boston_housing \n",
        "from sklearn.preprocessing import MinMaxScaler\n",
        "import pandas as pd\n",
        "import numpy as np\n",
        "import datetime\n",
        "%load_ext tensorboard\n",
        "pd.set_option('display.max_columns', None)"
      ],
      "execution_count": 30,
      "outputs": [
        {
          "output_type": "stream",
          "text": [
            "The tensorboard extension is already loaded. To reload it, use:\n",
            "  %reload_ext tensorboard\n"
          ],
          "name": "stdout"
        }
      ]
    },
    {
      "cell_type": "code",
      "metadata": {
        "id": "PEvEN-Mgq--M",
        "colab_type": "code",
        "colab": {}
      },
      "source": [
        "# load dataset into train and evaluation data\n",
        "# evaluation data will be split into test and valid data\n",
        "(X_train, y_train), (X_eval, y_eval) = boston_housing.load_data()"
      ],
      "execution_count": 31,
      "outputs": []
    },
    {
      "cell_type": "code",
      "metadata": {
        "id": "0RffHuJsrNQJ",
        "colab_type": "code",
        "colab": {
          "base_uri": "https://localhost:8080/",
          "height": 34
        },
        "outputId": "9d3ded90-b892-4a87-969b-4a4df036adc5"
      },
      "source": [
        "# query train data\n",
        "print(type(X_train), type(y_train))"
      ],
      "execution_count": 32,
      "outputs": [
        {
          "output_type": "stream",
          "text": [
            "<class 'numpy.ndarray'> <class 'numpy.ndarray'>\n"
          ],
          "name": "stdout"
        }
      ]
    },
    {
      "cell_type": "code",
      "metadata": {
        "id": "EdmqPNTcrgxN",
        "colab_type": "code",
        "colab": {
          "base_uri": "https://localhost:8080/",
          "height": 52
        },
        "outputId": "cc0e0e86-dbea-42c3-f5aa-cfc77cff5285"
      },
      "source": [
        "# check dims of train and eval data\n",
        "print('dims of train and eval data')\n",
        "print(X_train.shape, X_eval.shape)"
      ],
      "execution_count": 33,
      "outputs": [
        {
          "output_type": "stream",
          "text": [
            "dims of train and eval data\n",
            "(404, 13) (102, 13)\n"
          ],
          "name": "stdout"
        }
      ]
    },
    {
      "cell_type": "code",
      "metadata": {
        "id": "QJcEIP0CwwXs",
        "colab_type": "code",
        "colab": {
          "base_uri": "https://localhost:8080/",
          "height": 390
        },
        "outputId": "c880541f-6a56-4288-9e3d-eabd3add3196"
      },
      "source": [
        "# check train data info\n",
        "print(pd.DataFrame(X_train).info())"
      ],
      "execution_count": 34,
      "outputs": [
        {
          "output_type": "stream",
          "text": [
            "<class 'pandas.core.frame.DataFrame'>\n",
            "RangeIndex: 404 entries, 0 to 403\n",
            "Data columns (total 13 columns):\n",
            " #   Column  Non-Null Count  Dtype  \n",
            "---  ------  --------------  -----  \n",
            " 0   0       404 non-null    float64\n",
            " 1   1       404 non-null    float64\n",
            " 2   2       404 non-null    float64\n",
            " 3   3       404 non-null    float64\n",
            " 4   4       404 non-null    float64\n",
            " 5   5       404 non-null    float64\n",
            " 6   6       404 non-null    float64\n",
            " 7   7       404 non-null    float64\n",
            " 8   8       404 non-null    float64\n",
            " 9   9       404 non-null    float64\n",
            " 10  10      404 non-null    float64\n",
            " 11  11      404 non-null    float64\n",
            " 12  12      404 non-null    float64\n",
            "dtypes: float64(13)\n",
            "memory usage: 41.2 KB\n",
            "None\n"
          ],
          "name": "stdout"
        }
      ]
    },
    {
      "cell_type": "code",
      "metadata": {
        "id": "ETaPQbQoRob6",
        "colab_type": "code",
        "colab": {
          "base_uri": "https://localhost:8080/",
          "height": 354
        },
        "outputId": "d4c315d5-ba37-4bec-ffa5-8d4a70e3439b"
      },
      "source": [
        "# query train data samples\n",
        "print(pd.DataFrame(X_train).head())\n",
        "print(pd.DataFrame(y_train).head())"
      ],
      "execution_count": 35,
      "outputs": [
        {
          "output_type": "stream",
          "text": [
            "         0     1      2    3      4      5      6       7     8      9    10  \\\n",
            "0  1.23247   0.0   8.14  0.0  0.538  6.142   91.7  3.9769   4.0  307.0  21.0   \n",
            "1  0.02177  82.5   2.03  0.0  0.415  7.610   15.7  6.2700   2.0  348.0  14.7   \n",
            "2  4.89822   0.0  18.10  0.0  0.631  4.970  100.0  1.3325  24.0  666.0  20.2   \n",
            "3  0.03961   0.0   5.19  0.0  0.515  6.037   34.5  5.9853   5.0  224.0  20.2   \n",
            "4  3.69311   0.0  18.10  0.0  0.713  6.376   88.4  2.5671  24.0  666.0  20.2   \n",
            "\n",
            "       11     12  \n",
            "0  396.90  18.72  \n",
            "1  395.38   3.11  \n",
            "2  375.52   3.26  \n",
            "3  396.90   8.01  \n",
            "4  391.43  14.65  \n",
            "      0\n",
            "0  15.2\n",
            "1  42.3\n",
            "2  50.0\n",
            "3  21.1\n",
            "4  17.7\n"
          ],
          "name": "stdout"
        }
      ]
    },
    {
      "cell_type": "code",
      "metadata": {
        "id": "X1ZoxV7e14JI",
        "colab_type": "code",
        "colab": {}
      },
      "source": [
        "# split evaluation data into validation and test samples\n",
        "from sklearn.model_selection import train_test_split\n",
        "X_test, X_valid, y_test, y_valid = train_test_split(X_eval, y_eval, test_size = 0.5)"
      ],
      "execution_count": 36,
      "outputs": []
    },
    {
      "cell_type": "code",
      "metadata": {
        "id": "uYFzrCOD83Mv",
        "colab_type": "code",
        "colab": {}
      },
      "source": [
        "# normalize data using min-max scaling\n",
        "# train, valid and test predictors are scaled using parameters of train predictors\n",
        "# train and valid target values are scaled using parameters of train target \n",
        "# test target not scaled as it will be used for performance comparison on unseen data\n",
        "# performance comparison to be done after unscaling predictions\n",
        "y_train = y_train.reshape((-1, 1))\n",
        "y_valid = y_valid.reshape((-1, 1))\n",
        "scaler_X, scaler_y = MinMaxScaler(), MinMaxScaler()\n",
        "scaler_X.fit(X_train)\n",
        "scaler_y.fit(y_train)\n",
        "X_train_array = np.array(scaler_X.transform(X_train))\n",
        "X_valid_array = np.array(scaler_X.transform(X_valid))\n",
        "X_test_array = np.array(scaler_X.transform(X_test))\n",
        "y_train_array = np.array(scaler_y.transform(y_train))\n",
        "y_valid_array = np.array(scaler_y.transform(y_valid))"
      ],
      "execution_count": 37,
      "outputs": []
    },
    {
      "cell_type": "code",
      "metadata": {
        "id": "Vtcs2N-c4dx6",
        "colab_type": "code",
        "colab": {
          "base_uri": "https://localhost:8080/",
          "height": 34
        },
        "outputId": "caf9ba07-f5f2-49a5-8cc0-6b1ab4106d42"
      },
      "source": [
        "# check shape of validation data\n",
        "print(X_valid_array.shape, y_valid_array.shape)"
      ],
      "execution_count": 38,
      "outputs": [
        {
          "output_type": "stream",
          "text": [
            "(51, 13) (51, 1)\n"
          ],
          "name": "stdout"
        }
      ]
    },
    {
      "cell_type": "code",
      "metadata": {
        "id": "_jJ_8SJP9CZ-",
        "colab_type": "code",
        "colab": {
          "base_uri": "https://localhost:8080/",
          "height": 52
        },
        "outputId": "7557b5a1-92d6-4df3-ffb1-155fa4c03c0a"
      },
      "source": [
        "# check test data shape\n",
        "# test target should be rank-1 array, i.e., of the form: (N, )\n",
        "print(type(X_test), type(y_test))\n",
        "print(X_test.shape, y_test.shape)"
      ],
      "execution_count": 39,
      "outputs": [
        {
          "output_type": "stream",
          "text": [
            "<class 'numpy.ndarray'> <class 'numpy.ndarray'>\n",
            "(51, 13) (51,)\n"
          ],
          "name": "stdout"
        }
      ]
    },
    {
      "cell_type": "code",
      "metadata": {
        "id": "3oe5BdZdSXbH",
        "colab_type": "code",
        "colab": {}
      },
      "source": [
        "# define model build\n",
        "# define tunable hyperparameters using suitable hyperparameter types\n",
        "# tunable hyperparameters in model: layers, neurons, dropout, learning rate\n",
        "def build_model(hp):\n",
        "  model = Sequential()\n",
        "  model.add(Dense(units = hp.Int(\"dense_input\", min_value = 32, max_value = 128, step = 32),\n",
        "                                 input_shape = (X_train_array.shape[1],)))\n",
        "  model.add(BatchNormalization())\n",
        "  model.add(Activation(\"relu\"))\n",
        "  model.add(Dropout(hp.Float(\"drop_input\", min_value = 0, max_value = 0.3, step = 0.1)))\n",
        "  for i in range(hp.Int(\"num_intermediate_layers\", 1, 3)):\n",
        "    model.add(Dense(units = hp.Int(f'dense_{i}', min_value = 32, max_value = 128, step = 32)))\n",
        "    model.add(BatchNormalization())\n",
        "    model.add(Dropout(hp.Float(f'drop_{i}', min_value = 0, max_value = 0.3, step = 0.1)))\n",
        "  model.add(Dense(1))\n",
        "  model.compile(optimizer = Adam(learning_rate = hp.Float('lr', min_value = 0.0001, max_value = 0.01, sampling = \"LOG\", \n",
        "                                                          default = 0.01)), \n",
        "                loss = \"mse\", metrics = [\"mae\"])\n",
        "  return(model)"
      ],
      "execution_count": 40,
      "outputs": []
    },
    {
      "cell_type": "code",
      "metadata": {
        "id": "QRhYVte10t37",
        "colab_type": "code",
        "colab": {}
      },
      "source": [
        "## set up tensorboard\n",
        "# clear logs from previous runs\n",
        "!rm -rf ./logs/\n",
        "# set up path where logs of tensorboard will be saved\n",
        "# datetime suffix makes the logs unique\n",
        "path = \"logs/BH/\" + datetime.datetime.utcnow().strftime(\"%Y-%m-%d %H:%M:%S\")\n",
        "tensorboard = TensorBoard(log_dir = path, histogram_freq = 1) "
      ],
      "execution_count": 41,
      "outputs": []
    },
    {
      "cell_type": "code",
      "metadata": {
        "id": "4rPLyCXA0_LW",
        "colab_type": "code",
        "colab": {}
      },
      "source": [
        "# select tuner for hyperparameter tuning (BayesianOptimization (BO) or Hyperband (HB))\n",
        "tuner_choice = \"HB\"\n",
        "# set max_trials (trials) for BO and max_epochs (ep) for HB\n",
        "trials, ep = 10, 50\n",
        "# set batch size\n",
        "bs = 32"
      ],
      "execution_count": 43,
      "outputs": []
    },
    {
      "cell_type": "code",
      "metadata": {
        "id": "kl0T30Ok8DNw",
        "colab_type": "code",
        "colab": {}
      },
      "source": [
        "# set up tuner\n",
        "if tuner_choice == \"BO\":\n",
        "  tuner = BayesianOptimization(build_model, objective = \"val_mae\", max_trials = trials, executions_per_trial = 2, \n",
        "                               seed = 2020, project_name = \"bo_tuning\", overwrite = True)\n",
        "else:\n",
        "  tuner = Hyperband(build_model, objective = \"val_mae\", max_epochs = ep, executions_per_trial = 2,\n",
        "                    seed = 2020, project_name = \"hb_tuning\", overwrite = True)"
      ],
      "execution_count": 45,
      "outputs": []
    },
    {
      "cell_type": "code",
      "metadata": {
        "id": "jCk3-LVj7bPd",
        "colab_type": "code",
        "colab": {
          "base_uri": "https://localhost:8080/",
          "height": 806
        },
        "outputId": "8da9209f-90a1-4fb8-f686-73a16eb4a986"
      },
      "source": [
        "# tuner search space summary\n",
        "print(tuner.search_space_summary())"
      ],
      "execution_count": 46,
      "outputs": [
        {
          "output_type": "display_data",
          "data": {
            "text/html": [
              "<span style=\"color:#4527A0\"><h1 style=\"font-size:18px\">Search space summary</h1></span>"
            ],
            "text/plain": [
              "<IPython.core.display.HTML object>"
            ]
          },
          "metadata": {
            "tags": []
          }
        },
        {
          "output_type": "display_data",
          "data": {
            "text/html": [
              "<span style=\"color:cyan\"> |-Default search space size: 6</span>"
            ],
            "text/plain": [
              "<IPython.core.display.HTML object>"
            ]
          },
          "metadata": {
            "tags": []
          }
        },
        {
          "output_type": "display_data",
          "data": {
            "text/html": [
              "<span style=\"color:#7E57C2\"><h2 style=\"font-size:16px\">dense_input (Int)</h2></span>"
            ],
            "text/plain": [
              "<IPython.core.display.HTML object>"
            ]
          },
          "metadata": {
            "tags": []
          }
        },
        {
          "output_type": "display_data",
          "data": {
            "text/html": [
              "<span style=\"color:cyan\"> |-default: None</span>"
            ],
            "text/plain": [
              "<IPython.core.display.HTML object>"
            ]
          },
          "metadata": {
            "tags": []
          }
        },
        {
          "output_type": "display_data",
          "data": {
            "text/html": [
              "<span style=\"color:blue\"> |-max_value: 128</span>"
            ],
            "text/plain": [
              "<IPython.core.display.HTML object>"
            ]
          },
          "metadata": {
            "tags": []
          }
        },
        {
          "output_type": "display_data",
          "data": {
            "text/html": [
              "<span style=\"color:cyan\"> |-min_value: 32</span>"
            ],
            "text/plain": [
              "<IPython.core.display.HTML object>"
            ]
          },
          "metadata": {
            "tags": []
          }
        },
        {
          "output_type": "display_data",
          "data": {
            "text/html": [
              "<span style=\"color:blue\"> |-sampling: None</span>"
            ],
            "text/plain": [
              "<IPython.core.display.HTML object>"
            ]
          },
          "metadata": {
            "tags": []
          }
        },
        {
          "output_type": "display_data",
          "data": {
            "text/html": [
              "<span style=\"color:cyan\"> |-step: 32</span>"
            ],
            "text/plain": [
              "<IPython.core.display.HTML object>"
            ]
          },
          "metadata": {
            "tags": []
          }
        },
        {
          "output_type": "display_data",
          "data": {
            "text/html": [
              "<span style=\"color:#7E57C2\"><h2 style=\"font-size:16px\">drop_input (Float)</h2></span>"
            ],
            "text/plain": [
              "<IPython.core.display.HTML object>"
            ]
          },
          "metadata": {
            "tags": []
          }
        },
        {
          "output_type": "display_data",
          "data": {
            "text/html": [
              "<span style=\"color:cyan\"> |-default: 0.0</span>"
            ],
            "text/plain": [
              "<IPython.core.display.HTML object>"
            ]
          },
          "metadata": {
            "tags": []
          }
        },
        {
          "output_type": "display_data",
          "data": {
            "text/html": [
              "<span style=\"color:blue\"> |-max_value: 0.3</span>"
            ],
            "text/plain": [
              "<IPython.core.display.HTML object>"
            ]
          },
          "metadata": {
            "tags": []
          }
        },
        {
          "output_type": "display_data",
          "data": {
            "text/html": [
              "<span style=\"color:cyan\"> |-min_value: 0.0</span>"
            ],
            "text/plain": [
              "<IPython.core.display.HTML object>"
            ]
          },
          "metadata": {
            "tags": []
          }
        },
        {
          "output_type": "display_data",
          "data": {
            "text/html": [
              "<span style=\"color:blue\"> |-sampling: None</span>"
            ],
            "text/plain": [
              "<IPython.core.display.HTML object>"
            ]
          },
          "metadata": {
            "tags": []
          }
        },
        {
          "output_type": "display_data",
          "data": {
            "text/html": [
              "<span style=\"color:cyan\"> |-step: 0.1</span>"
            ],
            "text/plain": [
              "<IPython.core.display.HTML object>"
            ]
          },
          "metadata": {
            "tags": []
          }
        },
        {
          "output_type": "display_data",
          "data": {
            "text/html": [
              "<span style=\"color:#7E57C2\"><h2 style=\"font-size:16px\">num_intermediate_layers (Int)</h2></span>"
            ],
            "text/plain": [
              "<IPython.core.display.HTML object>"
            ]
          },
          "metadata": {
            "tags": []
          }
        },
        {
          "output_type": "display_data",
          "data": {
            "text/html": [
              "<span style=\"color:cyan\"> |-default: None</span>"
            ],
            "text/plain": [
              "<IPython.core.display.HTML object>"
            ]
          },
          "metadata": {
            "tags": []
          }
        },
        {
          "output_type": "display_data",
          "data": {
            "text/html": [
              "<span style=\"color:blue\"> |-max_value: 3</span>"
            ],
            "text/plain": [
              "<IPython.core.display.HTML object>"
            ]
          },
          "metadata": {
            "tags": []
          }
        },
        {
          "output_type": "display_data",
          "data": {
            "text/html": [
              "<span style=\"color:cyan\"> |-min_value: 1</span>"
            ],
            "text/plain": [
              "<IPython.core.display.HTML object>"
            ]
          },
          "metadata": {
            "tags": []
          }
        },
        {
          "output_type": "display_data",
          "data": {
            "text/html": [
              "<span style=\"color:blue\"> |-sampling: None</span>"
            ],
            "text/plain": [
              "<IPython.core.display.HTML object>"
            ]
          },
          "metadata": {
            "tags": []
          }
        },
        {
          "output_type": "display_data",
          "data": {
            "text/html": [
              "<span style=\"color:cyan\"> |-step: 1</span>"
            ],
            "text/plain": [
              "<IPython.core.display.HTML object>"
            ]
          },
          "metadata": {
            "tags": []
          }
        },
        {
          "output_type": "display_data",
          "data": {
            "text/html": [
              "<span style=\"color:#7E57C2\"><h2 style=\"font-size:16px\">dense_0 (Int)</h2></span>"
            ],
            "text/plain": [
              "<IPython.core.display.HTML object>"
            ]
          },
          "metadata": {
            "tags": []
          }
        },
        {
          "output_type": "display_data",
          "data": {
            "text/html": [
              "<span style=\"color:cyan\"> |-default: None</span>"
            ],
            "text/plain": [
              "<IPython.core.display.HTML object>"
            ]
          },
          "metadata": {
            "tags": []
          }
        },
        {
          "output_type": "display_data",
          "data": {
            "text/html": [
              "<span style=\"color:blue\"> |-max_value: 128</span>"
            ],
            "text/plain": [
              "<IPython.core.display.HTML object>"
            ]
          },
          "metadata": {
            "tags": []
          }
        },
        {
          "output_type": "display_data",
          "data": {
            "text/html": [
              "<span style=\"color:cyan\"> |-min_value: 32</span>"
            ],
            "text/plain": [
              "<IPython.core.display.HTML object>"
            ]
          },
          "metadata": {
            "tags": []
          }
        },
        {
          "output_type": "display_data",
          "data": {
            "text/html": [
              "<span style=\"color:blue\"> |-sampling: None</span>"
            ],
            "text/plain": [
              "<IPython.core.display.HTML object>"
            ]
          },
          "metadata": {
            "tags": []
          }
        },
        {
          "output_type": "display_data",
          "data": {
            "text/html": [
              "<span style=\"color:cyan\"> |-step: 32</span>"
            ],
            "text/plain": [
              "<IPython.core.display.HTML object>"
            ]
          },
          "metadata": {
            "tags": []
          }
        },
        {
          "output_type": "display_data",
          "data": {
            "text/html": [
              "<span style=\"color:#7E57C2\"><h2 style=\"font-size:16px\">drop_0 (Float)</h2></span>"
            ],
            "text/plain": [
              "<IPython.core.display.HTML object>"
            ]
          },
          "metadata": {
            "tags": []
          }
        },
        {
          "output_type": "display_data",
          "data": {
            "text/html": [
              "<span style=\"color:cyan\"> |-default: 0.0</span>"
            ],
            "text/plain": [
              "<IPython.core.display.HTML object>"
            ]
          },
          "metadata": {
            "tags": []
          }
        },
        {
          "output_type": "display_data",
          "data": {
            "text/html": [
              "<span style=\"color:blue\"> |-max_value: 0.3</span>"
            ],
            "text/plain": [
              "<IPython.core.display.HTML object>"
            ]
          },
          "metadata": {
            "tags": []
          }
        },
        {
          "output_type": "display_data",
          "data": {
            "text/html": [
              "<span style=\"color:cyan\"> |-min_value: 0.0</span>"
            ],
            "text/plain": [
              "<IPython.core.display.HTML object>"
            ]
          },
          "metadata": {
            "tags": []
          }
        },
        {
          "output_type": "display_data",
          "data": {
            "text/html": [
              "<span style=\"color:blue\"> |-sampling: None</span>"
            ],
            "text/plain": [
              "<IPython.core.display.HTML object>"
            ]
          },
          "metadata": {
            "tags": []
          }
        },
        {
          "output_type": "display_data",
          "data": {
            "text/html": [
              "<span style=\"color:cyan\"> |-step: 0.1</span>"
            ],
            "text/plain": [
              "<IPython.core.display.HTML object>"
            ]
          },
          "metadata": {
            "tags": []
          }
        },
        {
          "output_type": "display_data",
          "data": {
            "text/html": [
              "<span style=\"color:#7E57C2\"><h2 style=\"font-size:16px\">lr (Float)</h2></span>"
            ],
            "text/plain": [
              "<IPython.core.display.HTML object>"
            ]
          },
          "metadata": {
            "tags": []
          }
        },
        {
          "output_type": "display_data",
          "data": {
            "text/html": [
              "<span style=\"color:cyan\"> |-default: 0.01</span>"
            ],
            "text/plain": [
              "<IPython.core.display.HTML object>"
            ]
          },
          "metadata": {
            "tags": []
          }
        },
        {
          "output_type": "display_data",
          "data": {
            "text/html": [
              "<span style=\"color:blue\"> |-max_value: 0.01</span>"
            ],
            "text/plain": [
              "<IPython.core.display.HTML object>"
            ]
          },
          "metadata": {
            "tags": []
          }
        },
        {
          "output_type": "display_data",
          "data": {
            "text/html": [
              "<span style=\"color:cyan\"> |-min_value: 0.0001</span>"
            ],
            "text/plain": [
              "<IPython.core.display.HTML object>"
            ]
          },
          "metadata": {
            "tags": []
          }
        },
        {
          "output_type": "display_data",
          "data": {
            "text/html": [
              "<span style=\"color:blue\"> |-sampling: log</span>"
            ],
            "text/plain": [
              "<IPython.core.display.HTML object>"
            ]
          },
          "metadata": {
            "tags": []
          }
        },
        {
          "output_type": "display_data",
          "data": {
            "text/html": [
              "<span style=\"color:cyan\"> |-step: None</span>"
            ],
            "text/plain": [
              "<IPython.core.display.HTML object>"
            ]
          },
          "metadata": {
            "tags": []
          }
        },
        {
          "output_type": "stream",
          "text": [
            "None\n"
          ],
          "name": "stdout"
        }
      ]
    },
    {
      "cell_type": "code",
      "metadata": {
        "id": "FjG56-Yiy684",
        "colab_type": "code",
        "colab": {
          "base_uri": "https://localhost:8080/",
          "height": 1000
        },
        "outputId": "f105e598-a2ed-4565-ed65-34c5ec6344d9"
      },
      "source": [
        "# optimize hyperparameters\n",
        "# we set up early stopping of tuning if validation loss doesn't improve after 5 epochs  \n",
        "tuner.search(x = X_train_array, y = y_train_array, batch_size = bs, epochs = ep, verbose = 1, validation_data = (X_valid_array, y_valid_array), \n",
        "             callbacks = [EarlyStopping('val_loss', patience = 5), tensorboard])"
      ],
      "execution_count": 47,
      "outputs": [
        {
          "output_type": "stream",
          "text": [
            "Epoch 1/2\n",
            "13/13 [==============================] - 0s 33ms/step - loss: 0.9232 - mae: 0.7446 - val_loss: 0.0975 - val_mae: 0.2536\n",
            "Epoch 2/2\n",
            "13/13 [==============================] - 0s 13ms/step - loss: 0.3806 - mae: 0.4861 - val_loss: 0.0557 - val_mae: 0.1808\n",
            "Epoch 1/2\n",
            "13/13 [==============================] - 0s 29ms/step - loss: 1.4711 - mae: 0.8696 - val_loss: 0.0799 - val_mae: 0.2292\n",
            "Epoch 2/2\n",
            "13/13 [==============================] - 0s 11ms/step - loss: 0.4698 - mae: 0.5268 - val_loss: 0.0720 - val_mae: 0.2104\n"
          ],
          "name": "stdout"
        },
        {
          "output_type": "display_data",
          "data": {
            "text/html": [
              "<span style=\"color:#4527A0\"><h1 style=\"font-size:18px\">Trial complete</h1></span>"
            ],
            "text/plain": [
              "<IPython.core.display.HTML object>"
            ]
          },
          "metadata": {
            "tags": []
          }
        },
        {
          "output_type": "display_data",
          "data": {
            "text/html": [
              "<span style=\"color:#4527A0\"><h1 style=\"font-size:18px\">Trial summary</h1></span>"
            ],
            "text/plain": [
              "<IPython.core.display.HTML object>"
            ]
          },
          "metadata": {
            "tags": []
          }
        },
        {
          "output_type": "display_data",
          "data": {
            "text/html": [
              "<span style=\"color:cyan\"> |-Trial ID: 11ac6def672a44df9db6d86a67e8f038</span>"
            ],
            "text/plain": [
              "<IPython.core.display.HTML object>"
            ]
          },
          "metadata": {
            "tags": []
          }
        },
        {
          "output_type": "display_data",
          "data": {
            "text/html": [
              "<span style=\"color:cyan\"> |-Score: 0.19559120386838913</span>"
            ],
            "text/plain": [
              "<IPython.core.display.HTML object>"
            ]
          },
          "metadata": {
            "tags": []
          }
        },
        {
          "output_type": "display_data",
          "data": {
            "text/html": [
              "<span style=\"color:cyan\"> |-Best step: 0</span>"
            ],
            "text/plain": [
              "<IPython.core.display.HTML object>"
            ]
          },
          "metadata": {
            "tags": []
          }
        },
        {
          "output_type": "display_data",
          "data": {
            "text/html": [
              "<span style=\"color:#7E57C2\"><h2 style=\"font-size:16px\">Hyperparameters:</h2></span>"
            ],
            "text/plain": [
              "<IPython.core.display.HTML object>"
            ]
          },
          "metadata": {
            "tags": []
          }
        },
        {
          "output_type": "display_data",
          "data": {
            "text/html": [
              "<span style=\"color:cyan\"> |-dense_0: 64</span>"
            ],
            "text/plain": [
              "<IPython.core.display.HTML object>"
            ]
          },
          "metadata": {
            "tags": []
          }
        },
        {
          "output_type": "display_data",
          "data": {
            "text/html": [
              "<span style=\"color:blue\"> |-dense_1: 32</span>"
            ],
            "text/plain": [
              "<IPython.core.display.HTML object>"
            ]
          },
          "metadata": {
            "tags": []
          }
        },
        {
          "output_type": "display_data",
          "data": {
            "text/html": [
              "<span style=\"color:cyan\"> |-dense_input: 96</span>"
            ],
            "text/plain": [
              "<IPython.core.display.HTML object>"
            ]
          },
          "metadata": {
            "tags": []
          }
        },
        {
          "output_type": "display_data",
          "data": {
            "text/html": [
              "<span style=\"color:blue\"> |-drop_0: 0.1</span>"
            ],
            "text/plain": [
              "<IPython.core.display.HTML object>"
            ]
          },
          "metadata": {
            "tags": []
          }
        },
        {
          "output_type": "display_data",
          "data": {
            "text/html": [
              "<span style=\"color:cyan\"> |-drop_1: 0.0</span>"
            ],
            "text/plain": [
              "<IPython.core.display.HTML object>"
            ]
          },
          "metadata": {
            "tags": []
          }
        },
        {
          "output_type": "display_data",
          "data": {
            "text/html": [
              "<span style=\"color:blue\"> |-drop_input: 0.30000000000000004</span>"
            ],
            "text/plain": [
              "<IPython.core.display.HTML object>"
            ]
          },
          "metadata": {
            "tags": []
          }
        },
        {
          "output_type": "display_data",
          "data": {
            "text/html": [
              "<span style=\"color:cyan\"> |-lr: 0.0013046810082496503</span>"
            ],
            "text/plain": [
              "<IPython.core.display.HTML object>"
            ]
          },
          "metadata": {
            "tags": []
          }
        },
        {
          "output_type": "display_data",
          "data": {
            "text/html": [
              "<span style=\"color:blue\"> |-num_intermediate_layers: 2</span>"
            ],
            "text/plain": [
              "<IPython.core.display.HTML object>"
            ]
          },
          "metadata": {
            "tags": []
          }
        },
        {
          "output_type": "display_data",
          "data": {
            "text/html": [
              "<span style=\"color:cyan\"> |-tuner/bracket: 3</span>"
            ],
            "text/plain": [
              "<IPython.core.display.HTML object>"
            ]
          },
          "metadata": {
            "tags": []
          }
        },
        {
          "output_type": "display_data",
          "data": {
            "text/html": [
              "<span style=\"color:blue\"> |-tuner/epochs: 2</span>"
            ],
            "text/plain": [
              "<IPython.core.display.HTML object>"
            ]
          },
          "metadata": {
            "tags": []
          }
        },
        {
          "output_type": "display_data",
          "data": {
            "text/html": [
              "<span style=\"color:cyan\"> |-tuner/initial_epoch: 0</span>"
            ],
            "text/plain": [
              "<IPython.core.display.HTML object>"
            ]
          },
          "metadata": {
            "tags": []
          }
        },
        {
          "output_type": "display_data",
          "data": {
            "text/html": [
              "<span style=\"color:blue\"> |-tuner/round: 0</span>"
            ],
            "text/plain": [
              "<IPython.core.display.HTML object>"
            ]
          },
          "metadata": {
            "tags": []
          }
        },
        {
          "output_type": "stream",
          "text": [
            "Epoch 1/2\n",
            "13/13 [==============================] - 0s 32ms/step - loss: 1.2823 - mae: 0.8687 - val_loss: 0.0607 - val_mae: 0.1787\n",
            "Epoch 2/2\n",
            "13/13 [==============================] - 0s 15ms/step - loss: 0.5609 - mae: 0.5636 - val_loss: 0.0478 - val_mae: 0.1660\n",
            "Epoch 1/2\n",
            "13/13 [==============================] - 0s 31ms/step - loss: 0.9060 - mae: 0.7088 - val_loss: 0.0512 - val_mae: 0.1802\n",
            "Epoch 2/2\n",
            "13/13 [==============================] - 0s 14ms/step - loss: 0.4380 - mae: 0.5071 - val_loss: 0.0324 - val_mae: 0.1302\n"
          ],
          "name": "stdout"
        },
        {
          "output_type": "display_data",
          "data": {
            "text/html": [
              "<span style=\"color:#4527A0\"><h1 style=\"font-size:18px\">Trial complete</h1></span>"
            ],
            "text/plain": [
              "<IPython.core.display.HTML object>"
            ]
          },
          "metadata": {
            "tags": []
          }
        },
        {
          "output_type": "display_data",
          "data": {
            "text/html": [
              "<span style=\"color:#4527A0\"><h1 style=\"font-size:18px\">Trial summary</h1></span>"
            ],
            "text/plain": [
              "<IPython.core.display.HTML object>"
            ]
          },
          "metadata": {
            "tags": []
          }
        },
        {
          "output_type": "display_data",
          "data": {
            "text/html": [
              "<span style=\"color:cyan\"> |-Trial ID: b9702cb182e03535bceebae7b6e864f4</span>"
            ],
            "text/plain": [
              "<IPython.core.display.HTML object>"
            ]
          },
          "metadata": {
            "tags": []
          }
        },
        {
          "output_type": "display_data",
          "data": {
            "text/html": [
              "<span style=\"color:cyan\"> |-Score: 0.14806785434484482</span>"
            ],
            "text/plain": [
              "<IPython.core.display.HTML object>"
            ]
          },
          "metadata": {
            "tags": []
          }
        },
        {
          "output_type": "display_data",
          "data": {
            "text/html": [
              "<span style=\"color:cyan\"> |-Best step: 0</span>"
            ],
            "text/plain": [
              "<IPython.core.display.HTML object>"
            ]
          },
          "metadata": {
            "tags": []
          }
        },
        {
          "output_type": "display_data",
          "data": {
            "text/html": [
              "<span style=\"color:#7E57C2\"><h2 style=\"font-size:16px\">Hyperparameters:</h2></span>"
            ],
            "text/plain": [
              "<IPython.core.display.HTML object>"
            ]
          },
          "metadata": {
            "tags": []
          }
        },
        {
          "output_type": "display_data",
          "data": {
            "text/html": [
              "<span style=\"color:cyan\"> |-dense_0: 96</span>"
            ],
            "text/plain": [
              "<IPython.core.display.HTML object>"
            ]
          },
          "metadata": {
            "tags": []
          }
        },
        {
          "output_type": "display_data",
          "data": {
            "text/html": [
              "<span style=\"color:blue\"> |-dense_1: 96</span>"
            ],
            "text/plain": [
              "<IPython.core.display.HTML object>"
            ]
          },
          "metadata": {
            "tags": []
          }
        },
        {
          "output_type": "display_data",
          "data": {
            "text/html": [
              "<span style=\"color:cyan\"> |-dense_input: 32</span>"
            ],
            "text/plain": [
              "<IPython.core.display.HTML object>"
            ]
          },
          "metadata": {
            "tags": []
          }
        },
        {
          "output_type": "display_data",
          "data": {
            "text/html": [
              "<span style=\"color:blue\"> |-drop_0: 0.1</span>"
            ],
            "text/plain": [
              "<IPython.core.display.HTML object>"
            ]
          },
          "metadata": {
            "tags": []
          }
        },
        {
          "output_type": "display_data",
          "data": {
            "text/html": [
              "<span style=\"color:cyan\"> |-drop_1: 0.1</span>"
            ],
            "text/plain": [
              "<IPython.core.display.HTML object>"
            ]
          },
          "metadata": {
            "tags": []
          }
        },
        {
          "output_type": "display_data",
          "data": {
            "text/html": [
              "<span style=\"color:blue\"> |-drop_input: 0.0</span>"
            ],
            "text/plain": [
              "<IPython.core.display.HTML object>"
            ]
          },
          "metadata": {
            "tags": []
          }
        },
        {
          "output_type": "display_data",
          "data": {
            "text/html": [
              "<span style=\"color:cyan\"> |-lr: 0.0021291840426046296</span>"
            ],
            "text/plain": [
              "<IPython.core.display.HTML object>"
            ]
          },
          "metadata": {
            "tags": []
          }
        },
        {
          "output_type": "display_data",
          "data": {
            "text/html": [
              "<span style=\"color:blue\"> |-num_intermediate_layers: 2</span>"
            ],
            "text/plain": [
              "<IPython.core.display.HTML object>"
            ]
          },
          "metadata": {
            "tags": []
          }
        },
        {
          "output_type": "display_data",
          "data": {
            "text/html": [
              "<span style=\"color:cyan\"> |-tuner/bracket: 3</span>"
            ],
            "text/plain": [
              "<IPython.core.display.HTML object>"
            ]
          },
          "metadata": {
            "tags": []
          }
        },
        {
          "output_type": "display_data",
          "data": {
            "text/html": [
              "<span style=\"color:blue\"> |-tuner/epochs: 2</span>"
            ],
            "text/plain": [
              "<IPython.core.display.HTML object>"
            ]
          },
          "metadata": {
            "tags": []
          }
        },
        {
          "output_type": "display_data",
          "data": {
            "text/html": [
              "<span style=\"color:cyan\"> |-tuner/initial_epoch: 0</span>"
            ],
            "text/plain": [
              "<IPython.core.display.HTML object>"
            ]
          },
          "metadata": {
            "tags": []
          }
        },
        {
          "output_type": "display_data",
          "data": {
            "text/html": [
              "<span style=\"color:blue\"> |-tuner/round: 0</span>"
            ],
            "text/plain": [
              "<IPython.core.display.HTML object>"
            ]
          },
          "metadata": {
            "tags": []
          }
        },
        {
          "output_type": "stream",
          "text": [
            "Epoch 1/2\n",
            "13/13 [==============================] - 0s 37ms/step - loss: 0.4471 - mae: 0.4556 - val_loss: 0.0735 - val_mae: 0.2149\n",
            "Epoch 2/2\n",
            "13/13 [==============================] - 0s 15ms/step - loss: 0.0557 - mae: 0.1798 - val_loss: 0.0353 - val_mae: 0.1385\n",
            "Epoch 1/2\n",
            "13/13 [==============================] - 0s 33ms/step - loss: 0.3445 - mae: 0.4109 - val_loss: 0.0413 - val_mae: 0.1516\n",
            "Epoch 2/2\n",
            "13/13 [==============================] - 0s 16ms/step - loss: 0.0563 - mae: 0.1797 - val_loss: 0.0321 - val_mae: 0.1304\n"
          ],
          "name": "stdout"
        },
        {
          "output_type": "display_data",
          "data": {
            "text/html": [
              "<span style=\"color:#4527A0\"><h1 style=\"font-size:18px\">Trial complete</h1></span>"
            ],
            "text/plain": [
              "<IPython.core.display.HTML object>"
            ]
          },
          "metadata": {
            "tags": []
          }
        },
        {
          "output_type": "display_data",
          "data": {
            "text/html": [
              "<span style=\"color:#4527A0\"><h1 style=\"font-size:18px\">Trial summary</h1></span>"
            ],
            "text/plain": [
              "<IPython.core.display.HTML object>"
            ]
          },
          "metadata": {
            "tags": []
          }
        },
        {
          "output_type": "display_data",
          "data": {
            "text/html": [
              "<span style=\"color:cyan\"> |-Trial ID: d05b2e8b919bc9f5b4b3dc8015708cba</span>"
            ],
            "text/plain": [
              "<IPython.core.display.HTML object>"
            ]
          },
          "metadata": {
            "tags": []
          }
        },
        {
          "output_type": "display_data",
          "data": {
            "text/html": [
              "<span style=\"color:cyan\"> |-Score: 0.13449841737747192</span>"
            ],
            "text/plain": [
              "<IPython.core.display.HTML object>"
            ]
          },
          "metadata": {
            "tags": []
          }
        },
        {
          "output_type": "display_data",
          "data": {
            "text/html": [
              "<span style=\"color:cyan\"> |-Best step: 0</span>"
            ],
            "text/plain": [
              "<IPython.core.display.HTML object>"
            ]
          },
          "metadata": {
            "tags": []
          }
        },
        {
          "output_type": "display_data",
          "data": {
            "text/html": [
              "<span style=\"color:#7E57C2\"><h2 style=\"font-size:16px\">Hyperparameters:</h2></span>"
            ],
            "text/plain": [
              "<IPython.core.display.HTML object>"
            ]
          },
          "metadata": {
            "tags": []
          }
        },
        {
          "output_type": "display_data",
          "data": {
            "text/html": [
              "<span style=\"color:cyan\"> |-dense_0: 64</span>"
            ],
            "text/plain": [
              "<IPython.core.display.HTML object>"
            ]
          },
          "metadata": {
            "tags": []
          }
        },
        {
          "output_type": "display_data",
          "data": {
            "text/html": [
              "<span style=\"color:blue\"> |-dense_1: 64</span>"
            ],
            "text/plain": [
              "<IPython.core.display.HTML object>"
            ]
          },
          "metadata": {
            "tags": []
          }
        },
        {
          "output_type": "display_data",
          "data": {
            "text/html": [
              "<span style=\"color:cyan\"> |-dense_2: 32</span>"
            ],
            "text/plain": [
              "<IPython.core.display.HTML object>"
            ]
          },
          "metadata": {
            "tags": []
          }
        },
        {
          "output_type": "display_data",
          "data": {
            "text/html": [
              "<span style=\"color:blue\"> |-dense_input: 32</span>"
            ],
            "text/plain": [
              "<IPython.core.display.HTML object>"
            ]
          },
          "metadata": {
            "tags": []
          }
        },
        {
          "output_type": "display_data",
          "data": {
            "text/html": [
              "<span style=\"color:cyan\"> |-drop_0: 0.0</span>"
            ],
            "text/plain": [
              "<IPython.core.display.HTML object>"
            ]
          },
          "metadata": {
            "tags": []
          }
        },
        {
          "output_type": "display_data",
          "data": {
            "text/html": [
              "<span style=\"color:blue\"> |-drop_1: 0.0</span>"
            ],
            "text/plain": [
              "<IPython.core.display.HTML object>"
            ]
          },
          "metadata": {
            "tags": []
          }
        },
        {
          "output_type": "display_data",
          "data": {
            "text/html": [
              "<span style=\"color:cyan\"> |-drop_2: 0.0</span>"
            ],
            "text/plain": [
              "<IPython.core.display.HTML object>"
            ]
          },
          "metadata": {
            "tags": []
          }
        },
        {
          "output_type": "display_data",
          "data": {
            "text/html": [
              "<span style=\"color:blue\"> |-drop_input: 0.2</span>"
            ],
            "text/plain": [
              "<IPython.core.display.HTML object>"
            ]
          },
          "metadata": {
            "tags": []
          }
        },
        {
          "output_type": "display_data",
          "data": {
            "text/html": [
              "<span style=\"color:cyan\"> |-lr: 0.008079775183819825</span>"
            ],
            "text/plain": [
              "<IPython.core.display.HTML object>"
            ]
          },
          "metadata": {
            "tags": []
          }
        },
        {
          "output_type": "display_data",
          "data": {
            "text/html": [
              "<span style=\"color:blue\"> |-num_intermediate_layers: 3</span>"
            ],
            "text/plain": [
              "<IPython.core.display.HTML object>"
            ]
          },
          "metadata": {
            "tags": []
          }
        },
        {
          "output_type": "display_data",
          "data": {
            "text/html": [
              "<span style=\"color:cyan\"> |-tuner/bracket: 3</span>"
            ],
            "text/plain": [
              "<IPython.core.display.HTML object>"
            ]
          },
          "metadata": {
            "tags": []
          }
        },
        {
          "output_type": "display_data",
          "data": {
            "text/html": [
              "<span style=\"color:blue\"> |-tuner/epochs: 2</span>"
            ],
            "text/plain": [
              "<IPython.core.display.HTML object>"
            ]
          },
          "metadata": {
            "tags": []
          }
        },
        {
          "output_type": "display_data",
          "data": {
            "text/html": [
              "<span style=\"color:cyan\"> |-tuner/initial_epoch: 0</span>"
            ],
            "text/plain": [
              "<IPython.core.display.HTML object>"
            ]
          },
          "metadata": {
            "tags": []
          }
        },
        {
          "output_type": "display_data",
          "data": {
            "text/html": [
              "<span style=\"color:blue\"> |-tuner/round: 0</span>"
            ],
            "text/plain": [
              "<IPython.core.display.HTML object>"
            ]
          },
          "metadata": {
            "tags": []
          }
        },
        {
          "output_type": "stream",
          "text": [
            "Epoch 1/2\n",
            "13/13 [==============================] - 0s 38ms/step - loss: 1.1634 - mae: 0.8002 - val_loss: 0.0724 - val_mae: 0.2195\n",
            "Epoch 2/2\n",
            "13/13 [==============================] - 0s 15ms/step - loss: 0.3907 - mae: 0.4912 - val_loss: 0.0514 - val_mae: 0.1708\n",
            "Epoch 1/2\n",
            "13/13 [==============================] - 0s 33ms/step - loss: 0.9977 - mae: 0.7374 - val_loss: 0.0798 - val_mae: 0.2239\n",
            "Epoch 2/2\n",
            "13/13 [==============================] - 0s 17ms/step - loss: 0.3623 - mae: 0.4567 - val_loss: 0.0418 - val_mae: 0.1527\n"
          ],
          "name": "stdout"
        },
        {
          "output_type": "display_data",
          "data": {
            "text/html": [
              "<span style=\"color:#4527A0\"><h1 style=\"font-size:18px\">Trial complete</h1></span>"
            ],
            "text/plain": [
              "<IPython.core.display.HTML object>"
            ]
          },
          "metadata": {
            "tags": []
          }
        },
        {
          "output_type": "display_data",
          "data": {
            "text/html": [
              "<span style=\"color:#4527A0\"><h1 style=\"font-size:18px\">Trial summary</h1></span>"
            ],
            "text/plain": [
              "<IPython.core.display.HTML object>"
            ]
          },
          "metadata": {
            "tags": []
          }
        },
        {
          "output_type": "display_data",
          "data": {
            "text/html": [
              "<span style=\"color:cyan\"> |-Trial ID: 657849782a62aa1a37e5104e3e4cf451</span>"
            ],
            "text/plain": [
              "<IPython.core.display.HTML object>"
            ]
          },
          "metadata": {
            "tags": []
          }
        },
        {
          "output_type": "display_data",
          "data": {
            "text/html": [
              "<span style=\"color:cyan\"> |-Score: 0.16178100556135178</span>"
            ],
            "text/plain": [
              "<IPython.core.display.HTML object>"
            ]
          },
          "metadata": {
            "tags": []
          }
        },
        {
          "output_type": "display_data",
          "data": {
            "text/html": [
              "<span style=\"color:cyan\"> |-Best step: 0</span>"
            ],
            "text/plain": [
              "<IPython.core.display.HTML object>"
            ]
          },
          "metadata": {
            "tags": []
          }
        },
        {
          "output_type": "display_data",
          "data": {
            "text/html": [
              "<span style=\"color:#7E57C2\"><h2 style=\"font-size:16px\">Hyperparameters:</h2></span>"
            ],
            "text/plain": [
              "<IPython.core.display.HTML object>"
            ]
          },
          "metadata": {
            "tags": []
          }
        },
        {
          "output_type": "display_data",
          "data": {
            "text/html": [
              "<span style=\"color:cyan\"> |-dense_0: 128</span>"
            ],
            "text/plain": [
              "<IPython.core.display.HTML object>"
            ]
          },
          "metadata": {
            "tags": []
          }
        },
        {
          "output_type": "display_data",
          "data": {
            "text/html": [
              "<span style=\"color:blue\"> |-dense_1: 64</span>"
            ],
            "text/plain": [
              "<IPython.core.display.HTML object>"
            ]
          },
          "metadata": {
            "tags": []
          }
        },
        {
          "output_type": "display_data",
          "data": {
            "text/html": [
              "<span style=\"color:cyan\"> |-dense_2: 96</span>"
            ],
            "text/plain": [
              "<IPython.core.display.HTML object>"
            ]
          },
          "metadata": {
            "tags": []
          }
        },
        {
          "output_type": "display_data",
          "data": {
            "text/html": [
              "<span style=\"color:blue\"> |-dense_input: 96</span>"
            ],
            "text/plain": [
              "<IPython.core.display.HTML object>"
            ]
          },
          "metadata": {
            "tags": []
          }
        },
        {
          "output_type": "display_data",
          "data": {
            "text/html": [
              "<span style=\"color:cyan\"> |-drop_0: 0.2</span>"
            ],
            "text/plain": [
              "<IPython.core.display.HTML object>"
            ]
          },
          "metadata": {
            "tags": []
          }
        },
        {
          "output_type": "display_data",
          "data": {
            "text/html": [
              "<span style=\"color:blue\"> |-drop_1: 0.2</span>"
            ],
            "text/plain": [
              "<IPython.core.display.HTML object>"
            ]
          },
          "metadata": {
            "tags": []
          }
        },
        {
          "output_type": "display_data",
          "data": {
            "text/html": [
              "<span style=\"color:cyan\"> |-drop_2: 0.1</span>"
            ],
            "text/plain": [
              "<IPython.core.display.HTML object>"
            ]
          },
          "metadata": {
            "tags": []
          }
        },
        {
          "output_type": "display_data",
          "data": {
            "text/html": [
              "<span style=\"color:blue\"> |-drop_input: 0.1</span>"
            ],
            "text/plain": [
              "<IPython.core.display.HTML object>"
            ]
          },
          "metadata": {
            "tags": []
          }
        },
        {
          "output_type": "display_data",
          "data": {
            "text/html": [
              "<span style=\"color:cyan\"> |-lr: 0.0018516864311851355</span>"
            ],
            "text/plain": [
              "<IPython.core.display.HTML object>"
            ]
          },
          "metadata": {
            "tags": []
          }
        },
        {
          "output_type": "display_data",
          "data": {
            "text/html": [
              "<span style=\"color:blue\"> |-num_intermediate_layers: 3</span>"
            ],
            "text/plain": [
              "<IPython.core.display.HTML object>"
            ]
          },
          "metadata": {
            "tags": []
          }
        },
        {
          "output_type": "display_data",
          "data": {
            "text/html": [
              "<span style=\"color:cyan\"> |-tuner/bracket: 3</span>"
            ],
            "text/plain": [
              "<IPython.core.display.HTML object>"
            ]
          },
          "metadata": {
            "tags": []
          }
        },
        {
          "output_type": "display_data",
          "data": {
            "text/html": [
              "<span style=\"color:blue\"> |-tuner/epochs: 2</span>"
            ],
            "text/plain": [
              "<IPython.core.display.HTML object>"
            ]
          },
          "metadata": {
            "tags": []
          }
        },
        {
          "output_type": "display_data",
          "data": {
            "text/html": [
              "<span style=\"color:cyan\"> |-tuner/initial_epoch: 0</span>"
            ],
            "text/plain": [
              "<IPython.core.display.HTML object>"
            ]
          },
          "metadata": {
            "tags": []
          }
        },
        {
          "output_type": "display_data",
          "data": {
            "text/html": [
              "<span style=\"color:blue\"> |-tuner/round: 0</span>"
            ],
            "text/plain": [
              "<IPython.core.display.HTML object>"
            ]
          },
          "metadata": {
            "tags": []
          }
        },
        {
          "output_type": "stream",
          "text": [
            "Epoch 1/2\n",
            "13/13 [==============================] - 0s 27ms/step - loss: 2.5115 - mae: 1.1398 - val_loss: 0.0519 - val_mae: 0.1658\n",
            "Epoch 2/2\n",
            "13/13 [==============================] - 0s 12ms/step - loss: 0.7597 - mae: 0.6652 - val_loss: 0.0288 - val_mae: 0.1293\n",
            "Epoch 1/2\n",
            "13/13 [==============================] - 0s 25ms/step - loss: 1.4950 - mae: 0.9013 - val_loss: 0.0816 - val_mae: 0.2337\n",
            "Epoch 2/2\n",
            "13/13 [==============================] - 0s 10ms/step - loss: 0.5450 - mae: 0.5747 - val_loss: 0.1107 - val_mae: 0.2765\n"
          ],
          "name": "stdout"
        },
        {
          "output_type": "display_data",
          "data": {
            "text/html": [
              "<span style=\"color:#4527A0\"><h1 style=\"font-size:18px\">Trial complete</h1></span>"
            ],
            "text/plain": [
              "<IPython.core.display.HTML object>"
            ]
          },
          "metadata": {
            "tags": []
          }
        },
        {
          "output_type": "display_data",
          "data": {
            "text/html": [
              "<span style=\"color:#4527A0\"><h1 style=\"font-size:18px\">Trial summary</h1></span>"
            ],
            "text/plain": [
              "<IPython.core.display.HTML object>"
            ]
          },
          "metadata": {
            "tags": []
          }
        },
        {
          "output_type": "display_data",
          "data": {
            "text/html": [
              "<span style=\"color:cyan\"> |-Trial ID: dc1029e8cba844ec1cbdf60bdf21be47</span>"
            ],
            "text/plain": [
              "<IPython.core.display.HTML object>"
            ]
          },
          "metadata": {
            "tags": []
          }
        },
        {
          "output_type": "display_data",
          "data": {
            "text/html": [
              "<span style=\"color:cyan\"> |-Score: 0.18151775747537613</span>"
            ],
            "text/plain": [
              "<IPython.core.display.HTML object>"
            ]
          },
          "metadata": {
            "tags": []
          }
        },
        {
          "output_type": "display_data",
          "data": {
            "text/html": [
              "<span style=\"color:cyan\"> |-Best step: 0</span>"
            ],
            "text/plain": [
              "<IPython.core.display.HTML object>"
            ]
          },
          "metadata": {
            "tags": []
          }
        },
        {
          "output_type": "display_data",
          "data": {
            "text/html": [
              "<span style=\"color:#7E57C2\"><h2 style=\"font-size:16px\">Hyperparameters:</h2></span>"
            ],
            "text/plain": [
              "<IPython.core.display.HTML object>"
            ]
          },
          "metadata": {
            "tags": []
          }
        },
        {
          "output_type": "display_data",
          "data": {
            "text/html": [
              "<span style=\"color:cyan\"> |-dense_0: 64</span>"
            ],
            "text/plain": [
              "<IPython.core.display.HTML object>"
            ]
          },
          "metadata": {
            "tags": []
          }
        },
        {
          "output_type": "display_data",
          "data": {
            "text/html": [
              "<span style=\"color:blue\"> |-dense_1: 32</span>"
            ],
            "text/plain": [
              "<IPython.core.display.HTML object>"
            ]
          },
          "metadata": {
            "tags": []
          }
        },
        {
          "output_type": "display_data",
          "data": {
            "text/html": [
              "<span style=\"color:cyan\"> |-dense_2: 96</span>"
            ],
            "text/plain": [
              "<IPython.core.display.HTML object>"
            ]
          },
          "metadata": {
            "tags": []
          }
        },
        {
          "output_type": "display_data",
          "data": {
            "text/html": [
              "<span style=\"color:blue\"> |-dense_input: 128</span>"
            ],
            "text/plain": [
              "<IPython.core.display.HTML object>"
            ]
          },
          "metadata": {
            "tags": []
          }
        },
        {
          "output_type": "display_data",
          "data": {
            "text/html": [
              "<span style=\"color:cyan\"> |-drop_0: 0.30000000000000004</span>"
            ],
            "text/plain": [
              "<IPython.core.display.HTML object>"
            ]
          },
          "metadata": {
            "tags": []
          }
        },
        {
          "output_type": "display_data",
          "data": {
            "text/html": [
              "<span style=\"color:blue\"> |-drop_1: 0.1</span>"
            ],
            "text/plain": [
              "<IPython.core.display.HTML object>"
            ]
          },
          "metadata": {
            "tags": []
          }
        },
        {
          "output_type": "display_data",
          "data": {
            "text/html": [
              "<span style=\"color:cyan\"> |-drop_2: 0.1</span>"
            ],
            "text/plain": [
              "<IPython.core.display.HTML object>"
            ]
          },
          "metadata": {
            "tags": []
          }
        },
        {
          "output_type": "display_data",
          "data": {
            "text/html": [
              "<span style=\"color:blue\"> |-drop_input: 0.1</span>"
            ],
            "text/plain": [
              "<IPython.core.display.HTML object>"
            ]
          },
          "metadata": {
            "tags": []
          }
        },
        {
          "output_type": "display_data",
          "data": {
            "text/html": [
              "<span style=\"color:cyan\"> |-lr: 0.007966173520751744</span>"
            ],
            "text/plain": [
              "<IPython.core.display.HTML object>"
            ]
          },
          "metadata": {
            "tags": []
          }
        },
        {
          "output_type": "display_data",
          "data": {
            "text/html": [
              "<span style=\"color:blue\"> |-num_intermediate_layers: 1</span>"
            ],
            "text/plain": [
              "<IPython.core.display.HTML object>"
            ]
          },
          "metadata": {
            "tags": []
          }
        },
        {
          "output_type": "display_data",
          "data": {
            "text/html": [
              "<span style=\"color:cyan\"> |-tuner/bracket: 3</span>"
            ],
            "text/plain": [
              "<IPython.core.display.HTML object>"
            ]
          },
          "metadata": {
            "tags": []
          }
        },
        {
          "output_type": "display_data",
          "data": {
            "text/html": [
              "<span style=\"color:blue\"> |-tuner/epochs: 2</span>"
            ],
            "text/plain": [
              "<IPython.core.display.HTML object>"
            ]
          },
          "metadata": {
            "tags": []
          }
        },
        {
          "output_type": "display_data",
          "data": {
            "text/html": [
              "<span style=\"color:cyan\"> |-tuner/initial_epoch: 0</span>"
            ],
            "text/plain": [
              "<IPython.core.display.HTML object>"
            ]
          },
          "metadata": {
            "tags": []
          }
        },
        {
          "output_type": "display_data",
          "data": {
            "text/html": [
              "<span style=\"color:blue\"> |-tuner/round: 0</span>"
            ],
            "text/plain": [
              "<IPython.core.display.HTML object>"
            ]
          },
          "metadata": {
            "tags": []
          }
        },
        {
          "output_type": "stream",
          "text": [
            "Epoch 1/2\n",
            "13/13 [==============================] - 0s 32ms/step - loss: 1.8801 - mae: 1.0556 - val_loss: 0.1905 - val_mae: 0.3937\n",
            "Epoch 2/2\n",
            "13/13 [==============================] - 0s 14ms/step - loss: 1.3454 - mae: 0.9335 - val_loss: 0.1712 - val_mae: 0.3740\n",
            "Epoch 1/2\n",
            "13/13 [==============================] - 0s 32ms/step - loss: 2.4447 - mae: 1.2547 - val_loss: 0.1861 - val_mae: 0.3657\n",
            "Epoch 2/2\n",
            "13/13 [==============================] - 0s 12ms/step - loss: 1.4566 - mae: 0.9440 - val_loss: 0.2416 - val_mae: 0.4356\n"
          ],
          "name": "stdout"
        },
        {
          "output_type": "display_data",
          "data": {
            "text/html": [
              "<span style=\"color:#4527A0\"><h1 style=\"font-size:18px\">Trial complete</h1></span>"
            ],
            "text/plain": [
              "<IPython.core.display.HTML object>"
            ]
          },
          "metadata": {
            "tags": []
          }
        },
        {
          "output_type": "display_data",
          "data": {
            "text/html": [
              "<span style=\"color:#4527A0\"><h1 style=\"font-size:18px\">Trial summary</h1></span>"
            ],
            "text/plain": [
              "<IPython.core.display.HTML object>"
            ]
          },
          "metadata": {
            "tags": []
          }
        },
        {
          "output_type": "display_data",
          "data": {
            "text/html": [
              "<span style=\"color:cyan\"> |-Trial ID: 8782e5b983edfadf4fe576b4d33f7321</span>"
            ],
            "text/plain": [
              "<IPython.core.display.HTML object>"
            ]
          },
          "metadata": {
            "tags": []
          }
        },
        {
          "output_type": "display_data",
          "data": {
            "text/html": [
              "<span style=\"color:cyan\"> |-Score: 0.369805172085762</span>"
            ],
            "text/plain": [
              "<IPython.core.display.HTML object>"
            ]
          },
          "metadata": {
            "tags": []
          }
        },
        {
          "output_type": "display_data",
          "data": {
            "text/html": [
              "<span style=\"color:cyan\"> |-Best step: 0</span>"
            ],
            "text/plain": [
              "<IPython.core.display.HTML object>"
            ]
          },
          "metadata": {
            "tags": []
          }
        },
        {
          "output_type": "display_data",
          "data": {
            "text/html": [
              "<span style=\"color:#7E57C2\"><h2 style=\"font-size:16px\">Hyperparameters:</h2></span>"
            ],
            "text/plain": [
              "<IPython.core.display.HTML object>"
            ]
          },
          "metadata": {
            "tags": []
          }
        },
        {
          "output_type": "display_data",
          "data": {
            "text/html": [
              "<span style=\"color:cyan\"> |-dense_0: 96</span>"
            ],
            "text/plain": [
              "<IPython.core.display.HTML object>"
            ]
          },
          "metadata": {
            "tags": []
          }
        },
        {
          "output_type": "display_data",
          "data": {
            "text/html": [
              "<span style=\"color:blue\"> |-dense_1: 96</span>"
            ],
            "text/plain": [
              "<IPython.core.display.HTML object>"
            ]
          },
          "metadata": {
            "tags": []
          }
        },
        {
          "output_type": "display_data",
          "data": {
            "text/html": [
              "<span style=\"color:cyan\"> |-dense_2: 64</span>"
            ],
            "text/plain": [
              "<IPython.core.display.HTML object>"
            ]
          },
          "metadata": {
            "tags": []
          }
        },
        {
          "output_type": "display_data",
          "data": {
            "text/html": [
              "<span style=\"color:blue\"> |-dense_input: 128</span>"
            ],
            "text/plain": [
              "<IPython.core.display.HTML object>"
            ]
          },
          "metadata": {
            "tags": []
          }
        },
        {
          "output_type": "display_data",
          "data": {
            "text/html": [
              "<span style=\"color:cyan\"> |-drop_0: 0.2</span>"
            ],
            "text/plain": [
              "<IPython.core.display.HTML object>"
            ]
          },
          "metadata": {
            "tags": []
          }
        },
        {
          "output_type": "display_data",
          "data": {
            "text/html": [
              "<span style=\"color:blue\"> |-drop_1: 0.1</span>"
            ],
            "text/plain": [
              "<IPython.core.display.HTML object>"
            ]
          },
          "metadata": {
            "tags": []
          }
        },
        {
          "output_type": "display_data",
          "data": {
            "text/html": [
              "<span style=\"color:cyan\"> |-drop_2: 0.0</span>"
            ],
            "text/plain": [
              "<IPython.core.display.HTML object>"
            ]
          },
          "metadata": {
            "tags": []
          }
        },
        {
          "output_type": "display_data",
          "data": {
            "text/html": [
              "<span style=\"color:blue\"> |-drop_input: 0.30000000000000004</span>"
            ],
            "text/plain": [
              "<IPython.core.display.HTML object>"
            ]
          },
          "metadata": {
            "tags": []
          }
        },
        {
          "output_type": "display_data",
          "data": {
            "text/html": [
              "<span style=\"color:cyan\"> |-lr: 0.0001524376130469971</span>"
            ],
            "text/plain": [
              "<IPython.core.display.HTML object>"
            ]
          },
          "metadata": {
            "tags": []
          }
        },
        {
          "output_type": "display_data",
          "data": {
            "text/html": [
              "<span style=\"color:blue\"> |-num_intermediate_layers: 2</span>"
            ],
            "text/plain": [
              "<IPython.core.display.HTML object>"
            ]
          },
          "metadata": {
            "tags": []
          }
        },
        {
          "output_type": "display_data",
          "data": {
            "text/html": [
              "<span style=\"color:cyan\"> |-tuner/bracket: 3</span>"
            ],
            "text/plain": [
              "<IPython.core.display.HTML object>"
            ]
          },
          "metadata": {
            "tags": []
          }
        },
        {
          "output_type": "display_data",
          "data": {
            "text/html": [
              "<span style=\"color:blue\"> |-tuner/epochs: 2</span>"
            ],
            "text/plain": [
              "<IPython.core.display.HTML object>"
            ]
          },
          "metadata": {
            "tags": []
          }
        },
        {
          "output_type": "display_data",
          "data": {
            "text/html": [
              "<span style=\"color:cyan\"> |-tuner/initial_epoch: 0</span>"
            ],
            "text/plain": [
              "<IPython.core.display.HTML object>"
            ]
          },
          "metadata": {
            "tags": []
          }
        },
        {
          "output_type": "display_data",
          "data": {
            "text/html": [
              "<span style=\"color:blue\"> |-tuner/round: 0</span>"
            ],
            "text/plain": [
              "<IPython.core.display.HTML object>"
            ]
          },
          "metadata": {
            "tags": []
          }
        },
        {
          "output_type": "stream",
          "text": [
            "Epoch 1/2\n",
            "13/13 [==============================] - 0s 31ms/step - loss: 1.3010 - mae: 0.8838 - val_loss: 0.1838 - val_mae: 0.3736\n",
            "Epoch 2/2\n",
            "13/13 [==============================] - 0s 15ms/step - loss: 0.6392 - mae: 0.6277 - val_loss: 0.0821 - val_mae: 0.2292\n",
            "Epoch 1/2\n",
            "13/13 [==============================] - 0s 29ms/step - loss: 1.5228 - mae: 0.9364 - val_loss: 0.1260 - val_mae: 0.2997\n",
            "Epoch 2/2\n",
            "13/13 [==============================] - 0s 12ms/step - loss: 0.7835 - mae: 0.6730 - val_loss: 0.1126 - val_mae: 0.2790\n"
          ],
          "name": "stdout"
        },
        {
          "output_type": "display_data",
          "data": {
            "text/html": [
              "<span style=\"color:#4527A0\"><h1 style=\"font-size:18px\">Trial complete</h1></span>"
            ],
            "text/plain": [
              "<IPython.core.display.HTML object>"
            ]
          },
          "metadata": {
            "tags": []
          }
        },
        {
          "output_type": "display_data",
          "data": {
            "text/html": [
              "<span style=\"color:#4527A0\"><h1 style=\"font-size:18px\">Trial summary</h1></span>"
            ],
            "text/plain": [
              "<IPython.core.display.HTML object>"
            ]
          },
          "metadata": {
            "tags": []
          }
        },
        {
          "output_type": "display_data",
          "data": {
            "text/html": [
              "<span style=\"color:cyan\"> |-Trial ID: 8b5eb994c548d02d2ed9499f5fedd5ac</span>"
            ],
            "text/plain": [
              "<IPython.core.display.HTML object>"
            ]
          },
          "metadata": {
            "tags": []
          }
        },
        {
          "output_type": "display_data",
          "data": {
            "text/html": [
              "<span style=\"color:cyan\"> |-Score: 0.254076786339283</span>"
            ],
            "text/plain": [
              "<IPython.core.display.HTML object>"
            ]
          },
          "metadata": {
            "tags": []
          }
        },
        {
          "output_type": "display_data",
          "data": {
            "text/html": [
              "<span style=\"color:cyan\"> |-Best step: 0</span>"
            ],
            "text/plain": [
              "<IPython.core.display.HTML object>"
            ]
          },
          "metadata": {
            "tags": []
          }
        },
        {
          "output_type": "display_data",
          "data": {
            "text/html": [
              "<span style=\"color:#7E57C2\"><h2 style=\"font-size:16px\">Hyperparameters:</h2></span>"
            ],
            "text/plain": [
              "<IPython.core.display.HTML object>"
            ]
          },
          "metadata": {
            "tags": []
          }
        },
        {
          "output_type": "display_data",
          "data": {
            "text/html": [
              "<span style=\"color:cyan\"> |-dense_0: 128</span>"
            ],
            "text/plain": [
              "<IPython.core.display.HTML object>"
            ]
          },
          "metadata": {
            "tags": []
          }
        },
        {
          "output_type": "display_data",
          "data": {
            "text/html": [
              "<span style=\"color:blue\"> |-dense_1: 128</span>"
            ],
            "text/plain": [
              "<IPython.core.display.HTML object>"
            ]
          },
          "metadata": {
            "tags": []
          }
        },
        {
          "output_type": "display_data",
          "data": {
            "text/html": [
              "<span style=\"color:cyan\"> |-dense_2: 32</span>"
            ],
            "text/plain": [
              "<IPython.core.display.HTML object>"
            ]
          },
          "metadata": {
            "tags": []
          }
        },
        {
          "output_type": "display_data",
          "data": {
            "text/html": [
              "<span style=\"color:blue\"> |-dense_input: 64</span>"
            ],
            "text/plain": [
              "<IPython.core.display.HTML object>"
            ]
          },
          "metadata": {
            "tags": []
          }
        },
        {
          "output_type": "display_data",
          "data": {
            "text/html": [
              "<span style=\"color:cyan\"> |-drop_0: 0.1</span>"
            ],
            "text/plain": [
              "<IPython.core.display.HTML object>"
            ]
          },
          "metadata": {
            "tags": []
          }
        },
        {
          "output_type": "display_data",
          "data": {
            "text/html": [
              "<span style=\"color:blue\"> |-drop_1: 0.1</span>"
            ],
            "text/plain": [
              "<IPython.core.display.HTML object>"
            ]
          },
          "metadata": {
            "tags": []
          }
        },
        {
          "output_type": "display_data",
          "data": {
            "text/html": [
              "<span style=\"color:cyan\"> |-drop_2: 0.1</span>"
            ],
            "text/plain": [
              "<IPython.core.display.HTML object>"
            ]
          },
          "metadata": {
            "tags": []
          }
        },
        {
          "output_type": "display_data",
          "data": {
            "text/html": [
              "<span style=\"color:blue\"> |-drop_input: 0.30000000000000004</span>"
            ],
            "text/plain": [
              "<IPython.core.display.HTML object>"
            ]
          },
          "metadata": {
            "tags": []
          }
        },
        {
          "output_type": "display_data",
          "data": {
            "text/html": [
              "<span style=\"color:cyan\"> |-lr: 0.0004900688590401333</span>"
            ],
            "text/plain": [
              "<IPython.core.display.HTML object>"
            ]
          },
          "metadata": {
            "tags": []
          }
        },
        {
          "output_type": "display_data",
          "data": {
            "text/html": [
              "<span style=\"color:blue\"> |-num_intermediate_layers: 2</span>"
            ],
            "text/plain": [
              "<IPython.core.display.HTML object>"
            ]
          },
          "metadata": {
            "tags": []
          }
        },
        {
          "output_type": "display_data",
          "data": {
            "text/html": [
              "<span style=\"color:cyan\"> |-tuner/bracket: 3</span>"
            ],
            "text/plain": [
              "<IPython.core.display.HTML object>"
            ]
          },
          "metadata": {
            "tags": []
          }
        },
        {
          "output_type": "display_data",
          "data": {
            "text/html": [
              "<span style=\"color:blue\"> |-tuner/epochs: 2</span>"
            ],
            "text/plain": [
              "<IPython.core.display.HTML object>"
            ]
          },
          "metadata": {
            "tags": []
          }
        },
        {
          "output_type": "display_data",
          "data": {
            "text/html": [
              "<span style=\"color:cyan\"> |-tuner/initial_epoch: 0</span>"
            ],
            "text/plain": [
              "<IPython.core.display.HTML object>"
            ]
          },
          "metadata": {
            "tags": []
          }
        },
        {
          "output_type": "display_data",
          "data": {
            "text/html": [
              "<span style=\"color:blue\"> |-tuner/round: 0</span>"
            ],
            "text/plain": [
              "<IPython.core.display.HTML object>"
            ]
          },
          "metadata": {
            "tags": []
          }
        },
        {
          "output_type": "stream",
          "text": [
            "Epoch 1/2\n",
            "13/13 [==============================] - 0s 33ms/step - loss: 2.3973 - mae: 1.1855 - val_loss: 0.2243 - val_mae: 0.4458\n",
            "Epoch 2/2\n",
            "13/13 [==============================] - 0s 14ms/step - loss: 2.2265 - mae: 1.1384 - val_loss: 0.1838 - val_mae: 0.3940\n",
            "Epoch 1/2\n",
            "13/13 [==============================] - 0s 38ms/step - loss: 3.4367 - mae: 1.4105 - val_loss: 0.1612 - val_mae: 0.3259\n",
            "Epoch 2/2\n",
            "13/13 [==============================] - 0s 12ms/step - loss: 2.4171 - mae: 1.2096 - val_loss: 0.1607 - val_mae: 0.3268\n"
          ],
          "name": "stdout"
        },
        {
          "output_type": "display_data",
          "data": {
            "text/html": [
              "<span style=\"color:#4527A0\"><h1 style=\"font-size:18px\">Trial complete</h1></span>"
            ],
            "text/plain": [
              "<IPython.core.display.HTML object>"
            ]
          },
          "metadata": {
            "tags": []
          }
        },
        {
          "output_type": "display_data",
          "data": {
            "text/html": [
              "<span style=\"color:#4527A0\"><h1 style=\"font-size:18px\">Trial summary</h1></span>"
            ],
            "text/plain": [
              "<IPython.core.display.HTML object>"
            ]
          },
          "metadata": {
            "tags": []
          }
        },
        {
          "output_type": "display_data",
          "data": {
            "text/html": [
              "<span style=\"color:cyan\"> |-Trial ID: 7afcf4a49810fd94f54ad12e29b94887</span>"
            ],
            "text/plain": [
              "<IPython.core.display.HTML object>"
            ]
          },
          "metadata": {
            "tags": []
          }
        },
        {
          "output_type": "display_data",
          "data": {
            "text/html": [
              "<span style=\"color:cyan\"> |-Score: 0.3599819988012314</span>"
            ],
            "text/plain": [
              "<IPython.core.display.HTML object>"
            ]
          },
          "metadata": {
            "tags": []
          }
        },
        {
          "output_type": "display_data",
          "data": {
            "text/html": [
              "<span style=\"color:cyan\"> |-Best step: 0</span>"
            ],
            "text/plain": [
              "<IPython.core.display.HTML object>"
            ]
          },
          "metadata": {
            "tags": []
          }
        },
        {
          "output_type": "display_data",
          "data": {
            "text/html": [
              "<span style=\"color:#7E57C2\"><h2 style=\"font-size:16px\">Hyperparameters:</h2></span>"
            ],
            "text/plain": [
              "<IPython.core.display.HTML object>"
            ]
          },
          "metadata": {
            "tags": []
          }
        },
        {
          "output_type": "display_data",
          "data": {
            "text/html": [
              "<span style=\"color:cyan\"> |-dense_0: 32</span>"
            ],
            "text/plain": [
              "<IPython.core.display.HTML object>"
            ]
          },
          "metadata": {
            "tags": []
          }
        },
        {
          "output_type": "display_data",
          "data": {
            "text/html": [
              "<span style=\"color:blue\"> |-dense_1: 96</span>"
            ],
            "text/plain": [
              "<IPython.core.display.HTML object>"
            ]
          },
          "metadata": {
            "tags": []
          }
        },
        {
          "output_type": "display_data",
          "data": {
            "text/html": [
              "<span style=\"color:cyan\"> |-dense_2: 64</span>"
            ],
            "text/plain": [
              "<IPython.core.display.HTML object>"
            ]
          },
          "metadata": {
            "tags": []
          }
        },
        {
          "output_type": "display_data",
          "data": {
            "text/html": [
              "<span style=\"color:blue\"> |-dense_input: 96</span>"
            ],
            "text/plain": [
              "<IPython.core.display.HTML object>"
            ]
          },
          "metadata": {
            "tags": []
          }
        },
        {
          "output_type": "display_data",
          "data": {
            "text/html": [
              "<span style=\"color:cyan\"> |-drop_0: 0.2</span>"
            ],
            "text/plain": [
              "<IPython.core.display.HTML object>"
            ]
          },
          "metadata": {
            "tags": []
          }
        },
        {
          "output_type": "display_data",
          "data": {
            "text/html": [
              "<span style=\"color:blue\"> |-drop_1: 0.30000000000000004</span>"
            ],
            "text/plain": [
              "<IPython.core.display.HTML object>"
            ]
          },
          "metadata": {
            "tags": []
          }
        },
        {
          "output_type": "display_data",
          "data": {
            "text/html": [
              "<span style=\"color:cyan\"> |-drop_2: 0.1</span>"
            ],
            "text/plain": [
              "<IPython.core.display.HTML object>"
            ]
          },
          "metadata": {
            "tags": []
          }
        },
        {
          "output_type": "display_data",
          "data": {
            "text/html": [
              "<span style=\"color:blue\"> |-drop_input: 0.30000000000000004</span>"
            ],
            "text/plain": [
              "<IPython.core.display.HTML object>"
            ]
          },
          "metadata": {
            "tags": []
          }
        },
        {
          "output_type": "display_data",
          "data": {
            "text/html": [
              "<span style=\"color:cyan\"> |-lr: 0.00018060072463857053</span>"
            ],
            "text/plain": [
              "<IPython.core.display.HTML object>"
            ]
          },
          "metadata": {
            "tags": []
          }
        },
        {
          "output_type": "display_data",
          "data": {
            "text/html": [
              "<span style=\"color:blue\"> |-num_intermediate_layers: 2</span>"
            ],
            "text/plain": [
              "<IPython.core.display.HTML object>"
            ]
          },
          "metadata": {
            "tags": []
          }
        },
        {
          "output_type": "display_data",
          "data": {
            "text/html": [
              "<span style=\"color:cyan\"> |-tuner/bracket: 3</span>"
            ],
            "text/plain": [
              "<IPython.core.display.HTML object>"
            ]
          },
          "metadata": {
            "tags": []
          }
        },
        {
          "output_type": "display_data",
          "data": {
            "text/html": [
              "<span style=\"color:blue\"> |-tuner/epochs: 2</span>"
            ],
            "text/plain": [
              "<IPython.core.display.HTML object>"
            ]
          },
          "metadata": {
            "tags": []
          }
        },
        {
          "output_type": "display_data",
          "data": {
            "text/html": [
              "<span style=\"color:cyan\"> |-tuner/initial_epoch: 0</span>"
            ],
            "text/plain": [
              "<IPython.core.display.HTML object>"
            ]
          },
          "metadata": {
            "tags": []
          }
        },
        {
          "output_type": "display_data",
          "data": {
            "text/html": [
              "<span style=\"color:blue\"> |-tuner/round: 0</span>"
            ],
            "text/plain": [
              "<IPython.core.display.HTML object>"
            ]
          },
          "metadata": {
            "tags": []
          }
        },
        {
          "output_type": "stream",
          "text": [
            "Epoch 1/2\n",
            "13/13 [==============================] - 0s 28ms/step - loss: 0.7630 - mae: 0.6938 - val_loss: 0.2837 - val_mae: 0.4942\n",
            "Epoch 2/2\n",
            "13/13 [==============================] - 0s 12ms/step - loss: 0.4339 - mae: 0.5315 - val_loss: 0.2576 - val_mae: 0.4697\n",
            "Epoch 1/2\n",
            "13/13 [==============================] - 0s 27ms/step - loss: 1.6784 - mae: 0.9903 - val_loss: 0.1115 - val_mae: 0.2757\n",
            "Epoch 2/2\n",
            "13/13 [==============================] - 0s 10ms/step - loss: 1.0446 - mae: 0.8005 - val_loss: 0.1351 - val_mae: 0.3068\n"
          ],
          "name": "stdout"
        },
        {
          "output_type": "display_data",
          "data": {
            "text/html": [
              "<span style=\"color:#4527A0\"><h1 style=\"font-size:18px\">Trial complete</h1></span>"
            ],
            "text/plain": [
              "<IPython.core.display.HTML object>"
            ]
          },
          "metadata": {
            "tags": []
          }
        },
        {
          "output_type": "display_data",
          "data": {
            "text/html": [
              "<span style=\"color:#4527A0\"><h1 style=\"font-size:18px\">Trial summary</h1></span>"
            ],
            "text/plain": [
              "<IPython.core.display.HTML object>"
            ]
          },
          "metadata": {
            "tags": []
          }
        },
        {
          "output_type": "display_data",
          "data": {
            "text/html": [
              "<span style=\"color:cyan\"> |-Trial ID: fa9a6a7b4095691b1d98ca97b5d0d24d</span>"
            ],
            "text/plain": [
              "<IPython.core.display.HTML object>"
            ]
          },
          "metadata": {
            "tags": []
          }
        },
        {
          "output_type": "display_data",
          "data": {
            "text/html": [
              "<span style=\"color:cyan\"> |-Score: 0.37272508442401886</span>"
            ],
            "text/plain": [
              "<IPython.core.display.HTML object>"
            ]
          },
          "metadata": {
            "tags": []
          }
        },
        {
          "output_type": "display_data",
          "data": {
            "text/html": [
              "<span style=\"color:cyan\"> |-Best step: 0</span>"
            ],
            "text/plain": [
              "<IPython.core.display.HTML object>"
            ]
          },
          "metadata": {
            "tags": []
          }
        },
        {
          "output_type": "display_data",
          "data": {
            "text/html": [
              "<span style=\"color:#7E57C2\"><h2 style=\"font-size:16px\">Hyperparameters:</h2></span>"
            ],
            "text/plain": [
              "<IPython.core.display.HTML object>"
            ]
          },
          "metadata": {
            "tags": []
          }
        },
        {
          "output_type": "display_data",
          "data": {
            "text/html": [
              "<span style=\"color:cyan\"> |-dense_0: 96</span>"
            ],
            "text/plain": [
              "<IPython.core.display.HTML object>"
            ]
          },
          "metadata": {
            "tags": []
          }
        },
        {
          "output_type": "display_data",
          "data": {
            "text/html": [
              "<span style=\"color:blue\"> |-dense_1: 64</span>"
            ],
            "text/plain": [
              "<IPython.core.display.HTML object>"
            ]
          },
          "metadata": {
            "tags": []
          }
        },
        {
          "output_type": "display_data",
          "data": {
            "text/html": [
              "<span style=\"color:cyan\"> |-dense_2: 96</span>"
            ],
            "text/plain": [
              "<IPython.core.display.HTML object>"
            ]
          },
          "metadata": {
            "tags": []
          }
        },
        {
          "output_type": "display_data",
          "data": {
            "text/html": [
              "<span style=\"color:blue\"> |-dense_input: 96</span>"
            ],
            "text/plain": [
              "<IPython.core.display.HTML object>"
            ]
          },
          "metadata": {
            "tags": []
          }
        },
        {
          "output_type": "display_data",
          "data": {
            "text/html": [
              "<span style=\"color:cyan\"> |-drop_0: 0.0</span>"
            ],
            "text/plain": [
              "<IPython.core.display.HTML object>"
            ]
          },
          "metadata": {
            "tags": []
          }
        },
        {
          "output_type": "display_data",
          "data": {
            "text/html": [
              "<span style=\"color:blue\"> |-drop_1: 0.30000000000000004</span>"
            ],
            "text/plain": [
              "<IPython.core.display.HTML object>"
            ]
          },
          "metadata": {
            "tags": []
          }
        },
        {
          "output_type": "display_data",
          "data": {
            "text/html": [
              "<span style=\"color:cyan\"> |-drop_2: 0.2</span>"
            ],
            "text/plain": [
              "<IPython.core.display.HTML object>"
            ]
          },
          "metadata": {
            "tags": []
          }
        },
        {
          "output_type": "display_data",
          "data": {
            "text/html": [
              "<span style=\"color:blue\"> |-drop_input: 0.1</span>"
            ],
            "text/plain": [
              "<IPython.core.display.HTML object>"
            ]
          },
          "metadata": {
            "tags": []
          }
        },
        {
          "output_type": "display_data",
          "data": {
            "text/html": [
              "<span style=\"color:cyan\"> |-lr: 0.00014639201336952797</span>"
            ],
            "text/plain": [
              "<IPython.core.display.HTML object>"
            ]
          },
          "metadata": {
            "tags": []
          }
        },
        {
          "output_type": "display_data",
          "data": {
            "text/html": [
              "<span style=\"color:blue\"> |-num_intermediate_layers: 1</span>"
            ],
            "text/plain": [
              "<IPython.core.display.HTML object>"
            ]
          },
          "metadata": {
            "tags": []
          }
        },
        {
          "output_type": "display_data",
          "data": {
            "text/html": [
              "<span style=\"color:cyan\"> |-tuner/bracket: 3</span>"
            ],
            "text/plain": [
              "<IPython.core.display.HTML object>"
            ]
          },
          "metadata": {
            "tags": []
          }
        },
        {
          "output_type": "display_data",
          "data": {
            "text/html": [
              "<span style=\"color:blue\"> |-tuner/epochs: 2</span>"
            ],
            "text/plain": [
              "<IPython.core.display.HTML object>"
            ]
          },
          "metadata": {
            "tags": []
          }
        },
        {
          "output_type": "display_data",
          "data": {
            "text/html": [
              "<span style=\"color:cyan\"> |-tuner/initial_epoch: 0</span>"
            ],
            "text/plain": [
              "<IPython.core.display.HTML object>"
            ]
          },
          "metadata": {
            "tags": []
          }
        },
        {
          "output_type": "display_data",
          "data": {
            "text/html": [
              "<span style=\"color:blue\"> |-tuner/round: 0</span>"
            ],
            "text/plain": [
              "<IPython.core.display.HTML object>"
            ]
          },
          "metadata": {
            "tags": []
          }
        },
        {
          "output_type": "stream",
          "text": [
            "Epoch 1/2\n",
            "13/13 [==============================] - 0s 27ms/step - loss: 0.9916 - mae: 0.7709 - val_loss: 0.0539 - val_mae: 0.1781\n",
            "Epoch 2/2\n",
            "13/13 [==============================] - 0s 12ms/step - loss: 0.3709 - mae: 0.4625 - val_loss: 0.0308 - val_mae: 0.1300\n",
            "Epoch 1/2\n",
            "13/13 [==============================] - 0s 25ms/step - loss: 0.6847 - mae: 0.6221 - val_loss: 0.0572 - val_mae: 0.1838\n",
            "Epoch 2/2\n",
            "13/13 [==============================] - 0s 10ms/step - loss: 0.3217 - mae: 0.4253 - val_loss: 0.0361 - val_mae: 0.1332\n"
          ],
          "name": "stdout"
        },
        {
          "output_type": "display_data",
          "data": {
            "text/html": [
              "<span style=\"color:#4527A0\"><h1 style=\"font-size:18px\">Trial complete</h1></span>"
            ],
            "text/plain": [
              "<IPython.core.display.HTML object>"
            ]
          },
          "metadata": {
            "tags": []
          }
        },
        {
          "output_type": "display_data",
          "data": {
            "text/html": [
              "<span style=\"color:#4527A0\"><h1 style=\"font-size:18px\">Trial summary</h1></span>"
            ],
            "text/plain": [
              "<IPython.core.display.HTML object>"
            ]
          },
          "metadata": {
            "tags": []
          }
        },
        {
          "output_type": "display_data",
          "data": {
            "text/html": [
              "<span style=\"color:cyan\"> |-Trial ID: c552abf9b6f2820362c81bb080143135</span>"
            ],
            "text/plain": [
              "<IPython.core.display.HTML object>"
            ]
          },
          "metadata": {
            "tags": []
          }
        },
        {
          "output_type": "display_data",
          "data": {
            "text/html": [
              "<span style=\"color:cyan\"> |-Score: 0.13162046670913696</span>"
            ],
            "text/plain": [
              "<IPython.core.display.HTML object>"
            ]
          },
          "metadata": {
            "tags": []
          }
        },
        {
          "output_type": "display_data",
          "data": {
            "text/html": [
              "<span style=\"color:cyan\"> |-Best step: 0</span>"
            ],
            "text/plain": [
              "<IPython.core.display.HTML object>"
            ]
          },
          "metadata": {
            "tags": []
          }
        },
        {
          "output_type": "display_data",
          "data": {
            "text/html": [
              "<span style=\"color:#7E57C2\"><h2 style=\"font-size:16px\">Hyperparameters:</h2></span>"
            ],
            "text/plain": [
              "<IPython.core.display.HTML object>"
            ]
          },
          "metadata": {
            "tags": []
          }
        },
        {
          "output_type": "display_data",
          "data": {
            "text/html": [
              "<span style=\"color:cyan\"> |-dense_0: 32</span>"
            ],
            "text/plain": [
              "<IPython.core.display.HTML object>"
            ]
          },
          "metadata": {
            "tags": []
          }
        },
        {
          "output_type": "display_data",
          "data": {
            "text/html": [
              "<span style=\"color:blue\"> |-dense_1: 96</span>"
            ],
            "text/plain": [
              "<IPython.core.display.HTML object>"
            ]
          },
          "metadata": {
            "tags": []
          }
        },
        {
          "output_type": "display_data",
          "data": {
            "text/html": [
              "<span style=\"color:cyan\"> |-dense_2: 32</span>"
            ],
            "text/plain": [
              "<IPython.core.display.HTML object>"
            ]
          },
          "metadata": {
            "tags": []
          }
        },
        {
          "output_type": "display_data",
          "data": {
            "text/html": [
              "<span style=\"color:blue\"> |-dense_input: 64</span>"
            ],
            "text/plain": [
              "<IPython.core.display.HTML object>"
            ]
          },
          "metadata": {
            "tags": []
          }
        },
        {
          "output_type": "display_data",
          "data": {
            "text/html": [
              "<span style=\"color:cyan\"> |-drop_0: 0.1</span>"
            ],
            "text/plain": [
              "<IPython.core.display.HTML object>"
            ]
          },
          "metadata": {
            "tags": []
          }
        },
        {
          "output_type": "display_data",
          "data": {
            "text/html": [
              "<span style=\"color:blue\"> |-drop_1: 0.1</span>"
            ],
            "text/plain": [
              "<IPython.core.display.HTML object>"
            ]
          },
          "metadata": {
            "tags": []
          }
        },
        {
          "output_type": "display_data",
          "data": {
            "text/html": [
              "<span style=\"color:cyan\"> |-drop_2: 0.1</span>"
            ],
            "text/plain": [
              "<IPython.core.display.HTML object>"
            ]
          },
          "metadata": {
            "tags": []
          }
        },
        {
          "output_type": "display_data",
          "data": {
            "text/html": [
              "<span style=\"color:blue\"> |-drop_input: 0.2</span>"
            ],
            "text/plain": [
              "<IPython.core.display.HTML object>"
            ]
          },
          "metadata": {
            "tags": []
          }
        },
        {
          "output_type": "display_data",
          "data": {
            "text/html": [
              "<span style=\"color:cyan\"> |-lr: 0.0035576180732357536</span>"
            ],
            "text/plain": [
              "<IPython.core.display.HTML object>"
            ]
          },
          "metadata": {
            "tags": []
          }
        },
        {
          "output_type": "display_data",
          "data": {
            "text/html": [
              "<span style=\"color:blue\"> |-num_intermediate_layers: 1</span>"
            ],
            "text/plain": [
              "<IPython.core.display.HTML object>"
            ]
          },
          "metadata": {
            "tags": []
          }
        },
        {
          "output_type": "display_data",
          "data": {
            "text/html": [
              "<span style=\"color:cyan\"> |-tuner/bracket: 3</span>"
            ],
            "text/plain": [
              "<IPython.core.display.HTML object>"
            ]
          },
          "metadata": {
            "tags": []
          }
        },
        {
          "output_type": "display_data",
          "data": {
            "text/html": [
              "<span style=\"color:blue\"> |-tuner/epochs: 2</span>"
            ],
            "text/plain": [
              "<IPython.core.display.HTML object>"
            ]
          },
          "metadata": {
            "tags": []
          }
        },
        {
          "output_type": "display_data",
          "data": {
            "text/html": [
              "<span style=\"color:cyan\"> |-tuner/initial_epoch: 0</span>"
            ],
            "text/plain": [
              "<IPython.core.display.HTML object>"
            ]
          },
          "metadata": {
            "tags": []
          }
        },
        {
          "output_type": "display_data",
          "data": {
            "text/html": [
              "<span style=\"color:blue\"> |-tuner/round: 0</span>"
            ],
            "text/plain": [
              "<IPython.core.display.HTML object>"
            ]
          },
          "metadata": {
            "tags": []
          }
        },
        {
          "output_type": "stream",
          "text": [
            "Epoch 1/2\n",
            "13/13 [==============================] - 0s 38ms/step - loss: 2.3007 - mae: 1.1536 - val_loss: 0.1684 - val_mae: 0.3478\n",
            "Epoch 2/2\n",
            "13/13 [==============================] - 0s 18ms/step - loss: 1.5564 - mae: 0.9676 - val_loss: 0.1514 - val_mae: 0.3282\n",
            "Epoch 1/2\n",
            "13/13 [==============================] - 0s 34ms/step - loss: 2.5978 - mae: 1.2111 - val_loss: 0.1806 - val_mae: 0.3758\n",
            "Epoch 2/2\n",
            "13/13 [==============================] - 0s 16ms/step - loss: 1.7138 - mae: 1.0155 - val_loss: 0.1207 - val_mae: 0.2929\n"
          ],
          "name": "stdout"
        },
        {
          "output_type": "display_data",
          "data": {
            "text/html": [
              "<span style=\"color:#4527A0\"><h1 style=\"font-size:18px\">Trial complete</h1></span>"
            ],
            "text/plain": [
              "<IPython.core.display.HTML object>"
            ]
          },
          "metadata": {
            "tags": []
          }
        },
        {
          "output_type": "display_data",
          "data": {
            "text/html": [
              "<span style=\"color:#4527A0\"><h1 style=\"font-size:18px\">Trial summary</h1></span>"
            ],
            "text/plain": [
              "<IPython.core.display.HTML object>"
            ]
          },
          "metadata": {
            "tags": []
          }
        },
        {
          "output_type": "display_data",
          "data": {
            "text/html": [
              "<span style=\"color:cyan\"> |-Trial ID: 71dc0abe6f85de412e64ecf439173bfa</span>"
            ],
            "text/plain": [
              "<IPython.core.display.HTML object>"
            ]
          },
          "metadata": {
            "tags": []
          }
        },
        {
          "output_type": "display_data",
          "data": {
            "text/html": [
              "<span style=\"color:cyan\"> |-Score: 0.31051748991012573</span>"
            ],
            "text/plain": [
              "<IPython.core.display.HTML object>"
            ]
          },
          "metadata": {
            "tags": []
          }
        },
        {
          "output_type": "display_data",
          "data": {
            "text/html": [
              "<span style=\"color:cyan\"> |-Best step: 0</span>"
            ],
            "text/plain": [
              "<IPython.core.display.HTML object>"
            ]
          },
          "metadata": {
            "tags": []
          }
        },
        {
          "output_type": "display_data",
          "data": {
            "text/html": [
              "<span style=\"color:#7E57C2\"><h2 style=\"font-size:16px\">Hyperparameters:</h2></span>"
            ],
            "text/plain": [
              "<IPython.core.display.HTML object>"
            ]
          },
          "metadata": {
            "tags": []
          }
        },
        {
          "output_type": "display_data",
          "data": {
            "text/html": [
              "<span style=\"color:cyan\"> |-dense_0: 64</span>"
            ],
            "text/plain": [
              "<IPython.core.display.HTML object>"
            ]
          },
          "metadata": {
            "tags": []
          }
        },
        {
          "output_type": "display_data",
          "data": {
            "text/html": [
              "<span style=\"color:blue\"> |-dense_1: 64</span>"
            ],
            "text/plain": [
              "<IPython.core.display.HTML object>"
            ]
          },
          "metadata": {
            "tags": []
          }
        },
        {
          "output_type": "display_data",
          "data": {
            "text/html": [
              "<span style=\"color:cyan\"> |-dense_2: 128</span>"
            ],
            "text/plain": [
              "<IPython.core.display.HTML object>"
            ]
          },
          "metadata": {
            "tags": []
          }
        },
        {
          "output_type": "display_data",
          "data": {
            "text/html": [
              "<span style=\"color:blue\"> |-dense_input: 32</span>"
            ],
            "text/plain": [
              "<IPython.core.display.HTML object>"
            ]
          },
          "metadata": {
            "tags": []
          }
        },
        {
          "output_type": "display_data",
          "data": {
            "text/html": [
              "<span style=\"color:cyan\"> |-drop_0: 0.2</span>"
            ],
            "text/plain": [
              "<IPython.core.display.HTML object>"
            ]
          },
          "metadata": {
            "tags": []
          }
        },
        {
          "output_type": "display_data",
          "data": {
            "text/html": [
              "<span style=\"color:blue\"> |-drop_1: 0.1</span>"
            ],
            "text/plain": [
              "<IPython.core.display.HTML object>"
            ]
          },
          "metadata": {
            "tags": []
          }
        },
        {
          "output_type": "display_data",
          "data": {
            "text/html": [
              "<span style=\"color:cyan\"> |-drop_2: 0.30000000000000004</span>"
            ],
            "text/plain": [
              "<IPython.core.display.HTML object>"
            ]
          },
          "metadata": {
            "tags": []
          }
        },
        {
          "output_type": "display_data",
          "data": {
            "text/html": [
              "<span style=\"color:blue\"> |-drop_input: 0.0</span>"
            ],
            "text/plain": [
              "<IPython.core.display.HTML object>"
            ]
          },
          "metadata": {
            "tags": []
          }
        },
        {
          "output_type": "display_data",
          "data": {
            "text/html": [
              "<span style=\"color:cyan\"> |-lr: 0.00024158687551272578</span>"
            ],
            "text/plain": [
              "<IPython.core.display.HTML object>"
            ]
          },
          "metadata": {
            "tags": []
          }
        },
        {
          "output_type": "display_data",
          "data": {
            "text/html": [
              "<span style=\"color:blue\"> |-num_intermediate_layers: 3</span>"
            ],
            "text/plain": [
              "<IPython.core.display.HTML object>"
            ]
          },
          "metadata": {
            "tags": []
          }
        },
        {
          "output_type": "display_data",
          "data": {
            "text/html": [
              "<span style=\"color:cyan\"> |-tuner/bracket: 3</span>"
            ],
            "text/plain": [
              "<IPython.core.display.HTML object>"
            ]
          },
          "metadata": {
            "tags": []
          }
        },
        {
          "output_type": "display_data",
          "data": {
            "text/html": [
              "<span style=\"color:blue\"> |-tuner/epochs: 2</span>"
            ],
            "text/plain": [
              "<IPython.core.display.HTML object>"
            ]
          },
          "metadata": {
            "tags": []
          }
        },
        {
          "output_type": "display_data",
          "data": {
            "text/html": [
              "<span style=\"color:cyan\"> |-tuner/initial_epoch: 0</span>"
            ],
            "text/plain": [
              "<IPython.core.display.HTML object>"
            ]
          },
          "metadata": {
            "tags": []
          }
        },
        {
          "output_type": "display_data",
          "data": {
            "text/html": [
              "<span style=\"color:blue\"> |-tuner/round: 0</span>"
            ],
            "text/plain": [
              "<IPython.core.display.HTML object>"
            ]
          },
          "metadata": {
            "tags": []
          }
        },
        {
          "output_type": "stream",
          "text": [
            "Epoch 1/2\n",
            "13/13 [==============================] - 0s 27ms/step - loss: 1.0202 - mae: 0.7897 - val_loss: 0.1736 - val_mae: 0.3516\n",
            "Epoch 2/2\n",
            "13/13 [==============================] - 0s 12ms/step - loss: 0.9661 - mae: 0.7686 - val_loss: 0.1585 - val_mae: 0.3316\n",
            "Epoch 1/2\n",
            "13/13 [==============================] - 0s 26ms/step - loss: 1.4433 - mae: 0.9507 - val_loss: 0.2225 - val_mae: 0.4332\n",
            "Epoch 2/2\n",
            "13/13 [==============================] - 0s 11ms/step - loss: 0.9719 - mae: 0.7801 - val_loss: 0.2555 - val_mae: 0.4712\n"
          ],
          "name": "stdout"
        },
        {
          "output_type": "display_data",
          "data": {
            "text/html": [
              "<span style=\"color:#4527A0\"><h1 style=\"font-size:18px\">Trial complete</h1></span>"
            ],
            "text/plain": [
              "<IPython.core.display.HTML object>"
            ]
          },
          "metadata": {
            "tags": []
          }
        },
        {
          "output_type": "display_data",
          "data": {
            "text/html": [
              "<span style=\"color:#4527A0\"><h1 style=\"font-size:18px\">Trial summary</h1></span>"
            ],
            "text/plain": [
              "<IPython.core.display.HTML object>"
            ]
          },
          "metadata": {
            "tags": []
          }
        },
        {
          "output_type": "display_data",
          "data": {
            "text/html": [
              "<span style=\"color:cyan\"> |-Trial ID: 240f2caf8a91cc034576ecaae959b6db</span>"
            ],
            "text/plain": [
              "<IPython.core.display.HTML object>"
            ]
          },
          "metadata": {
            "tags": []
          }
        },
        {
          "output_type": "display_data",
          "data": {
            "text/html": [
              "<span style=\"color:cyan\"> |-Score: 0.38238610327243805</span>"
            ],
            "text/plain": [
              "<IPython.core.display.HTML object>"
            ]
          },
          "metadata": {
            "tags": []
          }
        },
        {
          "output_type": "display_data",
          "data": {
            "text/html": [
              "<span style=\"color:cyan\"> |-Best step: 0</span>"
            ],
            "text/plain": [
              "<IPython.core.display.HTML object>"
            ]
          },
          "metadata": {
            "tags": []
          }
        },
        {
          "output_type": "display_data",
          "data": {
            "text/html": [
              "<span style=\"color:#7E57C2\"><h2 style=\"font-size:16px\">Hyperparameters:</h2></span>"
            ],
            "text/plain": [
              "<IPython.core.display.HTML object>"
            ]
          },
          "metadata": {
            "tags": []
          }
        },
        {
          "output_type": "display_data",
          "data": {
            "text/html": [
              "<span style=\"color:cyan\"> |-dense_0: 64</span>"
            ],
            "text/plain": [
              "<IPython.core.display.HTML object>"
            ]
          },
          "metadata": {
            "tags": []
          }
        },
        {
          "output_type": "display_data",
          "data": {
            "text/html": [
              "<span style=\"color:blue\"> |-dense_1: 32</span>"
            ],
            "text/plain": [
              "<IPython.core.display.HTML object>"
            ]
          },
          "metadata": {
            "tags": []
          }
        },
        {
          "output_type": "display_data",
          "data": {
            "text/html": [
              "<span style=\"color:cyan\"> |-dense_2: 64</span>"
            ],
            "text/plain": [
              "<IPython.core.display.HTML object>"
            ]
          },
          "metadata": {
            "tags": []
          }
        },
        {
          "output_type": "display_data",
          "data": {
            "text/html": [
              "<span style=\"color:blue\"> |-dense_input: 64</span>"
            ],
            "text/plain": [
              "<IPython.core.display.HTML object>"
            ]
          },
          "metadata": {
            "tags": []
          }
        },
        {
          "output_type": "display_data",
          "data": {
            "text/html": [
              "<span style=\"color:cyan\"> |-drop_0: 0.1</span>"
            ],
            "text/plain": [
              "<IPython.core.display.HTML object>"
            ]
          },
          "metadata": {
            "tags": []
          }
        },
        {
          "output_type": "display_data",
          "data": {
            "text/html": [
              "<span style=\"color:blue\"> |-drop_1: 0.0</span>"
            ],
            "text/plain": [
              "<IPython.core.display.HTML object>"
            ]
          },
          "metadata": {
            "tags": []
          }
        },
        {
          "output_type": "display_data",
          "data": {
            "text/html": [
              "<span style=\"color:cyan\"> |-drop_2: 0.2</span>"
            ],
            "text/plain": [
              "<IPython.core.display.HTML object>"
            ]
          },
          "metadata": {
            "tags": []
          }
        },
        {
          "output_type": "display_data",
          "data": {
            "text/html": [
              "<span style=\"color:blue\"> |-drop_input: 0.2</span>"
            ],
            "text/plain": [
              "<IPython.core.display.HTML object>"
            ]
          },
          "metadata": {
            "tags": []
          }
        },
        {
          "output_type": "display_data",
          "data": {
            "text/html": [
              "<span style=\"color:cyan\"> |-lr: 0.0001762365787282243</span>"
            ],
            "text/plain": [
              "<IPython.core.display.HTML object>"
            ]
          },
          "metadata": {
            "tags": []
          }
        },
        {
          "output_type": "display_data",
          "data": {
            "text/html": [
              "<span style=\"color:blue\"> |-num_intermediate_layers: 1</span>"
            ],
            "text/plain": [
              "<IPython.core.display.HTML object>"
            ]
          },
          "metadata": {
            "tags": []
          }
        },
        {
          "output_type": "display_data",
          "data": {
            "text/html": [
              "<span style=\"color:cyan\"> |-tuner/bracket: 3</span>"
            ],
            "text/plain": [
              "<IPython.core.display.HTML object>"
            ]
          },
          "metadata": {
            "tags": []
          }
        },
        {
          "output_type": "display_data",
          "data": {
            "text/html": [
              "<span style=\"color:blue\"> |-tuner/epochs: 2</span>"
            ],
            "text/plain": [
              "<IPython.core.display.HTML object>"
            ]
          },
          "metadata": {
            "tags": []
          }
        },
        {
          "output_type": "display_data",
          "data": {
            "text/html": [
              "<span style=\"color:cyan\"> |-tuner/initial_epoch: 0</span>"
            ],
            "text/plain": [
              "<IPython.core.display.HTML object>"
            ]
          },
          "metadata": {
            "tags": []
          }
        },
        {
          "output_type": "display_data",
          "data": {
            "text/html": [
              "<span style=\"color:blue\"> |-tuner/round: 0</span>"
            ],
            "text/plain": [
              "<IPython.core.display.HTML object>"
            ]
          },
          "metadata": {
            "tags": []
          }
        },
        {
          "output_type": "stream",
          "text": [
            "Epoch 1/2\n",
            "13/13 [==============================] - 0s 34ms/step - loss: 1.3720 - mae: 0.9101 - val_loss: 0.0897 - val_mae: 0.2459\n",
            "Epoch 2/2\n",
            "13/13 [==============================] - 0s 13ms/step - loss: 0.8505 - mae: 0.6816 - val_loss: 0.0512 - val_mae: 0.1678\n",
            "Epoch 1/2\n",
            "13/13 [==============================] - 0s 29ms/step - loss: 1.2902 - mae: 0.8471 - val_loss: 0.0657 - val_mae: 0.1991\n",
            "Epoch 2/2\n",
            "13/13 [==============================] - 0s 15ms/step - loss: 0.8714 - mae: 0.7205 - val_loss: 0.0374 - val_mae: 0.1532\n"
          ],
          "name": "stdout"
        },
        {
          "output_type": "display_data",
          "data": {
            "text/html": [
              "<span style=\"color:#4527A0\"><h1 style=\"font-size:18px\">Trial complete</h1></span>"
            ],
            "text/plain": [
              "<IPython.core.display.HTML object>"
            ]
          },
          "metadata": {
            "tags": []
          }
        },
        {
          "output_type": "display_data",
          "data": {
            "text/html": [
              "<span style=\"color:#4527A0\"><h1 style=\"font-size:18px\">Trial summary</h1></span>"
            ],
            "text/plain": [
              "<IPython.core.display.HTML object>"
            ]
          },
          "metadata": {
            "tags": []
          }
        },
        {
          "output_type": "display_data",
          "data": {
            "text/html": [
              "<span style=\"color:cyan\"> |-Trial ID: cd6ea8cc34b489010826dff83220cea3</span>"
            ],
            "text/plain": [
              "<IPython.core.display.HTML object>"
            ]
          },
          "metadata": {
            "tags": []
          }
        },
        {
          "output_type": "display_data",
          "data": {
            "text/html": [
              "<span style=\"color:cyan\"> |-Score: 0.16049933433532715</span>"
            ],
            "text/plain": [
              "<IPython.core.display.HTML object>"
            ]
          },
          "metadata": {
            "tags": []
          }
        },
        {
          "output_type": "display_data",
          "data": {
            "text/html": [
              "<span style=\"color:cyan\"> |-Best step: 0</span>"
            ],
            "text/plain": [
              "<IPython.core.display.HTML object>"
            ]
          },
          "metadata": {
            "tags": []
          }
        },
        {
          "output_type": "display_data",
          "data": {
            "text/html": [
              "<span style=\"color:#7E57C2\"><h2 style=\"font-size:16px\">Hyperparameters:</h2></span>"
            ],
            "text/plain": [
              "<IPython.core.display.HTML object>"
            ]
          },
          "metadata": {
            "tags": []
          }
        },
        {
          "output_type": "display_data",
          "data": {
            "text/html": [
              "<span style=\"color:cyan\"> |-dense_0: 96</span>"
            ],
            "text/plain": [
              "<IPython.core.display.HTML object>"
            ]
          },
          "metadata": {
            "tags": []
          }
        },
        {
          "output_type": "display_data",
          "data": {
            "text/html": [
              "<span style=\"color:blue\"> |-dense_1: 96</span>"
            ],
            "text/plain": [
              "<IPython.core.display.HTML object>"
            ]
          },
          "metadata": {
            "tags": []
          }
        },
        {
          "output_type": "display_data",
          "data": {
            "text/html": [
              "<span style=\"color:cyan\"> |-dense_2: 96</span>"
            ],
            "text/plain": [
              "<IPython.core.display.HTML object>"
            ]
          },
          "metadata": {
            "tags": []
          }
        },
        {
          "output_type": "display_data",
          "data": {
            "text/html": [
              "<span style=\"color:blue\"> |-dense_input: 64</span>"
            ],
            "text/plain": [
              "<IPython.core.display.HTML object>"
            ]
          },
          "metadata": {
            "tags": []
          }
        },
        {
          "output_type": "display_data",
          "data": {
            "text/html": [
              "<span style=\"color:cyan\"> |-drop_0: 0.1</span>"
            ],
            "text/plain": [
              "<IPython.core.display.HTML object>"
            ]
          },
          "metadata": {
            "tags": []
          }
        },
        {
          "output_type": "display_data",
          "data": {
            "text/html": [
              "<span style=\"color:blue\"> |-drop_1: 0.2</span>"
            ],
            "text/plain": [
              "<IPython.core.display.HTML object>"
            ]
          },
          "metadata": {
            "tags": []
          }
        },
        {
          "output_type": "display_data",
          "data": {
            "text/html": [
              "<span style=\"color:cyan\"> |-drop_2: 0.30000000000000004</span>"
            ],
            "text/plain": [
              "<IPython.core.display.HTML object>"
            ]
          },
          "metadata": {
            "tags": []
          }
        },
        {
          "output_type": "display_data",
          "data": {
            "text/html": [
              "<span style=\"color:blue\"> |-drop_input: 0.0</span>"
            ],
            "text/plain": [
              "<IPython.core.display.HTML object>"
            ]
          },
          "metadata": {
            "tags": []
          }
        },
        {
          "output_type": "display_data",
          "data": {
            "text/html": [
              "<span style=\"color:cyan\"> |-lr: 0.0013917854917016644</span>"
            ],
            "text/plain": [
              "<IPython.core.display.HTML object>"
            ]
          },
          "metadata": {
            "tags": []
          }
        },
        {
          "output_type": "display_data",
          "data": {
            "text/html": [
              "<span style=\"color:blue\"> |-num_intermediate_layers: 2</span>"
            ],
            "text/plain": [
              "<IPython.core.display.HTML object>"
            ]
          },
          "metadata": {
            "tags": []
          }
        },
        {
          "output_type": "display_data",
          "data": {
            "text/html": [
              "<span style=\"color:cyan\"> |-tuner/bracket: 3</span>"
            ],
            "text/plain": [
              "<IPython.core.display.HTML object>"
            ]
          },
          "metadata": {
            "tags": []
          }
        },
        {
          "output_type": "display_data",
          "data": {
            "text/html": [
              "<span style=\"color:blue\"> |-tuner/epochs: 2</span>"
            ],
            "text/plain": [
              "<IPython.core.display.HTML object>"
            ]
          },
          "metadata": {
            "tags": []
          }
        },
        {
          "output_type": "display_data",
          "data": {
            "text/html": [
              "<span style=\"color:cyan\"> |-tuner/initial_epoch: 0</span>"
            ],
            "text/plain": [
              "<IPython.core.display.HTML object>"
            ]
          },
          "metadata": {
            "tags": []
          }
        },
        {
          "output_type": "display_data",
          "data": {
            "text/html": [
              "<span style=\"color:blue\"> |-tuner/round: 0</span>"
            ],
            "text/plain": [
              "<IPython.core.display.HTML object>"
            ]
          },
          "metadata": {
            "tags": []
          }
        },
        {
          "output_type": "stream",
          "text": [
            "Epoch 1/2\n",
            "13/13 [==============================] - 0s 36ms/step - loss: 2.5464 - mae: 1.2574 - val_loss: 0.2927 - val_mae: 0.5116\n",
            "Epoch 2/2\n",
            "13/13 [==============================] - 0s 15ms/step - loss: 2.0285 - mae: 1.1006 - val_loss: 0.2211 - val_mae: 0.4306\n",
            "Epoch 1/2\n",
            "13/13 [==============================] - 0s 33ms/step - loss: 1.8716 - mae: 1.0826 - val_loss: 0.2464 - val_mae: 0.4539\n",
            "Epoch 2/2\n",
            "13/13 [==============================] - 0s 21ms/step - loss: 1.2460 - mae: 0.8811 - val_loss: 0.2094 - val_mae: 0.4117\n"
          ],
          "name": "stdout"
        },
        {
          "output_type": "display_data",
          "data": {
            "text/html": [
              "<span style=\"color:#4527A0\"><h1 style=\"font-size:18px\">Trial complete</h1></span>"
            ],
            "text/plain": [
              "<IPython.core.display.HTML object>"
            ]
          },
          "metadata": {
            "tags": []
          }
        },
        {
          "output_type": "display_data",
          "data": {
            "text/html": [
              "<span style=\"color:#4527A0\"><h1 style=\"font-size:18px\">Trial summary</h1></span>"
            ],
            "text/plain": [
              "<IPython.core.display.HTML object>"
            ]
          },
          "metadata": {
            "tags": []
          }
        },
        {
          "output_type": "display_data",
          "data": {
            "text/html": [
              "<span style=\"color:cyan\"> |-Trial ID: 42e265aec6785a5b828cb4016ce90cce</span>"
            ],
            "text/plain": [
              "<IPython.core.display.HTML object>"
            ]
          },
          "metadata": {
            "tags": []
          }
        },
        {
          "output_type": "display_data",
          "data": {
            "text/html": [
              "<span style=\"color:cyan\"> |-Score: 0.4211641252040863</span>"
            ],
            "text/plain": [
              "<IPython.core.display.HTML object>"
            ]
          },
          "metadata": {
            "tags": []
          }
        },
        {
          "output_type": "display_data",
          "data": {
            "text/html": [
              "<span style=\"color:cyan\"> |-Best step: 0</span>"
            ],
            "text/plain": [
              "<IPython.core.display.HTML object>"
            ]
          },
          "metadata": {
            "tags": []
          }
        },
        {
          "output_type": "display_data",
          "data": {
            "text/html": [
              "<span style=\"color:#7E57C2\"><h2 style=\"font-size:16px\">Hyperparameters:</h2></span>"
            ],
            "text/plain": [
              "<IPython.core.display.HTML object>"
            ]
          },
          "metadata": {
            "tags": []
          }
        },
        {
          "output_type": "display_data",
          "data": {
            "text/html": [
              "<span style=\"color:cyan\"> |-dense_0: 64</span>"
            ],
            "text/plain": [
              "<IPython.core.display.HTML object>"
            ]
          },
          "metadata": {
            "tags": []
          }
        },
        {
          "output_type": "display_data",
          "data": {
            "text/html": [
              "<span style=\"color:blue\"> |-dense_1: 128</span>"
            ],
            "text/plain": [
              "<IPython.core.display.HTML object>"
            ]
          },
          "metadata": {
            "tags": []
          }
        },
        {
          "output_type": "display_data",
          "data": {
            "text/html": [
              "<span style=\"color:cyan\"> |-dense_2: 64</span>"
            ],
            "text/plain": [
              "<IPython.core.display.HTML object>"
            ]
          },
          "metadata": {
            "tags": []
          }
        },
        {
          "output_type": "display_data",
          "data": {
            "text/html": [
              "<span style=\"color:blue\"> |-dense_input: 128</span>"
            ],
            "text/plain": [
              "<IPython.core.display.HTML object>"
            ]
          },
          "metadata": {
            "tags": []
          }
        },
        {
          "output_type": "display_data",
          "data": {
            "text/html": [
              "<span style=\"color:cyan\"> |-drop_0: 0.30000000000000004</span>"
            ],
            "text/plain": [
              "<IPython.core.display.HTML object>"
            ]
          },
          "metadata": {
            "tags": []
          }
        },
        {
          "output_type": "display_data",
          "data": {
            "text/html": [
              "<span style=\"color:blue\"> |-drop_1: 0.2</span>"
            ],
            "text/plain": [
              "<IPython.core.display.HTML object>"
            ]
          },
          "metadata": {
            "tags": []
          }
        },
        {
          "output_type": "display_data",
          "data": {
            "text/html": [
              "<span style=\"color:cyan\"> |-drop_2: 0.2</span>"
            ],
            "text/plain": [
              "<IPython.core.display.HTML object>"
            ]
          },
          "metadata": {
            "tags": []
          }
        },
        {
          "output_type": "display_data",
          "data": {
            "text/html": [
              "<span style=\"color:blue\"> |-drop_input: 0.2</span>"
            ],
            "text/plain": [
              "<IPython.core.display.HTML object>"
            ]
          },
          "metadata": {
            "tags": []
          }
        },
        {
          "output_type": "display_data",
          "data": {
            "text/html": [
              "<span style=\"color:cyan\"> |-lr: 0.00021609690906199976</span>"
            ],
            "text/plain": [
              "<IPython.core.display.HTML object>"
            ]
          },
          "metadata": {
            "tags": []
          }
        },
        {
          "output_type": "display_data",
          "data": {
            "text/html": [
              "<span style=\"color:blue\"> |-num_intermediate_layers: 3</span>"
            ],
            "text/plain": [
              "<IPython.core.display.HTML object>"
            ]
          },
          "metadata": {
            "tags": []
          }
        },
        {
          "output_type": "display_data",
          "data": {
            "text/html": [
              "<span style=\"color:cyan\"> |-tuner/bracket: 3</span>"
            ],
            "text/plain": [
              "<IPython.core.display.HTML object>"
            ]
          },
          "metadata": {
            "tags": []
          }
        },
        {
          "output_type": "display_data",
          "data": {
            "text/html": [
              "<span style=\"color:blue\"> |-tuner/epochs: 2</span>"
            ],
            "text/plain": [
              "<IPython.core.display.HTML object>"
            ]
          },
          "metadata": {
            "tags": []
          }
        },
        {
          "output_type": "display_data",
          "data": {
            "text/html": [
              "<span style=\"color:cyan\"> |-tuner/initial_epoch: 0</span>"
            ],
            "text/plain": [
              "<IPython.core.display.HTML object>"
            ]
          },
          "metadata": {
            "tags": []
          }
        },
        {
          "output_type": "display_data",
          "data": {
            "text/html": [
              "<span style=\"color:blue\"> |-tuner/round: 0</span>"
            ],
            "text/plain": [
              "<IPython.core.display.HTML object>"
            ]
          },
          "metadata": {
            "tags": []
          }
        },
        {
          "output_type": "stream",
          "text": [
            "Epoch 1/2\n",
            "13/13 [==============================] - 0s 37ms/step - loss: 1.9586 - mae: 1.0654 - val_loss: 0.0515 - val_mae: 0.1711\n",
            "Epoch 2/2\n",
            "13/13 [==============================] - 0s 17ms/step - loss: 1.0533 - mae: 0.7944 - val_loss: 0.0276 - val_mae: 0.1247\n",
            "Epoch 1/2\n",
            "13/13 [==============================] - 0s 33ms/step - loss: 1.6540 - mae: 0.9716 - val_loss: 0.0425 - val_mae: 0.1538\n",
            "Epoch 2/2\n",
            "13/13 [==============================] - 0s 15ms/step - loss: 0.9052 - mae: 0.7153 - val_loss: 0.0347 - val_mae: 0.1339\n"
          ],
          "name": "stdout"
        },
        {
          "output_type": "display_data",
          "data": {
            "text/html": [
              "<span style=\"color:#4527A0\"><h1 style=\"font-size:18px\">Trial complete</h1></span>"
            ],
            "text/plain": [
              "<IPython.core.display.HTML object>"
            ]
          },
          "metadata": {
            "tags": []
          }
        },
        {
          "output_type": "display_data",
          "data": {
            "text/html": [
              "<span style=\"color:#4527A0\"><h1 style=\"font-size:18px\">Trial summary</h1></span>"
            ],
            "text/plain": [
              "<IPython.core.display.HTML object>"
            ]
          },
          "metadata": {
            "tags": []
          }
        },
        {
          "output_type": "display_data",
          "data": {
            "text/html": [
              "<span style=\"color:cyan\"> |-Trial ID: 529ab4b543549a7740ea2c40aae4d4f3</span>"
            ],
            "text/plain": [
              "<IPython.core.display.HTML object>"
            ]
          },
          "metadata": {
            "tags": []
          }
        },
        {
          "output_type": "display_data",
          "data": {
            "text/html": [
              "<span style=\"color:cyan\"> |-Score: 0.12932131811976433</span>"
            ],
            "text/plain": [
              "<IPython.core.display.HTML object>"
            ]
          },
          "metadata": {
            "tags": []
          }
        },
        {
          "output_type": "display_data",
          "data": {
            "text/html": [
              "<span style=\"color:cyan\"> |-Best step: 0</span>"
            ],
            "text/plain": [
              "<IPython.core.display.HTML object>"
            ]
          },
          "metadata": {
            "tags": []
          }
        },
        {
          "output_type": "display_data",
          "data": {
            "text/html": [
              "<span style=\"color:#7E57C2\"><h2 style=\"font-size:16px\">Hyperparameters:</h2></span>"
            ],
            "text/plain": [
              "<IPython.core.display.HTML object>"
            ]
          },
          "metadata": {
            "tags": []
          }
        },
        {
          "output_type": "display_data",
          "data": {
            "text/html": [
              "<span style=\"color:cyan\"> |-dense_0: 32</span>"
            ],
            "text/plain": [
              "<IPython.core.display.HTML object>"
            ]
          },
          "metadata": {
            "tags": []
          }
        },
        {
          "output_type": "display_data",
          "data": {
            "text/html": [
              "<span style=\"color:blue\"> |-dense_1: 96</span>"
            ],
            "text/plain": [
              "<IPython.core.display.HTML object>"
            ]
          },
          "metadata": {
            "tags": []
          }
        },
        {
          "output_type": "display_data",
          "data": {
            "text/html": [
              "<span style=\"color:cyan\"> |-dense_2: 64</span>"
            ],
            "text/plain": [
              "<IPython.core.display.HTML object>"
            ]
          },
          "metadata": {
            "tags": []
          }
        },
        {
          "output_type": "display_data",
          "data": {
            "text/html": [
              "<span style=\"color:blue\"> |-dense_input: 128</span>"
            ],
            "text/plain": [
              "<IPython.core.display.HTML object>"
            ]
          },
          "metadata": {
            "tags": []
          }
        },
        {
          "output_type": "display_data",
          "data": {
            "text/html": [
              "<span style=\"color:cyan\"> |-drop_0: 0.2</span>"
            ],
            "text/plain": [
              "<IPython.core.display.HTML object>"
            ]
          },
          "metadata": {
            "tags": []
          }
        },
        {
          "output_type": "display_data",
          "data": {
            "text/html": [
              "<span style=\"color:blue\"> |-drop_1: 0.1</span>"
            ],
            "text/plain": [
              "<IPython.core.display.HTML object>"
            ]
          },
          "metadata": {
            "tags": []
          }
        },
        {
          "output_type": "display_data",
          "data": {
            "text/html": [
              "<span style=\"color:cyan\"> |-drop_2: 0.30000000000000004</span>"
            ],
            "text/plain": [
              "<IPython.core.display.HTML object>"
            ]
          },
          "metadata": {
            "tags": []
          }
        },
        {
          "output_type": "display_data",
          "data": {
            "text/html": [
              "<span style=\"color:blue\"> |-drop_input: 0.30000000000000004</span>"
            ],
            "text/plain": [
              "<IPython.core.display.HTML object>"
            ]
          },
          "metadata": {
            "tags": []
          }
        },
        {
          "output_type": "display_data",
          "data": {
            "text/html": [
              "<span style=\"color:cyan\"> |-lr: 0.0034854093215866385</span>"
            ],
            "text/plain": [
              "<IPython.core.display.HTML object>"
            ]
          },
          "metadata": {
            "tags": []
          }
        },
        {
          "output_type": "display_data",
          "data": {
            "text/html": [
              "<span style=\"color:blue\"> |-num_intermediate_layers: 3</span>"
            ],
            "text/plain": [
              "<IPython.core.display.HTML object>"
            ]
          },
          "metadata": {
            "tags": []
          }
        },
        {
          "output_type": "display_data",
          "data": {
            "text/html": [
              "<span style=\"color:cyan\"> |-tuner/bracket: 3</span>"
            ],
            "text/plain": [
              "<IPython.core.display.HTML object>"
            ]
          },
          "metadata": {
            "tags": []
          }
        },
        {
          "output_type": "display_data",
          "data": {
            "text/html": [
              "<span style=\"color:blue\"> |-tuner/epochs: 2</span>"
            ],
            "text/plain": [
              "<IPython.core.display.HTML object>"
            ]
          },
          "metadata": {
            "tags": []
          }
        },
        {
          "output_type": "display_data",
          "data": {
            "text/html": [
              "<span style=\"color:cyan\"> |-tuner/initial_epoch: 0</span>"
            ],
            "text/plain": [
              "<IPython.core.display.HTML object>"
            ]
          },
          "metadata": {
            "tags": []
          }
        },
        {
          "output_type": "display_data",
          "data": {
            "text/html": [
              "<span style=\"color:blue\"> |-tuner/round: 0</span>"
            ],
            "text/plain": [
              "<IPython.core.display.HTML object>"
            ]
          },
          "metadata": {
            "tags": []
          }
        },
        {
          "output_type": "stream",
          "text": [
            "Epoch 1/2\n",
            "13/13 [==============================] - 0s 32ms/step - loss: 0.9308 - mae: 0.7151 - val_loss: 0.0586 - val_mae: 0.1826\n",
            "Epoch 2/2\n",
            "13/13 [==============================] - 0s 14ms/step - loss: 0.4508 - mae: 0.5219 - val_loss: 0.0389 - val_mae: 0.1444\n",
            "Epoch 1/2\n",
            "13/13 [==============================] - 0s 29ms/step - loss: 0.9621 - mae: 0.7345 - val_loss: 0.0925 - val_mae: 0.2527\n",
            "Epoch 2/2\n",
            "13/13 [==============================] - 0s 12ms/step - loss: 0.4931 - mae: 0.5259 - val_loss: 0.0420 - val_mae: 0.1580\n"
          ],
          "name": "stdout"
        },
        {
          "output_type": "display_data",
          "data": {
            "text/html": [
              "<span style=\"color:#4527A0\"><h1 style=\"font-size:18px\">Trial complete</h1></span>"
            ],
            "text/plain": [
              "<IPython.core.display.HTML object>"
            ]
          },
          "metadata": {
            "tags": []
          }
        },
        {
          "output_type": "display_data",
          "data": {
            "text/html": [
              "<span style=\"color:#4527A0\"><h1 style=\"font-size:18px\">Trial summary</h1></span>"
            ],
            "text/plain": [
              "<IPython.core.display.HTML object>"
            ]
          },
          "metadata": {
            "tags": []
          }
        },
        {
          "output_type": "display_data",
          "data": {
            "text/html": [
              "<span style=\"color:cyan\"> |-Trial ID: 93515f2d072e7244125982fa5359ae9b</span>"
            ],
            "text/plain": [
              "<IPython.core.display.HTML object>"
            ]
          },
          "metadata": {
            "tags": []
          }
        },
        {
          "output_type": "display_data",
          "data": {
            "text/html": [
              "<span style=\"color:cyan\"> |-Score: 0.15118613839149475</span>"
            ],
            "text/plain": [
              "<IPython.core.display.HTML object>"
            ]
          },
          "metadata": {
            "tags": []
          }
        },
        {
          "output_type": "display_data",
          "data": {
            "text/html": [
              "<span style=\"color:cyan\"> |-Best step: 0</span>"
            ],
            "text/plain": [
              "<IPython.core.display.HTML object>"
            ]
          },
          "metadata": {
            "tags": []
          }
        },
        {
          "output_type": "display_data",
          "data": {
            "text/html": [
              "<span style=\"color:#7E57C2\"><h2 style=\"font-size:16px\">Hyperparameters:</h2></span>"
            ],
            "text/plain": [
              "<IPython.core.display.HTML object>"
            ]
          },
          "metadata": {
            "tags": []
          }
        },
        {
          "output_type": "display_data",
          "data": {
            "text/html": [
              "<span style=\"color:cyan\"> |-dense_0: 128</span>"
            ],
            "text/plain": [
              "<IPython.core.display.HTML object>"
            ]
          },
          "metadata": {
            "tags": []
          }
        },
        {
          "output_type": "display_data",
          "data": {
            "text/html": [
              "<span style=\"color:blue\"> |-dense_1: 96</span>"
            ],
            "text/plain": [
              "<IPython.core.display.HTML object>"
            ]
          },
          "metadata": {
            "tags": []
          }
        },
        {
          "output_type": "display_data",
          "data": {
            "text/html": [
              "<span style=\"color:cyan\"> |-dense_2: 128</span>"
            ],
            "text/plain": [
              "<IPython.core.display.HTML object>"
            ]
          },
          "metadata": {
            "tags": []
          }
        },
        {
          "output_type": "display_data",
          "data": {
            "text/html": [
              "<span style=\"color:blue\"> |-dense_input: 96</span>"
            ],
            "text/plain": [
              "<IPython.core.display.HTML object>"
            ]
          },
          "metadata": {
            "tags": []
          }
        },
        {
          "output_type": "display_data",
          "data": {
            "text/html": [
              "<span style=\"color:cyan\"> |-drop_0: 0.0</span>"
            ],
            "text/plain": [
              "<IPython.core.display.HTML object>"
            ]
          },
          "metadata": {
            "tags": []
          }
        },
        {
          "output_type": "display_data",
          "data": {
            "text/html": [
              "<span style=\"color:blue\"> |-drop_1: 0.1</span>"
            ],
            "text/plain": [
              "<IPython.core.display.HTML object>"
            ]
          },
          "metadata": {
            "tags": []
          }
        },
        {
          "output_type": "display_data",
          "data": {
            "text/html": [
              "<span style=\"color:cyan\"> |-drop_2: 0.1</span>"
            ],
            "text/plain": [
              "<IPython.core.display.HTML object>"
            ]
          },
          "metadata": {
            "tags": []
          }
        },
        {
          "output_type": "display_data",
          "data": {
            "text/html": [
              "<span style=\"color:blue\"> |-drop_input: 0.2</span>"
            ],
            "text/plain": [
              "<IPython.core.display.HTML object>"
            ]
          },
          "metadata": {
            "tags": []
          }
        },
        {
          "output_type": "display_data",
          "data": {
            "text/html": [
              "<span style=\"color:cyan\"> |-lr: 0.0015393725858397454</span>"
            ],
            "text/plain": [
              "<IPython.core.display.HTML object>"
            ]
          },
          "metadata": {
            "tags": []
          }
        },
        {
          "output_type": "display_data",
          "data": {
            "text/html": [
              "<span style=\"color:blue\"> |-num_intermediate_layers: 2</span>"
            ],
            "text/plain": [
              "<IPython.core.display.HTML object>"
            ]
          },
          "metadata": {
            "tags": []
          }
        },
        {
          "output_type": "display_data",
          "data": {
            "text/html": [
              "<span style=\"color:cyan\"> |-tuner/bracket: 3</span>"
            ],
            "text/plain": [
              "<IPython.core.display.HTML object>"
            ]
          },
          "metadata": {
            "tags": []
          }
        },
        {
          "output_type": "display_data",
          "data": {
            "text/html": [
              "<span style=\"color:blue\"> |-tuner/epochs: 2</span>"
            ],
            "text/plain": [
              "<IPython.core.display.HTML object>"
            ]
          },
          "metadata": {
            "tags": []
          }
        },
        {
          "output_type": "display_data",
          "data": {
            "text/html": [
              "<span style=\"color:cyan\"> |-tuner/initial_epoch: 0</span>"
            ],
            "text/plain": [
              "<IPython.core.display.HTML object>"
            ]
          },
          "metadata": {
            "tags": []
          }
        },
        {
          "output_type": "display_data",
          "data": {
            "text/html": [
              "<span style=\"color:blue\"> |-tuner/round: 0</span>"
            ],
            "text/plain": [
              "<IPython.core.display.HTML object>"
            ]
          },
          "metadata": {
            "tags": []
          }
        },
        {
          "output_type": "stream",
          "text": [
            "Epoch 1/2\n",
            "13/13 [==============================] - 0s 27ms/step - loss: 1.1667 - mae: 0.8185 - val_loss: 0.0606 - val_mae: 0.1922\n",
            "Epoch 2/2\n",
            "13/13 [==============================] - 0s 12ms/step - loss: 0.4938 - mae: 0.5405 - val_loss: 0.0440 - val_mae: 0.1613\n",
            "Epoch 1/2\n",
            "13/13 [==============================] - 0s 27ms/step - loss: 1.4111 - mae: 0.8909 - val_loss: 0.0468 - val_mae: 0.1619\n",
            "Epoch 2/2\n",
            "13/13 [==============================] - 0s 12ms/step - loss: 0.5052 - mae: 0.5455 - val_loss: 0.0383 - val_mae: 0.1496\n"
          ],
          "name": "stdout"
        },
        {
          "output_type": "display_data",
          "data": {
            "text/html": [
              "<span style=\"color:#4527A0\"><h1 style=\"font-size:18px\">Trial complete</h1></span>"
            ],
            "text/plain": [
              "<IPython.core.display.HTML object>"
            ]
          },
          "metadata": {
            "tags": []
          }
        },
        {
          "output_type": "display_data",
          "data": {
            "text/html": [
              "<span style=\"color:#4527A0\"><h1 style=\"font-size:18px\">Trial summary</h1></span>"
            ],
            "text/plain": [
              "<IPython.core.display.HTML object>"
            ]
          },
          "metadata": {
            "tags": []
          }
        },
        {
          "output_type": "display_data",
          "data": {
            "text/html": [
              "<span style=\"color:cyan\"> |-Trial ID: 3979f04973f7a0c2ddb09603a8f206a3</span>"
            ],
            "text/plain": [
              "<IPython.core.display.HTML object>"
            ]
          },
          "metadata": {
            "tags": []
          }
        },
        {
          "output_type": "display_data",
          "data": {
            "text/html": [
              "<span style=\"color:cyan\"> |-Score: 0.1554412543773651</span>"
            ],
            "text/plain": [
              "<IPython.core.display.HTML object>"
            ]
          },
          "metadata": {
            "tags": []
          }
        },
        {
          "output_type": "display_data",
          "data": {
            "text/html": [
              "<span style=\"color:cyan\"> |-Best step: 0</span>"
            ],
            "text/plain": [
              "<IPython.core.display.HTML object>"
            ]
          },
          "metadata": {
            "tags": []
          }
        },
        {
          "output_type": "display_data",
          "data": {
            "text/html": [
              "<span style=\"color:#7E57C2\"><h2 style=\"font-size:16px\">Hyperparameters:</h2></span>"
            ],
            "text/plain": [
              "<IPython.core.display.HTML object>"
            ]
          },
          "metadata": {
            "tags": []
          }
        },
        {
          "output_type": "display_data",
          "data": {
            "text/html": [
              "<span style=\"color:cyan\"> |-dense_0: 64</span>"
            ],
            "text/plain": [
              "<IPython.core.display.HTML object>"
            ]
          },
          "metadata": {
            "tags": []
          }
        },
        {
          "output_type": "display_data",
          "data": {
            "text/html": [
              "<span style=\"color:blue\"> |-dense_1: 96</span>"
            ],
            "text/plain": [
              "<IPython.core.display.HTML object>"
            ]
          },
          "metadata": {
            "tags": []
          }
        },
        {
          "output_type": "display_data",
          "data": {
            "text/html": [
              "<span style=\"color:cyan\"> |-dense_2: 32</span>"
            ],
            "text/plain": [
              "<IPython.core.display.HTML object>"
            ]
          },
          "metadata": {
            "tags": []
          }
        },
        {
          "output_type": "display_data",
          "data": {
            "text/html": [
              "<span style=\"color:blue\"> |-dense_input: 128</span>"
            ],
            "text/plain": [
              "<IPython.core.display.HTML object>"
            ]
          },
          "metadata": {
            "tags": []
          }
        },
        {
          "output_type": "display_data",
          "data": {
            "text/html": [
              "<span style=\"color:cyan\"> |-drop_0: 0.1</span>"
            ],
            "text/plain": [
              "<IPython.core.display.HTML object>"
            ]
          },
          "metadata": {
            "tags": []
          }
        },
        {
          "output_type": "display_data",
          "data": {
            "text/html": [
              "<span style=\"color:blue\"> |-drop_1: 0.1</span>"
            ],
            "text/plain": [
              "<IPython.core.display.HTML object>"
            ]
          },
          "metadata": {
            "tags": []
          }
        },
        {
          "output_type": "display_data",
          "data": {
            "text/html": [
              "<span style=\"color:cyan\"> |-drop_2: 0.0</span>"
            ],
            "text/plain": [
              "<IPython.core.display.HTML object>"
            ]
          },
          "metadata": {
            "tags": []
          }
        },
        {
          "output_type": "display_data",
          "data": {
            "text/html": [
              "<span style=\"color:blue\"> |-drop_input: 0.2</span>"
            ],
            "text/plain": [
              "<IPython.core.display.HTML object>"
            ]
          },
          "metadata": {
            "tags": []
          }
        },
        {
          "output_type": "display_data",
          "data": {
            "text/html": [
              "<span style=\"color:cyan\"> |-lr: 0.002846001376972815</span>"
            ],
            "text/plain": [
              "<IPython.core.display.HTML object>"
            ]
          },
          "metadata": {
            "tags": []
          }
        },
        {
          "output_type": "display_data",
          "data": {
            "text/html": [
              "<span style=\"color:blue\"> |-num_intermediate_layers: 1</span>"
            ],
            "text/plain": [
              "<IPython.core.display.HTML object>"
            ]
          },
          "metadata": {
            "tags": []
          }
        },
        {
          "output_type": "display_data",
          "data": {
            "text/html": [
              "<span style=\"color:cyan\"> |-tuner/bracket: 3</span>"
            ],
            "text/plain": [
              "<IPython.core.display.HTML object>"
            ]
          },
          "metadata": {
            "tags": []
          }
        },
        {
          "output_type": "display_data",
          "data": {
            "text/html": [
              "<span style=\"color:blue\"> |-tuner/epochs: 2</span>"
            ],
            "text/plain": [
              "<IPython.core.display.HTML object>"
            ]
          },
          "metadata": {
            "tags": []
          }
        },
        {
          "output_type": "display_data",
          "data": {
            "text/html": [
              "<span style=\"color:cyan\"> |-tuner/initial_epoch: 0</span>"
            ],
            "text/plain": [
              "<IPython.core.display.HTML object>"
            ]
          },
          "metadata": {
            "tags": []
          }
        },
        {
          "output_type": "display_data",
          "data": {
            "text/html": [
              "<span style=\"color:blue\"> |-tuner/round: 0</span>"
            ],
            "text/plain": [
              "<IPython.core.display.HTML object>"
            ]
          },
          "metadata": {
            "tags": []
          }
        },
        {
          "output_type": "stream",
          "text": [
            "Epoch 1/2\n",
            "13/13 [==============================] - 0s 27ms/step - loss: 1.7595 - mae: 1.0456 - val_loss: 0.1605 - val_mae: 0.3213\n",
            "Epoch 2/2\n",
            "13/13 [==============================] - 0s 12ms/step - loss: 1.2246 - mae: 0.8793 - val_loss: 0.1285 - val_mae: 0.2814\n",
            "Epoch 1/2\n",
            "13/13 [==============================] - 0s 25ms/step - loss: 1.1429 - mae: 0.8504 - val_loss: 0.1427 - val_mae: 0.3343\n",
            "Epoch 2/2\n",
            "13/13 [==============================] - 0s 10ms/step - loss: 0.8128 - mae: 0.7285 - val_loss: 0.1640 - val_mae: 0.3633\n"
          ],
          "name": "stdout"
        },
        {
          "output_type": "display_data",
          "data": {
            "text/html": [
              "<span style=\"color:#4527A0\"><h1 style=\"font-size:18px\">Trial complete</h1></span>"
            ],
            "text/plain": [
              "<IPython.core.display.HTML object>"
            ]
          },
          "metadata": {
            "tags": []
          }
        },
        {
          "output_type": "display_data",
          "data": {
            "text/html": [
              "<span style=\"color:#4527A0\"><h1 style=\"font-size:18px\">Trial summary</h1></span>"
            ],
            "text/plain": [
              "<IPython.core.display.HTML object>"
            ]
          },
          "metadata": {
            "tags": []
          }
        },
        {
          "output_type": "display_data",
          "data": {
            "text/html": [
              "<span style=\"color:cyan\"> |-Trial ID: 0d2a54cbc4c19eaf3b668d1846485ae8</span>"
            ],
            "text/plain": [
              "<IPython.core.display.HTML object>"
            ]
          },
          "metadata": {
            "tags": []
          }
        },
        {
          "output_type": "display_data",
          "data": {
            "text/html": [
              "<span style=\"color:cyan\"> |-Score: 0.307890921831131</span>"
            ],
            "text/plain": [
              "<IPython.core.display.HTML object>"
            ]
          },
          "metadata": {
            "tags": []
          }
        },
        {
          "output_type": "display_data",
          "data": {
            "text/html": [
              "<span style=\"color:cyan\"> |-Best step: 0</span>"
            ],
            "text/plain": [
              "<IPython.core.display.HTML object>"
            ]
          },
          "metadata": {
            "tags": []
          }
        },
        {
          "output_type": "display_data",
          "data": {
            "text/html": [
              "<span style=\"color:#7E57C2\"><h2 style=\"font-size:16px\">Hyperparameters:</h2></span>"
            ],
            "text/plain": [
              "<IPython.core.display.HTML object>"
            ]
          },
          "metadata": {
            "tags": []
          }
        },
        {
          "output_type": "display_data",
          "data": {
            "text/html": [
              "<span style=\"color:cyan\"> |-dense_0: 128</span>"
            ],
            "text/plain": [
              "<IPython.core.display.HTML object>"
            ]
          },
          "metadata": {
            "tags": []
          }
        },
        {
          "output_type": "display_data",
          "data": {
            "text/html": [
              "<span style=\"color:blue\"> |-dense_1: 96</span>"
            ],
            "text/plain": [
              "<IPython.core.display.HTML object>"
            ]
          },
          "metadata": {
            "tags": []
          }
        },
        {
          "output_type": "display_data",
          "data": {
            "text/html": [
              "<span style=\"color:cyan\"> |-dense_2: 96</span>"
            ],
            "text/plain": [
              "<IPython.core.display.HTML object>"
            ]
          },
          "metadata": {
            "tags": []
          }
        },
        {
          "output_type": "display_data",
          "data": {
            "text/html": [
              "<span style=\"color:blue\"> |-dense_input: 64</span>"
            ],
            "text/plain": [
              "<IPython.core.display.HTML object>"
            ]
          },
          "metadata": {
            "tags": []
          }
        },
        {
          "output_type": "display_data",
          "data": {
            "text/html": [
              "<span style=\"color:cyan\"> |-drop_0: 0.0</span>"
            ],
            "text/plain": [
              "<IPython.core.display.HTML object>"
            ]
          },
          "metadata": {
            "tags": []
          }
        },
        {
          "output_type": "display_data",
          "data": {
            "text/html": [
              "<span style=\"color:blue\"> |-drop_1: 0.0</span>"
            ],
            "text/plain": [
              "<IPython.core.display.HTML object>"
            ]
          },
          "metadata": {
            "tags": []
          }
        },
        {
          "output_type": "display_data",
          "data": {
            "text/html": [
              "<span style=\"color:cyan\"> |-drop_2: 0.1</span>"
            ],
            "text/plain": [
              "<IPython.core.display.HTML object>"
            ]
          },
          "metadata": {
            "tags": []
          }
        },
        {
          "output_type": "display_data",
          "data": {
            "text/html": [
              "<span style=\"color:blue\"> |-drop_input: 0.2</span>"
            ],
            "text/plain": [
              "<IPython.core.display.HTML object>"
            ]
          },
          "metadata": {
            "tags": []
          }
        },
        {
          "output_type": "display_data",
          "data": {
            "text/html": [
              "<span style=\"color:cyan\"> |-lr: 0.00017768218966871232</span>"
            ],
            "text/plain": [
              "<IPython.core.display.HTML object>"
            ]
          },
          "metadata": {
            "tags": []
          }
        },
        {
          "output_type": "display_data",
          "data": {
            "text/html": [
              "<span style=\"color:blue\"> |-num_intermediate_layers: 1</span>"
            ],
            "text/plain": [
              "<IPython.core.display.HTML object>"
            ]
          },
          "metadata": {
            "tags": []
          }
        },
        {
          "output_type": "display_data",
          "data": {
            "text/html": [
              "<span style=\"color:cyan\"> |-tuner/bracket: 3</span>"
            ],
            "text/plain": [
              "<IPython.core.display.HTML object>"
            ]
          },
          "metadata": {
            "tags": []
          }
        },
        {
          "output_type": "display_data",
          "data": {
            "text/html": [
              "<span style=\"color:blue\"> |-tuner/epochs: 2</span>"
            ],
            "text/plain": [
              "<IPython.core.display.HTML object>"
            ]
          },
          "metadata": {
            "tags": []
          }
        },
        {
          "output_type": "display_data",
          "data": {
            "text/html": [
              "<span style=\"color:cyan\"> |-tuner/initial_epoch: 0</span>"
            ],
            "text/plain": [
              "<IPython.core.display.HTML object>"
            ]
          },
          "metadata": {
            "tags": []
          }
        },
        {
          "output_type": "display_data",
          "data": {
            "text/html": [
              "<span style=\"color:blue\"> |-tuner/round: 0</span>"
            ],
            "text/plain": [
              "<IPython.core.display.HTML object>"
            ]
          },
          "metadata": {
            "tags": []
          }
        },
        {
          "output_type": "stream",
          "text": [
            "Epoch 1/2\n",
            "13/13 [==============================] - 0s 32ms/step - loss: 1.3892 - mae: 0.8800 - val_loss: 0.0684 - val_mae: 0.2132\n",
            "Epoch 2/2\n",
            "13/13 [==============================] - 0s 15ms/step - loss: 1.0811 - mae: 0.7930 - val_loss: 0.0463 - val_mae: 0.1635\n",
            "Epoch 1/2\n",
            "13/13 [==============================] - 0s 34ms/step - loss: 2.0407 - mae: 1.0917 - val_loss: 0.0512 - val_mae: 0.1709\n",
            "Epoch 2/2\n",
            "13/13 [==============================] - 0s 14ms/step - loss: 1.1121 - mae: 0.8270 - val_loss: 0.0341 - val_mae: 0.1373\n"
          ],
          "name": "stdout"
        },
        {
          "output_type": "display_data",
          "data": {
            "text/html": [
              "<span style=\"color:#4527A0\"><h1 style=\"font-size:18px\">Trial complete</h1></span>"
            ],
            "text/plain": [
              "<IPython.core.display.HTML object>"
            ]
          },
          "metadata": {
            "tags": []
          }
        },
        {
          "output_type": "display_data",
          "data": {
            "text/html": [
              "<span style=\"color:#4527A0\"><h1 style=\"font-size:18px\">Trial summary</h1></span>"
            ],
            "text/plain": [
              "<IPython.core.display.HTML object>"
            ]
          },
          "metadata": {
            "tags": []
          }
        },
        {
          "output_type": "display_data",
          "data": {
            "text/html": [
              "<span style=\"color:cyan\"> |-Trial ID: 078995a5c343e1be207f7680ded6c678</span>"
            ],
            "text/plain": [
              "<IPython.core.display.HTML object>"
            ]
          },
          "metadata": {
            "tags": []
          }
        },
        {
          "output_type": "display_data",
          "data": {
            "text/html": [
              "<span style=\"color:cyan\"> |-Score: 0.1504141092300415</span>"
            ],
            "text/plain": [
              "<IPython.core.display.HTML object>"
            ]
          },
          "metadata": {
            "tags": []
          }
        },
        {
          "output_type": "display_data",
          "data": {
            "text/html": [
              "<span style=\"color:cyan\"> |-Best step: 0</span>"
            ],
            "text/plain": [
              "<IPython.core.display.HTML object>"
            ]
          },
          "metadata": {
            "tags": []
          }
        },
        {
          "output_type": "display_data",
          "data": {
            "text/html": [
              "<span style=\"color:#7E57C2\"><h2 style=\"font-size:16px\">Hyperparameters:</h2></span>"
            ],
            "text/plain": [
              "<IPython.core.display.HTML object>"
            ]
          },
          "metadata": {
            "tags": []
          }
        },
        {
          "output_type": "display_data",
          "data": {
            "text/html": [
              "<span style=\"color:cyan\"> |-dense_0: 96</span>"
            ],
            "text/plain": [
              "<IPython.core.display.HTML object>"
            ]
          },
          "metadata": {
            "tags": []
          }
        },
        {
          "output_type": "display_data",
          "data": {
            "text/html": [
              "<span style=\"color:blue\"> |-dense_1: 96</span>"
            ],
            "text/plain": [
              "<IPython.core.display.HTML object>"
            ]
          },
          "metadata": {
            "tags": []
          }
        },
        {
          "output_type": "display_data",
          "data": {
            "text/html": [
              "<span style=\"color:cyan\"> |-dense_2: 64</span>"
            ],
            "text/plain": [
              "<IPython.core.display.HTML object>"
            ]
          },
          "metadata": {
            "tags": []
          }
        },
        {
          "output_type": "display_data",
          "data": {
            "text/html": [
              "<span style=\"color:blue\"> |-dense_input: 128</span>"
            ],
            "text/plain": [
              "<IPython.core.display.HTML object>"
            ]
          },
          "metadata": {
            "tags": []
          }
        },
        {
          "output_type": "display_data",
          "data": {
            "text/html": [
              "<span style=\"color:cyan\"> |-drop_0: 0.0</span>"
            ],
            "text/plain": [
              "<IPython.core.display.HTML object>"
            ]
          },
          "metadata": {
            "tags": []
          }
        },
        {
          "output_type": "display_data",
          "data": {
            "text/html": [
              "<span style=\"color:blue\"> |-drop_1: 0.30000000000000004</span>"
            ],
            "text/plain": [
              "<IPython.core.display.HTML object>"
            ]
          },
          "metadata": {
            "tags": []
          }
        },
        {
          "output_type": "display_data",
          "data": {
            "text/html": [
              "<span style=\"color:cyan\"> |-drop_2: 0.2</span>"
            ],
            "text/plain": [
              "<IPython.core.display.HTML object>"
            ]
          },
          "metadata": {
            "tags": []
          }
        },
        {
          "output_type": "display_data",
          "data": {
            "text/html": [
              "<span style=\"color:blue\"> |-drop_input: 0.30000000000000004</span>"
            ],
            "text/plain": [
              "<IPython.core.display.HTML object>"
            ]
          },
          "metadata": {
            "tags": []
          }
        },
        {
          "output_type": "display_data",
          "data": {
            "text/html": [
              "<span style=\"color:cyan\"> |-lr: 0.0019513235178244249</span>"
            ],
            "text/plain": [
              "<IPython.core.display.HTML object>"
            ]
          },
          "metadata": {
            "tags": []
          }
        },
        {
          "output_type": "display_data",
          "data": {
            "text/html": [
              "<span style=\"color:blue\"> |-num_intermediate_layers: 2</span>"
            ],
            "text/plain": [
              "<IPython.core.display.HTML object>"
            ]
          },
          "metadata": {
            "tags": []
          }
        },
        {
          "output_type": "display_data",
          "data": {
            "text/html": [
              "<span style=\"color:cyan\"> |-tuner/bracket: 3</span>"
            ],
            "text/plain": [
              "<IPython.core.display.HTML object>"
            ]
          },
          "metadata": {
            "tags": []
          }
        },
        {
          "output_type": "display_data",
          "data": {
            "text/html": [
              "<span style=\"color:blue\"> |-tuner/epochs: 2</span>"
            ],
            "text/plain": [
              "<IPython.core.display.HTML object>"
            ]
          },
          "metadata": {
            "tags": []
          }
        },
        {
          "output_type": "display_data",
          "data": {
            "text/html": [
              "<span style=\"color:cyan\"> |-tuner/initial_epoch: 0</span>"
            ],
            "text/plain": [
              "<IPython.core.display.HTML object>"
            ]
          },
          "metadata": {
            "tags": []
          }
        },
        {
          "output_type": "display_data",
          "data": {
            "text/html": [
              "<span style=\"color:blue\"> |-tuner/round: 0</span>"
            ],
            "text/plain": [
              "<IPython.core.display.HTML object>"
            ]
          },
          "metadata": {
            "tags": []
          }
        },
        {
          "output_type": "stream",
          "text": [
            "Epoch 1/2\n",
            "13/13 [==============================] - 0s 37ms/step - loss: 1.2068 - mae: 0.7920 - val_loss: 0.0535 - val_mae: 0.1769\n",
            "Epoch 2/2\n",
            "13/13 [==============================] - 0s 15ms/step - loss: 0.6652 - mae: 0.6153 - val_loss: 0.0417 - val_mae: 0.1497\n",
            "Epoch 1/2\n",
            "13/13 [==============================] - 1s 39ms/step - loss: 1.6444 - mae: 0.9358 - val_loss: 0.0465 - val_mae: 0.1538\n",
            "Epoch 2/2\n",
            "13/13 [==============================] - 0s 15ms/step - loss: 0.6103 - mae: 0.5864 - val_loss: 0.0323 - val_mae: 0.1367\n"
          ],
          "name": "stdout"
        },
        {
          "output_type": "display_data",
          "data": {
            "text/html": [
              "<span style=\"color:#4527A0\"><h1 style=\"font-size:18px\">Trial complete</h1></span>"
            ],
            "text/plain": [
              "<IPython.core.display.HTML object>"
            ]
          },
          "metadata": {
            "tags": []
          }
        },
        {
          "output_type": "display_data",
          "data": {
            "text/html": [
              "<span style=\"color:#4527A0\"><h1 style=\"font-size:18px\">Trial summary</h1></span>"
            ],
            "text/plain": [
              "<IPython.core.display.HTML object>"
            ]
          },
          "metadata": {
            "tags": []
          }
        },
        {
          "output_type": "display_data",
          "data": {
            "text/html": [
              "<span style=\"color:cyan\"> |-Trial ID: 4b0275b9484d1efa8dd084ccf39b7df2</span>"
            ],
            "text/plain": [
              "<IPython.core.display.HTML object>"
            ]
          },
          "metadata": {
            "tags": []
          }
        },
        {
          "output_type": "display_data",
          "data": {
            "text/html": [
              "<span style=\"color:cyan\"> |-Score: 0.1431889906525612</span>"
            ],
            "text/plain": [
              "<IPython.core.display.HTML object>"
            ]
          },
          "metadata": {
            "tags": []
          }
        },
        {
          "output_type": "display_data",
          "data": {
            "text/html": [
              "<span style=\"color:cyan\"> |-Best step: 0</span>"
            ],
            "text/plain": [
              "<IPython.core.display.HTML object>"
            ]
          },
          "metadata": {
            "tags": []
          }
        },
        {
          "output_type": "display_data",
          "data": {
            "text/html": [
              "<span style=\"color:#7E57C2\"><h2 style=\"font-size:16px\">Hyperparameters:</h2></span>"
            ],
            "text/plain": [
              "<IPython.core.display.HTML object>"
            ]
          },
          "metadata": {
            "tags": []
          }
        },
        {
          "output_type": "display_data",
          "data": {
            "text/html": [
              "<span style=\"color:cyan\"> |-dense_0: 96</span>"
            ],
            "text/plain": [
              "<IPython.core.display.HTML object>"
            ]
          },
          "metadata": {
            "tags": []
          }
        },
        {
          "output_type": "display_data",
          "data": {
            "text/html": [
              "<span style=\"color:blue\"> |-dense_1: 32</span>"
            ],
            "text/plain": [
              "<IPython.core.display.HTML object>"
            ]
          },
          "metadata": {
            "tags": []
          }
        },
        {
          "output_type": "display_data",
          "data": {
            "text/html": [
              "<span style=\"color:cyan\"> |-dense_2: 96</span>"
            ],
            "text/plain": [
              "<IPython.core.display.HTML object>"
            ]
          },
          "metadata": {
            "tags": []
          }
        },
        {
          "output_type": "display_data",
          "data": {
            "text/html": [
              "<span style=\"color:blue\"> |-dense_input: 32</span>"
            ],
            "text/plain": [
              "<IPython.core.display.HTML object>"
            ]
          },
          "metadata": {
            "tags": []
          }
        },
        {
          "output_type": "display_data",
          "data": {
            "text/html": [
              "<span style=\"color:cyan\"> |-drop_0: 0.30000000000000004</span>"
            ],
            "text/plain": [
              "<IPython.core.display.HTML object>"
            ]
          },
          "metadata": {
            "tags": []
          }
        },
        {
          "output_type": "display_data",
          "data": {
            "text/html": [
              "<span style=\"color:blue\"> |-drop_1: 0.0</span>"
            ],
            "text/plain": [
              "<IPython.core.display.HTML object>"
            ]
          },
          "metadata": {
            "tags": []
          }
        },
        {
          "output_type": "display_data",
          "data": {
            "text/html": [
              "<span style=\"color:cyan\"> |-drop_2: 0.2</span>"
            ],
            "text/plain": [
              "<IPython.core.display.HTML object>"
            ]
          },
          "metadata": {
            "tags": []
          }
        },
        {
          "output_type": "display_data",
          "data": {
            "text/html": [
              "<span style=\"color:blue\"> |-drop_input: 0.2</span>"
            ],
            "text/plain": [
              "<IPython.core.display.HTML object>"
            ]
          },
          "metadata": {
            "tags": []
          }
        },
        {
          "output_type": "display_data",
          "data": {
            "text/html": [
              "<span style=\"color:cyan\"> |-lr: 0.002552929004309444</span>"
            ],
            "text/plain": [
              "<IPython.core.display.HTML object>"
            ]
          },
          "metadata": {
            "tags": []
          }
        },
        {
          "output_type": "display_data",
          "data": {
            "text/html": [
              "<span style=\"color:blue\"> |-num_intermediate_layers: 3</span>"
            ],
            "text/plain": [
              "<IPython.core.display.HTML object>"
            ]
          },
          "metadata": {
            "tags": []
          }
        },
        {
          "output_type": "display_data",
          "data": {
            "text/html": [
              "<span style=\"color:cyan\"> |-tuner/bracket: 3</span>"
            ],
            "text/plain": [
              "<IPython.core.display.HTML object>"
            ]
          },
          "metadata": {
            "tags": []
          }
        },
        {
          "output_type": "display_data",
          "data": {
            "text/html": [
              "<span style=\"color:blue\"> |-tuner/epochs: 2</span>"
            ],
            "text/plain": [
              "<IPython.core.display.HTML object>"
            ]
          },
          "metadata": {
            "tags": []
          }
        },
        {
          "output_type": "display_data",
          "data": {
            "text/html": [
              "<span style=\"color:cyan\"> |-tuner/initial_epoch: 0</span>"
            ],
            "text/plain": [
              "<IPython.core.display.HTML object>"
            ]
          },
          "metadata": {
            "tags": []
          }
        },
        {
          "output_type": "display_data",
          "data": {
            "text/html": [
              "<span style=\"color:blue\"> |-tuner/round: 0</span>"
            ],
            "text/plain": [
              "<IPython.core.display.HTML object>"
            ]
          },
          "metadata": {
            "tags": []
          }
        },
        {
          "output_type": "stream",
          "text": [
            "Epoch 1/2\n",
            "13/13 [==============================] - 0s 36ms/step - loss: 1.9526 - mae: 1.0961 - val_loss: 0.2149 - val_mae: 0.4201\n",
            "Epoch 2/2\n",
            "13/13 [==============================] - 0s 16ms/step - loss: 1.6458 - mae: 0.9827 - val_loss: 0.1841 - val_mae: 0.3771\n",
            "Epoch 1/2\n",
            "13/13 [==============================] - 1s 43ms/step - loss: 2.3389 - mae: 1.1830 - val_loss: 0.1353 - val_mae: 0.3032\n",
            "Epoch 2/2\n",
            "13/13 [==============================] - 0s 14ms/step - loss: 1.7302 - mae: 1.0172 - val_loss: 0.1480 - val_mae: 0.3187\n"
          ],
          "name": "stdout"
        },
        {
          "output_type": "display_data",
          "data": {
            "text/html": [
              "<span style=\"color:#4527A0\"><h1 style=\"font-size:18px\">Trial complete</h1></span>"
            ],
            "text/plain": [
              "<IPython.core.display.HTML object>"
            ]
          },
          "metadata": {
            "tags": []
          }
        },
        {
          "output_type": "display_data",
          "data": {
            "text/html": [
              "<span style=\"color:#4527A0\"><h1 style=\"font-size:18px\">Trial summary</h1></span>"
            ],
            "text/plain": [
              "<IPython.core.display.HTML object>"
            ]
          },
          "metadata": {
            "tags": []
          }
        },
        {
          "output_type": "display_data",
          "data": {
            "text/html": [
              "<span style=\"color:cyan\"> |-Trial ID: 0ab36f10047940c98e32ebef450774c7</span>"
            ],
            "text/plain": [
              "<IPython.core.display.HTML object>"
            ]
          },
          "metadata": {
            "tags": []
          }
        },
        {
          "output_type": "display_data",
          "data": {
            "text/html": [
              "<span style=\"color:cyan\"> |-Score: 0.3401663899421692</span>"
            ],
            "text/plain": [
              "<IPython.core.display.HTML object>"
            ]
          },
          "metadata": {
            "tags": []
          }
        },
        {
          "output_type": "display_data",
          "data": {
            "text/html": [
              "<span style=\"color:cyan\"> |-Best step: 0</span>"
            ],
            "text/plain": [
              "<IPython.core.display.HTML object>"
            ]
          },
          "metadata": {
            "tags": []
          }
        },
        {
          "output_type": "display_data",
          "data": {
            "text/html": [
              "<span style=\"color:#7E57C2\"><h2 style=\"font-size:16px\">Hyperparameters:</h2></span>"
            ],
            "text/plain": [
              "<IPython.core.display.HTML object>"
            ]
          },
          "metadata": {
            "tags": []
          }
        },
        {
          "output_type": "display_data",
          "data": {
            "text/html": [
              "<span style=\"color:cyan\"> |-dense_0: 64</span>"
            ],
            "text/plain": [
              "<IPython.core.display.HTML object>"
            ]
          },
          "metadata": {
            "tags": []
          }
        },
        {
          "output_type": "display_data",
          "data": {
            "text/html": [
              "<span style=\"color:blue\"> |-dense_1: 32</span>"
            ],
            "text/plain": [
              "<IPython.core.display.HTML object>"
            ]
          },
          "metadata": {
            "tags": []
          }
        },
        {
          "output_type": "display_data",
          "data": {
            "text/html": [
              "<span style=\"color:cyan\"> |-dense_2: 96</span>"
            ],
            "text/plain": [
              "<IPython.core.display.HTML object>"
            ]
          },
          "metadata": {
            "tags": []
          }
        },
        {
          "output_type": "display_data",
          "data": {
            "text/html": [
              "<span style=\"color:blue\"> |-dense_input: 96</span>"
            ],
            "text/plain": [
              "<IPython.core.display.HTML object>"
            ]
          },
          "metadata": {
            "tags": []
          }
        },
        {
          "output_type": "display_data",
          "data": {
            "text/html": [
              "<span style=\"color:cyan\"> |-drop_0: 0.2</span>"
            ],
            "text/plain": [
              "<IPython.core.display.HTML object>"
            ]
          },
          "metadata": {
            "tags": []
          }
        },
        {
          "output_type": "display_data",
          "data": {
            "text/html": [
              "<span style=\"color:blue\"> |-drop_1: 0.2</span>"
            ],
            "text/plain": [
              "<IPython.core.display.HTML object>"
            ]
          },
          "metadata": {
            "tags": []
          }
        },
        {
          "output_type": "display_data",
          "data": {
            "text/html": [
              "<span style=\"color:cyan\"> |-drop_2: 0.2</span>"
            ],
            "text/plain": [
              "<IPython.core.display.HTML object>"
            ]
          },
          "metadata": {
            "tags": []
          }
        },
        {
          "output_type": "display_data",
          "data": {
            "text/html": [
              "<span style=\"color:blue\"> |-drop_input: 0.1</span>"
            ],
            "text/plain": [
              "<IPython.core.display.HTML object>"
            ]
          },
          "metadata": {
            "tags": []
          }
        },
        {
          "output_type": "display_data",
          "data": {
            "text/html": [
              "<span style=\"color:cyan\"> |-lr: 0.00022711128349401242</span>"
            ],
            "text/plain": [
              "<IPython.core.display.HTML object>"
            ]
          },
          "metadata": {
            "tags": []
          }
        },
        {
          "output_type": "display_data",
          "data": {
            "text/html": [
              "<span style=\"color:blue\"> |-num_intermediate_layers: 3</span>"
            ],
            "text/plain": [
              "<IPython.core.display.HTML object>"
            ]
          },
          "metadata": {
            "tags": []
          }
        },
        {
          "output_type": "display_data",
          "data": {
            "text/html": [
              "<span style=\"color:cyan\"> |-tuner/bracket: 3</span>"
            ],
            "text/plain": [
              "<IPython.core.display.HTML object>"
            ]
          },
          "metadata": {
            "tags": []
          }
        },
        {
          "output_type": "display_data",
          "data": {
            "text/html": [
              "<span style=\"color:blue\"> |-tuner/epochs: 2</span>"
            ],
            "text/plain": [
              "<IPython.core.display.HTML object>"
            ]
          },
          "metadata": {
            "tags": []
          }
        },
        {
          "output_type": "display_data",
          "data": {
            "text/html": [
              "<span style=\"color:cyan\"> |-tuner/initial_epoch: 0</span>"
            ],
            "text/plain": [
              "<IPython.core.display.HTML object>"
            ]
          },
          "metadata": {
            "tags": []
          }
        },
        {
          "output_type": "display_data",
          "data": {
            "text/html": [
              "<span style=\"color:blue\"> |-tuner/round: 0</span>"
            ],
            "text/plain": [
              "<IPython.core.display.HTML object>"
            ]
          },
          "metadata": {
            "tags": []
          }
        },
        {
          "output_type": "stream",
          "text": [
            "Epoch 1/2\n",
            "13/13 [==============================] - 0s 34ms/step - loss: 0.8048 - mae: 0.6766 - val_loss: 0.0904 - val_mae: 0.2371\n",
            "Epoch 2/2\n",
            "13/13 [==============================] - 0s 13ms/step - loss: 0.3751 - mae: 0.4481 - val_loss: 0.0488 - val_mae: 0.1634\n",
            "Epoch 1/2\n",
            "13/13 [==============================] - 0s 30ms/step - loss: 1.0092 - mae: 0.7748 - val_loss: 0.0611 - val_mae: 0.1936\n",
            "Epoch 2/2\n",
            "13/13 [==============================] - 0s 14ms/step - loss: 0.4710 - mae: 0.4944 - val_loss: 0.0359 - val_mae: 0.1456\n"
          ],
          "name": "stdout"
        },
        {
          "output_type": "display_data",
          "data": {
            "text/html": [
              "<span style=\"color:#4527A0\"><h1 style=\"font-size:18px\">Trial complete</h1></span>"
            ],
            "text/plain": [
              "<IPython.core.display.HTML object>"
            ]
          },
          "metadata": {
            "tags": []
          }
        },
        {
          "output_type": "display_data",
          "data": {
            "text/html": [
              "<span style=\"color:#4527A0\"><h1 style=\"font-size:18px\">Trial summary</h1></span>"
            ],
            "text/plain": [
              "<IPython.core.display.HTML object>"
            ]
          },
          "metadata": {
            "tags": []
          }
        },
        {
          "output_type": "display_data",
          "data": {
            "text/html": [
              "<span style=\"color:cyan\"> |-Trial ID: d31b86e226760870dc3251262ff22a5d</span>"
            ],
            "text/plain": [
              "<IPython.core.display.HTML object>"
            ]
          },
          "metadata": {
            "tags": []
          }
        },
        {
          "output_type": "display_data",
          "data": {
            "text/html": [
              "<span style=\"color:cyan\"> |-Score: 0.154485322535038</span>"
            ],
            "text/plain": [
              "<IPython.core.display.HTML object>"
            ]
          },
          "metadata": {
            "tags": []
          }
        },
        {
          "output_type": "display_data",
          "data": {
            "text/html": [
              "<span style=\"color:cyan\"> |-Best step: 0</span>"
            ],
            "text/plain": [
              "<IPython.core.display.HTML object>"
            ]
          },
          "metadata": {
            "tags": []
          }
        },
        {
          "output_type": "display_data",
          "data": {
            "text/html": [
              "<span style=\"color:#7E57C2\"><h2 style=\"font-size:16px\">Hyperparameters:</h2></span>"
            ],
            "text/plain": [
              "<IPython.core.display.HTML object>"
            ]
          },
          "metadata": {
            "tags": []
          }
        },
        {
          "output_type": "display_data",
          "data": {
            "text/html": [
              "<span style=\"color:cyan\"> |-dense_0: 64</span>"
            ],
            "text/plain": [
              "<IPython.core.display.HTML object>"
            ]
          },
          "metadata": {
            "tags": []
          }
        },
        {
          "output_type": "display_data",
          "data": {
            "text/html": [
              "<span style=\"color:blue\"> |-dense_1: 64</span>"
            ],
            "text/plain": [
              "<IPython.core.display.HTML object>"
            ]
          },
          "metadata": {
            "tags": []
          }
        },
        {
          "output_type": "display_data",
          "data": {
            "text/html": [
              "<span style=\"color:cyan\"> |-dense_2: 32</span>"
            ],
            "text/plain": [
              "<IPython.core.display.HTML object>"
            ]
          },
          "metadata": {
            "tags": []
          }
        },
        {
          "output_type": "display_data",
          "data": {
            "text/html": [
              "<span style=\"color:blue\"> |-dense_input: 64</span>"
            ],
            "text/plain": [
              "<IPython.core.display.HTML object>"
            ]
          },
          "metadata": {
            "tags": []
          }
        },
        {
          "output_type": "display_data",
          "data": {
            "text/html": [
              "<span style=\"color:cyan\"> |-drop_0: 0.0</span>"
            ],
            "text/plain": [
              "<IPython.core.display.HTML object>"
            ]
          },
          "metadata": {
            "tags": []
          }
        },
        {
          "output_type": "display_data",
          "data": {
            "text/html": [
              "<span style=\"color:blue\"> |-drop_1: 0.1</span>"
            ],
            "text/plain": [
              "<IPython.core.display.HTML object>"
            ]
          },
          "metadata": {
            "tags": []
          }
        },
        {
          "output_type": "display_data",
          "data": {
            "text/html": [
              "<span style=\"color:cyan\"> |-drop_2: 0.2</span>"
            ],
            "text/plain": [
              "<IPython.core.display.HTML object>"
            ]
          },
          "metadata": {
            "tags": []
          }
        },
        {
          "output_type": "display_data",
          "data": {
            "text/html": [
              "<span style=\"color:blue\"> |-drop_input: 0.2</span>"
            ],
            "text/plain": [
              "<IPython.core.display.HTML object>"
            ]
          },
          "metadata": {
            "tags": []
          }
        },
        {
          "output_type": "display_data",
          "data": {
            "text/html": [
              "<span style=\"color:cyan\"> |-lr: 0.00431019016344334</span>"
            ],
            "text/plain": [
              "<IPython.core.display.HTML object>"
            ]
          },
          "metadata": {
            "tags": []
          }
        },
        {
          "output_type": "display_data",
          "data": {
            "text/html": [
              "<span style=\"color:blue\"> |-num_intermediate_layers: 2</span>"
            ],
            "text/plain": [
              "<IPython.core.display.HTML object>"
            ]
          },
          "metadata": {
            "tags": []
          }
        },
        {
          "output_type": "display_data",
          "data": {
            "text/html": [
              "<span style=\"color:cyan\"> |-tuner/bracket: 3</span>"
            ],
            "text/plain": [
              "<IPython.core.display.HTML object>"
            ]
          },
          "metadata": {
            "tags": []
          }
        },
        {
          "output_type": "display_data",
          "data": {
            "text/html": [
              "<span style=\"color:blue\"> |-tuner/epochs: 2</span>"
            ],
            "text/plain": [
              "<IPython.core.display.HTML object>"
            ]
          },
          "metadata": {
            "tags": []
          }
        },
        {
          "output_type": "display_data",
          "data": {
            "text/html": [
              "<span style=\"color:cyan\"> |-tuner/initial_epoch: 0</span>"
            ],
            "text/plain": [
              "<IPython.core.display.HTML object>"
            ]
          },
          "metadata": {
            "tags": []
          }
        },
        {
          "output_type": "display_data",
          "data": {
            "text/html": [
              "<span style=\"color:blue\"> |-tuner/round: 0</span>"
            ],
            "text/plain": [
              "<IPython.core.display.HTML object>"
            ]
          },
          "metadata": {
            "tags": []
          }
        },
        {
          "output_type": "stream",
          "text": [
            "Epoch 1/2\n",
            "13/13 [==============================] - 0s 38ms/step - loss: 1.8784 - mae: 1.0900 - val_loss: 0.3185 - val_mae: 0.5372\n",
            "Epoch 2/2\n",
            "13/13 [==============================] - 0s 15ms/step - loss: 1.3926 - mae: 0.9116 - val_loss: 0.2613 - val_mae: 0.4844\n",
            "Epoch 1/2\n",
            "13/13 [==============================] - 0s 37ms/step - loss: 1.8938 - mae: 1.0944 - val_loss: 0.2364 - val_mae: 0.4494\n",
            "Epoch 2/2\n",
            "13/13 [==============================] - 0s 16ms/step - loss: 1.6929 - mae: 1.0205 - val_loss: 0.1796 - val_mae: 0.3820\n"
          ],
          "name": "stdout"
        },
        {
          "output_type": "display_data",
          "data": {
            "text/html": [
              "<span style=\"color:#4527A0\"><h1 style=\"font-size:18px\">Trial complete</h1></span>"
            ],
            "text/plain": [
              "<IPython.core.display.HTML object>"
            ]
          },
          "metadata": {
            "tags": []
          }
        },
        {
          "output_type": "display_data",
          "data": {
            "text/html": [
              "<span style=\"color:#4527A0\"><h1 style=\"font-size:18px\">Trial summary</h1></span>"
            ],
            "text/plain": [
              "<IPython.core.display.HTML object>"
            ]
          },
          "metadata": {
            "tags": []
          }
        },
        {
          "output_type": "display_data",
          "data": {
            "text/html": [
              "<span style=\"color:cyan\"> |-Trial ID: d320ece01d89fe5c0aaa8905b4ba2e2d</span>"
            ],
            "text/plain": [
              "<IPython.core.display.HTML object>"
            ]
          },
          "metadata": {
            "tags": []
          }
        },
        {
          "output_type": "display_data",
          "data": {
            "text/html": [
              "<span style=\"color:cyan\"> |-Score: 0.43319256603717804</span>"
            ],
            "text/plain": [
              "<IPython.core.display.HTML object>"
            ]
          },
          "metadata": {
            "tags": []
          }
        },
        {
          "output_type": "display_data",
          "data": {
            "text/html": [
              "<span style=\"color:cyan\"> |-Best step: 0</span>"
            ],
            "text/plain": [
              "<IPython.core.display.HTML object>"
            ]
          },
          "metadata": {
            "tags": []
          }
        },
        {
          "output_type": "display_data",
          "data": {
            "text/html": [
              "<span style=\"color:#7E57C2\"><h2 style=\"font-size:16px\">Hyperparameters:</h2></span>"
            ],
            "text/plain": [
              "<IPython.core.display.HTML object>"
            ]
          },
          "metadata": {
            "tags": []
          }
        },
        {
          "output_type": "display_data",
          "data": {
            "text/html": [
              "<span style=\"color:cyan\"> |-dense_0: 64</span>"
            ],
            "text/plain": [
              "<IPython.core.display.HTML object>"
            ]
          },
          "metadata": {
            "tags": []
          }
        },
        {
          "output_type": "display_data",
          "data": {
            "text/html": [
              "<span style=\"color:blue\"> |-dense_1: 96</span>"
            ],
            "text/plain": [
              "<IPython.core.display.HTML object>"
            ]
          },
          "metadata": {
            "tags": []
          }
        },
        {
          "output_type": "display_data",
          "data": {
            "text/html": [
              "<span style=\"color:cyan\"> |-dense_2: 96</span>"
            ],
            "text/plain": [
              "<IPython.core.display.HTML object>"
            ]
          },
          "metadata": {
            "tags": []
          }
        },
        {
          "output_type": "display_data",
          "data": {
            "text/html": [
              "<span style=\"color:blue\"> |-dense_input: 96</span>"
            ],
            "text/plain": [
              "<IPython.core.display.HTML object>"
            ]
          },
          "metadata": {
            "tags": []
          }
        },
        {
          "output_type": "display_data",
          "data": {
            "text/html": [
              "<span style=\"color:cyan\"> |-drop_0: 0.2</span>"
            ],
            "text/plain": [
              "<IPython.core.display.HTML object>"
            ]
          },
          "metadata": {
            "tags": []
          }
        },
        {
          "output_type": "display_data",
          "data": {
            "text/html": [
              "<span style=\"color:blue\"> |-drop_1: 0.1</span>"
            ],
            "text/plain": [
              "<IPython.core.display.HTML object>"
            ]
          },
          "metadata": {
            "tags": []
          }
        },
        {
          "output_type": "display_data",
          "data": {
            "text/html": [
              "<span style=\"color:cyan\"> |-drop_2: 0.2</span>"
            ],
            "text/plain": [
              "<IPython.core.display.HTML object>"
            ]
          },
          "metadata": {
            "tags": []
          }
        },
        {
          "output_type": "display_data",
          "data": {
            "text/html": [
              "<span style=\"color:blue\"> |-drop_input: 0.2</span>"
            ],
            "text/plain": [
              "<IPython.core.display.HTML object>"
            ]
          },
          "metadata": {
            "tags": []
          }
        },
        {
          "output_type": "display_data",
          "data": {
            "text/html": [
              "<span style=\"color:cyan\"> |-lr: 0.000132640181394537</span>"
            ],
            "text/plain": [
              "<IPython.core.display.HTML object>"
            ]
          },
          "metadata": {
            "tags": []
          }
        },
        {
          "output_type": "display_data",
          "data": {
            "text/html": [
              "<span style=\"color:blue\"> |-num_intermediate_layers: 3</span>"
            ],
            "text/plain": [
              "<IPython.core.display.HTML object>"
            ]
          },
          "metadata": {
            "tags": []
          }
        },
        {
          "output_type": "display_data",
          "data": {
            "text/html": [
              "<span style=\"color:cyan\"> |-tuner/bracket: 3</span>"
            ],
            "text/plain": [
              "<IPython.core.display.HTML object>"
            ]
          },
          "metadata": {
            "tags": []
          }
        },
        {
          "output_type": "display_data",
          "data": {
            "text/html": [
              "<span style=\"color:blue\"> |-tuner/epochs: 2</span>"
            ],
            "text/plain": [
              "<IPython.core.display.HTML object>"
            ]
          },
          "metadata": {
            "tags": []
          }
        },
        {
          "output_type": "display_data",
          "data": {
            "text/html": [
              "<span style=\"color:cyan\"> |-tuner/initial_epoch: 0</span>"
            ],
            "text/plain": [
              "<IPython.core.display.HTML object>"
            ]
          },
          "metadata": {
            "tags": []
          }
        },
        {
          "output_type": "display_data",
          "data": {
            "text/html": [
              "<span style=\"color:blue\"> |-tuner/round: 0</span>"
            ],
            "text/plain": [
              "<IPython.core.display.HTML object>"
            ]
          },
          "metadata": {
            "tags": []
          }
        },
        {
          "output_type": "stream",
          "text": [
            "Epoch 1/2\n",
            "13/13 [==============================] - 0s 32ms/step - loss: 0.8930 - mae: 0.7007 - val_loss: 0.0843 - val_mae: 0.2370\n",
            "Epoch 2/2\n",
            "13/13 [==============================] - 0s 15ms/step - loss: 0.3574 - mae: 0.4453 - val_loss: 0.0434 - val_mae: 0.1505\n",
            "Epoch 1/2\n",
            "13/13 [==============================] - 0s 30ms/step - loss: 0.8629 - mae: 0.7109 - val_loss: 0.0810 - val_mae: 0.2259\n",
            "Epoch 2/2\n",
            "13/13 [==============================] - 0s 13ms/step - loss: 0.3128 - mae: 0.4372 - val_loss: 0.0572 - val_mae: 0.1794\n"
          ],
          "name": "stdout"
        },
        {
          "output_type": "display_data",
          "data": {
            "text/html": [
              "<span style=\"color:#4527A0\"><h1 style=\"font-size:18px\">Trial complete</h1></span>"
            ],
            "text/plain": [
              "<IPython.core.display.HTML object>"
            ]
          },
          "metadata": {
            "tags": []
          }
        },
        {
          "output_type": "display_data",
          "data": {
            "text/html": [
              "<span style=\"color:#4527A0\"><h1 style=\"font-size:18px\">Trial summary</h1></span>"
            ],
            "text/plain": [
              "<IPython.core.display.HTML object>"
            ]
          },
          "metadata": {
            "tags": []
          }
        },
        {
          "output_type": "display_data",
          "data": {
            "text/html": [
              "<span style=\"color:cyan\"> |-Trial ID: 6aeca1beb3c90a59c4c0fed57f74ba56</span>"
            ],
            "text/plain": [
              "<IPython.core.display.HTML object>"
            ]
          },
          "metadata": {
            "tags": []
          }
        },
        {
          "output_type": "display_data",
          "data": {
            "text/html": [
              "<span style=\"color:cyan\"> |-Score: 0.1649698242545128</span>"
            ],
            "text/plain": [
              "<IPython.core.display.HTML object>"
            ]
          },
          "metadata": {
            "tags": []
          }
        },
        {
          "output_type": "display_data",
          "data": {
            "text/html": [
              "<span style=\"color:cyan\"> |-Best step: 0</span>"
            ],
            "text/plain": [
              "<IPython.core.display.HTML object>"
            ]
          },
          "metadata": {
            "tags": []
          }
        },
        {
          "output_type": "display_data",
          "data": {
            "text/html": [
              "<span style=\"color:#7E57C2\"><h2 style=\"font-size:16px\">Hyperparameters:</h2></span>"
            ],
            "text/plain": [
              "<IPython.core.display.HTML object>"
            ]
          },
          "metadata": {
            "tags": []
          }
        },
        {
          "output_type": "display_data",
          "data": {
            "text/html": [
              "<span style=\"color:cyan\"> |-dense_0: 32</span>"
            ],
            "text/plain": [
              "<IPython.core.display.HTML object>"
            ]
          },
          "metadata": {
            "tags": []
          }
        },
        {
          "output_type": "display_data",
          "data": {
            "text/html": [
              "<span style=\"color:blue\"> |-dense_1: 64</span>"
            ],
            "text/plain": [
              "<IPython.core.display.HTML object>"
            ]
          },
          "metadata": {
            "tags": []
          }
        },
        {
          "output_type": "display_data",
          "data": {
            "text/html": [
              "<span style=\"color:cyan\"> |-dense_2: 64</span>"
            ],
            "text/plain": [
              "<IPython.core.display.HTML object>"
            ]
          },
          "metadata": {
            "tags": []
          }
        },
        {
          "output_type": "display_data",
          "data": {
            "text/html": [
              "<span style=\"color:blue\"> |-dense_input: 96</span>"
            ],
            "text/plain": [
              "<IPython.core.display.HTML object>"
            ]
          },
          "metadata": {
            "tags": []
          }
        },
        {
          "output_type": "display_data",
          "data": {
            "text/html": [
              "<span style=\"color:cyan\"> |-drop_0: 0.2</span>"
            ],
            "text/plain": [
              "<IPython.core.display.HTML object>"
            ]
          },
          "metadata": {
            "tags": []
          }
        },
        {
          "output_type": "display_data",
          "data": {
            "text/html": [
              "<span style=\"color:blue\"> |-drop_1: 0.1</span>"
            ],
            "text/plain": [
              "<IPython.core.display.HTML object>"
            ]
          },
          "metadata": {
            "tags": []
          }
        },
        {
          "output_type": "display_data",
          "data": {
            "text/html": [
              "<span style=\"color:cyan\"> |-drop_2: 0.0</span>"
            ],
            "text/plain": [
              "<IPython.core.display.HTML object>"
            ]
          },
          "metadata": {
            "tags": []
          }
        },
        {
          "output_type": "display_data",
          "data": {
            "text/html": [
              "<span style=\"color:blue\"> |-drop_input: 0.1</span>"
            ],
            "text/plain": [
              "<IPython.core.display.HTML object>"
            ]
          },
          "metadata": {
            "tags": []
          }
        },
        {
          "output_type": "display_data",
          "data": {
            "text/html": [
              "<span style=\"color:cyan\"> |-lr: 0.0016431536744526529</span>"
            ],
            "text/plain": [
              "<IPython.core.display.HTML object>"
            ]
          },
          "metadata": {
            "tags": []
          }
        },
        {
          "output_type": "display_data",
          "data": {
            "text/html": [
              "<span style=\"color:blue\"> |-num_intermediate_layers: 2</span>"
            ],
            "text/plain": [
              "<IPython.core.display.HTML object>"
            ]
          },
          "metadata": {
            "tags": []
          }
        },
        {
          "output_type": "display_data",
          "data": {
            "text/html": [
              "<span style=\"color:cyan\"> |-tuner/bracket: 3</span>"
            ],
            "text/plain": [
              "<IPython.core.display.HTML object>"
            ]
          },
          "metadata": {
            "tags": []
          }
        },
        {
          "output_type": "display_data",
          "data": {
            "text/html": [
              "<span style=\"color:blue\"> |-tuner/epochs: 2</span>"
            ],
            "text/plain": [
              "<IPython.core.display.HTML object>"
            ]
          },
          "metadata": {
            "tags": []
          }
        },
        {
          "output_type": "display_data",
          "data": {
            "text/html": [
              "<span style=\"color:cyan\"> |-tuner/initial_epoch: 0</span>"
            ],
            "text/plain": [
              "<IPython.core.display.HTML object>"
            ]
          },
          "metadata": {
            "tags": []
          }
        },
        {
          "output_type": "display_data",
          "data": {
            "text/html": [
              "<span style=\"color:blue\"> |-tuner/round: 0</span>"
            ],
            "text/plain": [
              "<IPython.core.display.HTML object>"
            ]
          },
          "metadata": {
            "tags": []
          }
        },
        {
          "output_type": "stream",
          "text": [
            "Epoch 1/2\n",
            "13/13 [==============================] - 0s 27ms/step - loss: 2.0488 - mae: 1.1026 - val_loss: 0.3360 - val_mae: 0.5571\n",
            "Epoch 2/2\n",
            "13/13 [==============================] - 0s 13ms/step - loss: 1.7452 - mae: 1.0187 - val_loss: 0.2495 - val_mae: 0.4732\n",
            "Epoch 1/2\n",
            "13/13 [==============================] - 0s 26ms/step - loss: 2.9473 - mae: 1.4106 - val_loss: 0.1552 - val_mae: 0.3390\n",
            "Epoch 2/2\n",
            "13/13 [==============================] - 0s 10ms/step - loss: 2.2470 - mae: 1.1738 - val_loss: 0.1817 - val_mae: 0.3665\n"
          ],
          "name": "stdout"
        },
        {
          "output_type": "display_data",
          "data": {
            "text/html": [
              "<span style=\"color:#4527A0\"><h1 style=\"font-size:18px\">Trial complete</h1></span>"
            ],
            "text/plain": [
              "<IPython.core.display.HTML object>"
            ]
          },
          "metadata": {
            "tags": []
          }
        },
        {
          "output_type": "display_data",
          "data": {
            "text/html": [
              "<span style=\"color:#4527A0\"><h1 style=\"font-size:18px\">Trial summary</h1></span>"
            ],
            "text/plain": [
              "<IPython.core.display.HTML object>"
            ]
          },
          "metadata": {
            "tags": []
          }
        },
        {
          "output_type": "display_data",
          "data": {
            "text/html": [
              "<span style=\"color:cyan\"> |-Trial ID: f4acb47d4889aa916dca82cacbe0058d</span>"
            ],
            "text/plain": [
              "<IPython.core.display.HTML object>"
            ]
          },
          "metadata": {
            "tags": []
          }
        },
        {
          "output_type": "display_data",
          "data": {
            "text/html": [
              "<span style=\"color:cyan\"> |-Score: 0.4060865789651871</span>"
            ],
            "text/plain": [
              "<IPython.core.display.HTML object>"
            ]
          },
          "metadata": {
            "tags": []
          }
        },
        {
          "output_type": "display_data",
          "data": {
            "text/html": [
              "<span style=\"color:cyan\"> |-Best step: 0</span>"
            ],
            "text/plain": [
              "<IPython.core.display.HTML object>"
            ]
          },
          "metadata": {
            "tags": []
          }
        },
        {
          "output_type": "display_data",
          "data": {
            "text/html": [
              "<span style=\"color:#7E57C2\"><h2 style=\"font-size:16px\">Hyperparameters:</h2></span>"
            ],
            "text/plain": [
              "<IPython.core.display.HTML object>"
            ]
          },
          "metadata": {
            "tags": []
          }
        },
        {
          "output_type": "display_data",
          "data": {
            "text/html": [
              "<span style=\"color:cyan\"> |-dense_0: 128</span>"
            ],
            "text/plain": [
              "<IPython.core.display.HTML object>"
            ]
          },
          "metadata": {
            "tags": []
          }
        },
        {
          "output_type": "display_data",
          "data": {
            "text/html": [
              "<span style=\"color:blue\"> |-dense_1: 32</span>"
            ],
            "text/plain": [
              "<IPython.core.display.HTML object>"
            ]
          },
          "metadata": {
            "tags": []
          }
        },
        {
          "output_type": "display_data",
          "data": {
            "text/html": [
              "<span style=\"color:cyan\"> |-dense_2: 64</span>"
            ],
            "text/plain": [
              "<IPython.core.display.HTML object>"
            ]
          },
          "metadata": {
            "tags": []
          }
        },
        {
          "output_type": "display_data",
          "data": {
            "text/html": [
              "<span style=\"color:blue\"> |-dense_input: 32</span>"
            ],
            "text/plain": [
              "<IPython.core.display.HTML object>"
            ]
          },
          "metadata": {
            "tags": []
          }
        },
        {
          "output_type": "display_data",
          "data": {
            "text/html": [
              "<span style=\"color:cyan\"> |-drop_0: 0.30000000000000004</span>"
            ],
            "text/plain": [
              "<IPython.core.display.HTML object>"
            ]
          },
          "metadata": {
            "tags": []
          }
        },
        {
          "output_type": "display_data",
          "data": {
            "text/html": [
              "<span style=\"color:blue\"> |-drop_1: 0.0</span>"
            ],
            "text/plain": [
              "<IPython.core.display.HTML object>"
            ]
          },
          "metadata": {
            "tags": []
          }
        },
        {
          "output_type": "display_data",
          "data": {
            "text/html": [
              "<span style=\"color:cyan\"> |-drop_2: 0.1</span>"
            ],
            "text/plain": [
              "<IPython.core.display.HTML object>"
            ]
          },
          "metadata": {
            "tags": []
          }
        },
        {
          "output_type": "display_data",
          "data": {
            "text/html": [
              "<span style=\"color:blue\"> |-drop_input: 0.1</span>"
            ],
            "text/plain": [
              "<IPython.core.display.HTML object>"
            ]
          },
          "metadata": {
            "tags": []
          }
        },
        {
          "output_type": "display_data",
          "data": {
            "text/html": [
              "<span style=\"color:cyan\"> |-lr: 0.00011629015993880012</span>"
            ],
            "text/plain": [
              "<IPython.core.display.HTML object>"
            ]
          },
          "metadata": {
            "tags": []
          }
        },
        {
          "output_type": "display_data",
          "data": {
            "text/html": [
              "<span style=\"color:blue\"> |-num_intermediate_layers: 1</span>"
            ],
            "text/plain": [
              "<IPython.core.display.HTML object>"
            ]
          },
          "metadata": {
            "tags": []
          }
        },
        {
          "output_type": "display_data",
          "data": {
            "text/html": [
              "<span style=\"color:cyan\"> |-tuner/bracket: 3</span>"
            ],
            "text/plain": [
              "<IPython.core.display.HTML object>"
            ]
          },
          "metadata": {
            "tags": []
          }
        },
        {
          "output_type": "display_data",
          "data": {
            "text/html": [
              "<span style=\"color:blue\"> |-tuner/epochs: 2</span>"
            ],
            "text/plain": [
              "<IPython.core.display.HTML object>"
            ]
          },
          "metadata": {
            "tags": []
          }
        },
        {
          "output_type": "display_data",
          "data": {
            "text/html": [
              "<span style=\"color:cyan\"> |-tuner/initial_epoch: 0</span>"
            ],
            "text/plain": [
              "<IPython.core.display.HTML object>"
            ]
          },
          "metadata": {
            "tags": []
          }
        },
        {
          "output_type": "display_data",
          "data": {
            "text/html": [
              "<span style=\"color:blue\"> |-tuner/round: 0</span>"
            ],
            "text/plain": [
              "<IPython.core.display.HTML object>"
            ]
          },
          "metadata": {
            "tags": []
          }
        },
        {
          "output_type": "stream",
          "text": [
            "Epoch 1/2\n",
            "13/13 [==============================] - 0s 36ms/step - loss: 1.4068 - mae: 0.9084 - val_loss: 0.1109 - val_mae: 0.2778\n",
            "Epoch 2/2\n",
            "13/13 [==============================] - 0s 22ms/step - loss: 0.5972 - mae: 0.5852 - val_loss: 0.0704 - val_mae: 0.2065\n",
            "Epoch 1/2\n",
            "13/13 [==============================] - 0s 34ms/step - loss: 1.4399 - mae: 0.9245 - val_loss: 0.1792 - val_mae: 0.3711\n",
            "Epoch 2/2\n",
            "13/13 [==============================] - 0s 13ms/step - loss: 0.4947 - mae: 0.5349 - val_loss: 0.0729 - val_mae: 0.2150\n"
          ],
          "name": "stdout"
        },
        {
          "output_type": "display_data",
          "data": {
            "text/html": [
              "<span style=\"color:#4527A0\"><h1 style=\"font-size:18px\">Trial complete</h1></span>"
            ],
            "text/plain": [
              "<IPython.core.display.HTML object>"
            ]
          },
          "metadata": {
            "tags": []
          }
        },
        {
          "output_type": "display_data",
          "data": {
            "text/html": [
              "<span style=\"color:#4527A0\"><h1 style=\"font-size:18px\">Trial summary</h1></span>"
            ],
            "text/plain": [
              "<IPython.core.display.HTML object>"
            ]
          },
          "metadata": {
            "tags": []
          }
        },
        {
          "output_type": "display_data",
          "data": {
            "text/html": [
              "<span style=\"color:cyan\"> |-Trial ID: 38817aa08bbfc4abcf356325447954fb</span>"
            ],
            "text/plain": [
              "<IPython.core.display.HTML object>"
            ]
          },
          "metadata": {
            "tags": []
          }
        },
        {
          "output_type": "display_data",
          "data": {
            "text/html": [
              "<span style=\"color:cyan\"> |-Score: 0.21078021079301834</span>"
            ],
            "text/plain": [
              "<IPython.core.display.HTML object>"
            ]
          },
          "metadata": {
            "tags": []
          }
        },
        {
          "output_type": "display_data",
          "data": {
            "text/html": [
              "<span style=\"color:cyan\"> |-Best step: 0</span>"
            ],
            "text/plain": [
              "<IPython.core.display.HTML object>"
            ]
          },
          "metadata": {
            "tags": []
          }
        },
        {
          "output_type": "display_data",
          "data": {
            "text/html": [
              "<span style=\"color:#7E57C2\"><h2 style=\"font-size:16px\">Hyperparameters:</h2></span>"
            ],
            "text/plain": [
              "<IPython.core.display.HTML object>"
            ]
          },
          "metadata": {
            "tags": []
          }
        },
        {
          "output_type": "display_data",
          "data": {
            "text/html": [
              "<span style=\"color:cyan\"> |-dense_0: 32</span>"
            ],
            "text/plain": [
              "<IPython.core.display.HTML object>"
            ]
          },
          "metadata": {
            "tags": []
          }
        },
        {
          "output_type": "display_data",
          "data": {
            "text/html": [
              "<span style=\"color:blue\"> |-dense_1: 64</span>"
            ],
            "text/plain": [
              "<IPython.core.display.HTML object>"
            ]
          },
          "metadata": {
            "tags": []
          }
        },
        {
          "output_type": "display_data",
          "data": {
            "text/html": [
              "<span style=\"color:cyan\"> |-dense_2: 64</span>"
            ],
            "text/plain": [
              "<IPython.core.display.HTML object>"
            ]
          },
          "metadata": {
            "tags": []
          }
        },
        {
          "output_type": "display_data",
          "data": {
            "text/html": [
              "<span style=\"color:blue\"> |-dense_input: 128</span>"
            ],
            "text/plain": [
              "<IPython.core.display.HTML object>"
            ]
          },
          "metadata": {
            "tags": []
          }
        },
        {
          "output_type": "display_data",
          "data": {
            "text/html": [
              "<span style=\"color:cyan\"> |-drop_0: 0.30000000000000004</span>"
            ],
            "text/plain": [
              "<IPython.core.display.HTML object>"
            ]
          },
          "metadata": {
            "tags": []
          }
        },
        {
          "output_type": "display_data",
          "data": {
            "text/html": [
              "<span style=\"color:blue\"> |-drop_1: 0.2</span>"
            ],
            "text/plain": [
              "<IPython.core.display.HTML object>"
            ]
          },
          "metadata": {
            "tags": []
          }
        },
        {
          "output_type": "display_data",
          "data": {
            "text/html": [
              "<span style=\"color:cyan\"> |-drop_2: 0.1</span>"
            ],
            "text/plain": [
              "<IPython.core.display.HTML object>"
            ]
          },
          "metadata": {
            "tags": []
          }
        },
        {
          "output_type": "display_data",
          "data": {
            "text/html": [
              "<span style=\"color:blue\"> |-drop_input: 0.0</span>"
            ],
            "text/plain": [
              "<IPython.core.display.HTML object>"
            ]
          },
          "metadata": {
            "tags": []
          }
        },
        {
          "output_type": "display_data",
          "data": {
            "text/html": [
              "<span style=\"color:cyan\"> |-lr: 0.0011723061988515647</span>"
            ],
            "text/plain": [
              "<IPython.core.display.HTML object>"
            ]
          },
          "metadata": {
            "tags": []
          }
        },
        {
          "output_type": "display_data",
          "data": {
            "text/html": [
              "<span style=\"color:blue\"> |-num_intermediate_layers: 3</span>"
            ],
            "text/plain": [
              "<IPython.core.display.HTML object>"
            ]
          },
          "metadata": {
            "tags": []
          }
        },
        {
          "output_type": "display_data",
          "data": {
            "text/html": [
              "<span style=\"color:cyan\"> |-tuner/bracket: 3</span>"
            ],
            "text/plain": [
              "<IPython.core.display.HTML object>"
            ]
          },
          "metadata": {
            "tags": []
          }
        },
        {
          "output_type": "display_data",
          "data": {
            "text/html": [
              "<span style=\"color:blue\"> |-tuner/epochs: 2</span>"
            ],
            "text/plain": [
              "<IPython.core.display.HTML object>"
            ]
          },
          "metadata": {
            "tags": []
          }
        },
        {
          "output_type": "display_data",
          "data": {
            "text/html": [
              "<span style=\"color:cyan\"> |-tuner/initial_epoch: 0</span>"
            ],
            "text/plain": [
              "<IPython.core.display.HTML object>"
            ]
          },
          "metadata": {
            "tags": []
          }
        },
        {
          "output_type": "display_data",
          "data": {
            "text/html": [
              "<span style=\"color:blue\"> |-tuner/round: 0</span>"
            ],
            "text/plain": [
              "<IPython.core.display.HTML object>"
            ]
          },
          "metadata": {
            "tags": []
          }
        },
        {
          "output_type": "stream",
          "text": [
            "Epoch 1/2\n",
            "13/13 [==============================] - 0s 32ms/step - loss: 1.8975 - mae: 1.0092 - val_loss: 0.0604 - val_mae: 0.1977\n",
            "Epoch 2/2\n",
            "13/13 [==============================] - 0s 11ms/step - loss: 0.9201 - mae: 0.7601 - val_loss: 0.1002 - val_mae: 0.2635\n",
            "Epoch 1/2\n",
            "13/13 [==============================] - 0s 30ms/step - loss: 1.9222 - mae: 1.0586 - val_loss: 0.2129 - val_mae: 0.4190\n",
            "Epoch 2/2\n",
            "13/13 [==============================] - 0s 12ms/step - loss: 0.9229 - mae: 0.7461 - val_loss: 0.0842 - val_mae: 0.2361\n"
          ],
          "name": "stdout"
        },
        {
          "output_type": "display_data",
          "data": {
            "text/html": [
              "<span style=\"color:#4527A0\"><h1 style=\"font-size:18px\">Trial complete</h1></span>"
            ],
            "text/plain": [
              "<IPython.core.display.HTML object>"
            ]
          },
          "metadata": {
            "tags": []
          }
        },
        {
          "output_type": "display_data",
          "data": {
            "text/html": [
              "<span style=\"color:#4527A0\"><h1 style=\"font-size:18px\">Trial summary</h1></span>"
            ],
            "text/plain": [
              "<IPython.core.display.HTML object>"
            ]
          },
          "metadata": {
            "tags": []
          }
        },
        {
          "output_type": "display_data",
          "data": {
            "text/html": [
              "<span style=\"color:cyan\"> |-Trial ID: a21e5de788dbf242ce8126c7e1fd8be7</span>"
            ],
            "text/plain": [
              "<IPython.core.display.HTML object>"
            ]
          },
          "metadata": {
            "tags": []
          }
        },
        {
          "output_type": "display_data",
          "data": {
            "text/html": [
              "<span style=\"color:cyan\"> |-Score: 0.21688051521778107</span>"
            ],
            "text/plain": [
              "<IPython.core.display.HTML object>"
            ]
          },
          "metadata": {
            "tags": []
          }
        },
        {
          "output_type": "display_data",
          "data": {
            "text/html": [
              "<span style=\"color:cyan\"> |-Best step: 0</span>"
            ],
            "text/plain": [
              "<IPython.core.display.HTML object>"
            ]
          },
          "metadata": {
            "tags": []
          }
        },
        {
          "output_type": "display_data",
          "data": {
            "text/html": [
              "<span style=\"color:#7E57C2\"><h2 style=\"font-size:16px\">Hyperparameters:</h2></span>"
            ],
            "text/plain": [
              "<IPython.core.display.HTML object>"
            ]
          },
          "metadata": {
            "tags": []
          }
        },
        {
          "output_type": "display_data",
          "data": {
            "text/html": [
              "<span style=\"color:cyan\"> |-dense_0: 128</span>"
            ],
            "text/plain": [
              "<IPython.core.display.HTML object>"
            ]
          },
          "metadata": {
            "tags": []
          }
        },
        {
          "output_type": "display_data",
          "data": {
            "text/html": [
              "<span style=\"color:blue\"> |-dense_1: 32</span>"
            ],
            "text/plain": [
              "<IPython.core.display.HTML object>"
            ]
          },
          "metadata": {
            "tags": []
          }
        },
        {
          "output_type": "display_data",
          "data": {
            "text/html": [
              "<span style=\"color:cyan\"> |-dense_2: 96</span>"
            ],
            "text/plain": [
              "<IPython.core.display.HTML object>"
            ]
          },
          "metadata": {
            "tags": []
          }
        },
        {
          "output_type": "display_data",
          "data": {
            "text/html": [
              "<span style=\"color:blue\"> |-dense_input: 64</span>"
            ],
            "text/plain": [
              "<IPython.core.display.HTML object>"
            ]
          },
          "metadata": {
            "tags": []
          }
        },
        {
          "output_type": "display_data",
          "data": {
            "text/html": [
              "<span style=\"color:cyan\"> |-drop_0: 0.1</span>"
            ],
            "text/plain": [
              "<IPython.core.display.HTML object>"
            ]
          },
          "metadata": {
            "tags": []
          }
        },
        {
          "output_type": "display_data",
          "data": {
            "text/html": [
              "<span style=\"color:blue\"> |-drop_1: 0.1</span>"
            ],
            "text/plain": [
              "<IPython.core.display.HTML object>"
            ]
          },
          "metadata": {
            "tags": []
          }
        },
        {
          "output_type": "display_data",
          "data": {
            "text/html": [
              "<span style=\"color:cyan\"> |-drop_2: 0.1</span>"
            ],
            "text/plain": [
              "<IPython.core.display.HTML object>"
            ]
          },
          "metadata": {
            "tags": []
          }
        },
        {
          "output_type": "display_data",
          "data": {
            "text/html": [
              "<span style=\"color:blue\"> |-drop_input: 0.30000000000000004</span>"
            ],
            "text/plain": [
              "<IPython.core.display.HTML object>"
            ]
          },
          "metadata": {
            "tags": []
          }
        },
        {
          "output_type": "display_data",
          "data": {
            "text/html": [
              "<span style=\"color:cyan\"> |-lr: 0.0004988935332981495</span>"
            ],
            "text/plain": [
              "<IPython.core.display.HTML object>"
            ]
          },
          "metadata": {
            "tags": []
          }
        },
        {
          "output_type": "display_data",
          "data": {
            "text/html": [
              "<span style=\"color:blue\"> |-num_intermediate_layers: 2</span>"
            ],
            "text/plain": [
              "<IPython.core.display.HTML object>"
            ]
          },
          "metadata": {
            "tags": []
          }
        },
        {
          "output_type": "display_data",
          "data": {
            "text/html": [
              "<span style=\"color:cyan\"> |-tuner/bracket: 3</span>"
            ],
            "text/plain": [
              "<IPython.core.display.HTML object>"
            ]
          },
          "metadata": {
            "tags": []
          }
        },
        {
          "output_type": "display_data",
          "data": {
            "text/html": [
              "<span style=\"color:blue\"> |-tuner/epochs: 2</span>"
            ],
            "text/plain": [
              "<IPython.core.display.HTML object>"
            ]
          },
          "metadata": {
            "tags": []
          }
        },
        {
          "output_type": "display_data",
          "data": {
            "text/html": [
              "<span style=\"color:cyan\"> |-tuner/initial_epoch: 0</span>"
            ],
            "text/plain": [
              "<IPython.core.display.HTML object>"
            ]
          },
          "metadata": {
            "tags": []
          }
        },
        {
          "output_type": "display_data",
          "data": {
            "text/html": [
              "<span style=\"color:blue\"> |-tuner/round: 0</span>"
            ],
            "text/plain": [
              "<IPython.core.display.HTML object>"
            ]
          },
          "metadata": {
            "tags": []
          }
        },
        {
          "output_type": "stream",
          "text": [
            "Epoch 1/2\n",
            "13/13 [==============================] - 0s 33ms/step - loss: 1.3402 - mae: 0.8776 - val_loss: 0.0652 - val_mae: 0.1971\n",
            "Epoch 2/2\n",
            "13/13 [==============================] - 0s 14ms/step - loss: 0.7308 - mae: 0.6426 - val_loss: 0.0504 - val_mae: 0.1734\n",
            "Epoch 1/2\n",
            "13/13 [==============================] - 0s 32ms/step - loss: 1.4040 - mae: 0.9283 - val_loss: 0.0540 - val_mae: 0.1727\n",
            "Epoch 2/2\n",
            "13/13 [==============================] - 0s 13ms/step - loss: 0.8260 - mae: 0.6865 - val_loss: 0.0488 - val_mae: 0.1698\n"
          ],
          "name": "stdout"
        },
        {
          "output_type": "display_data",
          "data": {
            "text/html": [
              "<span style=\"color:#4527A0\"><h1 style=\"font-size:18px\">Trial complete</h1></span>"
            ],
            "text/plain": [
              "<IPython.core.display.HTML object>"
            ]
          },
          "metadata": {
            "tags": []
          }
        },
        {
          "output_type": "display_data",
          "data": {
            "text/html": [
              "<span style=\"color:#4527A0\"><h1 style=\"font-size:18px\">Trial summary</h1></span>"
            ],
            "text/plain": [
              "<IPython.core.display.HTML object>"
            ]
          },
          "metadata": {
            "tags": []
          }
        },
        {
          "output_type": "display_data",
          "data": {
            "text/html": [
              "<span style=\"color:cyan\"> |-Trial ID: 565b0521e49295b124b269d396485f5d</span>"
            ],
            "text/plain": [
              "<IPython.core.display.HTML object>"
            ]
          },
          "metadata": {
            "tags": []
          }
        },
        {
          "output_type": "display_data",
          "data": {
            "text/html": [
              "<span style=\"color:cyan\"> |-Score: 0.17161738127470016</span>"
            ],
            "text/plain": [
              "<IPython.core.display.HTML object>"
            ]
          },
          "metadata": {
            "tags": []
          }
        },
        {
          "output_type": "display_data",
          "data": {
            "text/html": [
              "<span style=\"color:cyan\"> |-Best step: 0</span>"
            ],
            "text/plain": [
              "<IPython.core.display.HTML object>"
            ]
          },
          "metadata": {
            "tags": []
          }
        },
        {
          "output_type": "display_data",
          "data": {
            "text/html": [
              "<span style=\"color:#7E57C2\"><h2 style=\"font-size:16px\">Hyperparameters:</h2></span>"
            ],
            "text/plain": [
              "<IPython.core.display.HTML object>"
            ]
          },
          "metadata": {
            "tags": []
          }
        },
        {
          "output_type": "display_data",
          "data": {
            "text/html": [
              "<span style=\"color:cyan\"> |-dense_0: 96</span>"
            ],
            "text/plain": [
              "<IPython.core.display.HTML object>"
            ]
          },
          "metadata": {
            "tags": []
          }
        },
        {
          "output_type": "display_data",
          "data": {
            "text/html": [
              "<span style=\"color:blue\"> |-dense_1: 96</span>"
            ],
            "text/plain": [
              "<IPython.core.display.HTML object>"
            ]
          },
          "metadata": {
            "tags": []
          }
        },
        {
          "output_type": "display_data",
          "data": {
            "text/html": [
              "<span style=\"color:cyan\"> |-dense_2: 96</span>"
            ],
            "text/plain": [
              "<IPython.core.display.HTML object>"
            ]
          },
          "metadata": {
            "tags": []
          }
        },
        {
          "output_type": "display_data",
          "data": {
            "text/html": [
              "<span style=\"color:blue\"> |-dense_input: 64</span>"
            ],
            "text/plain": [
              "<IPython.core.display.HTML object>"
            ]
          },
          "metadata": {
            "tags": []
          }
        },
        {
          "output_type": "display_data",
          "data": {
            "text/html": [
              "<span style=\"color:cyan\"> |-drop_0: 0.1</span>"
            ],
            "text/plain": [
              "<IPython.core.display.HTML object>"
            ]
          },
          "metadata": {
            "tags": []
          }
        },
        {
          "output_type": "display_data",
          "data": {
            "text/html": [
              "<span style=\"color:blue\"> |-drop_1: 0.2</span>"
            ],
            "text/plain": [
              "<IPython.core.display.HTML object>"
            ]
          },
          "metadata": {
            "tags": []
          }
        },
        {
          "output_type": "display_data",
          "data": {
            "text/html": [
              "<span style=\"color:cyan\"> |-drop_2: 0.2</span>"
            ],
            "text/plain": [
              "<IPython.core.display.HTML object>"
            ]
          },
          "metadata": {
            "tags": []
          }
        },
        {
          "output_type": "display_data",
          "data": {
            "text/html": [
              "<span style=\"color:blue\"> |-drop_input: 0.0</span>"
            ],
            "text/plain": [
              "<IPython.core.display.HTML object>"
            ]
          },
          "metadata": {
            "tags": []
          }
        },
        {
          "output_type": "display_data",
          "data": {
            "text/html": [
              "<span style=\"color:cyan\"> |-lr: 0.002104854217588265</span>"
            ],
            "text/plain": [
              "<IPython.core.display.HTML object>"
            ]
          },
          "metadata": {
            "tags": []
          }
        },
        {
          "output_type": "display_data",
          "data": {
            "text/html": [
              "<span style=\"color:blue\"> |-num_intermediate_layers: 2</span>"
            ],
            "text/plain": [
              "<IPython.core.display.HTML object>"
            ]
          },
          "metadata": {
            "tags": []
          }
        },
        {
          "output_type": "display_data",
          "data": {
            "text/html": [
              "<span style=\"color:cyan\"> |-tuner/bracket: 3</span>"
            ],
            "text/plain": [
              "<IPython.core.display.HTML object>"
            ]
          },
          "metadata": {
            "tags": []
          }
        },
        {
          "output_type": "display_data",
          "data": {
            "text/html": [
              "<span style=\"color:blue\"> |-tuner/epochs: 2</span>"
            ],
            "text/plain": [
              "<IPython.core.display.HTML object>"
            ]
          },
          "metadata": {
            "tags": []
          }
        },
        {
          "output_type": "display_data",
          "data": {
            "text/html": [
              "<span style=\"color:cyan\"> |-tuner/initial_epoch: 0</span>"
            ],
            "text/plain": [
              "<IPython.core.display.HTML object>"
            ]
          },
          "metadata": {
            "tags": []
          }
        },
        {
          "output_type": "display_data",
          "data": {
            "text/html": [
              "<span style=\"color:blue\"> |-tuner/round: 0</span>"
            ],
            "text/plain": [
              "<IPython.core.display.HTML object>"
            ]
          },
          "metadata": {
            "tags": []
          }
        },
        {
          "output_type": "stream",
          "text": [
            "Epoch 1/2\n",
            "13/13 [==============================] - 0s 36ms/step - loss: 1.8885 - mae: 1.0817 - val_loss: 0.1623 - val_mae: 0.3486\n",
            "Epoch 2/2\n",
            "13/13 [==============================] - 0s 17ms/step - loss: 1.2029 - mae: 0.8464 - val_loss: 0.0844 - val_mae: 0.2333\n",
            "Epoch 1/2\n",
            "13/13 [==============================] - 0s 35ms/step - loss: 1.7547 - mae: 1.0106 - val_loss: 0.1121 - val_mae: 0.2914\n",
            "Epoch 2/2\n",
            "13/13 [==============================] - 0s 13ms/step - loss: 1.1550 - mae: 0.8239 - val_loss: 0.0976 - val_mae: 0.2660\n"
          ],
          "name": "stdout"
        },
        {
          "output_type": "display_data",
          "data": {
            "text/html": [
              "<span style=\"color:#4527A0\"><h1 style=\"font-size:18px\">Trial complete</h1></span>"
            ],
            "text/plain": [
              "<IPython.core.display.HTML object>"
            ]
          },
          "metadata": {
            "tags": []
          }
        },
        {
          "output_type": "display_data",
          "data": {
            "text/html": [
              "<span style=\"color:#4527A0\"><h1 style=\"font-size:18px\">Trial summary</h1></span>"
            ],
            "text/plain": [
              "<IPython.core.display.HTML object>"
            ]
          },
          "metadata": {
            "tags": []
          }
        },
        {
          "output_type": "display_data",
          "data": {
            "text/html": [
              "<span style=\"color:cyan\"> |-Trial ID: 8a0485e95ab7f3b07c7700163e119614</span>"
            ],
            "text/plain": [
              "<IPython.core.display.HTML object>"
            ]
          },
          "metadata": {
            "tags": []
          }
        },
        {
          "output_type": "display_data",
          "data": {
            "text/html": [
              "<span style=\"color:cyan\"> |-Score: 0.24966707080602646</span>"
            ],
            "text/plain": [
              "<IPython.core.display.HTML object>"
            ]
          },
          "metadata": {
            "tags": []
          }
        },
        {
          "output_type": "display_data",
          "data": {
            "text/html": [
              "<span style=\"color:cyan\"> |-Best step: 0</span>"
            ],
            "text/plain": [
              "<IPython.core.display.HTML object>"
            ]
          },
          "metadata": {
            "tags": []
          }
        },
        {
          "output_type": "display_data",
          "data": {
            "text/html": [
              "<span style=\"color:#7E57C2\"><h2 style=\"font-size:16px\">Hyperparameters:</h2></span>"
            ],
            "text/plain": [
              "<IPython.core.display.HTML object>"
            ]
          },
          "metadata": {
            "tags": []
          }
        },
        {
          "output_type": "display_data",
          "data": {
            "text/html": [
              "<span style=\"color:cyan\"> |-dense_0: 64</span>"
            ],
            "text/plain": [
              "<IPython.core.display.HTML object>"
            ]
          },
          "metadata": {
            "tags": []
          }
        },
        {
          "output_type": "display_data",
          "data": {
            "text/html": [
              "<span style=\"color:blue\"> |-dense_1: 96</span>"
            ],
            "text/plain": [
              "<IPython.core.display.HTML object>"
            ]
          },
          "metadata": {
            "tags": []
          }
        },
        {
          "output_type": "display_data",
          "data": {
            "text/html": [
              "<span style=\"color:cyan\"> |-dense_2: 64</span>"
            ],
            "text/plain": [
              "<IPython.core.display.HTML object>"
            ]
          },
          "metadata": {
            "tags": []
          }
        },
        {
          "output_type": "display_data",
          "data": {
            "text/html": [
              "<span style=\"color:blue\"> |-dense_input: 64</span>"
            ],
            "text/plain": [
              "<IPython.core.display.HTML object>"
            ]
          },
          "metadata": {
            "tags": []
          }
        },
        {
          "output_type": "display_data",
          "data": {
            "text/html": [
              "<span style=\"color:cyan\"> |-drop_0: 0.1</span>"
            ],
            "text/plain": [
              "<IPython.core.display.HTML object>"
            ]
          },
          "metadata": {
            "tags": []
          }
        },
        {
          "output_type": "display_data",
          "data": {
            "text/html": [
              "<span style=\"color:blue\"> |-drop_1: 0.0</span>"
            ],
            "text/plain": [
              "<IPython.core.display.HTML object>"
            ]
          },
          "metadata": {
            "tags": []
          }
        },
        {
          "output_type": "display_data",
          "data": {
            "text/html": [
              "<span style=\"color:cyan\"> |-drop_2: 0.30000000000000004</span>"
            ],
            "text/plain": [
              "<IPython.core.display.HTML object>"
            ]
          },
          "metadata": {
            "tags": []
          }
        },
        {
          "output_type": "display_data",
          "data": {
            "text/html": [
              "<span style=\"color:blue\"> |-drop_input: 0.2</span>"
            ],
            "text/plain": [
              "<IPython.core.display.HTML object>"
            ]
          },
          "metadata": {
            "tags": []
          }
        },
        {
          "output_type": "display_data",
          "data": {
            "text/html": [
              "<span style=\"color:cyan\"> |-lr: 0.0008414829567986681</span>"
            ],
            "text/plain": [
              "<IPython.core.display.HTML object>"
            ]
          },
          "metadata": {
            "tags": []
          }
        },
        {
          "output_type": "display_data",
          "data": {
            "text/html": [
              "<span style=\"color:blue\"> |-num_intermediate_layers: 3</span>"
            ],
            "text/plain": [
              "<IPython.core.display.HTML object>"
            ]
          },
          "metadata": {
            "tags": []
          }
        },
        {
          "output_type": "display_data",
          "data": {
            "text/html": [
              "<span style=\"color:cyan\"> |-tuner/bracket: 3</span>"
            ],
            "text/plain": [
              "<IPython.core.display.HTML object>"
            ]
          },
          "metadata": {
            "tags": []
          }
        },
        {
          "output_type": "display_data",
          "data": {
            "text/html": [
              "<span style=\"color:blue\"> |-tuner/epochs: 2</span>"
            ],
            "text/plain": [
              "<IPython.core.display.HTML object>"
            ]
          },
          "metadata": {
            "tags": []
          }
        },
        {
          "output_type": "display_data",
          "data": {
            "text/html": [
              "<span style=\"color:cyan\"> |-tuner/initial_epoch: 0</span>"
            ],
            "text/plain": [
              "<IPython.core.display.HTML object>"
            ]
          },
          "metadata": {
            "tags": []
          }
        },
        {
          "output_type": "display_data",
          "data": {
            "text/html": [
              "<span style=\"color:blue\"> |-tuner/round: 0</span>"
            ],
            "text/plain": [
              "<IPython.core.display.HTML object>"
            ]
          },
          "metadata": {
            "tags": []
          }
        },
        {
          "output_type": "stream",
          "text": [
            "Epoch 1/2\n",
            "13/13 [==============================] - 0s 33ms/step - loss: 1.3610 - mae: 0.9056 - val_loss: 0.1502 - val_mae: 0.3281\n",
            "Epoch 2/2\n",
            "13/13 [==============================] - 0s 14ms/step - loss: 0.9921 - mae: 0.7701 - val_loss: 0.1138 - val_mae: 0.2792\n",
            "Epoch 1/2\n",
            "13/13 [==============================] - 0s 34ms/step - loss: 1.2787 - mae: 0.8758 - val_loss: 0.1552 - val_mae: 0.3297\n",
            "Epoch 2/2\n",
            "13/13 [==============================] - 0s 12ms/step - loss: 0.8626 - mae: 0.7497 - val_loss: 0.1425 - val_mae: 0.3141\n"
          ],
          "name": "stdout"
        },
        {
          "output_type": "display_data",
          "data": {
            "text/html": [
              "<span style=\"color:#4527A0\"><h1 style=\"font-size:18px\">Trial complete</h1></span>"
            ],
            "text/plain": [
              "<IPython.core.display.HTML object>"
            ]
          },
          "metadata": {
            "tags": []
          }
        },
        {
          "output_type": "display_data",
          "data": {
            "text/html": [
              "<span style=\"color:#4527A0\"><h1 style=\"font-size:18px\">Trial summary</h1></span>"
            ],
            "text/plain": [
              "<IPython.core.display.HTML object>"
            ]
          },
          "metadata": {
            "tags": []
          }
        },
        {
          "output_type": "display_data",
          "data": {
            "text/html": [
              "<span style=\"color:cyan\"> |-Trial ID: 5ed08cd4ed77a8e96f801e5fc9da7acf</span>"
            ],
            "text/plain": [
              "<IPython.core.display.HTML object>"
            ]
          },
          "metadata": {
            "tags": []
          }
        },
        {
          "output_type": "display_data",
          "data": {
            "text/html": [
              "<span style=\"color:cyan\"> |-Score: 0.2966867536306381</span>"
            ],
            "text/plain": [
              "<IPython.core.display.HTML object>"
            ]
          },
          "metadata": {
            "tags": []
          }
        },
        {
          "output_type": "display_data",
          "data": {
            "text/html": [
              "<span style=\"color:cyan\"> |-Best step: 0</span>"
            ],
            "text/plain": [
              "<IPython.core.display.HTML object>"
            ]
          },
          "metadata": {
            "tags": []
          }
        },
        {
          "output_type": "display_data",
          "data": {
            "text/html": [
              "<span style=\"color:#7E57C2\"><h2 style=\"font-size:16px\">Hyperparameters:</h2></span>"
            ],
            "text/plain": [
              "<IPython.core.display.HTML object>"
            ]
          },
          "metadata": {
            "tags": []
          }
        },
        {
          "output_type": "display_data",
          "data": {
            "text/html": [
              "<span style=\"color:cyan\"> |-dense_0: 64</span>"
            ],
            "text/plain": [
              "<IPython.core.display.HTML object>"
            ]
          },
          "metadata": {
            "tags": []
          }
        },
        {
          "output_type": "display_data",
          "data": {
            "text/html": [
              "<span style=\"color:blue\"> |-dense_1: 128</span>"
            ],
            "text/plain": [
              "<IPython.core.display.HTML object>"
            ]
          },
          "metadata": {
            "tags": []
          }
        },
        {
          "output_type": "display_data",
          "data": {
            "text/html": [
              "<span style=\"color:cyan\"> |-dense_2: 64</span>"
            ],
            "text/plain": [
              "<IPython.core.display.HTML object>"
            ]
          },
          "metadata": {
            "tags": []
          }
        },
        {
          "output_type": "display_data",
          "data": {
            "text/html": [
              "<span style=\"color:blue\"> |-dense_input: 128</span>"
            ],
            "text/plain": [
              "<IPython.core.display.HTML object>"
            ]
          },
          "metadata": {
            "tags": []
          }
        },
        {
          "output_type": "display_data",
          "data": {
            "text/html": [
              "<span style=\"color:cyan\"> |-drop_0: 0.1</span>"
            ],
            "text/plain": [
              "<IPython.core.display.HTML object>"
            ]
          },
          "metadata": {
            "tags": []
          }
        },
        {
          "output_type": "display_data",
          "data": {
            "text/html": [
              "<span style=\"color:blue\"> |-drop_1: 0.2</span>"
            ],
            "text/plain": [
              "<IPython.core.display.HTML object>"
            ]
          },
          "metadata": {
            "tags": []
          }
        },
        {
          "output_type": "display_data",
          "data": {
            "text/html": [
              "<span style=\"color:cyan\"> |-drop_2: 0.0</span>"
            ],
            "text/plain": [
              "<IPython.core.display.HTML object>"
            ]
          },
          "metadata": {
            "tags": []
          }
        },
        {
          "output_type": "display_data",
          "data": {
            "text/html": [
              "<span style=\"color:blue\"> |-drop_input: 0.0</span>"
            ],
            "text/plain": [
              "<IPython.core.display.HTML object>"
            ]
          },
          "metadata": {
            "tags": []
          }
        },
        {
          "output_type": "display_data",
          "data": {
            "text/html": [
              "<span style=\"color:cyan\"> |-lr: 0.000381041931665807</span>"
            ],
            "text/plain": [
              "<IPython.core.display.HTML object>"
            ]
          },
          "metadata": {
            "tags": []
          }
        },
        {
          "output_type": "display_data",
          "data": {
            "text/html": [
              "<span style=\"color:blue\"> |-num_intermediate_layers: 2</span>"
            ],
            "text/plain": [
              "<IPython.core.display.HTML object>"
            ]
          },
          "metadata": {
            "tags": []
          }
        },
        {
          "output_type": "display_data",
          "data": {
            "text/html": [
              "<span style=\"color:cyan\"> |-tuner/bracket: 3</span>"
            ],
            "text/plain": [
              "<IPython.core.display.HTML object>"
            ]
          },
          "metadata": {
            "tags": []
          }
        },
        {
          "output_type": "display_data",
          "data": {
            "text/html": [
              "<span style=\"color:blue\"> |-tuner/epochs: 2</span>"
            ],
            "text/plain": [
              "<IPython.core.display.HTML object>"
            ]
          },
          "metadata": {
            "tags": []
          }
        },
        {
          "output_type": "display_data",
          "data": {
            "text/html": [
              "<span style=\"color:cyan\"> |-tuner/initial_epoch: 0</span>"
            ],
            "text/plain": [
              "<IPython.core.display.HTML object>"
            ]
          },
          "metadata": {
            "tags": []
          }
        },
        {
          "output_type": "display_data",
          "data": {
            "text/html": [
              "<span style=\"color:blue\"> |-tuner/round: 0</span>"
            ],
            "text/plain": [
              "<IPython.core.display.HTML object>"
            ]
          },
          "metadata": {
            "tags": []
          }
        },
        {
          "output_type": "stream",
          "text": [
            "Epoch 1/2\n",
            "13/13 [==============================] - 0s 27ms/step - loss: 1.8453 - mae: 1.0707 - val_loss: 0.1379 - val_mae: 0.3123\n",
            "Epoch 2/2\n",
            "13/13 [==============================] - 0s 12ms/step - loss: 1.3745 - mae: 0.9209 - val_loss: 0.0952 - val_mae: 0.2469\n",
            "Epoch 1/2\n",
            "13/13 [==============================] - 0s 27ms/step - loss: 1.6528 - mae: 1.0040 - val_loss: 0.0784 - val_mae: 0.2317\n",
            "Epoch 2/2\n",
            "13/13 [==============================] - 0s 10ms/step - loss: 1.1819 - mae: 0.8428 - val_loss: 0.0814 - val_mae: 0.2331\n"
          ],
          "name": "stdout"
        },
        {
          "output_type": "display_data",
          "data": {
            "text/html": [
              "<span style=\"color:#4527A0\"><h1 style=\"font-size:18px\">Trial complete</h1></span>"
            ],
            "text/plain": [
              "<IPython.core.display.HTML object>"
            ]
          },
          "metadata": {
            "tags": []
          }
        },
        {
          "output_type": "display_data",
          "data": {
            "text/html": [
              "<span style=\"color:#4527A0\"><h1 style=\"font-size:18px\">Trial summary</h1></span>"
            ],
            "text/plain": [
              "<IPython.core.display.HTML object>"
            ]
          },
          "metadata": {
            "tags": []
          }
        },
        {
          "output_type": "display_data",
          "data": {
            "text/html": [
              "<span style=\"color:cyan\"> |-Trial ID: e821e64c7a47a02a21eb695da9bdffa7</span>"
            ],
            "text/plain": [
              "<IPython.core.display.HTML object>"
            ]
          },
          "metadata": {
            "tags": []
          }
        },
        {
          "output_type": "display_data",
          "data": {
            "text/html": [
              "<span style=\"color:cyan\"> |-Score: 0.23932413011789322</span>"
            ],
            "text/plain": [
              "<IPython.core.display.HTML object>"
            ]
          },
          "metadata": {
            "tags": []
          }
        },
        {
          "output_type": "display_data",
          "data": {
            "text/html": [
              "<span style=\"color:cyan\"> |-Best step: 0</span>"
            ],
            "text/plain": [
              "<IPython.core.display.HTML object>"
            ]
          },
          "metadata": {
            "tags": []
          }
        },
        {
          "output_type": "display_data",
          "data": {
            "text/html": [
              "<span style=\"color:#7E57C2\"><h2 style=\"font-size:16px\">Hyperparameters:</h2></span>"
            ],
            "text/plain": [
              "<IPython.core.display.HTML object>"
            ]
          },
          "metadata": {
            "tags": []
          }
        },
        {
          "output_type": "display_data",
          "data": {
            "text/html": [
              "<span style=\"color:cyan\"> |-dense_0: 128</span>"
            ],
            "text/plain": [
              "<IPython.core.display.HTML object>"
            ]
          },
          "metadata": {
            "tags": []
          }
        },
        {
          "output_type": "display_data",
          "data": {
            "text/html": [
              "<span style=\"color:blue\"> |-dense_1: 32</span>"
            ],
            "text/plain": [
              "<IPython.core.display.HTML object>"
            ]
          },
          "metadata": {
            "tags": []
          }
        },
        {
          "output_type": "display_data",
          "data": {
            "text/html": [
              "<span style=\"color:cyan\"> |-dense_2: 64</span>"
            ],
            "text/plain": [
              "<IPython.core.display.HTML object>"
            ]
          },
          "metadata": {
            "tags": []
          }
        },
        {
          "output_type": "display_data",
          "data": {
            "text/html": [
              "<span style=\"color:blue\"> |-dense_input: 96</span>"
            ],
            "text/plain": [
              "<IPython.core.display.HTML object>"
            ]
          },
          "metadata": {
            "tags": []
          }
        },
        {
          "output_type": "display_data",
          "data": {
            "text/html": [
              "<span style=\"color:cyan\"> |-drop_0: 0.30000000000000004</span>"
            ],
            "text/plain": [
              "<IPython.core.display.HTML object>"
            ]
          },
          "metadata": {
            "tags": []
          }
        },
        {
          "output_type": "display_data",
          "data": {
            "text/html": [
              "<span style=\"color:blue\"> |-drop_1: 0.0</span>"
            ],
            "text/plain": [
              "<IPython.core.display.HTML object>"
            ]
          },
          "metadata": {
            "tags": []
          }
        },
        {
          "output_type": "display_data",
          "data": {
            "text/html": [
              "<span style=\"color:cyan\"> |-drop_2: 0.1</span>"
            ],
            "text/plain": [
              "<IPython.core.display.HTML object>"
            ]
          },
          "metadata": {
            "tags": []
          }
        },
        {
          "output_type": "display_data",
          "data": {
            "text/html": [
              "<span style=\"color:blue\"> |-drop_input: 0.30000000000000004</span>"
            ],
            "text/plain": [
              "<IPython.core.display.HTML object>"
            ]
          },
          "metadata": {
            "tags": []
          }
        },
        {
          "output_type": "display_data",
          "data": {
            "text/html": [
              "<span style=\"color:cyan\"> |-lr: 0.000582968539368285</span>"
            ],
            "text/plain": [
              "<IPython.core.display.HTML object>"
            ]
          },
          "metadata": {
            "tags": []
          }
        },
        {
          "output_type": "display_data",
          "data": {
            "text/html": [
              "<span style=\"color:blue\"> |-num_intermediate_layers: 1</span>"
            ],
            "text/plain": [
              "<IPython.core.display.HTML object>"
            ]
          },
          "metadata": {
            "tags": []
          }
        },
        {
          "output_type": "display_data",
          "data": {
            "text/html": [
              "<span style=\"color:cyan\"> |-tuner/bracket: 3</span>"
            ],
            "text/plain": [
              "<IPython.core.display.HTML object>"
            ]
          },
          "metadata": {
            "tags": []
          }
        },
        {
          "output_type": "display_data",
          "data": {
            "text/html": [
              "<span style=\"color:blue\"> |-tuner/epochs: 2</span>"
            ],
            "text/plain": [
              "<IPython.core.display.HTML object>"
            ]
          },
          "metadata": {
            "tags": []
          }
        },
        {
          "output_type": "display_data",
          "data": {
            "text/html": [
              "<span style=\"color:cyan\"> |-tuner/initial_epoch: 0</span>"
            ],
            "text/plain": [
              "<IPython.core.display.HTML object>"
            ]
          },
          "metadata": {
            "tags": []
          }
        },
        {
          "output_type": "display_data",
          "data": {
            "text/html": [
              "<span style=\"color:blue\"> |-tuner/round: 0</span>"
            ],
            "text/plain": [
              "<IPython.core.display.HTML object>"
            ]
          },
          "metadata": {
            "tags": []
          }
        },
        {
          "output_type": "stream",
          "text": [
            "Epoch 1/2\n",
            "13/13 [==============================] - 0s 37ms/step - loss: 1.7129 - mae: 1.0278 - val_loss: 0.2075 - val_mae: 0.3874\n",
            "Epoch 2/2\n",
            "13/13 [==============================] - 0s 17ms/step - loss: 1.1378 - mae: 0.8536 - val_loss: 0.1826 - val_mae: 0.3681\n",
            "Epoch 1/2\n",
            "13/13 [==============================] - 0s 34ms/step - loss: 1.8423 - mae: 1.0584 - val_loss: 0.4023 - val_mae: 0.6067\n",
            "Epoch 2/2\n",
            "13/13 [==============================] - 0s 15ms/step - loss: 1.4535 - mae: 0.9234 - val_loss: 0.2340 - val_mae: 0.4419\n"
          ],
          "name": "stdout"
        },
        {
          "output_type": "display_data",
          "data": {
            "text/html": [
              "<span style=\"color:#4527A0\"><h1 style=\"font-size:18px\">Trial complete</h1></span>"
            ],
            "text/plain": [
              "<IPython.core.display.HTML object>"
            ]
          },
          "metadata": {
            "tags": []
          }
        },
        {
          "output_type": "display_data",
          "data": {
            "text/html": [
              "<span style=\"color:#4527A0\"><h1 style=\"font-size:18px\">Trial summary</h1></span>"
            ],
            "text/plain": [
              "<IPython.core.display.HTML object>"
            ]
          },
          "metadata": {
            "tags": []
          }
        },
        {
          "output_type": "display_data",
          "data": {
            "text/html": [
              "<span style=\"color:cyan\"> |-Trial ID: 5a405bd09b1f7a2cbd4c99a587f37a50</span>"
            ],
            "text/plain": [
              "<IPython.core.display.HTML object>"
            ]
          },
          "metadata": {
            "tags": []
          }
        },
        {
          "output_type": "display_data",
          "data": {
            "text/html": [
              "<span style=\"color:cyan\"> |-Score: 0.4049528241157532</span>"
            ],
            "text/plain": [
              "<IPython.core.display.HTML object>"
            ]
          },
          "metadata": {
            "tags": []
          }
        },
        {
          "output_type": "display_data",
          "data": {
            "text/html": [
              "<span style=\"color:cyan\"> |-Best step: 0</span>"
            ],
            "text/plain": [
              "<IPython.core.display.HTML object>"
            ]
          },
          "metadata": {
            "tags": []
          }
        },
        {
          "output_type": "display_data",
          "data": {
            "text/html": [
              "<span style=\"color:#7E57C2\"><h2 style=\"font-size:16px\">Hyperparameters:</h2></span>"
            ],
            "text/plain": [
              "<IPython.core.display.HTML object>"
            ]
          },
          "metadata": {
            "tags": []
          }
        },
        {
          "output_type": "display_data",
          "data": {
            "text/html": [
              "<span style=\"color:cyan\"> |-dense_0: 96</span>"
            ],
            "text/plain": [
              "<IPython.core.display.HTML object>"
            ]
          },
          "metadata": {
            "tags": []
          }
        },
        {
          "output_type": "display_data",
          "data": {
            "text/html": [
              "<span style=\"color:blue\"> |-dense_1: 64</span>"
            ],
            "text/plain": [
              "<IPython.core.display.HTML object>"
            ]
          },
          "metadata": {
            "tags": []
          }
        },
        {
          "output_type": "display_data",
          "data": {
            "text/html": [
              "<span style=\"color:cyan\"> |-dense_2: 64</span>"
            ],
            "text/plain": [
              "<IPython.core.display.HTML object>"
            ]
          },
          "metadata": {
            "tags": []
          }
        },
        {
          "output_type": "display_data",
          "data": {
            "text/html": [
              "<span style=\"color:blue\"> |-dense_input: 96</span>"
            ],
            "text/plain": [
              "<IPython.core.display.HTML object>"
            ]
          },
          "metadata": {
            "tags": []
          }
        },
        {
          "output_type": "display_data",
          "data": {
            "text/html": [
              "<span style=\"color:cyan\"> |-drop_0: 0.1</span>"
            ],
            "text/plain": [
              "<IPython.core.display.HTML object>"
            ]
          },
          "metadata": {
            "tags": []
          }
        },
        {
          "output_type": "display_data",
          "data": {
            "text/html": [
              "<span style=\"color:blue\"> |-drop_1: 0.2</span>"
            ],
            "text/plain": [
              "<IPython.core.display.HTML object>"
            ]
          },
          "metadata": {
            "tags": []
          }
        },
        {
          "output_type": "display_data",
          "data": {
            "text/html": [
              "<span style=\"color:cyan\"> |-drop_2: 0.1</span>"
            ],
            "text/plain": [
              "<IPython.core.display.HTML object>"
            ]
          },
          "metadata": {
            "tags": []
          }
        },
        {
          "output_type": "display_data",
          "data": {
            "text/html": [
              "<span style=\"color:blue\"> |-drop_input: 0.2</span>"
            ],
            "text/plain": [
              "<IPython.core.display.HTML object>"
            ]
          },
          "metadata": {
            "tags": []
          }
        },
        {
          "output_type": "display_data",
          "data": {
            "text/html": [
              "<span style=\"color:cyan\"> |-lr: 0.0002470617950869425</span>"
            ],
            "text/plain": [
              "<IPython.core.display.HTML object>"
            ]
          },
          "metadata": {
            "tags": []
          }
        },
        {
          "output_type": "display_data",
          "data": {
            "text/html": [
              "<span style=\"color:blue\"> |-num_intermediate_layers: 3</span>"
            ],
            "text/plain": [
              "<IPython.core.display.HTML object>"
            ]
          },
          "metadata": {
            "tags": []
          }
        },
        {
          "output_type": "display_data",
          "data": {
            "text/html": [
              "<span style=\"color:cyan\"> |-tuner/bracket: 3</span>"
            ],
            "text/plain": [
              "<IPython.core.display.HTML object>"
            ]
          },
          "metadata": {
            "tags": []
          }
        },
        {
          "output_type": "display_data",
          "data": {
            "text/html": [
              "<span style=\"color:blue\"> |-tuner/epochs: 2</span>"
            ],
            "text/plain": [
              "<IPython.core.display.HTML object>"
            ]
          },
          "metadata": {
            "tags": []
          }
        },
        {
          "output_type": "display_data",
          "data": {
            "text/html": [
              "<span style=\"color:cyan\"> |-tuner/initial_epoch: 0</span>"
            ],
            "text/plain": [
              "<IPython.core.display.HTML object>"
            ]
          },
          "metadata": {
            "tags": []
          }
        },
        {
          "output_type": "display_data",
          "data": {
            "text/html": [
              "<span style=\"color:blue\"> |-tuner/round: 0</span>"
            ],
            "text/plain": [
              "<IPython.core.display.HTML object>"
            ]
          },
          "metadata": {
            "tags": []
          }
        },
        {
          "output_type": "stream",
          "text": [
            "Epoch 1/2\n",
            "13/13 [==============================] - 0s 34ms/step - loss: 1.2084 - mae: 0.8404 - val_loss: 0.1405 - val_mae: 0.3093\n",
            "Epoch 2/2\n",
            "13/13 [==============================] - 0s 14ms/step - loss: 0.7435 - mae: 0.6539 - val_loss: 0.0503 - val_mae: 0.1646\n",
            "Epoch 1/2\n",
            "13/13 [==============================] - 0s 34ms/step - loss: 1.2969 - mae: 0.8888 - val_loss: 0.0461 - val_mae: 0.1588\n",
            "Epoch 2/2\n",
            "13/13 [==============================] - 0s 14ms/step - loss: 0.5868 - mae: 0.6008 - val_loss: 0.0333 - val_mae: 0.1308\n"
          ],
          "name": "stdout"
        },
        {
          "output_type": "display_data",
          "data": {
            "text/html": [
              "<span style=\"color:#4527A0\"><h1 style=\"font-size:18px\">Trial complete</h1></span>"
            ],
            "text/plain": [
              "<IPython.core.display.HTML object>"
            ]
          },
          "metadata": {
            "tags": []
          }
        },
        {
          "output_type": "display_data",
          "data": {
            "text/html": [
              "<span style=\"color:#4527A0\"><h1 style=\"font-size:18px\">Trial summary</h1></span>"
            ],
            "text/plain": [
              "<IPython.core.display.HTML object>"
            ]
          },
          "metadata": {
            "tags": []
          }
        },
        {
          "output_type": "display_data",
          "data": {
            "text/html": [
              "<span style=\"color:cyan\"> |-Trial ID: 7eaa92a0d1a217decb86263933dc58f0</span>"
            ],
            "text/plain": [
              "<IPython.core.display.HTML object>"
            ]
          },
          "metadata": {
            "tags": []
          }
        },
        {
          "output_type": "display_data",
          "data": {
            "text/html": [
              "<span style=\"color:cyan\"> |-Score: 0.14771226793527603</span>"
            ],
            "text/plain": [
              "<IPython.core.display.HTML object>"
            ]
          },
          "metadata": {
            "tags": []
          }
        },
        {
          "output_type": "display_data",
          "data": {
            "text/html": [
              "<span style=\"color:cyan\"> |-Best step: 0</span>"
            ],
            "text/plain": [
              "<IPython.core.display.HTML object>"
            ]
          },
          "metadata": {
            "tags": []
          }
        },
        {
          "output_type": "display_data",
          "data": {
            "text/html": [
              "<span style=\"color:#7E57C2\"><h2 style=\"font-size:16px\">Hyperparameters:</h2></span>"
            ],
            "text/plain": [
              "<IPython.core.display.HTML object>"
            ]
          },
          "metadata": {
            "tags": []
          }
        },
        {
          "output_type": "display_data",
          "data": {
            "text/html": [
              "<span style=\"color:cyan\"> |-dense_0: 96</span>"
            ],
            "text/plain": [
              "<IPython.core.display.HTML object>"
            ]
          },
          "metadata": {
            "tags": []
          }
        },
        {
          "output_type": "display_data",
          "data": {
            "text/html": [
              "<span style=\"color:blue\"> |-dense_1: 96</span>"
            ],
            "text/plain": [
              "<IPython.core.display.HTML object>"
            ]
          },
          "metadata": {
            "tags": []
          }
        },
        {
          "output_type": "display_data",
          "data": {
            "text/html": [
              "<span style=\"color:cyan\"> |-dense_2: 32</span>"
            ],
            "text/plain": [
              "<IPython.core.display.HTML object>"
            ]
          },
          "metadata": {
            "tags": []
          }
        },
        {
          "output_type": "display_data",
          "data": {
            "text/html": [
              "<span style=\"color:blue\"> |-dense_input: 64</span>"
            ],
            "text/plain": [
              "<IPython.core.display.HTML object>"
            ]
          },
          "metadata": {
            "tags": []
          }
        },
        {
          "output_type": "display_data",
          "data": {
            "text/html": [
              "<span style=\"color:cyan\"> |-drop_0: 0.1</span>"
            ],
            "text/plain": [
              "<IPython.core.display.HTML object>"
            ]
          },
          "metadata": {
            "tags": []
          }
        },
        {
          "output_type": "display_data",
          "data": {
            "text/html": [
              "<span style=\"color:blue\"> |-drop_1: 0.2</span>"
            ],
            "text/plain": [
              "<IPython.core.display.HTML object>"
            ]
          },
          "metadata": {
            "tags": []
          }
        },
        {
          "output_type": "display_data",
          "data": {
            "text/html": [
              "<span style=\"color:cyan\"> |-drop_2: 0.30000000000000004</span>"
            ],
            "text/plain": [
              "<IPython.core.display.HTML object>"
            ]
          },
          "metadata": {
            "tags": []
          }
        },
        {
          "output_type": "display_data",
          "data": {
            "text/html": [
              "<span style=\"color:blue\"> |-drop_input: 0.0</span>"
            ],
            "text/plain": [
              "<IPython.core.display.HTML object>"
            ]
          },
          "metadata": {
            "tags": []
          }
        },
        {
          "output_type": "display_data",
          "data": {
            "text/html": [
              "<span style=\"color:cyan\"> |-lr: 0.001592797574789083</span>"
            ],
            "text/plain": [
              "<IPython.core.display.HTML object>"
            ]
          },
          "metadata": {
            "tags": []
          }
        },
        {
          "output_type": "display_data",
          "data": {
            "text/html": [
              "<span style=\"color:blue\"> |-num_intermediate_layers: 2</span>"
            ],
            "text/plain": [
              "<IPython.core.display.HTML object>"
            ]
          },
          "metadata": {
            "tags": []
          }
        },
        {
          "output_type": "display_data",
          "data": {
            "text/html": [
              "<span style=\"color:cyan\"> |-tuner/bracket: 3</span>"
            ],
            "text/plain": [
              "<IPython.core.display.HTML object>"
            ]
          },
          "metadata": {
            "tags": []
          }
        },
        {
          "output_type": "display_data",
          "data": {
            "text/html": [
              "<span style=\"color:blue\"> |-tuner/epochs: 2</span>"
            ],
            "text/plain": [
              "<IPython.core.display.HTML object>"
            ]
          },
          "metadata": {
            "tags": []
          }
        },
        {
          "output_type": "display_data",
          "data": {
            "text/html": [
              "<span style=\"color:cyan\"> |-tuner/initial_epoch: 0</span>"
            ],
            "text/plain": [
              "<IPython.core.display.HTML object>"
            ]
          },
          "metadata": {
            "tags": []
          }
        },
        {
          "output_type": "display_data",
          "data": {
            "text/html": [
              "<span style=\"color:blue\"> |-tuner/round: 0</span>"
            ],
            "text/plain": [
              "<IPython.core.display.HTML object>"
            ]
          },
          "metadata": {
            "tags": []
          }
        },
        {
          "output_type": "stream",
          "text": [
            "Epoch 1/2\n",
            "13/13 [==============================] - 0s 34ms/step - loss: 1.9402 - mae: 1.0764 - val_loss: 0.3081 - val_mae: 0.5232\n",
            "Epoch 2/2\n",
            "13/13 [==============================] - 0s 20ms/step - loss: 1.4191 - mae: 0.9261 - val_loss: 0.1844 - val_mae: 0.3800\n",
            "Epoch 1/2\n",
            "13/13 [==============================] - 0s 32ms/step - loss: 2.2051 - mae: 1.1441 - val_loss: 0.1166 - val_mae: 0.2836\n",
            "Epoch 2/2\n",
            "13/13 [==============================] - 0s 11ms/step - loss: 1.9042 - mae: 1.0768 - val_loss: 0.1560 - val_mae: 0.3317\n"
          ],
          "name": "stdout"
        },
        {
          "output_type": "display_data",
          "data": {
            "text/html": [
              "<span style=\"color:#4527A0\"><h1 style=\"font-size:18px\">Trial complete</h1></span>"
            ],
            "text/plain": [
              "<IPython.core.display.HTML object>"
            ]
          },
          "metadata": {
            "tags": []
          }
        },
        {
          "output_type": "display_data",
          "data": {
            "text/html": [
              "<span style=\"color:#4527A0\"><h1 style=\"font-size:18px\">Trial summary</h1></span>"
            ],
            "text/plain": [
              "<IPython.core.display.HTML object>"
            ]
          },
          "metadata": {
            "tags": []
          }
        },
        {
          "output_type": "display_data",
          "data": {
            "text/html": [
              "<span style=\"color:cyan\"> |-Trial ID: f58f27421e840011aa99a8f4ce519f6e</span>"
            ],
            "text/plain": [
              "<IPython.core.display.HTML object>"
            ]
          },
          "metadata": {
            "tags": []
          }
        },
        {
          "output_type": "display_data",
          "data": {
            "text/html": [
              "<span style=\"color:cyan\"> |-Score: 0.33177319169044495</span>"
            ],
            "text/plain": [
              "<IPython.core.display.HTML object>"
            ]
          },
          "metadata": {
            "tags": []
          }
        },
        {
          "output_type": "display_data",
          "data": {
            "text/html": [
              "<span style=\"color:cyan\"> |-Best step: 0</span>"
            ],
            "text/plain": [
              "<IPython.core.display.HTML object>"
            ]
          },
          "metadata": {
            "tags": []
          }
        },
        {
          "output_type": "display_data",
          "data": {
            "text/html": [
              "<span style=\"color:#7E57C2\"><h2 style=\"font-size:16px\">Hyperparameters:</h2></span>"
            ],
            "text/plain": [
              "<IPython.core.display.HTML object>"
            ]
          },
          "metadata": {
            "tags": []
          }
        },
        {
          "output_type": "display_data",
          "data": {
            "text/html": [
              "<span style=\"color:cyan\"> |-dense_0: 96</span>"
            ],
            "text/plain": [
              "<IPython.core.display.HTML object>"
            ]
          },
          "metadata": {
            "tags": []
          }
        },
        {
          "output_type": "display_data",
          "data": {
            "text/html": [
              "<span style=\"color:blue\"> |-dense_1: 128</span>"
            ],
            "text/plain": [
              "<IPython.core.display.HTML object>"
            ]
          },
          "metadata": {
            "tags": []
          }
        },
        {
          "output_type": "display_data",
          "data": {
            "text/html": [
              "<span style=\"color:cyan\"> |-dense_2: 96</span>"
            ],
            "text/plain": [
              "<IPython.core.display.HTML object>"
            ]
          },
          "metadata": {
            "tags": []
          }
        },
        {
          "output_type": "display_data",
          "data": {
            "text/html": [
              "<span style=\"color:blue\"> |-dense_input: 96</span>"
            ],
            "text/plain": [
              "<IPython.core.display.HTML object>"
            ]
          },
          "metadata": {
            "tags": []
          }
        },
        {
          "output_type": "display_data",
          "data": {
            "text/html": [
              "<span style=\"color:cyan\"> |-drop_0: 0.30000000000000004</span>"
            ],
            "text/plain": [
              "<IPython.core.display.HTML object>"
            ]
          },
          "metadata": {
            "tags": []
          }
        },
        {
          "output_type": "display_data",
          "data": {
            "text/html": [
              "<span style=\"color:blue\"> |-drop_1: 0.2</span>"
            ],
            "text/plain": [
              "<IPython.core.display.HTML object>"
            ]
          },
          "metadata": {
            "tags": []
          }
        },
        {
          "output_type": "display_data",
          "data": {
            "text/html": [
              "<span style=\"color:cyan\"> |-drop_2: 0.1</span>"
            ],
            "text/plain": [
              "<IPython.core.display.HTML object>"
            ]
          },
          "metadata": {
            "tags": []
          }
        },
        {
          "output_type": "display_data",
          "data": {
            "text/html": [
              "<span style=\"color:blue\"> |-drop_input: 0.2</span>"
            ],
            "text/plain": [
              "<IPython.core.display.HTML object>"
            ]
          },
          "metadata": {
            "tags": []
          }
        },
        {
          "output_type": "display_data",
          "data": {
            "text/html": [
              "<span style=\"color:cyan\"> |-lr: 0.00025612335748235267</span>"
            ],
            "text/plain": [
              "<IPython.core.display.HTML object>"
            ]
          },
          "metadata": {
            "tags": []
          }
        },
        {
          "output_type": "display_data",
          "data": {
            "text/html": [
              "<span style=\"color:blue\"> |-num_intermediate_layers: 2</span>"
            ],
            "text/plain": [
              "<IPython.core.display.HTML object>"
            ]
          },
          "metadata": {
            "tags": []
          }
        },
        {
          "output_type": "display_data",
          "data": {
            "text/html": [
              "<span style=\"color:cyan\"> |-tuner/bracket: 3</span>"
            ],
            "text/plain": [
              "<IPython.core.display.HTML object>"
            ]
          },
          "metadata": {
            "tags": []
          }
        },
        {
          "output_type": "display_data",
          "data": {
            "text/html": [
              "<span style=\"color:blue\"> |-tuner/epochs: 2</span>"
            ],
            "text/plain": [
              "<IPython.core.display.HTML object>"
            ]
          },
          "metadata": {
            "tags": []
          }
        },
        {
          "output_type": "display_data",
          "data": {
            "text/html": [
              "<span style=\"color:cyan\"> |-tuner/initial_epoch: 0</span>"
            ],
            "text/plain": [
              "<IPython.core.display.HTML object>"
            ]
          },
          "metadata": {
            "tags": []
          }
        },
        {
          "output_type": "display_data",
          "data": {
            "text/html": [
              "<span style=\"color:blue\"> |-tuner/round: 0</span>"
            ],
            "text/plain": [
              "<IPython.core.display.HTML object>"
            ]
          },
          "metadata": {
            "tags": []
          }
        },
        {
          "output_type": "stream",
          "text": [
            "Epoch 3/6\n",
            "13/13 [==============================] - 0s 37ms/step - loss: 1.6185 - mae: 0.9766 - val_loss: 0.0467 - val_mae: 0.1616\n",
            "Epoch 4/6\n",
            "13/13 [==============================] - 0s 16ms/step - loss: 0.9088 - mae: 0.7391 - val_loss: 0.0328 - val_mae: 0.1389\n",
            "Epoch 5/6\n",
            "13/13 [==============================] - 0s 16ms/step - loss: 0.6969 - mae: 0.6430 - val_loss: 0.0483 - val_mae: 0.1607\n",
            "Epoch 6/6\n",
            "13/13 [==============================] - 0s 17ms/step - loss: 0.5102 - mae: 0.5527 - val_loss: 0.0458 - val_mae: 0.1548\n",
            "Epoch 3/6\n",
            "13/13 [==============================] - 0s 36ms/step - loss: 1.7808 - mae: 1.0552 - val_loss: 0.0382 - val_mae: 0.1340\n",
            "Epoch 4/6\n",
            "13/13 [==============================] - 0s 13ms/step - loss: 0.8649 - mae: 0.6656 - val_loss: 0.0433 - val_mae: 0.1535\n",
            "Epoch 5/6\n",
            "13/13 [==============================] - 0s 13ms/step - loss: 0.6584 - mae: 0.6137 - val_loss: 0.0549 - val_mae: 0.1737\n",
            "Epoch 6/6\n",
            "13/13 [==============================] - 0s 15ms/step - loss: 0.4667 - mae: 0.5199 - val_loss: 0.0478 - val_mae: 0.1567\n"
          ],
          "name": "stdout"
        },
        {
          "output_type": "display_data",
          "data": {
            "text/html": [
              "<span style=\"color:#4527A0\"><h1 style=\"font-size:18px\">Trial complete</h1></span>"
            ],
            "text/plain": [
              "<IPython.core.display.HTML object>"
            ]
          },
          "metadata": {
            "tags": []
          }
        },
        {
          "output_type": "display_data",
          "data": {
            "text/html": [
              "<span style=\"color:#4527A0\"><h1 style=\"font-size:18px\">Trial summary</h1></span>"
            ],
            "text/plain": [
              "<IPython.core.display.HTML object>"
            ]
          },
          "metadata": {
            "tags": []
          }
        },
        {
          "output_type": "display_data",
          "data": {
            "text/html": [
              "<span style=\"color:cyan\"> |-Trial ID: 84d1af8c2c70372cfa4e2e0ba7b6d894</span>"
            ],
            "text/plain": [
              "<IPython.core.display.HTML object>"
            ]
          },
          "metadata": {
            "tags": []
          }
        },
        {
          "output_type": "display_data",
          "data": {
            "text/html": [
              "<span style=\"color:cyan\"> |-Score: 0.13647396117448807</span>"
            ],
            "text/plain": [
              "<IPython.core.display.HTML object>"
            ]
          },
          "metadata": {
            "tags": []
          }
        },
        {
          "output_type": "display_data",
          "data": {
            "text/html": [
              "<span style=\"color:cyan\"> |-Best step: 0</span>"
            ],
            "text/plain": [
              "<IPython.core.display.HTML object>"
            ]
          },
          "metadata": {
            "tags": []
          }
        },
        {
          "output_type": "display_data",
          "data": {
            "text/html": [
              "<span style=\"color:#7E57C2\"><h2 style=\"font-size:16px\">Hyperparameters:</h2></span>"
            ],
            "text/plain": [
              "<IPython.core.display.HTML object>"
            ]
          },
          "metadata": {
            "tags": []
          }
        },
        {
          "output_type": "display_data",
          "data": {
            "text/html": [
              "<span style=\"color:cyan\"> |-dense_0: 32</span>"
            ],
            "text/plain": [
              "<IPython.core.display.HTML object>"
            ]
          },
          "metadata": {
            "tags": []
          }
        },
        {
          "output_type": "display_data",
          "data": {
            "text/html": [
              "<span style=\"color:blue\"> |-dense_1: 96</span>"
            ],
            "text/plain": [
              "<IPython.core.display.HTML object>"
            ]
          },
          "metadata": {
            "tags": []
          }
        },
        {
          "output_type": "display_data",
          "data": {
            "text/html": [
              "<span style=\"color:cyan\"> |-dense_2: 64</span>"
            ],
            "text/plain": [
              "<IPython.core.display.HTML object>"
            ]
          },
          "metadata": {
            "tags": []
          }
        },
        {
          "output_type": "display_data",
          "data": {
            "text/html": [
              "<span style=\"color:blue\"> |-dense_input: 128</span>"
            ],
            "text/plain": [
              "<IPython.core.display.HTML object>"
            ]
          },
          "metadata": {
            "tags": []
          }
        },
        {
          "output_type": "display_data",
          "data": {
            "text/html": [
              "<span style=\"color:cyan\"> |-drop_0: 0.2</span>"
            ],
            "text/plain": [
              "<IPython.core.display.HTML object>"
            ]
          },
          "metadata": {
            "tags": []
          }
        },
        {
          "output_type": "display_data",
          "data": {
            "text/html": [
              "<span style=\"color:blue\"> |-drop_1: 0.1</span>"
            ],
            "text/plain": [
              "<IPython.core.display.HTML object>"
            ]
          },
          "metadata": {
            "tags": []
          }
        },
        {
          "output_type": "display_data",
          "data": {
            "text/html": [
              "<span style=\"color:cyan\"> |-drop_2: 0.30000000000000004</span>"
            ],
            "text/plain": [
              "<IPython.core.display.HTML object>"
            ]
          },
          "metadata": {
            "tags": []
          }
        },
        {
          "output_type": "display_data",
          "data": {
            "text/html": [
              "<span style=\"color:blue\"> |-drop_input: 0.30000000000000004</span>"
            ],
            "text/plain": [
              "<IPython.core.display.HTML object>"
            ]
          },
          "metadata": {
            "tags": []
          }
        },
        {
          "output_type": "display_data",
          "data": {
            "text/html": [
              "<span style=\"color:cyan\"> |-lr: 0.0034854093215866385</span>"
            ],
            "text/plain": [
              "<IPython.core.display.HTML object>"
            ]
          },
          "metadata": {
            "tags": []
          }
        },
        {
          "output_type": "display_data",
          "data": {
            "text/html": [
              "<span style=\"color:blue\"> |-num_intermediate_layers: 3</span>"
            ],
            "text/plain": [
              "<IPython.core.display.HTML object>"
            ]
          },
          "metadata": {
            "tags": []
          }
        },
        {
          "output_type": "display_data",
          "data": {
            "text/html": [
              "<span style=\"color:cyan\"> |-tuner/bracket: 3</span>"
            ],
            "text/plain": [
              "<IPython.core.display.HTML object>"
            ]
          },
          "metadata": {
            "tags": []
          }
        },
        {
          "output_type": "display_data",
          "data": {
            "text/html": [
              "<span style=\"color:blue\"> |-tuner/epochs: 6</span>"
            ],
            "text/plain": [
              "<IPython.core.display.HTML object>"
            ]
          },
          "metadata": {
            "tags": []
          }
        },
        {
          "output_type": "display_data",
          "data": {
            "text/html": [
              "<span style=\"color:cyan\"> |-tuner/initial_epoch: 2</span>"
            ],
            "text/plain": [
              "<IPython.core.display.HTML object>"
            ]
          },
          "metadata": {
            "tags": []
          }
        },
        {
          "output_type": "display_data",
          "data": {
            "text/html": [
              "<span style=\"color:blue\"> |-tuner/round: 1</span>"
            ],
            "text/plain": [
              "<IPython.core.display.HTML object>"
            ]
          },
          "metadata": {
            "tags": []
          }
        },
        {
          "output_type": "display_data",
          "data": {
            "text/html": [
              "<span style=\"color:cyan\"> |-tuner/trial_id: 529ab4b543549a7740ea2c40aae4d4f3</span>"
            ],
            "text/plain": [
              "<IPython.core.display.HTML object>"
            ]
          },
          "metadata": {
            "tags": []
          }
        },
        {
          "output_type": "stream",
          "text": [
            "Epoch 3/6\n",
            "13/13 [==============================] - 0s 28ms/step - loss: 1.0725 - mae: 0.7699 - val_loss: 0.0318 - val_mae: 0.1274\n",
            "Epoch 4/6\n",
            "13/13 [==============================] - 0s 12ms/step - loss: 0.3548 - mae: 0.4478 - val_loss: 0.0269 - val_mae: 0.1176\n",
            "Epoch 5/6\n",
            "13/13 [==============================] - 0s 10ms/step - loss: 0.2193 - mae: 0.3497 - val_loss: 0.0282 - val_mae: 0.1184\n",
            "Epoch 6/6\n",
            "13/13 [==============================] - 0s 13ms/step - loss: 0.1568 - mae: 0.3025 - val_loss: 0.0359 - val_mae: 0.1335\n",
            "Epoch 3/6\n",
            "13/13 [==============================] - 0s 24ms/step - loss: 0.7991 - mae: 0.6663 - val_loss: 0.0484 - val_mae: 0.1678\n",
            "Epoch 4/6\n",
            "13/13 [==============================] - 0s 10ms/step - loss: 0.2842 - mae: 0.4066 - val_loss: 0.0436 - val_mae: 0.1574\n",
            "Epoch 5/6\n",
            "13/13 [==============================] - 0s 10ms/step - loss: 0.2057 - mae: 0.3298 - val_loss: 0.0448 - val_mae: 0.1557\n",
            "Epoch 6/6\n",
            "13/13 [==============================] - 0s 10ms/step - loss: 0.1522 - mae: 0.2920 - val_loss: 0.0444 - val_mae: 0.1549\n"
          ],
          "name": "stdout"
        },
        {
          "output_type": "display_data",
          "data": {
            "text/html": [
              "<span style=\"color:#4527A0\"><h1 style=\"font-size:18px\">Trial complete</h1></span>"
            ],
            "text/plain": [
              "<IPython.core.display.HTML object>"
            ]
          },
          "metadata": {
            "tags": []
          }
        },
        {
          "output_type": "display_data",
          "data": {
            "text/html": [
              "<span style=\"color:#4527A0\"><h1 style=\"font-size:18px\">Trial summary</h1></span>"
            ],
            "text/plain": [
              "<IPython.core.display.HTML object>"
            ]
          },
          "metadata": {
            "tags": []
          }
        },
        {
          "output_type": "display_data",
          "data": {
            "text/html": [
              "<span style=\"color:cyan\"> |-Trial ID: a1ec86f8523bfc9225e49d531ee946f9</span>"
            ],
            "text/plain": [
              "<IPython.core.display.HTML object>"
            ]
          },
          "metadata": {
            "tags": []
          }
        },
        {
          "output_type": "display_data",
          "data": {
            "text/html": [
              "<span style=\"color:cyan\"> |-Score: 0.13624942675232887</span>"
            ],
            "text/plain": [
              "<IPython.core.display.HTML object>"
            ]
          },
          "metadata": {
            "tags": []
          }
        },
        {
          "output_type": "display_data",
          "data": {
            "text/html": [
              "<span style=\"color:cyan\"> |-Best step: 0</span>"
            ],
            "text/plain": [
              "<IPython.core.display.HTML object>"
            ]
          },
          "metadata": {
            "tags": []
          }
        },
        {
          "output_type": "display_data",
          "data": {
            "text/html": [
              "<span style=\"color:#7E57C2\"><h2 style=\"font-size:16px\">Hyperparameters:</h2></span>"
            ],
            "text/plain": [
              "<IPython.core.display.HTML object>"
            ]
          },
          "metadata": {
            "tags": []
          }
        },
        {
          "output_type": "display_data",
          "data": {
            "text/html": [
              "<span style=\"color:cyan\"> |-dense_0: 32</span>"
            ],
            "text/plain": [
              "<IPython.core.display.HTML object>"
            ]
          },
          "metadata": {
            "tags": []
          }
        },
        {
          "output_type": "display_data",
          "data": {
            "text/html": [
              "<span style=\"color:blue\"> |-dense_1: 96</span>"
            ],
            "text/plain": [
              "<IPython.core.display.HTML object>"
            ]
          },
          "metadata": {
            "tags": []
          }
        },
        {
          "output_type": "display_data",
          "data": {
            "text/html": [
              "<span style=\"color:cyan\"> |-dense_2: 32</span>"
            ],
            "text/plain": [
              "<IPython.core.display.HTML object>"
            ]
          },
          "metadata": {
            "tags": []
          }
        },
        {
          "output_type": "display_data",
          "data": {
            "text/html": [
              "<span style=\"color:blue\"> |-dense_input: 64</span>"
            ],
            "text/plain": [
              "<IPython.core.display.HTML object>"
            ]
          },
          "metadata": {
            "tags": []
          }
        },
        {
          "output_type": "display_data",
          "data": {
            "text/html": [
              "<span style=\"color:cyan\"> |-drop_0: 0.1</span>"
            ],
            "text/plain": [
              "<IPython.core.display.HTML object>"
            ]
          },
          "metadata": {
            "tags": []
          }
        },
        {
          "output_type": "display_data",
          "data": {
            "text/html": [
              "<span style=\"color:blue\"> |-drop_1: 0.1</span>"
            ],
            "text/plain": [
              "<IPython.core.display.HTML object>"
            ]
          },
          "metadata": {
            "tags": []
          }
        },
        {
          "output_type": "display_data",
          "data": {
            "text/html": [
              "<span style=\"color:cyan\"> |-drop_2: 0.1</span>"
            ],
            "text/plain": [
              "<IPython.core.display.HTML object>"
            ]
          },
          "metadata": {
            "tags": []
          }
        },
        {
          "output_type": "display_data",
          "data": {
            "text/html": [
              "<span style=\"color:blue\"> |-drop_input: 0.2</span>"
            ],
            "text/plain": [
              "<IPython.core.display.HTML object>"
            ]
          },
          "metadata": {
            "tags": []
          }
        },
        {
          "output_type": "display_data",
          "data": {
            "text/html": [
              "<span style=\"color:cyan\"> |-lr: 0.0035576180732357536</span>"
            ],
            "text/plain": [
              "<IPython.core.display.HTML object>"
            ]
          },
          "metadata": {
            "tags": []
          }
        },
        {
          "output_type": "display_data",
          "data": {
            "text/html": [
              "<span style=\"color:blue\"> |-num_intermediate_layers: 1</span>"
            ],
            "text/plain": [
              "<IPython.core.display.HTML object>"
            ]
          },
          "metadata": {
            "tags": []
          }
        },
        {
          "output_type": "display_data",
          "data": {
            "text/html": [
              "<span style=\"color:cyan\"> |-tuner/bracket: 3</span>"
            ],
            "text/plain": [
              "<IPython.core.display.HTML object>"
            ]
          },
          "metadata": {
            "tags": []
          }
        },
        {
          "output_type": "display_data",
          "data": {
            "text/html": [
              "<span style=\"color:blue\"> |-tuner/epochs: 6</span>"
            ],
            "text/plain": [
              "<IPython.core.display.HTML object>"
            ]
          },
          "metadata": {
            "tags": []
          }
        },
        {
          "output_type": "display_data",
          "data": {
            "text/html": [
              "<span style=\"color:cyan\"> |-tuner/initial_epoch: 2</span>"
            ],
            "text/plain": [
              "<IPython.core.display.HTML object>"
            ]
          },
          "metadata": {
            "tags": []
          }
        },
        {
          "output_type": "display_data",
          "data": {
            "text/html": [
              "<span style=\"color:blue\"> |-tuner/round: 1</span>"
            ],
            "text/plain": [
              "<IPython.core.display.HTML object>"
            ]
          },
          "metadata": {
            "tags": []
          }
        },
        {
          "output_type": "display_data",
          "data": {
            "text/html": [
              "<span style=\"color:cyan\"> |-tuner/trial_id: c552abf9b6f2820362c81bb080143135</span>"
            ],
            "text/plain": [
              "<IPython.core.display.HTML object>"
            ]
          },
          "metadata": {
            "tags": []
          }
        },
        {
          "output_type": "stream",
          "text": [
            "Epoch 3/6\n",
            "13/13 [==============================] - 0s 37ms/step - loss: 0.7674 - mae: 0.5822 - val_loss: 0.1001 - val_mae: 0.2822\n",
            "Epoch 4/6\n",
            "13/13 [==============================] - 0s 17ms/step - loss: 0.0707 - mae: 0.2055 - val_loss: 0.0409 - val_mae: 0.1459\n",
            "Epoch 5/6\n",
            "13/13 [==============================] - 0s 18ms/step - loss: 0.0345 - mae: 0.1312 - val_loss: 0.0377 - val_mae: 0.1399\n",
            "Epoch 6/6\n",
            "13/13 [==============================] - 0s 15ms/step - loss: 0.0249 - mae: 0.1168 - val_loss: 0.0324 - val_mae: 0.1297\n",
            "Epoch 3/6\n",
            "13/13 [==============================] - 0s 36ms/step - loss: 0.5323 - mae: 0.4729 - val_loss: 0.0214 - val_mae: 0.1062\n",
            "Epoch 4/6\n",
            "13/13 [==============================] - 0s 16ms/step - loss: 0.0504 - mae: 0.1751 - val_loss: 0.0220 - val_mae: 0.1045\n",
            "Epoch 5/6\n",
            "13/13 [==============================] - 0s 14ms/step - loss: 0.0340 - mae: 0.1314 - val_loss: 0.0369 - val_mae: 0.1404\n",
            "Epoch 6/6\n",
            "13/13 [==============================] - 0s 12ms/step - loss: 0.0218 - mae: 0.1054 - val_loss: 0.0286 - val_mae: 0.1194\n"
          ],
          "name": "stdout"
        },
        {
          "output_type": "display_data",
          "data": {
            "text/html": [
              "<span style=\"color:#4527A0\"><h1 style=\"font-size:18px\">Trial complete</h1></span>"
            ],
            "text/plain": [
              "<IPython.core.display.HTML object>"
            ]
          },
          "metadata": {
            "tags": []
          }
        },
        {
          "output_type": "display_data",
          "data": {
            "text/html": [
              "<span style=\"color:#4527A0\"><h1 style=\"font-size:18px\">Trial summary</h1></span>"
            ],
            "text/plain": [
              "<IPython.core.display.HTML object>"
            ]
          },
          "metadata": {
            "tags": []
          }
        },
        {
          "output_type": "display_data",
          "data": {
            "text/html": [
              "<span style=\"color:cyan\"> |-Trial ID: 41958b4c9cc961d2c8f2d01e7feec314</span>"
            ],
            "text/plain": [
              "<IPython.core.display.HTML object>"
            ]
          },
          "metadata": {
            "tags": []
          }
        },
        {
          "output_type": "display_data",
          "data": {
            "text/html": [
              "<span style=\"color:cyan\"> |-Score: 0.117084089666605</span>"
            ],
            "text/plain": [
              "<IPython.core.display.HTML object>"
            ]
          },
          "metadata": {
            "tags": []
          }
        },
        {
          "output_type": "display_data",
          "data": {
            "text/html": [
              "<span style=\"color:cyan\"> |-Best step: 0</span>"
            ],
            "text/plain": [
              "<IPython.core.display.HTML object>"
            ]
          },
          "metadata": {
            "tags": []
          }
        },
        {
          "output_type": "display_data",
          "data": {
            "text/html": [
              "<span style=\"color:#7E57C2\"><h2 style=\"font-size:16px\">Hyperparameters:</h2></span>"
            ],
            "text/plain": [
              "<IPython.core.display.HTML object>"
            ]
          },
          "metadata": {
            "tags": []
          }
        },
        {
          "output_type": "display_data",
          "data": {
            "text/html": [
              "<span style=\"color:cyan\"> |-dense_0: 64</span>"
            ],
            "text/plain": [
              "<IPython.core.display.HTML object>"
            ]
          },
          "metadata": {
            "tags": []
          }
        },
        {
          "output_type": "display_data",
          "data": {
            "text/html": [
              "<span style=\"color:blue\"> |-dense_1: 64</span>"
            ],
            "text/plain": [
              "<IPython.core.display.HTML object>"
            ]
          },
          "metadata": {
            "tags": []
          }
        },
        {
          "output_type": "display_data",
          "data": {
            "text/html": [
              "<span style=\"color:cyan\"> |-dense_2: 32</span>"
            ],
            "text/plain": [
              "<IPython.core.display.HTML object>"
            ]
          },
          "metadata": {
            "tags": []
          }
        },
        {
          "output_type": "display_data",
          "data": {
            "text/html": [
              "<span style=\"color:blue\"> |-dense_input: 32</span>"
            ],
            "text/plain": [
              "<IPython.core.display.HTML object>"
            ]
          },
          "metadata": {
            "tags": []
          }
        },
        {
          "output_type": "display_data",
          "data": {
            "text/html": [
              "<span style=\"color:cyan\"> |-drop_0: 0.0</span>"
            ],
            "text/plain": [
              "<IPython.core.display.HTML object>"
            ]
          },
          "metadata": {
            "tags": []
          }
        },
        {
          "output_type": "display_data",
          "data": {
            "text/html": [
              "<span style=\"color:blue\"> |-drop_1: 0.0</span>"
            ],
            "text/plain": [
              "<IPython.core.display.HTML object>"
            ]
          },
          "metadata": {
            "tags": []
          }
        },
        {
          "output_type": "display_data",
          "data": {
            "text/html": [
              "<span style=\"color:cyan\"> |-drop_2: 0.0</span>"
            ],
            "text/plain": [
              "<IPython.core.display.HTML object>"
            ]
          },
          "metadata": {
            "tags": []
          }
        },
        {
          "output_type": "display_data",
          "data": {
            "text/html": [
              "<span style=\"color:blue\"> |-drop_input: 0.2</span>"
            ],
            "text/plain": [
              "<IPython.core.display.HTML object>"
            ]
          },
          "metadata": {
            "tags": []
          }
        },
        {
          "output_type": "display_data",
          "data": {
            "text/html": [
              "<span style=\"color:cyan\"> |-lr: 0.008079775183819825</span>"
            ],
            "text/plain": [
              "<IPython.core.display.HTML object>"
            ]
          },
          "metadata": {
            "tags": []
          }
        },
        {
          "output_type": "display_data",
          "data": {
            "text/html": [
              "<span style=\"color:blue\"> |-num_intermediate_layers: 3</span>"
            ],
            "text/plain": [
              "<IPython.core.display.HTML object>"
            ]
          },
          "metadata": {
            "tags": []
          }
        },
        {
          "output_type": "display_data",
          "data": {
            "text/html": [
              "<span style=\"color:cyan\"> |-tuner/bracket: 3</span>"
            ],
            "text/plain": [
              "<IPython.core.display.HTML object>"
            ]
          },
          "metadata": {
            "tags": []
          }
        },
        {
          "output_type": "display_data",
          "data": {
            "text/html": [
              "<span style=\"color:blue\"> |-tuner/epochs: 6</span>"
            ],
            "text/plain": [
              "<IPython.core.display.HTML object>"
            ]
          },
          "metadata": {
            "tags": []
          }
        },
        {
          "output_type": "display_data",
          "data": {
            "text/html": [
              "<span style=\"color:cyan\"> |-tuner/initial_epoch: 2</span>"
            ],
            "text/plain": [
              "<IPython.core.display.HTML object>"
            ]
          },
          "metadata": {
            "tags": []
          }
        },
        {
          "output_type": "display_data",
          "data": {
            "text/html": [
              "<span style=\"color:blue\"> |-tuner/round: 1</span>"
            ],
            "text/plain": [
              "<IPython.core.display.HTML object>"
            ]
          },
          "metadata": {
            "tags": []
          }
        },
        {
          "output_type": "display_data",
          "data": {
            "text/html": [
              "<span style=\"color:cyan\"> |-tuner/trial_id: d05b2e8b919bc9f5b4b3dc8015708cba</span>"
            ],
            "text/plain": [
              "<IPython.core.display.HTML object>"
            ]
          },
          "metadata": {
            "tags": []
          }
        },
        {
          "output_type": "stream",
          "text": [
            "Epoch 3/6\n",
            "13/13 [==============================] - 1s 43ms/step - loss: 0.9248 - mae: 0.7136 - val_loss: 0.0495 - val_mae: 0.1673\n",
            "Epoch 4/6\n",
            "13/13 [==============================] - 0s 17ms/step - loss: 0.5078 - mae: 0.5521 - val_loss: 0.0418 - val_mae: 0.1498\n",
            "Epoch 5/6\n",
            "13/13 [==============================] - 0s 16ms/step - loss: 0.4998 - mae: 0.5466 - val_loss: 0.0371 - val_mae: 0.1370\n",
            "Epoch 6/6\n",
            "13/13 [==============================] - 0s 14ms/step - loss: 0.4162 - mae: 0.4770 - val_loss: 0.0479 - val_mae: 0.1582\n",
            "Epoch 3/6\n",
            "13/13 [==============================] - 0s 33ms/step - loss: 1.1712 - mae: 0.8083 - val_loss: 0.0651 - val_mae: 0.1911\n",
            "Epoch 4/6\n",
            "13/13 [==============================] - 0s 12ms/step - loss: 0.5819 - mae: 0.5777 - val_loss: 0.0396 - val_mae: 0.1538\n",
            "Epoch 5/6\n",
            "13/13 [==============================] - 0s 14ms/step - loss: 0.5048 - mae: 0.5291 - val_loss: 0.0399 - val_mae: 0.1422\n",
            "Epoch 6/6\n",
            "13/13 [==============================] - 0s 13ms/step - loss: 0.4244 - mae: 0.4900 - val_loss: 0.0471 - val_mae: 0.1575\n"
          ],
          "name": "stdout"
        },
        {
          "output_type": "display_data",
          "data": {
            "text/html": [
              "<span style=\"color:#4527A0\"><h1 style=\"font-size:18px\">Trial complete</h1></span>"
            ],
            "text/plain": [
              "<IPython.core.display.HTML object>"
            ]
          },
          "metadata": {
            "tags": []
          }
        },
        {
          "output_type": "display_data",
          "data": {
            "text/html": [
              "<span style=\"color:#4527A0\"><h1 style=\"font-size:18px\">Trial summary</h1></span>"
            ],
            "text/plain": [
              "<IPython.core.display.HTML object>"
            ]
          },
          "metadata": {
            "tags": []
          }
        },
        {
          "output_type": "display_data",
          "data": {
            "text/html": [
              "<span style=\"color:cyan\"> |-Trial ID: dc9b0d052e69f44a561a4f776d672412</span>"
            ],
            "text/plain": [
              "<IPython.core.display.HTML object>"
            ]
          },
          "metadata": {
            "tags": []
          }
        },
        {
          "output_type": "display_data",
          "data": {
            "text/html": [
              "<span style=\"color:cyan\"> |-Score: 0.13958607614040375</span>"
            ],
            "text/plain": [
              "<IPython.core.display.HTML object>"
            ]
          },
          "metadata": {
            "tags": []
          }
        },
        {
          "output_type": "display_data",
          "data": {
            "text/html": [
              "<span style=\"color:cyan\"> |-Best step: 0</span>"
            ],
            "text/plain": [
              "<IPython.core.display.HTML object>"
            ]
          },
          "metadata": {
            "tags": []
          }
        },
        {
          "output_type": "display_data",
          "data": {
            "text/html": [
              "<span style=\"color:#7E57C2\"><h2 style=\"font-size:16px\">Hyperparameters:</h2></span>"
            ],
            "text/plain": [
              "<IPython.core.display.HTML object>"
            ]
          },
          "metadata": {
            "tags": []
          }
        },
        {
          "output_type": "display_data",
          "data": {
            "text/html": [
              "<span style=\"color:cyan\"> |-dense_0: 96</span>"
            ],
            "text/plain": [
              "<IPython.core.display.HTML object>"
            ]
          },
          "metadata": {
            "tags": []
          }
        },
        {
          "output_type": "display_data",
          "data": {
            "text/html": [
              "<span style=\"color:blue\"> |-dense_1: 32</span>"
            ],
            "text/plain": [
              "<IPython.core.display.HTML object>"
            ]
          },
          "metadata": {
            "tags": []
          }
        },
        {
          "output_type": "display_data",
          "data": {
            "text/html": [
              "<span style=\"color:cyan\"> |-dense_2: 96</span>"
            ],
            "text/plain": [
              "<IPython.core.display.HTML object>"
            ]
          },
          "metadata": {
            "tags": []
          }
        },
        {
          "output_type": "display_data",
          "data": {
            "text/html": [
              "<span style=\"color:blue\"> |-dense_input: 32</span>"
            ],
            "text/plain": [
              "<IPython.core.display.HTML object>"
            ]
          },
          "metadata": {
            "tags": []
          }
        },
        {
          "output_type": "display_data",
          "data": {
            "text/html": [
              "<span style=\"color:cyan\"> |-drop_0: 0.30000000000000004</span>"
            ],
            "text/plain": [
              "<IPython.core.display.HTML object>"
            ]
          },
          "metadata": {
            "tags": []
          }
        },
        {
          "output_type": "display_data",
          "data": {
            "text/html": [
              "<span style=\"color:blue\"> |-drop_1: 0.0</span>"
            ],
            "text/plain": [
              "<IPython.core.display.HTML object>"
            ]
          },
          "metadata": {
            "tags": []
          }
        },
        {
          "output_type": "display_data",
          "data": {
            "text/html": [
              "<span style=\"color:cyan\"> |-drop_2: 0.2</span>"
            ],
            "text/plain": [
              "<IPython.core.display.HTML object>"
            ]
          },
          "metadata": {
            "tags": []
          }
        },
        {
          "output_type": "display_data",
          "data": {
            "text/html": [
              "<span style=\"color:blue\"> |-drop_input: 0.2</span>"
            ],
            "text/plain": [
              "<IPython.core.display.HTML object>"
            ]
          },
          "metadata": {
            "tags": []
          }
        },
        {
          "output_type": "display_data",
          "data": {
            "text/html": [
              "<span style=\"color:cyan\"> |-lr: 0.002552929004309444</span>"
            ],
            "text/plain": [
              "<IPython.core.display.HTML object>"
            ]
          },
          "metadata": {
            "tags": []
          }
        },
        {
          "output_type": "display_data",
          "data": {
            "text/html": [
              "<span style=\"color:blue\"> |-num_intermediate_layers: 3</span>"
            ],
            "text/plain": [
              "<IPython.core.display.HTML object>"
            ]
          },
          "metadata": {
            "tags": []
          }
        },
        {
          "output_type": "display_data",
          "data": {
            "text/html": [
              "<span style=\"color:cyan\"> |-tuner/bracket: 3</span>"
            ],
            "text/plain": [
              "<IPython.core.display.HTML object>"
            ]
          },
          "metadata": {
            "tags": []
          }
        },
        {
          "output_type": "display_data",
          "data": {
            "text/html": [
              "<span style=\"color:blue\"> |-tuner/epochs: 6</span>"
            ],
            "text/plain": [
              "<IPython.core.display.HTML object>"
            ]
          },
          "metadata": {
            "tags": []
          }
        },
        {
          "output_type": "display_data",
          "data": {
            "text/html": [
              "<span style=\"color:cyan\"> |-tuner/initial_epoch: 2</span>"
            ],
            "text/plain": [
              "<IPython.core.display.HTML object>"
            ]
          },
          "metadata": {
            "tags": []
          }
        },
        {
          "output_type": "display_data",
          "data": {
            "text/html": [
              "<span style=\"color:blue\"> |-tuner/round: 1</span>"
            ],
            "text/plain": [
              "<IPython.core.display.HTML object>"
            ]
          },
          "metadata": {
            "tags": []
          }
        },
        {
          "output_type": "display_data",
          "data": {
            "text/html": [
              "<span style=\"color:cyan\"> |-tuner/trial_id: 4b0275b9484d1efa8dd084ccf39b7df2</span>"
            ],
            "text/plain": [
              "<IPython.core.display.HTML object>"
            ]
          },
          "metadata": {
            "tags": []
          }
        },
        {
          "output_type": "stream",
          "text": [
            "Epoch 3/6\n",
            "13/13 [==============================] - 0s 33ms/step - loss: 1.9995 - mae: 1.0221 - val_loss: 0.0609 - val_mae: 0.1861\n",
            "Epoch 4/6\n",
            "13/13 [==============================] - 0s 13ms/step - loss: 0.8007 - mae: 0.7033 - val_loss: 0.0647 - val_mae: 0.1900\n",
            "Epoch 5/6\n",
            "13/13 [==============================] - 0s 14ms/step - loss: 0.6544 - mae: 0.5982 - val_loss: 0.0593 - val_mae: 0.1832\n",
            "Epoch 6/6\n",
            "13/13 [==============================] - 0s 14ms/step - loss: 0.6339 - mae: 0.6174 - val_loss: 0.0349 - val_mae: 0.1379\n",
            "Epoch 3/6\n",
            "13/13 [==============================] - 0s 30ms/step - loss: 1.6548 - mae: 0.9859 - val_loss: 0.0806 - val_mae: 0.2306\n",
            "Epoch 4/6\n",
            "13/13 [==============================] - 0s 13ms/step - loss: 0.7118 - mae: 0.6422 - val_loss: 0.0443 - val_mae: 0.1529\n",
            "Epoch 5/6\n",
            "13/13 [==============================] - 0s 13ms/step - loss: 0.5796 - mae: 0.5879 - val_loss: 0.0433 - val_mae: 0.1542\n",
            "Epoch 6/6\n",
            "13/13 [==============================] - 0s 11ms/step - loss: 0.5408 - mae: 0.5492 - val_loss: 0.0473 - val_mae: 0.1631\n"
          ],
          "name": "stdout"
        },
        {
          "output_type": "display_data",
          "data": {
            "text/html": [
              "<span style=\"color:#4527A0\"><h1 style=\"font-size:18px\">Trial complete</h1></span>"
            ],
            "text/plain": [
              "<IPython.core.display.HTML object>"
            ]
          },
          "metadata": {
            "tags": []
          }
        },
        {
          "output_type": "display_data",
          "data": {
            "text/html": [
              "<span style=\"color:#4527A0\"><h1 style=\"font-size:18px\">Trial summary</h1></span>"
            ],
            "text/plain": [
              "<IPython.core.display.HTML object>"
            ]
          },
          "metadata": {
            "tags": []
          }
        },
        {
          "output_type": "display_data",
          "data": {
            "text/html": [
              "<span style=\"color:cyan\"> |-Trial ID: e99357c9a4f9ed0cf0ff21a9190141ef</span>"
            ],
            "text/plain": [
              "<IPython.core.display.HTML object>"
            ]
          },
          "metadata": {
            "tags": []
          }
        },
        {
          "output_type": "display_data",
          "data": {
            "text/html": [
              "<span style=\"color:cyan\"> |-Score: 0.14542065560817719</span>"
            ],
            "text/plain": [
              "<IPython.core.display.HTML object>"
            ]
          },
          "metadata": {
            "tags": []
          }
        },
        {
          "output_type": "display_data",
          "data": {
            "text/html": [
              "<span style=\"color:cyan\"> |-Best step: 0</span>"
            ],
            "text/plain": [
              "<IPython.core.display.HTML object>"
            ]
          },
          "metadata": {
            "tags": []
          }
        },
        {
          "output_type": "display_data",
          "data": {
            "text/html": [
              "<span style=\"color:#7E57C2\"><h2 style=\"font-size:16px\">Hyperparameters:</h2></span>"
            ],
            "text/plain": [
              "<IPython.core.display.HTML object>"
            ]
          },
          "metadata": {
            "tags": []
          }
        },
        {
          "output_type": "display_data",
          "data": {
            "text/html": [
              "<span style=\"color:cyan\"> |-dense_0: 96</span>"
            ],
            "text/plain": [
              "<IPython.core.display.HTML object>"
            ]
          },
          "metadata": {
            "tags": []
          }
        },
        {
          "output_type": "display_data",
          "data": {
            "text/html": [
              "<span style=\"color:blue\"> |-dense_1: 96</span>"
            ],
            "text/plain": [
              "<IPython.core.display.HTML object>"
            ]
          },
          "metadata": {
            "tags": []
          }
        },
        {
          "output_type": "display_data",
          "data": {
            "text/html": [
              "<span style=\"color:cyan\"> |-dense_2: 32</span>"
            ],
            "text/plain": [
              "<IPython.core.display.HTML object>"
            ]
          },
          "metadata": {
            "tags": []
          }
        },
        {
          "output_type": "display_data",
          "data": {
            "text/html": [
              "<span style=\"color:blue\"> |-dense_input: 64</span>"
            ],
            "text/plain": [
              "<IPython.core.display.HTML object>"
            ]
          },
          "metadata": {
            "tags": []
          }
        },
        {
          "output_type": "display_data",
          "data": {
            "text/html": [
              "<span style=\"color:cyan\"> |-drop_0: 0.1</span>"
            ],
            "text/plain": [
              "<IPython.core.display.HTML object>"
            ]
          },
          "metadata": {
            "tags": []
          }
        },
        {
          "output_type": "display_data",
          "data": {
            "text/html": [
              "<span style=\"color:blue\"> |-drop_1: 0.2</span>"
            ],
            "text/plain": [
              "<IPython.core.display.HTML object>"
            ]
          },
          "metadata": {
            "tags": []
          }
        },
        {
          "output_type": "display_data",
          "data": {
            "text/html": [
              "<span style=\"color:cyan\"> |-drop_2: 0.30000000000000004</span>"
            ],
            "text/plain": [
              "<IPython.core.display.HTML object>"
            ]
          },
          "metadata": {
            "tags": []
          }
        },
        {
          "output_type": "display_data",
          "data": {
            "text/html": [
              "<span style=\"color:blue\"> |-drop_input: 0.0</span>"
            ],
            "text/plain": [
              "<IPython.core.display.HTML object>"
            ]
          },
          "metadata": {
            "tags": []
          }
        },
        {
          "output_type": "display_data",
          "data": {
            "text/html": [
              "<span style=\"color:cyan\"> |-lr: 0.001592797574789083</span>"
            ],
            "text/plain": [
              "<IPython.core.display.HTML object>"
            ]
          },
          "metadata": {
            "tags": []
          }
        },
        {
          "output_type": "display_data",
          "data": {
            "text/html": [
              "<span style=\"color:blue\"> |-num_intermediate_layers: 2</span>"
            ],
            "text/plain": [
              "<IPython.core.display.HTML object>"
            ]
          },
          "metadata": {
            "tags": []
          }
        },
        {
          "output_type": "display_data",
          "data": {
            "text/html": [
              "<span style=\"color:cyan\"> |-tuner/bracket: 3</span>"
            ],
            "text/plain": [
              "<IPython.core.display.HTML object>"
            ]
          },
          "metadata": {
            "tags": []
          }
        },
        {
          "output_type": "display_data",
          "data": {
            "text/html": [
              "<span style=\"color:blue\"> |-tuner/epochs: 6</span>"
            ],
            "text/plain": [
              "<IPython.core.display.HTML object>"
            ]
          },
          "metadata": {
            "tags": []
          }
        },
        {
          "output_type": "display_data",
          "data": {
            "text/html": [
              "<span style=\"color:cyan\"> |-tuner/initial_epoch: 2</span>"
            ],
            "text/plain": [
              "<IPython.core.display.HTML object>"
            ]
          },
          "metadata": {
            "tags": []
          }
        },
        {
          "output_type": "display_data",
          "data": {
            "text/html": [
              "<span style=\"color:blue\"> |-tuner/round: 1</span>"
            ],
            "text/plain": [
              "<IPython.core.display.HTML object>"
            ]
          },
          "metadata": {
            "tags": []
          }
        },
        {
          "output_type": "display_data",
          "data": {
            "text/html": [
              "<span style=\"color:cyan\"> |-tuner/trial_id: 7eaa92a0d1a217decb86263933dc58f0</span>"
            ],
            "text/plain": [
              "<IPython.core.display.HTML object>"
            ]
          },
          "metadata": {
            "tags": []
          }
        },
        {
          "output_type": "stream",
          "text": [
            "Epoch 3/6\n",
            "13/13 [==============================] - 0s 30ms/step - loss: 1.0106 - mae: 0.7481 - val_loss: 0.0529 - val_mae: 0.1649\n",
            "Epoch 4/6\n",
            "13/13 [==============================] - 0s 16ms/step - loss: 0.5524 - mae: 0.5482 - val_loss: 0.0439 - val_mae: 0.1604\n",
            "Epoch 5/6\n",
            "13/13 [==============================] - 0s 13ms/step - loss: 0.3676 - mae: 0.4616 - val_loss: 0.0336 - val_mae: 0.1361\n",
            "Epoch 6/6\n",
            "13/13 [==============================] - 0s 13ms/step - loss: 0.2841 - mae: 0.4078 - val_loss: 0.0347 - val_mae: 0.1342\n",
            "Epoch 3/6\n",
            "13/13 [==============================] - 0s 31ms/step - loss: 1.3091 - mae: 0.8662 - val_loss: 0.0623 - val_mae: 0.1840\n",
            "Epoch 4/6\n",
            "13/13 [==============================] - 0s 12ms/step - loss: 0.5896 - mae: 0.5903 - val_loss: 0.0637 - val_mae: 0.2247\n",
            "Epoch 5/6\n",
            "13/13 [==============================] - 0s 11ms/step - loss: 0.4958 - mae: 0.5255 - val_loss: 0.0452 - val_mae: 0.1669\n",
            "Epoch 6/6\n",
            "13/13 [==============================] - 0s 12ms/step - loss: 0.3295 - mae: 0.4311 - val_loss: 0.0405 - val_mae: 0.1504\n"
          ],
          "name": "stdout"
        },
        {
          "output_type": "display_data",
          "data": {
            "text/html": [
              "<span style=\"color:#4527A0\"><h1 style=\"font-size:18px\">Trial complete</h1></span>"
            ],
            "text/plain": [
              "<IPython.core.display.HTML object>"
            ]
          },
          "metadata": {
            "tags": []
          }
        },
        {
          "output_type": "display_data",
          "data": {
            "text/html": [
              "<span style=\"color:#4527A0\"><h1 style=\"font-size:18px\">Trial summary</h1></span>"
            ],
            "text/plain": [
              "<IPython.core.display.HTML object>"
            ]
          },
          "metadata": {
            "tags": []
          }
        },
        {
          "output_type": "display_data",
          "data": {
            "text/html": [
              "<span style=\"color:cyan\"> |-Trial ID: e0718a755af5ecfc0f3a0be313f3ebb3</span>"
            ],
            "text/plain": [
              "<IPython.core.display.HTML object>"
            ]
          },
          "metadata": {
            "tags": []
          }
        },
        {
          "output_type": "display_data",
          "data": {
            "text/html": [
              "<span style=\"color:cyan\"> |-Score: 0.1423175409436226</span>"
            ],
            "text/plain": [
              "<IPython.core.display.HTML object>"
            ]
          },
          "metadata": {
            "tags": []
          }
        },
        {
          "output_type": "display_data",
          "data": {
            "text/html": [
              "<span style=\"color:cyan\"> |-Best step: 0</span>"
            ],
            "text/plain": [
              "<IPython.core.display.HTML object>"
            ]
          },
          "metadata": {
            "tags": []
          }
        },
        {
          "output_type": "display_data",
          "data": {
            "text/html": [
              "<span style=\"color:#7E57C2\"><h2 style=\"font-size:16px\">Hyperparameters:</h2></span>"
            ],
            "text/plain": [
              "<IPython.core.display.HTML object>"
            ]
          },
          "metadata": {
            "tags": []
          }
        },
        {
          "output_type": "display_data",
          "data": {
            "text/html": [
              "<span style=\"color:cyan\"> |-dense_0: 96</span>"
            ],
            "text/plain": [
              "<IPython.core.display.HTML object>"
            ]
          },
          "metadata": {
            "tags": []
          }
        },
        {
          "output_type": "display_data",
          "data": {
            "text/html": [
              "<span style=\"color:blue\"> |-dense_1: 96</span>"
            ],
            "text/plain": [
              "<IPython.core.display.HTML object>"
            ]
          },
          "metadata": {
            "tags": []
          }
        },
        {
          "output_type": "display_data",
          "data": {
            "text/html": [
              "<span style=\"color:cyan\"> |-dense_input: 32</span>"
            ],
            "text/plain": [
              "<IPython.core.display.HTML object>"
            ]
          },
          "metadata": {
            "tags": []
          }
        },
        {
          "output_type": "display_data",
          "data": {
            "text/html": [
              "<span style=\"color:blue\"> |-drop_0: 0.1</span>"
            ],
            "text/plain": [
              "<IPython.core.display.HTML object>"
            ]
          },
          "metadata": {
            "tags": []
          }
        },
        {
          "output_type": "display_data",
          "data": {
            "text/html": [
              "<span style=\"color:cyan\"> |-drop_1: 0.1</span>"
            ],
            "text/plain": [
              "<IPython.core.display.HTML object>"
            ]
          },
          "metadata": {
            "tags": []
          }
        },
        {
          "output_type": "display_data",
          "data": {
            "text/html": [
              "<span style=\"color:blue\"> |-drop_input: 0.0</span>"
            ],
            "text/plain": [
              "<IPython.core.display.HTML object>"
            ]
          },
          "metadata": {
            "tags": []
          }
        },
        {
          "output_type": "display_data",
          "data": {
            "text/html": [
              "<span style=\"color:cyan\"> |-lr: 0.0021291840426046296</span>"
            ],
            "text/plain": [
              "<IPython.core.display.HTML object>"
            ]
          },
          "metadata": {
            "tags": []
          }
        },
        {
          "output_type": "display_data",
          "data": {
            "text/html": [
              "<span style=\"color:blue\"> |-num_intermediate_layers: 2</span>"
            ],
            "text/plain": [
              "<IPython.core.display.HTML object>"
            ]
          },
          "metadata": {
            "tags": []
          }
        },
        {
          "output_type": "display_data",
          "data": {
            "text/html": [
              "<span style=\"color:cyan\"> |-tuner/bracket: 3</span>"
            ],
            "text/plain": [
              "<IPython.core.display.HTML object>"
            ]
          },
          "metadata": {
            "tags": []
          }
        },
        {
          "output_type": "display_data",
          "data": {
            "text/html": [
              "<span style=\"color:blue\"> |-tuner/epochs: 6</span>"
            ],
            "text/plain": [
              "<IPython.core.display.HTML object>"
            ]
          },
          "metadata": {
            "tags": []
          }
        },
        {
          "output_type": "display_data",
          "data": {
            "text/html": [
              "<span style=\"color:cyan\"> |-tuner/initial_epoch: 2</span>"
            ],
            "text/plain": [
              "<IPython.core.display.HTML object>"
            ]
          },
          "metadata": {
            "tags": []
          }
        },
        {
          "output_type": "display_data",
          "data": {
            "text/html": [
              "<span style=\"color:blue\"> |-tuner/round: 1</span>"
            ],
            "text/plain": [
              "<IPython.core.display.HTML object>"
            ]
          },
          "metadata": {
            "tags": []
          }
        },
        {
          "output_type": "display_data",
          "data": {
            "text/html": [
              "<span style=\"color:cyan\"> |-tuner/trial_id: b9702cb182e03535bceebae7b6e864f4</span>"
            ],
            "text/plain": [
              "<IPython.core.display.HTML object>"
            ]
          },
          "metadata": {
            "tags": []
          }
        },
        {
          "output_type": "stream",
          "text": [
            "Epoch 3/6\n",
            "13/13 [==============================] - 0s 32ms/step - loss: 1.9976 - mae: 1.0910 - val_loss: 0.1047 - val_mae: 0.2679\n",
            "Epoch 4/6\n",
            "13/13 [==============================] - 0s 15ms/step - loss: 1.0924 - mae: 0.8180 - val_loss: 0.0448 - val_mae: 0.1565\n",
            "Epoch 5/6\n",
            "13/13 [==============================] - 0s 12ms/step - loss: 0.8930 - mae: 0.7357 - val_loss: 0.0452 - val_mae: 0.1596\n",
            "Epoch 6/6\n",
            "13/13 [==============================] - 0s 11ms/step - loss: 0.7477 - mae: 0.6664 - val_loss: 0.0646 - val_mae: 0.1980\n",
            "Epoch 3/6\n",
            "13/13 [==============================] - 0s 31ms/step - loss: 1.7424 - mae: 1.0181 - val_loss: 0.1287 - val_mae: 0.2984\n",
            "Epoch 4/6\n",
            "13/13 [==============================] - 0s 11ms/step - loss: 1.0518 - mae: 0.7880 - val_loss: 0.0550 - val_mae: 0.1746\n",
            "Epoch 5/6\n",
            "13/13 [==============================] - 0s 14ms/step - loss: 0.8522 - mae: 0.7203 - val_loss: 0.0373 - val_mae: 0.1386\n",
            "Epoch 6/6\n",
            "13/13 [==============================] - 0s 15ms/step - loss: 0.6649 - mae: 0.6214 - val_loss: 0.0358 - val_mae: 0.1340\n"
          ],
          "name": "stdout"
        },
        {
          "output_type": "display_data",
          "data": {
            "text/html": [
              "<span style=\"color:#4527A0\"><h1 style=\"font-size:18px\">Trial complete</h1></span>"
            ],
            "text/plain": [
              "<IPython.core.display.HTML object>"
            ]
          },
          "metadata": {
            "tags": []
          }
        },
        {
          "output_type": "display_data",
          "data": {
            "text/html": [
              "<span style=\"color:#4527A0\"><h1 style=\"font-size:18px\">Trial summary</h1></span>"
            ],
            "text/plain": [
              "<IPython.core.display.HTML object>"
            ]
          },
          "metadata": {
            "tags": []
          }
        },
        {
          "output_type": "display_data",
          "data": {
            "text/html": [
              "<span style=\"color:cyan\"> |-Trial ID: 525888ca610fa9421d17b49e03d656ff</span>"
            ],
            "text/plain": [
              "<IPython.core.display.HTML object>"
            ]
          },
          "metadata": {
            "tags": []
          }
        },
        {
          "output_type": "display_data",
          "data": {
            "text/html": [
              "<span style=\"color:cyan\"> |-Score: 0.14523153007030487</span>"
            ],
            "text/plain": [
              "<IPython.core.display.HTML object>"
            ]
          },
          "metadata": {
            "tags": []
          }
        },
        {
          "output_type": "display_data",
          "data": {
            "text/html": [
              "<span style=\"color:cyan\"> |-Best step: 0</span>"
            ],
            "text/plain": [
              "<IPython.core.display.HTML object>"
            ]
          },
          "metadata": {
            "tags": []
          }
        },
        {
          "output_type": "display_data",
          "data": {
            "text/html": [
              "<span style=\"color:#7E57C2\"><h2 style=\"font-size:16px\">Hyperparameters:</h2></span>"
            ],
            "text/plain": [
              "<IPython.core.display.HTML object>"
            ]
          },
          "metadata": {
            "tags": []
          }
        },
        {
          "output_type": "display_data",
          "data": {
            "text/html": [
              "<span style=\"color:cyan\"> |-dense_0: 96</span>"
            ],
            "text/plain": [
              "<IPython.core.display.HTML object>"
            ]
          },
          "metadata": {
            "tags": []
          }
        },
        {
          "output_type": "display_data",
          "data": {
            "text/html": [
              "<span style=\"color:blue\"> |-dense_1: 96</span>"
            ],
            "text/plain": [
              "<IPython.core.display.HTML object>"
            ]
          },
          "metadata": {
            "tags": []
          }
        },
        {
          "output_type": "display_data",
          "data": {
            "text/html": [
              "<span style=\"color:cyan\"> |-dense_2: 64</span>"
            ],
            "text/plain": [
              "<IPython.core.display.HTML object>"
            ]
          },
          "metadata": {
            "tags": []
          }
        },
        {
          "output_type": "display_data",
          "data": {
            "text/html": [
              "<span style=\"color:blue\"> |-dense_input: 128</span>"
            ],
            "text/plain": [
              "<IPython.core.display.HTML object>"
            ]
          },
          "metadata": {
            "tags": []
          }
        },
        {
          "output_type": "display_data",
          "data": {
            "text/html": [
              "<span style=\"color:cyan\"> |-drop_0: 0.0</span>"
            ],
            "text/plain": [
              "<IPython.core.display.HTML object>"
            ]
          },
          "metadata": {
            "tags": []
          }
        },
        {
          "output_type": "display_data",
          "data": {
            "text/html": [
              "<span style=\"color:blue\"> |-drop_1: 0.30000000000000004</span>"
            ],
            "text/plain": [
              "<IPython.core.display.HTML object>"
            ]
          },
          "metadata": {
            "tags": []
          }
        },
        {
          "output_type": "display_data",
          "data": {
            "text/html": [
              "<span style=\"color:cyan\"> |-drop_2: 0.2</span>"
            ],
            "text/plain": [
              "<IPython.core.display.HTML object>"
            ]
          },
          "metadata": {
            "tags": []
          }
        },
        {
          "output_type": "display_data",
          "data": {
            "text/html": [
              "<span style=\"color:blue\"> |-drop_input: 0.30000000000000004</span>"
            ],
            "text/plain": [
              "<IPython.core.display.HTML object>"
            ]
          },
          "metadata": {
            "tags": []
          }
        },
        {
          "output_type": "display_data",
          "data": {
            "text/html": [
              "<span style=\"color:cyan\"> |-lr: 0.0019513235178244249</span>"
            ],
            "text/plain": [
              "<IPython.core.display.HTML object>"
            ]
          },
          "metadata": {
            "tags": []
          }
        },
        {
          "output_type": "display_data",
          "data": {
            "text/html": [
              "<span style=\"color:blue\"> |-num_intermediate_layers: 2</span>"
            ],
            "text/plain": [
              "<IPython.core.display.HTML object>"
            ]
          },
          "metadata": {
            "tags": []
          }
        },
        {
          "output_type": "display_data",
          "data": {
            "text/html": [
              "<span style=\"color:cyan\"> |-tuner/bracket: 3</span>"
            ],
            "text/plain": [
              "<IPython.core.display.HTML object>"
            ]
          },
          "metadata": {
            "tags": []
          }
        },
        {
          "output_type": "display_data",
          "data": {
            "text/html": [
              "<span style=\"color:blue\"> |-tuner/epochs: 6</span>"
            ],
            "text/plain": [
              "<IPython.core.display.HTML object>"
            ]
          },
          "metadata": {
            "tags": []
          }
        },
        {
          "output_type": "display_data",
          "data": {
            "text/html": [
              "<span style=\"color:cyan\"> |-tuner/initial_epoch: 2</span>"
            ],
            "text/plain": [
              "<IPython.core.display.HTML object>"
            ]
          },
          "metadata": {
            "tags": []
          }
        },
        {
          "output_type": "display_data",
          "data": {
            "text/html": [
              "<span style=\"color:blue\"> |-tuner/round: 1</span>"
            ],
            "text/plain": [
              "<IPython.core.display.HTML object>"
            ]
          },
          "metadata": {
            "tags": []
          }
        },
        {
          "output_type": "display_data",
          "data": {
            "text/html": [
              "<span style=\"color:cyan\"> |-tuner/trial_id: 078995a5c343e1be207f7680ded6c678</span>"
            ],
            "text/plain": [
              "<IPython.core.display.HTML object>"
            ]
          },
          "metadata": {
            "tags": []
          }
        },
        {
          "output_type": "stream",
          "text": [
            "Epoch 3/6\n",
            "13/13 [==============================] - 0s 35ms/step - loss: 1.2481 - mae: 0.8204 - val_loss: 0.0434 - val_mae: 0.1546\n",
            "Epoch 4/6\n",
            "13/13 [==============================] - 0s 14ms/step - loss: 0.4423 - mae: 0.5151 - val_loss: 0.0352 - val_mae: 0.1343\n",
            "Epoch 5/6\n",
            "13/13 [==============================] - 0s 11ms/step - loss: 0.3426 - mae: 0.4496 - val_loss: 0.0694 - val_mae: 0.2078\n",
            "Epoch 6/6\n",
            "13/13 [==============================] - 0s 12ms/step - loss: 0.3221 - mae: 0.4475 - val_loss: 0.0560 - val_mae: 0.1801\n",
            "Epoch 3/6\n",
            "13/13 [==============================] - 0s 30ms/step - loss: 1.0037 - mae: 0.7533 - val_loss: 0.0744 - val_mae: 0.2240\n",
            "Epoch 4/6\n",
            "13/13 [==============================] - 0s 12ms/step - loss: 0.3541 - mae: 0.4625 - val_loss: 0.0560 - val_mae: 0.1829\n",
            "Epoch 5/6\n",
            "13/13 [==============================] - 0s 11ms/step - loss: 0.2975 - mae: 0.4127 - val_loss: 0.0526 - val_mae: 0.1712\n",
            "Epoch 6/6\n",
            "13/13 [==============================] - 0s 12ms/step - loss: 0.2789 - mae: 0.3946 - val_loss: 0.0496 - val_mae: 0.1659\n"
          ],
          "name": "stdout"
        },
        {
          "output_type": "display_data",
          "data": {
            "text/html": [
              "<span style=\"color:#4527A0\"><h1 style=\"font-size:18px\">Trial complete</h1></span>"
            ],
            "text/plain": [
              "<IPython.core.display.HTML object>"
            ]
          },
          "metadata": {
            "tags": []
          }
        },
        {
          "output_type": "display_data",
          "data": {
            "text/html": [
              "<span style=\"color:#4527A0\"><h1 style=\"font-size:18px\">Trial summary</h1></span>"
            ],
            "text/plain": [
              "<IPython.core.display.HTML object>"
            ]
          },
          "metadata": {
            "tags": []
          }
        },
        {
          "output_type": "display_data",
          "data": {
            "text/html": [
              "<span style=\"color:cyan\"> |-Trial ID: e34c110c08aac153f92e855a3623d5c6</span>"
            ],
            "text/plain": [
              "<IPython.core.display.HTML object>"
            ]
          },
          "metadata": {
            "tags": []
          }
        },
        {
          "output_type": "display_data",
          "data": {
            "text/html": [
              "<span style=\"color:cyan\"> |-Score: 0.15008831769227982</span>"
            ],
            "text/plain": [
              "<IPython.core.display.HTML object>"
            ]
          },
          "metadata": {
            "tags": []
          }
        },
        {
          "output_type": "display_data",
          "data": {
            "text/html": [
              "<span style=\"color:cyan\"> |-Best step: 0</span>"
            ],
            "text/plain": [
              "<IPython.core.display.HTML object>"
            ]
          },
          "metadata": {
            "tags": []
          }
        },
        {
          "output_type": "display_data",
          "data": {
            "text/html": [
              "<span style=\"color:#7E57C2\"><h2 style=\"font-size:16px\">Hyperparameters:</h2></span>"
            ],
            "text/plain": [
              "<IPython.core.display.HTML object>"
            ]
          },
          "metadata": {
            "tags": []
          }
        },
        {
          "output_type": "display_data",
          "data": {
            "text/html": [
              "<span style=\"color:cyan\"> |-dense_0: 128</span>"
            ],
            "text/plain": [
              "<IPython.core.display.HTML object>"
            ]
          },
          "metadata": {
            "tags": []
          }
        },
        {
          "output_type": "display_data",
          "data": {
            "text/html": [
              "<span style=\"color:blue\"> |-dense_1: 96</span>"
            ],
            "text/plain": [
              "<IPython.core.display.HTML object>"
            ]
          },
          "metadata": {
            "tags": []
          }
        },
        {
          "output_type": "display_data",
          "data": {
            "text/html": [
              "<span style=\"color:cyan\"> |-dense_2: 128</span>"
            ],
            "text/plain": [
              "<IPython.core.display.HTML object>"
            ]
          },
          "metadata": {
            "tags": []
          }
        },
        {
          "output_type": "display_data",
          "data": {
            "text/html": [
              "<span style=\"color:blue\"> |-dense_input: 96</span>"
            ],
            "text/plain": [
              "<IPython.core.display.HTML object>"
            ]
          },
          "metadata": {
            "tags": []
          }
        },
        {
          "output_type": "display_data",
          "data": {
            "text/html": [
              "<span style=\"color:cyan\"> |-drop_0: 0.0</span>"
            ],
            "text/plain": [
              "<IPython.core.display.HTML object>"
            ]
          },
          "metadata": {
            "tags": []
          }
        },
        {
          "output_type": "display_data",
          "data": {
            "text/html": [
              "<span style=\"color:blue\"> |-drop_1: 0.1</span>"
            ],
            "text/plain": [
              "<IPython.core.display.HTML object>"
            ]
          },
          "metadata": {
            "tags": []
          }
        },
        {
          "output_type": "display_data",
          "data": {
            "text/html": [
              "<span style=\"color:cyan\"> |-drop_2: 0.1</span>"
            ],
            "text/plain": [
              "<IPython.core.display.HTML object>"
            ]
          },
          "metadata": {
            "tags": []
          }
        },
        {
          "output_type": "display_data",
          "data": {
            "text/html": [
              "<span style=\"color:blue\"> |-drop_input: 0.2</span>"
            ],
            "text/plain": [
              "<IPython.core.display.HTML object>"
            ]
          },
          "metadata": {
            "tags": []
          }
        },
        {
          "output_type": "display_data",
          "data": {
            "text/html": [
              "<span style=\"color:cyan\"> |-lr: 0.0015393725858397454</span>"
            ],
            "text/plain": [
              "<IPython.core.display.HTML object>"
            ]
          },
          "metadata": {
            "tags": []
          }
        },
        {
          "output_type": "display_data",
          "data": {
            "text/html": [
              "<span style=\"color:blue\"> |-num_intermediate_layers: 2</span>"
            ],
            "text/plain": [
              "<IPython.core.display.HTML object>"
            ]
          },
          "metadata": {
            "tags": []
          }
        },
        {
          "output_type": "display_data",
          "data": {
            "text/html": [
              "<span style=\"color:cyan\"> |-tuner/bracket: 3</span>"
            ],
            "text/plain": [
              "<IPython.core.display.HTML object>"
            ]
          },
          "metadata": {
            "tags": []
          }
        },
        {
          "output_type": "display_data",
          "data": {
            "text/html": [
              "<span style=\"color:blue\"> |-tuner/epochs: 6</span>"
            ],
            "text/plain": [
              "<IPython.core.display.HTML object>"
            ]
          },
          "metadata": {
            "tags": []
          }
        },
        {
          "output_type": "display_data",
          "data": {
            "text/html": [
              "<span style=\"color:cyan\"> |-tuner/initial_epoch: 2</span>"
            ],
            "text/plain": [
              "<IPython.core.display.HTML object>"
            ]
          },
          "metadata": {
            "tags": []
          }
        },
        {
          "output_type": "display_data",
          "data": {
            "text/html": [
              "<span style=\"color:blue\"> |-tuner/round: 1</span>"
            ],
            "text/plain": [
              "<IPython.core.display.HTML object>"
            ]
          },
          "metadata": {
            "tags": []
          }
        },
        {
          "output_type": "display_data",
          "data": {
            "text/html": [
              "<span style=\"color:cyan\"> |-tuner/trial_id: 93515f2d072e7244125982fa5359ae9b</span>"
            ],
            "text/plain": [
              "<IPython.core.display.HTML object>"
            ]
          },
          "metadata": {
            "tags": []
          }
        },
        {
          "output_type": "stream",
          "text": [
            "Epoch 3/6\n",
            "13/13 [==============================] - 1s 40ms/step - loss: 1.0898 - mae: 0.7996 - val_loss: 0.0379 - val_mae: 0.1442\n",
            "Epoch 4/6\n",
            "13/13 [==============================] - 0s 15ms/step - loss: 0.3451 - mae: 0.4538 - val_loss: 0.0288 - val_mae: 0.1198\n",
            "Epoch 5/6\n",
            "13/13 [==============================] - 0s 12ms/step - loss: 0.2442 - mae: 0.3676 - val_loss: 0.0436 - val_mae: 0.1496\n",
            "Epoch 6/6\n",
            "13/13 [==============================] - 0s 11ms/step - loss: 0.1954 - mae: 0.3283 - val_loss: 0.0374 - val_mae: 0.1330\n",
            "Epoch 3/6\n",
            "13/13 [==============================] - 0s 30ms/step - loss: 0.8874 - mae: 0.7050 - val_loss: 0.0411 - val_mae: 0.1532\n",
            "Epoch 4/6\n",
            "13/13 [==============================] - 0s 11ms/step - loss: 0.2622 - mae: 0.3957 - val_loss: 0.0413 - val_mae: 0.1500\n",
            "Epoch 5/6\n",
            "13/13 [==============================] - 0s 12ms/step - loss: 0.1684 - mae: 0.3105 - val_loss: 0.0347 - val_mae: 0.1319\n",
            "Epoch 6/6\n",
            "13/13 [==============================] - 0s 12ms/step - loss: 0.1471 - mae: 0.2896 - val_loss: 0.0495 - val_mae: 0.1683\n"
          ],
          "name": "stdout"
        },
        {
          "output_type": "display_data",
          "data": {
            "text/html": [
              "<span style=\"color:#4527A0\"><h1 style=\"font-size:18px\">Trial complete</h1></span>"
            ],
            "text/plain": [
              "<IPython.core.display.HTML object>"
            ]
          },
          "metadata": {
            "tags": []
          }
        },
        {
          "output_type": "display_data",
          "data": {
            "text/html": [
              "<span style=\"color:#4527A0\"><h1 style=\"font-size:18px\">Trial summary</h1></span>"
            ],
            "text/plain": [
              "<IPython.core.display.HTML object>"
            ]
          },
          "metadata": {
            "tags": []
          }
        },
        {
          "output_type": "display_data",
          "data": {
            "text/html": [
              "<span style=\"color:cyan\"> |-Trial ID: 5f5c327eeefa49d541c8ad961892df55</span>"
            ],
            "text/plain": [
              "<IPython.core.display.HTML object>"
            ]
          },
          "metadata": {
            "tags": []
          }
        },
        {
          "output_type": "display_data",
          "data": {
            "text/html": [
              "<span style=\"color:cyan\"> |-Score: 0.12586872652173042</span>"
            ],
            "text/plain": [
              "<IPython.core.display.HTML object>"
            ]
          },
          "metadata": {
            "tags": []
          }
        },
        {
          "output_type": "display_data",
          "data": {
            "text/html": [
              "<span style=\"color:cyan\"> |-Best step: 0</span>"
            ],
            "text/plain": [
              "<IPython.core.display.HTML object>"
            ]
          },
          "metadata": {
            "tags": []
          }
        },
        {
          "output_type": "display_data",
          "data": {
            "text/html": [
              "<span style=\"color:#7E57C2\"><h2 style=\"font-size:16px\">Hyperparameters:</h2></span>"
            ],
            "text/plain": [
              "<IPython.core.display.HTML object>"
            ]
          },
          "metadata": {
            "tags": []
          }
        },
        {
          "output_type": "display_data",
          "data": {
            "text/html": [
              "<span style=\"color:cyan\"> |-dense_0: 64</span>"
            ],
            "text/plain": [
              "<IPython.core.display.HTML object>"
            ]
          },
          "metadata": {
            "tags": []
          }
        },
        {
          "output_type": "display_data",
          "data": {
            "text/html": [
              "<span style=\"color:blue\"> |-dense_1: 64</span>"
            ],
            "text/plain": [
              "<IPython.core.display.HTML object>"
            ]
          },
          "metadata": {
            "tags": []
          }
        },
        {
          "output_type": "display_data",
          "data": {
            "text/html": [
              "<span style=\"color:cyan\"> |-dense_2: 32</span>"
            ],
            "text/plain": [
              "<IPython.core.display.HTML object>"
            ]
          },
          "metadata": {
            "tags": []
          }
        },
        {
          "output_type": "display_data",
          "data": {
            "text/html": [
              "<span style=\"color:blue\"> |-dense_input: 64</span>"
            ],
            "text/plain": [
              "<IPython.core.display.HTML object>"
            ]
          },
          "metadata": {
            "tags": []
          }
        },
        {
          "output_type": "display_data",
          "data": {
            "text/html": [
              "<span style=\"color:cyan\"> |-drop_0: 0.0</span>"
            ],
            "text/plain": [
              "<IPython.core.display.HTML object>"
            ]
          },
          "metadata": {
            "tags": []
          }
        },
        {
          "output_type": "display_data",
          "data": {
            "text/html": [
              "<span style=\"color:blue\"> |-drop_1: 0.1</span>"
            ],
            "text/plain": [
              "<IPython.core.display.HTML object>"
            ]
          },
          "metadata": {
            "tags": []
          }
        },
        {
          "output_type": "display_data",
          "data": {
            "text/html": [
              "<span style=\"color:cyan\"> |-drop_2: 0.2</span>"
            ],
            "text/plain": [
              "<IPython.core.display.HTML object>"
            ]
          },
          "metadata": {
            "tags": []
          }
        },
        {
          "output_type": "display_data",
          "data": {
            "text/html": [
              "<span style=\"color:blue\"> |-drop_input: 0.2</span>"
            ],
            "text/plain": [
              "<IPython.core.display.HTML object>"
            ]
          },
          "metadata": {
            "tags": []
          }
        },
        {
          "output_type": "display_data",
          "data": {
            "text/html": [
              "<span style=\"color:cyan\"> |-lr: 0.00431019016344334</span>"
            ],
            "text/plain": [
              "<IPython.core.display.HTML object>"
            ]
          },
          "metadata": {
            "tags": []
          }
        },
        {
          "output_type": "display_data",
          "data": {
            "text/html": [
              "<span style=\"color:blue\"> |-num_intermediate_layers: 2</span>"
            ],
            "text/plain": [
              "<IPython.core.display.HTML object>"
            ]
          },
          "metadata": {
            "tags": []
          }
        },
        {
          "output_type": "display_data",
          "data": {
            "text/html": [
              "<span style=\"color:cyan\"> |-tuner/bracket: 3</span>"
            ],
            "text/plain": [
              "<IPython.core.display.HTML object>"
            ]
          },
          "metadata": {
            "tags": []
          }
        },
        {
          "output_type": "display_data",
          "data": {
            "text/html": [
              "<span style=\"color:blue\"> |-tuner/epochs: 6</span>"
            ],
            "text/plain": [
              "<IPython.core.display.HTML object>"
            ]
          },
          "metadata": {
            "tags": []
          }
        },
        {
          "output_type": "display_data",
          "data": {
            "text/html": [
              "<span style=\"color:cyan\"> |-tuner/initial_epoch: 2</span>"
            ],
            "text/plain": [
              "<IPython.core.display.HTML object>"
            ]
          },
          "metadata": {
            "tags": []
          }
        },
        {
          "output_type": "display_data",
          "data": {
            "text/html": [
              "<span style=\"color:blue\"> |-tuner/round: 1</span>"
            ],
            "text/plain": [
              "<IPython.core.display.HTML object>"
            ]
          },
          "metadata": {
            "tags": []
          }
        },
        {
          "output_type": "display_data",
          "data": {
            "text/html": [
              "<span style=\"color:cyan\"> |-tuner/trial_id: d31b86e226760870dc3251262ff22a5d</span>"
            ],
            "text/plain": [
              "<IPython.core.display.HTML object>"
            ]
          },
          "metadata": {
            "tags": []
          }
        },
        {
          "output_type": "stream",
          "text": [
            "Epoch 3/6\n",
            "13/13 [==============================] - 0s 26ms/step - loss: 1.6257 - mae: 0.9798 - val_loss: 0.0485 - val_mae: 0.1644\n",
            "Epoch 4/6\n",
            "13/13 [==============================] - 0s 12ms/step - loss: 0.5791 - mae: 0.5850 - val_loss: 0.0288 - val_mae: 0.1298\n",
            "Epoch 5/6\n",
            "13/13 [==============================] - 0s 16ms/step - loss: 0.4178 - mae: 0.4974 - val_loss: 0.0399 - val_mae: 0.1391\n",
            "Epoch 6/6\n",
            "13/13 [==============================] - 0s 15ms/step - loss: 0.3528 - mae: 0.4400 - val_loss: 0.0391 - val_mae: 0.1405\n",
            "Epoch 3/6\n",
            "13/13 [==============================] - 0s 24ms/step - loss: 0.7969 - mae: 0.6919 - val_loss: 0.0499 - val_mae: 0.1741\n",
            "Epoch 4/6\n",
            "13/13 [==============================] - 0s 10ms/step - loss: 0.3302 - mae: 0.4480 - val_loss: 0.0363 - val_mae: 0.1398\n",
            "Epoch 5/6\n",
            "13/13 [==============================] - 0s 10ms/step - loss: 0.2437 - mae: 0.3610 - val_loss: 0.0417 - val_mae: 0.1607\n",
            "Epoch 6/6\n",
            "13/13 [==============================] - 0s 11ms/step - loss: 0.2094 - mae: 0.3447 - val_loss: 0.0357 - val_mae: 0.1315\n"
          ],
          "name": "stdout"
        },
        {
          "output_type": "display_data",
          "data": {
            "text/html": [
              "<span style=\"color:#4527A0\"><h1 style=\"font-size:18px\">Trial complete</h1></span>"
            ],
            "text/plain": [
              "<IPython.core.display.HTML object>"
            ]
          },
          "metadata": {
            "tags": []
          }
        },
        {
          "output_type": "display_data",
          "data": {
            "text/html": [
              "<span style=\"color:#4527A0\"><h1 style=\"font-size:18px\">Trial summary</h1></span>"
            ],
            "text/plain": [
              "<IPython.core.display.HTML object>"
            ]
          },
          "metadata": {
            "tags": []
          }
        },
        {
          "output_type": "display_data",
          "data": {
            "text/html": [
              "<span style=\"color:cyan\"> |-Trial ID: e2eaede7a5cbb4b4ae54460d6ab4f86f</span>"
            ],
            "text/plain": [
              "<IPython.core.display.HTML object>"
            ]
          },
          "metadata": {
            "tags": []
          }
        },
        {
          "output_type": "display_data",
          "data": {
            "text/html": [
              "<span style=\"color:cyan\"> |-Score: 0.13063591718673706</span>"
            ],
            "text/plain": [
              "<IPython.core.display.HTML object>"
            ]
          },
          "metadata": {
            "tags": []
          }
        },
        {
          "output_type": "display_data",
          "data": {
            "text/html": [
              "<span style=\"color:cyan\"> |-Best step: 0</span>"
            ],
            "text/plain": [
              "<IPython.core.display.HTML object>"
            ]
          },
          "metadata": {
            "tags": []
          }
        },
        {
          "output_type": "display_data",
          "data": {
            "text/html": [
              "<span style=\"color:#7E57C2\"><h2 style=\"font-size:16px\">Hyperparameters:</h2></span>"
            ],
            "text/plain": [
              "<IPython.core.display.HTML object>"
            ]
          },
          "metadata": {
            "tags": []
          }
        },
        {
          "output_type": "display_data",
          "data": {
            "text/html": [
              "<span style=\"color:cyan\"> |-dense_0: 64</span>"
            ],
            "text/plain": [
              "<IPython.core.display.HTML object>"
            ]
          },
          "metadata": {
            "tags": []
          }
        },
        {
          "output_type": "display_data",
          "data": {
            "text/html": [
              "<span style=\"color:blue\"> |-dense_1: 96</span>"
            ],
            "text/plain": [
              "<IPython.core.display.HTML object>"
            ]
          },
          "metadata": {
            "tags": []
          }
        },
        {
          "output_type": "display_data",
          "data": {
            "text/html": [
              "<span style=\"color:cyan\"> |-dense_2: 32</span>"
            ],
            "text/plain": [
              "<IPython.core.display.HTML object>"
            ]
          },
          "metadata": {
            "tags": []
          }
        },
        {
          "output_type": "display_data",
          "data": {
            "text/html": [
              "<span style=\"color:blue\"> |-dense_input: 128</span>"
            ],
            "text/plain": [
              "<IPython.core.display.HTML object>"
            ]
          },
          "metadata": {
            "tags": []
          }
        },
        {
          "output_type": "display_data",
          "data": {
            "text/html": [
              "<span style=\"color:cyan\"> |-drop_0: 0.1</span>"
            ],
            "text/plain": [
              "<IPython.core.display.HTML object>"
            ]
          },
          "metadata": {
            "tags": []
          }
        },
        {
          "output_type": "display_data",
          "data": {
            "text/html": [
              "<span style=\"color:blue\"> |-drop_1: 0.1</span>"
            ],
            "text/plain": [
              "<IPython.core.display.HTML object>"
            ]
          },
          "metadata": {
            "tags": []
          }
        },
        {
          "output_type": "display_data",
          "data": {
            "text/html": [
              "<span style=\"color:cyan\"> |-drop_2: 0.0</span>"
            ],
            "text/plain": [
              "<IPython.core.display.HTML object>"
            ]
          },
          "metadata": {
            "tags": []
          }
        },
        {
          "output_type": "display_data",
          "data": {
            "text/html": [
              "<span style=\"color:blue\"> |-drop_input: 0.2</span>"
            ],
            "text/plain": [
              "<IPython.core.display.HTML object>"
            ]
          },
          "metadata": {
            "tags": []
          }
        },
        {
          "output_type": "display_data",
          "data": {
            "text/html": [
              "<span style=\"color:cyan\"> |-lr: 0.002846001376972815</span>"
            ],
            "text/plain": [
              "<IPython.core.display.HTML object>"
            ]
          },
          "metadata": {
            "tags": []
          }
        },
        {
          "output_type": "display_data",
          "data": {
            "text/html": [
              "<span style=\"color:blue\"> |-num_intermediate_layers: 1</span>"
            ],
            "text/plain": [
              "<IPython.core.display.HTML object>"
            ]
          },
          "metadata": {
            "tags": []
          }
        },
        {
          "output_type": "display_data",
          "data": {
            "text/html": [
              "<span style=\"color:cyan\"> |-tuner/bracket: 3</span>"
            ],
            "text/plain": [
              "<IPython.core.display.HTML object>"
            ]
          },
          "metadata": {
            "tags": []
          }
        },
        {
          "output_type": "display_data",
          "data": {
            "text/html": [
              "<span style=\"color:blue\"> |-tuner/epochs: 6</span>"
            ],
            "text/plain": [
              "<IPython.core.display.HTML object>"
            ]
          },
          "metadata": {
            "tags": []
          }
        },
        {
          "output_type": "display_data",
          "data": {
            "text/html": [
              "<span style=\"color:cyan\"> |-tuner/initial_epoch: 2</span>"
            ],
            "text/plain": [
              "<IPython.core.display.HTML object>"
            ]
          },
          "metadata": {
            "tags": []
          }
        },
        {
          "output_type": "display_data",
          "data": {
            "text/html": [
              "<span style=\"color:blue\"> |-tuner/round: 1</span>"
            ],
            "text/plain": [
              "<IPython.core.display.HTML object>"
            ]
          },
          "metadata": {
            "tags": []
          }
        },
        {
          "output_type": "display_data",
          "data": {
            "text/html": [
              "<span style=\"color:cyan\"> |-tuner/trial_id: 3979f04973f7a0c2ddb09603a8f206a3</span>"
            ],
            "text/plain": [
              "<IPython.core.display.HTML object>"
            ]
          },
          "metadata": {
            "tags": []
          }
        },
        {
          "output_type": "stream",
          "text": [
            "Epoch 3/6\n",
            "13/13 [==============================] - 0s 33ms/step - loss: 1.2114 - mae: 0.8646 - val_loss: 0.1829 - val_mae: 0.3913\n",
            "Epoch 4/6\n",
            "13/13 [==============================] - 0s 16ms/step - loss: 0.7532 - mae: 0.6744 - val_loss: 0.0376 - val_mae: 0.1415\n",
            "Epoch 5/6\n",
            "13/13 [==============================] - 0s 13ms/step - loss: 0.5831 - mae: 0.5929 - val_loss: 0.0370 - val_mae: 0.1354\n",
            "Epoch 6/6\n",
            "13/13 [==============================] - 0s 11ms/step - loss: 0.6229 - mae: 0.5776 - val_loss: 0.0385 - val_mae: 0.1422\n",
            "Epoch 3/6\n",
            "13/13 [==============================] - 0s 30ms/step - loss: 1.1727 - mae: 0.8088 - val_loss: 0.1755 - val_mae: 0.3584\n",
            "Epoch 4/6\n",
            "13/13 [==============================] - 0s 12ms/step - loss: 0.7017 - mae: 0.6558 - val_loss: 0.0742 - val_mae: 0.2190\n",
            "Epoch 5/6\n",
            "13/13 [==============================] - 0s 11ms/step - loss: 0.4473 - mae: 0.5306 - val_loss: 0.0421 - val_mae: 0.1485\n",
            "Epoch 6/6\n",
            "13/13 [==============================] - 0s 14ms/step - loss: 0.4566 - mae: 0.5099 - val_loss: 0.0362 - val_mae: 0.1364\n"
          ],
          "name": "stdout"
        },
        {
          "output_type": "display_data",
          "data": {
            "text/html": [
              "<span style=\"color:#4527A0\"><h1 style=\"font-size:18px\">Trial complete</h1></span>"
            ],
            "text/plain": [
              "<IPython.core.display.HTML object>"
            ]
          },
          "metadata": {
            "tags": []
          }
        },
        {
          "output_type": "display_data",
          "data": {
            "text/html": [
              "<span style=\"color:#4527A0\"><h1 style=\"font-size:18px\">Trial summary</h1></span>"
            ],
            "text/plain": [
              "<IPython.core.display.HTML object>"
            ]
          },
          "metadata": {
            "tags": []
          }
        },
        {
          "output_type": "display_data",
          "data": {
            "text/html": [
              "<span style=\"color:cyan\"> |-Trial ID: 87531ee8462943a450c3692631152e0e</span>"
            ],
            "text/plain": [
              "<IPython.core.display.HTML object>"
            ]
          },
          "metadata": {
            "tags": []
          }
        },
        {
          "output_type": "display_data",
          "data": {
            "text/html": [
              "<span style=\"color:cyan\"> |-Score: 0.13590963184833527</span>"
            ],
            "text/plain": [
              "<IPython.core.display.HTML object>"
            ]
          },
          "metadata": {
            "tags": []
          }
        },
        {
          "output_type": "display_data",
          "data": {
            "text/html": [
              "<span style=\"color:cyan\"> |-Best step: 0</span>"
            ],
            "text/plain": [
              "<IPython.core.display.HTML object>"
            ]
          },
          "metadata": {
            "tags": []
          }
        },
        {
          "output_type": "display_data",
          "data": {
            "text/html": [
              "<span style=\"color:#7E57C2\"><h2 style=\"font-size:16px\">Hyperparameters:</h2></span>"
            ],
            "text/plain": [
              "<IPython.core.display.HTML object>"
            ]
          },
          "metadata": {
            "tags": []
          }
        },
        {
          "output_type": "display_data",
          "data": {
            "text/html": [
              "<span style=\"color:cyan\"> |-dense_0: 96</span>"
            ],
            "text/plain": [
              "<IPython.core.display.HTML object>"
            ]
          },
          "metadata": {
            "tags": []
          }
        },
        {
          "output_type": "display_data",
          "data": {
            "text/html": [
              "<span style=\"color:blue\"> |-dense_1: 96</span>"
            ],
            "text/plain": [
              "<IPython.core.display.HTML object>"
            ]
          },
          "metadata": {
            "tags": []
          }
        },
        {
          "output_type": "display_data",
          "data": {
            "text/html": [
              "<span style=\"color:cyan\"> |-dense_2: 96</span>"
            ],
            "text/plain": [
              "<IPython.core.display.HTML object>"
            ]
          },
          "metadata": {
            "tags": []
          }
        },
        {
          "output_type": "display_data",
          "data": {
            "text/html": [
              "<span style=\"color:blue\"> |-dense_input: 64</span>"
            ],
            "text/plain": [
              "<IPython.core.display.HTML object>"
            ]
          },
          "metadata": {
            "tags": []
          }
        },
        {
          "output_type": "display_data",
          "data": {
            "text/html": [
              "<span style=\"color:cyan\"> |-drop_0: 0.1</span>"
            ],
            "text/plain": [
              "<IPython.core.display.HTML object>"
            ]
          },
          "metadata": {
            "tags": []
          }
        },
        {
          "output_type": "display_data",
          "data": {
            "text/html": [
              "<span style=\"color:blue\"> |-drop_1: 0.2</span>"
            ],
            "text/plain": [
              "<IPython.core.display.HTML object>"
            ]
          },
          "metadata": {
            "tags": []
          }
        },
        {
          "output_type": "display_data",
          "data": {
            "text/html": [
              "<span style=\"color:cyan\"> |-drop_2: 0.30000000000000004</span>"
            ],
            "text/plain": [
              "<IPython.core.display.HTML object>"
            ]
          },
          "metadata": {
            "tags": []
          }
        },
        {
          "output_type": "display_data",
          "data": {
            "text/html": [
              "<span style=\"color:blue\"> |-drop_input: 0.0</span>"
            ],
            "text/plain": [
              "<IPython.core.display.HTML object>"
            ]
          },
          "metadata": {
            "tags": []
          }
        },
        {
          "output_type": "display_data",
          "data": {
            "text/html": [
              "<span style=\"color:cyan\"> |-lr: 0.0013917854917016644</span>"
            ],
            "text/plain": [
              "<IPython.core.display.HTML object>"
            ]
          },
          "metadata": {
            "tags": []
          }
        },
        {
          "output_type": "display_data",
          "data": {
            "text/html": [
              "<span style=\"color:blue\"> |-num_intermediate_layers: 2</span>"
            ],
            "text/plain": [
              "<IPython.core.display.HTML object>"
            ]
          },
          "metadata": {
            "tags": []
          }
        },
        {
          "output_type": "display_data",
          "data": {
            "text/html": [
              "<span style=\"color:cyan\"> |-tuner/bracket: 3</span>"
            ],
            "text/plain": [
              "<IPython.core.display.HTML object>"
            ]
          },
          "metadata": {
            "tags": []
          }
        },
        {
          "output_type": "display_data",
          "data": {
            "text/html": [
              "<span style=\"color:blue\"> |-tuner/epochs: 6</span>"
            ],
            "text/plain": [
              "<IPython.core.display.HTML object>"
            ]
          },
          "metadata": {
            "tags": []
          }
        },
        {
          "output_type": "display_data",
          "data": {
            "text/html": [
              "<span style=\"color:cyan\"> |-tuner/initial_epoch: 2</span>"
            ],
            "text/plain": [
              "<IPython.core.display.HTML object>"
            ]
          },
          "metadata": {
            "tags": []
          }
        },
        {
          "output_type": "display_data",
          "data": {
            "text/html": [
              "<span style=\"color:blue\"> |-tuner/round: 1</span>"
            ],
            "text/plain": [
              "<IPython.core.display.HTML object>"
            ]
          },
          "metadata": {
            "tags": []
          }
        },
        {
          "output_type": "display_data",
          "data": {
            "text/html": [
              "<span style=\"color:cyan\"> |-tuner/trial_id: cd6ea8cc34b489010826dff83220cea3</span>"
            ],
            "text/plain": [
              "<IPython.core.display.HTML object>"
            ]
          },
          "metadata": {
            "tags": []
          }
        },
        {
          "output_type": "stream",
          "text": [
            "Epoch 3/6\n",
            "13/13 [==============================] - 0s 38ms/step - loss: 1.0294 - mae: 0.7374 - val_loss: 0.0799 - val_mae: 0.2228\n",
            "Epoch 4/6\n",
            "13/13 [==============================] - 0s 15ms/step - loss: 0.3312 - mae: 0.4422 - val_loss: 0.0434 - val_mae: 0.1501\n",
            "Epoch 5/6\n",
            "13/13 [==============================] - 0s 16ms/step - loss: 0.2922 - mae: 0.4029 - val_loss: 0.0411 - val_mae: 0.1450\n",
            "Epoch 6/6\n",
            "13/13 [==============================] - 0s 17ms/step - loss: 0.2457 - mae: 0.3829 - val_loss: 0.0473 - val_mae: 0.1615\n",
            "Epoch 3/6\n",
            "13/13 [==============================] - 0s 36ms/step - loss: 0.7361 - mae: 0.6440 - val_loss: 0.1222 - val_mae: 0.3007\n",
            "Epoch 4/6\n",
            "13/13 [==============================] - 0s 16ms/step - loss: 0.3011 - mae: 0.4167 - val_loss: 0.0346 - val_mae: 0.1332\n",
            "Epoch 5/6\n",
            "13/13 [==============================] - 0s 17ms/step - loss: 0.2601 - mae: 0.3843 - val_loss: 0.0345 - val_mae: 0.1326\n",
            "Epoch 6/6\n",
            "13/13 [==============================] - 0s 14ms/step - loss: 0.2062 - mae: 0.3530 - val_loss: 0.0346 - val_mae: 0.1333\n"
          ],
          "name": "stdout"
        },
        {
          "output_type": "display_data",
          "data": {
            "text/html": [
              "<span style=\"color:#4527A0\"><h1 style=\"font-size:18px\">Trial complete</h1></span>"
            ],
            "text/plain": [
              "<IPython.core.display.HTML object>"
            ]
          },
          "metadata": {
            "tags": []
          }
        },
        {
          "output_type": "display_data",
          "data": {
            "text/html": [
              "<span style=\"color:#4527A0\"><h1 style=\"font-size:18px\">Trial summary</h1></span>"
            ],
            "text/plain": [
              "<IPython.core.display.HTML object>"
            ]
          },
          "metadata": {
            "tags": []
          }
        },
        {
          "output_type": "display_data",
          "data": {
            "text/html": [
              "<span style=\"color:cyan\"> |-Trial ID: 5b583c1eff5b82117ea407ca04661c6e</span>"
            ],
            "text/plain": [
              "<IPython.core.display.HTML object>"
            ]
          },
          "metadata": {
            "tags": []
          }
        },
        {
          "output_type": "display_data",
          "data": {
            "text/html": [
              "<span style=\"color:cyan\"> |-Score: 0.13878922164440155</span>"
            ],
            "text/plain": [
              "<IPython.core.display.HTML object>"
            ]
          },
          "metadata": {
            "tags": []
          }
        },
        {
          "output_type": "display_data",
          "data": {
            "text/html": [
              "<span style=\"color:cyan\"> |-Best step: 0</span>"
            ],
            "text/plain": [
              "<IPython.core.display.HTML object>"
            ]
          },
          "metadata": {
            "tags": []
          }
        },
        {
          "output_type": "display_data",
          "data": {
            "text/html": [
              "<span style=\"color:#7E57C2\"><h2 style=\"font-size:16px\">Hyperparameters:</h2></span>"
            ],
            "text/plain": [
              "<IPython.core.display.HTML object>"
            ]
          },
          "metadata": {
            "tags": []
          }
        },
        {
          "output_type": "display_data",
          "data": {
            "text/html": [
              "<span style=\"color:cyan\"> |-dense_0: 128</span>"
            ],
            "text/plain": [
              "<IPython.core.display.HTML object>"
            ]
          },
          "metadata": {
            "tags": []
          }
        },
        {
          "output_type": "display_data",
          "data": {
            "text/html": [
              "<span style=\"color:blue\"> |-dense_1: 64</span>"
            ],
            "text/plain": [
              "<IPython.core.display.HTML object>"
            ]
          },
          "metadata": {
            "tags": []
          }
        },
        {
          "output_type": "display_data",
          "data": {
            "text/html": [
              "<span style=\"color:cyan\"> |-dense_2: 96</span>"
            ],
            "text/plain": [
              "<IPython.core.display.HTML object>"
            ]
          },
          "metadata": {
            "tags": []
          }
        },
        {
          "output_type": "display_data",
          "data": {
            "text/html": [
              "<span style=\"color:blue\"> |-dense_input: 96</span>"
            ],
            "text/plain": [
              "<IPython.core.display.HTML object>"
            ]
          },
          "metadata": {
            "tags": []
          }
        },
        {
          "output_type": "display_data",
          "data": {
            "text/html": [
              "<span style=\"color:cyan\"> |-drop_0: 0.2</span>"
            ],
            "text/plain": [
              "<IPython.core.display.HTML object>"
            ]
          },
          "metadata": {
            "tags": []
          }
        },
        {
          "output_type": "display_data",
          "data": {
            "text/html": [
              "<span style=\"color:blue\"> |-drop_1: 0.2</span>"
            ],
            "text/plain": [
              "<IPython.core.display.HTML object>"
            ]
          },
          "metadata": {
            "tags": []
          }
        },
        {
          "output_type": "display_data",
          "data": {
            "text/html": [
              "<span style=\"color:cyan\"> |-drop_2: 0.1</span>"
            ],
            "text/plain": [
              "<IPython.core.display.HTML object>"
            ]
          },
          "metadata": {
            "tags": []
          }
        },
        {
          "output_type": "display_data",
          "data": {
            "text/html": [
              "<span style=\"color:blue\"> |-drop_input: 0.1</span>"
            ],
            "text/plain": [
              "<IPython.core.display.HTML object>"
            ]
          },
          "metadata": {
            "tags": []
          }
        },
        {
          "output_type": "display_data",
          "data": {
            "text/html": [
              "<span style=\"color:cyan\"> |-lr: 0.0018516864311851355</span>"
            ],
            "text/plain": [
              "<IPython.core.display.HTML object>"
            ]
          },
          "metadata": {
            "tags": []
          }
        },
        {
          "output_type": "display_data",
          "data": {
            "text/html": [
              "<span style=\"color:blue\"> |-num_intermediate_layers: 3</span>"
            ],
            "text/plain": [
              "<IPython.core.display.HTML object>"
            ]
          },
          "metadata": {
            "tags": []
          }
        },
        {
          "output_type": "display_data",
          "data": {
            "text/html": [
              "<span style=\"color:cyan\"> |-tuner/bracket: 3</span>"
            ],
            "text/plain": [
              "<IPython.core.display.HTML object>"
            ]
          },
          "metadata": {
            "tags": []
          }
        },
        {
          "output_type": "display_data",
          "data": {
            "text/html": [
              "<span style=\"color:blue\"> |-tuner/epochs: 6</span>"
            ],
            "text/plain": [
              "<IPython.core.display.HTML object>"
            ]
          },
          "metadata": {
            "tags": []
          }
        },
        {
          "output_type": "display_data",
          "data": {
            "text/html": [
              "<span style=\"color:cyan\"> |-tuner/initial_epoch: 2</span>"
            ],
            "text/plain": [
              "<IPython.core.display.HTML object>"
            ]
          },
          "metadata": {
            "tags": []
          }
        },
        {
          "output_type": "display_data",
          "data": {
            "text/html": [
              "<span style=\"color:blue\"> |-tuner/round: 1</span>"
            ],
            "text/plain": [
              "<IPython.core.display.HTML object>"
            ]
          },
          "metadata": {
            "tags": []
          }
        },
        {
          "output_type": "display_data",
          "data": {
            "text/html": [
              "<span style=\"color:cyan\"> |-tuner/trial_id: 657849782a62aa1a37e5104e3e4cf451</span>"
            ],
            "text/plain": [
              "<IPython.core.display.HTML object>"
            ]
          },
          "metadata": {
            "tags": []
          }
        },
        {
          "output_type": "stream",
          "text": [
            "Epoch 7/17\n",
            "13/13 [==============================] - 1s 44ms/step - loss: 0.7346 - mae: 0.5534 - val_loss: 0.0725 - val_mae: 0.2124\n",
            "Epoch 8/17\n",
            "13/13 [==============================] - 0s 16ms/step - loss: 0.0821 - mae: 0.2177 - val_loss: 0.0484 - val_mae: 0.1638\n",
            "Epoch 9/17\n",
            "13/13 [==============================] - 0s 17ms/step - loss: 0.0414 - mae: 0.1511 - val_loss: 0.0375 - val_mae: 0.1408\n",
            "Epoch 10/17\n",
            "13/13 [==============================] - 0s 13ms/step - loss: 0.0331 - mae: 0.1397 - val_loss: 0.0380 - val_mae: 0.1444\n",
            "Epoch 11/17\n",
            "13/13 [==============================] - 0s 16ms/step - loss: 0.0331 - mae: 0.1358 - val_loss: 0.0353 - val_mae: 0.1353\n",
            "Epoch 12/17\n",
            "13/13 [==============================] - 0s 12ms/step - loss: 0.0264 - mae: 0.1150 - val_loss: 0.0378 - val_mae: 0.1438\n",
            "Epoch 13/17\n",
            "13/13 [==============================] - 0s 15ms/step - loss: 0.0199 - mae: 0.1056 - val_loss: 0.0325 - val_mae: 0.1309\n",
            "Epoch 14/17\n",
            "13/13 [==============================] - 0s 14ms/step - loss: 0.0206 - mae: 0.1086 - val_loss: 0.0332 - val_mae: 0.1365\n",
            "Epoch 15/17\n",
            "13/13 [==============================] - 0s 15ms/step - loss: 0.0197 - mae: 0.1019 - val_loss: 0.0287 - val_mae: 0.1239\n",
            "Epoch 16/17\n",
            "13/13 [==============================] - 0s 16ms/step - loss: 0.0212 - mae: 0.1057 - val_loss: 0.0285 - val_mae: 0.1231\n",
            "Epoch 17/17\n",
            "13/13 [==============================] - 0s 12ms/step - loss: 0.0186 - mae: 0.1017 - val_loss: 0.0375 - val_mae: 0.1464\n",
            "Epoch 7/17\n",
            "13/13 [==============================] - 0s 33ms/step - loss: 0.5913 - mae: 0.4866 - val_loss: 0.0407 - val_mae: 0.1519\n",
            "Epoch 8/17\n",
            "13/13 [==============================] - 0s 14ms/step - loss: 0.0698 - mae: 0.2040 - val_loss: 0.0395 - val_mae: 0.1456\n",
            "Epoch 9/17\n",
            "13/13 [==============================] - 0s 14ms/step - loss: 0.0387 - mae: 0.1514 - val_loss: 0.0310 - val_mae: 0.1233\n",
            "Epoch 10/17\n",
            "13/13 [==============================] - 0s 19ms/step - loss: 0.0301 - mae: 0.1284 - val_loss: 0.0373 - val_mae: 0.1394\n",
            "Epoch 11/17\n",
            "13/13 [==============================] - 0s 18ms/step - loss: 0.0234 - mae: 0.1114 - val_loss: 0.0313 - val_mae: 0.1278\n",
            "Epoch 12/17\n",
            "13/13 [==============================] - 0s 13ms/step - loss: 0.0218 - mae: 0.1095 - val_loss: 0.0319 - val_mae: 0.1272\n",
            "Epoch 13/17\n",
            "13/13 [==============================] - 0s 13ms/step - loss: 0.0213 - mae: 0.1063 - val_loss: 0.0318 - val_mae: 0.1264\n",
            "Epoch 14/17\n",
            "13/13 [==============================] - 0s 12ms/step - loss: 0.0238 - mae: 0.1136 - val_loss: 0.0351 - val_mae: 0.1373\n"
          ],
          "name": "stdout"
        },
        {
          "output_type": "display_data",
          "data": {
            "text/html": [
              "<span style=\"color:#4527A0\"><h1 style=\"font-size:18px\">Trial complete</h1></span>"
            ],
            "text/plain": [
              "<IPython.core.display.HTML object>"
            ]
          },
          "metadata": {
            "tags": []
          }
        },
        {
          "output_type": "display_data",
          "data": {
            "text/html": [
              "<span style=\"color:#4527A0\"><h1 style=\"font-size:18px\">Trial summary</h1></span>"
            ],
            "text/plain": [
              "<IPython.core.display.HTML object>"
            ]
          },
          "metadata": {
            "tags": []
          }
        },
        {
          "output_type": "display_data",
          "data": {
            "text/html": [
              "<span style=\"color:cyan\"> |-Trial ID: 9acce973dc88d56400cd15c32252748c</span>"
            ],
            "text/plain": [
              "<IPython.core.display.HTML object>"
            ]
          },
          "metadata": {
            "tags": []
          }
        },
        {
          "output_type": "display_data",
          "data": {
            "text/html": [
              "<span style=\"color:cyan\"> |-Score: 0.1232057586312294</span>"
            ],
            "text/plain": [
              "<IPython.core.display.HTML object>"
            ]
          },
          "metadata": {
            "tags": []
          }
        },
        {
          "output_type": "display_data",
          "data": {
            "text/html": [
              "<span style=\"color:cyan\"> |-Best step: 0</span>"
            ],
            "text/plain": [
              "<IPython.core.display.HTML object>"
            ]
          },
          "metadata": {
            "tags": []
          }
        },
        {
          "output_type": "display_data",
          "data": {
            "text/html": [
              "<span style=\"color:#7E57C2\"><h2 style=\"font-size:16px\">Hyperparameters:</h2></span>"
            ],
            "text/plain": [
              "<IPython.core.display.HTML object>"
            ]
          },
          "metadata": {
            "tags": []
          }
        },
        {
          "output_type": "display_data",
          "data": {
            "text/html": [
              "<span style=\"color:cyan\"> |-dense_0: 64</span>"
            ],
            "text/plain": [
              "<IPython.core.display.HTML object>"
            ]
          },
          "metadata": {
            "tags": []
          }
        },
        {
          "output_type": "display_data",
          "data": {
            "text/html": [
              "<span style=\"color:blue\"> |-dense_1: 64</span>"
            ],
            "text/plain": [
              "<IPython.core.display.HTML object>"
            ]
          },
          "metadata": {
            "tags": []
          }
        },
        {
          "output_type": "display_data",
          "data": {
            "text/html": [
              "<span style=\"color:cyan\"> |-dense_2: 32</span>"
            ],
            "text/plain": [
              "<IPython.core.display.HTML object>"
            ]
          },
          "metadata": {
            "tags": []
          }
        },
        {
          "output_type": "display_data",
          "data": {
            "text/html": [
              "<span style=\"color:blue\"> |-dense_input: 32</span>"
            ],
            "text/plain": [
              "<IPython.core.display.HTML object>"
            ]
          },
          "metadata": {
            "tags": []
          }
        },
        {
          "output_type": "display_data",
          "data": {
            "text/html": [
              "<span style=\"color:cyan\"> |-drop_0: 0.0</span>"
            ],
            "text/plain": [
              "<IPython.core.display.HTML object>"
            ]
          },
          "metadata": {
            "tags": []
          }
        },
        {
          "output_type": "display_data",
          "data": {
            "text/html": [
              "<span style=\"color:blue\"> |-drop_1: 0.0</span>"
            ],
            "text/plain": [
              "<IPython.core.display.HTML object>"
            ]
          },
          "metadata": {
            "tags": []
          }
        },
        {
          "output_type": "display_data",
          "data": {
            "text/html": [
              "<span style=\"color:cyan\"> |-drop_2: 0.0</span>"
            ],
            "text/plain": [
              "<IPython.core.display.HTML object>"
            ]
          },
          "metadata": {
            "tags": []
          }
        },
        {
          "output_type": "display_data",
          "data": {
            "text/html": [
              "<span style=\"color:blue\"> |-drop_input: 0.2</span>"
            ],
            "text/plain": [
              "<IPython.core.display.HTML object>"
            ]
          },
          "metadata": {
            "tags": []
          }
        },
        {
          "output_type": "display_data",
          "data": {
            "text/html": [
              "<span style=\"color:cyan\"> |-lr: 0.008079775183819825</span>"
            ],
            "text/plain": [
              "<IPython.core.display.HTML object>"
            ]
          },
          "metadata": {
            "tags": []
          }
        },
        {
          "output_type": "display_data",
          "data": {
            "text/html": [
              "<span style=\"color:blue\"> |-num_intermediate_layers: 3</span>"
            ],
            "text/plain": [
              "<IPython.core.display.HTML object>"
            ]
          },
          "metadata": {
            "tags": []
          }
        },
        {
          "output_type": "display_data",
          "data": {
            "text/html": [
              "<span style=\"color:cyan\"> |-tuner/bracket: 3</span>"
            ],
            "text/plain": [
              "<IPython.core.display.HTML object>"
            ]
          },
          "metadata": {
            "tags": []
          }
        },
        {
          "output_type": "display_data",
          "data": {
            "text/html": [
              "<span style=\"color:blue\"> |-tuner/epochs: 17</span>"
            ],
            "text/plain": [
              "<IPython.core.display.HTML object>"
            ]
          },
          "metadata": {
            "tags": []
          }
        },
        {
          "output_type": "display_data",
          "data": {
            "text/html": [
              "<span style=\"color:cyan\"> |-tuner/initial_epoch: 6</span>"
            ],
            "text/plain": [
              "<IPython.core.display.HTML object>"
            ]
          },
          "metadata": {
            "tags": []
          }
        },
        {
          "output_type": "display_data",
          "data": {
            "text/html": [
              "<span style=\"color:blue\"> |-tuner/round: 2</span>"
            ],
            "text/plain": [
              "<IPython.core.display.HTML object>"
            ]
          },
          "metadata": {
            "tags": []
          }
        },
        {
          "output_type": "display_data",
          "data": {
            "text/html": [
              "<span style=\"color:cyan\"> |-tuner/trial_id: 41958b4c9cc961d2c8f2d01e7feec314</span>"
            ],
            "text/plain": [
              "<IPython.core.display.HTML object>"
            ]
          },
          "metadata": {
            "tags": []
          }
        },
        {
          "output_type": "stream",
          "text": [
            "Epoch 7/17\n",
            "13/13 [==============================] - 0s 34ms/step - loss: 1.4525 - mae: 0.8928 - val_loss: 0.0508 - val_mae: 0.1778\n",
            "Epoch 8/17\n",
            "13/13 [==============================] - 0s 16ms/step - loss: 0.4352 - mae: 0.5011 - val_loss: 0.0409 - val_mae: 0.1567\n",
            "Epoch 9/17\n",
            "13/13 [==============================] - 0s 14ms/step - loss: 0.2724 - mae: 0.4044 - val_loss: 0.0441 - val_mae: 0.1560\n",
            "Epoch 10/17\n",
            "13/13 [==============================] - 0s 16ms/step - loss: 0.2316 - mae: 0.3702 - val_loss: 0.0377 - val_mae: 0.1342\n",
            "Epoch 11/17\n",
            "13/13 [==============================] - 0s 12ms/step - loss: 0.2064 - mae: 0.3404 - val_loss: 0.0593 - val_mae: 0.1879\n",
            "Epoch 12/17\n",
            "13/13 [==============================] - 0s 12ms/step - loss: 0.1991 - mae: 0.3478 - val_loss: 0.0420 - val_mae: 0.1494\n",
            "Epoch 13/17\n",
            "13/13 [==============================] - 0s 14ms/step - loss: 0.1456 - mae: 0.2891 - val_loss: 0.0343 - val_mae: 0.1325\n",
            "Epoch 14/17\n",
            "13/13 [==============================] - 0s 12ms/step - loss: 0.1419 - mae: 0.2876 - val_loss: 0.0397 - val_mae: 0.1494\n",
            "Epoch 15/17\n",
            "13/13 [==============================] - 0s 18ms/step - loss: 0.1245 - mae: 0.2688 - val_loss: 0.0246 - val_mae: 0.1125\n",
            "Epoch 16/17\n",
            "13/13 [==============================] - 0s 12ms/step - loss: 0.1271 - mae: 0.2644 - val_loss: 0.0296 - val_mae: 0.1268\n",
            "Epoch 17/17\n",
            "13/13 [==============================] - 0s 12ms/step - loss: 0.1257 - mae: 0.2657 - val_loss: 0.0314 - val_mae: 0.1285\n",
            "Epoch 7/17\n",
            "13/13 [==============================] - 0s 29ms/step - loss: 0.8423 - mae: 0.6455 - val_loss: 0.0564 - val_mae: 0.1709\n",
            "Epoch 8/17\n",
            "13/13 [==============================] - 0s 11ms/step - loss: 0.2864 - mae: 0.3975 - val_loss: 0.0491 - val_mae: 0.1590\n",
            "Epoch 9/17\n",
            "13/13 [==============================] - 0s 11ms/step - loss: 0.2372 - mae: 0.3522 - val_loss: 0.0414 - val_mae: 0.1487\n",
            "Epoch 10/17\n",
            "13/13 [==============================] - 0s 12ms/step - loss: 0.1810 - mae: 0.3234 - val_loss: 0.0370 - val_mae: 0.1397\n",
            "Epoch 11/17\n",
            "13/13 [==============================] - 0s 12ms/step - loss: 0.1548 - mae: 0.2919 - val_loss: 0.0392 - val_mae: 0.1499\n",
            "Epoch 12/17\n",
            "13/13 [==============================] - 0s 11ms/step - loss: 0.1322 - mae: 0.2742 - val_loss: 0.0429 - val_mae: 0.1519\n",
            "Epoch 13/17\n",
            "13/13 [==============================] - 0s 11ms/step - loss: 0.1217 - mae: 0.2592 - val_loss: 0.0443 - val_mae: 0.1566\n",
            "Epoch 14/17\n",
            "13/13 [==============================] - 0s 11ms/step - loss: 0.1067 - mae: 0.2407 - val_loss: 0.0428 - val_mae: 0.1513\n",
            "Epoch 15/17\n",
            "13/13 [==============================] - 0s 11ms/step - loss: 0.1063 - mae: 0.2407 - val_loss: 0.0260 - val_mae: 0.1148\n",
            "Epoch 16/17\n",
            "13/13 [==============================] - 0s 11ms/step - loss: 0.0863 - mae: 0.2181 - val_loss: 0.0330 - val_mae: 0.1312\n",
            "Epoch 17/17\n",
            "13/13 [==============================] - 0s 14ms/step - loss: 0.0827 - mae: 0.2119 - val_loss: 0.0361 - val_mae: 0.1389\n"
          ],
          "name": "stdout"
        },
        {
          "output_type": "display_data",
          "data": {
            "text/html": [
              "<span style=\"color:#4527A0\"><h1 style=\"font-size:18px\">Trial complete</h1></span>"
            ],
            "text/plain": [
              "<IPython.core.display.HTML object>"
            ]
          },
          "metadata": {
            "tags": []
          }
        },
        {
          "output_type": "display_data",
          "data": {
            "text/html": [
              "<span style=\"color:#4527A0\"><h1 style=\"font-size:18px\">Trial summary</h1></span>"
            ],
            "text/plain": [
              "<IPython.core.display.HTML object>"
            ]
          },
          "metadata": {
            "tags": []
          }
        },
        {
          "output_type": "display_data",
          "data": {
            "text/html": [
              "<span style=\"color:cyan\"> |-Trial ID: 724a5bf8918db0fb35fca9b481abc6a2</span>"
            ],
            "text/plain": [
              "<IPython.core.display.HTML object>"
            ]
          },
          "metadata": {
            "tags": []
          }
        },
        {
          "output_type": "display_data",
          "data": {
            "text/html": [
              "<span style=\"color:cyan\"> |-Score: 0.11365900933742523</span>"
            ],
            "text/plain": [
              "<IPython.core.display.HTML object>"
            ]
          },
          "metadata": {
            "tags": []
          }
        },
        {
          "output_type": "display_data",
          "data": {
            "text/html": [
              "<span style=\"color:cyan\"> |-Best step: 0</span>"
            ],
            "text/plain": [
              "<IPython.core.display.HTML object>"
            ]
          },
          "metadata": {
            "tags": []
          }
        },
        {
          "output_type": "display_data",
          "data": {
            "text/html": [
              "<span style=\"color:#7E57C2\"><h2 style=\"font-size:16px\">Hyperparameters:</h2></span>"
            ],
            "text/plain": [
              "<IPython.core.display.HTML object>"
            ]
          },
          "metadata": {
            "tags": []
          }
        },
        {
          "output_type": "display_data",
          "data": {
            "text/html": [
              "<span style=\"color:cyan\"> |-dense_0: 64</span>"
            ],
            "text/plain": [
              "<IPython.core.display.HTML object>"
            ]
          },
          "metadata": {
            "tags": []
          }
        },
        {
          "output_type": "display_data",
          "data": {
            "text/html": [
              "<span style=\"color:blue\"> |-dense_1: 64</span>"
            ],
            "text/plain": [
              "<IPython.core.display.HTML object>"
            ]
          },
          "metadata": {
            "tags": []
          }
        },
        {
          "output_type": "display_data",
          "data": {
            "text/html": [
              "<span style=\"color:cyan\"> |-dense_2: 32</span>"
            ],
            "text/plain": [
              "<IPython.core.display.HTML object>"
            ]
          },
          "metadata": {
            "tags": []
          }
        },
        {
          "output_type": "display_data",
          "data": {
            "text/html": [
              "<span style=\"color:blue\"> |-dense_input: 64</span>"
            ],
            "text/plain": [
              "<IPython.core.display.HTML object>"
            ]
          },
          "metadata": {
            "tags": []
          }
        },
        {
          "output_type": "display_data",
          "data": {
            "text/html": [
              "<span style=\"color:cyan\"> |-drop_0: 0.0</span>"
            ],
            "text/plain": [
              "<IPython.core.display.HTML object>"
            ]
          },
          "metadata": {
            "tags": []
          }
        },
        {
          "output_type": "display_data",
          "data": {
            "text/html": [
              "<span style=\"color:blue\"> |-drop_1: 0.1</span>"
            ],
            "text/plain": [
              "<IPython.core.display.HTML object>"
            ]
          },
          "metadata": {
            "tags": []
          }
        },
        {
          "output_type": "display_data",
          "data": {
            "text/html": [
              "<span style=\"color:cyan\"> |-drop_2: 0.2</span>"
            ],
            "text/plain": [
              "<IPython.core.display.HTML object>"
            ]
          },
          "metadata": {
            "tags": []
          }
        },
        {
          "output_type": "display_data",
          "data": {
            "text/html": [
              "<span style=\"color:blue\"> |-drop_input: 0.2</span>"
            ],
            "text/plain": [
              "<IPython.core.display.HTML object>"
            ]
          },
          "metadata": {
            "tags": []
          }
        },
        {
          "output_type": "display_data",
          "data": {
            "text/html": [
              "<span style=\"color:cyan\"> |-lr: 0.00431019016344334</span>"
            ],
            "text/plain": [
              "<IPython.core.display.HTML object>"
            ]
          },
          "metadata": {
            "tags": []
          }
        },
        {
          "output_type": "display_data",
          "data": {
            "text/html": [
              "<span style=\"color:blue\"> |-num_intermediate_layers: 2</span>"
            ],
            "text/plain": [
              "<IPython.core.display.HTML object>"
            ]
          },
          "metadata": {
            "tags": []
          }
        },
        {
          "output_type": "display_data",
          "data": {
            "text/html": [
              "<span style=\"color:cyan\"> |-tuner/bracket: 3</span>"
            ],
            "text/plain": [
              "<IPython.core.display.HTML object>"
            ]
          },
          "metadata": {
            "tags": []
          }
        },
        {
          "output_type": "display_data",
          "data": {
            "text/html": [
              "<span style=\"color:blue\"> |-tuner/epochs: 17</span>"
            ],
            "text/plain": [
              "<IPython.core.display.HTML object>"
            ]
          },
          "metadata": {
            "tags": []
          }
        },
        {
          "output_type": "display_data",
          "data": {
            "text/html": [
              "<span style=\"color:cyan\"> |-tuner/initial_epoch: 6</span>"
            ],
            "text/plain": [
              "<IPython.core.display.HTML object>"
            ]
          },
          "metadata": {
            "tags": []
          }
        },
        {
          "output_type": "display_data",
          "data": {
            "text/html": [
              "<span style=\"color:blue\"> |-tuner/round: 2</span>"
            ],
            "text/plain": [
              "<IPython.core.display.HTML object>"
            ]
          },
          "metadata": {
            "tags": []
          }
        },
        {
          "output_type": "display_data",
          "data": {
            "text/html": [
              "<span style=\"color:cyan\"> |-tuner/trial_id: 5f5c327eeefa49d541c8ad961892df55</span>"
            ],
            "text/plain": [
              "<IPython.core.display.HTML object>"
            ]
          },
          "metadata": {
            "tags": []
          }
        },
        {
          "output_type": "stream",
          "text": [
            "Epoch 7/17\n",
            "13/13 [==============================] - 0s 27ms/step - loss: 0.7370 - mae: 0.6712 - val_loss: 0.0561 - val_mae: 0.1775\n",
            "Epoch 8/17\n",
            "13/13 [==============================] - 0s 12ms/step - loss: 0.3554 - mae: 0.4554 - val_loss: 0.0370 - val_mae: 0.1360\n",
            "Epoch 9/17\n",
            "13/13 [==============================] - 0s 13ms/step - loss: 0.2483 - mae: 0.3747 - val_loss: 0.0427 - val_mae: 0.1588\n",
            "Epoch 10/17\n",
            "13/13 [==============================] - 0s 15ms/step - loss: 0.1856 - mae: 0.3250 - val_loss: 0.0484 - val_mae: 0.1647\n",
            "Epoch 11/17\n",
            "13/13 [==============================] - 0s 11ms/step - loss: 0.1520 - mae: 0.2870 - val_loss: 0.0523 - val_mae: 0.1705\n",
            "Epoch 12/17\n",
            "13/13 [==============================] - 0s 10ms/step - loss: 0.1177 - mae: 0.2638 - val_loss: 0.0364 - val_mae: 0.1372\n",
            "Epoch 13/17\n",
            "13/13 [==============================] - 0s 12ms/step - loss: 0.1090 - mae: 0.2474 - val_loss: 0.0351 - val_mae: 0.1346\n",
            "Epoch 14/17\n",
            "13/13 [==============================] - 0s 11ms/step - loss: 0.0930 - mae: 0.2294 - val_loss: 0.0360 - val_mae: 0.1387\n",
            "Epoch 15/17\n",
            "13/13 [==============================] - 0s 12ms/step - loss: 0.1035 - mae: 0.2382 - val_loss: 0.0344 - val_mae: 0.1312\n",
            "Epoch 16/17\n",
            "13/13 [==============================] - 0s 11ms/step - loss: 0.0984 - mae: 0.2283 - val_loss: 0.0284 - val_mae: 0.1187\n",
            "Epoch 17/17\n",
            "13/13 [==============================] - 0s 10ms/step - loss: 0.0795 - mae: 0.2067 - val_loss: 0.0418 - val_mae: 0.1519\n",
            "Epoch 7/17\n",
            "13/13 [==============================] - 0s 25ms/step - loss: 1.1145 - mae: 0.7772 - val_loss: 0.0906 - val_mae: 0.2428\n",
            "Epoch 8/17\n",
            "13/13 [==============================] - 0s 11ms/step - loss: 0.5504 - mae: 0.5533 - val_loss: 0.0676 - val_mae: 0.2069\n",
            "Epoch 9/17\n",
            "13/13 [==============================] - 0s 10ms/step - loss: 0.2761 - mae: 0.4053 - val_loss: 0.0484 - val_mae: 0.1655\n",
            "Epoch 10/17\n",
            "13/13 [==============================] - 0s 11ms/step - loss: 0.2321 - mae: 0.3660 - val_loss: 0.0373 - val_mae: 0.1371\n",
            "Epoch 11/17\n",
            "13/13 [==============================] - 0s 10ms/step - loss: 0.1532 - mae: 0.3029 - val_loss: 0.0342 - val_mae: 0.1305\n",
            "Epoch 12/17\n",
            "13/13 [==============================] - 0s 10ms/step - loss: 0.2077 - mae: 0.3283 - val_loss: 0.0385 - val_mae: 0.1410\n",
            "Epoch 13/17\n",
            "13/13 [==============================] - 0s 10ms/step - loss: 0.2234 - mae: 0.3400 - val_loss: 0.0394 - val_mae: 0.1449\n",
            "Epoch 14/17\n",
            "13/13 [==============================] - 0s 11ms/step - loss: 0.1696 - mae: 0.3003 - val_loss: 0.0318 - val_mae: 0.1302\n",
            "Epoch 15/17\n",
            "13/13 [==============================] - 0s 12ms/step - loss: 0.1371 - mae: 0.2872 - val_loss: 0.0349 - val_mae: 0.1383\n",
            "Epoch 16/17\n",
            "13/13 [==============================] - 0s 10ms/step - loss: 0.1368 - mae: 0.2693 - val_loss: 0.0400 - val_mae: 0.1454\n",
            "Epoch 17/17\n",
            "13/13 [==============================] - 0s 10ms/step - loss: 0.1393 - mae: 0.2741 - val_loss: 0.0499 - val_mae: 0.1735\n"
          ],
          "name": "stdout"
        },
        {
          "output_type": "display_data",
          "data": {
            "text/html": [
              "<span style=\"color:#4527A0\"><h1 style=\"font-size:18px\">Trial complete</h1></span>"
            ],
            "text/plain": [
              "<IPython.core.display.HTML object>"
            ]
          },
          "metadata": {
            "tags": []
          }
        },
        {
          "output_type": "display_data",
          "data": {
            "text/html": [
              "<span style=\"color:#4527A0\"><h1 style=\"font-size:18px\">Trial summary</h1></span>"
            ],
            "text/plain": [
              "<IPython.core.display.HTML object>"
            ]
          },
          "metadata": {
            "tags": []
          }
        },
        {
          "output_type": "display_data",
          "data": {
            "text/html": [
              "<span style=\"color:cyan\"> |-Trial ID: 0a4b914643af332148198a29078f9cda</span>"
            ],
            "text/plain": [
              "<IPython.core.display.HTML object>"
            ]
          },
          "metadata": {
            "tags": []
          }
        },
        {
          "output_type": "display_data",
          "data": {
            "text/html": [
              "<span style=\"color:cyan\"> |-Score: 0.1244797632098198</span>"
            ],
            "text/plain": [
              "<IPython.core.display.HTML object>"
            ]
          },
          "metadata": {
            "tags": []
          }
        },
        {
          "output_type": "display_data",
          "data": {
            "text/html": [
              "<span style=\"color:cyan\"> |-Best step: 0</span>"
            ],
            "text/plain": [
              "<IPython.core.display.HTML object>"
            ]
          },
          "metadata": {
            "tags": []
          }
        },
        {
          "output_type": "display_data",
          "data": {
            "text/html": [
              "<span style=\"color:#7E57C2\"><h2 style=\"font-size:16px\">Hyperparameters:</h2></span>"
            ],
            "text/plain": [
              "<IPython.core.display.HTML object>"
            ]
          },
          "metadata": {
            "tags": []
          }
        },
        {
          "output_type": "display_data",
          "data": {
            "text/html": [
              "<span style=\"color:cyan\"> |-dense_0: 64</span>"
            ],
            "text/plain": [
              "<IPython.core.display.HTML object>"
            ]
          },
          "metadata": {
            "tags": []
          }
        },
        {
          "output_type": "display_data",
          "data": {
            "text/html": [
              "<span style=\"color:blue\"> |-dense_1: 96</span>"
            ],
            "text/plain": [
              "<IPython.core.display.HTML object>"
            ]
          },
          "metadata": {
            "tags": []
          }
        },
        {
          "output_type": "display_data",
          "data": {
            "text/html": [
              "<span style=\"color:cyan\"> |-dense_2: 32</span>"
            ],
            "text/plain": [
              "<IPython.core.display.HTML object>"
            ]
          },
          "metadata": {
            "tags": []
          }
        },
        {
          "output_type": "display_data",
          "data": {
            "text/html": [
              "<span style=\"color:blue\"> |-dense_input: 128</span>"
            ],
            "text/plain": [
              "<IPython.core.display.HTML object>"
            ]
          },
          "metadata": {
            "tags": []
          }
        },
        {
          "output_type": "display_data",
          "data": {
            "text/html": [
              "<span style=\"color:cyan\"> |-drop_0: 0.1</span>"
            ],
            "text/plain": [
              "<IPython.core.display.HTML object>"
            ]
          },
          "metadata": {
            "tags": []
          }
        },
        {
          "output_type": "display_data",
          "data": {
            "text/html": [
              "<span style=\"color:blue\"> |-drop_1: 0.1</span>"
            ],
            "text/plain": [
              "<IPython.core.display.HTML object>"
            ]
          },
          "metadata": {
            "tags": []
          }
        },
        {
          "output_type": "display_data",
          "data": {
            "text/html": [
              "<span style=\"color:cyan\"> |-drop_2: 0.0</span>"
            ],
            "text/plain": [
              "<IPython.core.display.HTML object>"
            ]
          },
          "metadata": {
            "tags": []
          }
        },
        {
          "output_type": "display_data",
          "data": {
            "text/html": [
              "<span style=\"color:blue\"> |-drop_input: 0.2</span>"
            ],
            "text/plain": [
              "<IPython.core.display.HTML object>"
            ]
          },
          "metadata": {
            "tags": []
          }
        },
        {
          "output_type": "display_data",
          "data": {
            "text/html": [
              "<span style=\"color:cyan\"> |-lr: 0.002846001376972815</span>"
            ],
            "text/plain": [
              "<IPython.core.display.HTML object>"
            ]
          },
          "metadata": {
            "tags": []
          }
        },
        {
          "output_type": "display_data",
          "data": {
            "text/html": [
              "<span style=\"color:blue\"> |-num_intermediate_layers: 1</span>"
            ],
            "text/plain": [
              "<IPython.core.display.HTML object>"
            ]
          },
          "metadata": {
            "tags": []
          }
        },
        {
          "output_type": "display_data",
          "data": {
            "text/html": [
              "<span style=\"color:cyan\"> |-tuner/bracket: 3</span>"
            ],
            "text/plain": [
              "<IPython.core.display.HTML object>"
            ]
          },
          "metadata": {
            "tags": []
          }
        },
        {
          "output_type": "display_data",
          "data": {
            "text/html": [
              "<span style=\"color:blue\"> |-tuner/epochs: 17</span>"
            ],
            "text/plain": [
              "<IPython.core.display.HTML object>"
            ]
          },
          "metadata": {
            "tags": []
          }
        },
        {
          "output_type": "display_data",
          "data": {
            "text/html": [
              "<span style=\"color:cyan\"> |-tuner/initial_epoch: 6</span>"
            ],
            "text/plain": [
              "<IPython.core.display.HTML object>"
            ]
          },
          "metadata": {
            "tags": []
          }
        },
        {
          "output_type": "display_data",
          "data": {
            "text/html": [
              "<span style=\"color:blue\"> |-tuner/round: 2</span>"
            ],
            "text/plain": [
              "<IPython.core.display.HTML object>"
            ]
          },
          "metadata": {
            "tags": []
          }
        },
        {
          "output_type": "display_data",
          "data": {
            "text/html": [
              "<span style=\"color:cyan\"> |-tuner/trial_id: e2eaede7a5cbb4b4ae54460d6ab4f86f</span>"
            ],
            "text/plain": [
              "<IPython.core.display.HTML object>"
            ]
          },
          "metadata": {
            "tags": []
          }
        },
        {
          "output_type": "stream",
          "text": [
            "Epoch 7/17\n",
            "13/13 [==============================] - 0s 32ms/step - loss: 1.2848 - mae: 0.8623 - val_loss: 0.0709 - val_mae: 0.2201\n",
            "Epoch 8/17\n",
            "13/13 [==============================] - 0s 17ms/step - loss: 0.7091 - mae: 0.6724 - val_loss: 0.0393 - val_mae: 0.1511\n",
            "Epoch 9/17\n",
            "13/13 [==============================] - 0s 13ms/step - loss: 0.5847 - mae: 0.6000 - val_loss: 0.0400 - val_mae: 0.1524\n",
            "Epoch 10/17\n",
            "13/13 [==============================] - 0s 13ms/step - loss: 0.5295 - mae: 0.5520 - val_loss: 0.0537 - val_mae: 0.1745\n",
            "Epoch 11/17\n",
            "13/13 [==============================] - 0s 12ms/step - loss: 0.5591 - mae: 0.5828 - val_loss: 0.0455 - val_mae: 0.1628\n",
            "Epoch 12/17\n",
            "13/13 [==============================] - 0s 12ms/step - loss: 0.5020 - mae: 0.5453 - val_loss: 0.0459 - val_mae: 0.1637\n",
            "Epoch 13/17\n",
            "13/13 [==============================] - 0s 15ms/step - loss: 0.4844 - mae: 0.5327 - val_loss: 0.0356 - val_mae: 0.1385\n",
            "Epoch 14/17\n",
            "13/13 [==============================] - 0s 12ms/step - loss: 0.4641 - mae: 0.5236 - val_loss: 0.0386 - val_mae: 0.1515\n",
            "Epoch 15/17\n",
            "13/13 [==============================] - 0s 13ms/step - loss: 0.4324 - mae: 0.5017 - val_loss: 0.0468 - val_mae: 0.1588\n",
            "Epoch 16/17\n",
            "13/13 [==============================] - 0s 12ms/step - loss: 0.3867 - mae: 0.4667 - val_loss: 0.0422 - val_mae: 0.1595\n",
            "Epoch 17/17\n",
            "13/13 [==============================] - 0s 12ms/step - loss: 0.3985 - mae: 0.4683 - val_loss: 0.0371 - val_mae: 0.1480\n",
            "Epoch 7/17\n",
            "13/13 [==============================] - 0s 30ms/step - loss: 1.3908 - mae: 0.9091 - val_loss: 0.1433 - val_mae: 0.3101\n",
            "Epoch 8/17\n",
            "13/13 [==============================] - 0s 12ms/step - loss: 0.7942 - mae: 0.6747 - val_loss: 0.0622 - val_mae: 0.1868\n",
            "Epoch 9/17\n",
            "13/13 [==============================] - 0s 19ms/step - loss: 0.5986 - mae: 0.6008 - val_loss: 0.0490 - val_mae: 0.1615\n",
            "Epoch 10/17\n",
            "13/13 [==============================] - 0s 15ms/step - loss: 0.6126 - mae: 0.5864 - val_loss: 0.0500 - val_mae: 0.1593\n",
            "Epoch 11/17\n",
            "13/13 [==============================] - 0s 14ms/step - loss: 0.4742 - mae: 0.5239 - val_loss: 0.0362 - val_mae: 0.1452\n",
            "Epoch 12/17\n",
            "13/13 [==============================] - 0s 12ms/step - loss: 0.5142 - mae: 0.5366 - val_loss: 0.0499 - val_mae: 0.1605\n",
            "Epoch 13/17\n",
            "13/13 [==============================] - 0s 12ms/step - loss: 0.4490 - mae: 0.5143 - val_loss: 0.0442 - val_mae: 0.1586\n",
            "Epoch 14/17\n",
            "13/13 [==============================] - 0s 12ms/step - loss: 0.3602 - mae: 0.4650 - val_loss: 0.0399 - val_mae: 0.1444\n",
            "Epoch 15/17\n",
            "13/13 [==============================] - 0s 15ms/step - loss: 0.4324 - mae: 0.4927 - val_loss: 0.0368 - val_mae: 0.1376\n",
            "Epoch 16/17\n",
            "13/13 [==============================] - 0s 12ms/step - loss: 0.3619 - mae: 0.4609 - val_loss: 0.0405 - val_mae: 0.1553\n"
          ],
          "name": "stdout"
        },
        {
          "output_type": "display_data",
          "data": {
            "text/html": [
              "<span style=\"color:#4527A0\"><h1 style=\"font-size:18px\">Trial complete</h1></span>"
            ],
            "text/plain": [
              "<IPython.core.display.HTML object>"
            ]
          },
          "metadata": {
            "tags": []
          }
        },
        {
          "output_type": "display_data",
          "data": {
            "text/html": [
              "<span style=\"color:#4527A0\"><h1 style=\"font-size:18px\">Trial summary</h1></span>"
            ],
            "text/plain": [
              "<IPython.core.display.HTML object>"
            ]
          },
          "metadata": {
            "tags": []
          }
        },
        {
          "output_type": "display_data",
          "data": {
            "text/html": [
              "<span style=\"color:cyan\"> |-Trial ID: 8ef57905b024bd063418b46ba41c25cf</span>"
            ],
            "text/plain": [
              "<IPython.core.display.HTML object>"
            ]
          },
          "metadata": {
            "tags": []
          }
        },
        {
          "output_type": "display_data",
          "data": {
            "text/html": [
              "<span style=\"color:cyan\"> |-Score: 0.13800720125436783</span>"
            ],
            "text/plain": [
              "<IPython.core.display.HTML object>"
            ]
          },
          "metadata": {
            "tags": []
          }
        },
        {
          "output_type": "display_data",
          "data": {
            "text/html": [
              "<span style=\"color:cyan\"> |-Best step: 0</span>"
            ],
            "text/plain": [
              "<IPython.core.display.HTML object>"
            ]
          },
          "metadata": {
            "tags": []
          }
        },
        {
          "output_type": "display_data",
          "data": {
            "text/html": [
              "<span style=\"color:#7E57C2\"><h2 style=\"font-size:16px\">Hyperparameters:</h2></span>"
            ],
            "text/plain": [
              "<IPython.core.display.HTML object>"
            ]
          },
          "metadata": {
            "tags": []
          }
        },
        {
          "output_type": "display_data",
          "data": {
            "text/html": [
              "<span style=\"color:cyan\"> |-dense_0: 96</span>"
            ],
            "text/plain": [
              "<IPython.core.display.HTML object>"
            ]
          },
          "metadata": {
            "tags": []
          }
        },
        {
          "output_type": "display_data",
          "data": {
            "text/html": [
              "<span style=\"color:blue\"> |-dense_1: 96</span>"
            ],
            "text/plain": [
              "<IPython.core.display.HTML object>"
            ]
          },
          "metadata": {
            "tags": []
          }
        },
        {
          "output_type": "display_data",
          "data": {
            "text/html": [
              "<span style=\"color:cyan\"> |-dense_2: 96</span>"
            ],
            "text/plain": [
              "<IPython.core.display.HTML object>"
            ]
          },
          "metadata": {
            "tags": []
          }
        },
        {
          "output_type": "display_data",
          "data": {
            "text/html": [
              "<span style=\"color:blue\"> |-dense_input: 64</span>"
            ],
            "text/plain": [
              "<IPython.core.display.HTML object>"
            ]
          },
          "metadata": {
            "tags": []
          }
        },
        {
          "output_type": "display_data",
          "data": {
            "text/html": [
              "<span style=\"color:cyan\"> |-drop_0: 0.1</span>"
            ],
            "text/plain": [
              "<IPython.core.display.HTML object>"
            ]
          },
          "metadata": {
            "tags": []
          }
        },
        {
          "output_type": "display_data",
          "data": {
            "text/html": [
              "<span style=\"color:blue\"> |-drop_1: 0.2</span>"
            ],
            "text/plain": [
              "<IPython.core.display.HTML object>"
            ]
          },
          "metadata": {
            "tags": []
          }
        },
        {
          "output_type": "display_data",
          "data": {
            "text/html": [
              "<span style=\"color:cyan\"> |-drop_2: 0.30000000000000004</span>"
            ],
            "text/plain": [
              "<IPython.core.display.HTML object>"
            ]
          },
          "metadata": {
            "tags": []
          }
        },
        {
          "output_type": "display_data",
          "data": {
            "text/html": [
              "<span style=\"color:blue\"> |-drop_input: 0.0</span>"
            ],
            "text/plain": [
              "<IPython.core.display.HTML object>"
            ]
          },
          "metadata": {
            "tags": []
          }
        },
        {
          "output_type": "display_data",
          "data": {
            "text/html": [
              "<span style=\"color:cyan\"> |-lr: 0.0013917854917016644</span>"
            ],
            "text/plain": [
              "<IPython.core.display.HTML object>"
            ]
          },
          "metadata": {
            "tags": []
          }
        },
        {
          "output_type": "display_data",
          "data": {
            "text/html": [
              "<span style=\"color:blue\"> |-num_intermediate_layers: 2</span>"
            ],
            "text/plain": [
              "<IPython.core.display.HTML object>"
            ]
          },
          "metadata": {
            "tags": []
          }
        },
        {
          "output_type": "display_data",
          "data": {
            "text/html": [
              "<span style=\"color:cyan\"> |-tuner/bracket: 3</span>"
            ],
            "text/plain": [
              "<IPython.core.display.HTML object>"
            ]
          },
          "metadata": {
            "tags": []
          }
        },
        {
          "output_type": "display_data",
          "data": {
            "text/html": [
              "<span style=\"color:blue\"> |-tuner/epochs: 17</span>"
            ],
            "text/plain": [
              "<IPython.core.display.HTML object>"
            ]
          },
          "metadata": {
            "tags": []
          }
        },
        {
          "output_type": "display_data",
          "data": {
            "text/html": [
              "<span style=\"color:cyan\"> |-tuner/initial_epoch: 6</span>"
            ],
            "text/plain": [
              "<IPython.core.display.HTML object>"
            ]
          },
          "metadata": {
            "tags": []
          }
        },
        {
          "output_type": "display_data",
          "data": {
            "text/html": [
              "<span style=\"color:blue\"> |-tuner/round: 2</span>"
            ],
            "text/plain": [
              "<IPython.core.display.HTML object>"
            ]
          },
          "metadata": {
            "tags": []
          }
        },
        {
          "output_type": "display_data",
          "data": {
            "text/html": [
              "<span style=\"color:cyan\"> |-tuner/trial_id: 87531ee8462943a450c3692631152e0e</span>"
            ],
            "text/plain": [
              "<IPython.core.display.HTML object>"
            ]
          },
          "metadata": {
            "tags": []
          }
        },
        {
          "output_type": "stream",
          "text": [
            "Epoch 18/50\n",
            "13/13 [==============================] - 0s 33ms/step - loss: 0.7248 - mae: 0.6379 - val_loss: 0.0401 - val_mae: 0.1452\n",
            "Epoch 19/50\n",
            "13/13 [==============================] - 0s 15ms/step - loss: 0.2991 - mae: 0.4038 - val_loss: 0.0297 - val_mae: 0.1311\n",
            "Epoch 20/50\n",
            "13/13 [==============================] - 0s 11ms/step - loss: 0.1839 - mae: 0.3190 - val_loss: 0.0376 - val_mae: 0.1426\n",
            "Epoch 21/50\n",
            "13/13 [==============================] - 0s 11ms/step - loss: 0.1426 - mae: 0.2912 - val_loss: 0.0350 - val_mae: 0.1342\n",
            "Epoch 22/50\n",
            "13/13 [==============================] - 0s 12ms/step - loss: 0.1493 - mae: 0.2873 - val_loss: 0.0385 - val_mae: 0.1421\n",
            "Epoch 23/50\n",
            "13/13 [==============================] - 0s 11ms/step - loss: 0.1112 - mae: 0.2529 - val_loss: 0.0349 - val_mae: 0.1342\n",
            "Epoch 24/50\n",
            "13/13 [==============================] - 0s 11ms/step - loss: 0.1133 - mae: 0.2522 - val_loss: 0.0444 - val_mae: 0.1599\n",
            "Epoch 18/50\n",
            "13/13 [==============================] - 0s 30ms/step - loss: 0.9575 - mae: 0.7393 - val_loss: 0.0706 - val_mae: 0.2151\n",
            "Epoch 19/50\n",
            "13/13 [==============================] - 0s 11ms/step - loss: 0.3876 - mae: 0.4571 - val_loss: 0.0906 - val_mae: 0.2412\n",
            "Epoch 20/50\n",
            "13/13 [==============================] - 0s 11ms/step - loss: 0.2893 - mae: 0.4054 - val_loss: 0.0569 - val_mae: 0.1820\n",
            "Epoch 21/50\n",
            "13/13 [==============================] - 0s 12ms/step - loss: 0.2327 - mae: 0.3560 - val_loss: 0.0465 - val_mae: 0.1616\n",
            "Epoch 22/50\n",
            "13/13 [==============================] - 0s 11ms/step - loss: 0.2138 - mae: 0.3423 - val_loss: 0.0540 - val_mae: 0.1735\n",
            "Epoch 23/50\n",
            "13/13 [==============================] - 0s 11ms/step - loss: 0.1492 - mae: 0.2910 - val_loss: 0.0361 - val_mae: 0.1412\n",
            "Epoch 24/50\n",
            "13/13 [==============================] - 0s 12ms/step - loss: 0.1565 - mae: 0.2979 - val_loss: 0.0386 - val_mae: 0.1403\n",
            "Epoch 25/50\n",
            "13/13 [==============================] - 0s 14ms/step - loss: 0.1155 - mae: 0.2581 - val_loss: 0.0324 - val_mae: 0.1273\n",
            "Epoch 26/50\n",
            "13/13 [==============================] - 0s 12ms/step - loss: 0.1518 - mae: 0.2991 - val_loss: 0.0403 - val_mae: 0.1477\n",
            "Epoch 27/50\n",
            "13/13 [==============================] - 0s 11ms/step - loss: 0.1251 - mae: 0.2552 - val_loss: 0.0417 - val_mae: 0.1508\n",
            "Epoch 28/50\n",
            "13/13 [==============================] - 0s 11ms/step - loss: 0.1064 - mae: 0.2345 - val_loss: 0.0428 - val_mae: 0.1545\n",
            "Epoch 29/50\n",
            "13/13 [==============================] - 0s 11ms/step - loss: 0.0822 - mae: 0.2184 - val_loss: 0.0487 - val_mae: 0.1740\n",
            "Epoch 30/50\n",
            "13/13 [==============================] - 0s 11ms/step - loss: 0.0902 - mae: 0.2286 - val_loss: 0.0370 - val_mae: 0.1416\n"
          ],
          "name": "stdout"
        },
        {
          "output_type": "display_data",
          "data": {
            "text/html": [
              "<span style=\"color:#4527A0\"><h1 style=\"font-size:18px\">Trial complete</h1></span>"
            ],
            "text/plain": [
              "<IPython.core.display.HTML object>"
            ]
          },
          "metadata": {
            "tags": []
          }
        },
        {
          "output_type": "display_data",
          "data": {
            "text/html": [
              "<span style=\"color:#4527A0\"><h1 style=\"font-size:18px\">Trial summary</h1></span>"
            ],
            "text/plain": [
              "<IPython.core.display.HTML object>"
            ]
          },
          "metadata": {
            "tags": []
          }
        },
        {
          "output_type": "display_data",
          "data": {
            "text/html": [
              "<span style=\"color:cyan\"> |-Trial ID: 53920b24fc09f07d9edd695d91940681</span>"
            ],
            "text/plain": [
              "<IPython.core.display.HTML object>"
            ]
          },
          "metadata": {
            "tags": []
          }
        },
        {
          "output_type": "display_data",
          "data": {
            "text/html": [
              "<span style=\"color:cyan\"> |-Score: 0.1292339265346527</span>"
            ],
            "text/plain": [
              "<IPython.core.display.HTML object>"
            ]
          },
          "metadata": {
            "tags": []
          }
        },
        {
          "output_type": "display_data",
          "data": {
            "text/html": [
              "<span style=\"color:cyan\"> |-Best step: 0</span>"
            ],
            "text/plain": [
              "<IPython.core.display.HTML object>"
            ]
          },
          "metadata": {
            "tags": []
          }
        },
        {
          "output_type": "display_data",
          "data": {
            "text/html": [
              "<span style=\"color:#7E57C2\"><h2 style=\"font-size:16px\">Hyperparameters:</h2></span>"
            ],
            "text/plain": [
              "<IPython.core.display.HTML object>"
            ]
          },
          "metadata": {
            "tags": []
          }
        },
        {
          "output_type": "display_data",
          "data": {
            "text/html": [
              "<span style=\"color:cyan\"> |-dense_0: 64</span>"
            ],
            "text/plain": [
              "<IPython.core.display.HTML object>"
            ]
          },
          "metadata": {
            "tags": []
          }
        },
        {
          "output_type": "display_data",
          "data": {
            "text/html": [
              "<span style=\"color:blue\"> |-dense_1: 64</span>"
            ],
            "text/plain": [
              "<IPython.core.display.HTML object>"
            ]
          },
          "metadata": {
            "tags": []
          }
        },
        {
          "output_type": "display_data",
          "data": {
            "text/html": [
              "<span style=\"color:cyan\"> |-dense_2: 32</span>"
            ],
            "text/plain": [
              "<IPython.core.display.HTML object>"
            ]
          },
          "metadata": {
            "tags": []
          }
        },
        {
          "output_type": "display_data",
          "data": {
            "text/html": [
              "<span style=\"color:blue\"> |-dense_input: 64</span>"
            ],
            "text/plain": [
              "<IPython.core.display.HTML object>"
            ]
          },
          "metadata": {
            "tags": []
          }
        },
        {
          "output_type": "display_data",
          "data": {
            "text/html": [
              "<span style=\"color:cyan\"> |-drop_0: 0.0</span>"
            ],
            "text/plain": [
              "<IPython.core.display.HTML object>"
            ]
          },
          "metadata": {
            "tags": []
          }
        },
        {
          "output_type": "display_data",
          "data": {
            "text/html": [
              "<span style=\"color:blue\"> |-drop_1: 0.1</span>"
            ],
            "text/plain": [
              "<IPython.core.display.HTML object>"
            ]
          },
          "metadata": {
            "tags": []
          }
        },
        {
          "output_type": "display_data",
          "data": {
            "text/html": [
              "<span style=\"color:cyan\"> |-drop_2: 0.2</span>"
            ],
            "text/plain": [
              "<IPython.core.display.HTML object>"
            ]
          },
          "metadata": {
            "tags": []
          }
        },
        {
          "output_type": "display_data",
          "data": {
            "text/html": [
              "<span style=\"color:blue\"> |-drop_input: 0.2</span>"
            ],
            "text/plain": [
              "<IPython.core.display.HTML object>"
            ]
          },
          "metadata": {
            "tags": []
          }
        },
        {
          "output_type": "display_data",
          "data": {
            "text/html": [
              "<span style=\"color:cyan\"> |-lr: 0.00431019016344334</span>"
            ],
            "text/plain": [
              "<IPython.core.display.HTML object>"
            ]
          },
          "metadata": {
            "tags": []
          }
        },
        {
          "output_type": "display_data",
          "data": {
            "text/html": [
              "<span style=\"color:blue\"> |-num_intermediate_layers: 2</span>"
            ],
            "text/plain": [
              "<IPython.core.display.HTML object>"
            ]
          },
          "metadata": {
            "tags": []
          }
        },
        {
          "output_type": "display_data",
          "data": {
            "text/html": [
              "<span style=\"color:cyan\"> |-tuner/bracket: 3</span>"
            ],
            "text/plain": [
              "<IPython.core.display.HTML object>"
            ]
          },
          "metadata": {
            "tags": []
          }
        },
        {
          "output_type": "display_data",
          "data": {
            "text/html": [
              "<span style=\"color:blue\"> |-tuner/epochs: 50</span>"
            ],
            "text/plain": [
              "<IPython.core.display.HTML object>"
            ]
          },
          "metadata": {
            "tags": []
          }
        },
        {
          "output_type": "display_data",
          "data": {
            "text/html": [
              "<span style=\"color:cyan\"> |-tuner/initial_epoch: 17</span>"
            ],
            "text/plain": [
              "<IPython.core.display.HTML object>"
            ]
          },
          "metadata": {
            "tags": []
          }
        },
        {
          "output_type": "display_data",
          "data": {
            "text/html": [
              "<span style=\"color:blue\"> |-tuner/round: 3</span>"
            ],
            "text/plain": [
              "<IPython.core.display.HTML object>"
            ]
          },
          "metadata": {
            "tags": []
          }
        },
        {
          "output_type": "display_data",
          "data": {
            "text/html": [
              "<span style=\"color:cyan\"> |-tuner/trial_id: 724a5bf8918db0fb35fca9b481abc6a2</span>"
            ],
            "text/plain": [
              "<IPython.core.display.HTML object>"
            ]
          },
          "metadata": {
            "tags": []
          }
        },
        {
          "output_type": "stream",
          "text": [
            "Epoch 18/50\n",
            "13/13 [==============================] - 1s 39ms/step - loss: 0.5004 - mae: 0.5103 - val_loss: 0.0456 - val_mae: 0.1795\n",
            "Epoch 19/50\n",
            "13/13 [==============================] - 0s 17ms/step - loss: 0.0815 - mae: 0.2200 - val_loss: 0.0435 - val_mae: 0.1494\n",
            "Epoch 20/50\n",
            "13/13 [==============================] - 0s 14ms/step - loss: 0.0398 - mae: 0.1461 - val_loss: 0.0449 - val_mae: 0.1584\n",
            "Epoch 21/50\n",
            "13/13 [==============================] - 0s 15ms/step - loss: 0.0276 - mae: 0.1223 - val_loss: 0.0310 - val_mae: 0.1272\n",
            "Epoch 22/50\n",
            "13/13 [==============================] - 0s 12ms/step - loss: 0.0234 - mae: 0.1098 - val_loss: 0.0345 - val_mae: 0.1336\n",
            "Epoch 23/50\n",
            "13/13 [==============================] - 0s 16ms/step - loss: 0.0180 - mae: 0.0940 - val_loss: 0.0297 - val_mae: 0.1239\n",
            "Epoch 24/50\n",
            "13/13 [==============================] - 0s 16ms/step - loss: 0.0150 - mae: 0.0879 - val_loss: 0.0289 - val_mae: 0.1215\n",
            "Epoch 25/50\n",
            "13/13 [==============================] - 0s 14ms/step - loss: 0.0178 - mae: 0.0949 - val_loss: 0.0312 - val_mae: 0.1282\n",
            "Epoch 26/50\n",
            "13/13 [==============================] - 0s 16ms/step - loss: 0.0167 - mae: 0.0930 - val_loss: 0.0259 - val_mae: 0.1158\n",
            "Epoch 27/50\n",
            "13/13 [==============================] - 0s 16ms/step - loss: 0.0190 - mae: 0.0973 - val_loss: 0.0240 - val_mae: 0.1117\n",
            "Epoch 28/50\n",
            "13/13 [==============================] - 0s 14ms/step - loss: 0.0179 - mae: 0.0953 - val_loss: 0.0296 - val_mae: 0.1248\n",
            "Epoch 29/50\n",
            "13/13 [==============================] - 0s 13ms/step - loss: 0.0150 - mae: 0.0896 - val_loss: 0.0247 - val_mae: 0.1130\n",
            "Epoch 30/50\n",
            "13/13 [==============================] - 0s 17ms/step - loss: 0.0159 - mae: 0.0925 - val_loss: 0.0215 - val_mae: 0.1051\n",
            "Epoch 31/50\n",
            "13/13 [==============================] - 0s 12ms/step - loss: 0.0167 - mae: 0.0920 - val_loss: 0.0332 - val_mae: 0.1404\n",
            "Epoch 32/50\n",
            "13/13 [==============================] - 0s 12ms/step - loss: 0.0168 - mae: 0.0943 - val_loss: 0.0296 - val_mae: 0.1363\n",
            "Epoch 33/50\n",
            "13/13 [==============================] - 0s 16ms/step - loss: 0.0152 - mae: 0.0913 - val_loss: 0.0175 - val_mae: 0.0965\n",
            "Epoch 34/50\n",
            "13/13 [==============================] - 0s 12ms/step - loss: 0.0193 - mae: 0.1032 - val_loss: 0.0177 - val_mae: 0.0966\n",
            "Epoch 35/50\n",
            "13/13 [==============================] - 0s 13ms/step - loss: 0.0176 - mae: 0.0934 - val_loss: 0.0271 - val_mae: 0.1294\n",
            "Epoch 36/50\n",
            "13/13 [==============================] - 0s 12ms/step - loss: 0.0160 - mae: 0.0936 - val_loss: 0.0265 - val_mae: 0.1293\n",
            "Epoch 37/50\n",
            "13/13 [==============================] - 0s 13ms/step - loss: 0.0195 - mae: 0.0958 - val_loss: 0.0185 - val_mae: 0.1008\n",
            "Epoch 38/50\n",
            "13/13 [==============================] - 0s 14ms/step - loss: 0.0133 - mae: 0.0860 - val_loss: 0.0239 - val_mae: 0.1224\n",
            "Epoch 18/50\n",
            "13/13 [==============================] - 0s 32ms/step - loss: 0.6841 - mae: 0.5585 - val_loss: 0.0444 - val_mae: 0.1562\n",
            "Epoch 19/50\n",
            "13/13 [==============================] - 0s 12ms/step - loss: 0.0614 - mae: 0.1900 - val_loss: 0.0580 - val_mae: 0.1781\n",
            "Epoch 20/50\n",
            "13/13 [==============================] - 0s 13ms/step - loss: 0.0362 - mae: 0.1377 - val_loss: 0.0455 - val_mae: 0.1584\n",
            "Epoch 21/50\n",
            "13/13 [==============================] - 0s 13ms/step - loss: 0.0285 - mae: 0.1270 - val_loss: 0.0396 - val_mae: 0.1469\n",
            "Epoch 22/50\n",
            "13/13 [==============================] - 0s 13ms/step - loss: 0.0255 - mae: 0.1122 - val_loss: 0.0355 - val_mae: 0.1354\n",
            "Epoch 23/50\n",
            "13/13 [==============================] - 0s 15ms/step - loss: 0.0234 - mae: 0.1115 - val_loss: 0.0255 - val_mae: 0.1165\n",
            "Epoch 24/50\n",
            "13/13 [==============================] - 0s 13ms/step - loss: 0.0235 - mae: 0.1112 - val_loss: 0.0261 - val_mae: 0.1176\n",
            "Epoch 25/50\n",
            "13/13 [==============================] - 0s 13ms/step - loss: 0.0223 - mae: 0.1097 - val_loss: 0.0250 - val_mae: 0.1146\n",
            "Epoch 26/50\n",
            "13/13 [==============================] - 0s 13ms/step - loss: 0.0206 - mae: 0.1066 - val_loss: 0.0233 - val_mae: 0.1107\n",
            "Epoch 27/50\n",
            "13/13 [==============================] - 0s 12ms/step - loss: 0.0184 - mae: 0.1032 - val_loss: 0.0244 - val_mae: 0.1140\n",
            "Epoch 28/50\n",
            "13/13 [==============================] - 0s 13ms/step - loss: 0.0153 - mae: 0.0882 - val_loss: 0.0210 - val_mae: 0.1045\n",
            "Epoch 29/50\n",
            "13/13 [==============================] - 0s 18ms/step - loss: 0.0191 - mae: 0.0988 - val_loss: 0.0170 - val_mae: 0.0948\n",
            "Epoch 30/50\n",
            "13/13 [==============================] - 0s 14ms/step - loss: 0.0191 - mae: 0.1017 - val_loss: 0.0236 - val_mae: 0.1107\n",
            "Epoch 31/50\n",
            "13/13 [==============================] - 0s 12ms/step - loss: 0.0181 - mae: 0.0963 - val_loss: 0.0239 - val_mae: 0.1130\n",
            "Epoch 32/50\n",
            "13/13 [==============================] - 0s 12ms/step - loss: 0.0163 - mae: 0.0921 - val_loss: 0.0306 - val_mae: 0.1334\n",
            "Epoch 33/50\n",
            "13/13 [==============================] - 0s 12ms/step - loss: 0.0134 - mae: 0.0820 - val_loss: 0.0229 - val_mae: 0.1116\n",
            "Epoch 34/50\n",
            "13/13 [==============================] - 0s 14ms/step - loss: 0.0142 - mae: 0.0859 - val_loss: 0.0215 - val_mae: 0.1094\n"
          ],
          "name": "stdout"
        },
        {
          "output_type": "display_data",
          "data": {
            "text/html": [
              "<span style=\"color:#4527A0\"><h1 style=\"font-size:18px\">Trial complete</h1></span>"
            ],
            "text/plain": [
              "<IPython.core.display.HTML object>"
            ]
          },
          "metadata": {
            "tags": []
          }
        },
        {
          "output_type": "display_data",
          "data": {
            "text/html": [
              "<span style=\"color:#4527A0\"><h1 style=\"font-size:18px\">Trial summary</h1></span>"
            ],
            "text/plain": [
              "<IPython.core.display.HTML object>"
            ]
          },
          "metadata": {
            "tags": []
          }
        },
        {
          "output_type": "display_data",
          "data": {
            "text/html": [
              "<span style=\"color:cyan\"> |-Trial ID: 735ad9acc8034498a5012d390f257efb</span>"
            ],
            "text/plain": [
              "<IPython.core.display.HTML object>"
            ]
          },
          "metadata": {
            "tags": []
          }
        },
        {
          "output_type": "display_data",
          "data": {
            "text/html": [
              "<span style=\"color:cyan\"> |-Score: 0.09564497694373131</span>"
            ],
            "text/plain": [
              "<IPython.core.display.HTML object>"
            ]
          },
          "metadata": {
            "tags": []
          }
        },
        {
          "output_type": "display_data",
          "data": {
            "text/html": [
              "<span style=\"color:cyan\"> |-Best step: 0</span>"
            ],
            "text/plain": [
              "<IPython.core.display.HTML object>"
            ]
          },
          "metadata": {
            "tags": []
          }
        },
        {
          "output_type": "display_data",
          "data": {
            "text/html": [
              "<span style=\"color:#7E57C2\"><h2 style=\"font-size:16px\">Hyperparameters:</h2></span>"
            ],
            "text/plain": [
              "<IPython.core.display.HTML object>"
            ]
          },
          "metadata": {
            "tags": []
          }
        },
        {
          "output_type": "display_data",
          "data": {
            "text/html": [
              "<span style=\"color:cyan\"> |-dense_0: 64</span>"
            ],
            "text/plain": [
              "<IPython.core.display.HTML object>"
            ]
          },
          "metadata": {
            "tags": []
          }
        },
        {
          "output_type": "display_data",
          "data": {
            "text/html": [
              "<span style=\"color:blue\"> |-dense_1: 64</span>"
            ],
            "text/plain": [
              "<IPython.core.display.HTML object>"
            ]
          },
          "metadata": {
            "tags": []
          }
        },
        {
          "output_type": "display_data",
          "data": {
            "text/html": [
              "<span style=\"color:cyan\"> |-dense_2: 32</span>"
            ],
            "text/plain": [
              "<IPython.core.display.HTML object>"
            ]
          },
          "metadata": {
            "tags": []
          }
        },
        {
          "output_type": "display_data",
          "data": {
            "text/html": [
              "<span style=\"color:blue\"> |-dense_input: 32</span>"
            ],
            "text/plain": [
              "<IPython.core.display.HTML object>"
            ]
          },
          "metadata": {
            "tags": []
          }
        },
        {
          "output_type": "display_data",
          "data": {
            "text/html": [
              "<span style=\"color:cyan\"> |-drop_0: 0.0</span>"
            ],
            "text/plain": [
              "<IPython.core.display.HTML object>"
            ]
          },
          "metadata": {
            "tags": []
          }
        },
        {
          "output_type": "display_data",
          "data": {
            "text/html": [
              "<span style=\"color:blue\"> |-drop_1: 0.0</span>"
            ],
            "text/plain": [
              "<IPython.core.display.HTML object>"
            ]
          },
          "metadata": {
            "tags": []
          }
        },
        {
          "output_type": "display_data",
          "data": {
            "text/html": [
              "<span style=\"color:cyan\"> |-drop_2: 0.0</span>"
            ],
            "text/plain": [
              "<IPython.core.display.HTML object>"
            ]
          },
          "metadata": {
            "tags": []
          }
        },
        {
          "output_type": "display_data",
          "data": {
            "text/html": [
              "<span style=\"color:blue\"> |-drop_input: 0.2</span>"
            ],
            "text/plain": [
              "<IPython.core.display.HTML object>"
            ]
          },
          "metadata": {
            "tags": []
          }
        },
        {
          "output_type": "display_data",
          "data": {
            "text/html": [
              "<span style=\"color:cyan\"> |-lr: 0.008079775183819825</span>"
            ],
            "text/plain": [
              "<IPython.core.display.HTML object>"
            ]
          },
          "metadata": {
            "tags": []
          }
        },
        {
          "output_type": "display_data",
          "data": {
            "text/html": [
              "<span style=\"color:blue\"> |-num_intermediate_layers: 3</span>"
            ],
            "text/plain": [
              "<IPython.core.display.HTML object>"
            ]
          },
          "metadata": {
            "tags": []
          }
        },
        {
          "output_type": "display_data",
          "data": {
            "text/html": [
              "<span style=\"color:cyan\"> |-tuner/bracket: 3</span>"
            ],
            "text/plain": [
              "<IPython.core.display.HTML object>"
            ]
          },
          "metadata": {
            "tags": []
          }
        },
        {
          "output_type": "display_data",
          "data": {
            "text/html": [
              "<span style=\"color:blue\"> |-tuner/epochs: 50</span>"
            ],
            "text/plain": [
              "<IPython.core.display.HTML object>"
            ]
          },
          "metadata": {
            "tags": []
          }
        },
        {
          "output_type": "display_data",
          "data": {
            "text/html": [
              "<span style=\"color:cyan\"> |-tuner/initial_epoch: 17</span>"
            ],
            "text/plain": [
              "<IPython.core.display.HTML object>"
            ]
          },
          "metadata": {
            "tags": []
          }
        },
        {
          "output_type": "display_data",
          "data": {
            "text/html": [
              "<span style=\"color:blue\"> |-tuner/round: 3</span>"
            ],
            "text/plain": [
              "<IPython.core.display.HTML object>"
            ]
          },
          "metadata": {
            "tags": []
          }
        },
        {
          "output_type": "display_data",
          "data": {
            "text/html": [
              "<span style=\"color:cyan\"> |-tuner/trial_id: 9acce973dc88d56400cd15c32252748c</span>"
            ],
            "text/plain": [
              "<IPython.core.display.HTML object>"
            ]
          },
          "metadata": {
            "tags": []
          }
        },
        {
          "output_type": "stream",
          "text": [
            "Epoch 1/6\n",
            "13/13 [==============================] - 0s 33ms/step - loss: 1.1103 - mae: 0.8036 - val_loss: 0.0334 - val_mae: 0.1414\n",
            "Epoch 2/6\n",
            "13/13 [==============================] - 0s 11ms/step - loss: 0.5230 - mae: 0.5562 - val_loss: 0.0434 - val_mae: 0.1496\n",
            "Epoch 3/6\n",
            "13/13 [==============================] - 0s 12ms/step - loss: 0.3322 - mae: 0.4432 - val_loss: 0.0451 - val_mae: 0.1603\n",
            "Epoch 4/6\n",
            "13/13 [==============================] - 0s 11ms/step - loss: 0.2806 - mae: 0.4031 - val_loss: 0.0528 - val_mae: 0.1774\n",
            "Epoch 5/6\n",
            "13/13 [==============================] - 0s 13ms/step - loss: 0.2675 - mae: 0.3737 - val_loss: 0.0438 - val_mae: 0.1547\n",
            "Epoch 6/6\n",
            "13/13 [==============================] - 0s 11ms/step - loss: 0.1746 - mae: 0.3087 - val_loss: 0.0488 - val_mae: 0.1708\n",
            "Epoch 1/6\n",
            "13/13 [==============================] - 0s 29ms/step - loss: 1.2888 - mae: 0.8833 - val_loss: 0.0408 - val_mae: 0.1464\n",
            "Epoch 2/6\n",
            "13/13 [==============================] - 0s 11ms/step - loss: 0.6796 - mae: 0.6282 - val_loss: 0.0393 - val_mae: 0.1441\n",
            "Epoch 3/6\n",
            "13/13 [==============================] - 0s 11ms/step - loss: 0.4277 - mae: 0.5052 - val_loss: 0.0425 - val_mae: 0.1533\n",
            "Epoch 4/6\n",
            "13/13 [==============================] - 0s 11ms/step - loss: 0.3208 - mae: 0.4228 - val_loss: 0.0435 - val_mae: 0.1547\n",
            "Epoch 5/6\n",
            "13/13 [==============================] - 0s 14ms/step - loss: 0.2577 - mae: 0.3835 - val_loss: 0.0351 - val_mae: 0.1346\n",
            "Epoch 6/6\n",
            "13/13 [==============================] - 0s 23ms/step - loss: 0.2216 - mae: 0.3607 - val_loss: 0.0353 - val_mae: 0.1339\n"
          ],
          "name": "stdout"
        },
        {
          "output_type": "display_data",
          "data": {
            "text/html": [
              "<span style=\"color:#4527A0\"><h1 style=\"font-size:18px\">Trial complete</h1></span>"
            ],
            "text/plain": [
              "<IPython.core.display.HTML object>"
            ]
          },
          "metadata": {
            "tags": []
          }
        },
        {
          "output_type": "display_data",
          "data": {
            "text/html": [
              "<span style=\"color:#4527A0\"><h1 style=\"font-size:18px\">Trial summary</h1></span>"
            ],
            "text/plain": [
              "<IPython.core.display.HTML object>"
            ]
          },
          "metadata": {
            "tags": []
          }
        },
        {
          "output_type": "display_data",
          "data": {
            "text/html": [
              "<span style=\"color:cyan\"> |-Trial ID: fbd401554124e57fe209c8d2f97794f6</span>"
            ],
            "text/plain": [
              "<IPython.core.display.HTML object>"
            ]
          },
          "metadata": {
            "tags": []
          }
        },
        {
          "output_type": "display_data",
          "data": {
            "text/html": [
              "<span style=\"color:cyan\"> |-Score: 0.13768044114112854</span>"
            ],
            "text/plain": [
              "<IPython.core.display.HTML object>"
            ]
          },
          "metadata": {
            "tags": []
          }
        },
        {
          "output_type": "display_data",
          "data": {
            "text/html": [
              "<span style=\"color:cyan\"> |-Best step: 0</span>"
            ],
            "text/plain": [
              "<IPython.core.display.HTML object>"
            ]
          },
          "metadata": {
            "tags": []
          }
        },
        {
          "output_type": "display_data",
          "data": {
            "text/html": [
              "<span style=\"color:#7E57C2\"><h2 style=\"font-size:16px\">Hyperparameters:</h2></span>"
            ],
            "text/plain": [
              "<IPython.core.display.HTML object>"
            ]
          },
          "metadata": {
            "tags": []
          }
        },
        {
          "output_type": "display_data",
          "data": {
            "text/html": [
              "<span style=\"color:cyan\"> |-dense_0: 64</span>"
            ],
            "text/plain": [
              "<IPython.core.display.HTML object>"
            ]
          },
          "metadata": {
            "tags": []
          }
        },
        {
          "output_type": "display_data",
          "data": {
            "text/html": [
              "<span style=\"color:blue\"> |-dense_1: 96</span>"
            ],
            "text/plain": [
              "<IPython.core.display.HTML object>"
            ]
          },
          "metadata": {
            "tags": []
          }
        },
        {
          "output_type": "display_data",
          "data": {
            "text/html": [
              "<span style=\"color:cyan\"> |-dense_2: 64</span>"
            ],
            "text/plain": [
              "<IPython.core.display.HTML object>"
            ]
          },
          "metadata": {
            "tags": []
          }
        },
        {
          "output_type": "display_data",
          "data": {
            "text/html": [
              "<span style=\"color:blue\"> |-dense_input: 128</span>"
            ],
            "text/plain": [
              "<IPython.core.display.HTML object>"
            ]
          },
          "metadata": {
            "tags": []
          }
        },
        {
          "output_type": "display_data",
          "data": {
            "text/html": [
              "<span style=\"color:cyan\"> |-drop_0: 0.30000000000000004</span>"
            ],
            "text/plain": [
              "<IPython.core.display.HTML object>"
            ]
          },
          "metadata": {
            "tags": []
          }
        },
        {
          "output_type": "display_data",
          "data": {
            "text/html": [
              "<span style=\"color:blue\"> |-drop_1: 0.2</span>"
            ],
            "text/plain": [
              "<IPython.core.display.HTML object>"
            ]
          },
          "metadata": {
            "tags": []
          }
        },
        {
          "output_type": "display_data",
          "data": {
            "text/html": [
              "<span style=\"color:cyan\"> |-drop_2: 0.2</span>"
            ],
            "text/plain": [
              "<IPython.core.display.HTML object>"
            ]
          },
          "metadata": {
            "tags": []
          }
        },
        {
          "output_type": "display_data",
          "data": {
            "text/html": [
              "<span style=\"color:blue\"> |-drop_input: 0.30000000000000004</span>"
            ],
            "text/plain": [
              "<IPython.core.display.HTML object>"
            ]
          },
          "metadata": {
            "tags": []
          }
        },
        {
          "output_type": "display_data",
          "data": {
            "text/html": [
              "<span style=\"color:cyan\"> |-lr: 0.0038430249231104093</span>"
            ],
            "text/plain": [
              "<IPython.core.display.HTML object>"
            ]
          },
          "metadata": {
            "tags": []
          }
        },
        {
          "output_type": "display_data",
          "data": {
            "text/html": [
              "<span style=\"color:blue\"> |-num_intermediate_layers: 2</span>"
            ],
            "text/plain": [
              "<IPython.core.display.HTML object>"
            ]
          },
          "metadata": {
            "tags": []
          }
        },
        {
          "output_type": "display_data",
          "data": {
            "text/html": [
              "<span style=\"color:cyan\"> |-tuner/bracket: 2</span>"
            ],
            "text/plain": [
              "<IPython.core.display.HTML object>"
            ]
          },
          "metadata": {
            "tags": []
          }
        },
        {
          "output_type": "display_data",
          "data": {
            "text/html": [
              "<span style=\"color:blue\"> |-tuner/epochs: 6</span>"
            ],
            "text/plain": [
              "<IPython.core.display.HTML object>"
            ]
          },
          "metadata": {
            "tags": []
          }
        },
        {
          "output_type": "display_data",
          "data": {
            "text/html": [
              "<span style=\"color:cyan\"> |-tuner/initial_epoch: 0</span>"
            ],
            "text/plain": [
              "<IPython.core.display.HTML object>"
            ]
          },
          "metadata": {
            "tags": []
          }
        },
        {
          "output_type": "display_data",
          "data": {
            "text/html": [
              "<span style=\"color:blue\"> |-tuner/round: 0</span>"
            ],
            "text/plain": [
              "<IPython.core.display.HTML object>"
            ]
          },
          "metadata": {
            "tags": []
          }
        },
        {
          "output_type": "stream",
          "text": [
            "Epoch 1/6\n",
            "13/13 [==============================] - 0s 33ms/step - loss: 0.9164 - mae: 0.7541 - val_loss: 0.1337 - val_mae: 0.3050\n",
            "Epoch 2/6\n",
            "13/13 [==============================] - 0s 14ms/step - loss: 0.5722 - mae: 0.5907 - val_loss: 0.1091 - val_mae: 0.2725\n",
            "Epoch 3/6\n",
            "13/13 [==============================] - 0s 13ms/step - loss: 0.5180 - mae: 0.5453 - val_loss: 0.0903 - val_mae: 0.2457\n",
            "Epoch 4/6\n",
            "13/13 [==============================] - 0s 14ms/step - loss: 0.3653 - mae: 0.4744 - val_loss: 0.0744 - val_mae: 0.2196\n",
            "Epoch 5/6\n",
            "13/13 [==============================] - 0s 14ms/step - loss: 0.3841 - mae: 0.4834 - val_loss: 0.0552 - val_mae: 0.1819\n",
            "Epoch 6/6\n",
            "13/13 [==============================] - 0s 11ms/step - loss: 0.3397 - mae: 0.4566 - val_loss: 0.0567 - val_mae: 0.1886\n",
            "Epoch 1/6\n",
            "13/13 [==============================] - 0s 32ms/step - loss: 0.9735 - mae: 0.7777 - val_loss: 0.2242 - val_mae: 0.4190\n",
            "Epoch 2/6\n",
            "13/13 [==============================] - 0s 13ms/step - loss: 0.6910 - mae: 0.6622 - val_loss: 0.1356 - val_mae: 0.3115\n",
            "Epoch 3/6\n",
            "13/13 [==============================] - 0s 16ms/step - loss: 0.5678 - mae: 0.5956 - val_loss: 0.1290 - val_mae: 0.3015\n",
            "Epoch 4/6\n",
            "13/13 [==============================] - 0s 14ms/step - loss: 0.4270 - mae: 0.5054 - val_loss: 0.1183 - val_mae: 0.2871\n",
            "Epoch 5/6\n",
            "13/13 [==============================] - 0s 12ms/step - loss: 0.3262 - mae: 0.4228 - val_loss: 0.0797 - val_mae: 0.2314\n",
            "Epoch 6/6\n",
            "13/13 [==============================] - 0s 11ms/step - loss: 0.3144 - mae: 0.4215 - val_loss: 0.0643 - val_mae: 0.2058\n"
          ],
          "name": "stdout"
        },
        {
          "output_type": "display_data",
          "data": {
            "text/html": [
              "<span style=\"color:#4527A0\"><h1 style=\"font-size:18px\">Trial complete</h1></span>"
            ],
            "text/plain": [
              "<IPython.core.display.HTML object>"
            ]
          },
          "metadata": {
            "tags": []
          }
        },
        {
          "output_type": "display_data",
          "data": {
            "text/html": [
              "<span style=\"color:#4527A0\"><h1 style=\"font-size:18px\">Trial summary</h1></span>"
            ],
            "text/plain": [
              "<IPython.core.display.HTML object>"
            ]
          },
          "metadata": {
            "tags": []
          }
        },
        {
          "output_type": "display_data",
          "data": {
            "text/html": [
              "<span style=\"color:cyan\"> |-Trial ID: 579fce0e3ad87d13db3328e309133fcc</span>"
            ],
            "text/plain": [
              "<IPython.core.display.HTML object>"
            ]
          },
          "metadata": {
            "tags": []
          }
        },
        {
          "output_type": "display_data",
          "data": {
            "text/html": [
              "<span style=\"color:cyan\"> |-Score: 0.19382642209529877</span>"
            ],
            "text/plain": [
              "<IPython.core.display.HTML object>"
            ]
          },
          "metadata": {
            "tags": []
          }
        },
        {
          "output_type": "display_data",
          "data": {
            "text/html": [
              "<span style=\"color:cyan\"> |-Best step: 0</span>"
            ],
            "text/plain": [
              "<IPython.core.display.HTML object>"
            ]
          },
          "metadata": {
            "tags": []
          }
        },
        {
          "output_type": "display_data",
          "data": {
            "text/html": [
              "<span style=\"color:#7E57C2\"><h2 style=\"font-size:16px\">Hyperparameters:</h2></span>"
            ],
            "text/plain": [
              "<IPython.core.display.HTML object>"
            ]
          },
          "metadata": {
            "tags": []
          }
        },
        {
          "output_type": "display_data",
          "data": {
            "text/html": [
              "<span style=\"color:cyan\"> |-dense_0: 96</span>"
            ],
            "text/plain": [
              "<IPython.core.display.HTML object>"
            ]
          },
          "metadata": {
            "tags": []
          }
        },
        {
          "output_type": "display_data",
          "data": {
            "text/html": [
              "<span style=\"color:blue\"> |-dense_1: 64</span>"
            ],
            "text/plain": [
              "<IPython.core.display.HTML object>"
            ]
          },
          "metadata": {
            "tags": []
          }
        },
        {
          "output_type": "display_data",
          "data": {
            "text/html": [
              "<span style=\"color:cyan\"> |-dense_2: 64</span>"
            ],
            "text/plain": [
              "<IPython.core.display.HTML object>"
            ]
          },
          "metadata": {
            "tags": []
          }
        },
        {
          "output_type": "display_data",
          "data": {
            "text/html": [
              "<span style=\"color:blue\"> |-dense_input: 96</span>"
            ],
            "text/plain": [
              "<IPython.core.display.HTML object>"
            ]
          },
          "metadata": {
            "tags": []
          }
        },
        {
          "output_type": "display_data",
          "data": {
            "text/html": [
              "<span style=\"color:cyan\"> |-drop_0: 0.30000000000000004</span>"
            ],
            "text/plain": [
              "<IPython.core.display.HTML object>"
            ]
          },
          "metadata": {
            "tags": []
          }
        },
        {
          "output_type": "display_data",
          "data": {
            "text/html": [
              "<span style=\"color:blue\"> |-drop_1: 0.1</span>"
            ],
            "text/plain": [
              "<IPython.core.display.HTML object>"
            ]
          },
          "metadata": {
            "tags": []
          }
        },
        {
          "output_type": "display_data",
          "data": {
            "text/html": [
              "<span style=\"color:cyan\"> |-drop_2: 0.30000000000000004</span>"
            ],
            "text/plain": [
              "<IPython.core.display.HTML object>"
            ]
          },
          "metadata": {
            "tags": []
          }
        },
        {
          "output_type": "display_data",
          "data": {
            "text/html": [
              "<span style=\"color:blue\"> |-drop_input: 0.2</span>"
            ],
            "text/plain": [
              "<IPython.core.display.HTML object>"
            ]
          },
          "metadata": {
            "tags": []
          }
        },
        {
          "output_type": "display_data",
          "data": {
            "text/html": [
              "<span style=\"color:cyan\"> |-lr: 0.0005708505552507687</span>"
            ],
            "text/plain": [
              "<IPython.core.display.HTML object>"
            ]
          },
          "metadata": {
            "tags": []
          }
        },
        {
          "output_type": "display_data",
          "data": {
            "text/html": [
              "<span style=\"color:blue\"> |-num_intermediate_layers: 2</span>"
            ],
            "text/plain": [
              "<IPython.core.display.HTML object>"
            ]
          },
          "metadata": {
            "tags": []
          }
        },
        {
          "output_type": "display_data",
          "data": {
            "text/html": [
              "<span style=\"color:cyan\"> |-tuner/bracket: 2</span>"
            ],
            "text/plain": [
              "<IPython.core.display.HTML object>"
            ]
          },
          "metadata": {
            "tags": []
          }
        },
        {
          "output_type": "display_data",
          "data": {
            "text/html": [
              "<span style=\"color:blue\"> |-tuner/epochs: 6</span>"
            ],
            "text/plain": [
              "<IPython.core.display.HTML object>"
            ]
          },
          "metadata": {
            "tags": []
          }
        },
        {
          "output_type": "display_data",
          "data": {
            "text/html": [
              "<span style=\"color:cyan\"> |-tuner/initial_epoch: 0</span>"
            ],
            "text/plain": [
              "<IPython.core.display.HTML object>"
            ]
          },
          "metadata": {
            "tags": []
          }
        },
        {
          "output_type": "display_data",
          "data": {
            "text/html": [
              "<span style=\"color:blue\"> |-tuner/round: 0</span>"
            ],
            "text/plain": [
              "<IPython.core.display.HTML object>"
            ]
          },
          "metadata": {
            "tags": []
          }
        },
        {
          "output_type": "stream",
          "text": [
            "Epoch 1/6\n",
            "13/13 [==============================] - 0s 32ms/step - loss: 1.1322 - mae: 0.8068 - val_loss: 0.1025 - val_mae: 0.2648\n",
            "Epoch 2/6\n",
            "13/13 [==============================] - 0s 14ms/step - loss: 0.5655 - mae: 0.5651 - val_loss: 0.0576 - val_mae: 0.1866\n",
            "Epoch 3/6\n",
            "13/13 [==============================] - 0s 14ms/step - loss: 0.3577 - mae: 0.4510 - val_loss: 0.0486 - val_mae: 0.1631\n",
            "Epoch 4/6\n",
            "13/13 [==============================] - 0s 14ms/step - loss: 0.2776 - mae: 0.3965 - val_loss: 0.0333 - val_mae: 0.1294\n",
            "Epoch 5/6\n",
            "13/13 [==============================] - 0s 12ms/step - loss: 0.2936 - mae: 0.4101 - val_loss: 0.0453 - val_mae: 0.1557\n",
            "Epoch 6/6\n",
            "13/13 [==============================] - 0s 11ms/step - loss: 0.2361 - mae: 0.3761 - val_loss: 0.0371 - val_mae: 0.1383\n",
            "Epoch 1/6\n",
            "13/13 [==============================] - 1s 39ms/step - loss: 1.5909 - mae: 0.9348 - val_loss: 0.1537 - val_mae: 0.3449\n",
            "Epoch 2/6\n",
            "13/13 [==============================] - 0s 12ms/step - loss: 0.6218 - mae: 0.6126 - val_loss: 0.0747 - val_mae: 0.2098\n",
            "Epoch 3/6\n",
            "13/13 [==============================] - 0s 12ms/step - loss: 0.4745 - mae: 0.5379 - val_loss: 0.0452 - val_mae: 0.1535\n",
            "Epoch 4/6\n",
            "13/13 [==============================] - 0s 11ms/step - loss: 0.2942 - mae: 0.4127 - val_loss: 0.0401 - val_mae: 0.1466\n",
            "Epoch 5/6\n",
            "13/13 [==============================] - 0s 12ms/step - loss: 0.2571 - mae: 0.3840 - val_loss: 0.0388 - val_mae: 0.1416\n",
            "Epoch 6/6\n",
            "13/13 [==============================] - 0s 12ms/step - loss: 0.2970 - mae: 0.4203 - val_loss: 0.0433 - val_mae: 0.1503\n"
          ],
          "name": "stdout"
        },
        {
          "output_type": "display_data",
          "data": {
            "text/html": [
              "<span style=\"color:#4527A0\"><h1 style=\"font-size:18px\">Trial complete</h1></span>"
            ],
            "text/plain": [
              "<IPython.core.display.HTML object>"
            ]
          },
          "metadata": {
            "tags": []
          }
        },
        {
          "output_type": "display_data",
          "data": {
            "text/html": [
              "<span style=\"color:#4527A0\"><h1 style=\"font-size:18px\">Trial summary</h1></span>"
            ],
            "text/plain": [
              "<IPython.core.display.HTML object>"
            ]
          },
          "metadata": {
            "tags": []
          }
        },
        {
          "output_type": "display_data",
          "data": {
            "text/html": [
              "<span style=\"color:cyan\"> |-Trial ID: 883f06e1eeca06dab47742e0abf25378</span>"
            ],
            "text/plain": [
              "<IPython.core.display.HTML object>"
            ]
          },
          "metadata": {
            "tags": []
          }
        },
        {
          "output_type": "display_data",
          "data": {
            "text/html": [
              "<span style=\"color:cyan\"> |-Score: 0.1355263963341713</span>"
            ],
            "text/plain": [
              "<IPython.core.display.HTML object>"
            ]
          },
          "metadata": {
            "tags": []
          }
        },
        {
          "output_type": "display_data",
          "data": {
            "text/html": [
              "<span style=\"color:cyan\"> |-Best step: 0</span>"
            ],
            "text/plain": [
              "<IPython.core.display.HTML object>"
            ]
          },
          "metadata": {
            "tags": []
          }
        },
        {
          "output_type": "display_data",
          "data": {
            "text/html": [
              "<span style=\"color:#7E57C2\"><h2 style=\"font-size:16px\">Hyperparameters:</h2></span>"
            ],
            "text/plain": [
              "<IPython.core.display.HTML object>"
            ]
          },
          "metadata": {
            "tags": []
          }
        },
        {
          "output_type": "display_data",
          "data": {
            "text/html": [
              "<span style=\"color:cyan\"> |-dense_0: 64</span>"
            ],
            "text/plain": [
              "<IPython.core.display.HTML object>"
            ]
          },
          "metadata": {
            "tags": []
          }
        },
        {
          "output_type": "display_data",
          "data": {
            "text/html": [
              "<span style=\"color:blue\"> |-dense_1: 128</span>"
            ],
            "text/plain": [
              "<IPython.core.display.HTML object>"
            ]
          },
          "metadata": {
            "tags": []
          }
        },
        {
          "output_type": "display_data",
          "data": {
            "text/html": [
              "<span style=\"color:cyan\"> |-dense_2: 64</span>"
            ],
            "text/plain": [
              "<IPython.core.display.HTML object>"
            ]
          },
          "metadata": {
            "tags": []
          }
        },
        {
          "output_type": "display_data",
          "data": {
            "text/html": [
              "<span style=\"color:blue\"> |-dense_input: 96</span>"
            ],
            "text/plain": [
              "<IPython.core.display.HTML object>"
            ]
          },
          "metadata": {
            "tags": []
          }
        },
        {
          "output_type": "display_data",
          "data": {
            "text/html": [
              "<span style=\"color:cyan\"> |-drop_0: 0.30000000000000004</span>"
            ],
            "text/plain": [
              "<IPython.core.display.HTML object>"
            ]
          },
          "metadata": {
            "tags": []
          }
        },
        {
          "output_type": "display_data",
          "data": {
            "text/html": [
              "<span style=\"color:blue\"> |-drop_1: 0.1</span>"
            ],
            "text/plain": [
              "<IPython.core.display.HTML object>"
            ]
          },
          "metadata": {
            "tags": []
          }
        },
        {
          "output_type": "display_data",
          "data": {
            "text/html": [
              "<span style=\"color:cyan\"> |-drop_2: 0.1</span>"
            ],
            "text/plain": [
              "<IPython.core.display.HTML object>"
            ]
          },
          "metadata": {
            "tags": []
          }
        },
        {
          "output_type": "display_data",
          "data": {
            "text/html": [
              "<span style=\"color:blue\"> |-drop_input: 0.1</span>"
            ],
            "text/plain": [
              "<IPython.core.display.HTML object>"
            ]
          },
          "metadata": {
            "tags": []
          }
        },
        {
          "output_type": "display_data",
          "data": {
            "text/html": [
              "<span style=\"color:cyan\"> |-lr: 0.0008461805202357872</span>"
            ],
            "text/plain": [
              "<IPython.core.display.HTML object>"
            ]
          },
          "metadata": {
            "tags": []
          }
        },
        {
          "output_type": "display_data",
          "data": {
            "text/html": [
              "<span style=\"color:blue\"> |-num_intermediate_layers: 2</span>"
            ],
            "text/plain": [
              "<IPython.core.display.HTML object>"
            ]
          },
          "metadata": {
            "tags": []
          }
        },
        {
          "output_type": "display_data",
          "data": {
            "text/html": [
              "<span style=\"color:cyan\"> |-tuner/bracket: 2</span>"
            ],
            "text/plain": [
              "<IPython.core.display.HTML object>"
            ]
          },
          "metadata": {
            "tags": []
          }
        },
        {
          "output_type": "display_data",
          "data": {
            "text/html": [
              "<span style=\"color:blue\"> |-tuner/epochs: 6</span>"
            ],
            "text/plain": [
              "<IPython.core.display.HTML object>"
            ]
          },
          "metadata": {
            "tags": []
          }
        },
        {
          "output_type": "display_data",
          "data": {
            "text/html": [
              "<span style=\"color:cyan\"> |-tuner/initial_epoch: 0</span>"
            ],
            "text/plain": [
              "<IPython.core.display.HTML object>"
            ]
          },
          "metadata": {
            "tags": []
          }
        },
        {
          "output_type": "display_data",
          "data": {
            "text/html": [
              "<span style=\"color:blue\"> |-tuner/round: 0</span>"
            ],
            "text/plain": [
              "<IPython.core.display.HTML object>"
            ]
          },
          "metadata": {
            "tags": []
          }
        },
        {
          "output_type": "stream",
          "text": [
            "Epoch 1/6\n",
            "13/13 [==============================] - 0s 34ms/step - loss: 1.3942 - mae: 0.8787 - val_loss: 0.0448 - val_mae: 0.1610\n",
            "Epoch 2/6\n",
            "13/13 [==============================] - 0s 11ms/step - loss: 0.5138 - mae: 0.5312 - val_loss: 0.0873 - val_mae: 0.2354\n",
            "Epoch 3/6\n",
            "13/13 [==============================] - 0s 11ms/step - loss: 0.2738 - mae: 0.3858 - val_loss: 0.0563 - val_mae: 0.1767\n",
            "Epoch 4/6\n",
            "13/13 [==============================] - 0s 14ms/step - loss: 0.2255 - mae: 0.3433 - val_loss: 0.0272 - val_mae: 0.1154\n",
            "Epoch 5/6\n",
            "13/13 [==============================] - 0s 11ms/step - loss: 0.1357 - mae: 0.2672 - val_loss: 0.0385 - val_mae: 0.1440\n",
            "Epoch 6/6\n",
            "13/13 [==============================] - 0s 13ms/step - loss: 0.1152 - mae: 0.2449 - val_loss: 0.0395 - val_mae: 0.1479\n",
            "Epoch 1/6\n",
            "13/13 [==============================] - 0s 31ms/step - loss: 1.6964 - mae: 0.9968 - val_loss: 0.1636 - val_mae: 0.3499\n",
            "Epoch 2/6\n",
            "13/13 [==============================] - 0s 11ms/step - loss: 0.6667 - mae: 0.6105 - val_loss: 0.0397 - val_mae: 0.1422\n",
            "Epoch 3/6\n",
            "13/13 [==============================] - 0s 11ms/step - loss: 0.2485 - mae: 0.3825 - val_loss: 0.0380 - val_mae: 0.1368\n",
            "Epoch 4/6\n",
            "13/13 [==============================] - 0s 11ms/step - loss: 0.2090 - mae: 0.3521 - val_loss: 0.0282 - val_mae: 0.1234\n",
            "Epoch 5/6\n",
            "13/13 [==============================] - 0s 12ms/step - loss: 0.1695 - mae: 0.3116 - val_loss: 0.0395 - val_mae: 0.1482\n",
            "Epoch 6/6\n",
            "13/13 [==============================] - 0s 11ms/step - loss: 0.1334 - mae: 0.2785 - val_loss: 0.0311 - val_mae: 0.1255\n"
          ],
          "name": "stdout"
        },
        {
          "output_type": "display_data",
          "data": {
            "text/html": [
              "<span style=\"color:#4527A0\"><h1 style=\"font-size:18px\">Trial complete</h1></span>"
            ],
            "text/plain": [
              "<IPython.core.display.HTML object>"
            ]
          },
          "metadata": {
            "tags": []
          }
        },
        {
          "output_type": "display_data",
          "data": {
            "text/html": [
              "<span style=\"color:#4527A0\"><h1 style=\"font-size:18px\">Trial summary</h1></span>"
            ],
            "text/plain": [
              "<IPython.core.display.HTML object>"
            ]
          },
          "metadata": {
            "tags": []
          }
        },
        {
          "output_type": "display_data",
          "data": {
            "text/html": [
              "<span style=\"color:cyan\"> |-Trial ID: 46affa3227ab4f67bdc4a73f922f9c29</span>"
            ],
            "text/plain": [
              "<IPython.core.display.HTML object>"
            ]
          },
          "metadata": {
            "tags": []
          }
        },
        {
          "output_type": "display_data",
          "data": {
            "text/html": [
              "<span style=\"color:cyan\"> |-Score: 0.11940223351120949</span>"
            ],
            "text/plain": [
              "<IPython.core.display.HTML object>"
            ]
          },
          "metadata": {
            "tags": []
          }
        },
        {
          "output_type": "display_data",
          "data": {
            "text/html": [
              "<span style=\"color:cyan\"> |-Best step: 0</span>"
            ],
            "text/plain": [
              "<IPython.core.display.HTML object>"
            ]
          },
          "metadata": {
            "tags": []
          }
        },
        {
          "output_type": "display_data",
          "data": {
            "text/html": [
              "<span style=\"color:#7E57C2\"><h2 style=\"font-size:16px\">Hyperparameters:</h2></span>"
            ],
            "text/plain": [
              "<IPython.core.display.HTML object>"
            ]
          },
          "metadata": {
            "tags": []
          }
        },
        {
          "output_type": "display_data",
          "data": {
            "text/html": [
              "<span style=\"color:cyan\"> |-dense_0: 96</span>"
            ],
            "text/plain": [
              "<IPython.core.display.HTML object>"
            ]
          },
          "metadata": {
            "tags": []
          }
        },
        {
          "output_type": "display_data",
          "data": {
            "text/html": [
              "<span style=\"color:blue\"> |-dense_1: 64</span>"
            ],
            "text/plain": [
              "<IPython.core.display.HTML object>"
            ]
          },
          "metadata": {
            "tags": []
          }
        },
        {
          "output_type": "display_data",
          "data": {
            "text/html": [
              "<span style=\"color:cyan\"> |-dense_2: 64</span>"
            ],
            "text/plain": [
              "<IPython.core.display.HTML object>"
            ]
          },
          "metadata": {
            "tags": []
          }
        },
        {
          "output_type": "display_data",
          "data": {
            "text/html": [
              "<span style=\"color:blue\"> |-dense_input: 64</span>"
            ],
            "text/plain": [
              "<IPython.core.display.HTML object>"
            ]
          },
          "metadata": {
            "tags": []
          }
        },
        {
          "output_type": "display_data",
          "data": {
            "text/html": [
              "<span style=\"color:cyan\"> |-drop_0: 0.2</span>"
            ],
            "text/plain": [
              "<IPython.core.display.HTML object>"
            ]
          },
          "metadata": {
            "tags": []
          }
        },
        {
          "output_type": "display_data",
          "data": {
            "text/html": [
              "<span style=\"color:blue\"> |-drop_1: 0.2</span>"
            ],
            "text/plain": [
              "<IPython.core.display.HTML object>"
            ]
          },
          "metadata": {
            "tags": []
          }
        },
        {
          "output_type": "display_data",
          "data": {
            "text/html": [
              "<span style=\"color:cyan\"> |-drop_2: 0.1</span>"
            ],
            "text/plain": [
              "<IPython.core.display.HTML object>"
            ]
          },
          "metadata": {
            "tags": []
          }
        },
        {
          "output_type": "display_data",
          "data": {
            "text/html": [
              "<span style=\"color:blue\"> |-drop_input: 0.1</span>"
            ],
            "text/plain": [
              "<IPython.core.display.HTML object>"
            ]
          },
          "metadata": {
            "tags": []
          }
        },
        {
          "output_type": "display_data",
          "data": {
            "text/html": [
              "<span style=\"color:cyan\"> |-lr: 0.00736437579965411</span>"
            ],
            "text/plain": [
              "<IPython.core.display.HTML object>"
            ]
          },
          "metadata": {
            "tags": []
          }
        },
        {
          "output_type": "display_data",
          "data": {
            "text/html": [
              "<span style=\"color:blue\"> |-num_intermediate_layers: 2</span>"
            ],
            "text/plain": [
              "<IPython.core.display.HTML object>"
            ]
          },
          "metadata": {
            "tags": []
          }
        },
        {
          "output_type": "display_data",
          "data": {
            "text/html": [
              "<span style=\"color:cyan\"> |-tuner/bracket: 2</span>"
            ],
            "text/plain": [
              "<IPython.core.display.HTML object>"
            ]
          },
          "metadata": {
            "tags": []
          }
        },
        {
          "output_type": "display_data",
          "data": {
            "text/html": [
              "<span style=\"color:blue\"> |-tuner/epochs: 6</span>"
            ],
            "text/plain": [
              "<IPython.core.display.HTML object>"
            ]
          },
          "metadata": {
            "tags": []
          }
        },
        {
          "output_type": "display_data",
          "data": {
            "text/html": [
              "<span style=\"color:cyan\"> |-tuner/initial_epoch: 0</span>"
            ],
            "text/plain": [
              "<IPython.core.display.HTML object>"
            ]
          },
          "metadata": {
            "tags": []
          }
        },
        {
          "output_type": "display_data",
          "data": {
            "text/html": [
              "<span style=\"color:blue\"> |-tuner/round: 0</span>"
            ],
            "text/plain": [
              "<IPython.core.display.HTML object>"
            ]
          },
          "metadata": {
            "tags": []
          }
        },
        {
          "output_type": "stream",
          "text": [
            "Epoch 1/6\n",
            "13/13 [==============================] - 0s 33ms/step - loss: 1.5720 - mae: 0.9419 - val_loss: 0.1964 - val_mae: 0.3827\n",
            "Epoch 2/6\n",
            "13/13 [==============================] - 0s 11ms/step - loss: 1.1263 - mae: 0.8213 - val_loss: 0.1948 - val_mae: 0.3828\n",
            "Epoch 3/6\n",
            "13/13 [==============================] - 0s 14ms/step - loss: 1.2383 - mae: 0.8680 - val_loss: 0.1690 - val_mae: 0.3517\n",
            "Epoch 4/6\n",
            "13/13 [==============================] - 0s 13ms/step - loss: 0.9671 - mae: 0.7821 - val_loss: 0.1425 - val_mae: 0.3222\n",
            "Epoch 5/6\n",
            "13/13 [==============================] - 0s 14ms/step - loss: 0.9054 - mae: 0.7279 - val_loss: 0.1245 - val_mae: 0.2980\n",
            "Epoch 6/6\n",
            "13/13 [==============================] - 0s 14ms/step - loss: 0.9818 - mae: 0.7672 - val_loss: 0.1131 - val_mae: 0.2822\n",
            "Epoch 1/6\n",
            "13/13 [==============================] - 0s 32ms/step - loss: 1.8889 - mae: 1.0357 - val_loss: 0.1768 - val_mae: 0.3652\n",
            "Epoch 2/6\n",
            "13/13 [==============================] - 0s 12ms/step - loss: 1.1169 - mae: 0.8288 - val_loss: 0.1473 - val_mae: 0.3254\n",
            "Epoch 3/6\n",
            "13/13 [==============================] - 0s 11ms/step - loss: 1.2616 - mae: 0.8621 - val_loss: 0.1352 - val_mae: 0.3080\n",
            "Epoch 4/6\n",
            "13/13 [==============================] - 0s 12ms/step - loss: 1.0003 - mae: 0.7735 - val_loss: 0.1189 - val_mae: 0.2866\n",
            "Epoch 5/6\n",
            "13/13 [==============================] - 0s 14ms/step - loss: 1.0021 - mae: 0.7802 - val_loss: 0.1103 - val_mae: 0.2757\n",
            "Epoch 6/6\n",
            "13/13 [==============================] - 0s 13ms/step - loss: 0.8540 - mae: 0.7201 - val_loss: 0.1241 - val_mae: 0.2925\n"
          ],
          "name": "stdout"
        },
        {
          "output_type": "display_data",
          "data": {
            "text/html": [
              "<span style=\"color:#4527A0\"><h1 style=\"font-size:18px\">Trial complete</h1></span>"
            ],
            "text/plain": [
              "<IPython.core.display.HTML object>"
            ]
          },
          "metadata": {
            "tags": []
          }
        },
        {
          "output_type": "display_data",
          "data": {
            "text/html": [
              "<span style=\"color:#4527A0\"><h1 style=\"font-size:18px\">Trial summary</h1></span>"
            ],
            "text/plain": [
              "<IPython.core.display.HTML object>"
            ]
          },
          "metadata": {
            "tags": []
          }
        },
        {
          "output_type": "display_data",
          "data": {
            "text/html": [
              "<span style=\"color:cyan\"> |-Trial ID: 17b121aba6bfd8a125313448ce3db17e</span>"
            ],
            "text/plain": [
              "<IPython.core.display.HTML object>"
            ]
          },
          "metadata": {
            "tags": []
          }
        },
        {
          "output_type": "display_data",
          "data": {
            "text/html": [
              "<span style=\"color:cyan\"> |-Score: 0.27895355224609375</span>"
            ],
            "text/plain": [
              "<IPython.core.display.HTML object>"
            ]
          },
          "metadata": {
            "tags": []
          }
        },
        {
          "output_type": "display_data",
          "data": {
            "text/html": [
              "<span style=\"color:cyan\"> |-Best step: 0</span>"
            ],
            "text/plain": [
              "<IPython.core.display.HTML object>"
            ]
          },
          "metadata": {
            "tags": []
          }
        },
        {
          "output_type": "display_data",
          "data": {
            "text/html": [
              "<span style=\"color:#7E57C2\"><h2 style=\"font-size:16px\">Hyperparameters:</h2></span>"
            ],
            "text/plain": [
              "<IPython.core.display.HTML object>"
            ]
          },
          "metadata": {
            "tags": []
          }
        },
        {
          "output_type": "display_data",
          "data": {
            "text/html": [
              "<span style=\"color:cyan\"> |-dense_0: 96</span>"
            ],
            "text/plain": [
              "<IPython.core.display.HTML object>"
            ]
          },
          "metadata": {
            "tags": []
          }
        },
        {
          "output_type": "display_data",
          "data": {
            "text/html": [
              "<span style=\"color:blue\"> |-dense_1: 128</span>"
            ],
            "text/plain": [
              "<IPython.core.display.HTML object>"
            ]
          },
          "metadata": {
            "tags": []
          }
        },
        {
          "output_type": "display_data",
          "data": {
            "text/html": [
              "<span style=\"color:cyan\"> |-dense_2: 32</span>"
            ],
            "text/plain": [
              "<IPython.core.display.HTML object>"
            ]
          },
          "metadata": {
            "tags": []
          }
        },
        {
          "output_type": "display_data",
          "data": {
            "text/html": [
              "<span style=\"color:blue\"> |-dense_input: 96</span>"
            ],
            "text/plain": [
              "<IPython.core.display.HTML object>"
            ]
          },
          "metadata": {
            "tags": []
          }
        },
        {
          "output_type": "display_data",
          "data": {
            "text/html": [
              "<span style=\"color:cyan\"> |-drop_0: 0.2</span>"
            ],
            "text/plain": [
              "<IPython.core.display.HTML object>"
            ]
          },
          "metadata": {
            "tags": []
          }
        },
        {
          "output_type": "display_data",
          "data": {
            "text/html": [
              "<span style=\"color:blue\"> |-drop_1: 0.2</span>"
            ],
            "text/plain": [
              "<IPython.core.display.HTML object>"
            ]
          },
          "metadata": {
            "tags": []
          }
        },
        {
          "output_type": "display_data",
          "data": {
            "text/html": [
              "<span style=\"color:cyan\"> |-drop_2: 0.0</span>"
            ],
            "text/plain": [
              "<IPython.core.display.HTML object>"
            ]
          },
          "metadata": {
            "tags": []
          }
        },
        {
          "output_type": "display_data",
          "data": {
            "text/html": [
              "<span style=\"color:blue\"> |-drop_input: 0.0</span>"
            ],
            "text/plain": [
              "<IPython.core.display.HTML object>"
            ]
          },
          "metadata": {
            "tags": []
          }
        },
        {
          "output_type": "display_data",
          "data": {
            "text/html": [
              "<span style=\"color:cyan\"> |-lr: 0.0001409438468256163</span>"
            ],
            "text/plain": [
              "<IPython.core.display.HTML object>"
            ]
          },
          "metadata": {
            "tags": []
          }
        },
        {
          "output_type": "display_data",
          "data": {
            "text/html": [
              "<span style=\"color:blue\"> |-num_intermediate_layers: 2</span>"
            ],
            "text/plain": [
              "<IPython.core.display.HTML object>"
            ]
          },
          "metadata": {
            "tags": []
          }
        },
        {
          "output_type": "display_data",
          "data": {
            "text/html": [
              "<span style=\"color:cyan\"> |-tuner/bracket: 2</span>"
            ],
            "text/plain": [
              "<IPython.core.display.HTML object>"
            ]
          },
          "metadata": {
            "tags": []
          }
        },
        {
          "output_type": "display_data",
          "data": {
            "text/html": [
              "<span style=\"color:blue\"> |-tuner/epochs: 6</span>"
            ],
            "text/plain": [
              "<IPython.core.display.HTML object>"
            ]
          },
          "metadata": {
            "tags": []
          }
        },
        {
          "output_type": "display_data",
          "data": {
            "text/html": [
              "<span style=\"color:cyan\"> |-tuner/initial_epoch: 0</span>"
            ],
            "text/plain": [
              "<IPython.core.display.HTML object>"
            ]
          },
          "metadata": {
            "tags": []
          }
        },
        {
          "output_type": "display_data",
          "data": {
            "text/html": [
              "<span style=\"color:blue\"> |-tuner/round: 0</span>"
            ],
            "text/plain": [
              "<IPython.core.display.HTML object>"
            ]
          },
          "metadata": {
            "tags": []
          }
        },
        {
          "output_type": "stream",
          "text": [
            "Epoch 1/6\n",
            "13/13 [==============================] - 0s 34ms/step - loss: 1.1255 - mae: 0.8151 - val_loss: 0.2354 - val_mae: 0.4463\n",
            "Epoch 2/6\n",
            "13/13 [==============================] - 0s 15ms/step - loss: 0.6498 - mae: 0.6207 - val_loss: 0.1256 - val_mae: 0.2960\n",
            "Epoch 3/6\n",
            "13/13 [==============================] - 0s 14ms/step - loss: 0.5393 - mae: 0.5736 - val_loss: 0.0923 - val_mae: 0.2429\n",
            "Epoch 4/6\n",
            "13/13 [==============================] - 0s 13ms/step - loss: 0.4475 - mae: 0.5087 - val_loss: 0.0529 - val_mae: 0.1668\n",
            "Epoch 5/6\n",
            "13/13 [==============================] - 0s 13ms/step - loss: 0.4051 - mae: 0.4820 - val_loss: 0.0428 - val_mae: 0.1523\n",
            "Epoch 6/6\n",
            "13/13 [==============================] - 0s 21ms/step - loss: 0.3815 - mae: 0.4726 - val_loss: 0.0389 - val_mae: 0.1419\n",
            "Epoch 1/6\n",
            "13/13 [==============================] - 0s 30ms/step - loss: 0.9985 - mae: 0.7784 - val_loss: 0.1101 - val_mae: 0.2765\n",
            "Epoch 2/6\n",
            "13/13 [==============================] - 0s 13ms/step - loss: 0.4849 - mae: 0.5461 - val_loss: 0.0818 - val_mae: 0.2320\n",
            "Epoch 3/6\n",
            "13/13 [==============================] - 0s 12ms/step - loss: 0.4017 - mae: 0.4876 - val_loss: 0.0614 - val_mae: 0.1960\n",
            "Epoch 4/6\n",
            "13/13 [==============================] - 0s 12ms/step - loss: 0.3430 - mae: 0.4491 - val_loss: 0.0583 - val_mae: 0.1897\n",
            "Epoch 5/6\n",
            "13/13 [==============================] - 0s 11ms/step - loss: 0.3152 - mae: 0.4365 - val_loss: 0.0547 - val_mae: 0.1828\n",
            "Epoch 6/6\n",
            "13/13 [==============================] - 0s 11ms/step - loss: 0.3217 - mae: 0.4334 - val_loss: 0.0551 - val_mae: 0.1813\n"
          ],
          "name": "stdout"
        },
        {
          "output_type": "display_data",
          "data": {
            "text/html": [
              "<span style=\"color:#4527A0\"><h1 style=\"font-size:18px\">Trial complete</h1></span>"
            ],
            "text/plain": [
              "<IPython.core.display.HTML object>"
            ]
          },
          "metadata": {
            "tags": []
          }
        },
        {
          "output_type": "display_data",
          "data": {
            "text/html": [
              "<span style=\"color:#4527A0\"><h1 style=\"font-size:18px\">Trial summary</h1></span>"
            ],
            "text/plain": [
              "<IPython.core.display.HTML object>"
            ]
          },
          "metadata": {
            "tags": []
          }
        },
        {
          "output_type": "display_data",
          "data": {
            "text/html": [
              "<span style=\"color:cyan\"> |-Trial ID: 8c8057ef7c977382e0bd30d4f643b517</span>"
            ],
            "text/plain": [
              "<IPython.core.display.HTML object>"
            ]
          },
          "metadata": {
            "tags": []
          }
        },
        {
          "output_type": "display_data",
          "data": {
            "text/html": [
              "<span style=\"color:cyan\"> |-Score: 0.16160035133361816</span>"
            ],
            "text/plain": [
              "<IPython.core.display.HTML object>"
            ]
          },
          "metadata": {
            "tags": []
          }
        },
        {
          "output_type": "display_data",
          "data": {
            "text/html": [
              "<span style=\"color:cyan\"> |-Best step: 0</span>"
            ],
            "text/plain": [
              "<IPython.core.display.HTML object>"
            ]
          },
          "metadata": {
            "tags": []
          }
        },
        {
          "output_type": "display_data",
          "data": {
            "text/html": [
              "<span style=\"color:#7E57C2\"><h2 style=\"font-size:16px\">Hyperparameters:</h2></span>"
            ],
            "text/plain": [
              "<IPython.core.display.HTML object>"
            ]
          },
          "metadata": {
            "tags": []
          }
        },
        {
          "output_type": "display_data",
          "data": {
            "text/html": [
              "<span style=\"color:cyan\"> |-dense_0: 64</span>"
            ],
            "text/plain": [
              "<IPython.core.display.HTML object>"
            ]
          },
          "metadata": {
            "tags": []
          }
        },
        {
          "output_type": "display_data",
          "data": {
            "text/html": [
              "<span style=\"color:blue\"> |-dense_1: 64</span>"
            ],
            "text/plain": [
              "<IPython.core.display.HTML object>"
            ]
          },
          "metadata": {
            "tags": []
          }
        },
        {
          "output_type": "display_data",
          "data": {
            "text/html": [
              "<span style=\"color:cyan\"> |-dense_2: 128</span>"
            ],
            "text/plain": [
              "<IPython.core.display.HTML object>"
            ]
          },
          "metadata": {
            "tags": []
          }
        },
        {
          "output_type": "display_data",
          "data": {
            "text/html": [
              "<span style=\"color:blue\"> |-dense_input: 96</span>"
            ],
            "text/plain": [
              "<IPython.core.display.HTML object>"
            ]
          },
          "metadata": {
            "tags": []
          }
        },
        {
          "output_type": "display_data",
          "data": {
            "text/html": [
              "<span style=\"color:cyan\"> |-drop_0: 0.1</span>"
            ],
            "text/plain": [
              "<IPython.core.display.HTML object>"
            ]
          },
          "metadata": {
            "tags": []
          }
        },
        {
          "output_type": "display_data",
          "data": {
            "text/html": [
              "<span style=\"color:blue\"> |-drop_1: 0.1</span>"
            ],
            "text/plain": [
              "<IPython.core.display.HTML object>"
            ]
          },
          "metadata": {
            "tags": []
          }
        },
        {
          "output_type": "display_data",
          "data": {
            "text/html": [
              "<span style=\"color:cyan\"> |-drop_2: 0.0</span>"
            ],
            "text/plain": [
              "<IPython.core.display.HTML object>"
            ]
          },
          "metadata": {
            "tags": []
          }
        },
        {
          "output_type": "display_data",
          "data": {
            "text/html": [
              "<span style=\"color:blue\"> |-drop_input: 0.0</span>"
            ],
            "text/plain": [
              "<IPython.core.display.HTML object>"
            ]
          },
          "metadata": {
            "tags": []
          }
        },
        {
          "output_type": "display_data",
          "data": {
            "text/html": [
              "<span style=\"color:cyan\"> |-lr: 0.0005804913324719603</span>"
            ],
            "text/plain": [
              "<IPython.core.display.HTML object>"
            ]
          },
          "metadata": {
            "tags": []
          }
        },
        {
          "output_type": "display_data",
          "data": {
            "text/html": [
              "<span style=\"color:blue\"> |-num_intermediate_layers: 2</span>"
            ],
            "text/plain": [
              "<IPython.core.display.HTML object>"
            ]
          },
          "metadata": {
            "tags": []
          }
        },
        {
          "output_type": "display_data",
          "data": {
            "text/html": [
              "<span style=\"color:cyan\"> |-tuner/bracket: 2</span>"
            ],
            "text/plain": [
              "<IPython.core.display.HTML object>"
            ]
          },
          "metadata": {
            "tags": []
          }
        },
        {
          "output_type": "display_data",
          "data": {
            "text/html": [
              "<span style=\"color:blue\"> |-tuner/epochs: 6</span>"
            ],
            "text/plain": [
              "<IPython.core.display.HTML object>"
            ]
          },
          "metadata": {
            "tags": []
          }
        },
        {
          "output_type": "display_data",
          "data": {
            "text/html": [
              "<span style=\"color:cyan\"> |-tuner/initial_epoch: 0</span>"
            ],
            "text/plain": [
              "<IPython.core.display.HTML object>"
            ]
          },
          "metadata": {
            "tags": []
          }
        },
        {
          "output_type": "display_data",
          "data": {
            "text/html": [
              "<span style=\"color:blue\"> |-tuner/round: 0</span>"
            ],
            "text/plain": [
              "<IPython.core.display.HTML object>"
            ]
          },
          "metadata": {
            "tags": []
          }
        },
        {
          "output_type": "stream",
          "text": [
            "Epoch 1/6\n",
            "13/13 [==============================] - 1s 42ms/step - loss: 1.1207 - mae: 0.8159 - val_loss: 0.1533 - val_mae: 0.3416\n",
            "Epoch 2/6\n",
            "13/13 [==============================] - 0s 20ms/step - loss: 0.3460 - mae: 0.4473 - val_loss: 0.0637 - val_mae: 0.1937\n",
            "Epoch 3/6\n",
            "13/13 [==============================] - 0s 16ms/step - loss: 0.1830 - mae: 0.3305 - val_loss: 0.0481 - val_mae: 0.1604\n",
            "Epoch 4/6\n",
            "13/13 [==============================] - 0s 18ms/step - loss: 0.1133 - mae: 0.2537 - val_loss: 0.0439 - val_mae: 0.1541\n",
            "Epoch 5/6\n",
            "13/13 [==============================] - 0s 16ms/step - loss: 0.0869 - mae: 0.2276 - val_loss: 0.0361 - val_mae: 0.1392\n",
            "Epoch 6/6\n",
            "13/13 [==============================] - 0s 13ms/step - loss: 0.0715 - mae: 0.2056 - val_loss: 0.0384 - val_mae: 0.1402\n",
            "Epoch 1/6\n",
            "13/13 [==============================] - 0s 32ms/step - loss: 1.0526 - mae: 0.8133 - val_loss: 0.1708 - val_mae: 0.3613\n",
            "Epoch 2/6\n",
            "13/13 [==============================] - 0s 12ms/step - loss: 0.5035 - mae: 0.5434 - val_loss: 0.0982 - val_mae: 0.2583\n",
            "Epoch 3/6\n",
            "13/13 [==============================] - 0s 15ms/step - loss: 0.2596 - mae: 0.3996 - val_loss: 0.0522 - val_mae: 0.1742\n",
            "Epoch 4/6\n",
            "13/13 [==============================] - 0s 13ms/step - loss: 0.1635 - mae: 0.3091 - val_loss: 0.0467 - val_mae: 0.1588\n",
            "Epoch 5/6\n",
            "13/13 [==============================] - 0s 13ms/step - loss: 0.0973 - mae: 0.2397 - val_loss: 0.0393 - val_mae: 0.1413\n",
            "Epoch 6/6\n",
            "13/13 [==============================] - 0s 13ms/step - loss: 0.0849 - mae: 0.2256 - val_loss: 0.0387 - val_mae: 0.1403\n"
          ],
          "name": "stdout"
        },
        {
          "output_type": "display_data",
          "data": {
            "text/html": [
              "<span style=\"color:#4527A0\"><h1 style=\"font-size:18px\">Trial complete</h1></span>"
            ],
            "text/plain": [
              "<IPython.core.display.HTML object>"
            ]
          },
          "metadata": {
            "tags": []
          }
        },
        {
          "output_type": "display_data",
          "data": {
            "text/html": [
              "<span style=\"color:#4527A0\"><h1 style=\"font-size:18px\">Trial summary</h1></span>"
            ],
            "text/plain": [
              "<IPython.core.display.HTML object>"
            ]
          },
          "metadata": {
            "tags": []
          }
        },
        {
          "output_type": "display_data",
          "data": {
            "text/html": [
              "<span style=\"color:cyan\"> |-Trial ID: 20f821f0c159bc51fbdc852af09f5046</span>"
            ],
            "text/plain": [
              "<IPython.core.display.HTML object>"
            ]
          },
          "metadata": {
            "tags": []
          }
        },
        {
          "output_type": "display_data",
          "data": {
            "text/html": [
              "<span style=\"color:cyan\"> |-Score: 0.13973251730203629</span>"
            ],
            "text/plain": [
              "<IPython.core.display.HTML object>"
            ]
          },
          "metadata": {
            "tags": []
          }
        },
        {
          "output_type": "display_data",
          "data": {
            "text/html": [
              "<span style=\"color:cyan\"> |-Best step: 0</span>"
            ],
            "text/plain": [
              "<IPython.core.display.HTML object>"
            ]
          },
          "metadata": {
            "tags": []
          }
        },
        {
          "output_type": "display_data",
          "data": {
            "text/html": [
              "<span style=\"color:#7E57C2\"><h2 style=\"font-size:16px\">Hyperparameters:</h2></span>"
            ],
            "text/plain": [
              "<IPython.core.display.HTML object>"
            ]
          },
          "metadata": {
            "tags": []
          }
        },
        {
          "output_type": "display_data",
          "data": {
            "text/html": [
              "<span style=\"color:cyan\"> |-dense_0: 128</span>"
            ],
            "text/plain": [
              "<IPython.core.display.HTML object>"
            ]
          },
          "metadata": {
            "tags": []
          }
        },
        {
          "output_type": "display_data",
          "data": {
            "text/html": [
              "<span style=\"color:blue\"> |-dense_1: 96</span>"
            ],
            "text/plain": [
              "<IPython.core.display.HTML object>"
            ]
          },
          "metadata": {
            "tags": []
          }
        },
        {
          "output_type": "display_data",
          "data": {
            "text/html": [
              "<span style=\"color:cyan\"> |-dense_2: 64</span>"
            ],
            "text/plain": [
              "<IPython.core.display.HTML object>"
            ]
          },
          "metadata": {
            "tags": []
          }
        },
        {
          "output_type": "display_data",
          "data": {
            "text/html": [
              "<span style=\"color:blue\"> |-dense_input: 64</span>"
            ],
            "text/plain": [
              "<IPython.core.display.HTML object>"
            ]
          },
          "metadata": {
            "tags": []
          }
        },
        {
          "output_type": "display_data",
          "data": {
            "text/html": [
              "<span style=\"color:cyan\"> |-drop_0: 0.30000000000000004</span>"
            ],
            "text/plain": [
              "<IPython.core.display.HTML object>"
            ]
          },
          "metadata": {
            "tags": []
          }
        },
        {
          "output_type": "display_data",
          "data": {
            "text/html": [
              "<span style=\"color:blue\"> |-drop_1: 0.30000000000000004</span>"
            ],
            "text/plain": [
              "<IPython.core.display.HTML object>"
            ]
          },
          "metadata": {
            "tags": []
          }
        },
        {
          "output_type": "display_data",
          "data": {
            "text/html": [
              "<span style=\"color:cyan\"> |-drop_2: 0.0</span>"
            ],
            "text/plain": [
              "<IPython.core.display.HTML object>"
            ]
          },
          "metadata": {
            "tags": []
          }
        },
        {
          "output_type": "display_data",
          "data": {
            "text/html": [
              "<span style=\"color:blue\"> |-drop_input: 0.30000000000000004</span>"
            ],
            "text/plain": [
              "<IPython.core.display.HTML object>"
            ]
          },
          "metadata": {
            "tags": []
          }
        },
        {
          "output_type": "display_data",
          "data": {
            "text/html": [
              "<span style=\"color:cyan\"> |-lr: 0.0010101075914045136</span>"
            ],
            "text/plain": [
              "<IPython.core.display.HTML object>"
            ]
          },
          "metadata": {
            "tags": []
          }
        },
        {
          "output_type": "display_data",
          "data": {
            "text/html": [
              "<span style=\"color:blue\"> |-num_intermediate_layers: 3</span>"
            ],
            "text/plain": [
              "<IPython.core.display.HTML object>"
            ]
          },
          "metadata": {
            "tags": []
          }
        },
        {
          "output_type": "display_data",
          "data": {
            "text/html": [
              "<span style=\"color:cyan\"> |-tuner/bracket: 2</span>"
            ],
            "text/plain": [
              "<IPython.core.display.HTML object>"
            ]
          },
          "metadata": {
            "tags": []
          }
        },
        {
          "output_type": "display_data",
          "data": {
            "text/html": [
              "<span style=\"color:blue\"> |-tuner/epochs: 6</span>"
            ],
            "text/plain": [
              "<IPython.core.display.HTML object>"
            ]
          },
          "metadata": {
            "tags": []
          }
        },
        {
          "output_type": "display_data",
          "data": {
            "text/html": [
              "<span style=\"color:cyan\"> |-tuner/initial_epoch: 0</span>"
            ],
            "text/plain": [
              "<IPython.core.display.HTML object>"
            ]
          },
          "metadata": {
            "tags": []
          }
        },
        {
          "output_type": "display_data",
          "data": {
            "text/html": [
              "<span style=\"color:blue\"> |-tuner/round: 0</span>"
            ],
            "text/plain": [
              "<IPython.core.display.HTML object>"
            ]
          },
          "metadata": {
            "tags": []
          }
        },
        {
          "output_type": "stream",
          "text": [
            "Epoch 1/6\n",
            "13/13 [==============================] - 0s 32ms/step - loss: 0.9749 - mae: 0.7563 - val_loss: 0.1711 - val_mae: 0.3741\n",
            "Epoch 2/6\n",
            "13/13 [==============================] - 0s 14ms/step - loss: 0.5246 - mae: 0.5288 - val_loss: 0.0300 - val_mae: 0.1255\n",
            "Epoch 3/6\n",
            "13/13 [==============================] - 0s 12ms/step - loss: 0.3800 - mae: 0.4731 - val_loss: 0.0316 - val_mae: 0.1353\n",
            "Epoch 4/6\n",
            "13/13 [==============================] - 0s 14ms/step - loss: 0.2474 - mae: 0.3862 - val_loss: 0.0283 - val_mae: 0.1221\n",
            "Epoch 5/6\n",
            "13/13 [==============================] - 0s 11ms/step - loss: 0.1919 - mae: 0.3479 - val_loss: 0.0307 - val_mae: 0.1262\n",
            "Epoch 6/6\n",
            "13/13 [==============================] - 0s 11ms/step - loss: 0.2377 - mae: 0.3633 - val_loss: 0.0387 - val_mae: 0.1430\n",
            "Epoch 1/6\n",
            "13/13 [==============================] - 0s 30ms/step - loss: 1.0372 - mae: 0.7684 - val_loss: 0.1154 - val_mae: 0.2819\n",
            "Epoch 2/6\n",
            "13/13 [==============================] - 0s 11ms/step - loss: 0.4663 - mae: 0.5344 - val_loss: 0.0463 - val_mae: 0.1555\n",
            "Epoch 3/6\n",
            "13/13 [==============================] - 0s 12ms/step - loss: 0.2732 - mae: 0.4064 - val_loss: 0.0297 - val_mae: 0.1257\n",
            "Epoch 4/6\n",
            "13/13 [==============================] - 0s 15ms/step - loss: 0.2372 - mae: 0.3824 - val_loss: 0.0239 - val_mae: 0.1129\n",
            "Epoch 5/6\n",
            "13/13 [==============================] - 0s 12ms/step - loss: 0.2315 - mae: 0.3634 - val_loss: 0.0445 - val_mae: 0.1541\n",
            "Epoch 6/6\n",
            "13/13 [==============================] - 0s 12ms/step - loss: 0.2194 - mae: 0.3509 - val_loss: 0.0346 - val_mae: 0.1325\n"
          ],
          "name": "stdout"
        },
        {
          "output_type": "display_data",
          "data": {
            "text/html": [
              "<span style=\"color:#4527A0\"><h1 style=\"font-size:18px\">Trial complete</h1></span>"
            ],
            "text/plain": [
              "<IPython.core.display.HTML object>"
            ]
          },
          "metadata": {
            "tags": []
          }
        },
        {
          "output_type": "display_data",
          "data": {
            "text/html": [
              "<span style=\"color:#4527A0\"><h1 style=\"font-size:18px\">Trial summary</h1></span>"
            ],
            "text/plain": [
              "<IPython.core.display.HTML object>"
            ]
          },
          "metadata": {
            "tags": []
          }
        },
        {
          "output_type": "display_data",
          "data": {
            "text/html": [
              "<span style=\"color:cyan\"> |-Trial ID: 1a5c8d2b650ce31eb0aafa1f97c6a8d7</span>"
            ],
            "text/plain": [
              "<IPython.core.display.HTML object>"
            ]
          },
          "metadata": {
            "tags": []
          }
        },
        {
          "output_type": "display_data",
          "data": {
            "text/html": [
              "<span style=\"color:cyan\"> |-Score: 0.11751964315772057</span>"
            ],
            "text/plain": [
              "<IPython.core.display.HTML object>"
            ]
          },
          "metadata": {
            "tags": []
          }
        },
        {
          "output_type": "display_data",
          "data": {
            "text/html": [
              "<span style=\"color:cyan\"> |-Best step: 0</span>"
            ],
            "text/plain": [
              "<IPython.core.display.HTML object>"
            ]
          },
          "metadata": {
            "tags": []
          }
        },
        {
          "output_type": "display_data",
          "data": {
            "text/html": [
              "<span style=\"color:#7E57C2\"><h2 style=\"font-size:16px\">Hyperparameters:</h2></span>"
            ],
            "text/plain": [
              "<IPython.core.display.HTML object>"
            ]
          },
          "metadata": {
            "tags": []
          }
        },
        {
          "output_type": "display_data",
          "data": {
            "text/html": [
              "<span style=\"color:cyan\"> |-dense_0: 128</span>"
            ],
            "text/plain": [
              "<IPython.core.display.HTML object>"
            ]
          },
          "metadata": {
            "tags": []
          }
        },
        {
          "output_type": "display_data",
          "data": {
            "text/html": [
              "<span style=\"color:blue\"> |-dense_1: 64</span>"
            ],
            "text/plain": [
              "<IPython.core.display.HTML object>"
            ]
          },
          "metadata": {
            "tags": []
          }
        },
        {
          "output_type": "display_data",
          "data": {
            "text/html": [
              "<span style=\"color:cyan\"> |-dense_2: 32</span>"
            ],
            "text/plain": [
              "<IPython.core.display.HTML object>"
            ]
          },
          "metadata": {
            "tags": []
          }
        },
        {
          "output_type": "display_data",
          "data": {
            "text/html": [
              "<span style=\"color:blue\"> |-dense_input: 64</span>"
            ],
            "text/plain": [
              "<IPython.core.display.HTML object>"
            ]
          },
          "metadata": {
            "tags": []
          }
        },
        {
          "output_type": "display_data",
          "data": {
            "text/html": [
              "<span style=\"color:cyan\"> |-drop_0: 0.2</span>"
            ],
            "text/plain": [
              "<IPython.core.display.HTML object>"
            ]
          },
          "metadata": {
            "tags": []
          }
        },
        {
          "output_type": "display_data",
          "data": {
            "text/html": [
              "<span style=\"color:blue\"> |-drop_1: 0.1</span>"
            ],
            "text/plain": [
              "<IPython.core.display.HTML object>"
            ]
          },
          "metadata": {
            "tags": []
          }
        },
        {
          "output_type": "display_data",
          "data": {
            "text/html": [
              "<span style=\"color:cyan\"> |-drop_2: 0.30000000000000004</span>"
            ],
            "text/plain": [
              "<IPython.core.display.HTML object>"
            ]
          },
          "metadata": {
            "tags": []
          }
        },
        {
          "output_type": "display_data",
          "data": {
            "text/html": [
              "<span style=\"color:blue\"> |-drop_input: 0.2</span>"
            ],
            "text/plain": [
              "<IPython.core.display.HTML object>"
            ]
          },
          "metadata": {
            "tags": []
          }
        },
        {
          "output_type": "display_data",
          "data": {
            "text/html": [
              "<span style=\"color:cyan\"> |-lr: 0.0021971656107059785</span>"
            ],
            "text/plain": [
              "<IPython.core.display.HTML object>"
            ]
          },
          "metadata": {
            "tags": []
          }
        },
        {
          "output_type": "display_data",
          "data": {
            "text/html": [
              "<span style=\"color:blue\"> |-num_intermediate_layers: 2</span>"
            ],
            "text/plain": [
              "<IPython.core.display.HTML object>"
            ]
          },
          "metadata": {
            "tags": []
          }
        },
        {
          "output_type": "display_data",
          "data": {
            "text/html": [
              "<span style=\"color:cyan\"> |-tuner/bracket: 2</span>"
            ],
            "text/plain": [
              "<IPython.core.display.HTML object>"
            ]
          },
          "metadata": {
            "tags": []
          }
        },
        {
          "output_type": "display_data",
          "data": {
            "text/html": [
              "<span style=\"color:blue\"> |-tuner/epochs: 6</span>"
            ],
            "text/plain": [
              "<IPython.core.display.HTML object>"
            ]
          },
          "metadata": {
            "tags": []
          }
        },
        {
          "output_type": "display_data",
          "data": {
            "text/html": [
              "<span style=\"color:cyan\"> |-tuner/initial_epoch: 0</span>"
            ],
            "text/plain": [
              "<IPython.core.display.HTML object>"
            ]
          },
          "metadata": {
            "tags": []
          }
        },
        {
          "output_type": "display_data",
          "data": {
            "text/html": [
              "<span style=\"color:blue\"> |-tuner/round: 0</span>"
            ],
            "text/plain": [
              "<IPython.core.display.HTML object>"
            ]
          },
          "metadata": {
            "tags": []
          }
        },
        {
          "output_type": "stream",
          "text": [
            "Epoch 1/6\n",
            "13/13 [==============================] - 0s 32ms/step - loss: 0.9828 - mae: 0.7234 - val_loss: 0.0816 - val_mae: 0.2296\n",
            "Epoch 2/6\n",
            "13/13 [==============================] - 0s 15ms/step - loss: 0.3381 - mae: 0.4610 - val_loss: 0.0724 - val_mae: 0.2085\n",
            "Epoch 3/6\n",
            "13/13 [==============================] - 0s 14ms/step - loss: 0.1717 - mae: 0.3170 - val_loss: 0.0483 - val_mae: 0.1553\n",
            "Epoch 4/6\n",
            "13/13 [==============================] - 0s 15ms/step - loss: 0.1104 - mae: 0.2551 - val_loss: 0.0338 - val_mae: 0.1341\n",
            "Epoch 5/6\n",
            "13/13 [==============================] - 0s 14ms/step - loss: 0.0933 - mae: 0.2317 - val_loss: 0.0309 - val_mae: 0.1287\n",
            "Epoch 6/6\n",
            "13/13 [==============================] - 0s 14ms/step - loss: 0.0728 - mae: 0.2041 - val_loss: 0.0297 - val_mae: 0.1241\n",
            "Epoch 1/6\n",
            "13/13 [==============================] - 0s 29ms/step - loss: 1.1502 - mae: 0.8309 - val_loss: 0.1255 - val_mae: 0.3077\n",
            "Epoch 2/6\n",
            "13/13 [==============================] - 0s 11ms/step - loss: 0.4009 - mae: 0.4796 - val_loss: 0.0742 - val_mae: 0.2222\n",
            "Epoch 3/6\n",
            "13/13 [==============================] - 0s 11ms/step - loss: 0.1859 - mae: 0.3412 - val_loss: 0.0552 - val_mae: 0.1834\n",
            "Epoch 4/6\n",
            "13/13 [==============================] - 0s 13ms/step - loss: 0.1135 - mae: 0.2591 - val_loss: 0.0441 - val_mae: 0.1529\n",
            "Epoch 5/6\n",
            "13/13 [==============================] - 0s 18ms/step - loss: 0.0913 - mae: 0.2282 - val_loss: 0.0504 - val_mae: 0.1693\n",
            "Epoch 6/6\n",
            "13/13 [==============================] - 0s 14ms/step - loss: 0.0638 - mae: 0.1888 - val_loss: 0.0446 - val_mae: 0.1556\n"
          ],
          "name": "stdout"
        },
        {
          "output_type": "display_data",
          "data": {
            "text/html": [
              "<span style=\"color:#4527A0\"><h1 style=\"font-size:18px\">Trial complete</h1></span>"
            ],
            "text/plain": [
              "<IPython.core.display.HTML object>"
            ]
          },
          "metadata": {
            "tags": []
          }
        },
        {
          "output_type": "display_data",
          "data": {
            "text/html": [
              "<span style=\"color:#4527A0\"><h1 style=\"font-size:18px\">Trial summary</h1></span>"
            ],
            "text/plain": [
              "<IPython.core.display.HTML object>"
            ]
          },
          "metadata": {
            "tags": []
          }
        },
        {
          "output_type": "display_data",
          "data": {
            "text/html": [
              "<span style=\"color:cyan\"> |-Trial ID: 44b638a3d173b53a3b10d554c4687ab4</span>"
            ],
            "text/plain": [
              "<IPython.core.display.HTML object>"
            ]
          },
          "metadata": {
            "tags": []
          }
        },
        {
          "output_type": "display_data",
          "data": {
            "text/html": [
              "<span style=\"color:cyan\"> |-Score: 0.13852333649992943</span>"
            ],
            "text/plain": [
              "<IPython.core.display.HTML object>"
            ]
          },
          "metadata": {
            "tags": []
          }
        },
        {
          "output_type": "display_data",
          "data": {
            "text/html": [
              "<span style=\"color:cyan\"> |-Best step: 0</span>"
            ],
            "text/plain": [
              "<IPython.core.display.HTML object>"
            ]
          },
          "metadata": {
            "tags": []
          }
        },
        {
          "output_type": "display_data",
          "data": {
            "text/html": [
              "<span style=\"color:#7E57C2\"><h2 style=\"font-size:16px\">Hyperparameters:</h2></span>"
            ],
            "text/plain": [
              "<IPython.core.display.HTML object>"
            ]
          },
          "metadata": {
            "tags": []
          }
        },
        {
          "output_type": "display_data",
          "data": {
            "text/html": [
              "<span style=\"color:cyan\"> |-dense_0: 96</span>"
            ],
            "text/plain": [
              "<IPython.core.display.HTML object>"
            ]
          },
          "metadata": {
            "tags": []
          }
        },
        {
          "output_type": "display_data",
          "data": {
            "text/html": [
              "<span style=\"color:blue\"> |-dense_1: 64</span>"
            ],
            "text/plain": [
              "<IPython.core.display.HTML object>"
            ]
          },
          "metadata": {
            "tags": []
          }
        },
        {
          "output_type": "display_data",
          "data": {
            "text/html": [
              "<span style=\"color:cyan\"> |-dense_2: 64</span>"
            ],
            "text/plain": [
              "<IPython.core.display.HTML object>"
            ]
          },
          "metadata": {
            "tags": []
          }
        },
        {
          "output_type": "display_data",
          "data": {
            "text/html": [
              "<span style=\"color:blue\"> |-dense_input: 96</span>"
            ],
            "text/plain": [
              "<IPython.core.display.HTML object>"
            ]
          },
          "metadata": {
            "tags": []
          }
        },
        {
          "output_type": "display_data",
          "data": {
            "text/html": [
              "<span style=\"color:cyan\"> |-drop_0: 0.2</span>"
            ],
            "text/plain": [
              "<IPython.core.display.HTML object>"
            ]
          },
          "metadata": {
            "tags": []
          }
        },
        {
          "output_type": "display_data",
          "data": {
            "text/html": [
              "<span style=\"color:blue\"> |-drop_1: 0.0</span>"
            ],
            "text/plain": [
              "<IPython.core.display.HTML object>"
            ]
          },
          "metadata": {
            "tags": []
          }
        },
        {
          "output_type": "display_data",
          "data": {
            "text/html": [
              "<span style=\"color:cyan\"> |-drop_2: 0.1</span>"
            ],
            "text/plain": [
              "<IPython.core.display.HTML object>"
            ]
          },
          "metadata": {
            "tags": []
          }
        },
        {
          "output_type": "display_data",
          "data": {
            "text/html": [
              "<span style=\"color:blue\"> |-drop_input: 0.2</span>"
            ],
            "text/plain": [
              "<IPython.core.display.HTML object>"
            ]
          },
          "metadata": {
            "tags": []
          }
        },
        {
          "output_type": "display_data",
          "data": {
            "text/html": [
              "<span style=\"color:cyan\"> |-lr: 0.0010182407613840007</span>"
            ],
            "text/plain": [
              "<IPython.core.display.HTML object>"
            ]
          },
          "metadata": {
            "tags": []
          }
        },
        {
          "output_type": "display_data",
          "data": {
            "text/html": [
              "<span style=\"color:blue\"> |-num_intermediate_layers: 2</span>"
            ],
            "text/plain": [
              "<IPython.core.display.HTML object>"
            ]
          },
          "metadata": {
            "tags": []
          }
        },
        {
          "output_type": "display_data",
          "data": {
            "text/html": [
              "<span style=\"color:cyan\"> |-tuner/bracket: 2</span>"
            ],
            "text/plain": [
              "<IPython.core.display.HTML object>"
            ]
          },
          "metadata": {
            "tags": []
          }
        },
        {
          "output_type": "display_data",
          "data": {
            "text/html": [
              "<span style=\"color:blue\"> |-tuner/epochs: 6</span>"
            ],
            "text/plain": [
              "<IPython.core.display.HTML object>"
            ]
          },
          "metadata": {
            "tags": []
          }
        },
        {
          "output_type": "display_data",
          "data": {
            "text/html": [
              "<span style=\"color:cyan\"> |-tuner/initial_epoch: 0</span>"
            ],
            "text/plain": [
              "<IPython.core.display.HTML object>"
            ]
          },
          "metadata": {
            "tags": []
          }
        },
        {
          "output_type": "display_data",
          "data": {
            "text/html": [
              "<span style=\"color:blue\"> |-tuner/round: 0</span>"
            ],
            "text/plain": [
              "<IPython.core.display.HTML object>"
            ]
          },
          "metadata": {
            "tags": []
          }
        },
        {
          "output_type": "stream",
          "text": [
            "Epoch 1/6\n",
            "13/13 [==============================] - 0s 31ms/step - loss: 0.7917 - mae: 0.6333 - val_loss: 0.1407 - val_mae: 0.2895\n",
            "Epoch 2/6\n",
            "13/13 [==============================] - 0s 13ms/step - loss: 0.1202 - mae: 0.2573 - val_loss: 0.0453 - val_mae: 0.1620\n",
            "Epoch 3/6\n",
            "13/13 [==============================] - 0s 13ms/step - loss: 0.0466 - mae: 0.1668 - val_loss: 0.0306 - val_mae: 0.1270\n",
            "Epoch 4/6\n",
            "13/13 [==============================] - 0s 11ms/step - loss: 0.0296 - mae: 0.1274 - val_loss: 0.0343 - val_mae: 0.1349\n",
            "Epoch 5/6\n",
            "13/13 [==============================] - 0s 16ms/step - loss: 0.0228 - mae: 0.1144 - val_loss: 0.0270 - val_mae: 0.1178\n",
            "Epoch 6/6\n",
            "13/13 [==============================] - 0s 11ms/step - loss: 0.0196 - mae: 0.1040 - val_loss: 0.0350 - val_mae: 0.1361\n",
            "Epoch 1/6\n",
            "13/13 [==============================] - 0s 30ms/step - loss: 1.2590 - mae: 0.8004 - val_loss: 0.0503 - val_mae: 0.1605\n",
            "Epoch 2/6\n",
            "13/13 [==============================] - 0s 16ms/step - loss: 0.1678 - mae: 0.3225 - val_loss: 0.0459 - val_mae: 0.1596\n",
            "Epoch 3/6\n",
            "13/13 [==============================] - 0s 17ms/step - loss: 0.0668 - mae: 0.1977 - val_loss: 0.0521 - val_mae: 0.1795\n",
            "Epoch 4/6\n",
            "13/13 [==============================] - 0s 11ms/step - loss: 0.0340 - mae: 0.1383 - val_loss: 0.0374 - val_mae: 0.1414\n",
            "Epoch 5/6\n",
            "13/13 [==============================] - 0s 11ms/step - loss: 0.0239 - mae: 0.1107 - val_loss: 0.0351 - val_mae: 0.1344\n",
            "Epoch 6/6\n",
            "13/13 [==============================] - 0s 12ms/step - loss: 0.0220 - mae: 0.1064 - val_loss: 0.0362 - val_mae: 0.1377\n"
          ],
          "name": "stdout"
        },
        {
          "output_type": "display_data",
          "data": {
            "text/html": [
              "<span style=\"color:#4527A0\"><h1 style=\"font-size:18px\">Trial complete</h1></span>"
            ],
            "text/plain": [
              "<IPython.core.display.HTML object>"
            ]
          },
          "metadata": {
            "tags": []
          }
        },
        {
          "output_type": "display_data",
          "data": {
            "text/html": [
              "<span style=\"color:#4527A0\"><h1 style=\"font-size:18px\">Trial summary</h1></span>"
            ],
            "text/plain": [
              "<IPython.core.display.HTML object>"
            ]
          },
          "metadata": {
            "tags": []
          }
        },
        {
          "output_type": "display_data",
          "data": {
            "text/html": [
              "<span style=\"color:cyan\"> |-Trial ID: 7121db48066e8ece043883065a051fcf</span>"
            ],
            "text/plain": [
              "<IPython.core.display.HTML object>"
            ]
          },
          "metadata": {
            "tags": []
          }
        },
        {
          "output_type": "display_data",
          "data": {
            "text/html": [
              "<span style=\"color:cyan\"> |-Score: 0.12611248716711998</span>"
            ],
            "text/plain": [
              "<IPython.core.display.HTML object>"
            ]
          },
          "metadata": {
            "tags": []
          }
        },
        {
          "output_type": "display_data",
          "data": {
            "text/html": [
              "<span style=\"color:cyan\"> |-Best step: 0</span>"
            ],
            "text/plain": [
              "<IPython.core.display.HTML object>"
            ]
          },
          "metadata": {
            "tags": []
          }
        },
        {
          "output_type": "display_data",
          "data": {
            "text/html": [
              "<span style=\"color:#7E57C2\"><h2 style=\"font-size:16px\">Hyperparameters:</h2></span>"
            ],
            "text/plain": [
              "<IPython.core.display.HTML object>"
            ]
          },
          "metadata": {
            "tags": []
          }
        },
        {
          "output_type": "display_data",
          "data": {
            "text/html": [
              "<span style=\"color:cyan\"> |-dense_0: 64</span>"
            ],
            "text/plain": [
              "<IPython.core.display.HTML object>"
            ]
          },
          "metadata": {
            "tags": []
          }
        },
        {
          "output_type": "display_data",
          "data": {
            "text/html": [
              "<span style=\"color:blue\"> |-dense_1: 96</span>"
            ],
            "text/plain": [
              "<IPython.core.display.HTML object>"
            ]
          },
          "metadata": {
            "tags": []
          }
        },
        {
          "output_type": "display_data",
          "data": {
            "text/html": [
              "<span style=\"color:cyan\"> |-dense_2: 64</span>"
            ],
            "text/plain": [
              "<IPython.core.display.HTML object>"
            ]
          },
          "metadata": {
            "tags": []
          }
        },
        {
          "output_type": "display_data",
          "data": {
            "text/html": [
              "<span style=\"color:blue\"> |-dense_input: 64</span>"
            ],
            "text/plain": [
              "<IPython.core.display.HTML object>"
            ]
          },
          "metadata": {
            "tags": []
          }
        },
        {
          "output_type": "display_data",
          "data": {
            "text/html": [
              "<span style=\"color:cyan\"> |-drop_0: 0.1</span>"
            ],
            "text/plain": [
              "<IPython.core.display.HTML object>"
            ]
          },
          "metadata": {
            "tags": []
          }
        },
        {
          "output_type": "display_data",
          "data": {
            "text/html": [
              "<span style=\"color:blue\"> |-drop_1: 0.0</span>"
            ],
            "text/plain": [
              "<IPython.core.display.HTML object>"
            ]
          },
          "metadata": {
            "tags": []
          }
        },
        {
          "output_type": "display_data",
          "data": {
            "text/html": [
              "<span style=\"color:cyan\"> |-drop_2: 0.1</span>"
            ],
            "text/plain": [
              "<IPython.core.display.HTML object>"
            ]
          },
          "metadata": {
            "tags": []
          }
        },
        {
          "output_type": "display_data",
          "data": {
            "text/html": [
              "<span style=\"color:blue\"> |-drop_input: 0.1</span>"
            ],
            "text/plain": [
              "<IPython.core.display.HTML object>"
            ]
          },
          "metadata": {
            "tags": []
          }
        },
        {
          "output_type": "display_data",
          "data": {
            "text/html": [
              "<span style=\"color:cyan\"> |-lr: 0.009958174438236598</span>"
            ],
            "text/plain": [
              "<IPython.core.display.HTML object>"
            ]
          },
          "metadata": {
            "tags": []
          }
        },
        {
          "output_type": "display_data",
          "data": {
            "text/html": [
              "<span style=\"color:blue\"> |-num_intermediate_layers: 2</span>"
            ],
            "text/plain": [
              "<IPython.core.display.HTML object>"
            ]
          },
          "metadata": {
            "tags": []
          }
        },
        {
          "output_type": "display_data",
          "data": {
            "text/html": [
              "<span style=\"color:cyan\"> |-tuner/bracket: 2</span>"
            ],
            "text/plain": [
              "<IPython.core.display.HTML object>"
            ]
          },
          "metadata": {
            "tags": []
          }
        },
        {
          "output_type": "display_data",
          "data": {
            "text/html": [
              "<span style=\"color:blue\"> |-tuner/epochs: 6</span>"
            ],
            "text/plain": [
              "<IPython.core.display.HTML object>"
            ]
          },
          "metadata": {
            "tags": []
          }
        },
        {
          "output_type": "display_data",
          "data": {
            "text/html": [
              "<span style=\"color:cyan\"> |-tuner/initial_epoch: 0</span>"
            ],
            "text/plain": [
              "<IPython.core.display.HTML object>"
            ]
          },
          "metadata": {
            "tags": []
          }
        },
        {
          "output_type": "display_data",
          "data": {
            "text/html": [
              "<span style=\"color:blue\"> |-tuner/round: 0</span>"
            ],
            "text/plain": [
              "<IPython.core.display.HTML object>"
            ]
          },
          "metadata": {
            "tags": []
          }
        },
        {
          "output_type": "stream",
          "text": [
            "Epoch 1/6\n",
            "13/13 [==============================] - 0s 27ms/step - loss: 1.1923 - mae: 0.7979 - val_loss: 0.0507 - val_mae: 0.1769\n",
            "Epoch 2/6\n",
            "13/13 [==============================] - 0s 12ms/step - loss: 0.3669 - mae: 0.4330 - val_loss: 0.0369 - val_mae: 0.1385\n",
            "Epoch 3/6\n",
            "13/13 [==============================] - 0s 11ms/step - loss: 0.1967 - mae: 0.3353 - val_loss: 0.0495 - val_mae: 0.1649\n",
            "Epoch 4/6\n",
            "13/13 [==============================] - 0s 12ms/step - loss: 0.1736 - mae: 0.3104 - val_loss: 0.0298 - val_mae: 0.1276\n",
            "Epoch 5/6\n",
            "13/13 [==============================] - 0s 10ms/step - loss: 0.1283 - mae: 0.2744 - val_loss: 0.0385 - val_mae: 0.1478\n",
            "Epoch 6/6\n",
            "13/13 [==============================] - 0s 11ms/step - loss: 0.1028 - mae: 0.2411 - val_loss: 0.0386 - val_mae: 0.1466\n",
            "Epoch 1/6\n",
            "13/13 [==============================] - 0s 26ms/step - loss: 1.1394 - mae: 0.8047 - val_loss: 0.0333 - val_mae: 0.1357\n",
            "Epoch 2/6\n",
            "13/13 [==============================] - 0s 11ms/step - loss: 0.4588 - mae: 0.5283 - val_loss: 0.0426 - val_mae: 0.1640\n",
            "Epoch 3/6\n",
            "13/13 [==============================] - 0s 12ms/step - loss: 0.2767 - mae: 0.4069 - val_loss: 0.0289 - val_mae: 0.1194\n",
            "Epoch 4/6\n",
            "13/13 [==============================] - 0s 12ms/step - loss: 0.2196 - mae: 0.3544 - val_loss: 0.0275 - val_mae: 0.1171\n",
            "Epoch 5/6\n",
            "13/13 [==============================] - 0s 15ms/step - loss: 0.1515 - mae: 0.2937 - val_loss: 0.0339 - val_mae: 0.1319\n",
            "Epoch 6/6\n",
            "13/13 [==============================] - 0s 15ms/step - loss: 0.1092 - mae: 0.2554 - val_loss: 0.0296 - val_mae: 0.1208\n"
          ],
          "name": "stdout"
        },
        {
          "output_type": "display_data",
          "data": {
            "text/html": [
              "<span style=\"color:#4527A0\"><h1 style=\"font-size:18px\">Trial complete</h1></span>"
            ],
            "text/plain": [
              "<IPython.core.display.HTML object>"
            ]
          },
          "metadata": {
            "tags": []
          }
        },
        {
          "output_type": "display_data",
          "data": {
            "text/html": [
              "<span style=\"color:#4527A0\"><h1 style=\"font-size:18px\">Trial summary</h1></span>"
            ],
            "text/plain": [
              "<IPython.core.display.HTML object>"
            ]
          },
          "metadata": {
            "tags": []
          }
        },
        {
          "output_type": "display_data",
          "data": {
            "text/html": [
              "<span style=\"color:cyan\"> |-Trial ID: e7b6b5782ccbb24835025824e0178126</span>"
            ],
            "text/plain": [
              "<IPython.core.display.HTML object>"
            ]
          },
          "metadata": {
            "tags": []
          }
        },
        {
          "output_type": "display_data",
          "data": {
            "text/html": [
              "<span style=\"color:cyan\"> |-Score: 0.12236090376973152</span>"
            ],
            "text/plain": [
              "<IPython.core.display.HTML object>"
            ]
          },
          "metadata": {
            "tags": []
          }
        },
        {
          "output_type": "display_data",
          "data": {
            "text/html": [
              "<span style=\"color:cyan\"> |-Best step: 0</span>"
            ],
            "text/plain": [
              "<IPython.core.display.HTML object>"
            ]
          },
          "metadata": {
            "tags": []
          }
        },
        {
          "output_type": "display_data",
          "data": {
            "text/html": [
              "<span style=\"color:#7E57C2\"><h2 style=\"font-size:16px\">Hyperparameters:</h2></span>"
            ],
            "text/plain": [
              "<IPython.core.display.HTML object>"
            ]
          },
          "metadata": {
            "tags": []
          }
        },
        {
          "output_type": "display_data",
          "data": {
            "text/html": [
              "<span style=\"color:cyan\"> |-dense_0: 64</span>"
            ],
            "text/plain": [
              "<IPython.core.display.HTML object>"
            ]
          },
          "metadata": {
            "tags": []
          }
        },
        {
          "output_type": "display_data",
          "data": {
            "text/html": [
              "<span style=\"color:blue\"> |-dense_1: 96</span>"
            ],
            "text/plain": [
              "<IPython.core.display.HTML object>"
            ]
          },
          "metadata": {
            "tags": []
          }
        },
        {
          "output_type": "display_data",
          "data": {
            "text/html": [
              "<span style=\"color:cyan\"> |-dense_2: 128</span>"
            ],
            "text/plain": [
              "<IPython.core.display.HTML object>"
            ]
          },
          "metadata": {
            "tags": []
          }
        },
        {
          "output_type": "display_data",
          "data": {
            "text/html": [
              "<span style=\"color:blue\"> |-dense_input: 64</span>"
            ],
            "text/plain": [
              "<IPython.core.display.HTML object>"
            ]
          },
          "metadata": {
            "tags": []
          }
        },
        {
          "output_type": "display_data",
          "data": {
            "text/html": [
              "<span style=\"color:cyan\"> |-drop_0: 0.2</span>"
            ],
            "text/plain": [
              "<IPython.core.display.HTML object>"
            ]
          },
          "metadata": {
            "tags": []
          }
        },
        {
          "output_type": "display_data",
          "data": {
            "text/html": [
              "<span style=\"color:blue\"> |-drop_1: 0.1</span>"
            ],
            "text/plain": [
              "<IPython.core.display.HTML object>"
            ]
          },
          "metadata": {
            "tags": []
          }
        },
        {
          "output_type": "display_data",
          "data": {
            "text/html": [
              "<span style=\"color:cyan\"> |-drop_2: 0.30000000000000004</span>"
            ],
            "text/plain": [
              "<IPython.core.display.HTML object>"
            ]
          },
          "metadata": {
            "tags": []
          }
        },
        {
          "output_type": "display_data",
          "data": {
            "text/html": [
              "<span style=\"color:blue\"> |-drop_input: 0.1</span>"
            ],
            "text/plain": [
              "<IPython.core.display.HTML object>"
            ]
          },
          "metadata": {
            "tags": []
          }
        },
        {
          "output_type": "display_data",
          "data": {
            "text/html": [
              "<span style=\"color:cyan\"> |-lr: 0.00744676002039987</span>"
            ],
            "text/plain": [
              "<IPython.core.display.HTML object>"
            ]
          },
          "metadata": {
            "tags": []
          }
        },
        {
          "output_type": "display_data",
          "data": {
            "text/html": [
              "<span style=\"color:blue\"> |-num_intermediate_layers: 1</span>"
            ],
            "text/plain": [
              "<IPython.core.display.HTML object>"
            ]
          },
          "metadata": {
            "tags": []
          }
        },
        {
          "output_type": "display_data",
          "data": {
            "text/html": [
              "<span style=\"color:cyan\"> |-tuner/bracket: 2</span>"
            ],
            "text/plain": [
              "<IPython.core.display.HTML object>"
            ]
          },
          "metadata": {
            "tags": []
          }
        },
        {
          "output_type": "display_data",
          "data": {
            "text/html": [
              "<span style=\"color:blue\"> |-tuner/epochs: 6</span>"
            ],
            "text/plain": [
              "<IPython.core.display.HTML object>"
            ]
          },
          "metadata": {
            "tags": []
          }
        },
        {
          "output_type": "display_data",
          "data": {
            "text/html": [
              "<span style=\"color:cyan\"> |-tuner/initial_epoch: 0</span>"
            ],
            "text/plain": [
              "<IPython.core.display.HTML object>"
            ]
          },
          "metadata": {
            "tags": []
          }
        },
        {
          "output_type": "display_data",
          "data": {
            "text/html": [
              "<span style=\"color:blue\"> |-tuner/round: 0</span>"
            ],
            "text/plain": [
              "<IPython.core.display.HTML object>"
            ]
          },
          "metadata": {
            "tags": []
          }
        },
        {
          "output_type": "stream",
          "text": [
            "Epoch 1/6\n",
            "13/13 [==============================] - 0s 31ms/step - loss: 0.9147 - mae: 0.7413 - val_loss: 0.1743 - val_mae: 0.3619\n",
            "Epoch 2/6\n",
            "13/13 [==============================] - 0s 15ms/step - loss: 0.6696 - mae: 0.6404 - val_loss: 0.1423 - val_mae: 0.3183\n",
            "Epoch 3/6\n",
            "13/13 [==============================] - 0s 14ms/step - loss: 0.6357 - mae: 0.6087 - val_loss: 0.1275 - val_mae: 0.2989\n",
            "Epoch 4/6\n",
            "13/13 [==============================] - 0s 13ms/step - loss: 0.5449 - mae: 0.5770 - val_loss: 0.1050 - val_mae: 0.2669\n",
            "Epoch 5/6\n",
            "13/13 [==============================] - 0s 13ms/step - loss: 0.4606 - mae: 0.5117 - val_loss: 0.0943 - val_mae: 0.2515\n",
            "Epoch 6/6\n",
            "13/13 [==============================] - 0s 14ms/step - loss: 0.3823 - mae: 0.4792 - val_loss: 0.0840 - val_mae: 0.2348\n",
            "Epoch 1/6\n",
            "13/13 [==============================] - 0s 29ms/step - loss: 1.5163 - mae: 0.9574 - val_loss: 0.3626 - val_mae: 0.5778\n",
            "Epoch 2/6\n",
            "13/13 [==============================] - 0s 11ms/step - loss: 0.9097 - mae: 0.7151 - val_loss: 0.1716 - val_mae: 0.3737\n",
            "Epoch 3/6\n",
            "13/13 [==============================] - 0s 18ms/step - loss: 0.5823 - mae: 0.5992 - val_loss: 0.1091 - val_mae: 0.2782\n",
            "Epoch 4/6\n",
            "13/13 [==============================] - 0s 19ms/step - loss: 0.5889 - mae: 0.5953 - val_loss: 0.0835 - val_mae: 0.2304\n",
            "Epoch 5/6\n",
            "13/13 [==============================] - 0s 14ms/step - loss: 0.4951 - mae: 0.5404 - val_loss: 0.0633 - val_mae: 0.1892\n",
            "Epoch 6/6\n",
            "13/13 [==============================] - 0s 13ms/step - loss: 0.5152 - mae: 0.5694 - val_loss: 0.0557 - val_mae: 0.1739\n"
          ],
          "name": "stdout"
        },
        {
          "output_type": "display_data",
          "data": {
            "text/html": [
              "<span style=\"color:#4527A0\"><h1 style=\"font-size:18px\">Trial complete</h1></span>"
            ],
            "text/plain": [
              "<IPython.core.display.HTML object>"
            ]
          },
          "metadata": {
            "tags": []
          }
        },
        {
          "output_type": "display_data",
          "data": {
            "text/html": [
              "<span style=\"color:#4527A0\"><h1 style=\"font-size:18px\">Trial summary</h1></span>"
            ],
            "text/plain": [
              "<IPython.core.display.HTML object>"
            ]
          },
          "metadata": {
            "tags": []
          }
        },
        {
          "output_type": "display_data",
          "data": {
            "text/html": [
              "<span style=\"color:cyan\"> |-Trial ID: 8736de3b83386edc2c6d4249a4668c23</span>"
            ],
            "text/plain": [
              "<IPython.core.display.HTML object>"
            ]
          },
          "metadata": {
            "tags": []
          }
        },
        {
          "output_type": "display_data",
          "data": {
            "text/html": [
              "<span style=\"color:cyan\"> |-Score: 0.20435722172260284</span>"
            ],
            "text/plain": [
              "<IPython.core.display.HTML object>"
            ]
          },
          "metadata": {
            "tags": []
          }
        },
        {
          "output_type": "display_data",
          "data": {
            "text/html": [
              "<span style=\"color:cyan\"> |-Best step: 0</span>"
            ],
            "text/plain": [
              "<IPython.core.display.HTML object>"
            ]
          },
          "metadata": {
            "tags": []
          }
        },
        {
          "output_type": "display_data",
          "data": {
            "text/html": [
              "<span style=\"color:#7E57C2\"><h2 style=\"font-size:16px\">Hyperparameters:</h2></span>"
            ],
            "text/plain": [
              "<IPython.core.display.HTML object>"
            ]
          },
          "metadata": {
            "tags": []
          }
        },
        {
          "output_type": "display_data",
          "data": {
            "text/html": [
              "<span style=\"color:cyan\"> |-dense_0: 96</span>"
            ],
            "text/plain": [
              "<IPython.core.display.HTML object>"
            ]
          },
          "metadata": {
            "tags": []
          }
        },
        {
          "output_type": "display_data",
          "data": {
            "text/html": [
              "<span style=\"color:blue\"> |-dense_1: 64</span>"
            ],
            "text/plain": [
              "<IPython.core.display.HTML object>"
            ]
          },
          "metadata": {
            "tags": []
          }
        },
        {
          "output_type": "display_data",
          "data": {
            "text/html": [
              "<span style=\"color:cyan\"> |-dense_2: 64</span>"
            ],
            "text/plain": [
              "<IPython.core.display.HTML object>"
            ]
          },
          "metadata": {
            "tags": []
          }
        },
        {
          "output_type": "display_data",
          "data": {
            "text/html": [
              "<span style=\"color:blue\"> |-dense_input: 32</span>"
            ],
            "text/plain": [
              "<IPython.core.display.HTML object>"
            ]
          },
          "metadata": {
            "tags": []
          }
        },
        {
          "output_type": "display_data",
          "data": {
            "text/html": [
              "<span style=\"color:cyan\"> |-drop_0: 0.1</span>"
            ],
            "text/plain": [
              "<IPython.core.display.HTML object>"
            ]
          },
          "metadata": {
            "tags": []
          }
        },
        {
          "output_type": "display_data",
          "data": {
            "text/html": [
              "<span style=\"color:blue\"> |-drop_1: 0.1</span>"
            ],
            "text/plain": [
              "<IPython.core.display.HTML object>"
            ]
          },
          "metadata": {
            "tags": []
          }
        },
        {
          "output_type": "display_data",
          "data": {
            "text/html": [
              "<span style=\"color:cyan\"> |-drop_2: 0.1</span>"
            ],
            "text/plain": [
              "<IPython.core.display.HTML object>"
            ]
          },
          "metadata": {
            "tags": []
          }
        },
        {
          "output_type": "display_data",
          "data": {
            "text/html": [
              "<span style=\"color:blue\"> |-drop_input: 0.0</span>"
            ],
            "text/plain": [
              "<IPython.core.display.HTML object>"
            ]
          },
          "metadata": {
            "tags": []
          }
        },
        {
          "output_type": "display_data",
          "data": {
            "text/html": [
              "<span style=\"color:cyan\"> |-lr: 0.0002411508350699615</span>"
            ],
            "text/plain": [
              "<IPython.core.display.HTML object>"
            ]
          },
          "metadata": {
            "tags": []
          }
        },
        {
          "output_type": "display_data",
          "data": {
            "text/html": [
              "<span style=\"color:blue\"> |-num_intermediate_layers: 2</span>"
            ],
            "text/plain": [
              "<IPython.core.display.HTML object>"
            ]
          },
          "metadata": {
            "tags": []
          }
        },
        {
          "output_type": "display_data",
          "data": {
            "text/html": [
              "<span style=\"color:cyan\"> |-tuner/bracket: 2</span>"
            ],
            "text/plain": [
              "<IPython.core.display.HTML object>"
            ]
          },
          "metadata": {
            "tags": []
          }
        },
        {
          "output_type": "display_data",
          "data": {
            "text/html": [
              "<span style=\"color:blue\"> |-tuner/epochs: 6</span>"
            ],
            "text/plain": [
              "<IPython.core.display.HTML object>"
            ]
          },
          "metadata": {
            "tags": []
          }
        },
        {
          "output_type": "display_data",
          "data": {
            "text/html": [
              "<span style=\"color:cyan\"> |-tuner/initial_epoch: 0</span>"
            ],
            "text/plain": [
              "<IPython.core.display.HTML object>"
            ]
          },
          "metadata": {
            "tags": []
          }
        },
        {
          "output_type": "display_data",
          "data": {
            "text/html": [
              "<span style=\"color:blue\"> |-tuner/round: 0</span>"
            ],
            "text/plain": [
              "<IPython.core.display.HTML object>"
            ]
          },
          "metadata": {
            "tags": []
          }
        },
        {
          "output_type": "stream",
          "text": [
            "Epoch 1/6\n",
            "13/13 [==============================] - 1s 39ms/step - loss: 1.9416 - mae: 1.0619 - val_loss: 0.2534 - val_mae: 0.4652\n",
            "Epoch 2/6\n",
            "13/13 [==============================] - 0s 15ms/step - loss: 1.7234 - mae: 1.0003 - val_loss: 0.1627 - val_mae: 0.3534\n",
            "Epoch 3/6\n",
            "13/13 [==============================] - 0s 16ms/step - loss: 1.2788 - mae: 0.8579 - val_loss: 0.1190 - val_mae: 0.2895\n",
            "Epoch 4/6\n",
            "13/13 [==============================] - 0s 15ms/step - loss: 1.2184 - mae: 0.8428 - val_loss: 0.0925 - val_mae: 0.2456\n",
            "Epoch 5/6\n",
            "13/13 [==============================] - 0s 17ms/step - loss: 1.4280 - mae: 0.9244 - val_loss: 0.0851 - val_mae: 0.2339\n",
            "Epoch 6/6\n",
            "13/13 [==============================] - 0s 17ms/step - loss: 1.1711 - mae: 0.8073 - val_loss: 0.0751 - val_mae: 0.2175\n",
            "Epoch 1/6\n",
            "13/13 [==============================] - 0s 33ms/step - loss: 1.7809 - mae: 1.0248 - val_loss: 0.2834 - val_mae: 0.4511\n",
            "Epoch 2/6\n",
            "13/13 [==============================] - 0s 13ms/step - loss: 1.7253 - mae: 1.0181 - val_loss: 0.2373 - val_mae: 0.4215\n",
            "Epoch 3/6\n",
            "13/13 [==============================] - 0s 13ms/step - loss: 1.1970 - mae: 0.8380 - val_loss: 0.2183 - val_mae: 0.4107\n",
            "Epoch 4/6\n",
            "13/13 [==============================] - 0s 13ms/step - loss: 1.1725 - mae: 0.8045 - val_loss: 0.1719 - val_mae: 0.3531\n",
            "Epoch 5/6\n",
            "13/13 [==============================] - 0s 12ms/step - loss: 1.0438 - mae: 0.8164 - val_loss: 0.1252 - val_mae: 0.2923\n",
            "Epoch 6/6\n",
            "13/13 [==============================] - 0s 12ms/step - loss: 1.0709 - mae: 0.7912 - val_loss: 0.1080 - val_mae: 0.2699\n"
          ],
          "name": "stdout"
        },
        {
          "output_type": "display_data",
          "data": {
            "text/html": [
              "<span style=\"color:#4527A0\"><h1 style=\"font-size:18px\">Trial complete</h1></span>"
            ],
            "text/plain": [
              "<IPython.core.display.HTML object>"
            ]
          },
          "metadata": {
            "tags": []
          }
        },
        {
          "output_type": "display_data",
          "data": {
            "text/html": [
              "<span style=\"color:#4527A0\"><h1 style=\"font-size:18px\">Trial summary</h1></span>"
            ],
            "text/plain": [
              "<IPython.core.display.HTML object>"
            ]
          },
          "metadata": {
            "tags": []
          }
        },
        {
          "output_type": "display_data",
          "data": {
            "text/html": [
              "<span style=\"color:cyan\"> |-Trial ID: 67c6f2c917988ce9fd7bf858568d55cd</span>"
            ],
            "text/plain": [
              "<IPython.core.display.HTML object>"
            ]
          },
          "metadata": {
            "tags": []
          }
        },
        {
          "output_type": "display_data",
          "data": {
            "text/html": [
              "<span style=\"color:cyan\"> |-Score: 0.24371332675218582</span>"
            ],
            "text/plain": [
              "<IPython.core.display.HTML object>"
            ]
          },
          "metadata": {
            "tags": []
          }
        },
        {
          "output_type": "display_data",
          "data": {
            "text/html": [
              "<span style=\"color:cyan\"> |-Best step: 0</span>"
            ],
            "text/plain": [
              "<IPython.core.display.HTML object>"
            ]
          },
          "metadata": {
            "tags": []
          }
        },
        {
          "output_type": "display_data",
          "data": {
            "text/html": [
              "<span style=\"color:#7E57C2\"><h2 style=\"font-size:16px\">Hyperparameters:</h2></span>"
            ],
            "text/plain": [
              "<IPython.core.display.HTML object>"
            ]
          },
          "metadata": {
            "tags": []
          }
        },
        {
          "output_type": "display_data",
          "data": {
            "text/html": [
              "<span style=\"color:cyan\"> |-dense_0: 32</span>"
            ],
            "text/plain": [
              "<IPython.core.display.HTML object>"
            ]
          },
          "metadata": {
            "tags": []
          }
        },
        {
          "output_type": "display_data",
          "data": {
            "text/html": [
              "<span style=\"color:blue\"> |-dense_1: 96</span>"
            ],
            "text/plain": [
              "<IPython.core.display.HTML object>"
            ]
          },
          "metadata": {
            "tags": []
          }
        },
        {
          "output_type": "display_data",
          "data": {
            "text/html": [
              "<span style=\"color:cyan\"> |-dense_2: 96</span>"
            ],
            "text/plain": [
              "<IPython.core.display.HTML object>"
            ]
          },
          "metadata": {
            "tags": []
          }
        },
        {
          "output_type": "display_data",
          "data": {
            "text/html": [
              "<span style=\"color:blue\"> |-dense_input: 64</span>"
            ],
            "text/plain": [
              "<IPython.core.display.HTML object>"
            ]
          },
          "metadata": {
            "tags": []
          }
        },
        {
          "output_type": "display_data",
          "data": {
            "text/html": [
              "<span style=\"color:cyan\"> |-drop_0: 0.2</span>"
            ],
            "text/plain": [
              "<IPython.core.display.HTML object>"
            ]
          },
          "metadata": {
            "tags": []
          }
        },
        {
          "output_type": "display_data",
          "data": {
            "text/html": [
              "<span style=\"color:blue\"> |-drop_1: 0.1</span>"
            ],
            "text/plain": [
              "<IPython.core.display.HTML object>"
            ]
          },
          "metadata": {
            "tags": []
          }
        },
        {
          "output_type": "display_data",
          "data": {
            "text/html": [
              "<span style=\"color:cyan\"> |-drop_2: 0.30000000000000004</span>"
            ],
            "text/plain": [
              "<IPython.core.display.HTML object>"
            ]
          },
          "metadata": {
            "tags": []
          }
        },
        {
          "output_type": "display_data",
          "data": {
            "text/html": [
              "<span style=\"color:blue\"> |-drop_input: 0.1</span>"
            ],
            "text/plain": [
              "<IPython.core.display.HTML object>"
            ]
          },
          "metadata": {
            "tags": []
          }
        },
        {
          "output_type": "display_data",
          "data": {
            "text/html": [
              "<span style=\"color:cyan\"> |-lr: 0.00028884164416677734</span>"
            ],
            "text/plain": [
              "<IPython.core.display.HTML object>"
            ]
          },
          "metadata": {
            "tags": []
          }
        },
        {
          "output_type": "display_data",
          "data": {
            "text/html": [
              "<span style=\"color:blue\"> |-num_intermediate_layers: 3</span>"
            ],
            "text/plain": [
              "<IPython.core.display.HTML object>"
            ]
          },
          "metadata": {
            "tags": []
          }
        },
        {
          "output_type": "display_data",
          "data": {
            "text/html": [
              "<span style=\"color:cyan\"> |-tuner/bracket: 2</span>"
            ],
            "text/plain": [
              "<IPython.core.display.HTML object>"
            ]
          },
          "metadata": {
            "tags": []
          }
        },
        {
          "output_type": "display_data",
          "data": {
            "text/html": [
              "<span style=\"color:blue\"> |-tuner/epochs: 6</span>"
            ],
            "text/plain": [
              "<IPython.core.display.HTML object>"
            ]
          },
          "metadata": {
            "tags": []
          }
        },
        {
          "output_type": "display_data",
          "data": {
            "text/html": [
              "<span style=\"color:cyan\"> |-tuner/initial_epoch: 0</span>"
            ],
            "text/plain": [
              "<IPython.core.display.HTML object>"
            ]
          },
          "metadata": {
            "tags": []
          }
        },
        {
          "output_type": "display_data",
          "data": {
            "text/html": [
              "<span style=\"color:blue\"> |-tuner/round: 0</span>"
            ],
            "text/plain": [
              "<IPython.core.display.HTML object>"
            ]
          },
          "metadata": {
            "tags": []
          }
        },
        {
          "output_type": "stream",
          "text": [
            "Epoch 1/6\n",
            "13/13 [==============================] - 0s 32ms/step - loss: 0.5667 - mae: 0.5579 - val_loss: 0.0727 - val_mae: 0.2059\n",
            "Epoch 2/6\n",
            "13/13 [==============================] - 0s 13ms/step - loss: 0.1707 - mae: 0.3056 - val_loss: 0.0514 - val_mae: 0.1710\n",
            "Epoch 3/6\n",
            "13/13 [==============================] - 0s 15ms/step - loss: 0.0765 - mae: 0.2059 - val_loss: 0.0387 - val_mae: 0.1449\n",
            "Epoch 4/6\n",
            "13/13 [==============================] - 0s 14ms/step - loss: 0.0386 - mae: 0.1479 - val_loss: 0.0361 - val_mae: 0.1379\n",
            "Epoch 5/6\n",
            "13/13 [==============================] - 0s 11ms/step - loss: 0.0343 - mae: 0.1444 - val_loss: 0.0386 - val_mae: 0.1436\n",
            "Epoch 6/6\n",
            "13/13 [==============================] - 0s 13ms/step - loss: 0.0305 - mae: 0.1343 - val_loss: 0.0378 - val_mae: 0.1415\n",
            "Epoch 1/6\n",
            "13/13 [==============================] - 0s 29ms/step - loss: 0.8101 - mae: 0.6578 - val_loss: 0.0677 - val_mae: 0.2007\n",
            "Epoch 2/6\n",
            "13/13 [==============================] - 0s 11ms/step - loss: 0.2317 - mae: 0.3574 - val_loss: 0.0434 - val_mae: 0.1514\n",
            "Epoch 3/6\n",
            "13/13 [==============================] - 0s 13ms/step - loss: 0.1145 - mae: 0.2580 - val_loss: 0.0343 - val_mae: 0.1296\n",
            "Epoch 4/6\n",
            "13/13 [==============================] - 0s 12ms/step - loss: 0.0810 - mae: 0.2231 - val_loss: 0.0419 - val_mae: 0.1478\n",
            "Epoch 5/6\n",
            "13/13 [==============================] - 0s 13ms/step - loss: 0.0495 - mae: 0.1637 - val_loss: 0.0389 - val_mae: 0.1429\n",
            "Epoch 6/6\n",
            "13/13 [==============================] - 0s 12ms/step - loss: 0.0483 - mae: 0.1578 - val_loss: 0.0381 - val_mae: 0.1447\n"
          ],
          "name": "stdout"
        },
        {
          "output_type": "display_data",
          "data": {
            "text/html": [
              "<span style=\"color:#4527A0\"><h1 style=\"font-size:18px\">Trial complete</h1></span>"
            ],
            "text/plain": [
              "<IPython.core.display.HTML object>"
            ]
          },
          "metadata": {
            "tags": []
          }
        },
        {
          "output_type": "display_data",
          "data": {
            "text/html": [
              "<span style=\"color:#4527A0\"><h1 style=\"font-size:18px\">Trial summary</h1></span>"
            ],
            "text/plain": [
              "<IPython.core.display.HTML object>"
            ]
          },
          "metadata": {
            "tags": []
          }
        },
        {
          "output_type": "display_data",
          "data": {
            "text/html": [
              "<span style=\"color:cyan\"> |-Trial ID: 99773e2fb286ca2b325bd669fb4e2079</span>"
            ],
            "text/plain": [
              "<IPython.core.display.HTML object>"
            ]
          },
          "metadata": {
            "tags": []
          }
        },
        {
          "output_type": "display_data",
          "data": {
            "text/html": [
              "<span style=\"color:cyan\"> |-Score: 0.1337677240371704</span>"
            ],
            "text/plain": [
              "<IPython.core.display.HTML object>"
            ]
          },
          "metadata": {
            "tags": []
          }
        },
        {
          "output_type": "display_data",
          "data": {
            "text/html": [
              "<span style=\"color:cyan\"> |-Best step: 0</span>"
            ],
            "text/plain": [
              "<IPython.core.display.HTML object>"
            ]
          },
          "metadata": {
            "tags": []
          }
        },
        {
          "output_type": "display_data",
          "data": {
            "text/html": [
              "<span style=\"color:#7E57C2\"><h2 style=\"font-size:16px\">Hyperparameters:</h2></span>"
            ],
            "text/plain": [
              "<IPython.core.display.HTML object>"
            ]
          },
          "metadata": {
            "tags": []
          }
        },
        {
          "output_type": "display_data",
          "data": {
            "text/html": [
              "<span style=\"color:cyan\"> |-dense_0: 32</span>"
            ],
            "text/plain": [
              "<IPython.core.display.HTML object>"
            ]
          },
          "metadata": {
            "tags": []
          }
        },
        {
          "output_type": "display_data",
          "data": {
            "text/html": [
              "<span style=\"color:blue\"> |-dense_1: 128</span>"
            ],
            "text/plain": [
              "<IPython.core.display.HTML object>"
            ]
          },
          "metadata": {
            "tags": []
          }
        },
        {
          "output_type": "display_data",
          "data": {
            "text/html": [
              "<span style=\"color:cyan\"> |-dense_2: 128</span>"
            ],
            "text/plain": [
              "<IPython.core.display.HTML object>"
            ]
          },
          "metadata": {
            "tags": []
          }
        },
        {
          "output_type": "display_data",
          "data": {
            "text/html": [
              "<span style=\"color:blue\"> |-dense_input: 64</span>"
            ],
            "text/plain": [
              "<IPython.core.display.HTML object>"
            ]
          },
          "metadata": {
            "tags": []
          }
        },
        {
          "output_type": "display_data",
          "data": {
            "text/html": [
              "<span style=\"color:cyan\"> |-drop_0: 0.2</span>"
            ],
            "text/plain": [
              "<IPython.core.display.HTML object>"
            ]
          },
          "metadata": {
            "tags": []
          }
        },
        {
          "output_type": "display_data",
          "data": {
            "text/html": [
              "<span style=\"color:blue\"> |-drop_1: 0.0</span>"
            ],
            "text/plain": [
              "<IPython.core.display.HTML object>"
            ]
          },
          "metadata": {
            "tags": []
          }
        },
        {
          "output_type": "display_data",
          "data": {
            "text/html": [
              "<span style=\"color:cyan\"> |-drop_2: 0.2</span>"
            ],
            "text/plain": [
              "<IPython.core.display.HTML object>"
            ]
          },
          "metadata": {
            "tags": []
          }
        },
        {
          "output_type": "display_data",
          "data": {
            "text/html": [
              "<span style=\"color:blue\"> |-drop_input: 0.2</span>"
            ],
            "text/plain": [
              "<IPython.core.display.HTML object>"
            ]
          },
          "metadata": {
            "tags": []
          }
        },
        {
          "output_type": "display_data",
          "data": {
            "text/html": [
              "<span style=\"color:cyan\"> |-lr: 0.00874380901685249</span>"
            ],
            "text/plain": [
              "<IPython.core.display.HTML object>"
            ]
          },
          "metadata": {
            "tags": []
          }
        },
        {
          "output_type": "display_data",
          "data": {
            "text/html": [
              "<span style=\"color:blue\"> |-num_intermediate_layers: 2</span>"
            ],
            "text/plain": [
              "<IPython.core.display.HTML object>"
            ]
          },
          "metadata": {
            "tags": []
          }
        },
        {
          "output_type": "display_data",
          "data": {
            "text/html": [
              "<span style=\"color:cyan\"> |-tuner/bracket: 2</span>"
            ],
            "text/plain": [
              "<IPython.core.display.HTML object>"
            ]
          },
          "metadata": {
            "tags": []
          }
        },
        {
          "output_type": "display_data",
          "data": {
            "text/html": [
              "<span style=\"color:blue\"> |-tuner/epochs: 6</span>"
            ],
            "text/plain": [
              "<IPython.core.display.HTML object>"
            ]
          },
          "metadata": {
            "tags": []
          }
        },
        {
          "output_type": "display_data",
          "data": {
            "text/html": [
              "<span style=\"color:cyan\"> |-tuner/initial_epoch: 0</span>"
            ],
            "text/plain": [
              "<IPython.core.display.HTML object>"
            ]
          },
          "metadata": {
            "tags": []
          }
        },
        {
          "output_type": "display_data",
          "data": {
            "text/html": [
              "<span style=\"color:blue\"> |-tuner/round: 0</span>"
            ],
            "text/plain": [
              "<IPython.core.display.HTML object>"
            ]
          },
          "metadata": {
            "tags": []
          }
        },
        {
          "output_type": "stream",
          "text": [
            "Epoch 1/6\n",
            "13/13 [==============================] - 0s 33ms/step - loss: 1.9102 - mae: 1.0109 - val_loss: 0.1147 - val_mae: 0.2878\n",
            "Epoch 2/6\n",
            "13/13 [==============================] - 0s 13ms/step - loss: 1.2184 - mae: 0.8652 - val_loss: 0.0858 - val_mae: 0.2427\n",
            "Epoch 3/6\n",
            "13/13 [==============================] - 0s 16ms/step - loss: 0.9222 - mae: 0.7486 - val_loss: 0.0593 - val_mae: 0.1929\n",
            "Epoch 4/6\n",
            "13/13 [==============================] - 0s 23ms/step - loss: 0.6424 - mae: 0.6121 - val_loss: 0.0475 - val_mae: 0.1660\n",
            "Epoch 5/6\n",
            "13/13 [==============================] - 0s 14ms/step - loss: 0.5691 - mae: 0.5833 - val_loss: 0.0431 - val_mae: 0.1556\n",
            "Epoch 6/6\n",
            "13/13 [==============================] - 0s 11ms/step - loss: 0.5311 - mae: 0.5468 - val_loss: 0.0463 - val_mae: 0.1626\n",
            "Epoch 1/6\n",
            "13/13 [==============================] - 0s 30ms/step - loss: 1.5116 - mae: 0.9740 - val_loss: 0.2380 - val_mae: 0.4557\n",
            "Epoch 2/6\n",
            "13/13 [==============================] - 0s 11ms/step - loss: 0.9344 - mae: 0.7204 - val_loss: 0.1281 - val_mae: 0.3098\n",
            "Epoch 3/6\n",
            "13/13 [==============================] - 0s 11ms/step - loss: 0.6709 - mae: 0.6181 - val_loss: 0.0706 - val_mae: 0.2105\n",
            "Epoch 4/6\n",
            "13/13 [==============================] - 0s 12ms/step - loss: 0.6119 - mae: 0.5914 - val_loss: 0.0511 - val_mae: 0.1725\n",
            "Epoch 5/6\n",
            "13/13 [==============================] - 0s 14ms/step - loss: 0.4492 - mae: 0.5190 - val_loss: 0.0422 - val_mae: 0.1504\n",
            "Epoch 6/6\n",
            "13/13 [==============================] - 0s 14ms/step - loss: 0.4949 - mae: 0.5313 - val_loss: 0.0387 - val_mae: 0.1394\n"
          ],
          "name": "stdout"
        },
        {
          "output_type": "display_data",
          "data": {
            "text/html": [
              "<span style=\"color:#4527A0\"><h1 style=\"font-size:18px\">Trial complete</h1></span>"
            ],
            "text/plain": [
              "<IPython.core.display.HTML object>"
            ]
          },
          "metadata": {
            "tags": []
          }
        },
        {
          "output_type": "display_data",
          "data": {
            "text/html": [
              "<span style=\"color:#4527A0\"><h1 style=\"font-size:18px\">Trial summary</h1></span>"
            ],
            "text/plain": [
              "<IPython.core.display.HTML object>"
            ]
          },
          "metadata": {
            "tags": []
          }
        },
        {
          "output_type": "display_data",
          "data": {
            "text/html": [
              "<span style=\"color:cyan\"> |-Trial ID: d2570f7790a8fee2dc2ac62fab1553a3</span>"
            ],
            "text/plain": [
              "<IPython.core.display.HTML object>"
            ]
          },
          "metadata": {
            "tags": []
          }
        },
        {
          "output_type": "display_data",
          "data": {
            "text/html": [
              "<span style=\"color:cyan\"> |-Score: 0.14750327914953232</span>"
            ],
            "text/plain": [
              "<IPython.core.display.HTML object>"
            ]
          },
          "metadata": {
            "tags": []
          }
        },
        {
          "output_type": "display_data",
          "data": {
            "text/html": [
              "<span style=\"color:cyan\"> |-Best step: 0</span>"
            ],
            "text/plain": [
              "<IPython.core.display.HTML object>"
            ]
          },
          "metadata": {
            "tags": []
          }
        },
        {
          "output_type": "display_data",
          "data": {
            "text/html": [
              "<span style=\"color:#7E57C2\"><h2 style=\"font-size:16px\">Hyperparameters:</h2></span>"
            ],
            "text/plain": [
              "<IPython.core.display.HTML object>"
            ]
          },
          "metadata": {
            "tags": []
          }
        },
        {
          "output_type": "display_data",
          "data": {
            "text/html": [
              "<span style=\"color:cyan\"> |-dense_0: 32</span>"
            ],
            "text/plain": [
              "<IPython.core.display.HTML object>"
            ]
          },
          "metadata": {
            "tags": []
          }
        },
        {
          "output_type": "display_data",
          "data": {
            "text/html": [
              "<span style=\"color:blue\"> |-dense_1: 64</span>"
            ],
            "text/plain": [
              "<IPython.core.display.HTML object>"
            ]
          },
          "metadata": {
            "tags": []
          }
        },
        {
          "output_type": "display_data",
          "data": {
            "text/html": [
              "<span style=\"color:cyan\"> |-dense_2: 128</span>"
            ],
            "text/plain": [
              "<IPython.core.display.HTML object>"
            ]
          },
          "metadata": {
            "tags": []
          }
        },
        {
          "output_type": "display_data",
          "data": {
            "text/html": [
              "<span style=\"color:blue\"> |-dense_input: 96</span>"
            ],
            "text/plain": [
              "<IPython.core.display.HTML object>"
            ]
          },
          "metadata": {
            "tags": []
          }
        },
        {
          "output_type": "display_data",
          "data": {
            "text/html": [
              "<span style=\"color:cyan\"> |-drop_0: 0.30000000000000004</span>"
            ],
            "text/plain": [
              "<IPython.core.display.HTML object>"
            ]
          },
          "metadata": {
            "tags": []
          }
        },
        {
          "output_type": "display_data",
          "data": {
            "text/html": [
              "<span style=\"color:blue\"> |-drop_1: 0.2</span>"
            ],
            "text/plain": [
              "<IPython.core.display.HTML object>"
            ]
          },
          "metadata": {
            "tags": []
          }
        },
        {
          "output_type": "display_data",
          "data": {
            "text/html": [
              "<span style=\"color:cyan\"> |-drop_2: 0.1</span>"
            ],
            "text/plain": [
              "<IPython.core.display.HTML object>"
            ]
          },
          "metadata": {
            "tags": []
          }
        },
        {
          "output_type": "display_data",
          "data": {
            "text/html": [
              "<span style=\"color:blue\"> |-drop_input: 0.30000000000000004</span>"
            ],
            "text/plain": [
              "<IPython.core.display.HTML object>"
            ]
          },
          "metadata": {
            "tags": []
          }
        },
        {
          "output_type": "display_data",
          "data": {
            "text/html": [
              "<span style=\"color:cyan\"> |-lr: 0.0007999550401225116</span>"
            ],
            "text/plain": [
              "<IPython.core.display.HTML object>"
            ]
          },
          "metadata": {
            "tags": []
          }
        },
        {
          "output_type": "display_data",
          "data": {
            "text/html": [
              "<span style=\"color:blue\"> |-num_intermediate_layers: 2</span>"
            ],
            "text/plain": [
              "<IPython.core.display.HTML object>"
            ]
          },
          "metadata": {
            "tags": []
          }
        },
        {
          "output_type": "display_data",
          "data": {
            "text/html": [
              "<span style=\"color:cyan\"> |-tuner/bracket: 2</span>"
            ],
            "text/plain": [
              "<IPython.core.display.HTML object>"
            ]
          },
          "metadata": {
            "tags": []
          }
        },
        {
          "output_type": "display_data",
          "data": {
            "text/html": [
              "<span style=\"color:blue\"> |-tuner/epochs: 6</span>"
            ],
            "text/plain": [
              "<IPython.core.display.HTML object>"
            ]
          },
          "metadata": {
            "tags": []
          }
        },
        {
          "output_type": "display_data",
          "data": {
            "text/html": [
              "<span style=\"color:cyan\"> |-tuner/initial_epoch: 0</span>"
            ],
            "text/plain": [
              "<IPython.core.display.HTML object>"
            ]
          },
          "metadata": {
            "tags": []
          }
        },
        {
          "output_type": "display_data",
          "data": {
            "text/html": [
              "<span style=\"color:blue\"> |-tuner/round: 0</span>"
            ],
            "text/plain": [
              "<IPython.core.display.HTML object>"
            ]
          },
          "metadata": {
            "tags": []
          }
        },
        {
          "output_type": "stream",
          "text": [
            "Epoch 7/17\n",
            "13/13 [==============================] - 1s 42ms/step - loss: 1.1667 - mae: 0.8140 - val_loss: 0.0414 - val_mae: 0.1469\n",
            "Epoch 8/17\n",
            "13/13 [==============================] - 0s 11ms/step - loss: 0.4659 - mae: 0.5160 - val_loss: 0.0430 - val_mae: 0.1614\n",
            "Epoch 9/17\n",
            "13/13 [==============================] - 0s 12ms/step - loss: 0.3034 - mae: 0.4121 - val_loss: 0.0461 - val_mae: 0.1603\n",
            "Epoch 10/17\n",
            "13/13 [==============================] - 0s 12ms/step - loss: 0.2376 - mae: 0.3660 - val_loss: 0.0441 - val_mae: 0.1532\n",
            "Epoch 11/17\n",
            "13/13 [==============================] - 0s 12ms/step - loss: 0.2184 - mae: 0.3537 - val_loss: 0.0627 - val_mae: 0.1967\n",
            "Epoch 12/17\n",
            "13/13 [==============================] - 0s 12ms/step - loss: 0.2388 - mae: 0.3617 - val_loss: 0.0423 - val_mae: 0.1494\n",
            "Epoch 7/17\n",
            "13/13 [==============================] - 0s 33ms/step - loss: 1.2896 - mae: 0.8624 - val_loss: 0.1412 - val_mae: 0.3317\n",
            "Epoch 8/17\n",
            "13/13 [==============================] - 0s 14ms/step - loss: 0.4808 - mae: 0.5193 - val_loss: 0.0386 - val_mae: 0.1416\n",
            "Epoch 9/17\n",
            "13/13 [==============================] - 0s 12ms/step - loss: 0.3234 - mae: 0.4354 - val_loss: 0.0400 - val_mae: 0.1488\n",
            "Epoch 10/17\n",
            "13/13 [==============================] - 0s 11ms/step - loss: 0.2539 - mae: 0.3765 - val_loss: 0.0415 - val_mae: 0.1458\n",
            "Epoch 11/17\n",
            "13/13 [==============================] - 0s 11ms/step - loss: 0.2073 - mae: 0.3447 - val_loss: 0.0466 - val_mae: 0.1569\n",
            "Epoch 12/17\n",
            "13/13 [==============================] - 0s 11ms/step - loss: 0.1748 - mae: 0.3186 - val_loss: 0.0547 - val_mae: 0.1823\n",
            "Epoch 13/17\n",
            "13/13 [==============================] - 0s 14ms/step - loss: 0.1670 - mae: 0.3143 - val_loss: 0.0383 - val_mae: 0.1408\n",
            "Epoch 14/17\n",
            "13/13 [==============================] - 0s 11ms/step - loss: 0.1676 - mae: 0.3111 - val_loss: 0.0416 - val_mae: 0.1490\n",
            "Epoch 15/17\n",
            "13/13 [==============================] - 0s 11ms/step - loss: 0.1620 - mae: 0.3028 - val_loss: 0.0508 - val_mae: 0.1716\n",
            "Epoch 16/17\n",
            "13/13 [==============================] - 0s 14ms/step - loss: 0.1749 - mae: 0.3158 - val_loss: 0.0314 - val_mae: 0.1290\n",
            "Epoch 17/17\n",
            "13/13 [==============================] - 0s 12ms/step - loss: 0.1689 - mae: 0.3113 - val_loss: 0.0377 - val_mae: 0.1419\n"
          ],
          "name": "stdout"
        },
        {
          "output_type": "display_data",
          "data": {
            "text/html": [
              "<span style=\"color:#4527A0\"><h1 style=\"font-size:18px\">Trial complete</h1></span>"
            ],
            "text/plain": [
              "<IPython.core.display.HTML object>"
            ]
          },
          "metadata": {
            "tags": []
          }
        },
        {
          "output_type": "display_data",
          "data": {
            "text/html": [
              "<span style=\"color:#4527A0\"><h1 style=\"font-size:18px\">Trial summary</h1></span>"
            ],
            "text/plain": [
              "<IPython.core.display.HTML object>"
            ]
          },
          "metadata": {
            "tags": []
          }
        },
        {
          "output_type": "display_data",
          "data": {
            "text/html": [
              "<span style=\"color:cyan\"> |-Trial ID: 4580771811b9a59e0e9f53f142aeeb59</span>"
            ],
            "text/plain": [
              "<IPython.core.display.HTML object>"
            ]
          },
          "metadata": {
            "tags": []
          }
        },
        {
          "output_type": "display_data",
          "data": {
            "text/html": [
              "<span style=\"color:cyan\"> |-Score: 0.13792579621076584</span>"
            ],
            "text/plain": [
              "<IPython.core.display.HTML object>"
            ]
          },
          "metadata": {
            "tags": []
          }
        },
        {
          "output_type": "display_data",
          "data": {
            "text/html": [
              "<span style=\"color:cyan\"> |-Best step: 0</span>"
            ],
            "text/plain": [
              "<IPython.core.display.HTML object>"
            ]
          },
          "metadata": {
            "tags": []
          }
        },
        {
          "output_type": "display_data",
          "data": {
            "text/html": [
              "<span style=\"color:#7E57C2\"><h2 style=\"font-size:16px\">Hyperparameters:</h2></span>"
            ],
            "text/plain": [
              "<IPython.core.display.HTML object>"
            ]
          },
          "metadata": {
            "tags": []
          }
        },
        {
          "output_type": "display_data",
          "data": {
            "text/html": [
              "<span style=\"color:cyan\"> |-dense_0: 128</span>"
            ],
            "text/plain": [
              "<IPython.core.display.HTML object>"
            ]
          },
          "metadata": {
            "tags": []
          }
        },
        {
          "output_type": "display_data",
          "data": {
            "text/html": [
              "<span style=\"color:blue\"> |-dense_1: 64</span>"
            ],
            "text/plain": [
              "<IPython.core.display.HTML object>"
            ]
          },
          "metadata": {
            "tags": []
          }
        },
        {
          "output_type": "display_data",
          "data": {
            "text/html": [
              "<span style=\"color:cyan\"> |-dense_2: 32</span>"
            ],
            "text/plain": [
              "<IPython.core.display.HTML object>"
            ]
          },
          "metadata": {
            "tags": []
          }
        },
        {
          "output_type": "display_data",
          "data": {
            "text/html": [
              "<span style=\"color:blue\"> |-dense_input: 64</span>"
            ],
            "text/plain": [
              "<IPython.core.display.HTML object>"
            ]
          },
          "metadata": {
            "tags": []
          }
        },
        {
          "output_type": "display_data",
          "data": {
            "text/html": [
              "<span style=\"color:cyan\"> |-drop_0: 0.2</span>"
            ],
            "text/plain": [
              "<IPython.core.display.HTML object>"
            ]
          },
          "metadata": {
            "tags": []
          }
        },
        {
          "output_type": "display_data",
          "data": {
            "text/html": [
              "<span style=\"color:blue\"> |-drop_1: 0.1</span>"
            ],
            "text/plain": [
              "<IPython.core.display.HTML object>"
            ]
          },
          "metadata": {
            "tags": []
          }
        },
        {
          "output_type": "display_data",
          "data": {
            "text/html": [
              "<span style=\"color:cyan\"> |-drop_2: 0.30000000000000004</span>"
            ],
            "text/plain": [
              "<IPython.core.display.HTML object>"
            ]
          },
          "metadata": {
            "tags": []
          }
        },
        {
          "output_type": "display_data",
          "data": {
            "text/html": [
              "<span style=\"color:blue\"> |-drop_input: 0.2</span>"
            ],
            "text/plain": [
              "<IPython.core.display.HTML object>"
            ]
          },
          "metadata": {
            "tags": []
          }
        },
        {
          "output_type": "display_data",
          "data": {
            "text/html": [
              "<span style=\"color:cyan\"> |-lr: 0.0021971656107059785</span>"
            ],
            "text/plain": [
              "<IPython.core.display.HTML object>"
            ]
          },
          "metadata": {
            "tags": []
          }
        },
        {
          "output_type": "display_data",
          "data": {
            "text/html": [
              "<span style=\"color:blue\"> |-num_intermediate_layers: 2</span>"
            ],
            "text/plain": [
              "<IPython.core.display.HTML object>"
            ]
          },
          "metadata": {
            "tags": []
          }
        },
        {
          "output_type": "display_data",
          "data": {
            "text/html": [
              "<span style=\"color:cyan\"> |-tuner/bracket: 2</span>"
            ],
            "text/plain": [
              "<IPython.core.display.HTML object>"
            ]
          },
          "metadata": {
            "tags": []
          }
        },
        {
          "output_type": "display_data",
          "data": {
            "text/html": [
              "<span style=\"color:blue\"> |-tuner/epochs: 17</span>"
            ],
            "text/plain": [
              "<IPython.core.display.HTML object>"
            ]
          },
          "metadata": {
            "tags": []
          }
        },
        {
          "output_type": "display_data",
          "data": {
            "text/html": [
              "<span style=\"color:cyan\"> |-tuner/initial_epoch: 6</span>"
            ],
            "text/plain": [
              "<IPython.core.display.HTML object>"
            ]
          },
          "metadata": {
            "tags": []
          }
        },
        {
          "output_type": "display_data",
          "data": {
            "text/html": [
              "<span style=\"color:blue\"> |-tuner/round: 1</span>"
            ],
            "text/plain": [
              "<IPython.core.display.HTML object>"
            ]
          },
          "metadata": {
            "tags": []
          }
        },
        {
          "output_type": "display_data",
          "data": {
            "text/html": [
              "<span style=\"color:cyan\"> |-tuner/trial_id: 1a5c8d2b650ce31eb0aafa1f97c6a8d7</span>"
            ],
            "text/plain": [
              "<IPython.core.display.HTML object>"
            ]
          },
          "metadata": {
            "tags": []
          }
        },
        {
          "output_type": "stream",
          "text": [
            "Epoch 7/17\n",
            "13/13 [==============================] - 0s 33ms/step - loss: 1.4091 - mae: 0.8675 - val_loss: 0.0651 - val_mae: 0.1869\n",
            "Epoch 8/17\n",
            "13/13 [==============================] - 0s 11ms/step - loss: 0.4837 - mae: 0.5205 - val_loss: 0.0846 - val_mae: 0.2344\n",
            "Epoch 9/17\n",
            "13/13 [==============================] - 0s 13ms/step - loss: 0.3083 - mae: 0.4033 - val_loss: 0.0407 - val_mae: 0.1467\n",
            "Epoch 10/17\n",
            "13/13 [==============================] - 0s 11ms/step - loss: 0.1999 - mae: 0.3388 - val_loss: 0.0486 - val_mae: 0.1628\n",
            "Epoch 11/17\n",
            "13/13 [==============================] - 0s 13ms/step - loss: 0.1564 - mae: 0.2928 - val_loss: 0.0384 - val_mae: 0.1409\n",
            "Epoch 12/17\n",
            "13/13 [==============================] - 0s 12ms/step - loss: 0.1027 - mae: 0.2386 - val_loss: 0.0371 - val_mae: 0.1416\n",
            "Epoch 13/17\n",
            "13/13 [==============================] - 0s 14ms/step - loss: 0.0904 - mae: 0.2232 - val_loss: 0.0348 - val_mae: 0.1344\n",
            "Epoch 14/17\n",
            "13/13 [==============================] - 0s 11ms/step - loss: 0.0852 - mae: 0.2199 - val_loss: 0.0384 - val_mae: 0.1445\n",
            "Epoch 15/17\n",
            "13/13 [==============================] - 0s 12ms/step - loss: 0.0712 - mae: 0.1969 - val_loss: 0.0372 - val_mae: 0.1420\n",
            "Epoch 16/17\n",
            "13/13 [==============================] - 0s 11ms/step - loss: 0.0529 - mae: 0.1749 - val_loss: 0.0388 - val_mae: 0.1438\n",
            "Epoch 17/17\n",
            "13/13 [==============================] - 0s 12ms/step - loss: 0.0475 - mae: 0.1580 - val_loss: 0.0426 - val_mae: 0.1574\n",
            "Epoch 7/17\n",
            "13/13 [==============================] - 0s 33ms/step - loss: 1.2171 - mae: 0.8292 - val_loss: 0.0414 - val_mae: 0.1580\n",
            "Epoch 8/17\n",
            "13/13 [==============================] - 0s 22ms/step - loss: 0.4589 - mae: 0.5235 - val_loss: 0.0306 - val_mae: 0.1209\n",
            "Epoch 9/17\n",
            "13/13 [==============================] - 0s 13ms/step - loss: 0.2945 - mae: 0.4226 - val_loss: 0.0618 - val_mae: 0.1974\n",
            "Epoch 10/17\n",
            "13/13 [==============================] - 0s 11ms/step - loss: 0.2089 - mae: 0.3305 - val_loss: 0.0397 - val_mae: 0.1460\n",
            "Epoch 11/17\n",
            "13/13 [==============================] - 0s 12ms/step - loss: 0.1603 - mae: 0.2869 - val_loss: 0.0346 - val_mae: 0.1329\n",
            "Epoch 12/17\n",
            "13/13 [==============================] - 0s 11ms/step - loss: 0.1227 - mae: 0.2633 - val_loss: 0.0379 - val_mae: 0.1419\n",
            "Epoch 13/17\n",
            "13/13 [==============================] - 0s 12ms/step - loss: 0.1067 - mae: 0.2338 - val_loss: 0.0347 - val_mae: 0.1332\n"
          ],
          "name": "stdout"
        },
        {
          "output_type": "display_data",
          "data": {
            "text/html": [
              "<span style=\"color:#4527A0\"><h1 style=\"font-size:18px\">Trial complete</h1></span>"
            ],
            "text/plain": [
              "<IPython.core.display.HTML object>"
            ]
          },
          "metadata": {
            "tags": []
          }
        },
        {
          "output_type": "display_data",
          "data": {
            "text/html": [
              "<span style=\"color:#4527A0\"><h1 style=\"font-size:18px\">Trial summary</h1></span>"
            ],
            "text/plain": [
              "<IPython.core.display.HTML object>"
            ]
          },
          "metadata": {
            "tags": []
          }
        },
        {
          "output_type": "display_data",
          "data": {
            "text/html": [
              "<span style=\"color:cyan\"> |-Trial ID: 41712cc8debb678daaef92aa29de1769</span>"
            ],
            "text/plain": [
              "<IPython.core.display.HTML object>"
            ]
          },
          "metadata": {
            "tags": []
          }
        },
        {
          "output_type": "display_data",
          "data": {
            "text/html": [
              "<span style=\"color:cyan\"> |-Score: 0.1276620551943779</span>"
            ],
            "text/plain": [
              "<IPython.core.display.HTML object>"
            ]
          },
          "metadata": {
            "tags": []
          }
        },
        {
          "output_type": "display_data",
          "data": {
            "text/html": [
              "<span style=\"color:cyan\"> |-Best step: 0</span>"
            ],
            "text/plain": [
              "<IPython.core.display.HTML object>"
            ]
          },
          "metadata": {
            "tags": []
          }
        },
        {
          "output_type": "display_data",
          "data": {
            "text/html": [
              "<span style=\"color:#7E57C2\"><h2 style=\"font-size:16px\">Hyperparameters:</h2></span>"
            ],
            "text/plain": [
              "<IPython.core.display.HTML object>"
            ]
          },
          "metadata": {
            "tags": []
          }
        },
        {
          "output_type": "display_data",
          "data": {
            "text/html": [
              "<span style=\"color:cyan\"> |-dense_0: 96</span>"
            ],
            "text/plain": [
              "<IPython.core.display.HTML object>"
            ]
          },
          "metadata": {
            "tags": []
          }
        },
        {
          "output_type": "display_data",
          "data": {
            "text/html": [
              "<span style=\"color:blue\"> |-dense_1: 64</span>"
            ],
            "text/plain": [
              "<IPython.core.display.HTML object>"
            ]
          },
          "metadata": {
            "tags": []
          }
        },
        {
          "output_type": "display_data",
          "data": {
            "text/html": [
              "<span style=\"color:cyan\"> |-dense_2: 64</span>"
            ],
            "text/plain": [
              "<IPython.core.display.HTML object>"
            ]
          },
          "metadata": {
            "tags": []
          }
        },
        {
          "output_type": "display_data",
          "data": {
            "text/html": [
              "<span style=\"color:blue\"> |-dense_input: 64</span>"
            ],
            "text/plain": [
              "<IPython.core.display.HTML object>"
            ]
          },
          "metadata": {
            "tags": []
          }
        },
        {
          "output_type": "display_data",
          "data": {
            "text/html": [
              "<span style=\"color:cyan\"> |-drop_0: 0.2</span>"
            ],
            "text/plain": [
              "<IPython.core.display.HTML object>"
            ]
          },
          "metadata": {
            "tags": []
          }
        },
        {
          "output_type": "display_data",
          "data": {
            "text/html": [
              "<span style=\"color:blue\"> |-drop_1: 0.2</span>"
            ],
            "text/plain": [
              "<IPython.core.display.HTML object>"
            ]
          },
          "metadata": {
            "tags": []
          }
        },
        {
          "output_type": "display_data",
          "data": {
            "text/html": [
              "<span style=\"color:cyan\"> |-drop_2: 0.1</span>"
            ],
            "text/plain": [
              "<IPython.core.display.HTML object>"
            ]
          },
          "metadata": {
            "tags": []
          }
        },
        {
          "output_type": "display_data",
          "data": {
            "text/html": [
              "<span style=\"color:blue\"> |-drop_input: 0.1</span>"
            ],
            "text/plain": [
              "<IPython.core.display.HTML object>"
            ]
          },
          "metadata": {
            "tags": []
          }
        },
        {
          "output_type": "display_data",
          "data": {
            "text/html": [
              "<span style=\"color:cyan\"> |-lr: 0.00736437579965411</span>"
            ],
            "text/plain": [
              "<IPython.core.display.HTML object>"
            ]
          },
          "metadata": {
            "tags": []
          }
        },
        {
          "output_type": "display_data",
          "data": {
            "text/html": [
              "<span style=\"color:blue\"> |-num_intermediate_layers: 2</span>"
            ],
            "text/plain": [
              "<IPython.core.display.HTML object>"
            ]
          },
          "metadata": {
            "tags": []
          }
        },
        {
          "output_type": "display_data",
          "data": {
            "text/html": [
              "<span style=\"color:cyan\"> |-tuner/bracket: 2</span>"
            ],
            "text/plain": [
              "<IPython.core.display.HTML object>"
            ]
          },
          "metadata": {
            "tags": []
          }
        },
        {
          "output_type": "display_data",
          "data": {
            "text/html": [
              "<span style=\"color:blue\"> |-tuner/epochs: 17</span>"
            ],
            "text/plain": [
              "<IPython.core.display.HTML object>"
            ]
          },
          "metadata": {
            "tags": []
          }
        },
        {
          "output_type": "display_data",
          "data": {
            "text/html": [
              "<span style=\"color:cyan\"> |-tuner/initial_epoch: 6</span>"
            ],
            "text/plain": [
              "<IPython.core.display.HTML object>"
            ]
          },
          "metadata": {
            "tags": []
          }
        },
        {
          "output_type": "display_data",
          "data": {
            "text/html": [
              "<span style=\"color:blue\"> |-tuner/round: 1</span>"
            ],
            "text/plain": [
              "<IPython.core.display.HTML object>"
            ]
          },
          "metadata": {
            "tags": []
          }
        },
        {
          "output_type": "display_data",
          "data": {
            "text/html": [
              "<span style=\"color:cyan\"> |-tuner/trial_id: 46affa3227ab4f67bdc4a73f922f9c29</span>"
            ],
            "text/plain": [
              "<IPython.core.display.HTML object>"
            ]
          },
          "metadata": {
            "tags": []
          }
        },
        {
          "output_type": "stream",
          "text": [
            "Epoch 7/17\n",
            "13/13 [==============================] - 0s 27ms/step - loss: 1.3732 - mae: 0.8805 - val_loss: 0.0489 - val_mae: 0.1666\n",
            "Epoch 8/17\n",
            "13/13 [==============================] - 0s 10ms/step - loss: 0.4328 - mae: 0.5029 - val_loss: 0.0815 - val_mae: 0.2360\n",
            "Epoch 9/17\n",
            "13/13 [==============================] - 0s 10ms/step - loss: 0.2393 - mae: 0.3542 - val_loss: 0.0531 - val_mae: 0.1807\n",
            "Epoch 10/17\n",
            "13/13 [==============================] - 0s 12ms/step - loss: 0.1595 - mae: 0.2994 - val_loss: 0.0400 - val_mae: 0.1480\n",
            "Epoch 11/17\n",
            "13/13 [==============================] - 0s 11ms/step - loss: 0.1397 - mae: 0.2788 - val_loss: 0.0524 - val_mae: 0.1800\n",
            "Epoch 12/17\n",
            "13/13 [==============================] - 0s 10ms/step - loss: 0.1355 - mae: 0.2761 - val_loss: 0.0519 - val_mae: 0.1792\n",
            "Epoch 13/17\n",
            "13/13 [==============================] - 0s 12ms/step - loss: 0.1009 - mae: 0.2322 - val_loss: 0.0391 - val_mae: 0.1463\n",
            "Epoch 14/17\n",
            "13/13 [==============================] - 0s 10ms/step - loss: 0.0669 - mae: 0.1967 - val_loss: 0.0400 - val_mae: 0.1493\n",
            "Epoch 15/17\n",
            "13/13 [==============================] - 0s 10ms/step - loss: 0.0744 - mae: 0.2038 - val_loss: 0.0440 - val_mae: 0.1609\n",
            "Epoch 16/17\n",
            "13/13 [==============================] - 0s 10ms/step - loss: 0.0688 - mae: 0.1937 - val_loss: 0.0422 - val_mae: 0.1574\n",
            "Epoch 17/17\n",
            "13/13 [==============================] - 0s 12ms/step - loss: 0.0450 - mae: 0.1514 - val_loss: 0.0382 - val_mae: 0.1442\n",
            "Epoch 7/17\n",
            "13/13 [==============================] - 0s 24ms/step - loss: 1.2647 - mae: 0.8425 - val_loss: 0.0854 - val_mae: 0.2446\n",
            "Epoch 8/17\n",
            "13/13 [==============================] - 0s 11ms/step - loss: 0.4261 - mae: 0.5069 - val_loss: 0.0758 - val_mae: 0.2158\n",
            "Epoch 9/17\n",
            "13/13 [==============================] - 0s 10ms/step - loss: 0.3084 - mae: 0.4122 - val_loss: 0.0542 - val_mae: 0.1752\n",
            "Epoch 10/17\n",
            "13/13 [==============================] - 0s 10ms/step - loss: 0.2289 - mae: 0.3428 - val_loss: 0.0415 - val_mae: 0.1503\n",
            "Epoch 11/17\n",
            "13/13 [==============================] - 0s 10ms/step - loss: 0.1558 - mae: 0.2975 - val_loss: 0.0412 - val_mae: 0.1442\n",
            "Epoch 12/17\n",
            "13/13 [==============================] - 0s 10ms/step - loss: 0.1245 - mae: 0.2611 - val_loss: 0.0476 - val_mae: 0.1629\n",
            "Epoch 13/17\n",
            "13/13 [==============================] - 0s 10ms/step - loss: 0.0887 - mae: 0.2271 - val_loss: 0.0397 - val_mae: 0.1476\n",
            "Epoch 14/17\n",
            "13/13 [==============================] - 0s 12ms/step - loss: 0.0981 - mae: 0.2335 - val_loss: 0.0375 - val_mae: 0.1382\n",
            "Epoch 15/17\n",
            "13/13 [==============================] - 0s 13ms/step - loss: 0.0723 - mae: 0.1960 - val_loss: 0.0370 - val_mae: 0.1377\n",
            "Epoch 16/17\n",
            "13/13 [==============================] - 0s 13ms/step - loss: 0.0577 - mae: 0.1811 - val_loss: 0.0320 - val_mae: 0.1269\n",
            "Epoch 17/17\n",
            "13/13 [==============================] - 0s 11ms/step - loss: 0.0435 - mae: 0.1555 - val_loss: 0.0354 - val_mae: 0.1349\n"
          ],
          "name": "stdout"
        },
        {
          "output_type": "display_data",
          "data": {
            "text/html": [
              "<span style=\"color:#4527A0\"><h1 style=\"font-size:18px\">Trial complete</h1></span>"
            ],
            "text/plain": [
              "<IPython.core.display.HTML object>"
            ]
          },
          "metadata": {
            "tags": []
          }
        },
        {
          "output_type": "display_data",
          "data": {
            "text/html": [
              "<span style=\"color:#4527A0\"><h1 style=\"font-size:18px\">Trial summary</h1></span>"
            ],
            "text/plain": [
              "<IPython.core.display.HTML object>"
            ]
          },
          "metadata": {
            "tags": []
          }
        },
        {
          "output_type": "display_data",
          "data": {
            "text/html": [
              "<span style=\"color:cyan\"> |-Trial ID: b8744e0520e1e6068dda9c1520bee66d</span>"
            ],
            "text/plain": [
              "<IPython.core.display.HTML object>"
            ]
          },
          "metadata": {
            "tags": []
          }
        },
        {
          "output_type": "display_data",
          "data": {
            "text/html": [
              "<span style=\"color:cyan\"> |-Score: 0.13557647913694382</span>"
            ],
            "text/plain": [
              "<IPython.core.display.HTML object>"
            ]
          },
          "metadata": {
            "tags": []
          }
        },
        {
          "output_type": "display_data",
          "data": {
            "text/html": [
              "<span style=\"color:cyan\"> |-Best step: 0</span>"
            ],
            "text/plain": [
              "<IPython.core.display.HTML object>"
            ]
          },
          "metadata": {
            "tags": []
          }
        },
        {
          "output_type": "display_data",
          "data": {
            "text/html": [
              "<span style=\"color:#7E57C2\"><h2 style=\"font-size:16px\">Hyperparameters:</h2></span>"
            ],
            "text/plain": [
              "<IPython.core.display.HTML object>"
            ]
          },
          "metadata": {
            "tags": []
          }
        },
        {
          "output_type": "display_data",
          "data": {
            "text/html": [
              "<span style=\"color:cyan\"> |-dense_0: 64</span>"
            ],
            "text/plain": [
              "<IPython.core.display.HTML object>"
            ]
          },
          "metadata": {
            "tags": []
          }
        },
        {
          "output_type": "display_data",
          "data": {
            "text/html": [
              "<span style=\"color:blue\"> |-dense_1: 96</span>"
            ],
            "text/plain": [
              "<IPython.core.display.HTML object>"
            ]
          },
          "metadata": {
            "tags": []
          }
        },
        {
          "output_type": "display_data",
          "data": {
            "text/html": [
              "<span style=\"color:cyan\"> |-dense_2: 128</span>"
            ],
            "text/plain": [
              "<IPython.core.display.HTML object>"
            ]
          },
          "metadata": {
            "tags": []
          }
        },
        {
          "output_type": "display_data",
          "data": {
            "text/html": [
              "<span style=\"color:blue\"> |-dense_input: 64</span>"
            ],
            "text/plain": [
              "<IPython.core.display.HTML object>"
            ]
          },
          "metadata": {
            "tags": []
          }
        },
        {
          "output_type": "display_data",
          "data": {
            "text/html": [
              "<span style=\"color:cyan\"> |-drop_0: 0.2</span>"
            ],
            "text/plain": [
              "<IPython.core.display.HTML object>"
            ]
          },
          "metadata": {
            "tags": []
          }
        },
        {
          "output_type": "display_data",
          "data": {
            "text/html": [
              "<span style=\"color:blue\"> |-drop_1: 0.1</span>"
            ],
            "text/plain": [
              "<IPython.core.display.HTML object>"
            ]
          },
          "metadata": {
            "tags": []
          }
        },
        {
          "output_type": "display_data",
          "data": {
            "text/html": [
              "<span style=\"color:cyan\"> |-drop_2: 0.30000000000000004</span>"
            ],
            "text/plain": [
              "<IPython.core.display.HTML object>"
            ]
          },
          "metadata": {
            "tags": []
          }
        },
        {
          "output_type": "display_data",
          "data": {
            "text/html": [
              "<span style=\"color:blue\"> |-drop_input: 0.1</span>"
            ],
            "text/plain": [
              "<IPython.core.display.HTML object>"
            ]
          },
          "metadata": {
            "tags": []
          }
        },
        {
          "output_type": "display_data",
          "data": {
            "text/html": [
              "<span style=\"color:cyan\"> |-lr: 0.00744676002039987</span>"
            ],
            "text/plain": [
              "<IPython.core.display.HTML object>"
            ]
          },
          "metadata": {
            "tags": []
          }
        },
        {
          "output_type": "display_data",
          "data": {
            "text/html": [
              "<span style=\"color:blue\"> |-num_intermediate_layers: 1</span>"
            ],
            "text/plain": [
              "<IPython.core.display.HTML object>"
            ]
          },
          "metadata": {
            "tags": []
          }
        },
        {
          "output_type": "display_data",
          "data": {
            "text/html": [
              "<span style=\"color:cyan\"> |-tuner/bracket: 2</span>"
            ],
            "text/plain": [
              "<IPython.core.display.HTML object>"
            ]
          },
          "metadata": {
            "tags": []
          }
        },
        {
          "output_type": "display_data",
          "data": {
            "text/html": [
              "<span style=\"color:blue\"> |-tuner/epochs: 17</span>"
            ],
            "text/plain": [
              "<IPython.core.display.HTML object>"
            ]
          },
          "metadata": {
            "tags": []
          }
        },
        {
          "output_type": "display_data",
          "data": {
            "text/html": [
              "<span style=\"color:cyan\"> |-tuner/initial_epoch: 6</span>"
            ],
            "text/plain": [
              "<IPython.core.display.HTML object>"
            ]
          },
          "metadata": {
            "tags": []
          }
        },
        {
          "output_type": "display_data",
          "data": {
            "text/html": [
              "<span style=\"color:blue\"> |-tuner/round: 1</span>"
            ],
            "text/plain": [
              "<IPython.core.display.HTML object>"
            ]
          },
          "metadata": {
            "tags": []
          }
        },
        {
          "output_type": "display_data",
          "data": {
            "text/html": [
              "<span style=\"color:cyan\"> |-tuner/trial_id: e7b6b5782ccbb24835025824e0178126</span>"
            ],
            "text/plain": [
              "<IPython.core.display.HTML object>"
            ]
          },
          "metadata": {
            "tags": []
          }
        },
        {
          "output_type": "stream",
          "text": [
            "Epoch 7/17\n",
            "13/13 [==============================] - 0s 31ms/step - loss: 1.2001 - mae: 0.7613 - val_loss: 0.0742 - val_mae: 0.2176\n",
            "Epoch 8/17\n",
            "13/13 [==============================] - 0s 14ms/step - loss: 0.1510 - mae: 0.3050 - val_loss: 0.0474 - val_mae: 0.1661\n",
            "Epoch 9/17\n",
            "13/13 [==============================] - 0s 13ms/step - loss: 0.0479 - mae: 0.1675 - val_loss: 0.0329 - val_mae: 0.1260\n",
            "Epoch 10/17\n",
            "13/13 [==============================] - 0s 12ms/step - loss: 0.0421 - mae: 0.1591 - val_loss: 0.0328 - val_mae: 0.1294\n",
            "Epoch 11/17\n",
            "13/13 [==============================] - 0s 14ms/step - loss: 0.0301 - mae: 0.1279 - val_loss: 0.0313 - val_mae: 0.1241\n",
            "Epoch 12/17\n",
            "13/13 [==============================] - 0s 11ms/step - loss: 0.0291 - mae: 0.1251 - val_loss: 0.0372 - val_mae: 0.1385\n",
            "Epoch 13/17\n",
            "13/13 [==============================] - 0s 16ms/step - loss: 0.0221 - mae: 0.1093 - val_loss: 0.0369 - val_mae: 0.1407\n",
            "Epoch 14/17\n",
            "13/13 [==============================] - 0s 19ms/step - loss: 0.0225 - mae: 0.1092 - val_loss: 0.0297 - val_mae: 0.1217\n",
            "Epoch 15/17\n",
            "13/13 [==============================] - 0s 11ms/step - loss: 0.0176 - mae: 0.0984 - val_loss: 0.0429 - val_mae: 0.1536\n",
            "Epoch 16/17\n",
            "13/13 [==============================] - 0s 11ms/step - loss: 0.0192 - mae: 0.1011 - val_loss: 0.0326 - val_mae: 0.1307\n",
            "Epoch 17/17\n",
            "13/13 [==============================] - 0s 15ms/step - loss: 0.0158 - mae: 0.0948 - val_loss: 0.0265 - val_mae: 0.1132\n",
            "Epoch 7/17\n",
            "13/13 [==============================] - 0s 30ms/step - loss: 1.3883 - mae: 0.8125 - val_loss: 0.0424 - val_mae: 0.1496\n",
            "Epoch 8/17\n",
            "13/13 [==============================] - 0s 11ms/step - loss: 0.1363 - mae: 0.2841 - val_loss: 0.0541 - val_mae: 0.1724\n",
            "Epoch 9/17\n",
            "13/13 [==============================] - 0s 11ms/step - loss: 0.0588 - mae: 0.1815 - val_loss: 0.0324 - val_mae: 0.1317\n",
            "Epoch 10/17\n",
            "13/13 [==============================] - 0s 11ms/step - loss: 0.0217 - mae: 0.1110 - val_loss: 0.0354 - val_mae: 0.1345\n",
            "Epoch 11/17\n",
            "13/13 [==============================] - 0s 11ms/step - loss: 0.0246 - mae: 0.1096 - val_loss: 0.0346 - val_mae: 0.1331\n",
            "Epoch 12/17\n",
            "13/13 [==============================] - 0s 13ms/step - loss: 0.0196 - mae: 0.1035 - val_loss: 0.0345 - val_mae: 0.1346\n",
            "Epoch 13/17\n",
            "13/13 [==============================] - 0s 11ms/step - loss: 0.0228 - mae: 0.1136 - val_loss: 0.0322 - val_mae: 0.1271\n",
            "Epoch 14/17\n",
            "13/13 [==============================] - 0s 11ms/step - loss: 0.0194 - mae: 0.1017 - val_loss: 0.0351 - val_mae: 0.1349\n",
            "Epoch 15/17\n",
            "13/13 [==============================] - 0s 11ms/step - loss: 0.0210 - mae: 0.1072 - val_loss: 0.0296 - val_mae: 0.1222\n",
            "Epoch 16/17\n",
            "13/13 [==============================] - 0s 11ms/step - loss: 0.0225 - mae: 0.1159 - val_loss: 0.0301 - val_mae: 0.1231\n",
            "Epoch 17/17\n",
            "13/13 [==============================] - 0s 11ms/step - loss: 0.0237 - mae: 0.1112 - val_loss: 0.0322 - val_mae: 0.1324\n"
          ],
          "name": "stdout"
        },
        {
          "output_type": "display_data",
          "data": {
            "text/html": [
              "<span style=\"color:#4527A0\"><h1 style=\"font-size:18px\">Trial complete</h1></span>"
            ],
            "text/plain": [
              "<IPython.core.display.HTML object>"
            ]
          },
          "metadata": {
            "tags": []
          }
        },
        {
          "output_type": "display_data",
          "data": {
            "text/html": [
              "<span style=\"color:#4527A0\"><h1 style=\"font-size:18px\">Trial summary</h1></span>"
            ],
            "text/plain": [
              "<IPython.core.display.HTML object>"
            ]
          },
          "metadata": {
            "tags": []
          }
        },
        {
          "output_type": "display_data",
          "data": {
            "text/html": [
              "<span style=\"color:cyan\"> |-Trial ID: f5ef22ff5784179be0c692924baca55e</span>"
            ],
            "text/plain": [
              "<IPython.core.display.HTML object>"
            ]
          },
          "metadata": {
            "tags": []
          }
        },
        {
          "output_type": "display_data",
          "data": {
            "text/html": [
              "<span style=\"color:cyan\"> |-Score: 0.11770044639706612</span>"
            ],
            "text/plain": [
              "<IPython.core.display.HTML object>"
            ]
          },
          "metadata": {
            "tags": []
          }
        },
        {
          "output_type": "display_data",
          "data": {
            "text/html": [
              "<span style=\"color:cyan\"> |-Best step: 0</span>"
            ],
            "text/plain": [
              "<IPython.core.display.HTML object>"
            ]
          },
          "metadata": {
            "tags": []
          }
        },
        {
          "output_type": "display_data",
          "data": {
            "text/html": [
              "<span style=\"color:#7E57C2\"><h2 style=\"font-size:16px\">Hyperparameters:</h2></span>"
            ],
            "text/plain": [
              "<IPython.core.display.HTML object>"
            ]
          },
          "metadata": {
            "tags": []
          }
        },
        {
          "output_type": "display_data",
          "data": {
            "text/html": [
              "<span style=\"color:cyan\"> |-dense_0: 64</span>"
            ],
            "text/plain": [
              "<IPython.core.display.HTML object>"
            ]
          },
          "metadata": {
            "tags": []
          }
        },
        {
          "output_type": "display_data",
          "data": {
            "text/html": [
              "<span style=\"color:blue\"> |-dense_1: 96</span>"
            ],
            "text/plain": [
              "<IPython.core.display.HTML object>"
            ]
          },
          "metadata": {
            "tags": []
          }
        },
        {
          "output_type": "display_data",
          "data": {
            "text/html": [
              "<span style=\"color:cyan\"> |-dense_2: 64</span>"
            ],
            "text/plain": [
              "<IPython.core.display.HTML object>"
            ]
          },
          "metadata": {
            "tags": []
          }
        },
        {
          "output_type": "display_data",
          "data": {
            "text/html": [
              "<span style=\"color:blue\"> |-dense_input: 64</span>"
            ],
            "text/plain": [
              "<IPython.core.display.HTML object>"
            ]
          },
          "metadata": {
            "tags": []
          }
        },
        {
          "output_type": "display_data",
          "data": {
            "text/html": [
              "<span style=\"color:cyan\"> |-drop_0: 0.1</span>"
            ],
            "text/plain": [
              "<IPython.core.display.HTML object>"
            ]
          },
          "metadata": {
            "tags": []
          }
        },
        {
          "output_type": "display_data",
          "data": {
            "text/html": [
              "<span style=\"color:blue\"> |-drop_1: 0.0</span>"
            ],
            "text/plain": [
              "<IPython.core.display.HTML object>"
            ]
          },
          "metadata": {
            "tags": []
          }
        },
        {
          "output_type": "display_data",
          "data": {
            "text/html": [
              "<span style=\"color:cyan\"> |-drop_2: 0.1</span>"
            ],
            "text/plain": [
              "<IPython.core.display.HTML object>"
            ]
          },
          "metadata": {
            "tags": []
          }
        },
        {
          "output_type": "display_data",
          "data": {
            "text/html": [
              "<span style=\"color:blue\"> |-drop_input: 0.1</span>"
            ],
            "text/plain": [
              "<IPython.core.display.HTML object>"
            ]
          },
          "metadata": {
            "tags": []
          }
        },
        {
          "output_type": "display_data",
          "data": {
            "text/html": [
              "<span style=\"color:cyan\"> |-lr: 0.009958174438236598</span>"
            ],
            "text/plain": [
              "<IPython.core.display.HTML object>"
            ]
          },
          "metadata": {
            "tags": []
          }
        },
        {
          "output_type": "display_data",
          "data": {
            "text/html": [
              "<span style=\"color:blue\"> |-num_intermediate_layers: 2</span>"
            ],
            "text/plain": [
              "<IPython.core.display.HTML object>"
            ]
          },
          "metadata": {
            "tags": []
          }
        },
        {
          "output_type": "display_data",
          "data": {
            "text/html": [
              "<span style=\"color:cyan\"> |-tuner/bracket: 2</span>"
            ],
            "text/plain": [
              "<IPython.core.display.HTML object>"
            ]
          },
          "metadata": {
            "tags": []
          }
        },
        {
          "output_type": "display_data",
          "data": {
            "text/html": [
              "<span style=\"color:blue\"> |-tuner/epochs: 17</span>"
            ],
            "text/plain": [
              "<IPython.core.display.HTML object>"
            ]
          },
          "metadata": {
            "tags": []
          }
        },
        {
          "output_type": "display_data",
          "data": {
            "text/html": [
              "<span style=\"color:cyan\"> |-tuner/initial_epoch: 6</span>"
            ],
            "text/plain": [
              "<IPython.core.display.HTML object>"
            ]
          },
          "metadata": {
            "tags": []
          }
        },
        {
          "output_type": "display_data",
          "data": {
            "text/html": [
              "<span style=\"color:blue\"> |-tuner/round: 1</span>"
            ],
            "text/plain": [
              "<IPython.core.display.HTML object>"
            ]
          },
          "metadata": {
            "tags": []
          }
        },
        {
          "output_type": "display_data",
          "data": {
            "text/html": [
              "<span style=\"color:cyan\"> |-tuner/trial_id: 7121db48066e8ece043883065a051fcf</span>"
            ],
            "text/plain": [
              "<IPython.core.display.HTML object>"
            ]
          },
          "metadata": {
            "tags": []
          }
        },
        {
          "output_type": "stream",
          "text": [
            "Epoch 7/17\n",
            "13/13 [==============================] - 0s 33ms/step - loss: 1.2612 - mae: 0.7923 - val_loss: 0.0640 - val_mae: 0.1968\n",
            "Epoch 8/17\n",
            "13/13 [==============================] - 0s 14ms/step - loss: 0.1351 - mae: 0.2905 - val_loss: 0.0289 - val_mae: 0.1272\n",
            "Epoch 9/17\n",
            "13/13 [==============================] - 0s 12ms/step - loss: 0.0663 - mae: 0.2023 - val_loss: 0.0533 - val_mae: 0.1753\n",
            "Epoch 10/17\n",
            "13/13 [==============================] - 0s 11ms/step - loss: 0.0578 - mae: 0.1795 - val_loss: 0.0389 - val_mae: 0.1423\n",
            "Epoch 11/17\n",
            "13/13 [==============================] - 0s 11ms/step - loss: 0.0426 - mae: 0.1631 - val_loss: 0.0396 - val_mae: 0.1411\n",
            "Epoch 12/17\n",
            "13/13 [==============================] - 0s 12ms/step - loss: 0.0359 - mae: 0.1444 - val_loss: 0.0357 - val_mae: 0.1331\n",
            "Epoch 13/17\n",
            "13/13 [==============================] - 0s 12ms/step - loss: 0.0297 - mae: 0.1295 - val_loss: 0.0336 - val_mae: 0.1318\n",
            "Epoch 7/17\n",
            "13/13 [==============================] - 0s 29ms/step - loss: 0.7978 - mae: 0.6601 - val_loss: 0.0569 - val_mae: 0.1872\n",
            "Epoch 8/17\n",
            "13/13 [==============================] - 0s 12ms/step - loss: 0.2064 - mae: 0.3368 - val_loss: 0.0344 - val_mae: 0.1365\n",
            "Epoch 9/17\n",
            "13/13 [==============================] - 0s 12ms/step - loss: 0.0953 - mae: 0.2334 - val_loss: 0.0517 - val_mae: 0.1682\n",
            "Epoch 10/17\n",
            "13/13 [==============================] - 0s 11ms/step - loss: 0.0461 - mae: 0.1639 - val_loss: 0.0468 - val_mae: 0.1634\n",
            "Epoch 11/17\n",
            "13/13 [==============================] - 0s 11ms/step - loss: 0.0529 - mae: 0.1774 - val_loss: 0.0465 - val_mae: 0.1560\n",
            "Epoch 12/17\n",
            "13/13 [==============================] - 0s 12ms/step - loss: 0.0366 - mae: 0.1460 - val_loss: 0.0367 - val_mae: 0.1372\n",
            "Epoch 13/17\n",
            "13/13 [==============================] - 0s 11ms/step - loss: 0.0341 - mae: 0.1403 - val_loss: 0.0413 - val_mae: 0.1459\n"
          ],
          "name": "stdout"
        },
        {
          "output_type": "display_data",
          "data": {
            "text/html": [
              "<span style=\"color:#4527A0\"><h1 style=\"font-size:18px\">Trial complete</h1></span>"
            ],
            "text/plain": [
              "<IPython.core.display.HTML object>"
            ]
          },
          "metadata": {
            "tags": []
          }
        },
        {
          "output_type": "display_data",
          "data": {
            "text/html": [
              "<span style=\"color:#4527A0\"><h1 style=\"font-size:18px\">Trial summary</h1></span>"
            ],
            "text/plain": [
              "<IPython.core.display.HTML object>"
            ]
          },
          "metadata": {
            "tags": []
          }
        },
        {
          "output_type": "display_data",
          "data": {
            "text/html": [
              "<span style=\"color:cyan\"> |-Trial ID: 61b6651dc70e1b35d1d7faf0e76fd7d5</span>"
            ],
            "text/plain": [
              "<IPython.core.display.HTML object>"
            ]
          },
          "metadata": {
            "tags": []
          }
        },
        {
          "output_type": "display_data",
          "data": {
            "text/html": [
              "<span style=\"color:cyan\"> |-Score: 0.13184670358896255</span>"
            ],
            "text/plain": [
              "<IPython.core.display.HTML object>"
            ]
          },
          "metadata": {
            "tags": []
          }
        },
        {
          "output_type": "display_data",
          "data": {
            "text/html": [
              "<span style=\"color:cyan\"> |-Best step: 0</span>"
            ],
            "text/plain": [
              "<IPython.core.display.HTML object>"
            ]
          },
          "metadata": {
            "tags": []
          }
        },
        {
          "output_type": "display_data",
          "data": {
            "text/html": [
              "<span style=\"color:#7E57C2\"><h2 style=\"font-size:16px\">Hyperparameters:</h2></span>"
            ],
            "text/plain": [
              "<IPython.core.display.HTML object>"
            ]
          },
          "metadata": {
            "tags": []
          }
        },
        {
          "output_type": "display_data",
          "data": {
            "text/html": [
              "<span style=\"color:cyan\"> |-dense_0: 32</span>"
            ],
            "text/plain": [
              "<IPython.core.display.HTML object>"
            ]
          },
          "metadata": {
            "tags": []
          }
        },
        {
          "output_type": "display_data",
          "data": {
            "text/html": [
              "<span style=\"color:blue\"> |-dense_1: 128</span>"
            ],
            "text/plain": [
              "<IPython.core.display.HTML object>"
            ]
          },
          "metadata": {
            "tags": []
          }
        },
        {
          "output_type": "display_data",
          "data": {
            "text/html": [
              "<span style=\"color:cyan\"> |-dense_2: 128</span>"
            ],
            "text/plain": [
              "<IPython.core.display.HTML object>"
            ]
          },
          "metadata": {
            "tags": []
          }
        },
        {
          "output_type": "display_data",
          "data": {
            "text/html": [
              "<span style=\"color:blue\"> |-dense_input: 64</span>"
            ],
            "text/plain": [
              "<IPython.core.display.HTML object>"
            ]
          },
          "metadata": {
            "tags": []
          }
        },
        {
          "output_type": "display_data",
          "data": {
            "text/html": [
              "<span style=\"color:cyan\"> |-drop_0: 0.2</span>"
            ],
            "text/plain": [
              "<IPython.core.display.HTML object>"
            ]
          },
          "metadata": {
            "tags": []
          }
        },
        {
          "output_type": "display_data",
          "data": {
            "text/html": [
              "<span style=\"color:blue\"> |-drop_1: 0.0</span>"
            ],
            "text/plain": [
              "<IPython.core.display.HTML object>"
            ]
          },
          "metadata": {
            "tags": []
          }
        },
        {
          "output_type": "display_data",
          "data": {
            "text/html": [
              "<span style=\"color:cyan\"> |-drop_2: 0.2</span>"
            ],
            "text/plain": [
              "<IPython.core.display.HTML object>"
            ]
          },
          "metadata": {
            "tags": []
          }
        },
        {
          "output_type": "display_data",
          "data": {
            "text/html": [
              "<span style=\"color:blue\"> |-drop_input: 0.2</span>"
            ],
            "text/plain": [
              "<IPython.core.display.HTML object>"
            ]
          },
          "metadata": {
            "tags": []
          }
        },
        {
          "output_type": "display_data",
          "data": {
            "text/html": [
              "<span style=\"color:cyan\"> |-lr: 0.00874380901685249</span>"
            ],
            "text/plain": [
              "<IPython.core.display.HTML object>"
            ]
          },
          "metadata": {
            "tags": []
          }
        },
        {
          "output_type": "display_data",
          "data": {
            "text/html": [
              "<span style=\"color:blue\"> |-num_intermediate_layers: 2</span>"
            ],
            "text/plain": [
              "<IPython.core.display.HTML object>"
            ]
          },
          "metadata": {
            "tags": []
          }
        },
        {
          "output_type": "display_data",
          "data": {
            "text/html": [
              "<span style=\"color:cyan\"> |-tuner/bracket: 2</span>"
            ],
            "text/plain": [
              "<IPython.core.display.HTML object>"
            ]
          },
          "metadata": {
            "tags": []
          }
        },
        {
          "output_type": "display_data",
          "data": {
            "text/html": [
              "<span style=\"color:blue\"> |-tuner/epochs: 17</span>"
            ],
            "text/plain": [
              "<IPython.core.display.HTML object>"
            ]
          },
          "metadata": {
            "tags": []
          }
        },
        {
          "output_type": "display_data",
          "data": {
            "text/html": [
              "<span style=\"color:cyan\"> |-tuner/initial_epoch: 6</span>"
            ],
            "text/plain": [
              "<IPython.core.display.HTML object>"
            ]
          },
          "metadata": {
            "tags": []
          }
        },
        {
          "output_type": "display_data",
          "data": {
            "text/html": [
              "<span style=\"color:blue\"> |-tuner/round: 1</span>"
            ],
            "text/plain": [
              "<IPython.core.display.HTML object>"
            ]
          },
          "metadata": {
            "tags": []
          }
        },
        {
          "output_type": "display_data",
          "data": {
            "text/html": [
              "<span style=\"color:cyan\"> |-tuner/trial_id: 99773e2fb286ca2b325bd669fb4e2079</span>"
            ],
            "text/plain": [
              "<IPython.core.display.HTML object>"
            ]
          },
          "metadata": {
            "tags": []
          }
        },
        {
          "output_type": "stream",
          "text": [
            "Epoch 18/50\n",
            "13/13 [==============================] - 0s 33ms/step - loss: 1.3559 - mae: 0.7937 - val_loss: 0.0608 - val_mae: 0.1797\n",
            "Epoch 19/50\n",
            "13/13 [==============================] - 0s 16ms/step - loss: 0.1360 - mae: 0.2902 - val_loss: 0.0429 - val_mae: 0.1516\n",
            "Epoch 20/50\n",
            "13/13 [==============================] - 0s 14ms/step - loss: 0.0400 - mae: 0.1516 - val_loss: 0.0341 - val_mae: 0.1337\n",
            "Epoch 21/50\n",
            "13/13 [==============================] - 0s 12ms/step - loss: 0.0280 - mae: 0.1236 - val_loss: 0.0359 - val_mae: 0.1366\n",
            "Epoch 22/50\n",
            "13/13 [==============================] - 0s 13ms/step - loss: 0.0255 - mae: 0.1141 - val_loss: 0.0270 - val_mae: 0.1162\n",
            "Epoch 23/50\n",
            "13/13 [==============================] - 0s 11ms/step - loss: 0.0186 - mae: 0.1015 - val_loss: 0.0316 - val_mae: 0.1257\n",
            "Epoch 24/50\n",
            "13/13 [==============================] - 0s 12ms/step - loss: 0.0203 - mae: 0.1055 - val_loss: 0.0295 - val_mae: 0.1214\n",
            "Epoch 25/50\n",
            "13/13 [==============================] - 0s 11ms/step - loss: 0.0206 - mae: 0.1053 - val_loss: 0.0315 - val_mae: 0.1255\n",
            "Epoch 26/50\n",
            "13/13 [==============================] - 0s 11ms/step - loss: 0.0181 - mae: 0.0952 - val_loss: 0.0383 - val_mae: 0.1497\n",
            "Epoch 27/50\n",
            "13/13 [==============================] - 0s 11ms/step - loss: 0.0146 - mae: 0.0874 - val_loss: 0.0345 - val_mae: 0.1337\n",
            "Epoch 18/50\n",
            "13/13 [==============================] - 1s 40ms/step - loss: 1.4152 - mae: 0.8415 - val_loss: 0.0444 - val_mae: 0.1632\n",
            "Epoch 19/50\n",
            "13/13 [==============================] - 0s 11ms/step - loss: 0.1548 - mae: 0.3017 - val_loss: 0.0366 - val_mae: 0.1329\n",
            "Epoch 20/50\n",
            "13/13 [==============================] - 0s 11ms/step - loss: 0.0532 - mae: 0.1817 - val_loss: 0.0360 - val_mae: 0.1397\n",
            "Epoch 21/50\n",
            "13/13 [==============================] - 0s 12ms/step - loss: 0.0273 - mae: 0.1222 - val_loss: 0.0306 - val_mae: 0.1231\n",
            "Epoch 22/50\n",
            "13/13 [==============================] - 0s 13ms/step - loss: 0.0275 - mae: 0.1214 - val_loss: 0.0243 - val_mae: 0.1115\n",
            "Epoch 23/50\n",
            "13/13 [==============================] - 0s 11ms/step - loss: 0.0190 - mae: 0.1044 - val_loss: 0.0267 - val_mae: 0.1170\n",
            "Epoch 24/50\n",
            "13/13 [==============================] - 0s 12ms/step - loss: 0.0241 - mae: 0.1170 - val_loss: 0.0264 - val_mae: 0.1119\n",
            "Epoch 25/50\n",
            "13/13 [==============================] - 0s 12ms/step - loss: 0.0257 - mae: 0.1205 - val_loss: 0.0257 - val_mae: 0.1140\n",
            "Epoch 26/50\n",
            "13/13 [==============================] - 0s 11ms/step - loss: 0.0196 - mae: 0.1027 - val_loss: 0.0281 - val_mae: 0.1184\n",
            "Epoch 27/50\n",
            "13/13 [==============================] - 0s 13ms/step - loss: 0.0201 - mae: 0.1063 - val_loss: 0.0249 - val_mae: 0.1122\n"
          ],
          "name": "stdout"
        },
        {
          "output_type": "display_data",
          "data": {
            "text/html": [
              "<span style=\"color:#4527A0\"><h1 style=\"font-size:18px\">Trial complete</h1></span>"
            ],
            "text/plain": [
              "<IPython.core.display.HTML object>"
            ]
          },
          "metadata": {
            "tags": []
          }
        },
        {
          "output_type": "display_data",
          "data": {
            "text/html": [
              "<span style=\"color:#4527A0\"><h1 style=\"font-size:18px\">Trial summary</h1></span>"
            ],
            "text/plain": [
              "<IPython.core.display.HTML object>"
            ]
          },
          "metadata": {
            "tags": []
          }
        },
        {
          "output_type": "display_data",
          "data": {
            "text/html": [
              "<span style=\"color:cyan\"> |-Trial ID: 0f6018c094bf430c4feba6ff9b405cc9</span>"
            ],
            "text/plain": [
              "<IPython.core.display.HTML object>"
            ]
          },
          "metadata": {
            "tags": []
          }
        },
        {
          "output_type": "display_data",
          "data": {
            "text/html": [
              "<span style=\"color:cyan\"> |-Score: 0.11386702209711075</span>"
            ],
            "text/plain": [
              "<IPython.core.display.HTML object>"
            ]
          },
          "metadata": {
            "tags": []
          }
        },
        {
          "output_type": "display_data",
          "data": {
            "text/html": [
              "<span style=\"color:cyan\"> |-Best step: 0</span>"
            ],
            "text/plain": [
              "<IPython.core.display.HTML object>"
            ]
          },
          "metadata": {
            "tags": []
          }
        },
        {
          "output_type": "display_data",
          "data": {
            "text/html": [
              "<span style=\"color:#7E57C2\"><h2 style=\"font-size:16px\">Hyperparameters:</h2></span>"
            ],
            "text/plain": [
              "<IPython.core.display.HTML object>"
            ]
          },
          "metadata": {
            "tags": []
          }
        },
        {
          "output_type": "display_data",
          "data": {
            "text/html": [
              "<span style=\"color:cyan\"> |-dense_0: 64</span>"
            ],
            "text/plain": [
              "<IPython.core.display.HTML object>"
            ]
          },
          "metadata": {
            "tags": []
          }
        },
        {
          "output_type": "display_data",
          "data": {
            "text/html": [
              "<span style=\"color:blue\"> |-dense_1: 96</span>"
            ],
            "text/plain": [
              "<IPython.core.display.HTML object>"
            ]
          },
          "metadata": {
            "tags": []
          }
        },
        {
          "output_type": "display_data",
          "data": {
            "text/html": [
              "<span style=\"color:cyan\"> |-dense_2: 64</span>"
            ],
            "text/plain": [
              "<IPython.core.display.HTML object>"
            ]
          },
          "metadata": {
            "tags": []
          }
        },
        {
          "output_type": "display_data",
          "data": {
            "text/html": [
              "<span style=\"color:blue\"> |-dense_input: 64</span>"
            ],
            "text/plain": [
              "<IPython.core.display.HTML object>"
            ]
          },
          "metadata": {
            "tags": []
          }
        },
        {
          "output_type": "display_data",
          "data": {
            "text/html": [
              "<span style=\"color:cyan\"> |-drop_0: 0.1</span>"
            ],
            "text/plain": [
              "<IPython.core.display.HTML object>"
            ]
          },
          "metadata": {
            "tags": []
          }
        },
        {
          "output_type": "display_data",
          "data": {
            "text/html": [
              "<span style=\"color:blue\"> |-drop_1: 0.0</span>"
            ],
            "text/plain": [
              "<IPython.core.display.HTML object>"
            ]
          },
          "metadata": {
            "tags": []
          }
        },
        {
          "output_type": "display_data",
          "data": {
            "text/html": [
              "<span style=\"color:cyan\"> |-drop_2: 0.1</span>"
            ],
            "text/plain": [
              "<IPython.core.display.HTML object>"
            ]
          },
          "metadata": {
            "tags": []
          }
        },
        {
          "output_type": "display_data",
          "data": {
            "text/html": [
              "<span style=\"color:blue\"> |-drop_input: 0.1</span>"
            ],
            "text/plain": [
              "<IPython.core.display.HTML object>"
            ]
          },
          "metadata": {
            "tags": []
          }
        },
        {
          "output_type": "display_data",
          "data": {
            "text/html": [
              "<span style=\"color:cyan\"> |-lr: 0.009958174438236598</span>"
            ],
            "text/plain": [
              "<IPython.core.display.HTML object>"
            ]
          },
          "metadata": {
            "tags": []
          }
        },
        {
          "output_type": "display_data",
          "data": {
            "text/html": [
              "<span style=\"color:blue\"> |-num_intermediate_layers: 2</span>"
            ],
            "text/plain": [
              "<IPython.core.display.HTML object>"
            ]
          },
          "metadata": {
            "tags": []
          }
        },
        {
          "output_type": "display_data",
          "data": {
            "text/html": [
              "<span style=\"color:cyan\"> |-tuner/bracket: 2</span>"
            ],
            "text/plain": [
              "<IPython.core.display.HTML object>"
            ]
          },
          "metadata": {
            "tags": []
          }
        },
        {
          "output_type": "display_data",
          "data": {
            "text/html": [
              "<span style=\"color:blue\"> |-tuner/epochs: 50</span>"
            ],
            "text/plain": [
              "<IPython.core.display.HTML object>"
            ]
          },
          "metadata": {
            "tags": []
          }
        },
        {
          "output_type": "display_data",
          "data": {
            "text/html": [
              "<span style=\"color:cyan\"> |-tuner/initial_epoch: 17</span>"
            ],
            "text/plain": [
              "<IPython.core.display.HTML object>"
            ]
          },
          "metadata": {
            "tags": []
          }
        },
        {
          "output_type": "display_data",
          "data": {
            "text/html": [
              "<span style=\"color:blue\"> |-tuner/round: 2</span>"
            ],
            "text/plain": [
              "<IPython.core.display.HTML object>"
            ]
          },
          "metadata": {
            "tags": []
          }
        },
        {
          "output_type": "display_data",
          "data": {
            "text/html": [
              "<span style=\"color:cyan\"> |-tuner/trial_id: f5ef22ff5784179be0c692924baca55e</span>"
            ],
            "text/plain": [
              "<IPython.core.display.HTML object>"
            ]
          },
          "metadata": {
            "tags": []
          }
        },
        {
          "output_type": "stream",
          "text": [
            "Epoch 18/50\n",
            "13/13 [==============================] - 0s 33ms/step - loss: 1.7943 - mae: 0.9948 - val_loss: 0.0399 - val_mae: 0.1519\n",
            "Epoch 19/50\n",
            "13/13 [==============================] - 0s 14ms/step - loss: 0.3789 - mae: 0.4769 - val_loss: 0.0316 - val_mae: 0.1238\n",
            "Epoch 20/50\n",
            "13/13 [==============================] - 0s 12ms/step - loss: 0.2476 - mae: 0.3634 - val_loss: 0.0430 - val_mae: 0.1508\n",
            "Epoch 21/50\n",
            "13/13 [==============================] - 0s 11ms/step - loss: 0.1856 - mae: 0.3315 - val_loss: 0.0404 - val_mae: 0.1469\n",
            "Epoch 22/50\n",
            "13/13 [==============================] - 0s 12ms/step - loss: 0.1508 - mae: 0.2963 - val_loss: 0.0355 - val_mae: 0.1332\n",
            "Epoch 23/50\n",
            "13/13 [==============================] - 0s 11ms/step - loss: 0.1275 - mae: 0.2685 - val_loss: 0.0384 - val_mae: 0.1445\n",
            "Epoch 24/50\n",
            "13/13 [==============================] - 0s 13ms/step - loss: 0.1149 - mae: 0.2597 - val_loss: 0.0352 - val_mae: 0.1382\n",
            "Epoch 18/50\n",
            "13/13 [==============================] - 0s 31ms/step - loss: 1.4773 - mae: 0.9050 - val_loss: 0.1104 - val_mae: 0.2659\n",
            "Epoch 19/50\n",
            "13/13 [==============================] - 0s 12ms/step - loss: 0.3383 - mae: 0.4510 - val_loss: 0.0421 - val_mae: 0.1420\n",
            "Epoch 20/50\n",
            "13/13 [==============================] - 0s 11ms/step - loss: 0.2552 - mae: 0.3698 - val_loss: 0.0479 - val_mae: 0.1538\n",
            "Epoch 21/50\n",
            "13/13 [==============================] - 0s 11ms/step - loss: 0.1610 - mae: 0.3088 - val_loss: 0.0332 - val_mae: 0.1269\n",
            "Epoch 22/50\n",
            "13/13 [==============================] - 0s 11ms/step - loss: 0.1534 - mae: 0.2983 - val_loss: 0.0368 - val_mae: 0.1410\n",
            "Epoch 23/50\n",
            "13/13 [==============================] - 0s 12ms/step - loss: 0.1256 - mae: 0.2655 - val_loss: 0.0391 - val_mae: 0.1424\n",
            "Epoch 24/50\n",
            "13/13 [==============================] - 0s 13ms/step - loss: 0.0877 - mae: 0.2283 - val_loss: 0.0290 - val_mae: 0.1209\n",
            "Epoch 25/50\n",
            "13/13 [==============================] - 0s 11ms/step - loss: 0.0902 - mae: 0.2218 - val_loss: 0.0319 - val_mae: 0.1257\n",
            "Epoch 26/50\n",
            "13/13 [==============================] - 0s 11ms/step - loss: 0.0733 - mae: 0.2015 - val_loss: 0.0321 - val_mae: 0.1271\n",
            "Epoch 27/50\n",
            "13/13 [==============================] - 0s 11ms/step - loss: 0.0616 - mae: 0.1874 - val_loss: 0.0379 - val_mae: 0.1400\n",
            "Epoch 28/50\n",
            "13/13 [==============================] - 0s 12ms/step - loss: 0.0533 - mae: 0.1724 - val_loss: 0.0295 - val_mae: 0.1217\n",
            "Epoch 29/50\n",
            "13/13 [==============================] - 0s 14ms/step - loss: 0.0441 - mae: 0.1536 - val_loss: 0.0257 - val_mae: 0.1163\n",
            "Epoch 30/50\n",
            "13/13 [==============================] - 0s 11ms/step - loss: 0.0384 - mae: 0.1455 - val_loss: 0.0264 - val_mae: 0.1201\n",
            "Epoch 31/50\n",
            "13/13 [==============================] - 0s 11ms/step - loss: 0.0341 - mae: 0.1409 - val_loss: 0.0259 - val_mae: 0.1207\n",
            "Epoch 32/50\n",
            "13/13 [==============================] - 0s 11ms/step - loss: 0.0318 - mae: 0.1369 - val_loss: 0.0287 - val_mae: 0.1263\n",
            "Epoch 33/50\n",
            "13/13 [==============================] - 0s 14ms/step - loss: 0.0236 - mae: 0.1208 - val_loss: 0.0234 - val_mae: 0.1117\n",
            "Epoch 34/50\n",
            "13/13 [==============================] - 0s 14ms/step - loss: 0.0271 - mae: 0.1212 - val_loss: 0.0226 - val_mae: 0.1111\n",
            "Epoch 35/50\n",
            "13/13 [==============================] - 0s 15ms/step - loss: 0.0240 - mae: 0.1153 - val_loss: 0.0230 - val_mae: 0.1077\n",
            "Epoch 36/50\n",
            "13/13 [==============================] - 0s 13ms/step - loss: 0.0213 - mae: 0.1107 - val_loss: 0.0196 - val_mae: 0.1051\n",
            "Epoch 37/50\n",
            "13/13 [==============================] - 0s 11ms/step - loss: 0.0217 - mae: 0.1094 - val_loss: 0.0244 - val_mae: 0.1121\n",
            "Epoch 38/50\n",
            "13/13 [==============================] - 0s 13ms/step - loss: 0.0201 - mae: 0.1015 - val_loss: 0.0204 - val_mae: 0.1065\n",
            "Epoch 39/50\n",
            "13/13 [==============================] - 0s 21ms/step - loss: 0.0178 - mae: 0.1017 - val_loss: 0.0197 - val_mae: 0.1040\n",
            "Epoch 40/50\n",
            "13/13 [==============================] - 0s 15ms/step - loss: 0.0168 - mae: 0.0913 - val_loss: 0.0195 - val_mae: 0.1045\n",
            "Epoch 41/50\n",
            "13/13 [==============================] - 0s 11ms/step - loss: 0.0158 - mae: 0.0951 - val_loss: 0.0206 - val_mae: 0.1085\n",
            "Epoch 42/50\n",
            "13/13 [==============================] - 0s 14ms/step - loss: 0.0166 - mae: 0.0943 - val_loss: 0.0181 - val_mae: 0.1012\n",
            "Epoch 43/50\n",
            "13/13 [==============================] - 0s 14ms/step - loss: 0.0175 - mae: 0.0967 - val_loss: 0.0153 - val_mae: 0.0912\n",
            "Epoch 44/50\n",
            "13/13 [==============================] - 0s 11ms/step - loss: 0.0185 - mae: 0.1028 - val_loss: 0.0147 - val_mae: 0.0922\n",
            "Epoch 45/50\n",
            "13/13 [==============================] - 0s 14ms/step - loss: 0.0152 - mae: 0.0910 - val_loss: 0.0130 - val_mae: 0.0844\n",
            "Epoch 46/50\n",
            "13/13 [==============================] - 0s 12ms/step - loss: 0.0166 - mae: 0.0983 - val_loss: 0.0179 - val_mae: 0.0993\n",
            "Epoch 47/50\n",
            "13/13 [==============================] - 0s 11ms/step - loss: 0.0139 - mae: 0.0876 - val_loss: 0.0176 - val_mae: 0.0997\n",
            "Epoch 48/50\n",
            "13/13 [==============================] - 0s 13ms/step - loss: 0.0141 - mae: 0.0887 - val_loss: 0.0158 - val_mae: 0.0933\n",
            "Epoch 49/50\n",
            "13/13 [==============================] - 0s 14ms/step - loss: 0.0127 - mae: 0.0826 - val_loss: 0.0103 - val_mae: 0.0801\n",
            "Epoch 50/50\n",
            "13/13 [==============================] - 0s 14ms/step - loss: 0.0150 - mae: 0.0907 - val_loss: 0.0106 - val_mae: 0.0789\n"
          ],
          "name": "stdout"
        },
        {
          "output_type": "display_data",
          "data": {
            "text/html": [
              "<span style=\"color:#4527A0\"><h1 style=\"font-size:18px\">Trial complete</h1></span>"
            ],
            "text/plain": [
              "<IPython.core.display.HTML object>"
            ]
          },
          "metadata": {
            "tags": []
          }
        },
        {
          "output_type": "display_data",
          "data": {
            "text/html": [
              "<span style=\"color:#4527A0\"><h1 style=\"font-size:18px\">Trial summary</h1></span>"
            ],
            "text/plain": [
              "<IPython.core.display.HTML object>"
            ]
          },
          "metadata": {
            "tags": []
          }
        },
        {
          "output_type": "display_data",
          "data": {
            "text/html": [
              "<span style=\"color:cyan\"> |-Trial ID: 91808b963c27b16486d73423c793051a</span>"
            ],
            "text/plain": [
              "<IPython.core.display.HTML object>"
            ]
          },
          "metadata": {
            "tags": []
          }
        },
        {
          "output_type": "display_data",
          "data": {
            "text/html": [
              "<span style=\"color:cyan\"> |-Score: 0.10132704302668571</span>"
            ],
            "text/plain": [
              "<IPython.core.display.HTML object>"
            ]
          },
          "metadata": {
            "tags": []
          }
        },
        {
          "output_type": "display_data",
          "data": {
            "text/html": [
              "<span style=\"color:cyan\"> |-Best step: 0</span>"
            ],
            "text/plain": [
              "<IPython.core.display.HTML object>"
            ]
          },
          "metadata": {
            "tags": []
          }
        },
        {
          "output_type": "display_data",
          "data": {
            "text/html": [
              "<span style=\"color:#7E57C2\"><h2 style=\"font-size:16px\">Hyperparameters:</h2></span>"
            ],
            "text/plain": [
              "<IPython.core.display.HTML object>"
            ]
          },
          "metadata": {
            "tags": []
          }
        },
        {
          "output_type": "display_data",
          "data": {
            "text/html": [
              "<span style=\"color:cyan\"> |-dense_0: 96</span>"
            ],
            "text/plain": [
              "<IPython.core.display.HTML object>"
            ]
          },
          "metadata": {
            "tags": []
          }
        },
        {
          "output_type": "display_data",
          "data": {
            "text/html": [
              "<span style=\"color:blue\"> |-dense_1: 64</span>"
            ],
            "text/plain": [
              "<IPython.core.display.HTML object>"
            ]
          },
          "metadata": {
            "tags": []
          }
        },
        {
          "output_type": "display_data",
          "data": {
            "text/html": [
              "<span style=\"color:cyan\"> |-dense_2: 64</span>"
            ],
            "text/plain": [
              "<IPython.core.display.HTML object>"
            ]
          },
          "metadata": {
            "tags": []
          }
        },
        {
          "output_type": "display_data",
          "data": {
            "text/html": [
              "<span style=\"color:blue\"> |-dense_input: 64</span>"
            ],
            "text/plain": [
              "<IPython.core.display.HTML object>"
            ]
          },
          "metadata": {
            "tags": []
          }
        },
        {
          "output_type": "display_data",
          "data": {
            "text/html": [
              "<span style=\"color:cyan\"> |-drop_0: 0.2</span>"
            ],
            "text/plain": [
              "<IPython.core.display.HTML object>"
            ]
          },
          "metadata": {
            "tags": []
          }
        },
        {
          "output_type": "display_data",
          "data": {
            "text/html": [
              "<span style=\"color:blue\"> |-drop_1: 0.2</span>"
            ],
            "text/plain": [
              "<IPython.core.display.HTML object>"
            ]
          },
          "metadata": {
            "tags": []
          }
        },
        {
          "output_type": "display_data",
          "data": {
            "text/html": [
              "<span style=\"color:cyan\"> |-drop_2: 0.1</span>"
            ],
            "text/plain": [
              "<IPython.core.display.HTML object>"
            ]
          },
          "metadata": {
            "tags": []
          }
        },
        {
          "output_type": "display_data",
          "data": {
            "text/html": [
              "<span style=\"color:blue\"> |-drop_input: 0.1</span>"
            ],
            "text/plain": [
              "<IPython.core.display.HTML object>"
            ]
          },
          "metadata": {
            "tags": []
          }
        },
        {
          "output_type": "display_data",
          "data": {
            "text/html": [
              "<span style=\"color:cyan\"> |-lr: 0.00736437579965411</span>"
            ],
            "text/plain": [
              "<IPython.core.display.HTML object>"
            ]
          },
          "metadata": {
            "tags": []
          }
        },
        {
          "output_type": "display_data",
          "data": {
            "text/html": [
              "<span style=\"color:blue\"> |-num_intermediate_layers: 2</span>"
            ],
            "text/plain": [
              "<IPython.core.display.HTML object>"
            ]
          },
          "metadata": {
            "tags": []
          }
        },
        {
          "output_type": "display_data",
          "data": {
            "text/html": [
              "<span style=\"color:cyan\"> |-tuner/bracket: 2</span>"
            ],
            "text/plain": [
              "<IPython.core.display.HTML object>"
            ]
          },
          "metadata": {
            "tags": []
          }
        },
        {
          "output_type": "display_data",
          "data": {
            "text/html": [
              "<span style=\"color:blue\"> |-tuner/epochs: 50</span>"
            ],
            "text/plain": [
              "<IPython.core.display.HTML object>"
            ]
          },
          "metadata": {
            "tags": []
          }
        },
        {
          "output_type": "display_data",
          "data": {
            "text/html": [
              "<span style=\"color:cyan\"> |-tuner/initial_epoch: 17</span>"
            ],
            "text/plain": [
              "<IPython.core.display.HTML object>"
            ]
          },
          "metadata": {
            "tags": []
          }
        },
        {
          "output_type": "display_data",
          "data": {
            "text/html": [
              "<span style=\"color:blue\"> |-tuner/round: 2</span>"
            ],
            "text/plain": [
              "<IPython.core.display.HTML object>"
            ]
          },
          "metadata": {
            "tags": []
          }
        },
        {
          "output_type": "display_data",
          "data": {
            "text/html": [
              "<span style=\"color:cyan\"> |-tuner/trial_id: 41712cc8debb678daaef92aa29de1769</span>"
            ],
            "text/plain": [
              "<IPython.core.display.HTML object>"
            ]
          },
          "metadata": {
            "tags": []
          }
        },
        {
          "output_type": "stream",
          "text": [
            "Epoch 1/17\n",
            "13/13 [==============================] - 0s 28ms/step - loss: 1.4095 - mae: 0.8910 - val_loss: 0.1591 - val_mae: 0.3353\n",
            "Epoch 2/17\n",
            "13/13 [==============================] - 0s 12ms/step - loss: 0.6519 - mae: 0.6048 - val_loss: 0.0616 - val_mae: 0.1893\n",
            "Epoch 3/17\n",
            "13/13 [==============================] - 0s 13ms/step - loss: 0.4695 - mae: 0.5318 - val_loss: 0.0368 - val_mae: 0.1411\n",
            "Epoch 4/17\n",
            "13/13 [==============================] - 0s 10ms/step - loss: 0.5884 - mae: 0.5855 - val_loss: 0.0429 - val_mae: 0.1512\n",
            "Epoch 5/17\n",
            "13/13 [==============================] - 0s 10ms/step - loss: 0.4322 - mae: 0.5109 - val_loss: 0.0405 - val_mae: 0.1454\n",
            "Epoch 6/17\n",
            "13/13 [==============================] - 0s 10ms/step - loss: 0.4690 - mae: 0.5291 - val_loss: 0.0396 - val_mae: 0.1422\n",
            "Epoch 7/17\n",
            "13/13 [==============================] - 0s 11ms/step - loss: 0.4435 - mae: 0.4933 - val_loss: 0.0444 - val_mae: 0.1517\n",
            "Epoch 8/17\n",
            "13/13 [==============================] - 0s 12ms/step - loss: 0.3798 - mae: 0.4672 - val_loss: 0.0369 - val_mae: 0.1393\n",
            "Epoch 1/17\n",
            "13/13 [==============================] - 0s 25ms/step - loss: 1.0470 - mae: 0.8247 - val_loss: 0.0799 - val_mae: 0.2331\n",
            "Epoch 2/17\n",
            "13/13 [==============================] - 0s 11ms/step - loss: 0.6583 - mae: 0.5995 - val_loss: 0.0497 - val_mae: 0.1666\n",
            "Epoch 3/17\n",
            "13/13 [==============================] - 0s 11ms/step - loss: 0.5662 - mae: 0.5820 - val_loss: 0.0483 - val_mae: 0.1627\n",
            "Epoch 4/17\n",
            "13/13 [==============================] - 0s 12ms/step - loss: 0.4780 - mae: 0.5325 - val_loss: 0.0380 - val_mae: 0.1389\n",
            "Epoch 5/17\n",
            "13/13 [==============================] - 0s 11ms/step - loss: 0.3798 - mae: 0.4832 - val_loss: 0.0418 - val_mae: 0.1512\n",
            "Epoch 6/17\n",
            "13/13 [==============================] - 0s 10ms/step - loss: 0.4008 - mae: 0.4925 - val_loss: 0.0409 - val_mae: 0.1505\n",
            "Epoch 7/17\n",
            "13/13 [==============================] - 0s 10ms/step - loss: 0.3460 - mae: 0.4592 - val_loss: 0.0396 - val_mae: 0.1493\n",
            "Epoch 8/17\n",
            "13/13 [==============================] - 0s 11ms/step - loss: 0.4146 - mae: 0.4828 - val_loss: 0.0436 - val_mae: 0.1556\n",
            "Epoch 9/17\n",
            "13/13 [==============================] - 0s 10ms/step - loss: 0.3652 - mae: 0.4712 - val_loss: 0.0395 - val_mae: 0.1500\n"
          ],
          "name": "stdout"
        },
        {
          "output_type": "display_data",
          "data": {
            "text/html": [
              "<span style=\"color:#4527A0\"><h1 style=\"font-size:18px\">Trial complete</h1></span>"
            ],
            "text/plain": [
              "<IPython.core.display.HTML object>"
            ]
          },
          "metadata": {
            "tags": []
          }
        },
        {
          "output_type": "display_data",
          "data": {
            "text/html": [
              "<span style=\"color:#4527A0\"><h1 style=\"font-size:18px\">Trial summary</h1></span>"
            ],
            "text/plain": [
              "<IPython.core.display.HTML object>"
            ]
          },
          "metadata": {
            "tags": []
          }
        },
        {
          "output_type": "display_data",
          "data": {
            "text/html": [
              "<span style=\"color:cyan\"> |-Trial ID: abba17b436708275f9903b781648b570</span>"
            ],
            "text/plain": [
              "<IPython.core.display.HTML object>"
            ]
          },
          "metadata": {
            "tags": []
          }
        },
        {
          "output_type": "display_data",
          "data": {
            "text/html": [
              "<span style=\"color:cyan\"> |-Score: 0.13911914080381393</span>"
            ],
            "text/plain": [
              "<IPython.core.display.HTML object>"
            ]
          },
          "metadata": {
            "tags": []
          }
        },
        {
          "output_type": "display_data",
          "data": {
            "text/html": [
              "<span style=\"color:cyan\"> |-Best step: 0</span>"
            ],
            "text/plain": [
              "<IPython.core.display.HTML object>"
            ]
          },
          "metadata": {
            "tags": []
          }
        },
        {
          "output_type": "display_data",
          "data": {
            "text/html": [
              "<span style=\"color:#7E57C2\"><h2 style=\"font-size:16px\">Hyperparameters:</h2></span>"
            ],
            "text/plain": [
              "<IPython.core.display.HTML object>"
            ]
          },
          "metadata": {
            "tags": []
          }
        },
        {
          "output_type": "display_data",
          "data": {
            "text/html": [
              "<span style=\"color:cyan\"> |-dense_0: 128</span>"
            ],
            "text/plain": [
              "<IPython.core.display.HTML object>"
            ]
          },
          "metadata": {
            "tags": []
          }
        },
        {
          "output_type": "display_data",
          "data": {
            "text/html": [
              "<span style=\"color:blue\"> |-dense_1: 32</span>"
            ],
            "text/plain": [
              "<IPython.core.display.HTML object>"
            ]
          },
          "metadata": {
            "tags": []
          }
        },
        {
          "output_type": "display_data",
          "data": {
            "text/html": [
              "<span style=\"color:cyan\"> |-dense_2: 96</span>"
            ],
            "text/plain": [
              "<IPython.core.display.HTML object>"
            ]
          },
          "metadata": {
            "tags": []
          }
        },
        {
          "output_type": "display_data",
          "data": {
            "text/html": [
              "<span style=\"color:blue\"> |-dense_input: 32</span>"
            ],
            "text/plain": [
              "<IPython.core.display.HTML object>"
            ]
          },
          "metadata": {
            "tags": []
          }
        },
        {
          "output_type": "display_data",
          "data": {
            "text/html": [
              "<span style=\"color:cyan\"> |-drop_0: 0.2</span>"
            ],
            "text/plain": [
              "<IPython.core.display.HTML object>"
            ]
          },
          "metadata": {
            "tags": []
          }
        },
        {
          "output_type": "display_data",
          "data": {
            "text/html": [
              "<span style=\"color:blue\"> |-drop_1: 0.1</span>"
            ],
            "text/plain": [
              "<IPython.core.display.HTML object>"
            ]
          },
          "metadata": {
            "tags": []
          }
        },
        {
          "output_type": "display_data",
          "data": {
            "text/html": [
              "<span style=\"color:cyan\"> |-drop_2: 0.30000000000000004</span>"
            ],
            "text/plain": [
              "<IPython.core.display.HTML object>"
            ]
          },
          "metadata": {
            "tags": []
          }
        },
        {
          "output_type": "display_data",
          "data": {
            "text/html": [
              "<span style=\"color:blue\"> |-drop_input: 0.1</span>"
            ],
            "text/plain": [
              "<IPython.core.display.HTML object>"
            ]
          },
          "metadata": {
            "tags": []
          }
        },
        {
          "output_type": "display_data",
          "data": {
            "text/html": [
              "<span style=\"color:cyan\"> |-lr: 0.0014159013664792421</span>"
            ],
            "text/plain": [
              "<IPython.core.display.HTML object>"
            ]
          },
          "metadata": {
            "tags": []
          }
        },
        {
          "output_type": "display_data",
          "data": {
            "text/html": [
              "<span style=\"color:blue\"> |-num_intermediate_layers: 1</span>"
            ],
            "text/plain": [
              "<IPython.core.display.HTML object>"
            ]
          },
          "metadata": {
            "tags": []
          }
        },
        {
          "output_type": "display_data",
          "data": {
            "text/html": [
              "<span style=\"color:cyan\"> |-tuner/bracket: 1</span>"
            ],
            "text/plain": [
              "<IPython.core.display.HTML object>"
            ]
          },
          "metadata": {
            "tags": []
          }
        },
        {
          "output_type": "display_data",
          "data": {
            "text/html": [
              "<span style=\"color:blue\"> |-tuner/epochs: 17</span>"
            ],
            "text/plain": [
              "<IPython.core.display.HTML object>"
            ]
          },
          "metadata": {
            "tags": []
          }
        },
        {
          "output_type": "display_data",
          "data": {
            "text/html": [
              "<span style=\"color:cyan\"> |-tuner/initial_epoch: 0</span>"
            ],
            "text/plain": [
              "<IPython.core.display.HTML object>"
            ]
          },
          "metadata": {
            "tags": []
          }
        },
        {
          "output_type": "display_data",
          "data": {
            "text/html": [
              "<span style=\"color:blue\"> |-tuner/round: 0</span>"
            ],
            "text/plain": [
              "<IPython.core.display.HTML object>"
            ]
          },
          "metadata": {
            "tags": []
          }
        },
        {
          "output_type": "stream",
          "text": [
            "Epoch 1/17\n",
            "13/13 [==============================] - 0s 26ms/step - loss: 1.8436 - mae: 1.0242 - val_loss: 0.2101 - val_mae: 0.4157\n",
            "Epoch 2/17\n",
            "13/13 [==============================] - 0s 12ms/step - loss: 1.2839 - mae: 0.8753 - val_loss: 0.2002 - val_mae: 0.4024\n",
            "Epoch 3/17\n",
            "13/13 [==============================] - 0s 12ms/step - loss: 1.3495 - mae: 0.8490 - val_loss: 0.1843 - val_mae: 0.3853\n",
            "Epoch 4/17\n",
            "13/13 [==============================] - 0s 12ms/step - loss: 1.1799 - mae: 0.8309 - val_loss: 0.1665 - val_mae: 0.3669\n",
            "Epoch 5/17\n",
            "13/13 [==============================] - 0s 12ms/step - loss: 1.1290 - mae: 0.8027 - val_loss: 0.1452 - val_mae: 0.3324\n",
            "Epoch 6/17\n",
            "13/13 [==============================] - 0s 13ms/step - loss: 1.1059 - mae: 0.7992 - val_loss: 0.1295 - val_mae: 0.3140\n",
            "Epoch 7/17\n",
            "13/13 [==============================] - 0s 12ms/step - loss: 1.0907 - mae: 0.8088 - val_loss: 0.1194 - val_mae: 0.2971\n",
            "Epoch 8/17\n",
            "13/13 [==============================] - 0s 15ms/step - loss: 0.9252 - mae: 0.7427 - val_loss: 0.0980 - val_mae: 0.2708\n",
            "Epoch 9/17\n",
            "13/13 [==============================] - 0s 14ms/step - loss: 0.7811 - mae: 0.6918 - val_loss: 0.1068 - val_mae: 0.2889\n",
            "Epoch 10/17\n",
            "13/13 [==============================] - 0s 14ms/step - loss: 1.0391 - mae: 0.7832 - val_loss: 0.1143 - val_mae: 0.2996\n",
            "Epoch 11/17\n",
            "13/13 [==============================] - 0s 13ms/step - loss: 0.8394 - mae: 0.7071 - val_loss: 0.1027 - val_mae: 0.2815\n",
            "Epoch 12/17\n",
            "13/13 [==============================] - 0s 10ms/step - loss: 0.8707 - mae: 0.7235 - val_loss: 0.1099 - val_mae: 0.2873\n",
            "Epoch 13/17\n",
            "13/13 [==============================] - 0s 10ms/step - loss: 0.9104 - mae: 0.7284 - val_loss: 0.0983 - val_mae: 0.2714\n",
            "Epoch 1/17\n",
            "13/13 [==============================] - 0s 29ms/step - loss: 2.4281 - mae: 1.1993 - val_loss: 0.0839 - val_mae: 0.2277\n",
            "Epoch 2/17\n",
            "13/13 [==============================] - 0s 10ms/step - loss: 1.8041 - mae: 1.0426 - val_loss: 0.0913 - val_mae: 0.2432\n",
            "Epoch 3/17\n",
            "13/13 [==============================] - 0s 10ms/step - loss: 1.1801 - mae: 0.8507 - val_loss: 0.0936 - val_mae: 0.2472\n",
            "Epoch 4/17\n",
            "13/13 [==============================] - 0s 10ms/step - loss: 1.1059 - mae: 0.8068 - val_loss: 0.0885 - val_mae: 0.2394\n",
            "Epoch 5/17\n",
            "13/13 [==============================] - 0s 9ms/step - loss: 1.2554 - mae: 0.8697 - val_loss: 0.0872 - val_mae: 0.2371\n",
            "Epoch 6/17\n",
            "13/13 [==============================] - 0s 10ms/step - loss: 1.0974 - mae: 0.7905 - val_loss: 0.0856 - val_mae: 0.2353\n"
          ],
          "name": "stdout"
        },
        {
          "output_type": "display_data",
          "data": {
            "text/html": [
              "<span style=\"color:#4527A0\"><h1 style=\"font-size:18px\">Trial complete</h1></span>"
            ],
            "text/plain": [
              "<IPython.core.display.HTML object>"
            ]
          },
          "metadata": {
            "tags": []
          }
        },
        {
          "output_type": "display_data",
          "data": {
            "text/html": [
              "<span style=\"color:#4527A0\"><h1 style=\"font-size:18px\">Trial summary</h1></span>"
            ],
            "text/plain": [
              "<IPython.core.display.HTML object>"
            ]
          },
          "metadata": {
            "tags": []
          }
        },
        {
          "output_type": "display_data",
          "data": {
            "text/html": [
              "<span style=\"color:cyan\"> |-Trial ID: af9c488e44a2e2bce5abaf97d368fd11</span>"
            ],
            "text/plain": [
              "<IPython.core.display.HTML object>"
            ]
          },
          "metadata": {
            "tags": []
          }
        },
        {
          "output_type": "display_data",
          "data": {
            "text/html": [
              "<span style=\"color:cyan\"> |-Score: 0.24922633916139603</span>"
            ],
            "text/plain": [
              "<IPython.core.display.HTML object>"
            ]
          },
          "metadata": {
            "tags": []
          }
        },
        {
          "output_type": "display_data",
          "data": {
            "text/html": [
              "<span style=\"color:cyan\"> |-Best step: 0</span>"
            ],
            "text/plain": [
              "<IPython.core.display.HTML object>"
            ]
          },
          "metadata": {
            "tags": []
          }
        },
        {
          "output_type": "display_data",
          "data": {
            "text/html": [
              "<span style=\"color:#7E57C2\"><h2 style=\"font-size:16px\">Hyperparameters:</h2></span>"
            ],
            "text/plain": [
              "<IPython.core.display.HTML object>"
            ]
          },
          "metadata": {
            "tags": []
          }
        },
        {
          "output_type": "display_data",
          "data": {
            "text/html": [
              "<span style=\"color:cyan\"> |-dense_0: 96</span>"
            ],
            "text/plain": [
              "<IPython.core.display.HTML object>"
            ]
          },
          "metadata": {
            "tags": []
          }
        },
        {
          "output_type": "display_data",
          "data": {
            "text/html": [
              "<span style=\"color:blue\"> |-dense_1: 64</span>"
            ],
            "text/plain": [
              "<IPython.core.display.HTML object>"
            ]
          },
          "metadata": {
            "tags": []
          }
        },
        {
          "output_type": "display_data",
          "data": {
            "text/html": [
              "<span style=\"color:cyan\"> |-dense_2: 96</span>"
            ],
            "text/plain": [
              "<IPython.core.display.HTML object>"
            ]
          },
          "metadata": {
            "tags": []
          }
        },
        {
          "output_type": "display_data",
          "data": {
            "text/html": [
              "<span style=\"color:blue\"> |-dense_input: 96</span>"
            ],
            "text/plain": [
              "<IPython.core.display.HTML object>"
            ]
          },
          "metadata": {
            "tags": []
          }
        },
        {
          "output_type": "display_data",
          "data": {
            "text/html": [
              "<span style=\"color:cyan\"> |-drop_0: 0.30000000000000004</span>"
            ],
            "text/plain": [
              "<IPython.core.display.HTML object>"
            ]
          },
          "metadata": {
            "tags": []
          }
        },
        {
          "output_type": "display_data",
          "data": {
            "text/html": [
              "<span style=\"color:blue\"> |-drop_1: 0.30000000000000004</span>"
            ],
            "text/plain": [
              "<IPython.core.display.HTML object>"
            ]
          },
          "metadata": {
            "tags": []
          }
        },
        {
          "output_type": "display_data",
          "data": {
            "text/html": [
              "<span style=\"color:cyan\"> |-drop_2: 0.1</span>"
            ],
            "text/plain": [
              "<IPython.core.display.HTML object>"
            ]
          },
          "metadata": {
            "tags": []
          }
        },
        {
          "output_type": "display_data",
          "data": {
            "text/html": [
              "<span style=\"color:blue\"> |-drop_input: 0.1</span>"
            ],
            "text/plain": [
              "<IPython.core.display.HTML object>"
            ]
          },
          "metadata": {
            "tags": []
          }
        },
        {
          "output_type": "display_data",
          "data": {
            "text/html": [
              "<span style=\"color:cyan\"> |-lr: 0.00026187085966739856</span>"
            ],
            "text/plain": [
              "<IPython.core.display.HTML object>"
            ]
          },
          "metadata": {
            "tags": []
          }
        },
        {
          "output_type": "display_data",
          "data": {
            "text/html": [
              "<span style=\"color:blue\"> |-num_intermediate_layers: 1</span>"
            ],
            "text/plain": [
              "<IPython.core.display.HTML object>"
            ]
          },
          "metadata": {
            "tags": []
          }
        },
        {
          "output_type": "display_data",
          "data": {
            "text/html": [
              "<span style=\"color:cyan\"> |-tuner/bracket: 1</span>"
            ],
            "text/plain": [
              "<IPython.core.display.HTML object>"
            ]
          },
          "metadata": {
            "tags": []
          }
        },
        {
          "output_type": "display_data",
          "data": {
            "text/html": [
              "<span style=\"color:blue\"> |-tuner/epochs: 17</span>"
            ],
            "text/plain": [
              "<IPython.core.display.HTML object>"
            ]
          },
          "metadata": {
            "tags": []
          }
        },
        {
          "output_type": "display_data",
          "data": {
            "text/html": [
              "<span style=\"color:cyan\"> |-tuner/initial_epoch: 0</span>"
            ],
            "text/plain": [
              "<IPython.core.display.HTML object>"
            ]
          },
          "metadata": {
            "tags": []
          }
        },
        {
          "output_type": "display_data",
          "data": {
            "text/html": [
              "<span style=\"color:blue\"> |-tuner/round: 0</span>"
            ],
            "text/plain": [
              "<IPython.core.display.HTML object>"
            ]
          },
          "metadata": {
            "tags": []
          }
        },
        {
          "output_type": "stream",
          "text": [
            "Epoch 1/17\n",
            "13/13 [==============================] - 0s 31ms/step - loss: 0.9998 - mae: 0.7591 - val_loss: 0.1168 - val_mae: 0.2878\n",
            "Epoch 2/17\n",
            "13/13 [==============================] - 0s 14ms/step - loss: 0.3357 - mae: 0.4496 - val_loss: 0.0515 - val_mae: 0.1716\n",
            "Epoch 3/17\n",
            "13/13 [==============================] - 0s 23ms/step - loss: 0.2786 - mae: 0.4044 - val_loss: 0.0391 - val_mae: 0.1439\n",
            "Epoch 4/17\n",
            "13/13 [==============================] - 0s 15ms/step - loss: 0.1994 - mae: 0.3410 - val_loss: 0.0435 - val_mae: 0.1533\n",
            "Epoch 5/17\n",
            "13/13 [==============================] - 0s 14ms/step - loss: 0.2260 - mae: 0.3498 - val_loss: 0.0349 - val_mae: 0.1339\n",
            "Epoch 6/17\n",
            "13/13 [==============================] - 0s 11ms/step - loss: 0.1804 - mae: 0.3288 - val_loss: 0.0497 - val_mae: 0.1651\n",
            "Epoch 7/17\n",
            "13/13 [==============================] - 0s 11ms/step - loss: 0.1882 - mae: 0.3380 - val_loss: 0.0377 - val_mae: 0.1376\n",
            "Epoch 8/17\n",
            "13/13 [==============================] - 0s 12ms/step - loss: 0.1673 - mae: 0.3160 - val_loss: 0.0452 - val_mae: 0.1555\n",
            "Epoch 9/17\n",
            "13/13 [==============================] - 0s 12ms/step - loss: 0.1683 - mae: 0.3062 - val_loss: 0.0362 - val_mae: 0.1348\n",
            "Epoch 10/17\n",
            "13/13 [==============================] - 0s 15ms/step - loss: 0.1674 - mae: 0.3155 - val_loss: 0.0338 - val_mae: 0.1334\n",
            "Epoch 11/17\n",
            "13/13 [==============================] - 0s 16ms/step - loss: 0.1578 - mae: 0.2948 - val_loss: 0.0337 - val_mae: 0.1311\n",
            "Epoch 12/17\n",
            "13/13 [==============================] - 0s 13ms/step - loss: 0.1410 - mae: 0.2802 - val_loss: 0.0297 - val_mae: 0.1213\n",
            "Epoch 13/17\n",
            "13/13 [==============================] - 0s 11ms/step - loss: 0.1404 - mae: 0.2836 - val_loss: 0.0361 - val_mae: 0.1397\n",
            "Epoch 14/17\n",
            "13/13 [==============================] - 0s 12ms/step - loss: 0.1108 - mae: 0.2568 - val_loss: 0.0379 - val_mae: 0.1440\n",
            "Epoch 15/17\n",
            "13/13 [==============================] - 0s 11ms/step - loss: 0.1311 - mae: 0.2709 - val_loss: 0.0347 - val_mae: 0.1353\n",
            "Epoch 16/17\n",
            "13/13 [==============================] - 0s 12ms/step - loss: 0.1093 - mae: 0.2528 - val_loss: 0.0298 - val_mae: 0.1255\n",
            "Epoch 17/17\n",
            "13/13 [==============================] - 0s 11ms/step - loss: 0.1017 - mae: 0.2463 - val_loss: 0.0327 - val_mae: 0.1312\n",
            "Epoch 1/17\n",
            "13/13 [==============================] - 0s 31ms/step - loss: 0.8420 - mae: 0.6952 - val_loss: 0.1116 - val_mae: 0.2930\n",
            "Epoch 2/17\n",
            "13/13 [==============================] - 0s 11ms/step - loss: 0.3472 - mae: 0.4521 - val_loss: 0.0400 - val_mae: 0.1439\n",
            "Epoch 3/17\n",
            "13/13 [==============================] - 0s 11ms/step - loss: 0.2652 - mae: 0.3814 - val_loss: 0.0363 - val_mae: 0.1371\n",
            "Epoch 4/17\n",
            "13/13 [==============================] - 0s 12ms/step - loss: 0.2561 - mae: 0.3818 - val_loss: 0.0389 - val_mae: 0.1402\n",
            "Epoch 5/17\n",
            "13/13 [==============================] - 0s 12ms/step - loss: 0.2271 - mae: 0.3546 - val_loss: 0.0555 - val_mae: 0.1758\n",
            "Epoch 6/17\n",
            "13/13 [==============================] - 0s 17ms/step - loss: 0.2254 - mae: 0.3598 - val_loss: 0.0425 - val_mae: 0.1500\n",
            "Epoch 7/17\n",
            "13/13 [==============================] - 0s 17ms/step - loss: 0.1925 - mae: 0.3247 - val_loss: 0.0338 - val_mae: 0.1319\n",
            "Epoch 8/17\n",
            "13/13 [==============================] - 0s 17ms/step - loss: 0.1912 - mae: 0.3080 - val_loss: 0.0343 - val_mae: 0.1345\n",
            "Epoch 9/17\n",
            "13/13 [==============================] - 0s 12ms/step - loss: 0.1609 - mae: 0.2984 - val_loss: 0.0465 - val_mae: 0.1644\n",
            "Epoch 10/17\n",
            "13/13 [==============================] - 0s 14ms/step - loss: 0.1574 - mae: 0.3006 - val_loss: 0.0288 - val_mae: 0.1194\n",
            "Epoch 11/17\n",
            "13/13 [==============================] - 0s 11ms/step - loss: 0.1480 - mae: 0.2790 - val_loss: 0.0371 - val_mae: 0.1380\n",
            "Epoch 12/17\n",
            "13/13 [==============================] - 0s 12ms/step - loss: 0.1222 - mae: 0.2635 - val_loss: 0.0364 - val_mae: 0.1365\n",
            "Epoch 13/17\n",
            "13/13 [==============================] - 0s 13ms/step - loss: 0.1336 - mae: 0.2702 - val_loss: 0.0270 - val_mae: 0.1137\n",
            "Epoch 14/17\n",
            "13/13 [==============================] - 0s 12ms/step - loss: 0.1391 - mae: 0.2853 - val_loss: 0.0343 - val_mae: 0.1305\n",
            "Epoch 15/17\n",
            "13/13 [==============================] - 0s 12ms/step - loss: 0.1341 - mae: 0.2777 - val_loss: 0.0356 - val_mae: 0.1407\n",
            "Epoch 16/17\n",
            "13/13 [==============================] - 0s 13ms/step - loss: 0.1290 - mae: 0.2648 - val_loss: 0.0228 - val_mae: 0.1031\n",
            "Epoch 17/17\n",
            "13/13 [==============================] - 0s 12ms/step - loss: 0.1177 - mae: 0.2552 - val_loss: 0.0474 - val_mae: 0.1693\n"
          ],
          "name": "stdout"
        },
        {
          "output_type": "display_data",
          "data": {
            "text/html": [
              "<span style=\"color:#4527A0\"><h1 style=\"font-size:18px\">Trial complete</h1></span>"
            ],
            "text/plain": [
              "<IPython.core.display.HTML object>"
            ]
          },
          "metadata": {
            "tags": []
          }
        },
        {
          "output_type": "display_data",
          "data": {
            "text/html": [
              "<span style=\"color:#4527A0\"><h1 style=\"font-size:18px\">Trial summary</h1></span>"
            ],
            "text/plain": [
              "<IPython.core.display.HTML object>"
            ]
          },
          "metadata": {
            "tags": []
          }
        },
        {
          "output_type": "display_data",
          "data": {
            "text/html": [
              "<span style=\"color:cyan\"> |-Trial ID: 46e889fac3343d55565b3098be2ee560</span>"
            ],
            "text/plain": [
              "<IPython.core.display.HTML object>"
            ]
          },
          "metadata": {
            "tags": []
          }
        },
        {
          "output_type": "display_data",
          "data": {
            "text/html": [
              "<span style=\"color:cyan\"> |-Score: 0.11220898106694221</span>"
            ],
            "text/plain": [
              "<IPython.core.display.HTML object>"
            ]
          },
          "metadata": {
            "tags": []
          }
        },
        {
          "output_type": "display_data",
          "data": {
            "text/html": [
              "<span style=\"color:cyan\"> |-Best step: 0</span>"
            ],
            "text/plain": [
              "<IPython.core.display.HTML object>"
            ]
          },
          "metadata": {
            "tags": []
          }
        },
        {
          "output_type": "display_data",
          "data": {
            "text/html": [
              "<span style=\"color:#7E57C2\"><h2 style=\"font-size:16px\">Hyperparameters:</h2></span>"
            ],
            "text/plain": [
              "<IPython.core.display.HTML object>"
            ]
          },
          "metadata": {
            "tags": []
          }
        },
        {
          "output_type": "display_data",
          "data": {
            "text/html": [
              "<span style=\"color:cyan\"> |-dense_0: 64</span>"
            ],
            "text/plain": [
              "<IPython.core.display.HTML object>"
            ]
          },
          "metadata": {
            "tags": []
          }
        },
        {
          "output_type": "display_data",
          "data": {
            "text/html": [
              "<span style=\"color:blue\"> |-dense_1: 64</span>"
            ],
            "text/plain": [
              "<IPython.core.display.HTML object>"
            ]
          },
          "metadata": {
            "tags": []
          }
        },
        {
          "output_type": "display_data",
          "data": {
            "text/html": [
              "<span style=\"color:cyan\"> |-dense_2: 96</span>"
            ],
            "text/plain": [
              "<IPython.core.display.HTML object>"
            ]
          },
          "metadata": {
            "tags": []
          }
        },
        {
          "output_type": "display_data",
          "data": {
            "text/html": [
              "<span style=\"color:blue\"> |-dense_input: 64</span>"
            ],
            "text/plain": [
              "<IPython.core.display.HTML object>"
            ]
          },
          "metadata": {
            "tags": []
          }
        },
        {
          "output_type": "display_data",
          "data": {
            "text/html": [
              "<span style=\"color:cyan\"> |-drop_0: 0.30000000000000004</span>"
            ],
            "text/plain": [
              "<IPython.core.display.HTML object>"
            ]
          },
          "metadata": {
            "tags": []
          }
        },
        {
          "output_type": "display_data",
          "data": {
            "text/html": [
              "<span style=\"color:blue\"> |-drop_1: 0.1</span>"
            ],
            "text/plain": [
              "<IPython.core.display.HTML object>"
            ]
          },
          "metadata": {
            "tags": []
          }
        },
        {
          "output_type": "display_data",
          "data": {
            "text/html": [
              "<span style=\"color:cyan\"> |-drop_2: 0.2</span>"
            ],
            "text/plain": [
              "<IPython.core.display.HTML object>"
            ]
          },
          "metadata": {
            "tags": []
          }
        },
        {
          "output_type": "display_data",
          "data": {
            "text/html": [
              "<span style=\"color:blue\"> |-drop_input: 0.0</span>"
            ],
            "text/plain": [
              "<IPython.core.display.HTML object>"
            ]
          },
          "metadata": {
            "tags": []
          }
        },
        {
          "output_type": "display_data",
          "data": {
            "text/html": [
              "<span style=\"color:cyan\"> |-lr: 0.001778812677537875</span>"
            ],
            "text/plain": [
              "<IPython.core.display.HTML object>"
            ]
          },
          "metadata": {
            "tags": []
          }
        },
        {
          "output_type": "display_data",
          "data": {
            "text/html": [
              "<span style=\"color:blue\"> |-num_intermediate_layers: 2</span>"
            ],
            "text/plain": [
              "<IPython.core.display.HTML object>"
            ]
          },
          "metadata": {
            "tags": []
          }
        },
        {
          "output_type": "display_data",
          "data": {
            "text/html": [
              "<span style=\"color:cyan\"> |-tuner/bracket: 1</span>"
            ],
            "text/plain": [
              "<IPython.core.display.HTML object>"
            ]
          },
          "metadata": {
            "tags": []
          }
        },
        {
          "output_type": "display_data",
          "data": {
            "text/html": [
              "<span style=\"color:blue\"> |-tuner/epochs: 17</span>"
            ],
            "text/plain": [
              "<IPython.core.display.HTML object>"
            ]
          },
          "metadata": {
            "tags": []
          }
        },
        {
          "output_type": "display_data",
          "data": {
            "text/html": [
              "<span style=\"color:cyan\"> |-tuner/initial_epoch: 0</span>"
            ],
            "text/plain": [
              "<IPython.core.display.HTML object>"
            ]
          },
          "metadata": {
            "tags": []
          }
        },
        {
          "output_type": "display_data",
          "data": {
            "text/html": [
              "<span style=\"color:blue\"> |-tuner/round: 0</span>"
            ],
            "text/plain": [
              "<IPython.core.display.HTML object>"
            ]
          },
          "metadata": {
            "tags": []
          }
        },
        {
          "output_type": "stream",
          "text": [
            "Epoch 1/17\n",
            "13/13 [==============================] - 0s 33ms/step - loss: 2.5686 - mae: 1.2420 - val_loss: 0.1035 - val_mae: 0.2679\n",
            "Epoch 2/17\n",
            "13/13 [==============================] - 0s 11ms/step - loss: 1.9030 - mae: 1.0293 - val_loss: 0.1351 - val_mae: 0.3189\n",
            "Epoch 3/17\n",
            "13/13 [==============================] - 0s 11ms/step - loss: 1.5559 - mae: 0.9563 - val_loss: 0.1307 - val_mae: 0.3093\n",
            "Epoch 4/17\n",
            "13/13 [==============================] - 0s 11ms/step - loss: 1.4111 - mae: 0.9269 - val_loss: 0.1248 - val_mae: 0.2974\n",
            "Epoch 5/17\n",
            "13/13 [==============================] - 0s 12ms/step - loss: 1.3774 - mae: 0.9188 - val_loss: 0.1211 - val_mae: 0.2944\n",
            "Epoch 6/17\n",
            "13/13 [==============================] - 0s 11ms/step - loss: 1.2590 - mae: 0.8672 - val_loss: 0.1194 - val_mae: 0.2942\n",
            "Epoch 1/17\n",
            "13/13 [==============================] - 0s 31ms/step - loss: 2.9583 - mae: 1.3316 - val_loss: 0.2859 - val_mae: 0.4860\n",
            "Epoch 2/17\n",
            "13/13 [==============================] - 0s 12ms/step - loss: 2.0974 - mae: 1.1441 - val_loss: 0.2318 - val_mae: 0.4325\n",
            "Epoch 3/17\n",
            "13/13 [==============================] - 0s 11ms/step - loss: 1.7225 - mae: 1.0178 - val_loss: 0.2308 - val_mae: 0.4327\n",
            "Epoch 4/17\n",
            "13/13 [==============================] - 0s 12ms/step - loss: 1.7229 - mae: 1.0211 - val_loss: 0.2271 - val_mae: 0.4262\n",
            "Epoch 5/17\n",
            "13/13 [==============================] - 0s 12ms/step - loss: 1.5406 - mae: 0.9447 - val_loss: 0.2401 - val_mae: 0.4451\n",
            "Epoch 6/17\n",
            "13/13 [==============================] - 0s 11ms/step - loss: 1.5086 - mae: 0.9667 - val_loss: 0.2446 - val_mae: 0.4554\n",
            "Epoch 7/17\n",
            "13/13 [==============================] - 0s 12ms/step - loss: 1.2900 - mae: 0.8728 - val_loss: 0.2415 - val_mae: 0.4535\n",
            "Epoch 8/17\n",
            "13/13 [==============================] - 0s 11ms/step - loss: 1.4152 - mae: 0.9124 - val_loss: 0.2323 - val_mae: 0.4434\n",
            "Epoch 9/17\n",
            "13/13 [==============================] - 0s 11ms/step - loss: 1.1910 - mae: 0.8402 - val_loss: 0.2267 - val_mae: 0.4267\n",
            "Epoch 10/17\n",
            "13/13 [==============================] - 0s 11ms/step - loss: 1.0587 - mae: 0.8175 - val_loss: 0.2013 - val_mae: 0.3953\n",
            "Epoch 11/17\n",
            "13/13 [==============================] - 0s 12ms/step - loss: 1.2615 - mae: 0.8397 - val_loss: 0.1822 - val_mae: 0.3823\n",
            "Epoch 12/17\n",
            "13/13 [==============================] - 0s 11ms/step - loss: 1.1627 - mae: 0.8388 - val_loss: 0.1945 - val_mae: 0.3900\n",
            "Epoch 13/17\n",
            "13/13 [==============================] - 0s 12ms/step - loss: 1.1129 - mae: 0.8347 - val_loss: 0.1836 - val_mae: 0.3828\n",
            "Epoch 14/17\n",
            "13/13 [==============================] - 0s 11ms/step - loss: 1.1715 - mae: 0.8166 - val_loss: 0.1529 - val_mae: 0.3495\n",
            "Epoch 15/17\n",
            "13/13 [==============================] - 0s 11ms/step - loss: 1.1955 - mae: 0.8420 - val_loss: 0.1334 - val_mae: 0.3156\n",
            "Epoch 16/17\n",
            "13/13 [==============================] - 0s 11ms/step - loss: 1.0201 - mae: 0.7941 - val_loss: 0.1188 - val_mae: 0.2989\n",
            "Epoch 17/17\n",
            "13/13 [==============================] - 0s 12ms/step - loss: 1.1002 - mae: 0.8139 - val_loss: 0.1128 - val_mae: 0.2864\n"
          ],
          "name": "stdout"
        },
        {
          "output_type": "display_data",
          "data": {
            "text/html": [
              "<span style=\"color:#4527A0\"><h1 style=\"font-size:18px\">Trial complete</h1></span>"
            ],
            "text/plain": [
              "<IPython.core.display.HTML object>"
            ]
          },
          "metadata": {
            "tags": []
          }
        },
        {
          "output_type": "display_data",
          "data": {
            "text/html": [
              "<span style=\"color:#4527A0\"><h1 style=\"font-size:18px\">Trial summary</h1></span>"
            ],
            "text/plain": [
              "<IPython.core.display.HTML object>"
            ]
          },
          "metadata": {
            "tags": []
          }
        },
        {
          "output_type": "display_data",
          "data": {
            "text/html": [
              "<span style=\"color:cyan\"> |-Trial ID: a735c3362884e595e29c6c751be9d6c4</span>"
            ],
            "text/plain": [
              "<IPython.core.display.HTML object>"
            ]
          },
          "metadata": {
            "tags": []
          }
        },
        {
          "output_type": "display_data",
          "data": {
            "text/html": [
              "<span style=\"color:cyan\"> |-Score: 0.27718131244182587</span>"
            ],
            "text/plain": [
              "<IPython.core.display.HTML object>"
            ]
          },
          "metadata": {
            "tags": []
          }
        },
        {
          "output_type": "display_data",
          "data": {
            "text/html": [
              "<span style=\"color:cyan\"> |-Best step: 0</span>"
            ],
            "text/plain": [
              "<IPython.core.display.HTML object>"
            ]
          },
          "metadata": {
            "tags": []
          }
        },
        {
          "output_type": "display_data",
          "data": {
            "text/html": [
              "<span style=\"color:#7E57C2\"><h2 style=\"font-size:16px\">Hyperparameters:</h2></span>"
            ],
            "text/plain": [
              "<IPython.core.display.HTML object>"
            ]
          },
          "metadata": {
            "tags": []
          }
        },
        {
          "output_type": "display_data",
          "data": {
            "text/html": [
              "<span style=\"color:cyan\"> |-dense_0: 128</span>"
            ],
            "text/plain": [
              "<IPython.core.display.HTML object>"
            ]
          },
          "metadata": {
            "tags": []
          }
        },
        {
          "output_type": "display_data",
          "data": {
            "text/html": [
              "<span style=\"color:blue\"> |-dense_1: 96</span>"
            ],
            "text/plain": [
              "<IPython.core.display.HTML object>"
            ]
          },
          "metadata": {
            "tags": []
          }
        },
        {
          "output_type": "display_data",
          "data": {
            "text/html": [
              "<span style=\"color:cyan\"> |-dense_2: 96</span>"
            ],
            "text/plain": [
              "<IPython.core.display.HTML object>"
            ]
          },
          "metadata": {
            "tags": []
          }
        },
        {
          "output_type": "display_data",
          "data": {
            "text/html": [
              "<span style=\"color:blue\"> |-dense_input: 64</span>"
            ],
            "text/plain": [
              "<IPython.core.display.HTML object>"
            ]
          },
          "metadata": {
            "tags": []
          }
        },
        {
          "output_type": "display_data",
          "data": {
            "text/html": [
              "<span style=\"color:cyan\"> |-drop_0: 0.1</span>"
            ],
            "text/plain": [
              "<IPython.core.display.HTML object>"
            ]
          },
          "metadata": {
            "tags": []
          }
        },
        {
          "output_type": "display_data",
          "data": {
            "text/html": [
              "<span style=\"color:blue\"> |-drop_1: 0.30000000000000004</span>"
            ],
            "text/plain": [
              "<IPython.core.display.HTML object>"
            ]
          },
          "metadata": {
            "tags": []
          }
        },
        {
          "output_type": "display_data",
          "data": {
            "text/html": [
              "<span style=\"color:cyan\"> |-drop_2: 0.30000000000000004</span>"
            ],
            "text/plain": [
              "<IPython.core.display.HTML object>"
            ]
          },
          "metadata": {
            "tags": []
          }
        },
        {
          "output_type": "display_data",
          "data": {
            "text/html": [
              "<span style=\"color:blue\"> |-drop_input: 0.2</span>"
            ],
            "text/plain": [
              "<IPython.core.display.HTML object>"
            ]
          },
          "metadata": {
            "tags": []
          }
        },
        {
          "output_type": "display_data",
          "data": {
            "text/html": [
              "<span style=\"color:cyan\"> |-lr: 0.00012303364731464285</span>"
            ],
            "text/plain": [
              "<IPython.core.display.HTML object>"
            ]
          },
          "metadata": {
            "tags": []
          }
        },
        {
          "output_type": "display_data",
          "data": {
            "text/html": [
              "<span style=\"color:blue\"> |-num_intermediate_layers: 2</span>"
            ],
            "text/plain": [
              "<IPython.core.display.HTML object>"
            ]
          },
          "metadata": {
            "tags": []
          }
        },
        {
          "output_type": "display_data",
          "data": {
            "text/html": [
              "<span style=\"color:cyan\"> |-tuner/bracket: 1</span>"
            ],
            "text/plain": [
              "<IPython.core.display.HTML object>"
            ]
          },
          "metadata": {
            "tags": []
          }
        },
        {
          "output_type": "display_data",
          "data": {
            "text/html": [
              "<span style=\"color:blue\"> |-tuner/epochs: 17</span>"
            ],
            "text/plain": [
              "<IPython.core.display.HTML object>"
            ]
          },
          "metadata": {
            "tags": []
          }
        },
        {
          "output_type": "display_data",
          "data": {
            "text/html": [
              "<span style=\"color:cyan\"> |-tuner/initial_epoch: 0</span>"
            ],
            "text/plain": [
              "<IPython.core.display.HTML object>"
            ]
          },
          "metadata": {
            "tags": []
          }
        },
        {
          "output_type": "display_data",
          "data": {
            "text/html": [
              "<span style=\"color:blue\"> |-tuner/round: 0</span>"
            ],
            "text/plain": [
              "<IPython.core.display.HTML object>"
            ]
          },
          "metadata": {
            "tags": []
          }
        },
        {
          "output_type": "stream",
          "text": [
            "Epoch 1/17\n",
            "13/13 [==============================] - 0s 35ms/step - loss: 1.2927 - mae: 0.8859 - val_loss: 0.2531 - val_mae: 0.4399\n",
            "Epoch 2/17\n",
            "13/13 [==============================] - 0s 15ms/step - loss: 0.8846 - mae: 0.7235 - val_loss: 0.1839 - val_mae: 0.3701\n",
            "Epoch 3/17\n",
            "13/13 [==============================] - 0s 15ms/step - loss: 0.7521 - mae: 0.6686 - val_loss: 0.1169 - val_mae: 0.2782\n",
            "Epoch 4/17\n",
            "13/13 [==============================] - 0s 15ms/step - loss: 0.7685 - mae: 0.6770 - val_loss: 0.1035 - val_mae: 0.2596\n",
            "Epoch 5/17\n",
            "13/13 [==============================] - 0s 14ms/step - loss: 0.7155 - mae: 0.6509 - val_loss: 0.0673 - val_mae: 0.2002\n",
            "Epoch 6/17\n",
            "13/13 [==============================] - 0s 14ms/step - loss: 0.6779 - mae: 0.6220 - val_loss: 0.0596 - val_mae: 0.1881\n",
            "Epoch 7/17\n",
            "13/13 [==============================] - 0s 12ms/step - loss: 0.6211 - mae: 0.5958 - val_loss: 0.0629 - val_mae: 0.1944\n",
            "Epoch 8/17\n",
            "13/13 [==============================] - 0s 14ms/step - loss: 0.5782 - mae: 0.5747 - val_loss: 0.0558 - val_mae: 0.1800\n",
            "Epoch 9/17\n",
            "13/13 [==============================] - 0s 15ms/step - loss: 0.5273 - mae: 0.5564 - val_loss: 0.0541 - val_mae: 0.1778\n",
            "Epoch 10/17\n",
            "13/13 [==============================] - 0s 14ms/step - loss: 0.5036 - mae: 0.5487 - val_loss: 0.0465 - val_mae: 0.1621\n",
            "Epoch 11/17\n",
            "13/13 [==============================] - 0s 15ms/step - loss: 0.5317 - mae: 0.5452 - val_loss: 0.0406 - val_mae: 0.1429\n",
            "Epoch 12/17\n",
            "13/13 [==============================] - 0s 11ms/step - loss: 0.5637 - mae: 0.5797 - val_loss: 0.0428 - val_mae: 0.1518\n",
            "Epoch 13/17\n",
            "13/13 [==============================] - 0s 14ms/step - loss: 0.4988 - mae: 0.5341 - val_loss: 0.0325 - val_mae: 0.1315\n",
            "Epoch 14/17\n",
            "13/13 [==============================] - 0s 11ms/step - loss: 0.4981 - mae: 0.5392 - val_loss: 0.0436 - val_mae: 0.1622\n",
            "Epoch 15/17\n",
            "13/13 [==============================] - 0s 15ms/step - loss: 0.4578 - mae: 0.5142 - val_loss: 0.0299 - val_mae: 0.1277\n",
            "Epoch 16/17\n",
            "13/13 [==============================] - 0s 12ms/step - loss: 0.5143 - mae: 0.5380 - val_loss: 0.0620 - val_mae: 0.2035\n",
            "Epoch 17/17\n",
            "13/13 [==============================] - 0s 12ms/step - loss: 0.4692 - mae: 0.5321 - val_loss: 0.0340 - val_mae: 0.1326\n",
            "Epoch 1/17\n",
            "13/13 [==============================] - 0s 31ms/step - loss: 1.7499 - mae: 1.0138 - val_loss: 0.1496 - val_mae: 0.3274\n",
            "Epoch 2/17\n",
            "13/13 [==============================] - 0s 12ms/step - loss: 0.9897 - mae: 0.7808 - val_loss: 0.1345 - val_mae: 0.3071\n",
            "Epoch 3/17\n",
            "13/13 [==============================] - 0s 11ms/step - loss: 0.8761 - mae: 0.7229 - val_loss: 0.1180 - val_mae: 0.2791\n",
            "Epoch 4/17\n",
            "13/13 [==============================] - 0s 11ms/step - loss: 0.8457 - mae: 0.7109 - val_loss: 0.0843 - val_mae: 0.2302\n",
            "Epoch 5/17\n",
            "13/13 [==============================] - 0s 12ms/step - loss: 0.7582 - mae: 0.6481 - val_loss: 0.0761 - val_mae: 0.2135\n",
            "Epoch 6/17\n",
            "13/13 [==============================] - 0s 12ms/step - loss: 0.7196 - mae: 0.6405 - val_loss: 0.0746 - val_mae: 0.2097\n",
            "Epoch 7/17\n",
            "13/13 [==============================] - 0s 11ms/step - loss: 0.6377 - mae: 0.6202 - val_loss: 0.0627 - val_mae: 0.1892\n",
            "Epoch 8/17\n",
            "13/13 [==============================] - 0s 11ms/step - loss: 0.6182 - mae: 0.6059 - val_loss: 0.0505 - val_mae: 0.1648\n",
            "Epoch 9/17\n",
            "13/13 [==============================] - 0s 12ms/step - loss: 0.6088 - mae: 0.5790 - val_loss: 0.0654 - val_mae: 0.2013\n",
            "Epoch 10/17\n",
            "13/13 [==============================] - 0s 11ms/step - loss: 0.5572 - mae: 0.5657 - val_loss: 0.0800 - val_mae: 0.2225\n",
            "Epoch 11/17\n",
            "13/13 [==============================] - 0s 13ms/step - loss: 0.5357 - mae: 0.5533 - val_loss: 0.0808 - val_mae: 0.2311\n",
            "Epoch 12/17\n",
            "13/13 [==============================] - 0s 13ms/step - loss: 0.5186 - mae: 0.5553 - val_loss: 0.0653 - val_mae: 0.1992\n",
            "Epoch 13/17\n",
            "13/13 [==============================] - 0s 12ms/step - loss: 0.5721 - mae: 0.5539 - val_loss: 0.0441 - val_mae: 0.1492\n",
            "Epoch 14/17\n",
            "13/13 [==============================] - 0s 12ms/step - loss: 0.5067 - mae: 0.5585 - val_loss: 0.0563 - val_mae: 0.1803\n",
            "Epoch 15/17\n",
            "13/13 [==============================] - 0s 11ms/step - loss: 0.5408 - mae: 0.5546 - val_loss: 0.0668 - val_mae: 0.2070\n",
            "Epoch 16/17\n",
            "13/13 [==============================] - 0s 12ms/step - loss: 0.5753 - mae: 0.5790 - val_loss: 0.0497 - val_mae: 0.1721\n",
            "Epoch 17/17\n",
            "13/13 [==============================] - 0s 12ms/step - loss: 0.4663 - mae: 0.5092 - val_loss: 0.0950 - val_mae: 0.2568\n"
          ],
          "name": "stdout"
        },
        {
          "output_type": "display_data",
          "data": {
            "text/html": [
              "<span style=\"color:#4527A0\"><h1 style=\"font-size:18px\">Trial complete</h1></span>"
            ],
            "text/plain": [
              "<IPython.core.display.HTML object>"
            ]
          },
          "metadata": {
            "tags": []
          }
        },
        {
          "output_type": "display_data",
          "data": {
            "text/html": [
              "<span style=\"color:#4527A0\"><h1 style=\"font-size:18px\">Trial summary</h1></span>"
            ],
            "text/plain": [
              "<IPython.core.display.HTML object>"
            ]
          },
          "metadata": {
            "tags": []
          }
        },
        {
          "output_type": "display_data",
          "data": {
            "text/html": [
              "<span style=\"color:cyan\"> |-Trial ID: 8caf29c8c2816aa3634fa403eaea2872</span>"
            ],
            "text/plain": [
              "<IPython.core.display.HTML object>"
            ]
          },
          "metadata": {
            "tags": []
          }
        },
        {
          "output_type": "display_data",
          "data": {
            "text/html": [
              "<span style=\"color:cyan\"> |-Score: 0.1384255513548851</span>"
            ],
            "text/plain": [
              "<IPython.core.display.HTML object>"
            ]
          },
          "metadata": {
            "tags": []
          }
        },
        {
          "output_type": "display_data",
          "data": {
            "text/html": [
              "<span style=\"color:cyan\"> |-Best step: 0</span>"
            ],
            "text/plain": [
              "<IPython.core.display.HTML object>"
            ]
          },
          "metadata": {
            "tags": []
          }
        },
        {
          "output_type": "display_data",
          "data": {
            "text/html": [
              "<span style=\"color:#7E57C2\"><h2 style=\"font-size:16px\">Hyperparameters:</h2></span>"
            ],
            "text/plain": [
              "<IPython.core.display.HTML object>"
            ]
          },
          "metadata": {
            "tags": []
          }
        },
        {
          "output_type": "display_data",
          "data": {
            "text/html": [
              "<span style=\"color:cyan\"> |-dense_0: 128</span>"
            ],
            "text/plain": [
              "<IPython.core.display.HTML object>"
            ]
          },
          "metadata": {
            "tags": []
          }
        },
        {
          "output_type": "display_data",
          "data": {
            "text/html": [
              "<span style=\"color:blue\"> |-dense_1: 96</span>"
            ],
            "text/plain": [
              "<IPython.core.display.HTML object>"
            ]
          },
          "metadata": {
            "tags": []
          }
        },
        {
          "output_type": "display_data",
          "data": {
            "text/html": [
              "<span style=\"color:cyan\"> |-dense_2: 128</span>"
            ],
            "text/plain": [
              "<IPython.core.display.HTML object>"
            ]
          },
          "metadata": {
            "tags": []
          }
        },
        {
          "output_type": "display_data",
          "data": {
            "text/html": [
              "<span style=\"color:blue\"> |-dense_input: 128</span>"
            ],
            "text/plain": [
              "<IPython.core.display.HTML object>"
            ]
          },
          "metadata": {
            "tags": []
          }
        },
        {
          "output_type": "display_data",
          "data": {
            "text/html": [
              "<span style=\"color:cyan\"> |-drop_0: 0.1</span>"
            ],
            "text/plain": [
              "<IPython.core.display.HTML object>"
            ]
          },
          "metadata": {
            "tags": []
          }
        },
        {
          "output_type": "display_data",
          "data": {
            "text/html": [
              "<span style=\"color:blue\"> |-drop_1: 0.2</span>"
            ],
            "text/plain": [
              "<IPython.core.display.HTML object>"
            ]
          },
          "metadata": {
            "tags": []
          }
        },
        {
          "output_type": "display_data",
          "data": {
            "text/html": [
              "<span style=\"color:cyan\"> |-drop_2: 0.30000000000000004</span>"
            ],
            "text/plain": [
              "<IPython.core.display.HTML object>"
            ]
          },
          "metadata": {
            "tags": []
          }
        },
        {
          "output_type": "display_data",
          "data": {
            "text/html": [
              "<span style=\"color:blue\"> |-drop_input: 0.0</span>"
            ],
            "text/plain": [
              "<IPython.core.display.HTML object>"
            ]
          },
          "metadata": {
            "tags": []
          }
        },
        {
          "output_type": "display_data",
          "data": {
            "text/html": [
              "<span style=\"color:cyan\"> |-lr: 0.0004442210821656491</span>"
            ],
            "text/plain": [
              "<IPython.core.display.HTML object>"
            ]
          },
          "metadata": {
            "tags": []
          }
        },
        {
          "output_type": "display_data",
          "data": {
            "text/html": [
              "<span style=\"color:blue\"> |-num_intermediate_layers: 2</span>"
            ],
            "text/plain": [
              "<IPython.core.display.HTML object>"
            ]
          },
          "metadata": {
            "tags": []
          }
        },
        {
          "output_type": "display_data",
          "data": {
            "text/html": [
              "<span style=\"color:cyan\"> |-tuner/bracket: 1</span>"
            ],
            "text/plain": [
              "<IPython.core.display.HTML object>"
            ]
          },
          "metadata": {
            "tags": []
          }
        },
        {
          "output_type": "display_data",
          "data": {
            "text/html": [
              "<span style=\"color:blue\"> |-tuner/epochs: 17</span>"
            ],
            "text/plain": [
              "<IPython.core.display.HTML object>"
            ]
          },
          "metadata": {
            "tags": []
          }
        },
        {
          "output_type": "display_data",
          "data": {
            "text/html": [
              "<span style=\"color:cyan\"> |-tuner/initial_epoch: 0</span>"
            ],
            "text/plain": [
              "<IPython.core.display.HTML object>"
            ]
          },
          "metadata": {
            "tags": []
          }
        },
        {
          "output_type": "display_data",
          "data": {
            "text/html": [
              "<span style=\"color:blue\"> |-tuner/round: 0</span>"
            ],
            "text/plain": [
              "<IPython.core.display.HTML object>"
            ]
          },
          "metadata": {
            "tags": []
          }
        },
        {
          "output_type": "stream",
          "text": [
            "Epoch 1/17\n",
            " 2/13 [===>..........................] - ETA: 1s - loss: 2.4685 - mae: 1.2532WARNING:tensorflow:Method (on_train_batch_end) is slow compared to the batch update (0.104805). Check your callbacks.\n",
            "13/13 [==============================] - 1s 41ms/step - loss: 2.2089 - mae: 1.1629 - val_loss: 0.1444 - val_mae: 0.3294\n",
            "Epoch 2/17\n",
            "13/13 [==============================] - 0s 12ms/step - loss: 1.9700 - mae: 1.1225 - val_loss: 0.1715 - val_mae: 0.3560\n",
            "Epoch 3/17\n",
            "13/13 [==============================] - 0s 12ms/step - loss: 1.4645 - mae: 0.9606 - val_loss: 0.1917 - val_mae: 0.3791\n",
            "Epoch 4/17\n",
            "13/13 [==============================] - 0s 12ms/step - loss: 1.3549 - mae: 0.9331 - val_loss: 0.1995 - val_mae: 0.3888\n",
            "Epoch 5/17\n",
            "13/13 [==============================] - 0s 13ms/step - loss: 1.2157 - mae: 0.8621 - val_loss: 0.2042 - val_mae: 0.3949\n",
            "Epoch 6/17\n",
            "13/13 [==============================] - 0s 12ms/step - loss: 1.1698 - mae: 0.8656 - val_loss: 0.2044 - val_mae: 0.3954\n",
            "Epoch 1/17\n",
            "13/13 [==============================] - 1s 46ms/step - loss: 2.5175 - mae: 1.2432 - val_loss: 0.2029 - val_mae: 0.3896\n",
            "Epoch 2/17\n",
            "13/13 [==============================] - 0s 11ms/step - loss: 1.8786 - mae: 1.0498 - val_loss: 0.2102 - val_mae: 0.4012\n",
            "Epoch 3/17\n",
            "13/13 [==============================] - 0s 12ms/step - loss: 1.7180 - mae: 0.9703 - val_loss: 0.2048 - val_mae: 0.3948\n",
            "Epoch 4/17\n",
            "13/13 [==============================] - 0s 12ms/step - loss: 1.2782 - mae: 0.8481 - val_loss: 0.1960 - val_mae: 0.3835\n",
            "Epoch 5/17\n",
            "13/13 [==============================] - 0s 12ms/step - loss: 1.1234 - mae: 0.8247 - val_loss: 0.1878 - val_mae: 0.3782\n",
            "Epoch 6/17\n",
            "13/13 [==============================] - 0s 11ms/step - loss: 1.0924 - mae: 0.8285 - val_loss: 0.1720 - val_mae: 0.3600\n",
            "Epoch 7/17\n",
            "13/13 [==============================] - 0s 11ms/step - loss: 1.0536 - mae: 0.8053 - val_loss: 0.1510 - val_mae: 0.3330\n",
            "Epoch 8/17\n",
            "13/13 [==============================] - 0s 15ms/step - loss: 1.1727 - mae: 0.8281 - val_loss: 0.1365 - val_mae: 0.3122\n",
            "Epoch 9/17\n",
            "13/13 [==============================] - 0s 13ms/step - loss: 0.9841 - mae: 0.7522 - val_loss: 0.1218 - val_mae: 0.2887\n",
            "Epoch 10/17\n",
            "13/13 [==============================] - 0s 14ms/step - loss: 0.9680 - mae: 0.7871 - val_loss: 0.1016 - val_mae: 0.2592\n",
            "Epoch 11/17\n",
            "13/13 [==============================] - 0s 28ms/step - loss: 0.9999 - mae: 0.7598 - val_loss: 0.0868 - val_mae: 0.2351\n",
            "Epoch 12/17\n",
            "13/13 [==============================] - 0s 22ms/step - loss: 1.1780 - mae: 0.8435 - val_loss: 0.0759 - val_mae: 0.2166\n",
            "Epoch 13/17\n",
            "13/13 [==============================] - 0s 14ms/step - loss: 0.9563 - mae: 0.7532 - val_loss: 0.0671 - val_mae: 0.2002\n",
            "Epoch 14/17\n",
            "13/13 [==============================] - 0s 13ms/step - loss: 1.0722 - mae: 0.8123 - val_loss: 0.0626 - val_mae: 0.1923\n",
            "Epoch 15/17\n",
            "13/13 [==============================] - 0s 14ms/step - loss: 0.9800 - mae: 0.7691 - val_loss: 0.0579 - val_mae: 0.1830\n",
            "Epoch 16/17\n",
            "13/13 [==============================] - 0s 11ms/step - loss: 1.0069 - mae: 0.7870 - val_loss: 0.0577 - val_mae: 0.1870\n",
            "Epoch 17/17\n",
            "13/13 [==============================] - 0s 11ms/step - loss: 0.9771 - mae: 0.7587 - val_loss: 0.0614 - val_mae: 0.1942\n"
          ],
          "name": "stdout"
        },
        {
          "output_type": "display_data",
          "data": {
            "text/html": [
              "<span style=\"color:#4527A0\"><h1 style=\"font-size:18px\">Trial complete</h1></span>"
            ],
            "text/plain": [
              "<IPython.core.display.HTML object>"
            ]
          },
          "metadata": {
            "tags": []
          }
        },
        {
          "output_type": "display_data",
          "data": {
            "text/html": [
              "<span style=\"color:#4527A0\"><h1 style=\"font-size:18px\">Trial summary</h1></span>"
            ],
            "text/plain": [
              "<IPython.core.display.HTML object>"
            ]
          },
          "metadata": {
            "tags": []
          }
        },
        {
          "output_type": "display_data",
          "data": {
            "text/html": [
              "<span style=\"color:cyan\"> |-Trial ID: 5d0f9447f89e9ff2e31e2f3776c97f93</span>"
            ],
            "text/plain": [
              "<IPython.core.display.HTML object>"
            ]
          },
          "metadata": {
            "tags": []
          }
        },
        {
          "output_type": "display_data",
          "data": {
            "text/html": [
              "<span style=\"color:cyan\"> |-Score: 0.25623612105846405</span>"
            ],
            "text/plain": [
              "<IPython.core.display.HTML object>"
            ]
          },
          "metadata": {
            "tags": []
          }
        },
        {
          "output_type": "display_data",
          "data": {
            "text/html": [
              "<span style=\"color:cyan\"> |-Best step: 0</span>"
            ],
            "text/plain": [
              "<IPython.core.display.HTML object>"
            ]
          },
          "metadata": {
            "tags": []
          }
        },
        {
          "output_type": "display_data",
          "data": {
            "text/html": [
              "<span style=\"color:#7E57C2\"><h2 style=\"font-size:16px\">Hyperparameters:</h2></span>"
            ],
            "text/plain": [
              "<IPython.core.display.HTML object>"
            ]
          },
          "metadata": {
            "tags": []
          }
        },
        {
          "output_type": "display_data",
          "data": {
            "text/html": [
              "<span style=\"color:cyan\"> |-dense_0: 64</span>"
            ],
            "text/plain": [
              "<IPython.core.display.HTML object>"
            ]
          },
          "metadata": {
            "tags": []
          }
        },
        {
          "output_type": "display_data",
          "data": {
            "text/html": [
              "<span style=\"color:blue\"> |-dense_1: 96</span>"
            ],
            "text/plain": [
              "<IPython.core.display.HTML object>"
            ]
          },
          "metadata": {
            "tags": []
          }
        },
        {
          "output_type": "display_data",
          "data": {
            "text/html": [
              "<span style=\"color:cyan\"> |-dense_2: 128</span>"
            ],
            "text/plain": [
              "<IPython.core.display.HTML object>"
            ]
          },
          "metadata": {
            "tags": []
          }
        },
        {
          "output_type": "display_data",
          "data": {
            "text/html": [
              "<span style=\"color:blue\"> |-dense_input: 32</span>"
            ],
            "text/plain": [
              "<IPython.core.display.HTML object>"
            ]
          },
          "metadata": {
            "tags": []
          }
        },
        {
          "output_type": "display_data",
          "data": {
            "text/html": [
              "<span style=\"color:cyan\"> |-drop_0: 0.0</span>"
            ],
            "text/plain": [
              "<IPython.core.display.HTML object>"
            ]
          },
          "metadata": {
            "tags": []
          }
        },
        {
          "output_type": "display_data",
          "data": {
            "text/html": [
              "<span style=\"color:blue\"> |-drop_1: 0.30000000000000004</span>"
            ],
            "text/plain": [
              "<IPython.core.display.HTML object>"
            ]
          },
          "metadata": {
            "tags": []
          }
        },
        {
          "output_type": "display_data",
          "data": {
            "text/html": [
              "<span style=\"color:cyan\"> |-drop_2: 0.30000000000000004</span>"
            ],
            "text/plain": [
              "<IPython.core.display.HTML object>"
            ]
          },
          "metadata": {
            "tags": []
          }
        },
        {
          "output_type": "display_data",
          "data": {
            "text/html": [
              "<span style=\"color:blue\"> |-drop_input: 0.2</span>"
            ],
            "text/plain": [
              "<IPython.core.display.HTML object>"
            ]
          },
          "metadata": {
            "tags": []
          }
        },
        {
          "output_type": "display_data",
          "data": {
            "text/html": [
              "<span style=\"color:cyan\"> |-lr: 0.00010137583660859015</span>"
            ],
            "text/plain": [
              "<IPython.core.display.HTML object>"
            ]
          },
          "metadata": {
            "tags": []
          }
        },
        {
          "output_type": "display_data",
          "data": {
            "text/html": [
              "<span style=\"color:blue\"> |-num_intermediate_layers: 2</span>"
            ],
            "text/plain": [
              "<IPython.core.display.HTML object>"
            ]
          },
          "metadata": {
            "tags": []
          }
        },
        {
          "output_type": "display_data",
          "data": {
            "text/html": [
              "<span style=\"color:cyan\"> |-tuner/bracket: 1</span>"
            ],
            "text/plain": [
              "<IPython.core.display.HTML object>"
            ]
          },
          "metadata": {
            "tags": []
          }
        },
        {
          "output_type": "display_data",
          "data": {
            "text/html": [
              "<span style=\"color:blue\"> |-tuner/epochs: 17</span>"
            ],
            "text/plain": [
              "<IPython.core.display.HTML object>"
            ]
          },
          "metadata": {
            "tags": []
          }
        },
        {
          "output_type": "display_data",
          "data": {
            "text/html": [
              "<span style=\"color:cyan\"> |-tuner/initial_epoch: 0</span>"
            ],
            "text/plain": [
              "<IPython.core.display.HTML object>"
            ]
          },
          "metadata": {
            "tags": []
          }
        },
        {
          "output_type": "display_data",
          "data": {
            "text/html": [
              "<span style=\"color:blue\"> |-tuner/round: 0</span>"
            ],
            "text/plain": [
              "<IPython.core.display.HTML object>"
            ]
          },
          "metadata": {
            "tags": []
          }
        },
        {
          "output_type": "stream",
          "text": [
            "Epoch 1/17\n",
            "13/13 [==============================] - 0s 36ms/step - loss: 0.7443 - mae: 0.6495 - val_loss: 0.0573 - val_mae: 0.1815\n",
            "Epoch 2/17\n",
            "13/13 [==============================] - 0s 18ms/step - loss: 0.1767 - mae: 0.3112 - val_loss: 0.0427 - val_mae: 0.1562\n",
            "Epoch 3/17\n",
            "13/13 [==============================] - 0s 15ms/step - loss: 0.0993 - mae: 0.2365 - val_loss: 0.0401 - val_mae: 0.1434\n",
            "Epoch 4/17\n",
            "13/13 [==============================] - 0s 16ms/step - loss: 0.0597 - mae: 0.1844 - val_loss: 0.0332 - val_mae: 0.1296\n",
            "Epoch 5/17\n",
            "13/13 [==============================] - 0s 14ms/step - loss: 0.0431 - mae: 0.1519 - val_loss: 0.0319 - val_mae: 0.1302\n",
            "Epoch 6/17\n",
            "13/13 [==============================] - 0s 13ms/step - loss: 0.0381 - mae: 0.1411 - val_loss: 0.0613 - val_mae: 0.1930\n",
            "Epoch 7/17\n",
            "13/13 [==============================] - 0s 12ms/step - loss: 0.0491 - mae: 0.1646 - val_loss: 0.0576 - val_mae: 0.1885\n",
            "Epoch 8/17\n",
            "13/13 [==============================] - 0s 12ms/step - loss: 0.0420 - mae: 0.1574 - val_loss: 0.0326 - val_mae: 0.1308\n",
            "Epoch 9/17\n",
            "13/13 [==============================] - 0s 19ms/step - loss: 0.0298 - mae: 0.1346 - val_loss: 0.0338 - val_mae: 0.1318\n",
            "Epoch 10/17\n",
            "13/13 [==============================] - 0s 25ms/step - loss: 0.0251 - mae: 0.1156 - val_loss: 0.0331 - val_mae: 0.1286\n",
            "Epoch 1/17\n",
            "13/13 [==============================] - 0s 35ms/step - loss: 0.9397 - mae: 0.6924 - val_loss: 0.0342 - val_mae: 0.1347\n",
            "Epoch 2/17\n",
            "13/13 [==============================] - 0s 14ms/step - loss: 0.2808 - mae: 0.4063 - val_loss: 0.0401 - val_mae: 0.1476\n",
            "Epoch 3/17\n",
            "13/13 [==============================] - 0s 13ms/step - loss: 0.1107 - mae: 0.2557 - val_loss: 0.0419 - val_mae: 0.1503\n",
            "Epoch 4/17\n",
            "13/13 [==============================] - 0s 13ms/step - loss: 0.0715 - mae: 0.1946 - val_loss: 0.0402 - val_mae: 0.1433\n",
            "Epoch 5/17\n",
            "13/13 [==============================] - 0s 16ms/step - loss: 0.0515 - mae: 0.1696 - val_loss: 0.0294 - val_mae: 0.1238\n",
            "Epoch 6/17\n",
            "13/13 [==============================] - 0s 15ms/step - loss: 0.0454 - mae: 0.1602 - val_loss: 0.0299 - val_mae: 0.1217\n",
            "Epoch 7/17\n",
            "13/13 [==============================] - 0s 14ms/step - loss: 0.0396 - mae: 0.1467 - val_loss: 0.0304 - val_mae: 0.1233\n",
            "Epoch 8/17\n",
            "13/13 [==============================] - 0s 13ms/step - loss: 0.0314 - mae: 0.1294 - val_loss: 0.0440 - val_mae: 0.1537\n",
            "Epoch 9/17\n",
            "13/13 [==============================] - 0s 14ms/step - loss: 0.0299 - mae: 0.1256 - val_loss: 0.0334 - val_mae: 0.1298\n",
            "Epoch 10/17\n",
            "13/13 [==============================] - 0s 14ms/step - loss: 0.0287 - mae: 0.1302 - val_loss: 0.0369 - val_mae: 0.1357\n"
          ],
          "name": "stdout"
        },
        {
          "output_type": "display_data",
          "data": {
            "text/html": [
              "<span style=\"color:#4527A0\"><h1 style=\"font-size:18px\">Trial complete</h1></span>"
            ],
            "text/plain": [
              "<IPython.core.display.HTML object>"
            ]
          },
          "metadata": {
            "tags": []
          }
        },
        {
          "output_type": "display_data",
          "data": {
            "text/html": [
              "<span style=\"color:#4527A0\"><h1 style=\"font-size:18px\">Trial summary</h1></span>"
            ],
            "text/plain": [
              "<IPython.core.display.HTML object>"
            ]
          },
          "metadata": {
            "tags": []
          }
        },
        {
          "output_type": "display_data",
          "data": {
            "text/html": [
              "<span style=\"color:cyan\"> |-Trial ID: 27600e270672793d00fa68b1139033a2</span>"
            ],
            "text/plain": [
              "<IPython.core.display.HTML object>"
            ]
          },
          "metadata": {
            "tags": []
          }
        },
        {
          "output_type": "display_data",
          "data": {
            "text/html": [
              "<span style=\"color:cyan\"> |-Score: 0.1251799426972866</span>"
            ],
            "text/plain": [
              "<IPython.core.display.HTML object>"
            ]
          },
          "metadata": {
            "tags": []
          }
        },
        {
          "output_type": "display_data",
          "data": {
            "text/html": [
              "<span style=\"color:cyan\"> |-Best step: 0</span>"
            ],
            "text/plain": [
              "<IPython.core.display.HTML object>"
            ]
          },
          "metadata": {
            "tags": []
          }
        },
        {
          "output_type": "display_data",
          "data": {
            "text/html": [
              "<span style=\"color:#7E57C2\"><h2 style=\"font-size:16px\">Hyperparameters:</h2></span>"
            ],
            "text/plain": [
              "<IPython.core.display.HTML object>"
            ]
          },
          "metadata": {
            "tags": []
          }
        },
        {
          "output_type": "display_data",
          "data": {
            "text/html": [
              "<span style=\"color:cyan\"> |-dense_0: 32</span>"
            ],
            "text/plain": [
              "<IPython.core.display.HTML object>"
            ]
          },
          "metadata": {
            "tags": []
          }
        },
        {
          "output_type": "display_data",
          "data": {
            "text/html": [
              "<span style=\"color:blue\"> |-dense_1: 128</span>"
            ],
            "text/plain": [
              "<IPython.core.display.HTML object>"
            ]
          },
          "metadata": {
            "tags": []
          }
        },
        {
          "output_type": "display_data",
          "data": {
            "text/html": [
              "<span style=\"color:cyan\"> |-dense_2: 96</span>"
            ],
            "text/plain": [
              "<IPython.core.display.HTML object>"
            ]
          },
          "metadata": {
            "tags": []
          }
        },
        {
          "output_type": "display_data",
          "data": {
            "text/html": [
              "<span style=\"color:blue\"> |-dense_input: 64</span>"
            ],
            "text/plain": [
              "<IPython.core.display.HTML object>"
            ]
          },
          "metadata": {
            "tags": []
          }
        },
        {
          "output_type": "display_data",
          "data": {
            "text/html": [
              "<span style=\"color:cyan\"> |-drop_0: 0.0</span>"
            ],
            "text/plain": [
              "<IPython.core.display.HTML object>"
            ]
          },
          "metadata": {
            "tags": []
          }
        },
        {
          "output_type": "display_data",
          "data": {
            "text/html": [
              "<span style=\"color:blue\"> |-drop_1: 0.2</span>"
            ],
            "text/plain": [
              "<IPython.core.display.HTML object>"
            ]
          },
          "metadata": {
            "tags": []
          }
        },
        {
          "output_type": "display_data",
          "data": {
            "text/html": [
              "<span style=\"color:cyan\"> |-drop_2: 0.0</span>"
            ],
            "text/plain": [
              "<IPython.core.display.HTML object>"
            ]
          },
          "metadata": {
            "tags": []
          }
        },
        {
          "output_type": "display_data",
          "data": {
            "text/html": [
              "<span style=\"color:blue\"> |-drop_input: 0.2</span>"
            ],
            "text/plain": [
              "<IPython.core.display.HTML object>"
            ]
          },
          "metadata": {
            "tags": []
          }
        },
        {
          "output_type": "display_data",
          "data": {
            "text/html": [
              "<span style=\"color:cyan\"> |-lr: 0.003776783176468784</span>"
            ],
            "text/plain": [
              "<IPython.core.display.HTML object>"
            ]
          },
          "metadata": {
            "tags": []
          }
        },
        {
          "output_type": "display_data",
          "data": {
            "text/html": [
              "<span style=\"color:blue\"> |-num_intermediate_layers: 3</span>"
            ],
            "text/plain": [
              "<IPython.core.display.HTML object>"
            ]
          },
          "metadata": {
            "tags": []
          }
        },
        {
          "output_type": "display_data",
          "data": {
            "text/html": [
              "<span style=\"color:cyan\"> |-tuner/bracket: 1</span>"
            ],
            "text/plain": [
              "<IPython.core.display.HTML object>"
            ]
          },
          "metadata": {
            "tags": []
          }
        },
        {
          "output_type": "display_data",
          "data": {
            "text/html": [
              "<span style=\"color:blue\"> |-tuner/epochs: 17</span>"
            ],
            "text/plain": [
              "<IPython.core.display.HTML object>"
            ]
          },
          "metadata": {
            "tags": []
          }
        },
        {
          "output_type": "display_data",
          "data": {
            "text/html": [
              "<span style=\"color:cyan\"> |-tuner/initial_epoch: 0</span>"
            ],
            "text/plain": [
              "<IPython.core.display.HTML object>"
            ]
          },
          "metadata": {
            "tags": []
          }
        },
        {
          "output_type": "display_data",
          "data": {
            "text/html": [
              "<span style=\"color:blue\"> |-tuner/round: 0</span>"
            ],
            "text/plain": [
              "<IPython.core.display.HTML object>"
            ]
          },
          "metadata": {
            "tags": []
          }
        },
        {
          "output_type": "stream",
          "text": [
            "Epoch 1/17\n",
            "13/13 [==============================] - 0s 27ms/step - loss: 1.4570 - mae: 0.9432 - val_loss: 0.2395 - val_mae: 0.4536\n",
            "Epoch 2/17\n",
            "13/13 [==============================] - 0s 12ms/step - loss: 0.8410 - mae: 0.7061 - val_loss: 0.1182 - val_mae: 0.2917\n",
            "Epoch 3/17\n",
            "13/13 [==============================] - 0s 13ms/step - loss: 0.7286 - mae: 0.6443 - val_loss: 0.0607 - val_mae: 0.1921\n",
            "Epoch 4/17\n",
            "13/13 [==============================] - 0s 12ms/step - loss: 0.7005 - mae: 0.6419 - val_loss: 0.0464 - val_mae: 0.1662\n",
            "Epoch 5/17\n",
            "13/13 [==============================] - 0s 12ms/step - loss: 0.5509 - mae: 0.5660 - val_loss: 0.0413 - val_mae: 0.1506\n",
            "Epoch 6/17\n",
            "13/13 [==============================] - 0s 12ms/step - loss: 0.4363 - mae: 0.5094 - val_loss: 0.0373 - val_mae: 0.1387\n",
            "Epoch 7/17\n",
            "13/13 [==============================] - 0s 10ms/step - loss: 0.4859 - mae: 0.5281 - val_loss: 0.0377 - val_mae: 0.1473\n",
            "Epoch 8/17\n",
            "13/13 [==============================] - 0s 11ms/step - loss: 0.4703 - mae: 0.5265 - val_loss: 0.0384 - val_mae: 0.1449\n",
            "Epoch 9/17\n",
            "13/13 [==============================] - 0s 13ms/step - loss: 0.4334 - mae: 0.4933 - val_loss: 0.0368 - val_mae: 0.1360\n",
            "Epoch 10/17\n",
            "13/13 [==============================] - 0s 12ms/step - loss: 0.3363 - mae: 0.4385 - val_loss: 0.0315 - val_mae: 0.1269\n",
            "Epoch 11/17\n",
            "13/13 [==============================] - 0s 10ms/step - loss: 0.3561 - mae: 0.4744 - val_loss: 0.0327 - val_mae: 0.1285\n",
            "Epoch 12/17\n",
            "13/13 [==============================] - 0s 10ms/step - loss: 0.3086 - mae: 0.4261 - val_loss: 0.0363 - val_mae: 0.1360\n",
            "Epoch 13/17\n",
            "13/13 [==============================] - 0s 10ms/step - loss: 0.2741 - mae: 0.3980 - val_loss: 0.0368 - val_mae: 0.1344\n",
            "Epoch 14/17\n",
            "13/13 [==============================] - 0s 10ms/step - loss: 0.2923 - mae: 0.4112 - val_loss: 0.0334 - val_mae: 0.1293\n",
            "Epoch 15/17\n",
            "13/13 [==============================] - 0s 13ms/step - loss: 0.2309 - mae: 0.3745 - val_loss: 0.0313 - val_mae: 0.1240\n",
            "Epoch 16/17\n",
            "13/13 [==============================] - 0s 12ms/step - loss: 0.2061 - mae: 0.3466 - val_loss: 0.0291 - val_mae: 0.1212\n",
            "Epoch 17/17\n",
            "13/13 [==============================] - 0s 12ms/step - loss: 0.2003 - mae: 0.3487 - val_loss: 0.0270 - val_mae: 0.1141\n",
            "Epoch 1/17\n",
            "13/13 [==============================] - 0s 25ms/step - loss: 1.6142 - mae: 0.9763 - val_loss: 0.0942 - val_mae: 0.2455\n",
            "Epoch 2/17\n",
            "13/13 [==============================] - 0s 12ms/step - loss: 0.8941 - mae: 0.7346 - val_loss: 0.0600 - val_mae: 0.1929\n",
            "Epoch 3/17\n",
            "13/13 [==============================] - 0s 14ms/step - loss: 0.8032 - mae: 0.6889 - val_loss: 0.0601 - val_mae: 0.1905\n",
            "Epoch 4/17\n",
            "13/13 [==============================] - 0s 16ms/step - loss: 0.6740 - mae: 0.6214 - val_loss: 0.0542 - val_mae: 0.1765\n",
            "Epoch 5/17\n",
            "13/13 [==============================] - 0s 14ms/step - loss: 0.6453 - mae: 0.6095 - val_loss: 0.0566 - val_mae: 0.1844\n",
            "Epoch 6/17\n",
            "13/13 [==============================] - 0s 10ms/step - loss: 0.5618 - mae: 0.5692 - val_loss: 0.0587 - val_mae: 0.1894\n",
            "Epoch 7/17\n",
            "13/13 [==============================] - 0s 11ms/step - loss: 0.5421 - mae: 0.5394 - val_loss: 0.0593 - val_mae: 0.1881\n",
            "Epoch 8/17\n",
            "13/13 [==============================] - 0s 10ms/step - loss: 0.4456 - mae: 0.5133 - val_loss: 0.0632 - val_mae: 0.1992\n",
            "Epoch 9/17\n",
            "13/13 [==============================] - 0s 10ms/step - loss: 0.4343 - mae: 0.5055 - val_loss: 0.0509 - val_mae: 0.1685\n",
            "Epoch 10/17\n",
            "13/13 [==============================] - 0s 10ms/step - loss: 0.4066 - mae: 0.4784 - val_loss: 0.0603 - val_mae: 0.1967\n",
            "Epoch 11/17\n",
            "13/13 [==============================] - 0s 10ms/step - loss: 0.3871 - mae: 0.4793 - val_loss: 0.0544 - val_mae: 0.1827\n",
            "Epoch 12/17\n",
            "13/13 [==============================] - 0s 10ms/step - loss: 0.3608 - mae: 0.4571 - val_loss: 0.0418 - val_mae: 0.1511\n",
            "Epoch 13/17\n",
            "13/13 [==============================] - 0s 10ms/step - loss: 0.2959 - mae: 0.4079 - val_loss: 0.0457 - val_mae: 0.1594\n",
            "Epoch 14/17\n",
            "13/13 [==============================] - 0s 11ms/step - loss: 0.3062 - mae: 0.4200 - val_loss: 0.0504 - val_mae: 0.1723\n",
            "Epoch 15/17\n",
            "13/13 [==============================] - 0s 10ms/step - loss: 0.2759 - mae: 0.3953 - val_loss: 0.0422 - val_mae: 0.1516\n",
            "Epoch 16/17\n",
            "13/13 [==============================] - 0s 10ms/step - loss: 0.2891 - mae: 0.4038 - val_loss: 0.0427 - val_mae: 0.1562\n",
            "Epoch 17/17\n",
            "13/13 [==============================] - 0s 10ms/step - loss: 0.2300 - mae: 0.3580 - val_loss: 0.0441 - val_mae: 0.1625\n"
          ],
          "name": "stdout"
        },
        {
          "output_type": "display_data",
          "data": {
            "text/html": [
              "<span style=\"color:#4527A0\"><h1 style=\"font-size:18px\">Trial complete</h1></span>"
            ],
            "text/plain": [
              "<IPython.core.display.HTML object>"
            ]
          },
          "metadata": {
            "tags": []
          }
        },
        {
          "output_type": "display_data",
          "data": {
            "text/html": [
              "<span style=\"color:#4527A0\"><h1 style=\"font-size:18px\">Trial summary</h1></span>"
            ],
            "text/plain": [
              "<IPython.core.display.HTML object>"
            ]
          },
          "metadata": {
            "tags": []
          }
        },
        {
          "output_type": "display_data",
          "data": {
            "text/html": [
              "<span style=\"color:cyan\"> |-Trial ID: fb1911e40cdba58797f96e9bf32b4343</span>"
            ],
            "text/plain": [
              "<IPython.core.display.HTML object>"
            ]
          },
          "metadata": {
            "tags": []
          }
        },
        {
          "output_type": "display_data",
          "data": {
            "text/html": [
              "<span style=\"color:cyan\"> |-Score: 0.13257182016968727</span>"
            ],
            "text/plain": [
              "<IPython.core.display.HTML object>"
            ]
          },
          "metadata": {
            "tags": []
          }
        },
        {
          "output_type": "display_data",
          "data": {
            "text/html": [
              "<span style=\"color:cyan\"> |-Best step: 0</span>"
            ],
            "text/plain": [
              "<IPython.core.display.HTML object>"
            ]
          },
          "metadata": {
            "tags": []
          }
        },
        {
          "output_type": "display_data",
          "data": {
            "text/html": [
              "<span style=\"color:#7E57C2\"><h2 style=\"font-size:16px\">Hyperparameters:</h2></span>"
            ],
            "text/plain": [
              "<IPython.core.display.HTML object>"
            ]
          },
          "metadata": {
            "tags": []
          }
        },
        {
          "output_type": "display_data",
          "data": {
            "text/html": [
              "<span style=\"color:cyan\"> |-dense_0: 64</span>"
            ],
            "text/plain": [
              "<IPython.core.display.HTML object>"
            ]
          },
          "metadata": {
            "tags": []
          }
        },
        {
          "output_type": "display_data",
          "data": {
            "text/html": [
              "<span style=\"color:blue\"> |-dense_1: 64</span>"
            ],
            "text/plain": [
              "<IPython.core.display.HTML object>"
            ]
          },
          "metadata": {
            "tags": []
          }
        },
        {
          "output_type": "display_data",
          "data": {
            "text/html": [
              "<span style=\"color:cyan\"> |-dense_2: 32</span>"
            ],
            "text/plain": [
              "<IPython.core.display.HTML object>"
            ]
          },
          "metadata": {
            "tags": []
          }
        },
        {
          "output_type": "display_data",
          "data": {
            "text/html": [
              "<span style=\"color:blue\"> |-dense_input: 32</span>"
            ],
            "text/plain": [
              "<IPython.core.display.HTML object>"
            ]
          },
          "metadata": {
            "tags": []
          }
        },
        {
          "output_type": "display_data",
          "data": {
            "text/html": [
              "<span style=\"color:cyan\"> |-drop_0: 0.30000000000000004</span>"
            ],
            "text/plain": [
              "<IPython.core.display.HTML object>"
            ]
          },
          "metadata": {
            "tags": []
          }
        },
        {
          "output_type": "display_data",
          "data": {
            "text/html": [
              "<span style=\"color:blue\"> |-drop_1: 0.2</span>"
            ],
            "text/plain": [
              "<IPython.core.display.HTML object>"
            ]
          },
          "metadata": {
            "tags": []
          }
        },
        {
          "output_type": "display_data",
          "data": {
            "text/html": [
              "<span style=\"color:cyan\"> |-drop_2: 0.0</span>"
            ],
            "text/plain": [
              "<IPython.core.display.HTML object>"
            ]
          },
          "metadata": {
            "tags": []
          }
        },
        {
          "output_type": "display_data",
          "data": {
            "text/html": [
              "<span style=\"color:blue\"> |-drop_input: 0.30000000000000004</span>"
            ],
            "text/plain": [
              "<IPython.core.display.HTML object>"
            ]
          },
          "metadata": {
            "tags": []
          }
        },
        {
          "output_type": "display_data",
          "data": {
            "text/html": [
              "<span style=\"color:cyan\"> |-lr: 0.001687289391829868</span>"
            ],
            "text/plain": [
              "<IPython.core.display.HTML object>"
            ]
          },
          "metadata": {
            "tags": []
          }
        },
        {
          "output_type": "display_data",
          "data": {
            "text/html": [
              "<span style=\"color:blue\"> |-num_intermediate_layers: 1</span>"
            ],
            "text/plain": [
              "<IPython.core.display.HTML object>"
            ]
          },
          "metadata": {
            "tags": []
          }
        },
        {
          "output_type": "display_data",
          "data": {
            "text/html": [
              "<span style=\"color:cyan\"> |-tuner/bracket: 1</span>"
            ],
            "text/plain": [
              "<IPython.core.display.HTML object>"
            ]
          },
          "metadata": {
            "tags": []
          }
        },
        {
          "output_type": "display_data",
          "data": {
            "text/html": [
              "<span style=\"color:blue\"> |-tuner/epochs: 17</span>"
            ],
            "text/plain": [
              "<IPython.core.display.HTML object>"
            ]
          },
          "metadata": {
            "tags": []
          }
        },
        {
          "output_type": "display_data",
          "data": {
            "text/html": [
              "<span style=\"color:cyan\"> |-tuner/initial_epoch: 0</span>"
            ],
            "text/plain": [
              "<IPython.core.display.HTML object>"
            ]
          },
          "metadata": {
            "tags": []
          }
        },
        {
          "output_type": "display_data",
          "data": {
            "text/html": [
              "<span style=\"color:blue\"> |-tuner/round: 0</span>"
            ],
            "text/plain": [
              "<IPython.core.display.HTML object>"
            ]
          },
          "metadata": {
            "tags": []
          }
        },
        {
          "output_type": "stream",
          "text": [
            "Epoch 18/50\n",
            "13/13 [==============================] - 0s 31ms/step - loss: 1.2470 - mae: 0.8351 - val_loss: 0.1217 - val_mae: 0.2878\n",
            "Epoch 19/50\n",
            "13/13 [==============================] - 0s 14ms/step - loss: 0.4968 - mae: 0.5469 - val_loss: 0.0527 - val_mae: 0.1726\n",
            "Epoch 20/50\n",
            "13/13 [==============================] - 0s 13ms/step - loss: 0.3283 - mae: 0.4508 - val_loss: 0.0423 - val_mae: 0.1529\n",
            "Epoch 21/50\n",
            "13/13 [==============================] - 0s 15ms/step - loss: 0.2246 - mae: 0.3627 - val_loss: 0.0426 - val_mae: 0.1501\n",
            "Epoch 22/50\n",
            "13/13 [==============================] - 0s 11ms/step - loss: 0.2623 - mae: 0.3943 - val_loss: 0.0492 - val_mae: 0.1640\n",
            "Epoch 23/50\n",
            "13/13 [==============================] - 0s 11ms/step - loss: 0.2279 - mae: 0.3565 - val_loss: 0.0580 - val_mae: 0.1854\n",
            "Epoch 24/50\n",
            "13/13 [==============================] - 0s 12ms/step - loss: 0.2174 - mae: 0.3512 - val_loss: 0.0423 - val_mae: 0.1526\n",
            "Epoch 25/50\n",
            "13/13 [==============================] - 0s 21ms/step - loss: 0.1963 - mae: 0.3408 - val_loss: 0.0431 - val_mae: 0.1492\n",
            "Epoch 18/50\n",
            "13/13 [==============================] - 0s 28ms/step - loss: 1.2774 - mae: 0.8472 - val_loss: 0.0782 - val_mae: 0.2205\n",
            "Epoch 19/50\n",
            "13/13 [==============================] - 0s 11ms/step - loss: 0.4481 - mae: 0.5126 - val_loss: 0.0428 - val_mae: 0.1507\n",
            "Epoch 20/50\n",
            "13/13 [==============================] - 0s 12ms/step - loss: 0.3223 - mae: 0.4342 - val_loss: 0.0439 - val_mae: 0.1555\n",
            "Epoch 21/50\n",
            "13/13 [==============================] - 0s 11ms/step - loss: 0.2232 - mae: 0.3676 - val_loss: 0.0416 - val_mae: 0.1509\n",
            "Epoch 22/50\n",
            "13/13 [==============================] - 0s 12ms/step - loss: 0.2113 - mae: 0.3500 - val_loss: 0.0473 - val_mae: 0.1606\n",
            "Epoch 23/50\n",
            "13/13 [==============================] - 0s 13ms/step - loss: 0.1911 - mae: 0.3339 - val_loss: 0.0452 - val_mae: 0.1570\n",
            "Epoch 24/50\n",
            "13/13 [==============================] - 0s 13ms/step - loss: 0.1740 - mae: 0.3195 - val_loss: 0.0404 - val_mae: 0.1455\n",
            "Epoch 25/50\n",
            "13/13 [==============================] - 0s 12ms/step - loss: 0.1565 - mae: 0.3039 - val_loss: 0.0413 - val_mae: 0.1474\n",
            "Epoch 26/50\n",
            "13/13 [==============================] - 0s 11ms/step - loss: 0.1750 - mae: 0.3142 - val_loss: 0.0483 - val_mae: 0.1636\n",
            "Epoch 27/50\n",
            "13/13 [==============================] - 0s 13ms/step - loss: 0.1692 - mae: 0.3230 - val_loss: 0.0378 - val_mae: 0.1412\n",
            "Epoch 28/50\n",
            "13/13 [==============================] - 0s 11ms/step - loss: 0.1510 - mae: 0.2947 - val_loss: 0.0462 - val_mae: 0.1631\n",
            "Epoch 29/50\n",
            "13/13 [==============================] - 0s 11ms/step - loss: 0.1658 - mae: 0.3192 - val_loss: 0.0510 - val_mae: 0.1782\n",
            "Epoch 30/50\n",
            "13/13 [==============================] - 0s 13ms/step - loss: 0.1466 - mae: 0.2871 - val_loss: 0.0325 - val_mae: 0.1305\n",
            "Epoch 31/50\n",
            "13/13 [==============================] - 0s 13ms/step - loss: 0.1233 - mae: 0.2580 - val_loss: 0.0416 - val_mae: 0.1524\n",
            "Epoch 32/50\n",
            "13/13 [==============================] - 0s 12ms/step - loss: 0.1105 - mae: 0.2495 - val_loss: 0.0362 - val_mae: 0.1383\n",
            "Epoch 33/50\n",
            "13/13 [==============================] - 0s 11ms/step - loss: 0.1223 - mae: 0.2616 - val_loss: 0.0323 - val_mae: 0.1316\n",
            "Epoch 34/50\n",
            "13/13 [==============================] - 0s 11ms/step - loss: 0.1153 - mae: 0.2623 - val_loss: 0.0390 - val_mae: 0.1502\n",
            "Epoch 35/50\n",
            "13/13 [==============================] - 0s 11ms/step - loss: 0.1059 - mae: 0.2470 - val_loss: 0.0359 - val_mae: 0.1405\n",
            "Epoch 36/50\n",
            "13/13 [==============================] - 0s 11ms/step - loss: 0.1028 - mae: 0.2441 - val_loss: 0.0374 - val_mae: 0.1483\n",
            "Epoch 37/50\n",
            "13/13 [==============================] - 0s 19ms/step - loss: 0.0974 - mae: 0.2395 - val_loss: 0.0277 - val_mae: 0.1228\n",
            "Epoch 38/50\n",
            "13/13 [==============================] - 0s 18ms/step - loss: 0.1008 - mae: 0.2407 - val_loss: 0.0397 - val_mae: 0.1536\n",
            "Epoch 39/50\n",
            "13/13 [==============================] - 0s 17ms/step - loss: 0.0941 - mae: 0.2359 - val_loss: 0.0232 - val_mae: 0.1086\n",
            "Epoch 40/50\n",
            "13/13 [==============================] - 0s 11ms/step - loss: 0.0796 - mae: 0.2176 - val_loss: 0.0276 - val_mae: 0.1207\n",
            "Epoch 41/50\n",
            "13/13 [==============================] - 0s 11ms/step - loss: 0.0782 - mae: 0.2104 - val_loss: 0.0288 - val_mae: 0.1258\n",
            "Epoch 42/50\n",
            "13/13 [==============================] - 0s 11ms/step - loss: 0.0696 - mae: 0.2022 - val_loss: 0.0289 - val_mae: 0.1268\n",
            "Epoch 43/50\n",
            "13/13 [==============================] - 0s 14ms/step - loss: 0.0737 - mae: 0.2017 - val_loss: 0.0210 - val_mae: 0.1027\n",
            "Epoch 44/50\n",
            "13/13 [==============================] - 0s 12ms/step - loss: 0.0650 - mae: 0.2001 - val_loss: 0.0306 - val_mae: 0.1335\n",
            "Epoch 45/50\n",
            "13/13 [==============================] - 0s 14ms/step - loss: 0.0612 - mae: 0.1881 - val_loss: 0.0185 - val_mae: 0.0972\n",
            "Epoch 46/50\n",
            "13/13 [==============================] - 0s 12ms/step - loss: 0.0571 - mae: 0.1850 - val_loss: 0.0213 - val_mae: 0.1049\n",
            "Epoch 47/50\n",
            "13/13 [==============================] - 0s 15ms/step - loss: 0.0660 - mae: 0.1921 - val_loss: 0.0169 - val_mae: 0.0955\n",
            "Epoch 48/50\n",
            "13/13 [==============================] - 0s 11ms/step - loss: 0.0604 - mae: 0.1861 - val_loss: 0.0205 - val_mae: 0.1024\n",
            "Epoch 49/50\n",
            "13/13 [==============================] - 0s 12ms/step - loss: 0.0570 - mae: 0.1825 - val_loss: 0.0224 - val_mae: 0.1101\n",
            "Epoch 50/50\n",
            "13/13 [==============================] - 0s 11ms/step - loss: 0.0503 - mae: 0.1644 - val_loss: 0.0207 - val_mae: 0.1029\n"
          ],
          "name": "stdout"
        },
        {
          "output_type": "display_data",
          "data": {
            "text/html": [
              "<span style=\"color:#4527A0\"><h1 style=\"font-size:18px\">Trial complete</h1></span>"
            ],
            "text/plain": [
              "<IPython.core.display.HTML object>"
            ]
          },
          "metadata": {
            "tags": []
          }
        },
        {
          "output_type": "display_data",
          "data": {
            "text/html": [
              "<span style=\"color:#4527A0\"><h1 style=\"font-size:18px\">Trial summary</h1></span>"
            ],
            "text/plain": [
              "<IPython.core.display.HTML object>"
            ]
          },
          "metadata": {
            "tags": []
          }
        },
        {
          "output_type": "display_data",
          "data": {
            "text/html": [
              "<span style=\"color:cyan\"> |-Trial ID: 176278cc6bc8d32444032684fd55752c</span>"
            ],
            "text/plain": [
              "<IPython.core.display.HTML object>"
            ]
          },
          "metadata": {
            "tags": []
          }
        },
        {
          "output_type": "display_data",
          "data": {
            "text/html": [
              "<span style=\"color:cyan\"> |-Score: 0.1223757155239582</span>"
            ],
            "text/plain": [
              "<IPython.core.display.HTML object>"
            ]
          },
          "metadata": {
            "tags": []
          }
        },
        {
          "output_type": "display_data",
          "data": {
            "text/html": [
              "<span style=\"color:cyan\"> |-Best step: 0</span>"
            ],
            "text/plain": [
              "<IPython.core.display.HTML object>"
            ]
          },
          "metadata": {
            "tags": []
          }
        },
        {
          "output_type": "display_data",
          "data": {
            "text/html": [
              "<span style=\"color:#7E57C2\"><h2 style=\"font-size:16px\">Hyperparameters:</h2></span>"
            ],
            "text/plain": [
              "<IPython.core.display.HTML object>"
            ]
          },
          "metadata": {
            "tags": []
          }
        },
        {
          "output_type": "display_data",
          "data": {
            "text/html": [
              "<span style=\"color:cyan\"> |-dense_0: 64</span>"
            ],
            "text/plain": [
              "<IPython.core.display.HTML object>"
            ]
          },
          "metadata": {
            "tags": []
          }
        },
        {
          "output_type": "display_data",
          "data": {
            "text/html": [
              "<span style=\"color:blue\"> |-dense_1: 64</span>"
            ],
            "text/plain": [
              "<IPython.core.display.HTML object>"
            ]
          },
          "metadata": {
            "tags": []
          }
        },
        {
          "output_type": "display_data",
          "data": {
            "text/html": [
              "<span style=\"color:cyan\"> |-dense_2: 96</span>"
            ],
            "text/plain": [
              "<IPython.core.display.HTML object>"
            ]
          },
          "metadata": {
            "tags": []
          }
        },
        {
          "output_type": "display_data",
          "data": {
            "text/html": [
              "<span style=\"color:blue\"> |-dense_input: 64</span>"
            ],
            "text/plain": [
              "<IPython.core.display.HTML object>"
            ]
          },
          "metadata": {
            "tags": []
          }
        },
        {
          "output_type": "display_data",
          "data": {
            "text/html": [
              "<span style=\"color:cyan\"> |-drop_0: 0.30000000000000004</span>"
            ],
            "text/plain": [
              "<IPython.core.display.HTML object>"
            ]
          },
          "metadata": {
            "tags": []
          }
        },
        {
          "output_type": "display_data",
          "data": {
            "text/html": [
              "<span style=\"color:blue\"> |-drop_1: 0.1</span>"
            ],
            "text/plain": [
              "<IPython.core.display.HTML object>"
            ]
          },
          "metadata": {
            "tags": []
          }
        },
        {
          "output_type": "display_data",
          "data": {
            "text/html": [
              "<span style=\"color:cyan\"> |-drop_2: 0.2</span>"
            ],
            "text/plain": [
              "<IPython.core.display.HTML object>"
            ]
          },
          "metadata": {
            "tags": []
          }
        },
        {
          "output_type": "display_data",
          "data": {
            "text/html": [
              "<span style=\"color:blue\"> |-drop_input: 0.0</span>"
            ],
            "text/plain": [
              "<IPython.core.display.HTML object>"
            ]
          },
          "metadata": {
            "tags": []
          }
        },
        {
          "output_type": "display_data",
          "data": {
            "text/html": [
              "<span style=\"color:cyan\"> |-lr: 0.001778812677537875</span>"
            ],
            "text/plain": [
              "<IPython.core.display.HTML object>"
            ]
          },
          "metadata": {
            "tags": []
          }
        },
        {
          "output_type": "display_data",
          "data": {
            "text/html": [
              "<span style=\"color:blue\"> |-num_intermediate_layers: 2</span>"
            ],
            "text/plain": [
              "<IPython.core.display.HTML object>"
            ]
          },
          "metadata": {
            "tags": []
          }
        },
        {
          "output_type": "display_data",
          "data": {
            "text/html": [
              "<span style=\"color:cyan\"> |-tuner/bracket: 1</span>"
            ],
            "text/plain": [
              "<IPython.core.display.HTML object>"
            ]
          },
          "metadata": {
            "tags": []
          }
        },
        {
          "output_type": "display_data",
          "data": {
            "text/html": [
              "<span style=\"color:blue\"> |-tuner/epochs: 50</span>"
            ],
            "text/plain": [
              "<IPython.core.display.HTML object>"
            ]
          },
          "metadata": {
            "tags": []
          }
        },
        {
          "output_type": "display_data",
          "data": {
            "text/html": [
              "<span style=\"color:cyan\"> |-tuner/initial_epoch: 17</span>"
            ],
            "text/plain": [
              "<IPython.core.display.HTML object>"
            ]
          },
          "metadata": {
            "tags": []
          }
        },
        {
          "output_type": "display_data",
          "data": {
            "text/html": [
              "<span style=\"color:blue\"> |-tuner/round: 1</span>"
            ],
            "text/plain": [
              "<IPython.core.display.HTML object>"
            ]
          },
          "metadata": {
            "tags": []
          }
        },
        {
          "output_type": "display_data",
          "data": {
            "text/html": [
              "<span style=\"color:cyan\"> |-tuner/trial_id: 46e889fac3343d55565b3098be2ee560</span>"
            ],
            "text/plain": [
              "<IPython.core.display.HTML object>"
            ]
          },
          "metadata": {
            "tags": []
          }
        },
        {
          "output_type": "stream",
          "text": [
            "Epoch 18/50\n",
            "13/13 [==============================] - 0s 38ms/step - loss: 1.0790 - mae: 0.7744 - val_loss: 0.0833 - val_mae: 0.2350\n",
            "Epoch 19/50\n",
            "13/13 [==============================] - 0s 15ms/step - loss: 0.2969 - mae: 0.4233 - val_loss: 0.0497 - val_mae: 0.1702\n",
            "Epoch 20/50\n",
            "13/13 [==============================] - 0s 18ms/step - loss: 0.1235 - mae: 0.2769 - val_loss: 0.0454 - val_mae: 0.1591\n",
            "Epoch 21/50\n",
            "13/13 [==============================] - 0s 18ms/step - loss: 0.0710 - mae: 0.2072 - val_loss: 0.0483 - val_mae: 0.1661\n",
            "Epoch 22/50\n",
            "13/13 [==============================] - 0s 25ms/step - loss: 0.0455 - mae: 0.1596 - val_loss: 0.0379 - val_mae: 0.1435\n",
            "Epoch 23/50\n",
            "13/13 [==============================] - 0s 12ms/step - loss: 0.0356 - mae: 0.1462 - val_loss: 0.0431 - val_mae: 0.1512\n",
            "Epoch 24/50\n",
            "13/13 [==============================] - 0s 13ms/step - loss: 0.0348 - mae: 0.1415 - val_loss: 0.0425 - val_mae: 0.1515\n",
            "Epoch 25/50\n",
            "13/13 [==============================] - 0s 14ms/step - loss: 0.0387 - mae: 0.1507 - val_loss: 0.0390 - val_mae: 0.1444\n",
            "Epoch 26/50\n",
            "13/13 [==============================] - 0s 16ms/step - loss: 0.0278 - mae: 0.1241 - val_loss: 0.0373 - val_mae: 0.1398\n",
            "Epoch 27/50\n",
            "13/13 [==============================] - 0s 14ms/step - loss: 0.0316 - mae: 0.1346 - val_loss: 0.0432 - val_mae: 0.1619\n",
            "Epoch 28/50\n",
            "13/13 [==============================] - 0s 13ms/step - loss: 0.0385 - mae: 0.1537 - val_loss: 0.0398 - val_mae: 0.1457\n",
            "Epoch 29/50\n",
            "13/13 [==============================] - 0s 16ms/step - loss: 0.0279 - mae: 0.1273 - val_loss: 0.0301 - val_mae: 0.1246\n",
            "Epoch 30/50\n",
            "13/13 [==============================] - 0s 15ms/step - loss: 0.0249 - mae: 0.1206 - val_loss: 0.0512 - val_mae: 0.1771\n",
            "Epoch 31/50\n",
            "13/13 [==============================] - 0s 14ms/step - loss: 0.0311 - mae: 0.1335 - val_loss: 0.0337 - val_mae: 0.1326\n",
            "Epoch 32/50\n",
            "13/13 [==============================] - 0s 15ms/step - loss: 0.0246 - mae: 0.1157 - val_loss: 0.0375 - val_mae: 0.1457\n",
            "Epoch 33/50\n",
            "13/13 [==============================] - 0s 12ms/step - loss: 0.0251 - mae: 0.1184 - val_loss: 0.0323 - val_mae: 0.1327\n",
            "Epoch 34/50\n",
            "13/13 [==============================] - 0s 15ms/step - loss: 0.0228 - mae: 0.1163 - val_loss: 0.0287 - val_mae: 0.1229\n",
            "Epoch 35/50\n",
            "13/13 [==============================] - 0s 13ms/step - loss: 0.0230 - mae: 0.1108 - val_loss: 0.0317 - val_mae: 0.1369\n",
            "Epoch 36/50\n",
            "13/13 [==============================] - 0s 17ms/step - loss: 0.0262 - mae: 0.1196 - val_loss: 0.0247 - val_mae: 0.1156\n",
            "Epoch 37/50\n",
            "13/13 [==============================] - 0s 15ms/step - loss: 0.0248 - mae: 0.1217 - val_loss: 0.0208 - val_mae: 0.1006\n",
            "Epoch 38/50\n",
            "13/13 [==============================] - 0s 13ms/step - loss: 0.0247 - mae: 0.1162 - val_loss: 0.0207 - val_mae: 0.1021\n",
            "Epoch 39/50\n",
            "13/13 [==============================] - 0s 15ms/step - loss: 0.0205 - mae: 0.1057 - val_loss: 0.0162 - val_mae: 0.0893\n",
            "Epoch 40/50\n",
            "13/13 [==============================] - 0s 12ms/step - loss: 0.0215 - mae: 0.1062 - val_loss: 0.0170 - val_mae: 0.0902\n",
            "Epoch 41/50\n",
            "13/13 [==============================] - 0s 17ms/step - loss: 0.0188 - mae: 0.1005 - val_loss: 0.0130 - val_mae: 0.0797\n",
            "Epoch 42/50\n",
            "13/13 [==============================] - 0s 13ms/step - loss: 0.0188 - mae: 0.1018 - val_loss: 0.0184 - val_mae: 0.0950\n",
            "Epoch 43/50\n",
            "13/13 [==============================] - 0s 13ms/step - loss: 0.0160 - mae: 0.0928 - val_loss: 0.0184 - val_mae: 0.0954\n",
            "Epoch 44/50\n",
            "13/13 [==============================] - 0s 13ms/step - loss: 0.0234 - mae: 0.1093 - val_loss: 0.0143 - val_mae: 0.0914\n",
            "Epoch 45/50\n",
            "13/13 [==============================] - 0s 13ms/step - loss: 0.0200 - mae: 0.1047 - val_loss: 0.0216 - val_mae: 0.1086\n",
            "Epoch 46/50\n",
            "13/13 [==============================] - 0s 16ms/step - loss: 0.0198 - mae: 0.1068 - val_loss: 0.0215 - val_mae: 0.1031\n",
            "Epoch 18/50\n",
            "13/13 [==============================] - 0s 34ms/step - loss: 0.9964 - mae: 0.7499 - val_loss: 0.0334 - val_mae: 0.1435\n",
            "Epoch 19/50\n",
            "13/13 [==============================] - 0s 13ms/step - loss: 0.2324 - mae: 0.3680 - val_loss: 0.0449 - val_mae: 0.1656\n",
            "Epoch 20/50\n",
            "13/13 [==============================] - 0s 14ms/step - loss: 0.1256 - mae: 0.2586 - val_loss: 0.0398 - val_mae: 0.1419\n",
            "Epoch 21/50\n",
            "13/13 [==============================] - 0s 14ms/step - loss: 0.0806 - mae: 0.2178 - val_loss: 0.0339 - val_mae: 0.1343\n",
            "Epoch 22/50\n",
            "13/13 [==============================] - 0s 14ms/step - loss: 0.0698 - mae: 0.2007 - val_loss: 0.0368 - val_mae: 0.1410\n",
            "Epoch 23/50\n",
            "13/13 [==============================] - 0s 13ms/step - loss: 0.0572 - mae: 0.1764 - val_loss: 0.0299 - val_mae: 0.1254\n",
            "Epoch 24/50\n",
            "13/13 [==============================] - 0s 13ms/step - loss: 0.0384 - mae: 0.1499 - val_loss: 0.0406 - val_mae: 0.1466\n",
            "Epoch 25/50\n",
            "13/13 [==============================] - 0s 14ms/step - loss: 0.0400 - mae: 0.1478 - val_loss: 0.0357 - val_mae: 0.1373\n",
            "Epoch 26/50\n",
            "13/13 [==============================] - 0s 14ms/step - loss: 0.0424 - mae: 0.1610 - val_loss: 0.0339 - val_mae: 0.1319\n",
            "Epoch 27/50\n",
            "13/13 [==============================] - 0s 12ms/step - loss: 0.0430 - mae: 0.1552 - val_loss: 0.0471 - val_mae: 0.1657\n",
            "Epoch 28/50\n",
            "13/13 [==============================] - 0s 12ms/step - loss: 0.0537 - mae: 0.1747 - val_loss: 0.0253 - val_mae: 0.1157\n",
            "Epoch 29/50\n",
            "13/13 [==============================] - 0s 12ms/step - loss: 0.0364 - mae: 0.1437 - val_loss: 0.0239 - val_mae: 0.1140\n",
            "Epoch 30/50\n",
            "13/13 [==============================] - 0s 12ms/step - loss: 0.0337 - mae: 0.1346 - val_loss: 0.0283 - val_mae: 0.1216\n",
            "Epoch 31/50\n",
            "13/13 [==============================] - 0s 14ms/step - loss: 0.0294 - mae: 0.1322 - val_loss: 0.0302 - val_mae: 0.1257\n",
            "Epoch 32/50\n",
            "13/13 [==============================] - 0s 14ms/step - loss: 0.0360 - mae: 0.1424 - val_loss: 0.0260 - val_mae: 0.1159\n",
            "Epoch 33/50\n",
            "13/13 [==============================] - 0s 13ms/step - loss: 0.0381 - mae: 0.1418 - val_loss: 0.0194 - val_mae: 0.0998\n",
            "Epoch 34/50\n",
            "13/13 [==============================] - 0s 16ms/step - loss: 0.0254 - mae: 0.1238 - val_loss: 0.0402 - val_mae: 0.1503\n",
            "Epoch 35/50\n",
            "13/13 [==============================] - 0s 21ms/step - loss: 0.0274 - mae: 0.1277 - val_loss: 0.0257 - val_mae: 0.1200\n",
            "Epoch 36/50\n",
            "13/13 [==============================] - 0s 19ms/step - loss: 0.0312 - mae: 0.1378 - val_loss: 0.0309 - val_mae: 0.1294\n",
            "Epoch 37/50\n",
            "13/13 [==============================] - 0s 14ms/step - loss: 0.0316 - mae: 0.1321 - val_loss: 0.0470 - val_mae: 0.1639\n",
            "Epoch 38/50\n",
            "13/13 [==============================] - 0s 13ms/step - loss: 0.0343 - mae: 0.1398 - val_loss: 0.0386 - val_mae: 0.1550\n"
          ],
          "name": "stdout"
        },
        {
          "output_type": "display_data",
          "data": {
            "text/html": [
              "<span style=\"color:#4527A0\"><h1 style=\"font-size:18px\">Trial complete</h1></span>"
            ],
            "text/plain": [
              "<IPython.core.display.HTML object>"
            ]
          },
          "metadata": {
            "tags": []
          }
        },
        {
          "output_type": "display_data",
          "data": {
            "text/html": [
              "<span style=\"color:#4527A0\"><h1 style=\"font-size:18px\">Trial summary</h1></span>"
            ],
            "text/plain": [
              "<IPython.core.display.HTML object>"
            ]
          },
          "metadata": {
            "tags": []
          }
        },
        {
          "output_type": "display_data",
          "data": {
            "text/html": [
              "<span style=\"color:cyan\"> |-Trial ID: 2da4d601fbe76007d9afbf21418003c0</span>"
            ],
            "text/plain": [
              "<IPython.core.display.HTML object>"
            ]
          },
          "metadata": {
            "tags": []
          }
        },
        {
          "output_type": "display_data",
          "data": {
            "text/html": [
              "<span style=\"color:cyan\"> |-Score: 0.08974235132336617</span>"
            ],
            "text/plain": [
              "<IPython.core.display.HTML object>"
            ]
          },
          "metadata": {
            "tags": []
          }
        },
        {
          "output_type": "display_data",
          "data": {
            "text/html": [
              "<span style=\"color:cyan\"> |-Best step: 0</span>"
            ],
            "text/plain": [
              "<IPython.core.display.HTML object>"
            ]
          },
          "metadata": {
            "tags": []
          }
        },
        {
          "output_type": "display_data",
          "data": {
            "text/html": [
              "<span style=\"color:#7E57C2\"><h2 style=\"font-size:16px\">Hyperparameters:</h2></span>"
            ],
            "text/plain": [
              "<IPython.core.display.HTML object>"
            ]
          },
          "metadata": {
            "tags": []
          }
        },
        {
          "output_type": "display_data",
          "data": {
            "text/html": [
              "<span style=\"color:cyan\"> |-dense_0: 32</span>"
            ],
            "text/plain": [
              "<IPython.core.display.HTML object>"
            ]
          },
          "metadata": {
            "tags": []
          }
        },
        {
          "output_type": "display_data",
          "data": {
            "text/html": [
              "<span style=\"color:blue\"> |-dense_1: 128</span>"
            ],
            "text/plain": [
              "<IPython.core.display.HTML object>"
            ]
          },
          "metadata": {
            "tags": []
          }
        },
        {
          "output_type": "display_data",
          "data": {
            "text/html": [
              "<span style=\"color:cyan\"> |-dense_2: 96</span>"
            ],
            "text/plain": [
              "<IPython.core.display.HTML object>"
            ]
          },
          "metadata": {
            "tags": []
          }
        },
        {
          "output_type": "display_data",
          "data": {
            "text/html": [
              "<span style=\"color:blue\"> |-dense_input: 64</span>"
            ],
            "text/plain": [
              "<IPython.core.display.HTML object>"
            ]
          },
          "metadata": {
            "tags": []
          }
        },
        {
          "output_type": "display_data",
          "data": {
            "text/html": [
              "<span style=\"color:cyan\"> |-drop_0: 0.0</span>"
            ],
            "text/plain": [
              "<IPython.core.display.HTML object>"
            ]
          },
          "metadata": {
            "tags": []
          }
        },
        {
          "output_type": "display_data",
          "data": {
            "text/html": [
              "<span style=\"color:blue\"> |-drop_1: 0.2</span>"
            ],
            "text/plain": [
              "<IPython.core.display.HTML object>"
            ]
          },
          "metadata": {
            "tags": []
          }
        },
        {
          "output_type": "display_data",
          "data": {
            "text/html": [
              "<span style=\"color:cyan\"> |-drop_2: 0.0</span>"
            ],
            "text/plain": [
              "<IPython.core.display.HTML object>"
            ]
          },
          "metadata": {
            "tags": []
          }
        },
        {
          "output_type": "display_data",
          "data": {
            "text/html": [
              "<span style=\"color:blue\"> |-drop_input: 0.2</span>"
            ],
            "text/plain": [
              "<IPython.core.display.HTML object>"
            ]
          },
          "metadata": {
            "tags": []
          }
        },
        {
          "output_type": "display_data",
          "data": {
            "text/html": [
              "<span style=\"color:cyan\"> |-lr: 0.003776783176468784</span>"
            ],
            "text/plain": [
              "<IPython.core.display.HTML object>"
            ]
          },
          "metadata": {
            "tags": []
          }
        },
        {
          "output_type": "display_data",
          "data": {
            "text/html": [
              "<span style=\"color:blue\"> |-num_intermediate_layers: 3</span>"
            ],
            "text/plain": [
              "<IPython.core.display.HTML object>"
            ]
          },
          "metadata": {
            "tags": []
          }
        },
        {
          "output_type": "display_data",
          "data": {
            "text/html": [
              "<span style=\"color:cyan\"> |-tuner/bracket: 1</span>"
            ],
            "text/plain": [
              "<IPython.core.display.HTML object>"
            ]
          },
          "metadata": {
            "tags": []
          }
        },
        {
          "output_type": "display_data",
          "data": {
            "text/html": [
              "<span style=\"color:blue\"> |-tuner/epochs: 50</span>"
            ],
            "text/plain": [
              "<IPython.core.display.HTML object>"
            ]
          },
          "metadata": {
            "tags": []
          }
        },
        {
          "output_type": "display_data",
          "data": {
            "text/html": [
              "<span style=\"color:cyan\"> |-tuner/initial_epoch: 17</span>"
            ],
            "text/plain": [
              "<IPython.core.display.HTML object>"
            ]
          },
          "metadata": {
            "tags": []
          }
        },
        {
          "output_type": "display_data",
          "data": {
            "text/html": [
              "<span style=\"color:blue\"> |-tuner/round: 1</span>"
            ],
            "text/plain": [
              "<IPython.core.display.HTML object>"
            ]
          },
          "metadata": {
            "tags": []
          }
        },
        {
          "output_type": "display_data",
          "data": {
            "text/html": [
              "<span style=\"color:cyan\"> |-tuner/trial_id: 27600e270672793d00fa68b1139033a2</span>"
            ],
            "text/plain": [
              "<IPython.core.display.HTML object>"
            ]
          },
          "metadata": {
            "tags": []
          }
        },
        {
          "output_type": "stream",
          "text": [
            "Epoch 18/50\n",
            "13/13 [==============================] - 0s 29ms/step - loss: 1.9891 - mae: 1.1216 - val_loss: 0.1151 - val_mae: 0.2797\n",
            "Epoch 19/50\n",
            "13/13 [==============================] - 0s 11ms/step - loss: 1.2210 - mae: 0.8347 - val_loss: 0.0575 - val_mae: 0.1829\n",
            "Epoch 20/50\n",
            "13/13 [==============================] - 0s 12ms/step - loss: 0.9174 - mae: 0.7279 - val_loss: 0.0337 - val_mae: 0.1315\n",
            "Epoch 21/50\n",
            "13/13 [==============================] - 0s 10ms/step - loss: 0.7071 - mae: 0.6310 - val_loss: 0.0386 - val_mae: 0.1426\n",
            "Epoch 22/50\n",
            "13/13 [==============================] - 0s 10ms/step - loss: 0.6024 - mae: 0.6010 - val_loss: 0.0357 - val_mae: 0.1374\n",
            "Epoch 23/50\n",
            "13/13 [==============================] - 0s 10ms/step - loss: 0.5709 - mae: 0.5717 - val_loss: 0.0368 - val_mae: 0.1367\n",
            "Epoch 24/50\n",
            "13/13 [==============================] - 0s 10ms/step - loss: 0.5114 - mae: 0.5569 - val_loss: 0.0387 - val_mae: 0.1436\n",
            "Epoch 25/50\n",
            "13/13 [==============================] - 0s 10ms/step - loss: 0.4409 - mae: 0.5017 - val_loss: 0.0425 - val_mae: 0.1526\n",
            "Epoch 18/50\n",
            "13/13 [==============================] - 0s 25ms/step - loss: 1.3231 - mae: 0.8923 - val_loss: 0.1978 - val_mae: 0.4064\n",
            "Epoch 19/50\n",
            "13/13 [==============================] - 0s 10ms/step - loss: 0.8843 - mae: 0.7012 - val_loss: 0.0632 - val_mae: 0.1918\n",
            "Epoch 20/50\n",
            "13/13 [==============================] - 0s 10ms/step - loss: 0.6903 - mae: 0.6190 - val_loss: 0.0409 - val_mae: 0.1471\n",
            "Epoch 21/50\n",
            "13/13 [==============================] - 0s 14ms/step - loss: 0.5651 - mae: 0.5777 - val_loss: 0.0430 - val_mae: 0.1565\n",
            "Epoch 22/50\n",
            "13/13 [==============================] - 0s 14ms/step - loss: 0.5371 - mae: 0.5577 - val_loss: 0.0396 - val_mae: 0.1482\n",
            "Epoch 23/50\n",
            "13/13 [==============================] - 0s 13ms/step - loss: 0.5184 - mae: 0.5428 - val_loss: 0.0400 - val_mae: 0.1469\n",
            "Epoch 24/50\n",
            "13/13 [==============================] - 0s 15ms/step - loss: 0.4865 - mae: 0.5339 - val_loss: 0.0336 - val_mae: 0.1314\n",
            "Epoch 25/50\n",
            "13/13 [==============================] - 0s 10ms/step - loss: 0.4202 - mae: 0.4851 - val_loss: 0.0473 - val_mae: 0.1632\n",
            "Epoch 26/50\n",
            "13/13 [==============================] - 0s 12ms/step - loss: 0.4616 - mae: 0.5161 - val_loss: 0.0377 - val_mae: 0.1384\n",
            "Epoch 27/50\n",
            "13/13 [==============================] - 0s 10ms/step - loss: 0.4124 - mae: 0.4890 - val_loss: 0.0366 - val_mae: 0.1380\n",
            "Epoch 28/50\n",
            "13/13 [==============================] - 0s 10ms/step - loss: 0.3517 - mae: 0.4472 - val_loss: 0.0390 - val_mae: 0.1475\n",
            "Epoch 29/50\n",
            "13/13 [==============================] - 0s 10ms/step - loss: 0.2814 - mae: 0.3954 - val_loss: 0.0360 - val_mae: 0.1360\n"
          ],
          "name": "stdout"
        },
        {
          "output_type": "display_data",
          "data": {
            "text/html": [
              "<span style=\"color:#4527A0\"><h1 style=\"font-size:18px\">Trial complete</h1></span>"
            ],
            "text/plain": [
              "<IPython.core.display.HTML object>"
            ]
          },
          "metadata": {
            "tags": []
          }
        },
        {
          "output_type": "display_data",
          "data": {
            "text/html": [
              "<span style=\"color:#4527A0\"><h1 style=\"font-size:18px\">Trial summary</h1></span>"
            ],
            "text/plain": [
              "<IPython.core.display.HTML object>"
            ]
          },
          "metadata": {
            "tags": []
          }
        },
        {
          "output_type": "display_data",
          "data": {
            "text/html": [
              "<span style=\"color:cyan\"> |-Trial ID: 72eea0f63b469543b817f09d4fcf1258</span>"
            ],
            "text/plain": [
              "<IPython.core.display.HTML object>"
            ]
          },
          "metadata": {
            "tags": []
          }
        },
        {
          "output_type": "display_data",
          "data": {
            "text/html": [
              "<span style=\"color:cyan\"> |-Score: 0.13147339969873428</span>"
            ],
            "text/plain": [
              "<IPython.core.display.HTML object>"
            ]
          },
          "metadata": {
            "tags": []
          }
        },
        {
          "output_type": "display_data",
          "data": {
            "text/html": [
              "<span style=\"color:cyan\"> |-Best step: 0</span>"
            ],
            "text/plain": [
              "<IPython.core.display.HTML object>"
            ]
          },
          "metadata": {
            "tags": []
          }
        },
        {
          "output_type": "display_data",
          "data": {
            "text/html": [
              "<span style=\"color:#7E57C2\"><h2 style=\"font-size:16px\">Hyperparameters:</h2></span>"
            ],
            "text/plain": [
              "<IPython.core.display.HTML object>"
            ]
          },
          "metadata": {
            "tags": []
          }
        },
        {
          "output_type": "display_data",
          "data": {
            "text/html": [
              "<span style=\"color:cyan\"> |-dense_0: 64</span>"
            ],
            "text/plain": [
              "<IPython.core.display.HTML object>"
            ]
          },
          "metadata": {
            "tags": []
          }
        },
        {
          "output_type": "display_data",
          "data": {
            "text/html": [
              "<span style=\"color:blue\"> |-dense_1: 64</span>"
            ],
            "text/plain": [
              "<IPython.core.display.HTML object>"
            ]
          },
          "metadata": {
            "tags": []
          }
        },
        {
          "output_type": "display_data",
          "data": {
            "text/html": [
              "<span style=\"color:cyan\"> |-dense_2: 32</span>"
            ],
            "text/plain": [
              "<IPython.core.display.HTML object>"
            ]
          },
          "metadata": {
            "tags": []
          }
        },
        {
          "output_type": "display_data",
          "data": {
            "text/html": [
              "<span style=\"color:blue\"> |-dense_input: 32</span>"
            ],
            "text/plain": [
              "<IPython.core.display.HTML object>"
            ]
          },
          "metadata": {
            "tags": []
          }
        },
        {
          "output_type": "display_data",
          "data": {
            "text/html": [
              "<span style=\"color:cyan\"> |-drop_0: 0.30000000000000004</span>"
            ],
            "text/plain": [
              "<IPython.core.display.HTML object>"
            ]
          },
          "metadata": {
            "tags": []
          }
        },
        {
          "output_type": "display_data",
          "data": {
            "text/html": [
              "<span style=\"color:blue\"> |-drop_1: 0.2</span>"
            ],
            "text/plain": [
              "<IPython.core.display.HTML object>"
            ]
          },
          "metadata": {
            "tags": []
          }
        },
        {
          "output_type": "display_data",
          "data": {
            "text/html": [
              "<span style=\"color:cyan\"> |-drop_2: 0.0</span>"
            ],
            "text/plain": [
              "<IPython.core.display.HTML object>"
            ]
          },
          "metadata": {
            "tags": []
          }
        },
        {
          "output_type": "display_data",
          "data": {
            "text/html": [
              "<span style=\"color:blue\"> |-drop_input: 0.30000000000000004</span>"
            ],
            "text/plain": [
              "<IPython.core.display.HTML object>"
            ]
          },
          "metadata": {
            "tags": []
          }
        },
        {
          "output_type": "display_data",
          "data": {
            "text/html": [
              "<span style=\"color:cyan\"> |-lr: 0.001687289391829868</span>"
            ],
            "text/plain": [
              "<IPython.core.display.HTML object>"
            ]
          },
          "metadata": {
            "tags": []
          }
        },
        {
          "output_type": "display_data",
          "data": {
            "text/html": [
              "<span style=\"color:blue\"> |-num_intermediate_layers: 1</span>"
            ],
            "text/plain": [
              "<IPython.core.display.HTML object>"
            ]
          },
          "metadata": {
            "tags": []
          }
        },
        {
          "output_type": "display_data",
          "data": {
            "text/html": [
              "<span style=\"color:cyan\"> |-tuner/bracket: 1</span>"
            ],
            "text/plain": [
              "<IPython.core.display.HTML object>"
            ]
          },
          "metadata": {
            "tags": []
          }
        },
        {
          "output_type": "display_data",
          "data": {
            "text/html": [
              "<span style=\"color:blue\"> |-tuner/epochs: 50</span>"
            ],
            "text/plain": [
              "<IPython.core.display.HTML object>"
            ]
          },
          "metadata": {
            "tags": []
          }
        },
        {
          "output_type": "display_data",
          "data": {
            "text/html": [
              "<span style=\"color:cyan\"> |-tuner/initial_epoch: 17</span>"
            ],
            "text/plain": [
              "<IPython.core.display.HTML object>"
            ]
          },
          "metadata": {
            "tags": []
          }
        },
        {
          "output_type": "display_data",
          "data": {
            "text/html": [
              "<span style=\"color:blue\"> |-tuner/round: 1</span>"
            ],
            "text/plain": [
              "<IPython.core.display.HTML object>"
            ]
          },
          "metadata": {
            "tags": []
          }
        },
        {
          "output_type": "display_data",
          "data": {
            "text/html": [
              "<span style=\"color:cyan\"> |-tuner/trial_id: fb1911e40cdba58797f96e9bf32b4343</span>"
            ],
            "text/plain": [
              "<IPython.core.display.HTML object>"
            ]
          },
          "metadata": {
            "tags": []
          }
        },
        {
          "output_type": "stream",
          "text": [
            "Epoch 1/50\n",
            "13/13 [==============================] - 0s 32ms/step - loss: 1.1455 - mae: 0.8249 - val_loss: 0.1962 - val_mae: 0.3882\n",
            "Epoch 2/50\n",
            "13/13 [==============================] - 0s 14ms/step - loss: 0.4518 - mae: 0.5168 - val_loss: 0.1518 - val_mae: 0.3306\n",
            "Epoch 3/50\n",
            "13/13 [==============================] - 0s 13ms/step - loss: 0.3621 - mae: 0.4752 - val_loss: 0.1185 - val_mae: 0.2837\n",
            "Epoch 4/50\n",
            "13/13 [==============================] - 0s 14ms/step - loss: 0.2569 - mae: 0.3983 - val_loss: 0.1015 - val_mae: 0.2580\n",
            "Epoch 5/50\n",
            "13/13 [==============================] - 0s 14ms/step - loss: 0.1945 - mae: 0.3430 - val_loss: 0.0848 - val_mae: 0.2329\n",
            "Epoch 6/50\n",
            "13/13 [==============================] - 0s 13ms/step - loss: 0.1698 - mae: 0.3172 - val_loss: 0.0717 - val_mae: 0.2102\n",
            "Epoch 7/50\n",
            "13/13 [==============================] - 0s 13ms/step - loss: 0.1220 - mae: 0.2648 - val_loss: 0.0573 - val_mae: 0.1797\n",
            "Epoch 8/50\n",
            "13/13 [==============================] - 0s 14ms/step - loss: 0.0967 - mae: 0.2465 - val_loss: 0.0513 - val_mae: 0.1681\n",
            "Epoch 9/50\n",
            "13/13 [==============================] - 0s 15ms/step - loss: 0.0828 - mae: 0.2190 - val_loss: 0.0458 - val_mae: 0.1555\n",
            "Epoch 10/50\n",
            "13/13 [==============================] - 0s 14ms/step - loss: 0.0702 - mae: 0.2009 - val_loss: 0.0444 - val_mae: 0.1536\n",
            "Epoch 11/50\n",
            "13/13 [==============================] - 0s 14ms/step - loss: 0.0621 - mae: 0.1878 - val_loss: 0.0370 - val_mae: 0.1384\n",
            "Epoch 12/50\n",
            "13/13 [==============================] - 0s 21ms/step - loss: 0.0604 - mae: 0.1843 - val_loss: 0.0356 - val_mae: 0.1344\n",
            "Epoch 13/50\n",
            "13/13 [==============================] - 0s 17ms/step - loss: 0.0556 - mae: 0.1840 - val_loss: 0.0372 - val_mae: 0.1384\n",
            "Epoch 14/50\n",
            "13/13 [==============================] - 0s 15ms/step - loss: 0.0609 - mae: 0.1867 - val_loss: 0.0375 - val_mae: 0.1386\n",
            "Epoch 15/50\n",
            "13/13 [==============================] - 0s 14ms/step - loss: 0.0560 - mae: 0.1739 - val_loss: 0.0336 - val_mae: 0.1303\n",
            "Epoch 16/50\n",
            "13/13 [==============================] - 0s 13ms/step - loss: 0.0456 - mae: 0.1580 - val_loss: 0.0279 - val_mae: 0.1212\n",
            "Epoch 17/50\n",
            "13/13 [==============================] - 0s 12ms/step - loss: 0.0475 - mae: 0.1687 - val_loss: 0.0307 - val_mae: 0.1249\n",
            "Epoch 18/50\n",
            "13/13 [==============================] - 0s 11ms/step - loss: 0.0409 - mae: 0.1548 - val_loss: 0.0309 - val_mae: 0.1236\n",
            "Epoch 19/50\n",
            "13/13 [==============================] - 0s 11ms/step - loss: 0.0442 - mae: 0.1555 - val_loss: 0.0312 - val_mae: 0.1255\n",
            "Epoch 20/50\n",
            "13/13 [==============================] - 0s 13ms/step - loss: 0.0420 - mae: 0.1548 - val_loss: 0.0263 - val_mae: 0.1153\n",
            "Epoch 21/50\n",
            "13/13 [==============================] - 0s 11ms/step - loss: 0.0439 - mae: 0.1632 - val_loss: 0.0283 - val_mae: 0.1182\n",
            "Epoch 22/50\n",
            "13/13 [==============================] - 0s 11ms/step - loss: 0.0438 - mae: 0.1614 - val_loss: 0.0360 - val_mae: 0.1373\n",
            "Epoch 23/50\n",
            "13/13 [==============================] - 0s 14ms/step - loss: 0.0472 - mae: 0.1665 - val_loss: 0.0227 - val_mae: 0.1056\n",
            "Epoch 24/50\n",
            "13/13 [==============================] - 0s 12ms/step - loss: 0.0516 - mae: 0.1689 - val_loss: 0.0271 - val_mae: 0.1187\n",
            "Epoch 25/50\n",
            "13/13 [==============================] - 0s 14ms/step - loss: 0.0393 - mae: 0.1547 - val_loss: 0.0224 - val_mae: 0.1050\n",
            "Epoch 26/50\n",
            "13/13 [==============================] - 0s 15ms/step - loss: 0.0375 - mae: 0.1486 - val_loss: 0.0223 - val_mae: 0.1054\n",
            "Epoch 27/50\n",
            "13/13 [==============================] - 0s 11ms/step - loss: 0.0440 - mae: 0.1599 - val_loss: 0.0241 - val_mae: 0.1084\n",
            "Epoch 28/50\n",
            "13/13 [==============================] - 0s 15ms/step - loss: 0.0498 - mae: 0.1653 - val_loss: 0.0212 - val_mae: 0.1036\n",
            "Epoch 29/50\n",
            "13/13 [==============================] - 0s 14ms/step - loss: 0.0390 - mae: 0.1470 - val_loss: 0.0201 - val_mae: 0.0999\n",
            "Epoch 30/50\n",
            "13/13 [==============================] - 0s 11ms/step - loss: 0.0400 - mae: 0.1529 - val_loss: 0.0196 - val_mae: 0.1000\n",
            "Epoch 31/50\n",
            "13/13 [==============================] - 0s 11ms/step - loss: 0.0424 - mae: 0.1566 - val_loss: 0.0224 - val_mae: 0.1082\n",
            "Epoch 32/50\n",
            "13/13 [==============================] - 0s 15ms/step - loss: 0.0414 - mae: 0.1514 - val_loss: 0.0181 - val_mae: 0.0950\n",
            "Epoch 33/50\n",
            "13/13 [==============================] - 0s 12ms/step - loss: 0.0401 - mae: 0.1545 - val_loss: 0.0209 - val_mae: 0.1011\n",
            "Epoch 34/50\n",
            "13/13 [==============================] - 0s 13ms/step - loss: 0.0452 - mae: 0.1579 - val_loss: 0.0168 - val_mae: 0.0924\n",
            "Epoch 35/50\n",
            "13/13 [==============================] - 0s 12ms/step - loss: 0.0341 - mae: 0.1434 - val_loss: 0.0181 - val_mae: 0.0948\n",
            "Epoch 36/50\n",
            "13/13 [==============================] - 0s 14ms/step - loss: 0.0333 - mae: 0.1360 - val_loss: 0.0132 - val_mae: 0.0799\n",
            "Epoch 37/50\n",
            "13/13 [==============================] - 0s 11ms/step - loss: 0.0364 - mae: 0.1420 - val_loss: 0.0182 - val_mae: 0.0969\n",
            "Epoch 38/50\n",
            "13/13 [==============================] - 0s 11ms/step - loss: 0.0381 - mae: 0.1493 - val_loss: 0.0154 - val_mae: 0.0873\n",
            "Epoch 39/50\n",
            "13/13 [==============================] - 0s 11ms/step - loss: 0.0351 - mae: 0.1437 - val_loss: 0.0162 - val_mae: 0.0905\n",
            "Epoch 40/50\n",
            "13/13 [==============================] - 0s 11ms/step - loss: 0.0350 - mae: 0.1394 - val_loss: 0.0135 - val_mae: 0.0801\n",
            "Epoch 41/50\n",
            "13/13 [==============================] - 0s 18ms/step - loss: 0.0340 - mae: 0.1398 - val_loss: 0.0115 - val_mae: 0.0763\n",
            "Epoch 42/50\n",
            "13/13 [==============================] - 0s 17ms/step - loss: 0.0323 - mae: 0.1412 - val_loss: 0.0153 - val_mae: 0.0911\n",
            "Epoch 43/50\n",
            "13/13 [==============================] - 0s 20ms/step - loss: 0.0439 - mae: 0.1588 - val_loss: 0.0142 - val_mae: 0.0831\n",
            "Epoch 44/50\n",
            "13/13 [==============================] - 0s 12ms/step - loss: 0.0387 - mae: 0.1464 - val_loss: 0.0152 - val_mae: 0.0886\n",
            "Epoch 45/50\n",
            "13/13 [==============================] - 0s 12ms/step - loss: 0.0380 - mae: 0.1494 - val_loss: 0.0137 - val_mae: 0.0824\n",
            "Epoch 46/50\n",
            "13/13 [==============================] - 0s 11ms/step - loss: 0.0400 - mae: 0.1534 - val_loss: 0.0191 - val_mae: 0.1052\n",
            "Epoch 1/50\n",
            "13/13 [==============================] - 0s 30ms/step - loss: 1.3545 - mae: 0.8815 - val_loss: 0.1926 - val_mae: 0.4025\n",
            "Epoch 2/50\n",
            "13/13 [==============================] - 0s 11ms/step - loss: 0.5987 - mae: 0.6100 - val_loss: 0.1613 - val_mae: 0.3595\n",
            "Epoch 3/50\n",
            "13/13 [==============================] - 0s 12ms/step - loss: 0.4143 - mae: 0.5079 - val_loss: 0.1195 - val_mae: 0.2955\n",
            "Epoch 4/50\n",
            "13/13 [==============================] - 0s 12ms/step - loss: 0.3147 - mae: 0.4415 - val_loss: 0.0945 - val_mae: 0.2533\n",
            "Epoch 5/50\n",
            "13/13 [==============================] - 0s 11ms/step - loss: 0.2177 - mae: 0.3767 - val_loss: 0.0741 - val_mae: 0.2176\n",
            "Epoch 6/50\n",
            "13/13 [==============================] - 0s 11ms/step - loss: 0.1617 - mae: 0.3169 - val_loss: 0.0625 - val_mae: 0.1932\n",
            "Epoch 7/50\n",
            "13/13 [==============================] - 0s 11ms/step - loss: 0.1258 - mae: 0.2677 - val_loss: 0.0539 - val_mae: 0.1779\n",
            "Epoch 8/50\n",
            "13/13 [==============================] - 0s 11ms/step - loss: 0.0953 - mae: 0.2356 - val_loss: 0.0453 - val_mae: 0.1594\n",
            "Epoch 9/50\n",
            "13/13 [==============================] - 0s 13ms/step - loss: 0.0950 - mae: 0.2330 - val_loss: 0.0399 - val_mae: 0.1449\n",
            "Epoch 10/50\n",
            "13/13 [==============================] - 0s 11ms/step - loss: 0.0719 - mae: 0.2046 - val_loss: 0.0366 - val_mae: 0.1370\n",
            "Epoch 11/50\n",
            "13/13 [==============================] - 0s 11ms/step - loss: 0.0570 - mae: 0.1825 - val_loss: 0.0363 - val_mae: 0.1368\n",
            "Epoch 12/50\n",
            "13/13 [==============================] - 0s 11ms/step - loss: 0.0608 - mae: 0.1891 - val_loss: 0.0325 - val_mae: 0.1269\n",
            "Epoch 13/50\n",
            "13/13 [==============================] - 0s 11ms/step - loss: 0.0602 - mae: 0.1922 - val_loss: 0.0344 - val_mae: 0.1328\n",
            "Epoch 14/50\n",
            "13/13 [==============================] - 0s 11ms/step - loss: 0.0563 - mae: 0.1859 - val_loss: 0.0294 - val_mae: 0.1204\n",
            "Epoch 15/50\n",
            "13/13 [==============================] - 0s 11ms/step - loss: 0.0592 - mae: 0.1864 - val_loss: 0.0295 - val_mae: 0.1207\n",
            "Epoch 16/50\n",
            "13/13 [==============================] - 0s 12ms/step - loss: 0.0439 - mae: 0.1574 - val_loss: 0.0317 - val_mae: 0.1263\n",
            "Epoch 17/50\n",
            "13/13 [==============================] - 0s 16ms/step - loss: 0.0450 - mae: 0.1646 - val_loss: 0.0271 - val_mae: 0.1149\n",
            "Epoch 18/50\n",
            "13/13 [==============================] - 0s 19ms/step - loss: 0.0526 - mae: 0.1717 - val_loss: 0.0274 - val_mae: 0.1162\n",
            "Epoch 19/50\n",
            "13/13 [==============================] - 0s 16ms/step - loss: 0.0546 - mae: 0.1737 - val_loss: 0.0255 - val_mae: 0.1112\n",
            "Epoch 20/50\n",
            "13/13 [==============================] - 0s 11ms/step - loss: 0.0401 - mae: 0.1489 - val_loss: 0.0275 - val_mae: 0.1170\n",
            "Epoch 21/50\n",
            "13/13 [==============================] - 0s 12ms/step - loss: 0.0426 - mae: 0.1565 - val_loss: 0.0318 - val_mae: 0.1298\n",
            "Epoch 22/50\n",
            "13/13 [==============================] - 0s 12ms/step - loss: 0.0364 - mae: 0.1434 - val_loss: 0.0255 - val_mae: 0.1120\n",
            "Epoch 23/50\n",
            "13/13 [==============================] - 0s 12ms/step - loss: 0.0436 - mae: 0.1556 - val_loss: 0.0223 - val_mae: 0.1041\n",
            "Epoch 24/50\n",
            "13/13 [==============================] - 0s 11ms/step - loss: 0.0455 - mae: 0.1596 - val_loss: 0.0274 - val_mae: 0.1180\n",
            "Epoch 25/50\n",
            "13/13 [==============================] - 0s 12ms/step - loss: 0.0438 - mae: 0.1594 - val_loss: 0.0204 - val_mae: 0.0990\n",
            "Epoch 26/50\n",
            "13/13 [==============================] - 0s 13ms/step - loss: 0.0377 - mae: 0.1488 - val_loss: 0.0232 - val_mae: 0.1078\n",
            "Epoch 27/50\n",
            "13/13 [==============================] - 0s 12ms/step - loss: 0.0440 - mae: 0.1567 - val_loss: 0.0213 - val_mae: 0.1010\n",
            "Epoch 28/50\n",
            "13/13 [==============================] - 0s 12ms/step - loss: 0.0489 - mae: 0.1628 - val_loss: 0.0183 - val_mae: 0.0937\n",
            "Epoch 29/50\n",
            "13/13 [==============================] - 0s 12ms/step - loss: 0.0505 - mae: 0.1722 - val_loss: 0.0196 - val_mae: 0.0968\n",
            "Epoch 30/50\n",
            "13/13 [==============================] - 0s 12ms/step - loss: 0.0434 - mae: 0.1529 - val_loss: 0.0154 - val_mae: 0.0855\n",
            "Epoch 31/50\n",
            "13/13 [==============================] - 0s 12ms/step - loss: 0.0430 - mae: 0.1558 - val_loss: 0.0207 - val_mae: 0.0991\n",
            "Epoch 32/50\n",
            "13/13 [==============================] - 0s 12ms/step - loss: 0.0370 - mae: 0.1456 - val_loss: 0.0173 - val_mae: 0.0896\n",
            "Epoch 33/50\n",
            "13/13 [==============================] - 0s 11ms/step - loss: 0.0366 - mae: 0.1400 - val_loss: 0.0215 - val_mae: 0.1068\n",
            "Epoch 34/50\n",
            "13/13 [==============================] - 0s 11ms/step - loss: 0.0385 - mae: 0.1461 - val_loss: 0.0130 - val_mae: 0.0770\n",
            "Epoch 35/50\n",
            "13/13 [==============================] - 0s 12ms/step - loss: 0.0502 - mae: 0.1691 - val_loss: 0.0216 - val_mae: 0.1079\n",
            "Epoch 36/50\n",
            "13/13 [==============================] - 0s 14ms/step - loss: 0.0399 - mae: 0.1457 - val_loss: 0.0119 - val_mae: 0.0743\n",
            "Epoch 37/50\n",
            "13/13 [==============================] - 0s 11ms/step - loss: 0.0407 - mae: 0.1496 - val_loss: 0.0179 - val_mae: 0.0961\n",
            "Epoch 38/50\n",
            "13/13 [==============================] - 0s 14ms/step - loss: 0.0393 - mae: 0.1540 - val_loss: 0.0108 - val_mae: 0.0718\n",
            "Epoch 39/50\n",
            "13/13 [==============================] - 0s 11ms/step - loss: 0.0430 - mae: 0.1548 - val_loss: 0.0118 - val_mae: 0.0750\n",
            "Epoch 40/50\n",
            "13/13 [==============================] - 0s 12ms/step - loss: 0.0335 - mae: 0.1387 - val_loss: 0.0156 - val_mae: 0.0858\n",
            "Epoch 41/50\n",
            "13/13 [==============================] - 0s 11ms/step - loss: 0.0376 - mae: 0.1461 - val_loss: 0.0155 - val_mae: 0.0861\n",
            "Epoch 42/50\n",
            "13/13 [==============================] - 0s 14ms/step - loss: 0.0382 - mae: 0.1469 - val_loss: 0.0114 - val_mae: 0.0706\n",
            "Epoch 43/50\n",
            "13/13 [==============================] - 0s 12ms/step - loss: 0.0441 - mae: 0.1542 - val_loss: 0.0126 - val_mae: 0.0760\n"
          ],
          "name": "stdout"
        },
        {
          "output_type": "display_data",
          "data": {
            "text/html": [
              "<span style=\"color:#4527A0\"><h1 style=\"font-size:18px\">Trial complete</h1></span>"
            ],
            "text/plain": [
              "<IPython.core.display.HTML object>"
            ]
          },
          "metadata": {
            "tags": []
          }
        },
        {
          "output_type": "display_data",
          "data": {
            "text/html": [
              "<span style=\"color:#4527A0\"><h1 style=\"font-size:18px\">Trial summary</h1></span>"
            ],
            "text/plain": [
              "<IPython.core.display.HTML object>"
            ]
          },
          "metadata": {
            "tags": []
          }
        },
        {
          "output_type": "display_data",
          "data": {
            "text/html": [
              "<span style=\"color:cyan\"> |-Trial ID: 52687fd80274d888683ab2479bab6814</span>"
            ],
            "text/plain": [
              "<IPython.core.display.HTML object>"
            ]
          },
          "metadata": {
            "tags": []
          }
        },
        {
          "output_type": "display_data",
          "data": {
            "text/html": [
              "<span style=\"color:cyan\"> |-Score: 0.07348094508051872</span>"
            ],
            "text/plain": [
              "<IPython.core.display.HTML object>"
            ]
          },
          "metadata": {
            "tags": []
          }
        },
        {
          "output_type": "display_data",
          "data": {
            "text/html": [
              "<span style=\"color:cyan\"> |-Best step: 0</span>"
            ],
            "text/plain": [
              "<IPython.core.display.HTML object>"
            ]
          },
          "metadata": {
            "tags": []
          }
        },
        {
          "output_type": "display_data",
          "data": {
            "text/html": [
              "<span style=\"color:#7E57C2\"><h2 style=\"font-size:16px\">Hyperparameters:</h2></span>"
            ],
            "text/plain": [
              "<IPython.core.display.HTML object>"
            ]
          },
          "metadata": {
            "tags": []
          }
        },
        {
          "output_type": "display_data",
          "data": {
            "text/html": [
              "<span style=\"color:cyan\"> |-dense_0: 32</span>"
            ],
            "text/plain": [
              "<IPython.core.display.HTML object>"
            ]
          },
          "metadata": {
            "tags": []
          }
        },
        {
          "output_type": "display_data",
          "data": {
            "text/html": [
              "<span style=\"color:blue\"> |-dense_1: 96</span>"
            ],
            "text/plain": [
              "<IPython.core.display.HTML object>"
            ]
          },
          "metadata": {
            "tags": []
          }
        },
        {
          "output_type": "display_data",
          "data": {
            "text/html": [
              "<span style=\"color:cyan\"> |-dense_2: 96</span>"
            ],
            "text/plain": [
              "<IPython.core.display.HTML object>"
            ]
          },
          "metadata": {
            "tags": []
          }
        },
        {
          "output_type": "display_data",
          "data": {
            "text/html": [
              "<span style=\"color:blue\"> |-dense_input: 96</span>"
            ],
            "text/plain": [
              "<IPython.core.display.HTML object>"
            ]
          },
          "metadata": {
            "tags": []
          }
        },
        {
          "output_type": "display_data",
          "data": {
            "text/html": [
              "<span style=\"color:cyan\"> |-drop_0: 0.1</span>"
            ],
            "text/plain": [
              "<IPython.core.display.HTML object>"
            ]
          },
          "metadata": {
            "tags": []
          }
        },
        {
          "output_type": "display_data",
          "data": {
            "text/html": [
              "<span style=\"color:blue\"> |-drop_1: 0.0</span>"
            ],
            "text/plain": [
              "<IPython.core.display.HTML object>"
            ]
          },
          "metadata": {
            "tags": []
          }
        },
        {
          "output_type": "display_data",
          "data": {
            "text/html": [
              "<span style=\"color:cyan\"> |-drop_2: 0.1</span>"
            ],
            "text/plain": [
              "<IPython.core.display.HTML object>"
            ]
          },
          "metadata": {
            "tags": []
          }
        },
        {
          "output_type": "display_data",
          "data": {
            "text/html": [
              "<span style=\"color:blue\"> |-drop_input: 0.2</span>"
            ],
            "text/plain": [
              "<IPython.core.display.HTML object>"
            ]
          },
          "metadata": {
            "tags": []
          }
        },
        {
          "output_type": "display_data",
          "data": {
            "text/html": [
              "<span style=\"color:cyan\"> |-lr: 0.00031870586096736475</span>"
            ],
            "text/plain": [
              "<IPython.core.display.HTML object>"
            ]
          },
          "metadata": {
            "tags": []
          }
        },
        {
          "output_type": "display_data",
          "data": {
            "text/html": [
              "<span style=\"color:blue\"> |-num_intermediate_layers: 2</span>"
            ],
            "text/plain": [
              "<IPython.core.display.HTML object>"
            ]
          },
          "metadata": {
            "tags": []
          }
        },
        {
          "output_type": "display_data",
          "data": {
            "text/html": [
              "<span style=\"color:cyan\"> |-tuner/bracket: 0</span>"
            ],
            "text/plain": [
              "<IPython.core.display.HTML object>"
            ]
          },
          "metadata": {
            "tags": []
          }
        },
        {
          "output_type": "display_data",
          "data": {
            "text/html": [
              "<span style=\"color:blue\"> |-tuner/epochs: 50</span>"
            ],
            "text/plain": [
              "<IPython.core.display.HTML object>"
            ]
          },
          "metadata": {
            "tags": []
          }
        },
        {
          "output_type": "display_data",
          "data": {
            "text/html": [
              "<span style=\"color:cyan\"> |-tuner/initial_epoch: 0</span>"
            ],
            "text/plain": [
              "<IPython.core.display.HTML object>"
            ]
          },
          "metadata": {
            "tags": []
          }
        },
        {
          "output_type": "display_data",
          "data": {
            "text/html": [
              "<span style=\"color:blue\"> |-tuner/round: 0</span>"
            ],
            "text/plain": [
              "<IPython.core.display.HTML object>"
            ]
          },
          "metadata": {
            "tags": []
          }
        },
        {
          "output_type": "stream",
          "text": [
            "Epoch 1/50\n",
            "13/13 [==============================] - 0s 34ms/step - loss: 1.2383 - mae: 0.8561 - val_loss: 0.0739 - val_mae: 0.2157\n",
            "Epoch 2/50\n",
            "13/13 [==============================] - 0s 16ms/step - loss: 0.8257 - mae: 0.6910 - val_loss: 0.0510 - val_mae: 0.1700\n",
            "Epoch 3/50\n",
            "13/13 [==============================] - 0s 18ms/step - loss: 0.5546 - mae: 0.5600 - val_loss: 0.0376 - val_mae: 0.1400\n",
            "Epoch 4/50\n",
            "13/13 [==============================] - 0s 14ms/step - loss: 0.5200 - mae: 0.5591 - val_loss: 0.0424 - val_mae: 0.1490\n",
            "Epoch 5/50\n",
            "13/13 [==============================] - 0s 14ms/step - loss: 0.4076 - mae: 0.4899 - val_loss: 0.0392 - val_mae: 0.1407\n",
            "Epoch 6/50\n",
            "13/13 [==============================] - 0s 13ms/step - loss: 0.3899 - mae: 0.4787 - val_loss: 0.0440 - val_mae: 0.1543\n",
            "Epoch 7/50\n",
            "13/13 [==============================] - 0s 13ms/step - loss: 0.4350 - mae: 0.5045 - val_loss: 0.0392 - val_mae: 0.1425\n",
            "Epoch 8/50\n",
            "13/13 [==============================] - 0s 13ms/step - loss: 0.3927 - mae: 0.4662 - val_loss: 0.0438 - val_mae: 0.1550\n",
            "Epoch 1/50\n",
            "13/13 [==============================] - 0s 32ms/step - loss: 1.5478 - mae: 0.9155 - val_loss: 0.1469 - val_mae: 0.3355\n",
            "Epoch 2/50\n",
            "13/13 [==============================] - 0s 12ms/step - loss: 0.9853 - mae: 0.7558 - val_loss: 0.0705 - val_mae: 0.2083\n",
            "Epoch 3/50\n",
            "13/13 [==============================] - 0s 13ms/step - loss: 0.5942 - mae: 0.5847 - val_loss: 0.0435 - val_mae: 0.1506\n",
            "Epoch 4/50\n",
            "13/13 [==============================] - 0s 20ms/step - loss: 0.5129 - mae: 0.5561 - val_loss: 0.0360 - val_mae: 0.1395\n",
            "Epoch 5/50\n",
            "13/13 [==============================] - 0s 23ms/step - loss: 0.5957 - mae: 0.5791 - val_loss: 0.0338 - val_mae: 0.1301\n",
            "Epoch 6/50\n",
            "13/13 [==============================] - 0s 14ms/step - loss: 0.4564 - mae: 0.5000 - val_loss: 0.0433 - val_mae: 0.1527\n",
            "Epoch 7/50\n",
            "13/13 [==============================] - 0s 12ms/step - loss: 0.4489 - mae: 0.5172 - val_loss: 0.0534 - val_mae: 0.1785\n",
            "Epoch 8/50\n",
            "13/13 [==============================] - 0s 12ms/step - loss: 0.3758 - mae: 0.4614 - val_loss: 0.0448 - val_mae: 0.1586\n",
            "Epoch 9/50\n",
            "13/13 [==============================] - 0s 13ms/step - loss: 0.3938 - mae: 0.4941 - val_loss: 0.0370 - val_mae: 0.1389\n",
            "Epoch 10/50\n",
            "13/13 [==============================] - 0s 14ms/step - loss: 0.3794 - mae: 0.4552 - val_loss: 0.0367 - val_mae: 0.1366\n"
          ],
          "name": "stdout"
        },
        {
          "output_type": "display_data",
          "data": {
            "text/html": [
              "<span style=\"color:#4527A0\"><h1 style=\"font-size:18px\">Trial complete</h1></span>"
            ],
            "text/plain": [
              "<IPython.core.display.HTML object>"
            ]
          },
          "metadata": {
            "tags": []
          }
        },
        {
          "output_type": "display_data",
          "data": {
            "text/html": [
              "<span style=\"color:#4527A0\"><h1 style=\"font-size:18px\">Trial summary</h1></span>"
            ],
            "text/plain": [
              "<IPython.core.display.HTML object>"
            ]
          },
          "metadata": {
            "tags": []
          }
        },
        {
          "output_type": "display_data",
          "data": {
            "text/html": [
              "<span style=\"color:cyan\"> |-Trial ID: a4569ca528cfcd581049988d2ed03324</span>"
            ],
            "text/plain": [
              "<IPython.core.display.HTML object>"
            ]
          },
          "metadata": {
            "tags": []
          }
        },
        {
          "output_type": "display_data",
          "data": {
            "text/html": [
              "<span style=\"color:cyan\"> |-Score: 0.1350494921207428</span>"
            ],
            "text/plain": [
              "<IPython.core.display.HTML object>"
            ]
          },
          "metadata": {
            "tags": []
          }
        },
        {
          "output_type": "display_data",
          "data": {
            "text/html": [
              "<span style=\"color:cyan\"> |-Best step: 0</span>"
            ],
            "text/plain": [
              "<IPython.core.display.HTML object>"
            ]
          },
          "metadata": {
            "tags": []
          }
        },
        {
          "output_type": "display_data",
          "data": {
            "text/html": [
              "<span style=\"color:#7E57C2\"><h2 style=\"font-size:16px\">Hyperparameters:</h2></span>"
            ],
            "text/plain": [
              "<IPython.core.display.HTML object>"
            ]
          },
          "metadata": {
            "tags": []
          }
        },
        {
          "output_type": "display_data",
          "data": {
            "text/html": [
              "<span style=\"color:cyan\"> |-dense_0: 96</span>"
            ],
            "text/plain": [
              "<IPython.core.display.HTML object>"
            ]
          },
          "metadata": {
            "tags": []
          }
        },
        {
          "output_type": "display_data",
          "data": {
            "text/html": [
              "<span style=\"color:blue\"> |-dense_1: 96</span>"
            ],
            "text/plain": [
              "<IPython.core.display.HTML object>"
            ]
          },
          "metadata": {
            "tags": []
          }
        },
        {
          "output_type": "display_data",
          "data": {
            "text/html": [
              "<span style=\"color:cyan\"> |-dense_2: 96</span>"
            ],
            "text/plain": [
              "<IPython.core.display.HTML object>"
            ]
          },
          "metadata": {
            "tags": []
          }
        },
        {
          "output_type": "display_data",
          "data": {
            "text/html": [
              "<span style=\"color:blue\"> |-dense_input: 128</span>"
            ],
            "text/plain": [
              "<IPython.core.display.HTML object>"
            ]
          },
          "metadata": {
            "tags": []
          }
        },
        {
          "output_type": "display_data",
          "data": {
            "text/html": [
              "<span style=\"color:cyan\"> |-drop_0: 0.30000000000000004</span>"
            ],
            "text/plain": [
              "<IPython.core.display.HTML object>"
            ]
          },
          "metadata": {
            "tags": []
          }
        },
        {
          "output_type": "display_data",
          "data": {
            "text/html": [
              "<span style=\"color:blue\"> |-drop_1: 0.2</span>"
            ],
            "text/plain": [
              "<IPython.core.display.HTML object>"
            ]
          },
          "metadata": {
            "tags": []
          }
        },
        {
          "output_type": "display_data",
          "data": {
            "text/html": [
              "<span style=\"color:cyan\"> |-drop_2: 0.30000000000000004</span>"
            ],
            "text/plain": [
              "<IPython.core.display.HTML object>"
            ]
          },
          "metadata": {
            "tags": []
          }
        },
        {
          "output_type": "display_data",
          "data": {
            "text/html": [
              "<span style=\"color:blue\"> |-drop_input: 0.30000000000000004</span>"
            ],
            "text/plain": [
              "<IPython.core.display.HTML object>"
            ]
          },
          "metadata": {
            "tags": []
          }
        },
        {
          "output_type": "display_data",
          "data": {
            "text/html": [
              "<span style=\"color:cyan\"> |-lr: 0.00119647438591341</span>"
            ],
            "text/plain": [
              "<IPython.core.display.HTML object>"
            ]
          },
          "metadata": {
            "tags": []
          }
        },
        {
          "output_type": "display_data",
          "data": {
            "text/html": [
              "<span style=\"color:blue\"> |-num_intermediate_layers: 2</span>"
            ],
            "text/plain": [
              "<IPython.core.display.HTML object>"
            ]
          },
          "metadata": {
            "tags": []
          }
        },
        {
          "output_type": "display_data",
          "data": {
            "text/html": [
              "<span style=\"color:cyan\"> |-tuner/bracket: 0</span>"
            ],
            "text/plain": [
              "<IPython.core.display.HTML object>"
            ]
          },
          "metadata": {
            "tags": []
          }
        },
        {
          "output_type": "display_data",
          "data": {
            "text/html": [
              "<span style=\"color:blue\"> |-tuner/epochs: 50</span>"
            ],
            "text/plain": [
              "<IPython.core.display.HTML object>"
            ]
          },
          "metadata": {
            "tags": []
          }
        },
        {
          "output_type": "display_data",
          "data": {
            "text/html": [
              "<span style=\"color:cyan\"> |-tuner/initial_epoch: 0</span>"
            ],
            "text/plain": [
              "<IPython.core.display.HTML object>"
            ]
          },
          "metadata": {
            "tags": []
          }
        },
        {
          "output_type": "display_data",
          "data": {
            "text/html": [
              "<span style=\"color:blue\"> |-tuner/round: 0</span>"
            ],
            "text/plain": [
              "<IPython.core.display.HTML object>"
            ]
          },
          "metadata": {
            "tags": []
          }
        },
        {
          "output_type": "stream",
          "text": [
            "Epoch 1/50\n",
            "13/13 [==============================] - 0s 27ms/step - loss: 2.7275 - mae: 1.2400 - val_loss: 0.4325 - val_mae: 0.6278\n",
            "Epoch 2/50\n",
            "13/13 [==============================] - 0s 12ms/step - loss: 1.8626 - mae: 1.0282 - val_loss: 0.2866 - val_mae: 0.4997\n",
            "Epoch 3/50\n",
            "13/13 [==============================] - 0s 12ms/step - loss: 1.7978 - mae: 1.0037 - val_loss: 0.1906 - val_mae: 0.3938\n",
            "Epoch 4/50\n",
            "13/13 [==============================] - 0s 12ms/step - loss: 1.4320 - mae: 0.8759 - val_loss: 0.1352 - val_mae: 0.3190\n",
            "Epoch 5/50\n",
            "13/13 [==============================] - 0s 12ms/step - loss: 1.2084 - mae: 0.8240 - val_loss: 0.1049 - val_mae: 0.2703\n",
            "Epoch 6/50\n",
            "13/13 [==============================] - 0s 12ms/step - loss: 0.9675 - mae: 0.7552 - val_loss: 0.0834 - val_mae: 0.2318\n",
            "Epoch 7/50\n",
            "13/13 [==============================] - 0s 12ms/step - loss: 0.9564 - mae: 0.7589 - val_loss: 0.0690 - val_mae: 0.2027\n",
            "Epoch 8/50\n",
            "13/13 [==============================] - 0s 12ms/step - loss: 1.0675 - mae: 0.7916 - val_loss: 0.0551 - val_mae: 0.1736\n",
            "Epoch 9/50\n",
            "13/13 [==============================] - 0s 12ms/step - loss: 1.0853 - mae: 0.7882 - val_loss: 0.0470 - val_mae: 0.1559\n",
            "Epoch 10/50\n",
            "13/13 [==============================] - 0s 12ms/step - loss: 0.9511 - mae: 0.7369 - val_loss: 0.0417 - val_mae: 0.1467\n",
            "Epoch 11/50\n",
            "13/13 [==============================] - 0s 12ms/step - loss: 0.7835 - mae: 0.6856 - val_loss: 0.0412 - val_mae: 0.1454\n",
            "Epoch 12/50\n",
            "13/13 [==============================] - 0s 13ms/step - loss: 0.7621 - mae: 0.6659 - val_loss: 0.0397 - val_mae: 0.1402\n",
            "Epoch 13/50\n",
            "13/13 [==============================] - 0s 11ms/step - loss: 0.8336 - mae: 0.7102 - val_loss: 0.0409 - val_mae: 0.1433\n",
            "Epoch 14/50\n",
            "13/13 [==============================] - 0s 10ms/step - loss: 0.7428 - mae: 0.6640 - val_loss: 0.0417 - val_mae: 0.1448\n",
            "Epoch 15/50\n",
            "13/13 [==============================] - 0s 12ms/step - loss: 0.8285 - mae: 0.6818 - val_loss: 0.0349 - val_mae: 0.1302\n",
            "Epoch 16/50\n",
            "13/13 [==============================] - 0s 19ms/step - loss: 0.7822 - mae: 0.6909 - val_loss: 0.0328 - val_mae: 0.1279\n",
            "Epoch 17/50\n",
            "13/13 [==============================] - 0s 19ms/step - loss: 0.9211 - mae: 0.7091 - val_loss: 0.0306 - val_mae: 0.1220\n",
            "Epoch 18/50\n",
            "13/13 [==============================] - 0s 10ms/step - loss: 0.6398 - mae: 0.6303 - val_loss: 0.0343 - val_mae: 0.1302\n",
            "Epoch 19/50\n",
            "13/13 [==============================] - 0s 10ms/step - loss: 0.7566 - mae: 0.6544 - val_loss: 0.0352 - val_mae: 0.1332\n",
            "Epoch 20/50\n",
            "13/13 [==============================] - 0s 10ms/step - loss: 0.6835 - mae: 0.6277 - val_loss: 0.0335 - val_mae: 0.1291\n",
            "Epoch 21/50\n",
            "13/13 [==============================] - 0s 10ms/step - loss: 0.6817 - mae: 0.6235 - val_loss: 0.0330 - val_mae: 0.1270\n",
            "Epoch 22/50\n",
            "13/13 [==============================] - 0s 11ms/step - loss: 0.6929 - mae: 0.6406 - val_loss: 0.0268 - val_mae: 0.1168\n",
            "Epoch 23/50\n",
            "13/13 [==============================] - 0s 10ms/step - loss: 0.7055 - mae: 0.6254 - val_loss: 0.0283 - val_mae: 0.1201\n",
            "Epoch 24/50\n",
            "13/13 [==============================] - 0s 10ms/step - loss: 0.7050 - mae: 0.6218 - val_loss: 0.0278 - val_mae: 0.1206\n",
            "Epoch 25/50\n",
            "13/13 [==============================] - 0s 10ms/step - loss: 0.7510 - mae: 0.6518 - val_loss: 0.0273 - val_mae: 0.1178\n",
            "Epoch 26/50\n",
            "13/13 [==============================] - 0s 10ms/step - loss: 0.6351 - mae: 0.6146 - val_loss: 0.0268 - val_mae: 0.1169\n",
            "Epoch 27/50\n",
            "13/13 [==============================] - 0s 12ms/step - loss: 0.6516 - mae: 0.6017 - val_loss: 0.0274 - val_mae: 0.1221\n",
            "Epoch 1/50\n",
            "13/13 [==============================] - 0s 25ms/step - loss: 2.0010 - mae: 1.0913 - val_loss: 0.2406 - val_mae: 0.4555\n",
            "Epoch 2/50\n",
            "13/13 [==============================] - 0s 10ms/step - loss: 1.7388 - mae: 1.0161 - val_loss: 0.2100 - val_mae: 0.4267\n",
            "Epoch 3/50\n",
            "13/13 [==============================] - 0s 10ms/step - loss: 1.1599 - mae: 0.8521 - val_loss: 0.1841 - val_mae: 0.3973\n",
            "Epoch 4/50\n",
            "13/13 [==============================] - 0s 11ms/step - loss: 1.4213 - mae: 0.9133 - val_loss: 0.1553 - val_mae: 0.3568\n",
            "Epoch 5/50\n",
            "13/13 [==============================] - 0s 10ms/step - loss: 1.0121 - mae: 0.7736 - val_loss: 0.1411 - val_mae: 0.3353\n",
            "Epoch 6/50\n",
            "13/13 [==============================] - 0s 10ms/step - loss: 1.0293 - mae: 0.7835 - val_loss: 0.1416 - val_mae: 0.3353\n",
            "Epoch 7/50\n",
            "13/13 [==============================] - 0s 11ms/step - loss: 0.8738 - mae: 0.7454 - val_loss: 0.1301 - val_mae: 0.3146\n",
            "Epoch 8/50\n",
            "13/13 [==============================] - 0s 10ms/step - loss: 0.9156 - mae: 0.7510 - val_loss: 0.1262 - val_mae: 0.3116\n",
            "Epoch 9/50\n",
            "13/13 [==============================] - 0s 11ms/step - loss: 0.9332 - mae: 0.7400 - val_loss: 0.1137 - val_mae: 0.2915\n",
            "Epoch 10/50\n",
            "13/13 [==============================] - 0s 10ms/step - loss: 0.8851 - mae: 0.7293 - val_loss: 0.1087 - val_mae: 0.2860\n",
            "Epoch 11/50\n",
            "13/13 [==============================] - 0s 10ms/step - loss: 0.8051 - mae: 0.6782 - val_loss: 0.1019 - val_mae: 0.2805\n",
            "Epoch 12/50\n",
            "13/13 [==============================] - 0s 10ms/step - loss: 0.7433 - mae: 0.6727 - val_loss: 0.0903 - val_mae: 0.2586\n",
            "Epoch 13/50\n",
            "13/13 [==============================] - 0s 10ms/step - loss: 0.7614 - mae: 0.6711 - val_loss: 0.0793 - val_mae: 0.2405\n",
            "Epoch 14/50\n",
            "13/13 [==============================] - 0s 14ms/step - loss: 0.7463 - mae: 0.6652 - val_loss: 0.0693 - val_mae: 0.2163\n",
            "Epoch 15/50\n",
            "13/13 [==============================] - 0s 15ms/step - loss: 0.8620 - mae: 0.7096 - val_loss: 0.0672 - val_mae: 0.2101\n",
            "Epoch 16/50\n",
            "13/13 [==============================] - 0s 16ms/step - loss: 0.8610 - mae: 0.7020 - val_loss: 0.0687 - val_mae: 0.2102\n",
            "Epoch 17/50\n",
            "13/13 [==============================] - 0s 13ms/step - loss: 0.6820 - mae: 0.6422 - val_loss: 0.0538 - val_mae: 0.1824\n",
            "Epoch 18/50\n",
            "13/13 [==============================] - 0s 10ms/step - loss: 0.7344 - mae: 0.6512 - val_loss: 0.0455 - val_mae: 0.1646\n",
            "Epoch 19/50\n",
            "13/13 [==============================] - 0s 11ms/step - loss: 0.7667 - mae: 0.6651 - val_loss: 0.0419 - val_mae: 0.1599\n",
            "Epoch 20/50\n",
            "13/13 [==============================] - 0s 10ms/step - loss: 0.7753 - mae: 0.6646 - val_loss: 0.0430 - val_mae: 0.1650\n",
            "Epoch 21/50\n",
            "13/13 [==============================] - 0s 10ms/step - loss: 0.6759 - mae: 0.6289 - val_loss: 0.0467 - val_mae: 0.1715\n",
            "Epoch 22/50\n",
            "13/13 [==============================] - 0s 9ms/step - loss: 0.7005 - mae: 0.6400 - val_loss: 0.0444 - val_mae: 0.1657\n",
            "Epoch 23/50\n",
            "13/13 [==============================] - 0s 11ms/step - loss: 0.6923 - mae: 0.6236 - val_loss: 0.0370 - val_mae: 0.1481\n",
            "Epoch 24/50\n",
            "13/13 [==============================] - 0s 10ms/step - loss: 0.6441 - mae: 0.6235 - val_loss: 0.0317 - val_mae: 0.1381\n",
            "Epoch 25/50\n",
            "13/13 [==============================] - 0s 11ms/step - loss: 0.6683 - mae: 0.6232 - val_loss: 0.0289 - val_mae: 0.1255\n",
            "Epoch 26/50\n",
            "13/13 [==============================] - 0s 10ms/step - loss: 0.7131 - mae: 0.6602 - val_loss: 0.0321 - val_mae: 0.1368\n",
            "Epoch 27/50\n",
            "13/13 [==============================] - 0s 11ms/step - loss: 0.5956 - mae: 0.5931 - val_loss: 0.0257 - val_mae: 0.1212\n",
            "Epoch 28/50\n",
            "13/13 [==============================] - 0s 10ms/step - loss: 0.6422 - mae: 0.5945 - val_loss: 0.0272 - val_mae: 0.1288\n",
            "Epoch 29/50\n",
            "13/13 [==============================] - 0s 12ms/step - loss: 0.6108 - mae: 0.5933 - val_loss: 0.0276 - val_mae: 0.1307\n",
            "Epoch 30/50\n",
            "13/13 [==============================] - 0s 12ms/step - loss: 0.7614 - mae: 0.6621 - val_loss: 0.0204 - val_mae: 0.1064\n",
            "Epoch 31/50\n",
            "13/13 [==============================] - 0s 10ms/step - loss: 0.5498 - mae: 0.5769 - val_loss: 0.0219 - val_mae: 0.1107\n",
            "Epoch 32/50\n",
            "13/13 [==============================] - 0s 12ms/step - loss: 0.6705 - mae: 0.6270 - val_loss: 0.0311 - val_mae: 0.1370\n",
            "Epoch 33/50\n",
            "13/13 [==============================] - 0s 11ms/step - loss: 0.6173 - mae: 0.6143 - val_loss: 0.0254 - val_mae: 0.1239\n",
            "Epoch 34/50\n",
            "13/13 [==============================] - 0s 11ms/step - loss: 0.5101 - mae: 0.5597 - val_loss: 0.0239 - val_mae: 0.1175\n",
            "Epoch 35/50\n",
            "13/13 [==============================] - 0s 11ms/step - loss: 0.6711 - mae: 0.6292 - val_loss: 0.0236 - val_mae: 0.1157\n"
          ],
          "name": "stdout"
        },
        {
          "output_type": "display_data",
          "data": {
            "text/html": [
              "<span style=\"color:#4527A0\"><h1 style=\"font-size:18px\">Trial complete</h1></span>"
            ],
            "text/plain": [
              "<IPython.core.display.HTML object>"
            ]
          },
          "metadata": {
            "tags": []
          }
        },
        {
          "output_type": "display_data",
          "data": {
            "text/html": [
              "<span style=\"color:#4527A0\"><h1 style=\"font-size:18px\">Trial summary</h1></span>"
            ],
            "text/plain": [
              "<IPython.core.display.HTML object>"
            ]
          },
          "metadata": {
            "tags": []
          }
        },
        {
          "output_type": "display_data",
          "data": {
            "text/html": [
              "<span style=\"color:cyan\"> |-Trial ID: a54e1b24bd4f3f0350d4a0269e68bc2f</span>"
            ],
            "text/plain": [
              "<IPython.core.display.HTML object>"
            ]
          },
          "metadata": {
            "tags": []
          }
        },
        {
          "output_type": "display_data",
          "data": {
            "text/html": [
              "<span style=\"color:cyan\"> |-Score: 0.11157998070120811</span>"
            ],
            "text/plain": [
              "<IPython.core.display.HTML object>"
            ]
          },
          "metadata": {
            "tags": []
          }
        },
        {
          "output_type": "display_data",
          "data": {
            "text/html": [
              "<span style=\"color:cyan\"> |-Best step: 0</span>"
            ],
            "text/plain": [
              "<IPython.core.display.HTML object>"
            ]
          },
          "metadata": {
            "tags": []
          }
        },
        {
          "output_type": "display_data",
          "data": {
            "text/html": [
              "<span style=\"color:#7E57C2\"><h2 style=\"font-size:16px\">Hyperparameters:</h2></span>"
            ],
            "text/plain": [
              "<IPython.core.display.HTML object>"
            ]
          },
          "metadata": {
            "tags": []
          }
        },
        {
          "output_type": "display_data",
          "data": {
            "text/html": [
              "<span style=\"color:cyan\"> |-dense_0: 128</span>"
            ],
            "text/plain": [
              "<IPython.core.display.HTML object>"
            ]
          },
          "metadata": {
            "tags": []
          }
        },
        {
          "output_type": "display_data",
          "data": {
            "text/html": [
              "<span style=\"color:blue\"> |-dense_1: 96</span>"
            ],
            "text/plain": [
              "<IPython.core.display.HTML object>"
            ]
          },
          "metadata": {
            "tags": []
          }
        },
        {
          "output_type": "display_data",
          "data": {
            "text/html": [
              "<span style=\"color:cyan\"> |-dense_2: 128</span>"
            ],
            "text/plain": [
              "<IPython.core.display.HTML object>"
            ]
          },
          "metadata": {
            "tags": []
          }
        },
        {
          "output_type": "display_data",
          "data": {
            "text/html": [
              "<span style=\"color:blue\"> |-dense_input: 32</span>"
            ],
            "text/plain": [
              "<IPython.core.display.HTML object>"
            ]
          },
          "metadata": {
            "tags": []
          }
        },
        {
          "output_type": "display_data",
          "data": {
            "text/html": [
              "<span style=\"color:cyan\"> |-drop_0: 0.30000000000000004</span>"
            ],
            "text/plain": [
              "<IPython.core.display.HTML object>"
            ]
          },
          "metadata": {
            "tags": []
          }
        },
        {
          "output_type": "display_data",
          "data": {
            "text/html": [
              "<span style=\"color:blue\"> |-drop_1: 0.0</span>"
            ],
            "text/plain": [
              "<IPython.core.display.HTML object>"
            ]
          },
          "metadata": {
            "tags": []
          }
        },
        {
          "output_type": "display_data",
          "data": {
            "text/html": [
              "<span style=\"color:cyan\"> |-drop_2: 0.1</span>"
            ],
            "text/plain": [
              "<IPython.core.display.HTML object>"
            ]
          },
          "metadata": {
            "tags": []
          }
        },
        {
          "output_type": "display_data",
          "data": {
            "text/html": [
              "<span style=\"color:blue\"> |-drop_input: 0.30000000000000004</span>"
            ],
            "text/plain": [
              "<IPython.core.display.HTML object>"
            ]
          },
          "metadata": {
            "tags": []
          }
        },
        {
          "output_type": "display_data",
          "data": {
            "text/html": [
              "<span style=\"color:cyan\"> |-lr: 0.00024650798442793145</span>"
            ],
            "text/plain": [
              "<IPython.core.display.HTML object>"
            ]
          },
          "metadata": {
            "tags": []
          }
        },
        {
          "output_type": "display_data",
          "data": {
            "text/html": [
              "<span style=\"color:blue\"> |-num_intermediate_layers: 1</span>"
            ],
            "text/plain": [
              "<IPython.core.display.HTML object>"
            ]
          },
          "metadata": {
            "tags": []
          }
        },
        {
          "output_type": "display_data",
          "data": {
            "text/html": [
              "<span style=\"color:cyan\"> |-tuner/bracket: 0</span>"
            ],
            "text/plain": [
              "<IPython.core.display.HTML object>"
            ]
          },
          "metadata": {
            "tags": []
          }
        },
        {
          "output_type": "display_data",
          "data": {
            "text/html": [
              "<span style=\"color:blue\"> |-tuner/epochs: 50</span>"
            ],
            "text/plain": [
              "<IPython.core.display.HTML object>"
            ]
          },
          "metadata": {
            "tags": []
          }
        },
        {
          "output_type": "display_data",
          "data": {
            "text/html": [
              "<span style=\"color:cyan\"> |-tuner/initial_epoch: 0</span>"
            ],
            "text/plain": [
              "<IPython.core.display.HTML object>"
            ]
          },
          "metadata": {
            "tags": []
          }
        },
        {
          "output_type": "display_data",
          "data": {
            "text/html": [
              "<span style=\"color:blue\"> |-tuner/round: 0</span>"
            ],
            "text/plain": [
              "<IPython.core.display.HTML object>"
            ]
          },
          "metadata": {
            "tags": []
          }
        },
        {
          "output_type": "stream",
          "text": [
            "Epoch 1/50\n",
            "13/13 [==============================] - 0s 29ms/step - loss: 0.9518 - mae: 0.7205 - val_loss: 0.0425 - val_mae: 0.1558\n",
            "Epoch 2/50\n",
            "13/13 [==============================] - 0s 11ms/step - loss: 0.4129 - mae: 0.4694 - val_loss: 0.0481 - val_mae: 0.1676\n",
            "Epoch 3/50\n",
            "13/13 [==============================] - 0s 11ms/step - loss: 0.3045 - mae: 0.4006 - val_loss: 0.0538 - val_mae: 0.1800\n",
            "Epoch 4/50\n",
            "13/13 [==============================] - 0s 17ms/step - loss: 0.1986 - mae: 0.3400 - val_loss: 0.0390 - val_mae: 0.1462\n",
            "Epoch 5/50\n",
            "13/13 [==============================] - 0s 13ms/step - loss: 0.2127 - mae: 0.3362 - val_loss: 0.0426 - val_mae: 0.1556\n",
            "Epoch 6/50\n",
            "13/13 [==============================] - 0s 18ms/step - loss: 0.1999 - mae: 0.3332 - val_loss: 0.0357 - val_mae: 0.1387\n",
            "Epoch 7/50\n",
            "13/13 [==============================] - 0s 14ms/step - loss: 0.1391 - mae: 0.2806 - val_loss: 0.0359 - val_mae: 0.1379\n",
            "Epoch 8/50\n",
            "13/13 [==============================] - 0s 12ms/step - loss: 0.1298 - mae: 0.2660 - val_loss: 0.0457 - val_mae: 0.1587\n",
            "Epoch 9/50\n",
            "13/13 [==============================] - 0s 14ms/step - loss: 0.1357 - mae: 0.2816 - val_loss: 0.0304 - val_mae: 0.1223\n",
            "Epoch 10/50\n",
            "13/13 [==============================] - 0s 11ms/step - loss: 0.1158 - mae: 0.2484 - val_loss: 0.0363 - val_mae: 0.1444\n",
            "Epoch 11/50\n",
            "13/13 [==============================] - 0s 11ms/step - loss: 0.0778 - mae: 0.2090 - val_loss: 0.0395 - val_mae: 0.1482\n",
            "Epoch 12/50\n",
            "13/13 [==============================] - 0s 11ms/step - loss: 0.1046 - mae: 0.2398 - val_loss: 0.0351 - val_mae: 0.1384\n",
            "Epoch 13/50\n",
            "13/13 [==============================] - 0s 14ms/step - loss: 0.0873 - mae: 0.2200 - val_loss: 0.0290 - val_mae: 0.1197\n",
            "Epoch 14/50\n",
            "13/13 [==============================] - 0s 12ms/step - loss: 0.0781 - mae: 0.2079 - val_loss: 0.0294 - val_mae: 0.1198\n",
            "Epoch 15/50\n",
            "13/13 [==============================] - 0s 14ms/step - loss: 0.0680 - mae: 0.2006 - val_loss: 0.0261 - val_mae: 0.1135\n",
            "Epoch 16/50\n",
            "13/13 [==============================] - 0s 12ms/step - loss: 0.0649 - mae: 0.1942 - val_loss: 0.0450 - val_mae: 0.1632\n",
            "Epoch 17/50\n",
            "13/13 [==============================] - 0s 11ms/step - loss: 0.0714 - mae: 0.2001 - val_loss: 0.0338 - val_mae: 0.1422\n",
            "Epoch 18/50\n",
            "13/13 [==============================] - 0s 12ms/step - loss: 0.0542 - mae: 0.1797 - val_loss: 0.0251 - val_mae: 0.1137\n",
            "Epoch 19/50\n",
            "13/13 [==============================] - 0s 11ms/step - loss: 0.0508 - mae: 0.1719 - val_loss: 0.0267 - val_mae: 0.1161\n",
            "Epoch 20/50\n",
            "13/13 [==============================] - 0s 12ms/step - loss: 0.0415 - mae: 0.1552 - val_loss: 0.0289 - val_mae: 0.1236\n",
            "Epoch 21/50\n",
            "13/13 [==============================] - 0s 14ms/step - loss: 0.0436 - mae: 0.1527 - val_loss: 0.0219 - val_mae: 0.1075\n",
            "Epoch 22/50\n",
            "13/13 [==============================] - 0s 12ms/step - loss: 0.0411 - mae: 0.1540 - val_loss: 0.0282 - val_mae: 0.1200\n",
            "Epoch 23/50\n",
            "13/13 [==============================] - 0s 11ms/step - loss: 0.0511 - mae: 0.1650 - val_loss: 0.0305 - val_mae: 0.1341\n",
            "Epoch 24/50\n",
            "13/13 [==============================] - 0s 11ms/step - loss: 0.0378 - mae: 0.1459 - val_loss: 0.0275 - val_mae: 0.1302\n",
            "Epoch 25/50\n",
            "13/13 [==============================] - 0s 14ms/step - loss: 0.0378 - mae: 0.1441 - val_loss: 0.0208 - val_mae: 0.1052\n",
            "Epoch 26/50\n",
            "13/13 [==============================] - 0s 13ms/step - loss: 0.0322 - mae: 0.1356 - val_loss: 0.0134 - val_mae: 0.0833\n",
            "Epoch 27/50\n",
            "13/13 [==============================] - 0s 11ms/step - loss: 0.0348 - mae: 0.1399 - val_loss: 0.0197 - val_mae: 0.1036\n",
            "Epoch 28/50\n",
            "13/13 [==============================] - 0s 11ms/step - loss: 0.0360 - mae: 0.1441 - val_loss: 0.0278 - val_mae: 0.1326\n",
            "Epoch 29/50\n",
            "13/13 [==============================] - 0s 11ms/step - loss: 0.0273 - mae: 0.1228 - val_loss: 0.0144 - val_mae: 0.0836\n",
            "Epoch 30/50\n",
            "13/13 [==============================] - 0s 13ms/step - loss: 0.0278 - mae: 0.1205 - val_loss: 0.0123 - val_mae: 0.0782\n",
            "Epoch 31/50\n",
            "13/13 [==============================] - 0s 14ms/step - loss: 0.0277 - mae: 0.1234 - val_loss: 0.0107 - val_mae: 0.0738\n",
            "Epoch 32/50\n",
            "13/13 [==============================] - 0s 13ms/step - loss: 0.0271 - mae: 0.1225 - val_loss: 0.0083 - val_mae: 0.0670\n",
            "Epoch 33/50\n",
            "13/13 [==============================] - 0s 11ms/step - loss: 0.0225 - mae: 0.1093 - val_loss: 0.0091 - val_mae: 0.0680\n",
            "Epoch 34/50\n",
            "13/13 [==============================] - 0s 14ms/step - loss: 0.0248 - mae: 0.1133 - val_loss: 0.0124 - val_mae: 0.0776\n",
            "Epoch 35/50\n",
            "13/13 [==============================] - 0s 16ms/step - loss: 0.0228 - mae: 0.1110 - val_loss: 0.0110 - val_mae: 0.0765\n",
            "Epoch 36/50\n",
            "13/13 [==============================] - 0s 16ms/step - loss: 0.0158 - mae: 0.0941 - val_loss: 0.0091 - val_mae: 0.0695\n",
            "Epoch 37/50\n",
            "13/13 [==============================] - 0s 15ms/step - loss: 0.0165 - mae: 0.0983 - val_loss: 0.0087 - val_mae: 0.0664\n",
            "Epoch 1/50\n",
            "13/13 [==============================] - 0s 24ms/step - loss: 1.0472 - mae: 0.7513 - val_loss: 0.0495 - val_mae: 0.1643\n",
            "Epoch 2/50\n",
            "13/13 [==============================] - 0s 10ms/step - loss: 0.5224 - mae: 0.5456 - val_loss: 0.0570 - val_mae: 0.1792\n",
            "Epoch 3/50\n",
            "13/13 [==============================] - 0s 12ms/step - loss: 0.3162 - mae: 0.4269 - val_loss: 0.0532 - val_mae: 0.1732\n",
            "Epoch 4/50\n",
            "13/13 [==============================] - 0s 10ms/step - loss: 0.2333 - mae: 0.3739 - val_loss: 0.0399 - val_mae: 0.1579\n",
            "Epoch 5/50\n",
            "13/13 [==============================] - 0s 10ms/step - loss: 0.2553 - mae: 0.3880 - val_loss: 0.0393 - val_mae: 0.1448\n",
            "Epoch 6/50\n",
            "13/13 [==============================] - 0s 10ms/step - loss: 0.1811 - mae: 0.3219 - val_loss: 0.0351 - val_mae: 0.1397\n",
            "Epoch 7/50\n",
            "13/13 [==============================] - 0s 10ms/step - loss: 0.1837 - mae: 0.3180 - val_loss: 0.0308 - val_mae: 0.1268\n",
            "Epoch 8/50\n",
            "13/13 [==============================] - 0s 10ms/step - loss: 0.1689 - mae: 0.3107 - val_loss: 0.0433 - val_mae: 0.1567\n",
            "Epoch 9/50\n",
            "13/13 [==============================] - 0s 11ms/step - loss: 0.1598 - mae: 0.2977 - val_loss: 0.0351 - val_mae: 0.1350\n",
            "Epoch 10/50\n",
            "13/13 [==============================] - 0s 11ms/step - loss: 0.1063 - mae: 0.2523 - val_loss: 0.0371 - val_mae: 0.1429\n",
            "Epoch 11/50\n",
            "13/13 [==============================] - 0s 10ms/step - loss: 0.1166 - mae: 0.2563 - val_loss: 0.0306 - val_mae: 0.1248\n",
            "Epoch 12/50\n",
            "13/13 [==============================] - 0s 10ms/step - loss: 0.1039 - mae: 0.2396 - val_loss: 0.0305 - val_mae: 0.1223\n",
            "Epoch 13/50\n",
            "13/13 [==============================] - 0s 10ms/step - loss: 0.1130 - mae: 0.2592 - val_loss: 0.0253 - val_mae: 0.1133\n",
            "Epoch 14/50\n",
            "13/13 [==============================] - 0s 10ms/step - loss: 0.0900 - mae: 0.2258 - val_loss: 0.0253 - val_mae: 0.1139\n",
            "Epoch 15/50\n",
            "13/13 [==============================] - 0s 10ms/step - loss: 0.0718 - mae: 0.2049 - val_loss: 0.0336 - val_mae: 0.1358\n",
            "Epoch 16/50\n",
            "13/13 [==============================] - 0s 10ms/step - loss: 0.0921 - mae: 0.2331 - val_loss: 0.0213 - val_mae: 0.1035\n",
            "Epoch 17/50\n",
            "13/13 [==============================] - 0s 9ms/step - loss: 0.0804 - mae: 0.2188 - val_loss: 0.0207 - val_mae: 0.0994\n",
            "Epoch 18/50\n",
            "13/13 [==============================] - 0s 11ms/step - loss: 0.0725 - mae: 0.2061 - val_loss: 0.0227 - val_mae: 0.1013\n",
            "Epoch 19/50\n",
            "13/13 [==============================] - 0s 10ms/step - loss: 0.0744 - mae: 0.2092 - val_loss: 0.0241 - val_mae: 0.1124\n",
            "Epoch 20/50\n",
            "13/13 [==============================] - 0s 10ms/step - loss: 0.0525 - mae: 0.1684 - val_loss: 0.0227 - val_mae: 0.1041\n",
            "Epoch 21/50\n",
            "13/13 [==============================] - 0s 10ms/step - loss: 0.0510 - mae: 0.1714 - val_loss: 0.0297 - val_mae: 0.1305\n",
            "Epoch 22/50\n",
            "13/13 [==============================] - 0s 10ms/step - loss: 0.0513 - mae: 0.1730 - val_loss: 0.0216 - val_mae: 0.1023\n"
          ],
          "name": "stdout"
        },
        {
          "output_type": "display_data",
          "data": {
            "text/html": [
              "<span style=\"color:#4527A0\"><h1 style=\"font-size:18px\">Trial complete</h1></span>"
            ],
            "text/plain": [
              "<IPython.core.display.HTML object>"
            ]
          },
          "metadata": {
            "tags": []
          }
        },
        {
          "output_type": "display_data",
          "data": {
            "text/html": [
              "<span style=\"color:#4527A0\"><h1 style=\"font-size:18px\">Trial summary</h1></span>"
            ],
            "text/plain": [
              "<IPython.core.display.HTML object>"
            ]
          },
          "metadata": {
            "tags": []
          }
        },
        {
          "output_type": "display_data",
          "data": {
            "text/html": [
              "<span style=\"color:cyan\"> |-Trial ID: cacabd7b20b9f92c33b0ada288a12fb2</span>"
            ],
            "text/plain": [
              "<IPython.core.display.HTML object>"
            ]
          },
          "metadata": {
            "tags": []
          }
        },
        {
          "output_type": "display_data",
          "data": {
            "text/html": [
              "<span style=\"color:cyan\"> |-Score: 0.08291362598538399</span>"
            ],
            "text/plain": [
              "<IPython.core.display.HTML object>"
            ]
          },
          "metadata": {
            "tags": []
          }
        },
        {
          "output_type": "display_data",
          "data": {
            "text/html": [
              "<span style=\"color:cyan\"> |-Best step: 0</span>"
            ],
            "text/plain": [
              "<IPython.core.display.HTML object>"
            ]
          },
          "metadata": {
            "tags": []
          }
        },
        {
          "output_type": "display_data",
          "data": {
            "text/html": [
              "<span style=\"color:#7E57C2\"><h2 style=\"font-size:16px\">Hyperparameters:</h2></span>"
            ],
            "text/plain": [
              "<IPython.core.display.HTML object>"
            ]
          },
          "metadata": {
            "tags": []
          }
        },
        {
          "output_type": "display_data",
          "data": {
            "text/html": [
              "<span style=\"color:cyan\"> |-dense_0: 96</span>"
            ],
            "text/plain": [
              "<IPython.core.display.HTML object>"
            ]
          },
          "metadata": {
            "tags": []
          }
        },
        {
          "output_type": "display_data",
          "data": {
            "text/html": [
              "<span style=\"color:blue\"> |-dense_1: 96</span>"
            ],
            "text/plain": [
              "<IPython.core.display.HTML object>"
            ]
          },
          "metadata": {
            "tags": []
          }
        },
        {
          "output_type": "display_data",
          "data": {
            "text/html": [
              "<span style=\"color:cyan\"> |-dense_2: 96</span>"
            ],
            "text/plain": [
              "<IPython.core.display.HTML object>"
            ]
          },
          "metadata": {
            "tags": []
          }
        },
        {
          "output_type": "display_data",
          "data": {
            "text/html": [
              "<span style=\"color:blue\"> |-dense_input: 64</span>"
            ],
            "text/plain": [
              "<IPython.core.display.HTML object>"
            ]
          },
          "metadata": {
            "tags": []
          }
        },
        {
          "output_type": "display_data",
          "data": {
            "text/html": [
              "<span style=\"color:cyan\"> |-drop_0: 0.1</span>"
            ],
            "text/plain": [
              "<IPython.core.display.HTML object>"
            ]
          },
          "metadata": {
            "tags": []
          }
        },
        {
          "output_type": "display_data",
          "data": {
            "text/html": [
              "<span style=\"color:blue\"> |-drop_1: 0.30000000000000004</span>"
            ],
            "text/plain": [
              "<IPython.core.display.HTML object>"
            ]
          },
          "metadata": {
            "tags": []
          }
        },
        {
          "output_type": "display_data",
          "data": {
            "text/html": [
              "<span style=\"color:cyan\"> |-drop_2: 0.1</span>"
            ],
            "text/plain": [
              "<IPython.core.display.HTML object>"
            ]
          },
          "metadata": {
            "tags": []
          }
        },
        {
          "output_type": "display_data",
          "data": {
            "text/html": [
              "<span style=\"color:blue\"> |-drop_input: 0.1</span>"
            ],
            "text/plain": [
              "<IPython.core.display.HTML object>"
            ]
          },
          "metadata": {
            "tags": []
          }
        },
        {
          "output_type": "display_data",
          "data": {
            "text/html": [
              "<span style=\"color:cyan\"> |-lr: 0.004098638142173078</span>"
            ],
            "text/plain": [
              "<IPython.core.display.HTML object>"
            ]
          },
          "metadata": {
            "tags": []
          }
        },
        {
          "output_type": "display_data",
          "data": {
            "text/html": [
              "<span style=\"color:blue\"> |-num_intermediate_layers: 1</span>"
            ],
            "text/plain": [
              "<IPython.core.display.HTML object>"
            ]
          },
          "metadata": {
            "tags": []
          }
        },
        {
          "output_type": "display_data",
          "data": {
            "text/html": [
              "<span style=\"color:cyan\"> |-tuner/bracket: 0</span>"
            ],
            "text/plain": [
              "<IPython.core.display.HTML object>"
            ]
          },
          "metadata": {
            "tags": []
          }
        },
        {
          "output_type": "display_data",
          "data": {
            "text/html": [
              "<span style=\"color:blue\"> |-tuner/epochs: 50</span>"
            ],
            "text/plain": [
              "<IPython.core.display.HTML object>"
            ]
          },
          "metadata": {
            "tags": []
          }
        },
        {
          "output_type": "display_data",
          "data": {
            "text/html": [
              "<span style=\"color:cyan\"> |-tuner/initial_epoch: 0</span>"
            ],
            "text/plain": [
              "<IPython.core.display.HTML object>"
            ]
          },
          "metadata": {
            "tags": []
          }
        },
        {
          "output_type": "display_data",
          "data": {
            "text/html": [
              "<span style=\"color:blue\"> |-tuner/round: 0</span>"
            ],
            "text/plain": [
              "<IPython.core.display.HTML object>"
            ]
          },
          "metadata": {
            "tags": []
          }
        },
        {
          "output_type": "stream",
          "text": [
            "Epoch 1/50\n",
            "13/13 [==============================] - 0s 37ms/step - loss: 1.4373 - mae: 0.9172 - val_loss: 0.0490 - val_mae: 0.1679\n",
            "Epoch 2/50\n",
            "13/13 [==============================] - 0s 15ms/step - loss: 0.6551 - mae: 0.6256 - val_loss: 0.0362 - val_mae: 0.1384\n",
            "Epoch 3/50\n",
            "13/13 [==============================] - 0s 13ms/step - loss: 0.6697 - mae: 0.6382 - val_loss: 0.0558 - val_mae: 0.1832\n",
            "Epoch 4/50\n",
            "13/13 [==============================] - 0s 14ms/step - loss: 0.4920 - mae: 0.5222 - val_loss: 0.0436 - val_mae: 0.1567\n",
            "Epoch 5/50\n",
            "13/13 [==============================] - 0s 13ms/step - loss: 0.3953 - mae: 0.4729 - val_loss: 0.0440 - val_mae: 0.1568\n",
            "Epoch 6/50\n",
            "13/13 [==============================] - 0s 14ms/step - loss: 0.4269 - mae: 0.4941 - val_loss: 0.0371 - val_mae: 0.1407\n",
            "Epoch 7/50\n",
            "13/13 [==============================] - 0s 12ms/step - loss: 0.4507 - mae: 0.4848 - val_loss: 0.0549 - val_mae: 0.1820\n",
            "Epoch 1/50\n",
            "13/13 [==============================] - 1s 46ms/step - loss: 1.4451 - mae: 0.9102 - val_loss: 0.0658 - val_mae: 0.2010\n",
            "Epoch 2/50\n",
            "13/13 [==============================] - 0s 17ms/step - loss: 0.8945 - mae: 0.7395 - val_loss: 0.0341 - val_mae: 0.1338\n",
            "Epoch 3/50\n",
            "13/13 [==============================] - 0s 14ms/step - loss: 0.4966 - mae: 0.5672 - val_loss: 0.0377 - val_mae: 0.1404\n",
            "Epoch 4/50\n",
            "13/13 [==============================] - 0s 12ms/step - loss: 0.5861 - mae: 0.5797 - val_loss: 0.0426 - val_mae: 0.1477\n",
            "Epoch 5/50\n",
            "13/13 [==============================] - 0s 12ms/step - loss: 0.4742 - mae: 0.5292 - val_loss: 0.0394 - val_mae: 0.1457\n",
            "Epoch 6/50\n",
            "13/13 [==============================] - 0s 13ms/step - loss: 0.4309 - mae: 0.5061 - val_loss: 0.0373 - val_mae: 0.1447\n",
            "Epoch 7/50\n",
            "13/13 [==============================] - 0s 13ms/step - loss: 0.4237 - mae: 0.4931 - val_loss: 0.0412 - val_mae: 0.1502\n"
          ],
          "name": "stdout"
        },
        {
          "output_type": "display_data",
          "data": {
            "text/html": [
              "<span style=\"color:#4527A0\"><h1 style=\"font-size:18px\">Trial complete</h1></span>"
            ],
            "text/plain": [
              "<IPython.core.display.HTML object>"
            ]
          },
          "metadata": {
            "tags": []
          }
        },
        {
          "output_type": "display_data",
          "data": {
            "text/html": [
              "<span style=\"color:#4527A0\"><h1 style=\"font-size:18px\">Trial summary</h1></span>"
            ],
            "text/plain": [
              "<IPython.core.display.HTML object>"
            ]
          },
          "metadata": {
            "tags": []
          }
        },
        {
          "output_type": "display_data",
          "data": {
            "text/html": [
              "<span style=\"color:cyan\"> |-Trial ID: b7ab9f0082875db561eb56dd4e673ef4</span>"
            ],
            "text/plain": [
              "<IPython.core.display.HTML object>"
            ]
          },
          "metadata": {
            "tags": []
          }
        },
        {
          "output_type": "display_data",
          "data": {
            "text/html": [
              "<span style=\"color:cyan\"> |-Score: 0.13611696660518646</span>"
            ],
            "text/plain": [
              "<IPython.core.display.HTML object>"
            ]
          },
          "metadata": {
            "tags": []
          }
        },
        {
          "output_type": "display_data",
          "data": {
            "text/html": [
              "<span style=\"color:cyan\"> |-Best step: 0</span>"
            ],
            "text/plain": [
              "<IPython.core.display.HTML object>"
            ]
          },
          "metadata": {
            "tags": []
          }
        },
        {
          "output_type": "display_data",
          "data": {
            "text/html": [
              "<span style=\"color:#7E57C2\"><h2 style=\"font-size:16px\">Hyperparameters:</h2></span>"
            ],
            "text/plain": [
              "<IPython.core.display.HTML object>"
            ]
          },
          "metadata": {
            "tags": []
          }
        },
        {
          "output_type": "display_data",
          "data": {
            "text/html": [
              "<span style=\"color:cyan\"> |-dense_0: 32</span>"
            ],
            "text/plain": [
              "<IPython.core.display.HTML object>"
            ]
          },
          "metadata": {
            "tags": []
          }
        },
        {
          "output_type": "display_data",
          "data": {
            "text/html": [
              "<span style=\"color:blue\"> |-dense_1: 64</span>"
            ],
            "text/plain": [
              "<IPython.core.display.HTML object>"
            ]
          },
          "metadata": {
            "tags": []
          }
        },
        {
          "output_type": "display_data",
          "data": {
            "text/html": [
              "<span style=\"color:cyan\"> |-dense_2: 96</span>"
            ],
            "text/plain": [
              "<IPython.core.display.HTML object>"
            ]
          },
          "metadata": {
            "tags": []
          }
        },
        {
          "output_type": "display_data",
          "data": {
            "text/html": [
              "<span style=\"color:blue\"> |-dense_input: 64</span>"
            ],
            "text/plain": [
              "<IPython.core.display.HTML object>"
            ]
          },
          "metadata": {
            "tags": []
          }
        },
        {
          "output_type": "display_data",
          "data": {
            "text/html": [
              "<span style=\"color:cyan\"> |-drop_0: 0.2</span>"
            ],
            "text/plain": [
              "<IPython.core.display.HTML object>"
            ]
          },
          "metadata": {
            "tags": []
          }
        },
        {
          "output_type": "display_data",
          "data": {
            "text/html": [
              "<span style=\"color:blue\"> |-drop_1: 0.30000000000000004</span>"
            ],
            "text/plain": [
              "<IPython.core.display.HTML object>"
            ]
          },
          "metadata": {
            "tags": []
          }
        },
        {
          "output_type": "display_data",
          "data": {
            "text/html": [
              "<span style=\"color:cyan\"> |-drop_2: 0.2</span>"
            ],
            "text/plain": [
              "<IPython.core.display.HTML object>"
            ]
          },
          "metadata": {
            "tags": []
          }
        },
        {
          "output_type": "display_data",
          "data": {
            "text/html": [
              "<span style=\"color:blue\"> |-drop_input: 0.30000000000000004</span>"
            ],
            "text/plain": [
              "<IPython.core.display.HTML object>"
            ]
          },
          "metadata": {
            "tags": []
          }
        },
        {
          "output_type": "display_data",
          "data": {
            "text/html": [
              "<span style=\"color:cyan\"> |-lr: 0.0019114599061487375</span>"
            ],
            "text/plain": [
              "<IPython.core.display.HTML object>"
            ]
          },
          "metadata": {
            "tags": []
          }
        },
        {
          "output_type": "display_data",
          "data": {
            "text/html": [
              "<span style=\"color:blue\"> |-num_intermediate_layers: 3</span>"
            ],
            "text/plain": [
              "<IPython.core.display.HTML object>"
            ]
          },
          "metadata": {
            "tags": []
          }
        },
        {
          "output_type": "display_data",
          "data": {
            "text/html": [
              "<span style=\"color:cyan\"> |-tuner/bracket: 0</span>"
            ],
            "text/plain": [
              "<IPython.core.display.HTML object>"
            ]
          },
          "metadata": {
            "tags": []
          }
        },
        {
          "output_type": "display_data",
          "data": {
            "text/html": [
              "<span style=\"color:blue\"> |-tuner/epochs: 50</span>"
            ],
            "text/plain": [
              "<IPython.core.display.HTML object>"
            ]
          },
          "metadata": {
            "tags": []
          }
        },
        {
          "output_type": "display_data",
          "data": {
            "text/html": [
              "<span style=\"color:cyan\"> |-tuner/initial_epoch: 0</span>"
            ],
            "text/plain": [
              "<IPython.core.display.HTML object>"
            ]
          },
          "metadata": {
            "tags": []
          }
        },
        {
          "output_type": "display_data",
          "data": {
            "text/html": [
              "<span style=\"color:blue\"> |-tuner/round: 0</span>"
            ],
            "text/plain": [
              "<IPython.core.display.HTML object>"
            ]
          },
          "metadata": {
            "tags": []
          }
        },
        {
          "output_type": "stream",
          "text": [
            "INFO:tensorflow:Oracle triggered exit\n"
          ],
          "name": "stdout"
        }
      ]
    },
    {
      "cell_type": "code",
      "metadata": {
        "id": "7nNPqdyZ7GXj",
        "colab_type": "code",
        "colab": {
          "base_uri": "https://localhost:8080/",
          "height": 1000
        },
        "outputId": "f0ca94a8-4f4d-4af5-e2de-ebd1d68b7edd"
      },
      "source": [
        "# tuning summary\n",
        "print(tuner.results_summary())"
      ],
      "execution_count": 48,
      "outputs": [
        {
          "output_type": "display_data",
          "data": {
            "text/html": [
              "<span style=\"color:#4527A0\"><h1 style=\"font-size:18px\">Results summary</h1></span>"
            ],
            "text/plain": [
              "<IPython.core.display.HTML object>"
            ]
          },
          "metadata": {
            "tags": []
          }
        },
        {
          "output_type": "display_data",
          "data": {
            "text/html": [
              "<span style=\"color:cyan\"> |-Results in ./hb_tuning</span>"
            ],
            "text/plain": [
              "<IPython.core.display.HTML object>"
            ]
          },
          "metadata": {
            "tags": []
          }
        },
        {
          "output_type": "display_data",
          "data": {
            "text/html": [
              "<span style=\"color:cyan\"> |-Showing 10 best trials</span>"
            ],
            "text/plain": [
              "<IPython.core.display.HTML object>"
            ]
          },
          "metadata": {
            "tags": []
          }
        },
        {
          "output_type": "display_data",
          "data": {
            "text/html": [
              "<span style=\"color:cyan\"> |-Objective(name='val_mae', direction='min')</span>"
            ],
            "text/plain": [
              "<IPython.core.display.HTML object>"
            ]
          },
          "metadata": {
            "tags": []
          }
        },
        {
          "output_type": "display_data",
          "data": {
            "text/html": [
              "<span style=\"color:#4527A0\"><h1 style=\"font-size:18px\">Trial summary</h1></span>"
            ],
            "text/plain": [
              "<IPython.core.display.HTML object>"
            ]
          },
          "metadata": {
            "tags": []
          }
        },
        {
          "output_type": "display_data",
          "data": {
            "text/html": [
              "<span style=\"color:cyan\"> |-Trial ID: 52687fd80274d888683ab2479bab6814</span>"
            ],
            "text/plain": [
              "<IPython.core.display.HTML object>"
            ]
          },
          "metadata": {
            "tags": []
          }
        },
        {
          "output_type": "display_data",
          "data": {
            "text/html": [
              "<span style=\"color:cyan\"> |-Score: 0.07348094508051872</span>"
            ],
            "text/plain": [
              "<IPython.core.display.HTML object>"
            ]
          },
          "metadata": {
            "tags": []
          }
        },
        {
          "output_type": "display_data",
          "data": {
            "text/html": [
              "<span style=\"color:cyan\"> |-Best step: 0</span>"
            ],
            "text/plain": [
              "<IPython.core.display.HTML object>"
            ]
          },
          "metadata": {
            "tags": []
          }
        },
        {
          "output_type": "display_data",
          "data": {
            "text/html": [
              "<span style=\"color:#7E57C2\"><h2 style=\"font-size:16px\">Hyperparameters:</h2></span>"
            ],
            "text/plain": [
              "<IPython.core.display.HTML object>"
            ]
          },
          "metadata": {
            "tags": []
          }
        },
        {
          "output_type": "display_data",
          "data": {
            "text/html": [
              "<span style=\"color:cyan\"> |-dense_0: 32</span>"
            ],
            "text/plain": [
              "<IPython.core.display.HTML object>"
            ]
          },
          "metadata": {
            "tags": []
          }
        },
        {
          "output_type": "display_data",
          "data": {
            "text/html": [
              "<span style=\"color:blue\"> |-dense_1: 96</span>"
            ],
            "text/plain": [
              "<IPython.core.display.HTML object>"
            ]
          },
          "metadata": {
            "tags": []
          }
        },
        {
          "output_type": "display_data",
          "data": {
            "text/html": [
              "<span style=\"color:cyan\"> |-dense_2: 96</span>"
            ],
            "text/plain": [
              "<IPython.core.display.HTML object>"
            ]
          },
          "metadata": {
            "tags": []
          }
        },
        {
          "output_type": "display_data",
          "data": {
            "text/html": [
              "<span style=\"color:blue\"> |-dense_input: 96</span>"
            ],
            "text/plain": [
              "<IPython.core.display.HTML object>"
            ]
          },
          "metadata": {
            "tags": []
          }
        },
        {
          "output_type": "display_data",
          "data": {
            "text/html": [
              "<span style=\"color:cyan\"> |-drop_0: 0.1</span>"
            ],
            "text/plain": [
              "<IPython.core.display.HTML object>"
            ]
          },
          "metadata": {
            "tags": []
          }
        },
        {
          "output_type": "display_data",
          "data": {
            "text/html": [
              "<span style=\"color:blue\"> |-drop_1: 0.0</span>"
            ],
            "text/plain": [
              "<IPython.core.display.HTML object>"
            ]
          },
          "metadata": {
            "tags": []
          }
        },
        {
          "output_type": "display_data",
          "data": {
            "text/html": [
              "<span style=\"color:cyan\"> |-drop_2: 0.1</span>"
            ],
            "text/plain": [
              "<IPython.core.display.HTML object>"
            ]
          },
          "metadata": {
            "tags": []
          }
        },
        {
          "output_type": "display_data",
          "data": {
            "text/html": [
              "<span style=\"color:blue\"> |-drop_input: 0.2</span>"
            ],
            "text/plain": [
              "<IPython.core.display.HTML object>"
            ]
          },
          "metadata": {
            "tags": []
          }
        },
        {
          "output_type": "display_data",
          "data": {
            "text/html": [
              "<span style=\"color:cyan\"> |-lr: 0.00031870586096736475</span>"
            ],
            "text/plain": [
              "<IPython.core.display.HTML object>"
            ]
          },
          "metadata": {
            "tags": []
          }
        },
        {
          "output_type": "display_data",
          "data": {
            "text/html": [
              "<span style=\"color:blue\"> |-num_intermediate_layers: 2</span>"
            ],
            "text/plain": [
              "<IPython.core.display.HTML object>"
            ]
          },
          "metadata": {
            "tags": []
          }
        },
        {
          "output_type": "display_data",
          "data": {
            "text/html": [
              "<span style=\"color:cyan\"> |-tuner/bracket: 0</span>"
            ],
            "text/plain": [
              "<IPython.core.display.HTML object>"
            ]
          },
          "metadata": {
            "tags": []
          }
        },
        {
          "output_type": "display_data",
          "data": {
            "text/html": [
              "<span style=\"color:blue\"> |-tuner/epochs: 50</span>"
            ],
            "text/plain": [
              "<IPython.core.display.HTML object>"
            ]
          },
          "metadata": {
            "tags": []
          }
        },
        {
          "output_type": "display_data",
          "data": {
            "text/html": [
              "<span style=\"color:cyan\"> |-tuner/initial_epoch: 0</span>"
            ],
            "text/plain": [
              "<IPython.core.display.HTML object>"
            ]
          },
          "metadata": {
            "tags": []
          }
        },
        {
          "output_type": "display_data",
          "data": {
            "text/html": [
              "<span style=\"color:blue\"> |-tuner/round: 0</span>"
            ],
            "text/plain": [
              "<IPython.core.display.HTML object>"
            ]
          },
          "metadata": {
            "tags": []
          }
        },
        {
          "output_type": "display_data",
          "data": {
            "text/html": [
              "<span style=\"color:#4527A0\"><h1 style=\"font-size:18px\">Trial summary</h1></span>"
            ],
            "text/plain": [
              "<IPython.core.display.HTML object>"
            ]
          },
          "metadata": {
            "tags": []
          }
        },
        {
          "output_type": "display_data",
          "data": {
            "text/html": [
              "<span style=\"color:cyan\"> |-Trial ID: cacabd7b20b9f92c33b0ada288a12fb2</span>"
            ],
            "text/plain": [
              "<IPython.core.display.HTML object>"
            ]
          },
          "metadata": {
            "tags": []
          }
        },
        {
          "output_type": "display_data",
          "data": {
            "text/html": [
              "<span style=\"color:cyan\"> |-Score: 0.08291362598538399</span>"
            ],
            "text/plain": [
              "<IPython.core.display.HTML object>"
            ]
          },
          "metadata": {
            "tags": []
          }
        },
        {
          "output_type": "display_data",
          "data": {
            "text/html": [
              "<span style=\"color:cyan\"> |-Best step: 0</span>"
            ],
            "text/plain": [
              "<IPython.core.display.HTML object>"
            ]
          },
          "metadata": {
            "tags": []
          }
        },
        {
          "output_type": "display_data",
          "data": {
            "text/html": [
              "<span style=\"color:#7E57C2\"><h2 style=\"font-size:16px\">Hyperparameters:</h2></span>"
            ],
            "text/plain": [
              "<IPython.core.display.HTML object>"
            ]
          },
          "metadata": {
            "tags": []
          }
        },
        {
          "output_type": "display_data",
          "data": {
            "text/html": [
              "<span style=\"color:cyan\"> |-dense_0: 96</span>"
            ],
            "text/plain": [
              "<IPython.core.display.HTML object>"
            ]
          },
          "metadata": {
            "tags": []
          }
        },
        {
          "output_type": "display_data",
          "data": {
            "text/html": [
              "<span style=\"color:blue\"> |-dense_1: 96</span>"
            ],
            "text/plain": [
              "<IPython.core.display.HTML object>"
            ]
          },
          "metadata": {
            "tags": []
          }
        },
        {
          "output_type": "display_data",
          "data": {
            "text/html": [
              "<span style=\"color:cyan\"> |-dense_2: 96</span>"
            ],
            "text/plain": [
              "<IPython.core.display.HTML object>"
            ]
          },
          "metadata": {
            "tags": []
          }
        },
        {
          "output_type": "display_data",
          "data": {
            "text/html": [
              "<span style=\"color:blue\"> |-dense_input: 64</span>"
            ],
            "text/plain": [
              "<IPython.core.display.HTML object>"
            ]
          },
          "metadata": {
            "tags": []
          }
        },
        {
          "output_type": "display_data",
          "data": {
            "text/html": [
              "<span style=\"color:cyan\"> |-drop_0: 0.1</span>"
            ],
            "text/plain": [
              "<IPython.core.display.HTML object>"
            ]
          },
          "metadata": {
            "tags": []
          }
        },
        {
          "output_type": "display_data",
          "data": {
            "text/html": [
              "<span style=\"color:blue\"> |-drop_1: 0.30000000000000004</span>"
            ],
            "text/plain": [
              "<IPython.core.display.HTML object>"
            ]
          },
          "metadata": {
            "tags": []
          }
        },
        {
          "output_type": "display_data",
          "data": {
            "text/html": [
              "<span style=\"color:cyan\"> |-drop_2: 0.1</span>"
            ],
            "text/plain": [
              "<IPython.core.display.HTML object>"
            ]
          },
          "metadata": {
            "tags": []
          }
        },
        {
          "output_type": "display_data",
          "data": {
            "text/html": [
              "<span style=\"color:blue\"> |-drop_input: 0.1</span>"
            ],
            "text/plain": [
              "<IPython.core.display.HTML object>"
            ]
          },
          "metadata": {
            "tags": []
          }
        },
        {
          "output_type": "display_data",
          "data": {
            "text/html": [
              "<span style=\"color:cyan\"> |-lr: 0.004098638142173078</span>"
            ],
            "text/plain": [
              "<IPython.core.display.HTML object>"
            ]
          },
          "metadata": {
            "tags": []
          }
        },
        {
          "output_type": "display_data",
          "data": {
            "text/html": [
              "<span style=\"color:blue\"> |-num_intermediate_layers: 1</span>"
            ],
            "text/plain": [
              "<IPython.core.display.HTML object>"
            ]
          },
          "metadata": {
            "tags": []
          }
        },
        {
          "output_type": "display_data",
          "data": {
            "text/html": [
              "<span style=\"color:cyan\"> |-tuner/bracket: 0</span>"
            ],
            "text/plain": [
              "<IPython.core.display.HTML object>"
            ]
          },
          "metadata": {
            "tags": []
          }
        },
        {
          "output_type": "display_data",
          "data": {
            "text/html": [
              "<span style=\"color:blue\"> |-tuner/epochs: 50</span>"
            ],
            "text/plain": [
              "<IPython.core.display.HTML object>"
            ]
          },
          "metadata": {
            "tags": []
          }
        },
        {
          "output_type": "display_data",
          "data": {
            "text/html": [
              "<span style=\"color:cyan\"> |-tuner/initial_epoch: 0</span>"
            ],
            "text/plain": [
              "<IPython.core.display.HTML object>"
            ]
          },
          "metadata": {
            "tags": []
          }
        },
        {
          "output_type": "display_data",
          "data": {
            "text/html": [
              "<span style=\"color:blue\"> |-tuner/round: 0</span>"
            ],
            "text/plain": [
              "<IPython.core.display.HTML object>"
            ]
          },
          "metadata": {
            "tags": []
          }
        },
        {
          "output_type": "display_data",
          "data": {
            "text/html": [
              "<span style=\"color:#4527A0\"><h1 style=\"font-size:18px\">Trial summary</h1></span>"
            ],
            "text/plain": [
              "<IPython.core.display.HTML object>"
            ]
          },
          "metadata": {
            "tags": []
          }
        },
        {
          "output_type": "display_data",
          "data": {
            "text/html": [
              "<span style=\"color:cyan\"> |-Trial ID: 2da4d601fbe76007d9afbf21418003c0</span>"
            ],
            "text/plain": [
              "<IPython.core.display.HTML object>"
            ]
          },
          "metadata": {
            "tags": []
          }
        },
        {
          "output_type": "display_data",
          "data": {
            "text/html": [
              "<span style=\"color:cyan\"> |-Score: 0.08974235132336617</span>"
            ],
            "text/plain": [
              "<IPython.core.display.HTML object>"
            ]
          },
          "metadata": {
            "tags": []
          }
        },
        {
          "output_type": "display_data",
          "data": {
            "text/html": [
              "<span style=\"color:cyan\"> |-Best step: 0</span>"
            ],
            "text/plain": [
              "<IPython.core.display.HTML object>"
            ]
          },
          "metadata": {
            "tags": []
          }
        },
        {
          "output_type": "display_data",
          "data": {
            "text/html": [
              "<span style=\"color:#7E57C2\"><h2 style=\"font-size:16px\">Hyperparameters:</h2></span>"
            ],
            "text/plain": [
              "<IPython.core.display.HTML object>"
            ]
          },
          "metadata": {
            "tags": []
          }
        },
        {
          "output_type": "display_data",
          "data": {
            "text/html": [
              "<span style=\"color:cyan\"> |-dense_0: 32</span>"
            ],
            "text/plain": [
              "<IPython.core.display.HTML object>"
            ]
          },
          "metadata": {
            "tags": []
          }
        },
        {
          "output_type": "display_data",
          "data": {
            "text/html": [
              "<span style=\"color:blue\"> |-dense_1: 128</span>"
            ],
            "text/plain": [
              "<IPython.core.display.HTML object>"
            ]
          },
          "metadata": {
            "tags": []
          }
        },
        {
          "output_type": "display_data",
          "data": {
            "text/html": [
              "<span style=\"color:cyan\"> |-dense_2: 96</span>"
            ],
            "text/plain": [
              "<IPython.core.display.HTML object>"
            ]
          },
          "metadata": {
            "tags": []
          }
        },
        {
          "output_type": "display_data",
          "data": {
            "text/html": [
              "<span style=\"color:blue\"> |-dense_input: 64</span>"
            ],
            "text/plain": [
              "<IPython.core.display.HTML object>"
            ]
          },
          "metadata": {
            "tags": []
          }
        },
        {
          "output_type": "display_data",
          "data": {
            "text/html": [
              "<span style=\"color:cyan\"> |-drop_0: 0.0</span>"
            ],
            "text/plain": [
              "<IPython.core.display.HTML object>"
            ]
          },
          "metadata": {
            "tags": []
          }
        },
        {
          "output_type": "display_data",
          "data": {
            "text/html": [
              "<span style=\"color:blue\"> |-drop_1: 0.2</span>"
            ],
            "text/plain": [
              "<IPython.core.display.HTML object>"
            ]
          },
          "metadata": {
            "tags": []
          }
        },
        {
          "output_type": "display_data",
          "data": {
            "text/html": [
              "<span style=\"color:cyan\"> |-drop_2: 0.0</span>"
            ],
            "text/plain": [
              "<IPython.core.display.HTML object>"
            ]
          },
          "metadata": {
            "tags": []
          }
        },
        {
          "output_type": "display_data",
          "data": {
            "text/html": [
              "<span style=\"color:blue\"> |-drop_input: 0.2</span>"
            ],
            "text/plain": [
              "<IPython.core.display.HTML object>"
            ]
          },
          "metadata": {
            "tags": []
          }
        },
        {
          "output_type": "display_data",
          "data": {
            "text/html": [
              "<span style=\"color:cyan\"> |-lr: 0.003776783176468784</span>"
            ],
            "text/plain": [
              "<IPython.core.display.HTML object>"
            ]
          },
          "metadata": {
            "tags": []
          }
        },
        {
          "output_type": "display_data",
          "data": {
            "text/html": [
              "<span style=\"color:blue\"> |-num_intermediate_layers: 3</span>"
            ],
            "text/plain": [
              "<IPython.core.display.HTML object>"
            ]
          },
          "metadata": {
            "tags": []
          }
        },
        {
          "output_type": "display_data",
          "data": {
            "text/html": [
              "<span style=\"color:cyan\"> |-tuner/bracket: 1</span>"
            ],
            "text/plain": [
              "<IPython.core.display.HTML object>"
            ]
          },
          "metadata": {
            "tags": []
          }
        },
        {
          "output_type": "display_data",
          "data": {
            "text/html": [
              "<span style=\"color:blue\"> |-tuner/epochs: 50</span>"
            ],
            "text/plain": [
              "<IPython.core.display.HTML object>"
            ]
          },
          "metadata": {
            "tags": []
          }
        },
        {
          "output_type": "display_data",
          "data": {
            "text/html": [
              "<span style=\"color:cyan\"> |-tuner/initial_epoch: 17</span>"
            ],
            "text/plain": [
              "<IPython.core.display.HTML object>"
            ]
          },
          "metadata": {
            "tags": []
          }
        },
        {
          "output_type": "display_data",
          "data": {
            "text/html": [
              "<span style=\"color:blue\"> |-tuner/round: 1</span>"
            ],
            "text/plain": [
              "<IPython.core.display.HTML object>"
            ]
          },
          "metadata": {
            "tags": []
          }
        },
        {
          "output_type": "display_data",
          "data": {
            "text/html": [
              "<span style=\"color:cyan\"> |-tuner/trial_id: 27600e270672793d00fa68b1139033a2</span>"
            ],
            "text/plain": [
              "<IPython.core.display.HTML object>"
            ]
          },
          "metadata": {
            "tags": []
          }
        },
        {
          "output_type": "display_data",
          "data": {
            "text/html": [
              "<span style=\"color:#4527A0\"><h1 style=\"font-size:18px\">Trial summary</h1></span>"
            ],
            "text/plain": [
              "<IPython.core.display.HTML object>"
            ]
          },
          "metadata": {
            "tags": []
          }
        },
        {
          "output_type": "display_data",
          "data": {
            "text/html": [
              "<span style=\"color:cyan\"> |-Trial ID: 735ad9acc8034498a5012d390f257efb</span>"
            ],
            "text/plain": [
              "<IPython.core.display.HTML object>"
            ]
          },
          "metadata": {
            "tags": []
          }
        },
        {
          "output_type": "display_data",
          "data": {
            "text/html": [
              "<span style=\"color:cyan\"> |-Score: 0.09564497694373131</span>"
            ],
            "text/plain": [
              "<IPython.core.display.HTML object>"
            ]
          },
          "metadata": {
            "tags": []
          }
        },
        {
          "output_type": "display_data",
          "data": {
            "text/html": [
              "<span style=\"color:cyan\"> |-Best step: 0</span>"
            ],
            "text/plain": [
              "<IPython.core.display.HTML object>"
            ]
          },
          "metadata": {
            "tags": []
          }
        },
        {
          "output_type": "display_data",
          "data": {
            "text/html": [
              "<span style=\"color:#7E57C2\"><h2 style=\"font-size:16px\">Hyperparameters:</h2></span>"
            ],
            "text/plain": [
              "<IPython.core.display.HTML object>"
            ]
          },
          "metadata": {
            "tags": []
          }
        },
        {
          "output_type": "display_data",
          "data": {
            "text/html": [
              "<span style=\"color:cyan\"> |-dense_0: 64</span>"
            ],
            "text/plain": [
              "<IPython.core.display.HTML object>"
            ]
          },
          "metadata": {
            "tags": []
          }
        },
        {
          "output_type": "display_data",
          "data": {
            "text/html": [
              "<span style=\"color:blue\"> |-dense_1: 64</span>"
            ],
            "text/plain": [
              "<IPython.core.display.HTML object>"
            ]
          },
          "metadata": {
            "tags": []
          }
        },
        {
          "output_type": "display_data",
          "data": {
            "text/html": [
              "<span style=\"color:cyan\"> |-dense_2: 32</span>"
            ],
            "text/plain": [
              "<IPython.core.display.HTML object>"
            ]
          },
          "metadata": {
            "tags": []
          }
        },
        {
          "output_type": "display_data",
          "data": {
            "text/html": [
              "<span style=\"color:blue\"> |-dense_input: 32</span>"
            ],
            "text/plain": [
              "<IPython.core.display.HTML object>"
            ]
          },
          "metadata": {
            "tags": []
          }
        },
        {
          "output_type": "display_data",
          "data": {
            "text/html": [
              "<span style=\"color:cyan\"> |-drop_0: 0.0</span>"
            ],
            "text/plain": [
              "<IPython.core.display.HTML object>"
            ]
          },
          "metadata": {
            "tags": []
          }
        },
        {
          "output_type": "display_data",
          "data": {
            "text/html": [
              "<span style=\"color:blue\"> |-drop_1: 0.0</span>"
            ],
            "text/plain": [
              "<IPython.core.display.HTML object>"
            ]
          },
          "metadata": {
            "tags": []
          }
        },
        {
          "output_type": "display_data",
          "data": {
            "text/html": [
              "<span style=\"color:cyan\"> |-drop_2: 0.0</span>"
            ],
            "text/plain": [
              "<IPython.core.display.HTML object>"
            ]
          },
          "metadata": {
            "tags": []
          }
        },
        {
          "output_type": "display_data",
          "data": {
            "text/html": [
              "<span style=\"color:blue\"> |-drop_input: 0.2</span>"
            ],
            "text/plain": [
              "<IPython.core.display.HTML object>"
            ]
          },
          "metadata": {
            "tags": []
          }
        },
        {
          "output_type": "display_data",
          "data": {
            "text/html": [
              "<span style=\"color:cyan\"> |-lr: 0.008079775183819825</span>"
            ],
            "text/plain": [
              "<IPython.core.display.HTML object>"
            ]
          },
          "metadata": {
            "tags": []
          }
        },
        {
          "output_type": "display_data",
          "data": {
            "text/html": [
              "<span style=\"color:blue\"> |-num_intermediate_layers: 3</span>"
            ],
            "text/plain": [
              "<IPython.core.display.HTML object>"
            ]
          },
          "metadata": {
            "tags": []
          }
        },
        {
          "output_type": "display_data",
          "data": {
            "text/html": [
              "<span style=\"color:cyan\"> |-tuner/bracket: 3</span>"
            ],
            "text/plain": [
              "<IPython.core.display.HTML object>"
            ]
          },
          "metadata": {
            "tags": []
          }
        },
        {
          "output_type": "display_data",
          "data": {
            "text/html": [
              "<span style=\"color:blue\"> |-tuner/epochs: 50</span>"
            ],
            "text/plain": [
              "<IPython.core.display.HTML object>"
            ]
          },
          "metadata": {
            "tags": []
          }
        },
        {
          "output_type": "display_data",
          "data": {
            "text/html": [
              "<span style=\"color:cyan\"> |-tuner/initial_epoch: 17</span>"
            ],
            "text/plain": [
              "<IPython.core.display.HTML object>"
            ]
          },
          "metadata": {
            "tags": []
          }
        },
        {
          "output_type": "display_data",
          "data": {
            "text/html": [
              "<span style=\"color:blue\"> |-tuner/round: 3</span>"
            ],
            "text/plain": [
              "<IPython.core.display.HTML object>"
            ]
          },
          "metadata": {
            "tags": []
          }
        },
        {
          "output_type": "display_data",
          "data": {
            "text/html": [
              "<span style=\"color:cyan\"> |-tuner/trial_id: 9acce973dc88d56400cd15c32252748c</span>"
            ],
            "text/plain": [
              "<IPython.core.display.HTML object>"
            ]
          },
          "metadata": {
            "tags": []
          }
        },
        {
          "output_type": "display_data",
          "data": {
            "text/html": [
              "<span style=\"color:#4527A0\"><h1 style=\"font-size:18px\">Trial summary</h1></span>"
            ],
            "text/plain": [
              "<IPython.core.display.HTML object>"
            ]
          },
          "metadata": {
            "tags": []
          }
        },
        {
          "output_type": "display_data",
          "data": {
            "text/html": [
              "<span style=\"color:cyan\"> |-Trial ID: 91808b963c27b16486d73423c793051a</span>"
            ],
            "text/plain": [
              "<IPython.core.display.HTML object>"
            ]
          },
          "metadata": {
            "tags": []
          }
        },
        {
          "output_type": "display_data",
          "data": {
            "text/html": [
              "<span style=\"color:cyan\"> |-Score: 0.10132704302668571</span>"
            ],
            "text/plain": [
              "<IPython.core.display.HTML object>"
            ]
          },
          "metadata": {
            "tags": []
          }
        },
        {
          "output_type": "display_data",
          "data": {
            "text/html": [
              "<span style=\"color:cyan\"> |-Best step: 0</span>"
            ],
            "text/plain": [
              "<IPython.core.display.HTML object>"
            ]
          },
          "metadata": {
            "tags": []
          }
        },
        {
          "output_type": "display_data",
          "data": {
            "text/html": [
              "<span style=\"color:#7E57C2\"><h2 style=\"font-size:16px\">Hyperparameters:</h2></span>"
            ],
            "text/plain": [
              "<IPython.core.display.HTML object>"
            ]
          },
          "metadata": {
            "tags": []
          }
        },
        {
          "output_type": "display_data",
          "data": {
            "text/html": [
              "<span style=\"color:cyan\"> |-dense_0: 96</span>"
            ],
            "text/plain": [
              "<IPython.core.display.HTML object>"
            ]
          },
          "metadata": {
            "tags": []
          }
        },
        {
          "output_type": "display_data",
          "data": {
            "text/html": [
              "<span style=\"color:blue\"> |-dense_1: 64</span>"
            ],
            "text/plain": [
              "<IPython.core.display.HTML object>"
            ]
          },
          "metadata": {
            "tags": []
          }
        },
        {
          "output_type": "display_data",
          "data": {
            "text/html": [
              "<span style=\"color:cyan\"> |-dense_2: 64</span>"
            ],
            "text/plain": [
              "<IPython.core.display.HTML object>"
            ]
          },
          "metadata": {
            "tags": []
          }
        },
        {
          "output_type": "display_data",
          "data": {
            "text/html": [
              "<span style=\"color:blue\"> |-dense_input: 64</span>"
            ],
            "text/plain": [
              "<IPython.core.display.HTML object>"
            ]
          },
          "metadata": {
            "tags": []
          }
        },
        {
          "output_type": "display_data",
          "data": {
            "text/html": [
              "<span style=\"color:cyan\"> |-drop_0: 0.2</span>"
            ],
            "text/plain": [
              "<IPython.core.display.HTML object>"
            ]
          },
          "metadata": {
            "tags": []
          }
        },
        {
          "output_type": "display_data",
          "data": {
            "text/html": [
              "<span style=\"color:blue\"> |-drop_1: 0.2</span>"
            ],
            "text/plain": [
              "<IPython.core.display.HTML object>"
            ]
          },
          "metadata": {
            "tags": []
          }
        },
        {
          "output_type": "display_data",
          "data": {
            "text/html": [
              "<span style=\"color:cyan\"> |-drop_2: 0.1</span>"
            ],
            "text/plain": [
              "<IPython.core.display.HTML object>"
            ]
          },
          "metadata": {
            "tags": []
          }
        },
        {
          "output_type": "display_data",
          "data": {
            "text/html": [
              "<span style=\"color:blue\"> |-drop_input: 0.1</span>"
            ],
            "text/plain": [
              "<IPython.core.display.HTML object>"
            ]
          },
          "metadata": {
            "tags": []
          }
        },
        {
          "output_type": "display_data",
          "data": {
            "text/html": [
              "<span style=\"color:cyan\"> |-lr: 0.00736437579965411</span>"
            ],
            "text/plain": [
              "<IPython.core.display.HTML object>"
            ]
          },
          "metadata": {
            "tags": []
          }
        },
        {
          "output_type": "display_data",
          "data": {
            "text/html": [
              "<span style=\"color:blue\"> |-num_intermediate_layers: 2</span>"
            ],
            "text/plain": [
              "<IPython.core.display.HTML object>"
            ]
          },
          "metadata": {
            "tags": []
          }
        },
        {
          "output_type": "display_data",
          "data": {
            "text/html": [
              "<span style=\"color:cyan\"> |-tuner/bracket: 2</span>"
            ],
            "text/plain": [
              "<IPython.core.display.HTML object>"
            ]
          },
          "metadata": {
            "tags": []
          }
        },
        {
          "output_type": "display_data",
          "data": {
            "text/html": [
              "<span style=\"color:blue\"> |-tuner/epochs: 50</span>"
            ],
            "text/plain": [
              "<IPython.core.display.HTML object>"
            ]
          },
          "metadata": {
            "tags": []
          }
        },
        {
          "output_type": "display_data",
          "data": {
            "text/html": [
              "<span style=\"color:cyan\"> |-tuner/initial_epoch: 17</span>"
            ],
            "text/plain": [
              "<IPython.core.display.HTML object>"
            ]
          },
          "metadata": {
            "tags": []
          }
        },
        {
          "output_type": "display_data",
          "data": {
            "text/html": [
              "<span style=\"color:blue\"> |-tuner/round: 2</span>"
            ],
            "text/plain": [
              "<IPython.core.display.HTML object>"
            ]
          },
          "metadata": {
            "tags": []
          }
        },
        {
          "output_type": "display_data",
          "data": {
            "text/html": [
              "<span style=\"color:cyan\"> |-tuner/trial_id: 41712cc8debb678daaef92aa29de1769</span>"
            ],
            "text/plain": [
              "<IPython.core.display.HTML object>"
            ]
          },
          "metadata": {
            "tags": []
          }
        },
        {
          "output_type": "display_data",
          "data": {
            "text/html": [
              "<span style=\"color:#4527A0\"><h1 style=\"font-size:18px\">Trial summary</h1></span>"
            ],
            "text/plain": [
              "<IPython.core.display.HTML object>"
            ]
          },
          "metadata": {
            "tags": []
          }
        },
        {
          "output_type": "display_data",
          "data": {
            "text/html": [
              "<span style=\"color:cyan\"> |-Trial ID: a54e1b24bd4f3f0350d4a0269e68bc2f</span>"
            ],
            "text/plain": [
              "<IPython.core.display.HTML object>"
            ]
          },
          "metadata": {
            "tags": []
          }
        },
        {
          "output_type": "display_data",
          "data": {
            "text/html": [
              "<span style=\"color:cyan\"> |-Score: 0.11157998070120811</span>"
            ],
            "text/plain": [
              "<IPython.core.display.HTML object>"
            ]
          },
          "metadata": {
            "tags": []
          }
        },
        {
          "output_type": "display_data",
          "data": {
            "text/html": [
              "<span style=\"color:cyan\"> |-Best step: 0</span>"
            ],
            "text/plain": [
              "<IPython.core.display.HTML object>"
            ]
          },
          "metadata": {
            "tags": []
          }
        },
        {
          "output_type": "display_data",
          "data": {
            "text/html": [
              "<span style=\"color:#7E57C2\"><h2 style=\"font-size:16px\">Hyperparameters:</h2></span>"
            ],
            "text/plain": [
              "<IPython.core.display.HTML object>"
            ]
          },
          "metadata": {
            "tags": []
          }
        },
        {
          "output_type": "display_data",
          "data": {
            "text/html": [
              "<span style=\"color:cyan\"> |-dense_0: 128</span>"
            ],
            "text/plain": [
              "<IPython.core.display.HTML object>"
            ]
          },
          "metadata": {
            "tags": []
          }
        },
        {
          "output_type": "display_data",
          "data": {
            "text/html": [
              "<span style=\"color:blue\"> |-dense_1: 96</span>"
            ],
            "text/plain": [
              "<IPython.core.display.HTML object>"
            ]
          },
          "metadata": {
            "tags": []
          }
        },
        {
          "output_type": "display_data",
          "data": {
            "text/html": [
              "<span style=\"color:cyan\"> |-dense_2: 128</span>"
            ],
            "text/plain": [
              "<IPython.core.display.HTML object>"
            ]
          },
          "metadata": {
            "tags": []
          }
        },
        {
          "output_type": "display_data",
          "data": {
            "text/html": [
              "<span style=\"color:blue\"> |-dense_input: 32</span>"
            ],
            "text/plain": [
              "<IPython.core.display.HTML object>"
            ]
          },
          "metadata": {
            "tags": []
          }
        },
        {
          "output_type": "display_data",
          "data": {
            "text/html": [
              "<span style=\"color:cyan\"> |-drop_0: 0.30000000000000004</span>"
            ],
            "text/plain": [
              "<IPython.core.display.HTML object>"
            ]
          },
          "metadata": {
            "tags": []
          }
        },
        {
          "output_type": "display_data",
          "data": {
            "text/html": [
              "<span style=\"color:blue\"> |-drop_1: 0.0</span>"
            ],
            "text/plain": [
              "<IPython.core.display.HTML object>"
            ]
          },
          "metadata": {
            "tags": []
          }
        },
        {
          "output_type": "display_data",
          "data": {
            "text/html": [
              "<span style=\"color:cyan\"> |-drop_2: 0.1</span>"
            ],
            "text/plain": [
              "<IPython.core.display.HTML object>"
            ]
          },
          "metadata": {
            "tags": []
          }
        },
        {
          "output_type": "display_data",
          "data": {
            "text/html": [
              "<span style=\"color:blue\"> |-drop_input: 0.30000000000000004</span>"
            ],
            "text/plain": [
              "<IPython.core.display.HTML object>"
            ]
          },
          "metadata": {
            "tags": []
          }
        },
        {
          "output_type": "display_data",
          "data": {
            "text/html": [
              "<span style=\"color:cyan\"> |-lr: 0.00024650798442793145</span>"
            ],
            "text/plain": [
              "<IPython.core.display.HTML object>"
            ]
          },
          "metadata": {
            "tags": []
          }
        },
        {
          "output_type": "display_data",
          "data": {
            "text/html": [
              "<span style=\"color:blue\"> |-num_intermediate_layers: 1</span>"
            ],
            "text/plain": [
              "<IPython.core.display.HTML object>"
            ]
          },
          "metadata": {
            "tags": []
          }
        },
        {
          "output_type": "display_data",
          "data": {
            "text/html": [
              "<span style=\"color:cyan\"> |-tuner/bracket: 0</span>"
            ],
            "text/plain": [
              "<IPython.core.display.HTML object>"
            ]
          },
          "metadata": {
            "tags": []
          }
        },
        {
          "output_type": "display_data",
          "data": {
            "text/html": [
              "<span style=\"color:blue\"> |-tuner/epochs: 50</span>"
            ],
            "text/plain": [
              "<IPython.core.display.HTML object>"
            ]
          },
          "metadata": {
            "tags": []
          }
        },
        {
          "output_type": "display_data",
          "data": {
            "text/html": [
              "<span style=\"color:cyan\"> |-tuner/initial_epoch: 0</span>"
            ],
            "text/plain": [
              "<IPython.core.display.HTML object>"
            ]
          },
          "metadata": {
            "tags": []
          }
        },
        {
          "output_type": "display_data",
          "data": {
            "text/html": [
              "<span style=\"color:blue\"> |-tuner/round: 0</span>"
            ],
            "text/plain": [
              "<IPython.core.display.HTML object>"
            ]
          },
          "metadata": {
            "tags": []
          }
        },
        {
          "output_type": "display_data",
          "data": {
            "text/html": [
              "<span style=\"color:#4527A0\"><h1 style=\"font-size:18px\">Trial summary</h1></span>"
            ],
            "text/plain": [
              "<IPython.core.display.HTML object>"
            ]
          },
          "metadata": {
            "tags": []
          }
        },
        {
          "output_type": "display_data",
          "data": {
            "text/html": [
              "<span style=\"color:cyan\"> |-Trial ID: 46e889fac3343d55565b3098be2ee560</span>"
            ],
            "text/plain": [
              "<IPython.core.display.HTML object>"
            ]
          },
          "metadata": {
            "tags": []
          }
        },
        {
          "output_type": "display_data",
          "data": {
            "text/html": [
              "<span style=\"color:cyan\"> |-Score: 0.11220898106694221</span>"
            ],
            "text/plain": [
              "<IPython.core.display.HTML object>"
            ]
          },
          "metadata": {
            "tags": []
          }
        },
        {
          "output_type": "display_data",
          "data": {
            "text/html": [
              "<span style=\"color:cyan\"> |-Best step: 0</span>"
            ],
            "text/plain": [
              "<IPython.core.display.HTML object>"
            ]
          },
          "metadata": {
            "tags": []
          }
        },
        {
          "output_type": "display_data",
          "data": {
            "text/html": [
              "<span style=\"color:#7E57C2\"><h2 style=\"font-size:16px\">Hyperparameters:</h2></span>"
            ],
            "text/plain": [
              "<IPython.core.display.HTML object>"
            ]
          },
          "metadata": {
            "tags": []
          }
        },
        {
          "output_type": "display_data",
          "data": {
            "text/html": [
              "<span style=\"color:cyan\"> |-dense_0: 64</span>"
            ],
            "text/plain": [
              "<IPython.core.display.HTML object>"
            ]
          },
          "metadata": {
            "tags": []
          }
        },
        {
          "output_type": "display_data",
          "data": {
            "text/html": [
              "<span style=\"color:blue\"> |-dense_1: 64</span>"
            ],
            "text/plain": [
              "<IPython.core.display.HTML object>"
            ]
          },
          "metadata": {
            "tags": []
          }
        },
        {
          "output_type": "display_data",
          "data": {
            "text/html": [
              "<span style=\"color:cyan\"> |-dense_2: 96</span>"
            ],
            "text/plain": [
              "<IPython.core.display.HTML object>"
            ]
          },
          "metadata": {
            "tags": []
          }
        },
        {
          "output_type": "display_data",
          "data": {
            "text/html": [
              "<span style=\"color:blue\"> |-dense_input: 64</span>"
            ],
            "text/plain": [
              "<IPython.core.display.HTML object>"
            ]
          },
          "metadata": {
            "tags": []
          }
        },
        {
          "output_type": "display_data",
          "data": {
            "text/html": [
              "<span style=\"color:cyan\"> |-drop_0: 0.30000000000000004</span>"
            ],
            "text/plain": [
              "<IPython.core.display.HTML object>"
            ]
          },
          "metadata": {
            "tags": []
          }
        },
        {
          "output_type": "display_data",
          "data": {
            "text/html": [
              "<span style=\"color:blue\"> |-drop_1: 0.1</span>"
            ],
            "text/plain": [
              "<IPython.core.display.HTML object>"
            ]
          },
          "metadata": {
            "tags": []
          }
        },
        {
          "output_type": "display_data",
          "data": {
            "text/html": [
              "<span style=\"color:cyan\"> |-drop_2: 0.2</span>"
            ],
            "text/plain": [
              "<IPython.core.display.HTML object>"
            ]
          },
          "metadata": {
            "tags": []
          }
        },
        {
          "output_type": "display_data",
          "data": {
            "text/html": [
              "<span style=\"color:blue\"> |-drop_input: 0.0</span>"
            ],
            "text/plain": [
              "<IPython.core.display.HTML object>"
            ]
          },
          "metadata": {
            "tags": []
          }
        },
        {
          "output_type": "display_data",
          "data": {
            "text/html": [
              "<span style=\"color:cyan\"> |-lr: 0.001778812677537875</span>"
            ],
            "text/plain": [
              "<IPython.core.display.HTML object>"
            ]
          },
          "metadata": {
            "tags": []
          }
        },
        {
          "output_type": "display_data",
          "data": {
            "text/html": [
              "<span style=\"color:blue\"> |-num_intermediate_layers: 2</span>"
            ],
            "text/plain": [
              "<IPython.core.display.HTML object>"
            ]
          },
          "metadata": {
            "tags": []
          }
        },
        {
          "output_type": "display_data",
          "data": {
            "text/html": [
              "<span style=\"color:cyan\"> |-tuner/bracket: 1</span>"
            ],
            "text/plain": [
              "<IPython.core.display.HTML object>"
            ]
          },
          "metadata": {
            "tags": []
          }
        },
        {
          "output_type": "display_data",
          "data": {
            "text/html": [
              "<span style=\"color:blue\"> |-tuner/epochs: 17</span>"
            ],
            "text/plain": [
              "<IPython.core.display.HTML object>"
            ]
          },
          "metadata": {
            "tags": []
          }
        },
        {
          "output_type": "display_data",
          "data": {
            "text/html": [
              "<span style=\"color:cyan\"> |-tuner/initial_epoch: 0</span>"
            ],
            "text/plain": [
              "<IPython.core.display.HTML object>"
            ]
          },
          "metadata": {
            "tags": []
          }
        },
        {
          "output_type": "display_data",
          "data": {
            "text/html": [
              "<span style=\"color:blue\"> |-tuner/round: 0</span>"
            ],
            "text/plain": [
              "<IPython.core.display.HTML object>"
            ]
          },
          "metadata": {
            "tags": []
          }
        },
        {
          "output_type": "display_data",
          "data": {
            "text/html": [
              "<span style=\"color:#4527A0\"><h1 style=\"font-size:18px\">Trial summary</h1></span>"
            ],
            "text/plain": [
              "<IPython.core.display.HTML object>"
            ]
          },
          "metadata": {
            "tags": []
          }
        },
        {
          "output_type": "display_data",
          "data": {
            "text/html": [
              "<span style=\"color:cyan\"> |-Trial ID: 724a5bf8918db0fb35fca9b481abc6a2</span>"
            ],
            "text/plain": [
              "<IPython.core.display.HTML object>"
            ]
          },
          "metadata": {
            "tags": []
          }
        },
        {
          "output_type": "display_data",
          "data": {
            "text/html": [
              "<span style=\"color:cyan\"> |-Score: 0.11365900933742523</span>"
            ],
            "text/plain": [
              "<IPython.core.display.HTML object>"
            ]
          },
          "metadata": {
            "tags": []
          }
        },
        {
          "output_type": "display_data",
          "data": {
            "text/html": [
              "<span style=\"color:cyan\"> |-Best step: 0</span>"
            ],
            "text/plain": [
              "<IPython.core.display.HTML object>"
            ]
          },
          "metadata": {
            "tags": []
          }
        },
        {
          "output_type": "display_data",
          "data": {
            "text/html": [
              "<span style=\"color:#7E57C2\"><h2 style=\"font-size:16px\">Hyperparameters:</h2></span>"
            ],
            "text/plain": [
              "<IPython.core.display.HTML object>"
            ]
          },
          "metadata": {
            "tags": []
          }
        },
        {
          "output_type": "display_data",
          "data": {
            "text/html": [
              "<span style=\"color:cyan\"> |-dense_0: 64</span>"
            ],
            "text/plain": [
              "<IPython.core.display.HTML object>"
            ]
          },
          "metadata": {
            "tags": []
          }
        },
        {
          "output_type": "display_data",
          "data": {
            "text/html": [
              "<span style=\"color:blue\"> |-dense_1: 64</span>"
            ],
            "text/plain": [
              "<IPython.core.display.HTML object>"
            ]
          },
          "metadata": {
            "tags": []
          }
        },
        {
          "output_type": "display_data",
          "data": {
            "text/html": [
              "<span style=\"color:cyan\"> |-dense_2: 32</span>"
            ],
            "text/plain": [
              "<IPython.core.display.HTML object>"
            ]
          },
          "metadata": {
            "tags": []
          }
        },
        {
          "output_type": "display_data",
          "data": {
            "text/html": [
              "<span style=\"color:blue\"> |-dense_input: 64</span>"
            ],
            "text/plain": [
              "<IPython.core.display.HTML object>"
            ]
          },
          "metadata": {
            "tags": []
          }
        },
        {
          "output_type": "display_data",
          "data": {
            "text/html": [
              "<span style=\"color:cyan\"> |-drop_0: 0.0</span>"
            ],
            "text/plain": [
              "<IPython.core.display.HTML object>"
            ]
          },
          "metadata": {
            "tags": []
          }
        },
        {
          "output_type": "display_data",
          "data": {
            "text/html": [
              "<span style=\"color:blue\"> |-drop_1: 0.1</span>"
            ],
            "text/plain": [
              "<IPython.core.display.HTML object>"
            ]
          },
          "metadata": {
            "tags": []
          }
        },
        {
          "output_type": "display_data",
          "data": {
            "text/html": [
              "<span style=\"color:cyan\"> |-drop_2: 0.2</span>"
            ],
            "text/plain": [
              "<IPython.core.display.HTML object>"
            ]
          },
          "metadata": {
            "tags": []
          }
        },
        {
          "output_type": "display_data",
          "data": {
            "text/html": [
              "<span style=\"color:blue\"> |-drop_input: 0.2</span>"
            ],
            "text/plain": [
              "<IPython.core.display.HTML object>"
            ]
          },
          "metadata": {
            "tags": []
          }
        },
        {
          "output_type": "display_data",
          "data": {
            "text/html": [
              "<span style=\"color:cyan\"> |-lr: 0.00431019016344334</span>"
            ],
            "text/plain": [
              "<IPython.core.display.HTML object>"
            ]
          },
          "metadata": {
            "tags": []
          }
        },
        {
          "output_type": "display_data",
          "data": {
            "text/html": [
              "<span style=\"color:blue\"> |-num_intermediate_layers: 2</span>"
            ],
            "text/plain": [
              "<IPython.core.display.HTML object>"
            ]
          },
          "metadata": {
            "tags": []
          }
        },
        {
          "output_type": "display_data",
          "data": {
            "text/html": [
              "<span style=\"color:cyan\"> |-tuner/bracket: 3</span>"
            ],
            "text/plain": [
              "<IPython.core.display.HTML object>"
            ]
          },
          "metadata": {
            "tags": []
          }
        },
        {
          "output_type": "display_data",
          "data": {
            "text/html": [
              "<span style=\"color:blue\"> |-tuner/epochs: 17</span>"
            ],
            "text/plain": [
              "<IPython.core.display.HTML object>"
            ]
          },
          "metadata": {
            "tags": []
          }
        },
        {
          "output_type": "display_data",
          "data": {
            "text/html": [
              "<span style=\"color:cyan\"> |-tuner/initial_epoch: 6</span>"
            ],
            "text/plain": [
              "<IPython.core.display.HTML object>"
            ]
          },
          "metadata": {
            "tags": []
          }
        },
        {
          "output_type": "display_data",
          "data": {
            "text/html": [
              "<span style=\"color:blue\"> |-tuner/round: 2</span>"
            ],
            "text/plain": [
              "<IPython.core.display.HTML object>"
            ]
          },
          "metadata": {
            "tags": []
          }
        },
        {
          "output_type": "display_data",
          "data": {
            "text/html": [
              "<span style=\"color:cyan\"> |-tuner/trial_id: 5f5c327eeefa49d541c8ad961892df55</span>"
            ],
            "text/plain": [
              "<IPython.core.display.HTML object>"
            ]
          },
          "metadata": {
            "tags": []
          }
        },
        {
          "output_type": "display_data",
          "data": {
            "text/html": [
              "<span style=\"color:#4527A0\"><h1 style=\"font-size:18px\">Trial summary</h1></span>"
            ],
            "text/plain": [
              "<IPython.core.display.HTML object>"
            ]
          },
          "metadata": {
            "tags": []
          }
        },
        {
          "output_type": "display_data",
          "data": {
            "text/html": [
              "<span style=\"color:cyan\"> |-Trial ID: 0f6018c094bf430c4feba6ff9b405cc9</span>"
            ],
            "text/plain": [
              "<IPython.core.display.HTML object>"
            ]
          },
          "metadata": {
            "tags": []
          }
        },
        {
          "output_type": "display_data",
          "data": {
            "text/html": [
              "<span style=\"color:cyan\"> |-Score: 0.11386702209711075</span>"
            ],
            "text/plain": [
              "<IPython.core.display.HTML object>"
            ]
          },
          "metadata": {
            "tags": []
          }
        },
        {
          "output_type": "display_data",
          "data": {
            "text/html": [
              "<span style=\"color:cyan\"> |-Best step: 0</span>"
            ],
            "text/plain": [
              "<IPython.core.display.HTML object>"
            ]
          },
          "metadata": {
            "tags": []
          }
        },
        {
          "output_type": "display_data",
          "data": {
            "text/html": [
              "<span style=\"color:#7E57C2\"><h2 style=\"font-size:16px\">Hyperparameters:</h2></span>"
            ],
            "text/plain": [
              "<IPython.core.display.HTML object>"
            ]
          },
          "metadata": {
            "tags": []
          }
        },
        {
          "output_type": "display_data",
          "data": {
            "text/html": [
              "<span style=\"color:cyan\"> |-dense_0: 64</span>"
            ],
            "text/plain": [
              "<IPython.core.display.HTML object>"
            ]
          },
          "metadata": {
            "tags": []
          }
        },
        {
          "output_type": "display_data",
          "data": {
            "text/html": [
              "<span style=\"color:blue\"> |-dense_1: 96</span>"
            ],
            "text/plain": [
              "<IPython.core.display.HTML object>"
            ]
          },
          "metadata": {
            "tags": []
          }
        },
        {
          "output_type": "display_data",
          "data": {
            "text/html": [
              "<span style=\"color:cyan\"> |-dense_2: 64</span>"
            ],
            "text/plain": [
              "<IPython.core.display.HTML object>"
            ]
          },
          "metadata": {
            "tags": []
          }
        },
        {
          "output_type": "display_data",
          "data": {
            "text/html": [
              "<span style=\"color:blue\"> |-dense_input: 64</span>"
            ],
            "text/plain": [
              "<IPython.core.display.HTML object>"
            ]
          },
          "metadata": {
            "tags": []
          }
        },
        {
          "output_type": "display_data",
          "data": {
            "text/html": [
              "<span style=\"color:cyan\"> |-drop_0: 0.1</span>"
            ],
            "text/plain": [
              "<IPython.core.display.HTML object>"
            ]
          },
          "metadata": {
            "tags": []
          }
        },
        {
          "output_type": "display_data",
          "data": {
            "text/html": [
              "<span style=\"color:blue\"> |-drop_1: 0.0</span>"
            ],
            "text/plain": [
              "<IPython.core.display.HTML object>"
            ]
          },
          "metadata": {
            "tags": []
          }
        },
        {
          "output_type": "display_data",
          "data": {
            "text/html": [
              "<span style=\"color:cyan\"> |-drop_2: 0.1</span>"
            ],
            "text/plain": [
              "<IPython.core.display.HTML object>"
            ]
          },
          "metadata": {
            "tags": []
          }
        },
        {
          "output_type": "display_data",
          "data": {
            "text/html": [
              "<span style=\"color:blue\"> |-drop_input: 0.1</span>"
            ],
            "text/plain": [
              "<IPython.core.display.HTML object>"
            ]
          },
          "metadata": {
            "tags": []
          }
        },
        {
          "output_type": "display_data",
          "data": {
            "text/html": [
              "<span style=\"color:cyan\"> |-lr: 0.009958174438236598</span>"
            ],
            "text/plain": [
              "<IPython.core.display.HTML object>"
            ]
          },
          "metadata": {
            "tags": []
          }
        },
        {
          "output_type": "display_data",
          "data": {
            "text/html": [
              "<span style=\"color:blue\"> |-num_intermediate_layers: 2</span>"
            ],
            "text/plain": [
              "<IPython.core.display.HTML object>"
            ]
          },
          "metadata": {
            "tags": []
          }
        },
        {
          "output_type": "display_data",
          "data": {
            "text/html": [
              "<span style=\"color:cyan\"> |-tuner/bracket: 2</span>"
            ],
            "text/plain": [
              "<IPython.core.display.HTML object>"
            ]
          },
          "metadata": {
            "tags": []
          }
        },
        {
          "output_type": "display_data",
          "data": {
            "text/html": [
              "<span style=\"color:blue\"> |-tuner/epochs: 50</span>"
            ],
            "text/plain": [
              "<IPython.core.display.HTML object>"
            ]
          },
          "metadata": {
            "tags": []
          }
        },
        {
          "output_type": "display_data",
          "data": {
            "text/html": [
              "<span style=\"color:cyan\"> |-tuner/initial_epoch: 17</span>"
            ],
            "text/plain": [
              "<IPython.core.display.HTML object>"
            ]
          },
          "metadata": {
            "tags": []
          }
        },
        {
          "output_type": "display_data",
          "data": {
            "text/html": [
              "<span style=\"color:blue\"> |-tuner/round: 2</span>"
            ],
            "text/plain": [
              "<IPython.core.display.HTML object>"
            ]
          },
          "metadata": {
            "tags": []
          }
        },
        {
          "output_type": "display_data",
          "data": {
            "text/html": [
              "<span style=\"color:cyan\"> |-tuner/trial_id: f5ef22ff5784179be0c692924baca55e</span>"
            ],
            "text/plain": [
              "<IPython.core.display.HTML object>"
            ]
          },
          "metadata": {
            "tags": []
          }
        },
        {
          "output_type": "display_data",
          "data": {
            "text/html": [
              "<span style=\"color:#4527A0\"><h1 style=\"font-size:18px\">Trial summary</h1></span>"
            ],
            "text/plain": [
              "<IPython.core.display.HTML object>"
            ]
          },
          "metadata": {
            "tags": []
          }
        },
        {
          "output_type": "display_data",
          "data": {
            "text/html": [
              "<span style=\"color:cyan\"> |-Trial ID: 41958b4c9cc961d2c8f2d01e7feec314</span>"
            ],
            "text/plain": [
              "<IPython.core.display.HTML object>"
            ]
          },
          "metadata": {
            "tags": []
          }
        },
        {
          "output_type": "display_data",
          "data": {
            "text/html": [
              "<span style=\"color:cyan\"> |-Score: 0.117084089666605</span>"
            ],
            "text/plain": [
              "<IPython.core.display.HTML object>"
            ]
          },
          "metadata": {
            "tags": []
          }
        },
        {
          "output_type": "display_data",
          "data": {
            "text/html": [
              "<span style=\"color:cyan\"> |-Best step: 0</span>"
            ],
            "text/plain": [
              "<IPython.core.display.HTML object>"
            ]
          },
          "metadata": {
            "tags": []
          }
        },
        {
          "output_type": "display_data",
          "data": {
            "text/html": [
              "<span style=\"color:#7E57C2\"><h2 style=\"font-size:16px\">Hyperparameters:</h2></span>"
            ],
            "text/plain": [
              "<IPython.core.display.HTML object>"
            ]
          },
          "metadata": {
            "tags": []
          }
        },
        {
          "output_type": "display_data",
          "data": {
            "text/html": [
              "<span style=\"color:cyan\"> |-dense_0: 64</span>"
            ],
            "text/plain": [
              "<IPython.core.display.HTML object>"
            ]
          },
          "metadata": {
            "tags": []
          }
        },
        {
          "output_type": "display_data",
          "data": {
            "text/html": [
              "<span style=\"color:blue\"> |-dense_1: 64</span>"
            ],
            "text/plain": [
              "<IPython.core.display.HTML object>"
            ]
          },
          "metadata": {
            "tags": []
          }
        },
        {
          "output_type": "display_data",
          "data": {
            "text/html": [
              "<span style=\"color:cyan\"> |-dense_2: 32</span>"
            ],
            "text/plain": [
              "<IPython.core.display.HTML object>"
            ]
          },
          "metadata": {
            "tags": []
          }
        },
        {
          "output_type": "display_data",
          "data": {
            "text/html": [
              "<span style=\"color:blue\"> |-dense_input: 32</span>"
            ],
            "text/plain": [
              "<IPython.core.display.HTML object>"
            ]
          },
          "metadata": {
            "tags": []
          }
        },
        {
          "output_type": "display_data",
          "data": {
            "text/html": [
              "<span style=\"color:cyan\"> |-drop_0: 0.0</span>"
            ],
            "text/plain": [
              "<IPython.core.display.HTML object>"
            ]
          },
          "metadata": {
            "tags": []
          }
        },
        {
          "output_type": "display_data",
          "data": {
            "text/html": [
              "<span style=\"color:blue\"> |-drop_1: 0.0</span>"
            ],
            "text/plain": [
              "<IPython.core.display.HTML object>"
            ]
          },
          "metadata": {
            "tags": []
          }
        },
        {
          "output_type": "display_data",
          "data": {
            "text/html": [
              "<span style=\"color:cyan\"> |-drop_2: 0.0</span>"
            ],
            "text/plain": [
              "<IPython.core.display.HTML object>"
            ]
          },
          "metadata": {
            "tags": []
          }
        },
        {
          "output_type": "display_data",
          "data": {
            "text/html": [
              "<span style=\"color:blue\"> |-drop_input: 0.2</span>"
            ],
            "text/plain": [
              "<IPython.core.display.HTML object>"
            ]
          },
          "metadata": {
            "tags": []
          }
        },
        {
          "output_type": "display_data",
          "data": {
            "text/html": [
              "<span style=\"color:cyan\"> |-lr: 0.008079775183819825</span>"
            ],
            "text/plain": [
              "<IPython.core.display.HTML object>"
            ]
          },
          "metadata": {
            "tags": []
          }
        },
        {
          "output_type": "display_data",
          "data": {
            "text/html": [
              "<span style=\"color:blue\"> |-num_intermediate_layers: 3</span>"
            ],
            "text/plain": [
              "<IPython.core.display.HTML object>"
            ]
          },
          "metadata": {
            "tags": []
          }
        },
        {
          "output_type": "display_data",
          "data": {
            "text/html": [
              "<span style=\"color:cyan\"> |-tuner/bracket: 3</span>"
            ],
            "text/plain": [
              "<IPython.core.display.HTML object>"
            ]
          },
          "metadata": {
            "tags": []
          }
        },
        {
          "output_type": "display_data",
          "data": {
            "text/html": [
              "<span style=\"color:blue\"> |-tuner/epochs: 6</span>"
            ],
            "text/plain": [
              "<IPython.core.display.HTML object>"
            ]
          },
          "metadata": {
            "tags": []
          }
        },
        {
          "output_type": "display_data",
          "data": {
            "text/html": [
              "<span style=\"color:cyan\"> |-tuner/initial_epoch: 2</span>"
            ],
            "text/plain": [
              "<IPython.core.display.HTML object>"
            ]
          },
          "metadata": {
            "tags": []
          }
        },
        {
          "output_type": "display_data",
          "data": {
            "text/html": [
              "<span style=\"color:blue\"> |-tuner/round: 1</span>"
            ],
            "text/plain": [
              "<IPython.core.display.HTML object>"
            ]
          },
          "metadata": {
            "tags": []
          }
        },
        {
          "output_type": "display_data",
          "data": {
            "text/html": [
              "<span style=\"color:cyan\"> |-tuner/trial_id: d05b2e8b919bc9f5b4b3dc8015708cba</span>"
            ],
            "text/plain": [
              "<IPython.core.display.HTML object>"
            ]
          },
          "metadata": {
            "tags": []
          }
        },
        {
          "output_type": "stream",
          "text": [
            "None\n"
          ],
          "name": "stdout"
        }
      ]
    },
    {
      "cell_type": "code",
      "metadata": {
        "id": "xknnyFjTzY2n",
        "colab_type": "code",
        "colab": {
          "base_uri": "https://localhost:8080/",
          "height": 158
        },
        "outputId": "de625ca9-7403-4e59-eead-d3381bac8567"
      },
      "source": [
        "# best hyperparameter values \n",
        "best_hp = pd.DataFrame(tuner.get_best_hyperparameters()[0].values, index = [0])\n",
        "print(best_hp)"
      ],
      "execution_count": 49,
      "outputs": [
        {
          "output_type": "stream",
          "text": [
            "   dense_input  drop_input  num_intermediate_layers  dense_0  drop_0  \\\n",
            "0           96         0.2                        2       32     0.1   \n",
            "\n",
            "         lr  dense_1  drop_1  dense_2  drop_2  tuner/epochs  \\\n",
            "0  0.000319       96     0.0       96     0.1            50   \n",
            "\n",
            "   tuner/initial_epoch  tuner/bracket  tuner/round  \n",
            "0                    0              0            0  \n"
          ],
          "name": "stdout"
        }
      ]
    },
    {
      "cell_type": "code",
      "metadata": {
        "id": "Zrsa0tatzkJM",
        "colab_type": "code",
        "colab": {
          "base_uri": "https://localhost:8080/",
          "height": 567
        },
        "outputId": "4426c57b-db2d-48f8-c933-d8761db968e7"
      },
      "source": [
        "# best model\n",
        "best_model = tuner.get_best_models()[0]\n",
        "print(best_model.summary())"
      ],
      "execution_count": 50,
      "outputs": [
        {
          "output_type": "stream",
          "text": [
            "Model: \"sequential\"\n",
            "_________________________________________________________________\n",
            "Layer (type)                 Output Shape              Param #   \n",
            "=================================================================\n",
            "dense (Dense)                (None, 96)                1344      \n",
            "_________________________________________________________________\n",
            "batch_normalization (BatchNo (None, 96)                384       \n",
            "_________________________________________________________________\n",
            "activation (Activation)      (None, 96)                0         \n",
            "_________________________________________________________________\n",
            "dropout (Dropout)            (None, 96)                0         \n",
            "_________________________________________________________________\n",
            "dense_1 (Dense)              (None, 32)                3104      \n",
            "_________________________________________________________________\n",
            "batch_normalization_1 (Batch (None, 32)                128       \n",
            "_________________________________________________________________\n",
            "dropout_1 (Dropout)          (None, 32)                0         \n",
            "_________________________________________________________________\n",
            "dense_2 (Dense)              (None, 96)                3168      \n",
            "_________________________________________________________________\n",
            "batch_normalization_2 (Batch (None, 96)                384       \n",
            "_________________________________________________________________\n",
            "dropout_2 (Dropout)          (None, 96)                0         \n",
            "_________________________________________________________________\n",
            "dense_3 (Dense)              (None, 1)                 97        \n",
            "=================================================================\n",
            "Total params: 8,609\n",
            "Trainable params: 8,161\n",
            "Non-trainable params: 448\n",
            "_________________________________________________________________\n",
            "None\n"
          ],
          "name": "stdout"
        }
      ]
    },
    {
      "cell_type": "code",
      "metadata": {
        "id": "E_2tYzOdldyQ",
        "colab_type": "code",
        "colab": {}
      },
      "source": [
        "# save best model\n",
        "best_model.save(f'bh_model_{tuner_choice}.h5')"
      ],
      "execution_count": 51,
      "outputs": []
    },
    {
      "cell_type": "code",
      "metadata": {
        "id": "ftTB3RyMsFf7",
        "colab_type": "code",
        "colab": {
          "base_uri": "https://localhost:8080/",
          "height": 34
        },
        "outputId": "d3546104-8292-43b3-a176-edd055ba7777"
      },
      "source": [
        "# load best model (if not loaded)\n",
        "best_model = keras.models.load_model('bh_model_HB.h5')"
      ],
      "execution_count": 52,
      "outputs": [
        {
          "output_type": "stream",
          "text": [
            "WARNING:tensorflow:Error in loading the saved optimizer state. As a result, your model is starting with a freshly initialized optimizer.\n"
          ],
          "name": "stdout"
        }
      ]
    },
    {
      "cell_type": "code",
      "metadata": {
        "id": "rcOd4Ddgz1XH",
        "colab_type": "code",
        "colab": {
          "base_uri": "https://localhost:8080/",
          "height": 141
        },
        "outputId": "a4a81f70-46cc-46b9-8d63-3a8d99b06ffb"
      },
      "source": [
        "# predictions on test data\n",
        "# predictions are not rank-1 arrays\n",
        "# predictions to be flattened after inverse transformation\n",
        "preds = best_model.predict(x = X_test_array)\n",
        "print(type(preds), preds.shape)\n",
        "print(pd.DataFrame(preds).head())"
      ],
      "execution_count": 53,
      "outputs": [
        {
          "output_type": "stream",
          "text": [
            "<class 'numpy.ndarray'> (51, 1)\n",
            "          0\n",
            "0  0.698106\n",
            "1  0.489736\n",
            "2  0.369698\n",
            "3  0.683863\n",
            "4  0.290803\n"
          ],
          "name": "stdout"
        }
      ]
    },
    {
      "cell_type": "code",
      "metadata": {
        "id": "CGs_loilC22b",
        "colab_type": "code",
        "colab": {
          "base_uri": "https://localhost:8080/",
          "height": 34
        },
        "outputId": "277e1066-fb9b-4baa-d913-5a3d24e4064f"
      },
      "source": [
        "# unscale predictions and convert into rank-1 array\n",
        "preds_unscaled = np.array(scaler_y.inverse_transform(preds)).flatten()\n",
        "print(type(preds_unscaled), preds_unscaled.shape)"
      ],
      "execution_count": 54,
      "outputs": [
        {
          "output_type": "stream",
          "text": [
            "<class 'numpy.ndarray'> (51,)\n"
          ],
          "name": "stdout"
        }
      ]
    },
    {
      "cell_type": "code",
      "metadata": {
        "id": "nCOkGjtjGXv-",
        "colab_type": "code",
        "colab": {
          "base_uri": "https://localhost:8080/",
          "height": 230
        },
        "outputId": "07db5cc6-cab9-4f19-d7c8-2a88d670ed87"
      },
      "source": [
        "# compare unscaled predictions and actual values\n",
        "print(pd.DataFrame(preds_unscaled, columns = ['predictions']).head())\n",
        "print(pd.DataFrame(y_test, columns = ['actual_values']).head())"
      ],
      "execution_count": 55,
      "outputs": [
        {
          "output_type": "stream",
          "text": [
            "   predictions\n",
            "0    36.414768\n",
            "1    27.038111\n",
            "2    21.636400\n",
            "3    35.773830\n",
            "4    18.086123\n",
            "   actual_values\n",
            "0           43.1\n",
            "1           26.6\n",
            "2           20.5\n",
            "3           36.0\n",
            "4           19.8\n"
          ],
          "name": "stdout"
        }
      ]
    },
    {
      "cell_type": "code",
      "metadata": {
        "id": "5qzbmFZf1TPw",
        "colab_type": "code",
        "colab": {
          "base_uri": "https://localhost:8080/",
          "height": 52
        },
        "outputId": "4a850941-d3f1-4edb-a4a8-c2eaefa9fe71"
      },
      "source": [
        "# performance on test data\n",
        "mape = np.mean(np.abs((np.array(y_test) - np.array(preds_unscaled))/np.array(y_test))) * 100\n",
        "mae = np.mean(np.abs(np.array(y_test) - np.array(preds_unscaled)))\n",
        "print(f'mape = {mape} \\n', f'mae = {mae}')"
      ],
      "execution_count": 56,
      "outputs": [
        {
          "output_type": "stream",
          "text": [
            "mape = 14.957956681140017 \n",
            " mae = 2.833879139844109\n"
          ],
          "name": "stdout"
        }
      ]
    },
    {
      "cell_type": "code",
      "metadata": {
        "id": "w_s-WZIkeM9_",
        "colab_type": "code",
        "colab": {}
      },
      "source": [
        "# run tensorboard\n",
        "%tensorboard --logdir logs/BH"
      ],
      "execution_count": null,
      "outputs": []
    }
  ]
}