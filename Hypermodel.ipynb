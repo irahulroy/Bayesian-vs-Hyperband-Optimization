{
  "nbformat": 4,
  "nbformat_minor": 0,
  "metadata": {
    "colab": {
      "name": "Hypermodel.ipynb",
      "provenance": [],
      "collapsed_sections": [],
      "mount_file_id": "1u_x2PZpdp34fKevY54MDQgpVECpDGsqd",
      "authorship_tag": "ABX9TyPUUcShWEbdUFmmd5pRdoJj",
      "include_colab_link": true
    },
    "kernelspec": {
      "name": "python3",
      "display_name": "Python 3"
    }
  },
  "cells": [
    {
      "cell_type": "markdown",
      "metadata": {
        "id": "view-in-github",
        "colab_type": "text"
      },
      "source": [
        "<a href=\"https://colab.research.google.com/github/rahulroynit/Boston-housing/blob/master/Hypermodel.ipynb\" target=\"_parent\"><img src=\"https://colab.research.google.com/assets/colab-badge.svg\" alt=\"Open In Colab\"/></a>"
      ]
    },
    {
      "cell_type": "code",
      "metadata": {
        "id": "6zN3PmIwlGa3",
        "colab_type": "code",
        "colab": {}
      },
      "source": [
        "# class hypermodel \n",
        "# hypermodels make it reusable, customizable\n",
        "# in this hypermodel, we can build a simple vanilla network or stacked network\n",
        "class bh_regression(HypermModel):\n",
        "  def __init__(self, layer_depth, input_shape):\n",
        "    self.layer_depth = layer_depth\n",
        "    self.input_shape = input_shape\n",
        "\n",
        "  def build_model(self, hp):\n",
        "    model = Sequential()\n",
        "    if self.layer_depth == \"vanilla\":\n",
        "      model.add(Dense(units = hp.Int(\"dense\", min_value = 16, max_value = 128, step = 16), input_shape = self.input_shape))\n",
        "      model.add(BatchNormalization())\n",
        "      model.add(Activation(\"relu\"))\n",
        "      model.add(Dropout(hp.Float(\"dropout\", min_value = 0, max_value = 0.3, step = 0.01)))  \n",
        "    else:\n",
        "      model.add(Dense(units = hp.Int(\"dense_input\", min_value = 16, max_value = 128, step = 16), input_shape = self.input_shape))\n",
        "      model.add(BatchNormalization())\n",
        "      model.add(Activation(\"relu\")\n",
        "      model.add(Dropout(hp.Float(\"dropout_input\", min_value = 0, max_value = 0.3, step = 0.01)))\n",
        "      for i in range(hp.Int(\"num_additional_layers\", 1, 3)):\n",
        "        model.add(Dense(units = hp.Int(f\"dense_{i}\", min_value = 16, max_value = 128, step = 16)))\n",
        "        model.add(BatchNormalization())\n",
        "        model.add(Activation(\"relu\"))\n",
        "        model.add(Dropout(hp.Float(f\"dropout_{i}\", min_value = 0, max_value = 0.3, step = 0.01)))\n",
        "    model.add(Dense(1))\n",
        "    model.compile(optimizers = Adam(learning_rate = hp.Float(\"lr\", min_value = 0.0001, max_value = 0.01, default = 0.001,\n",
        "                                                               sampling = \"LOG\")), loss = \"mse\", metrics = [\"mae\"])\n",
        "    return(model)"
      ],
      "execution_count": null,
      "outputs": []
    },
    {
      "cell_type": "code",
      "metadata": {
        "id": "2DfRqPKRllsy",
        "colab_type": "code",
        "colab": {}
      },
      "source": [
        "# call hypermodel\n",
        "# pass arguments to hypemodel class as asked in __init__ method\n",
        "# pass this hypermodel to tuner during its initialization\n",
        "hypermodel = bh_regression(\"vanilla\", (X_train_array.shape[1],))"
      ],
      "execution_count": null,
      "outputs": []
    }
  ]
}